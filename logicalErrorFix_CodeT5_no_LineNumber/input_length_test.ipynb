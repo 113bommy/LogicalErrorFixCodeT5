{
 "cells": [
  {
   "cell_type": "code",
   "execution_count": 52,
   "metadata": {},
   "outputs": [],
   "source": [
    "from transformers import T5ForConditionalGeneration, RobertaTokenizer\n",
    "tokenizer = RobertaTokenizer.from_pretrained(\"Salesforce/codet5-base\")"
   ]
  },
  {
   "cell_type": "code",
   "execution_count": 53,
   "metadata": {},
   "outputs": [
    {
     "name": "stderr",
     "output_type": "stream",
     "text": [
      "Token indices sequence length is longer than the specified maximum sequence length for this model (659 > 512). Running this sequence through the model will result in indexing errors\n"
     ]
    }
   ],
   "source": [
    "import pandas as pd\n",
    "import re\n",
    "\n",
    "def read_cpp(file_path):\n",
    "    with open(file_path, 'r', encoding = 'utf-8') as file:\n",
    "        lines = [line.rstrip('\\n') for line in file]\n",
    "    \n",
    "    for index, single_code in enumerate(lines):\n",
    "            lines[index] = re.sub(r'^\\d+', '', single_code)\n",
    "            lines[index] = lines[index].split('\\t')[1]\n",
    "            lines[index] = tokenizer.encode(lines[index])\n",
    "\n",
    "    return lines\n",
    "\n",
    "code_raw = './model/cpp/checkpoint-best-bleu-CodeT5/test_0.gold'\n",
    "output_raw = './model/cpp/checkpoint-best-bleu-CodeT5/test_0.output'\n",
    "dev_gold_file = './model/cpp/dev-CodeT5.gold'\n",
    "dev_output_file = './model/cpp/dev-CodeT5.output'\n",
    "\n",
    "test_gold_line = read_cpp(code_raw)\n",
    "test_output_line = read_cpp(output_raw)\n",
    "\n",
    "dev_gold_line = read_cpp(dev_gold_file)\n",
    "dev_output_line = read_cpp(dev_output_file)"
   ]
  },
  {
   "cell_type": "code",
   "execution_count": 54,
   "metadata": {},
   "outputs": [],
   "source": [
    "test_gold = []\n",
    "test_output = []\n",
    "\n",
    "for index, value in enumerate(test_gold_line):\n",
    "    if len(value) >= 512:\n",
    "        test_gold.append([index, len(value)])\n",
    "\n",
    "for index, value in enumerate(test_output_line):\n",
    "    if len(value) >= 512:\n",
    "        test_output.append([index, len(value)])\n"
   ]
  },
  {
   "cell_type": "code",
   "execution_count": 55,
   "metadata": {},
   "outputs": [
    {
     "name": "stdout",
     "output_type": "stream",
     "text": [
      "[  4   5   7   8  11  12  13  14  15  16  17  18  19  20  21  22  34  35\n",
      "  36  38  51  58  59  60  62  68  69  76  79  81  88  89  90  91  92  93\n",
      "  95  97  98  99 101 102 103 104 107 109 110 111 114 115 116 133 140 147\n",
      " 148 149 158 159 160 161 162 178 182 183 185 188 193 194 195 196 197 204\n",
      " 211 222 223 224 225 226 227 228 236 237 238 239 240 254 258 259 260 266\n",
      " 267 271 272 274 276 281 282 283 284 285 288 300 301 302 307 308 309 310\n",
      " 311 312 313 327 330 337 342 343 347 348 350 352 357 364 367 373 374 382\n",
      " 383 384 385 388 389 390 391 396 397 398 399 400 403 404 405 406 408 411\n",
      " 416 417 418 422 431 432 433 434 435 436 437 438 439 440 441 442 443 444\n",
      " 460 464 470 477 488 492 493 499 500 501 513 521 528 529 532 533 534 535\n",
      " 536 537 538 539 541 546 550 556 557 558 560 563 564 565 566 567 568 569\n",
      " 570 584 593 594 595 596 597 599 604 606 608 610 611 612 613 614 615 616\n",
      " 619 623 624 625 626 627 643 644 646 651 656 657 658 659 660 661 662 676\n",
      " 679 681 683 685 686 692 696 697 698 702 703 709 710 711 716 717 719 720\n",
      " 721 726 727 731 732 733 735 736 755 757 758 764 766 773 777 778 780 782\n",
      " 783 784 785 787 789 790 791 795 807 808 809 810 812 813 814 819 820 822\n",
      " 823 824 829 830 834 835 836 838 839 857 859 860]\n",
      "[  4   5   7   8  11  12  13  14  15  16  17  19  20  21  22  34  36  38\n",
      "  51  58  59  60  62  68  69  76  79  81  88  89  90  91  92  93  98  99\n",
      " 101 103 104 107 109 110 111 114 115 116 133 140 147 148 149 158 159 160\n",
      " 161 162 178 183 185 188 193 194 195 196 197 204 211 222 223 224 225 226\n",
      " 227 228 236 237 238 239 240 254 259 260 266 267 271 274 276 281 282 283\n",
      " 284 285 288 300 301 302 307 308 309 311 312 313 327 330 337 342 343 347\n",
      " 350 352 357 367 373 374 382 383 384 385 388 389 391 396 397 398 399 400\n",
      " 403 404 405 406 408 411 416 417 418 422 431 432 433 434 435 436 437 438\n",
      " 439 440 441 442 443 444 460 464 470 477 488 492 493 499 500 501 513 521\n",
      " 528 529 532 533 535 536 537 538 539 541 546 550 556 557 558 563 564 565\n",
      " 566 567 568 569 570 584 593 594 595 596 597 604 606 608 610 611 612 613\n",
      " 614 615 616 619 623 624 625 626 627 643 644 646 651 656 657 658 659 660\n",
      " 662 676 679 681 683 685 686 692 696 697 698 702 703 709 711 716 717 721\n",
      " 726 727 731 732 733 735 736 755 757 758 766 773 777 778 780 782 783 785\n",
      " 787 789 790 791 795 807 808 809 810 812 814 819 820 824 829 830 834 835\n",
      " 836 838 839 857 859 860]\n",
      "[659 621 521 659 635 574 559 783 711 761]\n",
      "[512 512 512 512 513 512 512 512 513 514]\n",
      "300\n",
      "276\n"
     ]
    }
   ],
   "source": [
    "import numpy as np\n",
    "test_gold = np.array(test_gold)\n",
    "test_output = np.array(test_output)\n",
    "\n",
    "print(test_gold[:, 0])\n",
    "print(test_output[:, 0])\n",
    "print(test_gold[:10, 1])\n",
    "print(test_output[:10, 1])\n",
    "\n",
    "print(test_gold.shape[0])\n",
    "print(test_output.shape[0])"
   ]
  },
  {
   "cell_type": "code",
   "execution_count": 56,
   "metadata": {},
   "outputs": [],
   "source": [
    "dev_gold = []\n",
    "dev_output = []\n",
    "\n",
    "for index, value in enumerate(dev_gold_line):\n",
    "    if len(value) >= 512:\n",
    "        dev_gold.append([index, len(value)])\n",
    "\n",
    "for index, value in enumerate(dev_output_line):\n",
    "    if len(value) >= 512:\n",
    "        dev_output.append([index, len(value)])"
   ]
  },
  {
   "cell_type": "code",
   "execution_count": 57,
   "metadata": {},
   "outputs": [
    {
     "name": "stdout",
     "output_type": "stream",
     "text": [
      "dev gold index over 512 token length = [ 3  4  5  6 12 14 15 18 20 22 24 26 32 36 40 41 42 43 47 48 49]\n",
      "dev gold index over 512 token length = [ 1  4  5  8 12 14 15 18 20 22 24 26 32 36 39 40 41 42 43 45 47 48 49]\n",
      "dev gold tokens over 512 length \n",
      "[ 981  981  678  829  747  590  732  690  571 1000  794  611  553  594\n",
      "  789  624  589  733  617  644  929]\n",
      "dev output tokens over 512 length \n",
      "[ 740  650 1024  541  862 1024  881  746 1024  681 1042  911 1026  512\n",
      "  793  932  935 1024  671  577 1024 1024 1024]\n",
      "# dev gold examples over 512 tokens = 21\n",
      "# dev output examples over 512 tokens = 23\n"
     ]
    }
   ],
   "source": [
    "from IPython.display import HTML\n",
    "\n",
    "dev_gold = np.array(dev_gold)\n",
    "dev_output = np.array(dev_output)\n",
    "\n",
    "print(f'dev gold index over 512 token length = {dev_gold[:, 0]}')\n",
    "print(f'dev gold index over 512 token length = {dev_output[:, 0]}')\n",
    "\n",
    "print(f'dev gold tokens over 512 length \\n{dev_gold[:, 1]}')\n",
    "print(f'dev output tokens over 512 length \\n{dev_output[:, 1]}')\n",
    "\n",
    "print(f'# dev gold examples over 512 tokens = {dev_gold.shape[0]}')\n",
    "print(f'# dev output examples over 512 tokens = {dev_output.shape[0]}')"
   ]
  }
 ],
 "metadata": {
  "kernelspec": {
   "display_name": "coderepair",
   "language": "python",
   "name": "python3"
  },
  "language_info": {
   "codemirror_mode": {
    "name": "ipython",
    "version": 3
   },
   "file_extension": ".py",
   "mimetype": "text/x-python",
   "name": "python",
   "nbconvert_exporter": "python",
   "pygments_lexer": "ipython3",
   "version": "3.9.18"
  }
 },
 "nbformat": 4,
 "nbformat_minor": 2
}
