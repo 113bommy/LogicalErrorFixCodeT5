{
 "cells": [
  {
   "cell_type": "code",
   "execution_count": 1,
   "metadata": {},
   "outputs": [],
   "source": [
    "import subprocess\n",
    "import re\n",
    "from math import isclose\n",
    "\n",
    "def is_float(value):\n",
    "    \"\"\"주어진 값이 부동소수점 수인지 확인합니다.\"\"\"\n",
    "    return bool(re.match(r'^-?\\d+(\\.\\d+)?$', value))\n",
    "\n",
    "def compare_outputs(actual, expected, partial=False):\n",
    "    \"\"\"실제 출력과 예상 출력을 비교합니다. 부분적 일치도 허용될 수 있습니다.\"\"\"\n",
    "    if partial:\n",
    "        expected = expected[:len(actual)]\n",
    "    if len(actual) > len(expected):\n",
    "        return False  # 실제 출력이 예상 출력보다 길면, 일치하지 않습니다.\n",
    "    for output, gold in zip(actual, expected):\n",
    "        if is_float(output) and is_float(gold):\n",
    "            if not isclose(float(output), float(gold), rel_tol=1e-9):\n",
    "                return False\n",
    "        elif output != gold:\n",
    "            return False\n",
    "    return True\n",
    "\n",
    "def run_test_cases(file, input_data_list, expected_output_list):\n",
    "    Test_Failure_List = []\n",
    "    \"\"\"테스트 케이스를 실행하고, 정확도를 계산합니다.\"\"\"\n",
    "    correct_tests = 0\n",
    "\n",
    "    for index, cpp_input in enumerate(input_data_list):\n",
    "        partial = False\n",
    "        try:\n",
    "            process = subprocess.run([f'./gold_compile_folder/{file[:-4]}'], input=cpp_input, text=True, capture_output=True, timeout=10)\n",
    "            actual_output = process.stdout.strip().split()\n",
    "        except subprocess.TimeoutExpired as e:\n",
    "            actual_output = e.stdout.strip().split() if e.stdout else []\n",
    "            partial = True\n",
    "        if compare_outputs(actual_output, expected_output_list[index], partial=partial):\n",
    "            correct_tests += 1\n",
    "        else:\n",
    "            expected_output = ' '.join(expected_output_list[index])\n",
    "            actual_output_joined = ' '.join(actual_output)\n",
    "            with open(f'./gold_test_case_error_log/{file[:-4]}.txt', 'a') as err_log_file:\n",
    "                err_log_file.write(f\"Test Case {index + 1} Failed: Expected '{expected_output}', Got '{actual_output_joined}'\")\n",
    "            Test_Failure_List.append(index)\n",
    "\n",
    "    test_case_length = len(input_data_list)\n",
    "    logical_error_rate = 1 - correct_tests / test_case_length\n",
    "    print(f'Logical error rate: {logical_error_rate}')\n",
    "\n",
    "    return [logical_error_rate] + Test_Failure_List   "
   ]
  },
  {
   "cell_type": "code",
   "execution_count": 2,
   "metadata": {},
   "outputs": [
    {
     "name": "stderr",
     "output_type": "stream",
     "text": [
      "  0%|          | 1/861 [00:01<15:31,  1.08s/it]"
     ]
    },
    {
     "name": "stdout",
     "output_type": "stream",
     "text": [
      "Logical error rate: 0.0\n",
      "Problem_0_CorrectCode_0 Error rate = 0.0\n"
     ]
    },
    {
     "name": "stderr",
     "output_type": "stream",
     "text": [
      "  0%|          | 2/861 [00:04<35:17,  2.47s/it]"
     ]
    },
    {
     "name": "stdout",
     "output_type": "stream",
     "text": [
      "Logical error rate: 0.0\n",
      "Problem_0_CorrectCode_1 Error rate = 0.0\n"
     ]
    },
    {
     "name": "stderr",
     "output_type": "stream",
     "text": [
      "  0%|          | 3/861 [00:08<47:50,  3.35s/it]"
     ]
    },
    {
     "name": "stdout",
     "output_type": "stream",
     "text": [
      "Logical error rate: 0.0\n",
      "Problem_0_CorrectCode_2 Error rate = 0.0\n"
     ]
    },
    {
     "name": "stderr",
     "output_type": "stream",
     "text": [
      "  0%|          | 4/861 [00:13<53:30,  3.75s/it]"
     ]
    },
    {
     "name": "stdout",
     "output_type": "stream",
     "text": [
      "Logical error rate: 0.0\n",
      "Problem_0_CorrectCode_3 Error rate = 0.0\n"
     ]
    },
    {
     "name": "stderr",
     "output_type": "stream",
     "text": [
      "  1%|          | 5/861 [00:14<39:29,  2.77s/it]"
     ]
    },
    {
     "name": "stdout",
     "output_type": "stream",
     "text": [
      "Logical error rate: 0.0\n",
      "Problem_100_CorrectCode_524 Error rate = 0.0\n"
     ]
    },
    {
     "name": "stderr",
     "output_type": "stream",
     "text": [
      "  1%|          | 6/861 [00:15<31:16,  2.20s/it]"
     ]
    },
    {
     "name": "stdout",
     "output_type": "stream",
     "text": [
      "Logical error rate: 0.0\n",
      "Problem_100_CorrectCode_525 Error rate = 0.0\n"
     ]
    },
    {
     "name": "stderr",
     "output_type": "stream",
     "text": [
      "  1%|          | 7/861 [00:16<25:53,  1.82s/it]"
     ]
    },
    {
     "name": "stdout",
     "output_type": "stream",
     "text": [
      "Logical error rate: 0.0\n",
      "Problem_100_CorrectCode_526 Error rate = 0.0\n"
     ]
    },
    {
     "name": "stderr",
     "output_type": "stream",
     "text": [
      "  1%|          | 8/861 [00:17<22:33,  1.59s/it]"
     ]
    },
    {
     "name": "stdout",
     "output_type": "stream",
     "text": [
      "Logical error rate: 0.0\n",
      "Problem_101_CorrectCode_527 Error rate = 0.0\n"
     ]
    },
    {
     "name": "stderr",
     "output_type": "stream",
     "text": [
      "  1%|          | 9/861 [00:18<19:52,  1.40s/it]"
     ]
    },
    {
     "name": "stdout",
     "output_type": "stream",
     "text": [
      "Logical error rate: 0.0\n",
      "Problem_101_CorrectCode_528 Error rate = 0.0\n"
     ]
    },
    {
     "name": "stderr",
     "output_type": "stream",
     "text": [
      "  1%|          | 10/861 [00:19<18:08,  1.28s/it]"
     ]
    },
    {
     "name": "stdout",
     "output_type": "stream",
     "text": [
      "Logical error rate: 0.995\n",
      "Problem_102_CorrectCode_529 Error rate = 0.995\n"
     ]
    },
    {
     "name": "stderr",
     "output_type": "stream",
     "text": [
      "  1%|▏         | 11/861 [00:20<16:59,  1.20s/it]"
     ]
    },
    {
     "name": "stdout",
     "output_type": "stream",
     "text": [
      "Logical error rate: 0.0\n",
      "Problem_102_CorrectCode_530 Error rate = 0.0\n"
     ]
    },
    {
     "name": "stderr",
     "output_type": "stream",
     "text": [
      "  1%|▏         | 12/861 [00:21<16:05,  1.14s/it]"
     ]
    },
    {
     "name": "stdout",
     "output_type": "stream",
     "text": [
      "Logical error rate: 0.995\n",
      "Problem_102_CorrectCode_531 Error rate = 0.995\n"
     ]
    },
    {
     "name": "stderr",
     "output_type": "stream",
     "text": [
      "  2%|▏         | 13/861 [00:22<15:46,  1.12s/it]"
     ]
    },
    {
     "name": "stdout",
     "output_type": "stream",
     "text": [
      "Logical error rate: 0.0\n",
      "Problem_103_CorrectCode_532 Error rate = 0.0\n"
     ]
    },
    {
     "name": "stderr",
     "output_type": "stream",
     "text": [
      "  2%|▏         | 14/861 [00:23<15:21,  1.09s/it]"
     ]
    },
    {
     "name": "stdout",
     "output_type": "stream",
     "text": [
      "Logical error rate: 0.0\n",
      "Problem_103_CorrectCode_533 Error rate = 0.0\n"
     ]
    },
    {
     "name": "stderr",
     "output_type": "stream",
     "text": [
      "  2%|▏         | 15/861 [00:24<15:11,  1.08s/it]"
     ]
    },
    {
     "name": "stdout",
     "output_type": "stream",
     "text": [
      "Logical error rate: 0.0\n",
      "Problem_104_CorrectCode_534 Error rate = 0.0\n"
     ]
    },
    {
     "name": "stderr",
     "output_type": "stream",
     "text": [
      "  2%|▏         | 16/861 [00:25<15:12,  1.08s/it]"
     ]
    },
    {
     "name": "stdout",
     "output_type": "stream",
     "text": [
      "Logical error rate: 1.0\n",
      "Problem_104_CorrectCode_535 Error rate = 1.0\n"
     ]
    },
    {
     "name": "stderr",
     "output_type": "stream",
     "text": [
      "  2%|▏         | 17/861 [00:26<15:29,  1.10s/it]"
     ]
    },
    {
     "name": "stdout",
     "output_type": "stream",
     "text": [
      "Logical error rate: 1.0\n",
      "Problem_104_CorrectCode_536 Error rate = 1.0\n"
     ]
    },
    {
     "name": "stderr",
     "output_type": "stream",
     "text": [
      "  2%|▏         | 18/861 [00:28<17:11,  1.22s/it]"
     ]
    },
    {
     "name": "stdout",
     "output_type": "stream",
     "text": [
      "Logical error rate: 0.995\n",
      "Problem_105_CorrectCode_537 Error rate = 0.995\n"
     ]
    },
    {
     "name": "stderr",
     "output_type": "stream",
     "text": [
      "  2%|▏         | 19/861 [00:29<17:05,  1.22s/it]"
     ]
    },
    {
     "name": "stdout",
     "output_type": "stream",
     "text": [
      "Logical error rate: 0.0\n",
      "Problem_105_CorrectCode_538 Error rate = 0.0\n"
     ]
    },
    {
     "name": "stderr",
     "output_type": "stream",
     "text": [
      "  2%|▏         | 20/861 [00:41<1:01:33,  4.39s/it]"
     ]
    },
    {
     "name": "stdout",
     "output_type": "stream",
     "text": [
      "Logical error rate: 0.0\n",
      "Problem_105_CorrectCode_539 Error rate = 0.0\n"
     ]
    },
    {
     "name": "stderr",
     "output_type": "stream",
     "text": [
      "  2%|▏         | 21/861 [00:42<47:32,  3.40s/it]  "
     ]
    },
    {
     "name": "stdout",
     "output_type": "stream",
     "text": [
      "Logical error rate: 0.0\n",
      "Problem_105_CorrectCode_540 Error rate = 0.0\n"
     ]
    },
    {
     "name": "stderr",
     "output_type": "stream",
     "text": [
      "  3%|▎         | 22/861 [00:43<37:44,  2.70s/it]"
     ]
    },
    {
     "name": "stdout",
     "output_type": "stream",
     "text": [
      "Logical error rate: 0.995\n",
      "Problem_105_CorrectCode_541 Error rate = 0.995\n"
     ]
    },
    {
     "name": "stderr",
     "output_type": "stream",
     "text": [
      "  3%|▎         | 23/861 [00:44<31:22,  2.25s/it]"
     ]
    },
    {
     "name": "stdout",
     "output_type": "stream",
     "text": [
      "Logical error rate: 0.0\n",
      "Problem_105_CorrectCode_542 Error rate = 0.0\n"
     ]
    },
    {
     "name": "stderr",
     "output_type": "stream",
     "text": [
      "  3%|▎         | 24/861 [00:47<31:55,  2.29s/it]"
     ]
    },
    {
     "name": "stdout",
     "output_type": "stream",
     "text": [
      "Logical error rate: 0.0\n",
      "Problem_106_CorrectCode_543 Error rate = 0.0\n"
     ]
    },
    {
     "name": "stderr",
     "output_type": "stream",
     "text": [
      "  3%|▎         | 25/861 [00:49<32:34,  2.34s/it]"
     ]
    },
    {
     "name": "stdout",
     "output_type": "stream",
     "text": [
      "Logical error rate: 0.0\n",
      "Problem_106_CorrectCode_544 Error rate = 0.0\n"
     ]
    },
    {
     "name": "stderr",
     "output_type": "stream",
     "text": [
      "  3%|▎         | 26/861 [00:52<33:02,  2.37s/it]"
     ]
    },
    {
     "name": "stdout",
     "output_type": "stream",
     "text": [
      "Logical error rate: 0.0\n",
      "Problem_106_CorrectCode_545 Error rate = 0.0\n"
     ]
    },
    {
     "name": "stderr",
     "output_type": "stream",
     "text": [
      "  3%|▎         | 27/861 [00:55<37:40,  2.71s/it]"
     ]
    },
    {
     "name": "stdout",
     "output_type": "stream",
     "text": [
      "Logical error rate: 0.0\n",
      "Problem_106_CorrectCode_546 Error rate = 0.0\n"
     ]
    },
    {
     "name": "stderr",
     "output_type": "stream",
     "text": [
      "  3%|▎         | 28/861 [00:57<36:17,  2.61s/it]"
     ]
    },
    {
     "name": "stdout",
     "output_type": "stream",
     "text": [
      "Logical error rate: 0.0\n",
      "Problem_106_CorrectCode_547 Error rate = 0.0\n"
     ]
    },
    {
     "name": "stderr",
     "output_type": "stream",
     "text": [
      "  3%|▎         | 29/861 [01:00<35:32,  2.56s/it]"
     ]
    },
    {
     "name": "stdout",
     "output_type": "stream",
     "text": [
      "Logical error rate: 0.0\n",
      "Problem_106_CorrectCode_548 Error rate = 0.0\n"
     ]
    },
    {
     "name": "stderr",
     "output_type": "stream",
     "text": [
      "  3%|▎         | 30/861 [01:02<34:48,  2.51s/it]"
     ]
    },
    {
     "name": "stdout",
     "output_type": "stream",
     "text": [
      "Logical error rate: 0.0\n",
      "Problem_106_CorrectCode_549 Error rate = 0.0\n"
     ]
    },
    {
     "name": "stderr",
     "output_type": "stream",
     "text": [
      "  4%|▎         | 31/861 [01:05<33:34,  2.43s/it]"
     ]
    },
    {
     "name": "stdout",
     "output_type": "stream",
     "text": [
      "Logical error rate: 1.0\n",
      "Problem_106_CorrectCode_550 Error rate = 1.0\n"
     ]
    },
    {
     "name": "stderr",
     "output_type": "stream",
     "text": [
      "  4%|▎         | 32/861 [01:07<33:40,  2.44s/it]"
     ]
    },
    {
     "name": "stdout",
     "output_type": "stream",
     "text": [
      "Logical error rate: 0.0\n",
      "Problem_106_CorrectCode_551 Error rate = 0.0\n"
     ]
    },
    {
     "name": "stderr",
     "output_type": "stream",
     "text": [
      "  4%|▍         | 33/861 [01:10<34:05,  2.47s/it]"
     ]
    },
    {
     "name": "stdout",
     "output_type": "stream",
     "text": [
      "Logical error rate: 0.0\n",
      "Problem_106_CorrectCode_552 Error rate = 0.0\n"
     ]
    },
    {
     "name": "stderr",
     "output_type": "stream",
     "text": [
      "  4%|▍         | 34/861 [01:11<28:18,  2.05s/it]"
     ]
    },
    {
     "name": "stdout",
     "output_type": "stream",
     "text": [
      "Logical error rate: 0.16500000000000004\n",
      "Problem_107_CorrectCode_553 Error rate = 0.16500000000000004\n"
     ]
    },
    {
     "name": "stderr",
     "output_type": "stream",
     "text": [
      "  4%|▍         | 35/861 [01:12<24:28,  1.78s/it]"
     ]
    },
    {
     "name": "stdout",
     "output_type": "stream",
     "text": [
      "Logical error rate: 0.20999999999999996\n",
      "Problem_107_CorrectCode_554 Error rate = 0.20999999999999996\n"
     ]
    },
    {
     "name": "stderr",
     "output_type": "stream",
     "text": [
      "  4%|▍         | 36/861 [01:13<21:46,  1.58s/it]"
     ]
    },
    {
     "name": "stdout",
     "output_type": "stream",
     "text": [
      "Logical error rate: 0.20999999999999996\n",
      "Problem_107_CorrectCode_555 Error rate = 0.20999999999999996\n"
     ]
    },
    {
     "name": "stderr",
     "output_type": "stream",
     "text": [
      "  4%|▍         | 37/861 [01:14<20:28,  1.49s/it]"
     ]
    },
    {
     "name": "stdout",
     "output_type": "stream",
     "text": [
      "Logical error rate: 0.0\n",
      "Problem_107_CorrectCode_556 Error rate = 0.0\n"
     ]
    },
    {
     "name": "stderr",
     "output_type": "stream",
     "text": [
      "  4%|▍         | 38/861 [01:16<19:58,  1.46s/it]"
     ]
    },
    {
     "name": "stdout",
     "output_type": "stream",
     "text": [
      "Logical error rate: 0.09999999999999998\n",
      "Problem_107_CorrectCode_557 Error rate = 0.09999999999999998\n"
     ]
    },
    {
     "name": "stderr",
     "output_type": "stream",
     "text": [
      "  5%|▍         | 39/861 [01:17<18:27,  1.35s/it]"
     ]
    },
    {
     "name": "stdout",
     "output_type": "stream",
     "text": [
      "Logical error rate: 0.17500000000000004\n",
      "Problem_107_CorrectCode_558 Error rate = 0.17500000000000004\n"
     ]
    },
    {
     "name": "stderr",
     "output_type": "stream",
     "text": [
      "  5%|▍         | 40/861 [01:18<17:33,  1.28s/it]"
     ]
    },
    {
     "name": "stdout",
     "output_type": "stream",
     "text": [
      "Logical error rate: 0.17500000000000004\n",
      "Problem_107_CorrectCode_559 Error rate = 0.17500000000000004\n"
     ]
    },
    {
     "name": "stderr",
     "output_type": "stream",
     "text": [
      "  5%|▍         | 41/861 [01:19<17:15,  1.26s/it]"
     ]
    },
    {
     "name": "stdout",
     "output_type": "stream",
     "text": [
      "Logical error rate: 0.0\n",
      "Problem_108_CorrectCode_560 Error rate = 0.0\n"
     ]
    },
    {
     "name": "stderr",
     "output_type": "stream",
     "text": [
      "  5%|▍         | 42/861 [01:20<16:56,  1.24s/it]"
     ]
    },
    {
     "name": "stdout",
     "output_type": "stream",
     "text": [
      "Logical error rate: 0.0\n",
      "Problem_108_CorrectCode_561 Error rate = 0.0\n"
     ]
    },
    {
     "name": "stderr",
     "output_type": "stream",
     "text": [
      "  5%|▍         | 43/861 [01:21<16:49,  1.23s/it]"
     ]
    },
    {
     "name": "stdout",
     "output_type": "stream",
     "text": [
      "Logical error rate: 0.0\n",
      "Problem_108_CorrectCode_562 Error rate = 0.0\n"
     ]
    },
    {
     "name": "stderr",
     "output_type": "stream",
     "text": [
      "  5%|▌         | 44/861 [01:23<19:20,  1.42s/it]"
     ]
    },
    {
     "name": "stdout",
     "output_type": "stream",
     "text": [
      "Logical error rate: 0.0\n",
      "Problem_109_CorrectCode_563 Error rate = 0.0\n"
     ]
    },
    {
     "name": "stderr",
     "output_type": "stream",
     "text": [
      "  5%|▌         | 45/861 [01:24<18:38,  1.37s/it]"
     ]
    },
    {
     "name": "stdout",
     "output_type": "stream",
     "text": [
      "Logical error rate: 0.0\n",
      "Problem_109_CorrectCode_564 Error rate = 0.0\n"
     ]
    },
    {
     "name": "stderr",
     "output_type": "stream",
     "text": [
      "  5%|▌         | 46/861 [01:26<17:25,  1.28s/it]"
     ]
    },
    {
     "name": "stdout",
     "output_type": "stream",
     "text": [
      "Logical error rate: 0.0\n",
      "Problem_109_CorrectCode_565 Error rate = 0.0\n"
     ]
    },
    {
     "name": "stderr",
     "output_type": "stream",
     "text": [
      "  5%|▌         | 47/861 [01:27<16:24,  1.21s/it]"
     ]
    },
    {
     "name": "stdout",
     "output_type": "stream",
     "text": [
      "Logical error rate: 0.0\n",
      "Problem_10_CorrectCode_25 Error rate = 0.0\n"
     ]
    },
    {
     "name": "stderr",
     "output_type": "stream",
     "text": [
      "  6%|▌         | 48/861 [01:28<15:50,  1.17s/it]"
     ]
    },
    {
     "name": "stdout",
     "output_type": "stream",
     "text": [
      "Logical error rate: 0.0\n",
      "Problem_10_CorrectCode_26 Error rate = 0.0\n"
     ]
    },
    {
     "name": "stderr",
     "output_type": "stream",
     "text": [
      "  6%|▌         | 49/861 [01:29<15:41,  1.16s/it]"
     ]
    },
    {
     "name": "stdout",
     "output_type": "stream",
     "text": [
      "Logical error rate: 0.0\n",
      "Problem_10_CorrectCode_27 Error rate = 0.0\n"
     ]
    },
    {
     "name": "stderr",
     "output_type": "stream",
     "text": [
      "  6%|▌         | 50/861 [01:30<15:21,  1.14s/it]"
     ]
    },
    {
     "name": "stdout",
     "output_type": "stream",
     "text": [
      "Logical error rate: 0.0\n",
      "Problem_10_CorrectCode_28 Error rate = 0.0\n"
     ]
    },
    {
     "name": "stderr",
     "output_type": "stream",
     "text": [
      "  6%|▌         | 51/861 [01:31<15:06,  1.12s/it]"
     ]
    },
    {
     "name": "stdout",
     "output_type": "stream",
     "text": [
      "Logical error rate: 0.0\n",
      "Problem_10_CorrectCode_29 Error rate = 0.0\n"
     ]
    },
    {
     "name": "stderr",
     "output_type": "stream",
     "text": [
      "  6%|▌         | 52/861 [01:32<15:01,  1.11s/it]"
     ]
    },
    {
     "name": "stdout",
     "output_type": "stream",
     "text": [
      "Logical error rate: 0.0\n",
      "Problem_10_CorrectCode_30 Error rate = 0.0\n"
     ]
    },
    {
     "name": "stderr",
     "output_type": "stream",
     "text": [
      "  6%|▌         | 53/861 [01:33<14:47,  1.10s/it]"
     ]
    },
    {
     "name": "stdout",
     "output_type": "stream",
     "text": [
      "Logical error rate: 0.0\n",
      "Problem_10_CorrectCode_31 Error rate = 0.0\n"
     ]
    },
    {
     "name": "stderr",
     "output_type": "stream",
     "text": [
      "  6%|▋         | 54/861 [01:34<15:24,  1.15s/it]"
     ]
    },
    {
     "name": "stdout",
     "output_type": "stream",
     "text": [
      "Logical error rate: 0.0\n",
      "Problem_110_CorrectCode_566 Error rate = 0.0\n"
     ]
    },
    {
     "name": "stderr",
     "output_type": "stream",
     "text": [
      "  6%|▋         | 55/861 [01:36<15:32,  1.16s/it]"
     ]
    },
    {
     "name": "stdout",
     "output_type": "stream",
     "text": [
      "Logical error rate: 0.0\n",
      "Problem_110_CorrectCode_567 Error rate = 0.0\n"
     ]
    },
    {
     "name": "stderr",
     "output_type": "stream",
     "text": [
      "  7%|▋         | 56/861 [01:37<15:55,  1.19s/it]"
     ]
    },
    {
     "name": "stdout",
     "output_type": "stream",
     "text": [
      "Logical error rate: 0.0\n",
      "Problem_110_CorrectCode_568 Error rate = 0.0\n"
     ]
    },
    {
     "name": "stderr",
     "output_type": "stream",
     "text": [
      "  7%|▋         | 57/861 [01:38<15:44,  1.17s/it]"
     ]
    },
    {
     "name": "stdout",
     "output_type": "stream",
     "text": [
      "Logical error rate: 0.0\n",
      "Problem_110_CorrectCode_569 Error rate = 0.0\n"
     ]
    },
    {
     "name": "stderr",
     "output_type": "stream",
     "text": [
      "  7%|▋         | 58/861 [01:39<15:26,  1.15s/it]"
     ]
    },
    {
     "name": "stdout",
     "output_type": "stream",
     "text": [
      "Logical error rate: 0.0\n",
      "Problem_113_CorrectCode_570 Error rate = 0.0\n"
     ]
    },
    {
     "name": "stderr",
     "output_type": "stream",
     "text": [
      "  7%|▋         | 59/861 [01:40<15:11,  1.14s/it]"
     ]
    },
    {
     "name": "stdout",
     "output_type": "stream",
     "text": [
      "Logical error rate: 0.0\n",
      "Problem_113_CorrectCode_571 Error rate = 0.0\n"
     ]
    },
    {
     "name": "stderr",
     "output_type": "stream",
     "text": [
      "  7%|▋         | 60/861 [01:41<14:56,  1.12s/it]"
     ]
    },
    {
     "name": "stdout",
     "output_type": "stream",
     "text": [
      "Logical error rate: 0.0\n",
      "Problem_113_CorrectCode_572 Error rate = 0.0\n"
     ]
    },
    {
     "name": "stderr",
     "output_type": "stream",
     "text": [
      "  7%|▋         | 61/861 [01:42<14:43,  1.10s/it]"
     ]
    },
    {
     "name": "stdout",
     "output_type": "stream",
     "text": [
      "Logical error rate: 0.0\n",
      "Problem_113_CorrectCode_573 Error rate = 0.0\n"
     ]
    },
    {
     "name": "stderr",
     "output_type": "stream",
     "text": [
      "  7%|▋         | 62/861 [01:43<14:32,  1.09s/it]"
     ]
    },
    {
     "name": "stdout",
     "output_type": "stream",
     "text": [
      "Logical error rate: 0.0\n",
      "Problem_113_CorrectCode_574 Error rate = 0.0\n"
     ]
    },
    {
     "name": "stderr",
     "output_type": "stream",
     "text": [
      "  7%|▋         | 63/861 [01:44<14:22,  1.08s/it]"
     ]
    },
    {
     "name": "stdout",
     "output_type": "stream",
     "text": [
      "Logical error rate: 0.0\n",
      "Problem_113_CorrectCode_575 Error rate = 0.0\n"
     ]
    },
    {
     "name": "stderr",
     "output_type": "stream",
     "text": [
      "  7%|▋         | 64/861 [01:45<14:11,  1.07s/it]"
     ]
    },
    {
     "name": "stdout",
     "output_type": "stream",
     "text": [
      "Logical error rate: 0.78\n",
      "Problem_114_CorrectCode_576 Error rate = 0.78\n"
     ]
    },
    {
     "name": "stderr",
     "output_type": "stream",
     "text": [
      "  8%|▊         | 65/861 [01:47<14:14,  1.07s/it]"
     ]
    },
    {
     "name": "stdout",
     "output_type": "stream",
     "text": [
      "Logical error rate: 0.78\n",
      "Problem_114_CorrectCode_577 Error rate = 0.78\n"
     ]
    },
    {
     "name": "stderr",
     "output_type": "stream",
     "text": [
      "  8%|▊         | 66/861 [01:48<14:26,  1.09s/it]"
     ]
    },
    {
     "name": "stdout",
     "output_type": "stream",
     "text": [
      "Logical error rate: 0.0\n",
      "Problem_114_CorrectCode_578 Error rate = 0.0\n"
     ]
    },
    {
     "name": "stderr",
     "output_type": "stream",
     "text": [
      "  8%|▊         | 67/861 [01:49<14:26,  1.09s/it]"
     ]
    },
    {
     "name": "stdout",
     "output_type": "stream",
     "text": [
      "Logical error rate: 0.0\n",
      "Problem_114_CorrectCode_579 Error rate = 0.0\n"
     ]
    },
    {
     "name": "stderr",
     "output_type": "stream",
     "text": [
      "  8%|▊         | 68/861 [01:50<14:31,  1.10s/it]"
     ]
    },
    {
     "name": "stdout",
     "output_type": "stream",
     "text": [
      "Logical error rate: 0.0\n",
      "Problem_114_CorrectCode_580 Error rate = 0.0\n"
     ]
    },
    {
     "name": "stderr",
     "output_type": "stream",
     "text": [
      "  8%|▊         | 69/861 [01:51<14:36,  1.11s/it]"
     ]
    },
    {
     "name": "stdout",
     "output_type": "stream",
     "text": [
      "Logical error rate: 0.0\n",
      "Problem_114_CorrectCode_581 Error rate = 0.0\n"
     ]
    },
    {
     "name": "stderr",
     "output_type": "stream",
     "text": [
      "  8%|▊         | 70/861 [01:52<14:36,  1.11s/it]"
     ]
    },
    {
     "name": "stdout",
     "output_type": "stream",
     "text": [
      "Logical error rate: 0.78\n",
      "Problem_114_CorrectCode_582 Error rate = 0.78\n"
     ]
    },
    {
     "name": "stderr",
     "output_type": "stream",
     "text": [
      "  8%|▊         | 71/861 [01:58<34:47,  2.64s/it]"
     ]
    },
    {
     "name": "stdout",
     "output_type": "stream",
     "text": [
      "Logical error rate: 0.0\n",
      "Problem_114_CorrectCode_583 Error rate = 0.0\n"
     ]
    },
    {
     "name": "stderr",
     "output_type": "stream",
     "text": [
      "  8%|▊         | 72/861 [01:59<28:40,  2.18s/it]"
     ]
    },
    {
     "name": "stdout",
     "output_type": "stream",
     "text": [
      "Logical error rate: 0.0\n",
      "Problem_114_CorrectCode_584 Error rate = 0.0\n"
     ]
    },
    {
     "name": "stderr",
     "output_type": "stream",
     "text": [
      "  8%|▊         | 73/861 [02:01<24:31,  1.87s/it]"
     ]
    },
    {
     "name": "stdout",
     "output_type": "stream",
     "text": [
      "Logical error rate: 0.98\n",
      "Problem_114_CorrectCode_585 Error rate = 0.98\n"
     ]
    },
    {
     "name": "stderr",
     "output_type": "stream",
     "text": [
      "  9%|▊         | 74/861 [02:02<21:25,  1.63s/it]"
     ]
    },
    {
     "name": "stdout",
     "output_type": "stream",
     "text": [
      "Logical error rate: 0.0\n",
      "Problem_114_CorrectCode_586 Error rate = 0.0\n"
     ]
    },
    {
     "name": "stderr",
     "output_type": "stream",
     "text": [
      "  9%|▊         | 75/861 [02:03<19:21,  1.48s/it]"
     ]
    },
    {
     "name": "stdout",
     "output_type": "stream",
     "text": [
      "Logical error rate: 0.0\n",
      "Problem_114_CorrectCode_587 Error rate = 0.0\n"
     ]
    },
    {
     "name": "stderr",
     "output_type": "stream",
     "text": [
      "  9%|▉         | 76/861 [02:04<17:49,  1.36s/it]"
     ]
    },
    {
     "name": "stdout",
     "output_type": "stream",
     "text": [
      "Logical error rate: 0.0\n",
      "Problem_114_CorrectCode_588 Error rate = 0.0\n"
     ]
    },
    {
     "name": "stderr",
     "output_type": "stream",
     "text": [
      "  9%|▉         | 77/861 [02:05<17:00,  1.30s/it]"
     ]
    },
    {
     "name": "stdout",
     "output_type": "stream",
     "text": [
      "Logical error rate: 0.0\n",
      "Problem_114_CorrectCode_589 Error rate = 0.0\n"
     ]
    },
    {
     "name": "stderr",
     "output_type": "stream",
     "text": [
      "  9%|▉         | 78/861 [02:06<16:02,  1.23s/it]"
     ]
    },
    {
     "name": "stdout",
     "output_type": "stream",
     "text": [
      "Logical error rate: 0.0\n",
      "Problem_115_CorrectCode_590 Error rate = 0.0\n"
     ]
    },
    {
     "name": "stderr",
     "output_type": "stream",
     "text": [
      "  9%|▉         | 79/861 [02:07<15:24,  1.18s/it]"
     ]
    },
    {
     "name": "stdout",
     "output_type": "stream",
     "text": [
      "Logical error rate: 0.0\n",
      "Problem_115_CorrectCode_591 Error rate = 0.0\n"
     ]
    },
    {
     "name": "stderr",
     "output_type": "stream",
     "text": [
      "  9%|▉         | 80/861 [02:08<14:53,  1.14s/it]"
     ]
    },
    {
     "name": "stdout",
     "output_type": "stream",
     "text": [
      "Logical error rate: 0.0\n",
      "Problem_115_CorrectCode_592 Error rate = 0.0\n"
     ]
    },
    {
     "name": "stderr",
     "output_type": "stream",
     "text": [
      "  9%|▉         | 81/861 [02:09<14:42,  1.13s/it]"
     ]
    },
    {
     "name": "stdout",
     "output_type": "stream",
     "text": [
      "Logical error rate: 0.0\n",
      "Problem_116_CorrectCode_593 Error rate = 0.0\n"
     ]
    },
    {
     "name": "stderr",
     "output_type": "stream",
     "text": [
      " 10%|▉         | 82/861 [02:10<14:21,  1.11s/it]"
     ]
    },
    {
     "name": "stdout",
     "output_type": "stream",
     "text": [
      "Logical error rate: 0.0\n",
      "Problem_116_CorrectCode_594 Error rate = 0.0\n"
     ]
    },
    {
     "name": "stderr",
     "output_type": "stream",
     "text": [
      " 10%|▉         | 83/861 [02:16<32:21,  2.50s/it]"
     ]
    },
    {
     "name": "stdout",
     "output_type": "stream",
     "text": [
      "Logical error rate: 0.0\n",
      "Problem_117_CorrectCode_595 Error rate = 0.0\n"
     ]
    },
    {
     "name": "stderr",
     "output_type": "stream",
     "text": [
      " 10%|▉         | 84/861 [02:17<27:26,  2.12s/it]"
     ]
    },
    {
     "name": "stdout",
     "output_type": "stream",
     "text": [
      "Logical error rate: 0.0\n",
      "Problem_117_CorrectCode_596 Error rate = 0.0\n"
     ]
    },
    {
     "name": "stderr",
     "output_type": "stream",
     "text": [
      " 10%|▉         | 85/861 [02:18<23:25,  1.81s/it]"
     ]
    },
    {
     "name": "stdout",
     "output_type": "stream",
     "text": [
      "Logical error rate: 0.0\n",
      "Problem_117_CorrectCode_597 Error rate = 0.0\n"
     ]
    },
    {
     "name": "stderr",
     "output_type": "stream",
     "text": [
      " 10%|▉         | 86/861 [02:22<30:05,  2.33s/it]"
     ]
    },
    {
     "name": "stdout",
     "output_type": "stream",
     "text": [
      "Logical error rate: 0.0\n",
      "Problem_117_CorrectCode_598 Error rate = 0.0\n"
     ]
    },
    {
     "name": "stderr",
     "output_type": "stream",
     "text": [
      " 10%|█         | 87/861 [02:23<25:05,  1.94s/it]"
     ]
    },
    {
     "name": "stdout",
     "output_type": "stream",
     "text": [
      "Logical error rate: 0.0\n",
      "Problem_118_CorrectCode_599 Error rate = 0.0\n"
     ]
    },
    {
     "name": "stderr",
     "output_type": "stream",
     "text": [
      " 10%|█         | 88/861 [02:24<21:32,  1.67s/it]"
     ]
    },
    {
     "name": "stdout",
     "output_type": "stream",
     "text": [
      "Logical error rate: 0.0\n",
      "Problem_119_CorrectCode_600 Error rate = 0.0\n"
     ]
    },
    {
     "name": "stderr",
     "output_type": "stream",
     "text": [
      " 10%|█         | 89/861 [02:25<18:49,  1.46s/it]"
     ]
    },
    {
     "name": "stdout",
     "output_type": "stream",
     "text": [
      "Logical error rate: 0.0\n",
      "Problem_119_CorrectCode_601 Error rate = 0.0\n"
     ]
    },
    {
     "name": "stderr",
     "output_type": "stream",
     "text": [
      " 10%|█         | 90/861 [02:26<17:19,  1.35s/it]"
     ]
    },
    {
     "name": "stdout",
     "output_type": "stream",
     "text": [
      "Logical error rate: 0.0\n",
      "Problem_119_CorrectCode_602 Error rate = 0.0\n"
     ]
    },
    {
     "name": "stderr",
     "output_type": "stream",
     "text": [
      " 11%|█         | 91/861 [02:27<16:17,  1.27s/it]"
     ]
    },
    {
     "name": "stdout",
     "output_type": "stream",
     "text": [
      "Logical error rate: 0.0\n",
      "Problem_119_CorrectCode_603 Error rate = 0.0\n"
     ]
    },
    {
     "name": "stderr",
     "output_type": "stream",
     "text": [
      " 11%|█         | 92/861 [02:28<15:37,  1.22s/it]"
     ]
    },
    {
     "name": "stdout",
     "output_type": "stream",
     "text": [
      "Logical error rate: 0.0\n",
      "Problem_11_CorrectCode_32 Error rate = 0.0\n"
     ]
    },
    {
     "name": "stderr",
     "output_type": "stream",
     "text": [
      " 11%|█         | 93/861 [02:29<15:03,  1.18s/it]"
     ]
    },
    {
     "name": "stdout",
     "output_type": "stream",
     "text": [
      "Logical error rate: 0.0\n",
      "Problem_11_CorrectCode_33 Error rate = 0.0\n"
     ]
    },
    {
     "name": "stderr",
     "output_type": "stream",
     "text": [
      " 11%|█         | 94/861 [02:45<1:09:42,  5.45s/it]"
     ]
    },
    {
     "name": "stdout",
     "output_type": "stream",
     "text": [
      "Logical error rate: 0.0\n",
      "Problem_11_CorrectCode_34 Error rate = 0.0\n"
     ]
    },
    {
     "name": "stderr",
     "output_type": "stream",
     "text": [
      " 11%|█         | 95/861 [02:46<52:53,  4.14s/it]  "
     ]
    },
    {
     "name": "stdout",
     "output_type": "stream",
     "text": [
      "Logical error rate: 0.0\n",
      "Problem_11_CorrectCode_35 Error rate = 0.0\n"
     ]
    },
    {
     "name": "stderr",
     "output_type": "stream",
     "text": [
      " 11%|█         | 96/861 [02:48<44:38,  3.50s/it]"
     ]
    },
    {
     "name": "stdout",
     "output_type": "stream",
     "text": [
      "Logical error rate: 0.0\n",
      "Problem_11_CorrectCode_36 Error rate = 0.0\n"
     ]
    },
    {
     "name": "stderr",
     "output_type": "stream",
     "text": [
      " 11%|█▏        | 97/861 [02:49<35:33,  2.79s/it]"
     ]
    },
    {
     "name": "stdout",
     "output_type": "stream",
     "text": [
      "Logical error rate: 0.0\n",
      "Problem_120_CorrectCode_604 Error rate = 0.0\n"
     ]
    },
    {
     "name": "stderr",
     "output_type": "stream",
     "text": [
      " 11%|█▏        | 98/861 [02:50<28:52,  2.27s/it]"
     ]
    },
    {
     "name": "stdout",
     "output_type": "stream",
     "text": [
      "Logical error rate: 0.0\n",
      "Problem_121_CorrectCode_605 Error rate = 0.0\n"
     ]
    },
    {
     "name": "stderr",
     "output_type": "stream",
     "text": [
      " 11%|█▏        | 99/861 [02:51<24:09,  1.90s/it]"
     ]
    },
    {
     "name": "stdout",
     "output_type": "stream",
     "text": [
      "Logical error rate: 0.0\n",
      "Problem_121_CorrectCode_606 Error rate = 0.0\n"
     ]
    },
    {
     "name": "stderr",
     "output_type": "stream",
     "text": [
      " 12%|█▏        | 100/861 [02:53<24:49,  1.96s/it]"
     ]
    },
    {
     "name": "stdout",
     "output_type": "stream",
     "text": [
      "Logical error rate: 0.0\n",
      "Problem_123_CorrectCode_607 Error rate = 0.0\n"
     ]
    },
    {
     "name": "stderr",
     "output_type": "stream",
     "text": [
      " 12%|█▏        | 101/861 [02:55<25:22,  2.00s/it]"
     ]
    },
    {
     "name": "stdout",
     "output_type": "stream",
     "text": [
      "Logical error rate: 0.0\n",
      "Problem_123_CorrectCode_608 Error rate = 0.0\n"
     ]
    },
    {
     "name": "stderr",
     "output_type": "stream",
     "text": [
      " 12%|█▏        | 102/861 [02:57<25:42,  2.03s/it]"
     ]
    },
    {
     "name": "stdout",
     "output_type": "stream",
     "text": [
      "Logical error rate: 0.0\n",
      "Problem_123_CorrectCode_609 Error rate = 0.0\n"
     ]
    },
    {
     "name": "stderr",
     "output_type": "stream",
     "text": [
      " 12%|█▏        | 103/861 [02:58<21:49,  1.73s/it]"
     ]
    },
    {
     "name": "stdout",
     "output_type": "stream",
     "text": [
      "Logical error rate: 0.0\n",
      "Problem_124_CorrectCode_610 Error rate = 0.0\n"
     ]
    },
    {
     "name": "stderr",
     "output_type": "stream",
     "text": [
      " 12%|█▏        | 104/861 [02:59<19:08,  1.52s/it]"
     ]
    },
    {
     "name": "stdout",
     "output_type": "stream",
     "text": [
      "Logical error rate: 0.0\n",
      "Problem_124_CorrectCode_611 Error rate = 0.0\n"
     ]
    },
    {
     "name": "stderr",
     "output_type": "stream",
     "text": [
      " 12%|█▏        | 105/861 [03:01<17:30,  1.39s/it]"
     ]
    },
    {
     "name": "stdout",
     "output_type": "stream",
     "text": [
      "Logical error rate: 0.0\n",
      "Problem_124_CorrectCode_612 Error rate = 0.0\n"
     ]
    },
    {
     "name": "stderr",
     "output_type": "stream",
     "text": [
      " 12%|█▏        | 106/861 [03:02<16:29,  1.31s/it]"
     ]
    },
    {
     "name": "stdout",
     "output_type": "stream",
     "text": [
      "Logical error rate: 0.0\n",
      "Problem_124_CorrectCode_613 Error rate = 0.0\n"
     ]
    },
    {
     "name": "stderr",
     "output_type": "stream",
     "text": [
      " 12%|█▏        | 107/861 [03:03<15:35,  1.24s/it]"
     ]
    },
    {
     "name": "stdout",
     "output_type": "stream",
     "text": [
      "Logical error rate: 0.0\n",
      "Problem_124_CorrectCode_614 Error rate = 0.0\n"
     ]
    },
    {
     "name": "stderr",
     "output_type": "stream",
     "text": [
      " 13%|█▎        | 108/861 [03:04<15:00,  1.20s/it]"
     ]
    },
    {
     "name": "stdout",
     "output_type": "stream",
     "text": [
      "Logical error rate: 0.0\n",
      "Problem_124_CorrectCode_615 Error rate = 0.0\n"
     ]
    },
    {
     "name": "stderr",
     "output_type": "stream",
     "text": [
      " 13%|█▎        | 109/861 [03:05<14:26,  1.15s/it]"
     ]
    },
    {
     "name": "stdout",
     "output_type": "stream",
     "text": [
      "Logical error rate: 0.0\n",
      "Problem_124_CorrectCode_616 Error rate = 0.0\n"
     ]
    },
    {
     "name": "stderr",
     "output_type": "stream",
     "text": [
      " 13%|█▎        | 110/861 [03:06<14:09,  1.13s/it]"
     ]
    },
    {
     "name": "stdout",
     "output_type": "stream",
     "text": [
      "Logical error rate: 0.0\n",
      "Problem_127_CorrectCode_617 Error rate = 0.0\n"
     ]
    },
    {
     "name": "stderr",
     "output_type": "stream",
     "text": [
      " 13%|█▎        | 111/861 [03:07<14:04,  1.13s/it]"
     ]
    },
    {
     "name": "stdout",
     "output_type": "stream",
     "text": [
      "Logical error rate: 0.0\n",
      "Problem_127_CorrectCode_618 Error rate = 0.0\n"
     ]
    },
    {
     "name": "stderr",
     "output_type": "stream",
     "text": [
      " 13%|█▎        | 112/861 [03:08<13:59,  1.12s/it]"
     ]
    },
    {
     "name": "stdout",
     "output_type": "stream",
     "text": [
      "Logical error rate: 0.0\n",
      "Problem_128_CorrectCode_619 Error rate = 0.0\n"
     ]
    },
    {
     "name": "stderr",
     "output_type": "stream",
     "text": [
      " 13%|█▎        | 113/861 [03:09<13:55,  1.12s/it]"
     ]
    },
    {
     "name": "stdout",
     "output_type": "stream",
     "text": [
      "Logical error rate: 1.0\n",
      "Problem_128_CorrectCode_620 Error rate = 1.0\n"
     ]
    },
    {
     "name": "stderr",
     "output_type": "stream",
     "text": [
      " 13%|█▎        | 114/861 [03:10<14:01,  1.13s/it]"
     ]
    },
    {
     "name": "stdout",
     "output_type": "stream",
     "text": [
      "Logical error rate: 0.0\n",
      "Problem_129_CorrectCode_621 Error rate = 0.0\n"
     ]
    },
    {
     "name": "stderr",
     "output_type": "stream",
     "text": [
      " 13%|█▎        | 115/861 [03:12<13:53,  1.12s/it]"
     ]
    },
    {
     "name": "stdout",
     "output_type": "stream",
     "text": [
      "Logical error rate: 0.0\n",
      "Problem_129_CorrectCode_622 Error rate = 0.0\n"
     ]
    },
    {
     "name": "stderr",
     "output_type": "stream",
     "text": [
      " 13%|█▎        | 116/861 [03:13<13:25,  1.08s/it]"
     ]
    },
    {
     "name": "stdout",
     "output_type": "stream",
     "text": [
      "Logical error rate: 0.0\n",
      "Problem_12_CorrectCode_37 Error rate = 0.0\n"
     ]
    },
    {
     "name": "stderr",
     "output_type": "stream",
     "text": [
      " 14%|█▎        | 117/861 [03:14<13:53,  1.12s/it]"
     ]
    },
    {
     "name": "stdout",
     "output_type": "stream",
     "text": [
      "Logical error rate: 0.0\n",
      "Problem_12_CorrectCode_38 Error rate = 0.0\n"
     ]
    },
    {
     "name": "stderr",
     "output_type": "stream",
     "text": [
      " 14%|█▎        | 118/861 [03:24<48:20,  3.90s/it]"
     ]
    },
    {
     "name": "stdout",
     "output_type": "stream",
     "text": [
      "Logical error rate: 1.0\n",
      "Problem_130_CorrectCode_623 Error rate = 1.0\n"
     ]
    },
    {
     "name": "stderr",
     "output_type": "stream",
     "text": [
      " 14%|█▍        | 119/861 [03:34<1:10:29,  5.70s/it]"
     ]
    },
    {
     "name": "stdout",
     "output_type": "stream",
     "text": [
      "Logical error rate: 1.0\n",
      "Problem_130_CorrectCode_624 Error rate = 1.0\n"
     ]
    },
    {
     "name": "stderr",
     "output_type": "stream",
     "text": [
      " 14%|█▍        | 120/861 [03:35<53:43,  4.35s/it]  "
     ]
    },
    {
     "name": "stdout",
     "output_type": "stream",
     "text": [
      "Logical error rate: 1.0\n",
      "Problem_130_CorrectCode_625 Error rate = 1.0\n"
     ]
    },
    {
     "name": "stderr",
     "output_type": "stream",
     "text": [
      " 14%|█▍        | 121/861 [03:37<42:05,  3.41s/it]"
     ]
    },
    {
     "name": "stdout",
     "output_type": "stream",
     "text": [
      "Logical error rate: 1.0\n",
      "Problem_130_CorrectCode_626 Error rate = 1.0\n"
     ]
    },
    {
     "name": "stderr",
     "output_type": "stream",
     "text": [
      " 14%|█▍        | 122/861 [03:38<34:12,  2.78s/it]"
     ]
    },
    {
     "name": "stdout",
     "output_type": "stream",
     "text": [
      "Logical error rate: 0.625\n",
      "Problem_131_CorrectCode_627 Error rate = 0.625\n"
     ]
    },
    {
     "name": "stderr",
     "output_type": "stream",
     "text": [
      " 14%|█▍        | 123/861 [03:38<26:15,  2.14s/it]"
     ]
    },
    {
     "name": "stdout",
     "output_type": "stream",
     "text": [
      "Test Case Error - 132.txt\n"
     ]
    },
    {
     "name": "stderr",
     "output_type": "stream",
     "text": [
      " 14%|█▍        | 124/861 [03:39<20:41,  1.68s/it]"
     ]
    },
    {
     "name": "stdout",
     "output_type": "stream",
     "text": [
      "Test Case Error - 132.txt\n"
     ]
    },
    {
     "name": "stderr",
     "output_type": "stream",
     "text": [
      " 15%|█▍        | 125/861 [03:40<16:45,  1.37s/it]"
     ]
    },
    {
     "name": "stdout",
     "output_type": "stream",
     "text": [
      "Test Case Error - 132.txt\n"
     ]
    },
    {
     "name": "stderr",
     "output_type": "stream",
     "text": [
      " 15%|█▍        | 126/861 [03:40<14:02,  1.15s/it]"
     ]
    },
    {
     "name": "stdout",
     "output_type": "stream",
     "text": [
      "Test Case Error - 132.txt\n"
     ]
    },
    {
     "name": "stderr",
     "output_type": "stream",
     "text": [
      " 15%|█▍        | 127/861 [03:41<12:10,  1.00it/s]"
     ]
    },
    {
     "name": "stdout",
     "output_type": "stream",
     "text": [
      "Test Case Error - 132.txt\n"
     ]
    },
    {
     "name": "stderr",
     "output_type": "stream",
     "text": [
      " 15%|█▍        | 128/861 [03:42<10:51,  1.13it/s]"
     ]
    },
    {
     "name": "stdout",
     "output_type": "stream",
     "text": [
      "Test Case Error - 132.txt\n"
     ]
    },
    {
     "name": "stderr",
     "output_type": "stream",
     "text": [
      " 15%|█▍        | 129/861 [03:42<09:53,  1.23it/s]"
     ]
    },
    {
     "name": "stdout",
     "output_type": "stream",
     "text": [
      "Test Case Error - 132.txt\n"
     ]
    },
    {
     "name": "stderr",
     "output_type": "stream",
     "text": [
      " 15%|█▌        | 130/861 [03:43<10:24,  1.17it/s]"
     ]
    },
    {
     "name": "stdout",
     "output_type": "stream",
     "text": [
      "Logical error rate: 0.0\n",
      "Problem_133_CorrectCode_635 Error rate = 0.0\n"
     ]
    },
    {
     "name": "stderr",
     "output_type": "stream",
     "text": [
      " 15%|█▌        | 133/861 [03:45<09:51,  1.23it/s]"
     ]
    },
    {
     "name": "stdout",
     "output_type": "stream",
     "text": [
      "Logical error rate: 0.0\n",
      "Problem_134_CorrectCode_638 Error rate = 0.0\n"
     ]
    },
    {
     "name": "stderr",
     "output_type": "stream",
     "text": [
      " 16%|█▌        | 134/861 [03:46<10:48,  1.12it/s]"
     ]
    },
    {
     "name": "stdout",
     "output_type": "stream",
     "text": [
      "Logical error rate: 0.0\n",
      "Problem_134_CorrectCode_639 Error rate = 0.0\n"
     ]
    },
    {
     "name": "stderr",
     "output_type": "stream",
     "text": [
      " 16%|█▌        | 135/861 [03:48<11:33,  1.05it/s]"
     ]
    },
    {
     "name": "stdout",
     "output_type": "stream",
     "text": [
      "Logical error rate: 0.0\n",
      "Problem_134_CorrectCode_640 Error rate = 0.0\n"
     ]
    },
    {
     "name": "stderr",
     "output_type": "stream",
     "text": [
      " 16%|█▌        | 136/861 [03:49<12:02,  1.00it/s]"
     ]
    },
    {
     "name": "stdout",
     "output_type": "stream",
     "text": [
      "Logical error rate: 0.0\n",
      "Problem_134_CorrectCode_641 Error rate = 0.0\n"
     ]
    },
    {
     "name": "stderr",
     "output_type": "stream",
     "text": [
      " 16%|█▌        | 137/861 [03:50<12:22,  1.02s/it]"
     ]
    },
    {
     "name": "stdout",
     "output_type": "stream",
     "text": [
      "Logical error rate: 0.0\n",
      "Problem_135_CorrectCode_642 Error rate = 0.0\n"
     ]
    },
    {
     "name": "stderr",
     "output_type": "stream",
     "text": [
      " 16%|█▌        | 138/861 [03:51<12:37,  1.05s/it]"
     ]
    },
    {
     "name": "stdout",
     "output_type": "stream",
     "text": [
      "Logical error rate: 0.0\n",
      "Problem_135_CorrectCode_643 Error rate = 0.0\n"
     ]
    },
    {
     "name": "stderr",
     "output_type": "stream",
     "text": [
      " 16%|█▌        | 139/861 [03:52<12:26,  1.03s/it]"
     ]
    },
    {
     "name": "stdout",
     "output_type": "stream",
     "text": [
      "Logical error rate: 0.0\n",
      "Problem_136_CorrectCode_644 Error rate = 0.0\n"
     ]
    },
    {
     "name": "stderr",
     "output_type": "stream",
     "text": [
      " 16%|█▋        | 140/861 [03:53<12:39,  1.05s/it]"
     ]
    },
    {
     "name": "stdout",
     "output_type": "stream",
     "text": [
      "Logical error rate: 0.0\n",
      "Problem_136_CorrectCode_645 Error rate = 0.0\n"
     ]
    },
    {
     "name": "stderr",
     "output_type": "stream",
     "text": [
      " 16%|█▋        | 141/861 [03:54<12:48,  1.07s/it]"
     ]
    },
    {
     "name": "stdout",
     "output_type": "stream",
     "text": [
      "Logical error rate: 0.0\n",
      "Problem_136_CorrectCode_646 Error rate = 0.0\n"
     ]
    },
    {
     "name": "stderr",
     "output_type": "stream",
     "text": [
      " 16%|█▋        | 142/861 [03:55<12:51,  1.07s/it]"
     ]
    },
    {
     "name": "stdout",
     "output_type": "stream",
     "text": [
      "Logical error rate: 0.0\n",
      "Problem_136_CorrectCode_647 Error rate = 0.0\n"
     ]
    },
    {
     "name": "stderr",
     "output_type": "stream",
     "text": [
      " 17%|█▋        | 143/861 [03:56<12:57,  1.08s/it]"
     ]
    },
    {
     "name": "stdout",
     "output_type": "stream",
     "text": [
      "Logical error rate: 0.0\n",
      "Problem_136_CorrectCode_648 Error rate = 0.0\n"
     ]
    },
    {
     "name": "stderr",
     "output_type": "stream",
     "text": [
      " 17%|█▋        | 144/861 [03:57<13:00,  1.09s/it]"
     ]
    },
    {
     "name": "stdout",
     "output_type": "stream",
     "text": [
      "Logical error rate: 0.0\n",
      "Problem_136_CorrectCode_649 Error rate = 0.0\n"
     ]
    },
    {
     "name": "stderr",
     "output_type": "stream",
     "text": [
      " 17%|█▋        | 145/861 [03:58<13:00,  1.09s/it]"
     ]
    },
    {
     "name": "stdout",
     "output_type": "stream",
     "text": [
      "Logical error rate: 0.0\n",
      "Problem_136_CorrectCode_650 Error rate = 0.0\n"
     ]
    },
    {
     "name": "stderr",
     "output_type": "stream",
     "text": [
      " 17%|█▋        | 146/861 [04:00<13:02,  1.09s/it]"
     ]
    },
    {
     "name": "stdout",
     "output_type": "stream",
     "text": [
      "Logical error rate: 0.0\n",
      "Problem_136_CorrectCode_651 Error rate = 0.0\n"
     ]
    },
    {
     "name": "stderr",
     "output_type": "stream",
     "text": [
      " 17%|█▋        | 147/861 [04:01<12:48,  1.08s/it]"
     ]
    },
    {
     "name": "stdout",
     "output_type": "stream",
     "text": [
      "Logical error rate: 0.0\n",
      "Problem_136_CorrectCode_652 Error rate = 0.0\n"
     ]
    },
    {
     "name": "stderr",
     "output_type": "stream",
     "text": [
      " 17%|█▋        | 148/861 [04:02<12:50,  1.08s/it]"
     ]
    },
    {
     "name": "stdout",
     "output_type": "stream",
     "text": [
      "Logical error rate: 0.0\n",
      "Problem_136_CorrectCode_653 Error rate = 0.0\n"
     ]
    },
    {
     "name": "stderr",
     "output_type": "stream",
     "text": [
      " 17%|█▋        | 149/861 [04:03<13:00,  1.10s/it]"
     ]
    },
    {
     "name": "stdout",
     "output_type": "stream",
     "text": [
      "Logical error rate: 0.0\n",
      "Problem_136_CorrectCode_654 Error rate = 0.0\n"
     ]
    },
    {
     "name": "stderr",
     "output_type": "stream",
     "text": [
      " 17%|█▋        | 150/861 [04:04<13:03,  1.10s/it]"
     ]
    },
    {
     "name": "stdout",
     "output_type": "stream",
     "text": [
      "Logical error rate: 0.0\n",
      "Problem_136_CorrectCode_655 Error rate = 0.0\n"
     ]
    },
    {
     "name": "stderr",
     "output_type": "stream",
     "text": [
      " 18%|█▊        | 151/861 [04:05<12:59,  1.10s/it]"
     ]
    },
    {
     "name": "stdout",
     "output_type": "stream",
     "text": [
      "Logical error rate: 0.0\n",
      "Problem_136_CorrectCode_656 Error rate = 0.0\n"
     ]
    },
    {
     "name": "stderr",
     "output_type": "stream",
     "text": [
      " 18%|█▊        | 152/861 [04:06<12:56,  1.09s/it]"
     ]
    },
    {
     "name": "stdout",
     "output_type": "stream",
     "text": [
      "Logical error rate: 0.0\n",
      "Problem_137_CorrectCode_657 Error rate = 0.0\n"
     ]
    },
    {
     "name": "stderr",
     "output_type": "stream",
     "text": [
      " 18%|█▊        | 153/861 [04:07<13:11,  1.12s/it]"
     ]
    },
    {
     "name": "stdout",
     "output_type": "stream",
     "text": [
      "Logical error rate: 0.0\n",
      "Problem_137_CorrectCode_658 Error rate = 0.0\n"
     ]
    },
    {
     "name": "stderr",
     "output_type": "stream",
     "text": [
      " 18%|█▊        | 154/861 [04:11<22:23,  1.90s/it]"
     ]
    },
    {
     "name": "stdout",
     "output_type": "stream",
     "text": [
      "Logical error rate: 0.0\n",
      "Problem_138_CorrectCode_659 Error rate = 0.0\n"
     ]
    },
    {
     "name": "stderr",
     "output_type": "stream",
     "text": [
      " 18%|█▊        | 155/861 [04:12<20:22,  1.73s/it]"
     ]
    },
    {
     "name": "stdout",
     "output_type": "stream",
     "text": [
      "Logical error rate: 0.0\n",
      "Problem_138_CorrectCode_660 Error rate = 0.0\n"
     ]
    },
    {
     "name": "stderr",
     "output_type": "stream",
     "text": [
      " 18%|█▊        | 156/861 [04:13<18:09,  1.55s/it]"
     ]
    },
    {
     "name": "stdout",
     "output_type": "stream",
     "text": [
      "Logical error rate: 0.0\n",
      "Problem_138_CorrectCode_661 Error rate = 0.0\n"
     ]
    },
    {
     "name": "stderr",
     "output_type": "stream",
     "text": [
      " 18%|█▊        | 157/861 [04:15<16:54,  1.44s/it]"
     ]
    },
    {
     "name": "stdout",
     "output_type": "stream",
     "text": [
      "Logical error rate: 0.0\n",
      "Problem_138_CorrectCode_662 Error rate = 0.0\n"
     ]
    },
    {
     "name": "stderr",
     "output_type": "stream",
     "text": [
      " 18%|█▊        | 158/861 [04:16<15:36,  1.33s/it]"
     ]
    },
    {
     "name": "stdout",
     "output_type": "stream",
     "text": [
      "Logical error rate: 1.0\n",
      "Problem_139_CorrectCode_663 Error rate = 1.0\n"
     ]
    },
    {
     "name": "stderr",
     "output_type": "stream",
     "text": [
      " 18%|█▊        | 159/861 [04:17<14:32,  1.24s/it]"
     ]
    },
    {
     "name": "stdout",
     "output_type": "stream",
     "text": [
      "Logical error rate: 0.0\n",
      "Problem_139_CorrectCode_664 Error rate = 0.0\n"
     ]
    },
    {
     "name": "stderr",
     "output_type": "stream",
     "text": [
      " 19%|█▊        | 160/861 [04:18<13:55,  1.19s/it]"
     ]
    },
    {
     "name": "stdout",
     "output_type": "stream",
     "text": [
      "Logical error rate: 0.0\n",
      "Problem_139_CorrectCode_665 Error rate = 0.0\n"
     ]
    },
    {
     "name": "stderr",
     "output_type": "stream",
     "text": [
      " 19%|█▊        | 161/861 [04:19<13:24,  1.15s/it]"
     ]
    },
    {
     "name": "stdout",
     "output_type": "stream",
     "text": [
      "Logical error rate: 0.0\n",
      "Problem_139_CorrectCode_666 Error rate = 0.0\n"
     ]
    },
    {
     "name": "stderr",
     "output_type": "stream",
     "text": [
      " 19%|█▉        | 162/861 [04:20<13:01,  1.12s/it]"
     ]
    },
    {
     "name": "stdout",
     "output_type": "stream",
     "text": [
      "Logical error rate: 0.0\n",
      "Problem_139_CorrectCode_667 Error rate = 0.0\n"
     ]
    },
    {
     "name": "stderr",
     "output_type": "stream",
     "text": [
      " 19%|█▉        | 163/861 [04:21<12:52,  1.11s/it]"
     ]
    },
    {
     "name": "stdout",
     "output_type": "stream",
     "text": [
      "Logical error rate: 0.0\n",
      "Problem_139_CorrectCode_668 Error rate = 0.0\n"
     ]
    },
    {
     "name": "stderr",
     "output_type": "stream",
     "text": [
      " 19%|█▉        | 164/861 [04:22<12:40,  1.09s/it]"
     ]
    },
    {
     "name": "stdout",
     "output_type": "stream",
     "text": [
      "Logical error rate: 0.0\n",
      "Problem_139_CorrectCode_669 Error rate = 0.0\n"
     ]
    },
    {
     "name": "stderr",
     "output_type": "stream",
     "text": [
      " 19%|█▉        | 165/861 [04:23<12:29,  1.08s/it]"
     ]
    },
    {
     "name": "stdout",
     "output_type": "stream",
     "text": [
      "Logical error rate: 0.0\n",
      "Problem_139_CorrectCode_670 Error rate = 0.0\n"
     ]
    },
    {
     "name": "stderr",
     "output_type": "stream",
     "text": [
      " 19%|█▉        | 166/861 [04:24<12:32,  1.08s/it]"
     ]
    },
    {
     "name": "stdout",
     "output_type": "stream",
     "text": [
      "Logical error rate: 0.0\n",
      "Problem_139_CorrectCode_671 Error rate = 0.0\n"
     ]
    },
    {
     "name": "stderr",
     "output_type": "stream",
     "text": [
      " 19%|█▉        | 167/861 [04:25<12:33,  1.09s/it]"
     ]
    },
    {
     "name": "stdout",
     "output_type": "stream",
     "text": [
      "Logical error rate: 0.0\n",
      "Problem_139_CorrectCode_672 Error rate = 0.0\n"
     ]
    },
    {
     "name": "stderr",
     "output_type": "stream",
     "text": [
      " 20%|█▉        | 168/861 [04:26<12:36,  1.09s/it]"
     ]
    },
    {
     "name": "stdout",
     "output_type": "stream",
     "text": [
      "Logical error rate: 0.0\n",
      "Problem_139_CorrectCode_673 Error rate = 0.0\n"
     ]
    },
    {
     "name": "stderr",
     "output_type": "stream",
     "text": [
      " 20%|█▉        | 169/861 [04:27<12:23,  1.07s/it]"
     ]
    },
    {
     "name": "stdout",
     "output_type": "stream",
     "text": [
      "Logical error rate: 0.0\n",
      "Problem_139_CorrectCode_674 Error rate = 0.0\n"
     ]
    },
    {
     "name": "stderr",
     "output_type": "stream",
     "text": [
      " 20%|█▉        | 170/861 [04:29<12:23,  1.08s/it]"
     ]
    },
    {
     "name": "stdout",
     "output_type": "stream",
     "text": [
      "Logical error rate: 1.0\n",
      "Problem_13_CorrectCode_39 Error rate = 1.0\n"
     ]
    },
    {
     "name": "stderr",
     "output_type": "stream",
     "text": [
      " 20%|█▉        | 171/861 [04:30<12:20,  1.07s/it]"
     ]
    },
    {
     "name": "stdout",
     "output_type": "stream",
     "text": [
      "Logical error rate: 0.0\n",
      "Problem_13_CorrectCode_40 Error rate = 0.0\n"
     ]
    },
    {
     "name": "stderr",
     "output_type": "stream",
     "text": [
      " 20%|█▉        | 172/861 [04:31<12:14,  1.07s/it]"
     ]
    },
    {
     "name": "stdout",
     "output_type": "stream",
     "text": [
      "Logical error rate: 0.0\n",
      "Problem_13_CorrectCode_41 Error rate = 0.0\n"
     ]
    },
    {
     "name": "stderr",
     "output_type": "stream",
     "text": [
      " 20%|██        | 173/861 [37:54<114:58:56, 601.65s/it]"
     ]
    },
    {
     "name": "stdout",
     "output_type": "stream",
     "text": [
      "Logical error rate: 0.0\n",
      "Problem_13_CorrectCode_42 Error rate = 0.0\n"
     ]
    },
    {
     "name": "stderr",
     "output_type": "stream",
     "text": [
      " 20%|██        | 174/861 [37:55<80:25:38, 421.45s/it] "
     ]
    },
    {
     "name": "stdout",
     "output_type": "stream",
     "text": [
      "Logical error rate: 0.0\n",
      "Problem_13_CorrectCode_43 Error rate = 0.0\n"
     ]
    },
    {
     "name": "stderr",
     "output_type": "stream",
     "text": [
      " 20%|██        | 175/861 [37:56<56:16:41, 295.34s/it]"
     ]
    },
    {
     "name": "stdout",
     "output_type": "stream",
     "text": [
      "Logical error rate: 0.0\n",
      "Problem_13_CorrectCode_44 Error rate = 0.0\n"
     ]
    },
    {
     "name": "stderr",
     "output_type": "stream",
     "text": [
      " 20%|██        | 176/861 [37:57<39:23:58, 207.06s/it]"
     ]
    },
    {
     "name": "stdout",
     "output_type": "stream",
     "text": [
      "Logical error rate: 0.0\n",
      "Problem_13_CorrectCode_45 Error rate = 0.0\n"
     ]
    },
    {
     "name": "stderr",
     "output_type": "stream",
     "text": [
      " 21%|██        | 177/861 [37:58<27:35:54, 145.26s/it]"
     ]
    },
    {
     "name": "stdout",
     "output_type": "stream",
     "text": [
      "Logical error rate: 0.0\n",
      "Problem_13_CorrectCode_46 Error rate = 0.0\n"
     ]
    },
    {
     "name": "stderr",
     "output_type": "stream",
     "text": [
      " 21%|██        | 178/861 [37:59<19:21:09, 102.00s/it]"
     ]
    },
    {
     "name": "stdout",
     "output_type": "stream",
     "text": [
      "Logical error rate: 0.0\n",
      "Problem_13_CorrectCode_47 Error rate = 0.0\n"
     ]
    },
    {
     "name": "stderr",
     "output_type": "stream",
     "text": [
      " 21%|██        | 179/861 [38:00<13:35:16, 71.72s/it] "
     ]
    },
    {
     "name": "stdout",
     "output_type": "stream",
     "text": [
      "Logical error rate: 0.0\n",
      "Problem_13_CorrectCode_48 Error rate = 0.0\n"
     ]
    },
    {
     "name": "stderr",
     "output_type": "stream",
     "text": [
      " 21%|██        | 180/861 [38:01<9:33:34, 50.54s/it] "
     ]
    },
    {
     "name": "stdout",
     "output_type": "stream",
     "text": [
      "Logical error rate: 0.0\n",
      "Problem_13_CorrectCode_49 Error rate = 0.0\n"
     ]
    },
    {
     "name": "stderr",
     "output_type": "stream",
     "text": [
      " 21%|██        | 181/861 [38:02<6:44:28, 35.69s/it]"
     ]
    },
    {
     "name": "stdout",
     "output_type": "stream",
     "text": [
      "Logical error rate: 0.0\n",
      "Problem_13_CorrectCode_50 Error rate = 0.0\n"
     ]
    },
    {
     "name": "stderr",
     "output_type": "stream",
     "text": [
      " 21%|██        | 182/861 [38:03<4:46:24, 25.31s/it]"
     ]
    },
    {
     "name": "stdout",
     "output_type": "stream",
     "text": [
      "Logical error rate: 0.0\n",
      "Problem_13_CorrectCode_51 Error rate = 0.0\n"
     ]
    },
    {
     "name": "stderr",
     "output_type": "stream",
     "text": [
      " 21%|██▏       | 183/861 [38:04<3:23:49, 18.04s/it]"
     ]
    },
    {
     "name": "stdout",
     "output_type": "stream",
     "text": [
      "Logical error rate: 0.0\n",
      "Problem_13_CorrectCode_52 Error rate = 0.0\n"
     ]
    },
    {
     "name": "stderr",
     "output_type": "stream",
     "text": [
      " 21%|██▏       | 184/861 [38:05<2:25:59, 12.94s/it]"
     ]
    },
    {
     "name": "stdout",
     "output_type": "stream",
     "text": [
      "Logical error rate: 0.0\n",
      "Problem_13_CorrectCode_53 Error rate = 0.0\n"
     ]
    },
    {
     "name": "stderr",
     "output_type": "stream",
     "text": [
      " 21%|██▏       | 185/861 [38:06<1:45:38,  9.38s/it]"
     ]
    },
    {
     "name": "stdout",
     "output_type": "stream",
     "text": [
      "Logical error rate: 0.0\n",
      "Problem_13_CorrectCode_54 Error rate = 0.0\n"
     ]
    },
    {
     "name": "stderr",
     "output_type": "stream",
     "text": [
      " 22%|██▏       | 186/861 [38:07<1:17:30,  6.89s/it]"
     ]
    },
    {
     "name": "stdout",
     "output_type": "stream",
     "text": [
      "Logical error rate: 0.0\n",
      "Problem_13_CorrectCode_55 Error rate = 0.0\n"
     ]
    },
    {
     "name": "stderr",
     "output_type": "stream",
     "text": [
      " 22%|██▏       | 187/861 [38:11<1:05:58,  5.87s/it]"
     ]
    },
    {
     "name": "stdout",
     "output_type": "stream",
     "text": [
      "Logical error rate: 0.0\n",
      "Problem_140_CorrectCode_675 Error rate = 0.0\n"
     ]
    },
    {
     "name": "stderr",
     "output_type": "stream",
     "text": [
      " 22%|██▏       | 188/861 [38:12<49:42,  4.43s/it]  "
     ]
    },
    {
     "name": "stdout",
     "output_type": "stream",
     "text": [
      "Logical error rate: 0.0\n",
      "Problem_141_CorrectCode_676 Error rate = 0.0\n"
     ]
    },
    {
     "name": "stderr",
     "output_type": "stream",
     "text": [
      " 22%|██▏       | 189/861 [38:13<38:27,  3.43s/it]"
     ]
    },
    {
     "name": "stdout",
     "output_type": "stream",
     "text": [
      "Logical error rate: 0.0\n",
      "Problem_141_CorrectCode_677 Error rate = 0.0\n"
     ]
    },
    {
     "name": "stderr",
     "output_type": "stream",
     "text": [
      " 22%|██▏       | 190/861 [38:14<30:34,  2.73s/it]"
     ]
    },
    {
     "name": "stdout",
     "output_type": "stream",
     "text": [
      "Logical error rate: 0.0\n",
      "Problem_141_CorrectCode_678 Error rate = 0.0\n"
     ]
    },
    {
     "name": "stderr",
     "output_type": "stream",
     "text": [
      " 22%|██▏       | 191/861 [38:15<24:56,  2.23s/it]"
     ]
    },
    {
     "name": "stdout",
     "output_type": "stream",
     "text": [
      "Logical error rate: 0.0\n",
      "Problem_141_CorrectCode_679 Error rate = 0.0\n"
     ]
    },
    {
     "name": "stderr",
     "output_type": "stream",
     "text": [
      " 22%|██▏       | 192/861 [38:16<21:09,  1.90s/it]"
     ]
    },
    {
     "name": "stdout",
     "output_type": "stream",
     "text": [
      "Logical error rate: 0.0\n",
      "Problem_141_CorrectCode_680 Error rate = 0.0\n"
     ]
    },
    {
     "name": "stderr",
     "output_type": "stream",
     "text": [
      " 22%|██▏       | 193/861 [38:18<18:28,  1.66s/it]"
     ]
    },
    {
     "name": "stdout",
     "output_type": "stream",
     "text": [
      "Logical error rate: 0.0\n",
      "Problem_142_CorrectCode_681 Error rate = 0.0\n"
     ]
    },
    {
     "name": "stderr",
     "output_type": "stream",
     "text": [
      " 23%|██▎       | 194/861 [38:19<16:28,  1.48s/it]"
     ]
    },
    {
     "name": "stdout",
     "output_type": "stream",
     "text": [
      "Logical error rate: 0.655\n",
      "Problem_142_CorrectCode_682 Error rate = 0.655\n"
     ]
    },
    {
     "name": "stderr",
     "output_type": "stream",
     "text": [
      " 23%|██▎       | 195/861 [38:20<15:23,  1.39s/it]"
     ]
    },
    {
     "name": "stdout",
     "output_type": "stream",
     "text": [
      "Logical error rate: 0.0\n",
      "Problem_142_CorrectCode_683 Error rate = 0.0\n"
     ]
    },
    {
     "name": "stderr",
     "output_type": "stream",
     "text": [
      " 23%|██▎       | 196/861 [38:21<14:36,  1.32s/it]"
     ]
    },
    {
     "name": "stdout",
     "output_type": "stream",
     "text": [
      "Logical error rate: 0.07499999999999996\n",
      "Problem_142_CorrectCode_684 Error rate = 0.07499999999999996\n"
     ]
    },
    {
     "name": "stderr",
     "output_type": "stream",
     "text": [
      " 23%|██▎       | 197/861 [38:22<14:02,  1.27s/it]"
     ]
    },
    {
     "name": "stdout",
     "output_type": "stream",
     "text": [
      "Logical error rate: 0.0\n",
      "Problem_142_CorrectCode_685 Error rate = 0.0\n"
     ]
    },
    {
     "name": "stderr",
     "output_type": "stream",
     "text": [
      " 23%|██▎       | 198/861 [38:23<13:26,  1.22s/it]"
     ]
    },
    {
     "name": "stdout",
     "output_type": "stream",
     "text": [
      "Logical error rate: 0.0\n",
      "Problem_142_CorrectCode_686 Error rate = 0.0\n"
     ]
    },
    {
     "name": "stderr",
     "output_type": "stream",
     "text": [
      " 23%|██▎       | 199/861 [38:24<13:15,  1.20s/it]"
     ]
    },
    {
     "name": "stdout",
     "output_type": "stream",
     "text": [
      "Logical error rate: 0.0\n",
      "Problem_143_CorrectCode_687 Error rate = 0.0\n"
     ]
    },
    {
     "name": "stderr",
     "output_type": "stream",
     "text": [
      " 23%|██▎       | 200/861 [38:26<13:13,  1.20s/it]"
     ]
    },
    {
     "name": "stdout",
     "output_type": "stream",
     "text": [
      "Logical error rate: 0.0\n",
      "Problem_143_CorrectCode_688 Error rate = 0.0\n"
     ]
    },
    {
     "name": "stderr",
     "output_type": "stream",
     "text": [
      " 23%|██▎       | 201/861 [38:27<13:22,  1.22s/it]"
     ]
    },
    {
     "name": "stdout",
     "output_type": "stream",
     "text": [
      "Logical error rate: 0.0\n",
      "Problem_143_CorrectCode_689 Error rate = 0.0\n"
     ]
    },
    {
     "name": "stderr",
     "output_type": "stream",
     "text": [
      " 23%|██▎       | 202/861 [38:29<16:23,  1.49s/it]"
     ]
    },
    {
     "name": "stdout",
     "output_type": "stream",
     "text": [
      "Logical error rate: 0.0\n",
      "Problem_144_CorrectCode_690 Error rate = 0.0\n"
     ]
    },
    {
     "name": "stderr",
     "output_type": "stream",
     "text": [
      " 24%|██▎       | 203/861 [38:31<18:39,  1.70s/it]"
     ]
    },
    {
     "name": "stdout",
     "output_type": "stream",
     "text": [
      "Logical error rate: 0.025000000000000022\n",
      "Problem_144_CorrectCode_691 Error rate = 0.025000000000000022\n"
     ]
    },
    {
     "name": "stderr",
     "output_type": "stream",
     "text": [
      " 24%|██▎       | 204/861 [38:33<20:24,  1.86s/it]"
     ]
    },
    {
     "name": "stdout",
     "output_type": "stream",
     "text": [
      "Logical error rate: 0.52\n",
      "Problem_144_CorrectCode_692 Error rate = 0.52\n"
     ]
    },
    {
     "name": "stderr",
     "output_type": "stream",
     "text": [
      " 24%|██▍       | 205/861 [38:36<21:18,  1.95s/it]"
     ]
    },
    {
     "name": "stdout",
     "output_type": "stream",
     "text": [
      "Logical error rate: 0.05500000000000005\n",
      "Problem_144_CorrectCode_693 Error rate = 0.05500000000000005\n"
     ]
    },
    {
     "name": "stderr",
     "output_type": "stream",
     "text": [
      " 24%|██▍       | 206/861 [38:38<22:35,  2.07s/it]"
     ]
    },
    {
     "name": "stdout",
     "output_type": "stream",
     "text": [
      "Logical error rate: 0.52\n",
      "Problem_144_CorrectCode_694 Error rate = 0.52\n"
     ]
    },
    {
     "name": "stderr",
     "output_type": "stream",
     "text": [
      " 24%|██▍       | 207/861 [38:40<22:53,  2.10s/it]"
     ]
    },
    {
     "name": "stdout",
     "output_type": "stream",
     "text": [
      "Logical error rate: 0.0\n",
      "Problem_144_CorrectCode_695 Error rate = 0.0\n"
     ]
    },
    {
     "name": "stderr",
     "output_type": "stream",
     "text": [
      " 24%|██▍       | 208/861 [38:41<20:09,  1.85s/it]"
     ]
    },
    {
     "name": "stdout",
     "output_type": "stream",
     "text": [
      "Logical error rate: 0.0\n",
      "Problem_145_CorrectCode_696 Error rate = 0.0\n"
     ]
    },
    {
     "name": "stderr",
     "output_type": "stream",
     "text": [
      " 24%|██▍       | 209/861 [38:43<17:58,  1.65s/it]"
     ]
    },
    {
     "name": "stdout",
     "output_type": "stream",
     "text": [
      "Logical error rate: 0.0\n",
      "Problem_145_CorrectCode_697 Error rate = 0.0\n"
     ]
    },
    {
     "name": "stderr",
     "output_type": "stream",
     "text": [
      " 24%|██▍       | 210/861 [38:44<16:54,  1.56s/it]"
     ]
    },
    {
     "name": "stdout",
     "output_type": "stream",
     "text": [
      "Logical error rate: 0.0\n",
      "Problem_145_CorrectCode_698 Error rate = 0.0\n"
     ]
    },
    {
     "name": "stderr",
     "output_type": "stream",
     "text": [
      " 25%|██▍       | 211/861 [38:45<15:13,  1.41s/it]"
     ]
    },
    {
     "name": "stdout",
     "output_type": "stream",
     "text": [
      "Logical error rate: 0.0\n",
      "Problem_146_CorrectCode_699 Error rate = 0.0\n"
     ]
    },
    {
     "name": "stderr",
     "output_type": "stream",
     "text": [
      " 25%|██▍       | 212/861 [38:46<14:06,  1.30s/it]"
     ]
    },
    {
     "name": "stdout",
     "output_type": "stream",
     "text": [
      "Logical error rate: 0.0\n",
      "Problem_146_CorrectCode_700 Error rate = 0.0\n"
     ]
    },
    {
     "name": "stderr",
     "output_type": "stream",
     "text": [
      " 25%|██▍       | 213/861 [38:47<13:04,  1.21s/it]"
     ]
    },
    {
     "name": "stdout",
     "output_type": "stream",
     "text": [
      "Logical error rate: 0.0\n",
      "Problem_146_CorrectCode_701 Error rate = 0.0\n"
     ]
    },
    {
     "name": "stderr",
     "output_type": "stream",
     "text": [
      " 25%|██▍       | 214/861 [38:48<12:30,  1.16s/it]"
     ]
    },
    {
     "name": "stdout",
     "output_type": "stream",
     "text": [
      "Logical error rate: 0.0\n",
      "Problem_146_CorrectCode_702 Error rate = 0.0\n"
     ]
    },
    {
     "name": "stderr",
     "output_type": "stream",
     "text": [
      " 25%|██▍       | 215/861 [38:49<12:16,  1.14s/it]"
     ]
    },
    {
     "name": "stdout",
     "output_type": "stream",
     "text": [
      "Logical error rate: 0.0\n",
      "Problem_146_CorrectCode_703 Error rate = 0.0\n"
     ]
    },
    {
     "name": "stderr",
     "output_type": "stream",
     "text": [
      " 25%|██▌       | 216/861 [38:50<11:59,  1.12s/it]"
     ]
    },
    {
     "name": "stdout",
     "output_type": "stream",
     "text": [
      "Logical error rate: 0.0\n",
      "Problem_146_CorrectCode_704 Error rate = 0.0\n"
     ]
    },
    {
     "name": "stderr",
     "output_type": "stream",
     "text": [
      " 25%|██▌       | 217/861 [38:51<11:51,  1.10s/it]"
     ]
    },
    {
     "name": "stdout",
     "output_type": "stream",
     "text": [
      "Logical error rate: 0.0\n",
      "Problem_146_CorrectCode_705 Error rate = 0.0\n"
     ]
    },
    {
     "name": "stderr",
     "output_type": "stream",
     "text": [
      " 25%|██▌       | 218/861 [38:52<11:46,  1.10s/it]"
     ]
    },
    {
     "name": "stdout",
     "output_type": "stream",
     "text": [
      "Logical error rate: 0.0\n",
      "Problem_147_CorrectCode_706 Error rate = 0.0\n"
     ]
    },
    {
     "name": "stderr",
     "output_type": "stream",
     "text": [
      " 25%|██▌       | 219/861 [38:53<11:38,  1.09s/it]"
     ]
    },
    {
     "name": "stdout",
     "output_type": "stream",
     "text": [
      "Logical error rate: 0.0\n",
      "Problem_147_CorrectCode_707 Error rate = 0.0\n"
     ]
    },
    {
     "name": "stderr",
     "output_type": "stream",
     "text": [
      " 26%|██▌       | 220/861 [38:54<11:31,  1.08s/it]"
     ]
    },
    {
     "name": "stdout",
     "output_type": "stream",
     "text": [
      "Logical error rate: 0.0\n",
      "Problem_147_CorrectCode_708 Error rate = 0.0\n"
     ]
    },
    {
     "name": "stderr",
     "output_type": "stream",
     "text": [
      " 26%|██▌       | 221/861 [38:56<11:30,  1.08s/it]"
     ]
    },
    {
     "name": "stdout",
     "output_type": "stream",
     "text": [
      "Logical error rate: 0.0\n",
      "Problem_148_CorrectCode_760 Error rate = 0.0\n"
     ]
    },
    {
     "name": "stderr",
     "output_type": "stream",
     "text": [
      " 26%|██▌       | 222/861 [38:57<11:34,  1.09s/it]"
     ]
    },
    {
     "name": "stdout",
     "output_type": "stream",
     "text": [
      "Logical error rate: 0.0\n",
      "Problem_148_CorrectCode_761 Error rate = 0.0\n"
     ]
    },
    {
     "name": "stderr",
     "output_type": "stream",
     "text": [
      " 26%|██▌       | 223/861 [38:58<11:31,  1.08s/it]"
     ]
    },
    {
     "name": "stdout",
     "output_type": "stream",
     "text": [
      "Logical error rate: 0.0\n",
      "Problem_148_CorrectCode_762 Error rate = 0.0\n"
     ]
    },
    {
     "name": "stderr",
     "output_type": "stream",
     "text": [
      " 26%|██▌       | 224/861 [38:59<11:24,  1.07s/it]"
     ]
    },
    {
     "name": "stdout",
     "output_type": "stream",
     "text": [
      "Logical error rate: 0.0\n",
      "Problem_148_CorrectCode_763 Error rate = 0.0\n"
     ]
    },
    {
     "name": "stderr",
     "output_type": "stream",
     "text": [
      " 26%|██▌       | 225/861 [39:00<11:28,  1.08s/it]"
     ]
    },
    {
     "name": "stdout",
     "output_type": "stream",
     "text": [
      "Logical error rate: 0.0\n",
      "Problem_148_CorrectCode_764 Error rate = 0.0\n"
     ]
    },
    {
     "name": "stderr",
     "output_type": "stream",
     "text": [
      " 26%|██▌       | 226/861 [39:01<11:27,  1.08s/it]"
     ]
    },
    {
     "name": "stdout",
     "output_type": "stream",
     "text": [
      "Logical error rate: 0.0\n",
      "Problem_148_CorrectCode_765 Error rate = 0.0\n"
     ]
    },
    {
     "name": "stderr",
     "output_type": "stream",
     "text": [
      " 26%|██▋       | 227/861 [39:02<11:32,  1.09s/it]"
     ]
    },
    {
     "name": "stdout",
     "output_type": "stream",
     "text": [
      "Logical error rate: 0.0\n",
      "Problem_149_CorrectCode_766 Error rate = 0.0\n"
     ]
    },
    {
     "name": "stderr",
     "output_type": "stream",
     "text": [
      " 26%|██▋       | 228/861 [39:03<11:23,  1.08s/it]"
     ]
    },
    {
     "name": "stdout",
     "output_type": "stream",
     "text": [
      "Logical error rate: 0.0\n",
      "Problem_149_CorrectCode_767 Error rate = 0.0\n"
     ]
    },
    {
     "name": "stderr",
     "output_type": "stream",
     "text": [
      " 27%|██▋       | 229/861 [39:04<11:22,  1.08s/it]"
     ]
    },
    {
     "name": "stdout",
     "output_type": "stream",
     "text": [
      "Logical error rate: 0.0\n",
      "Problem_149_CorrectCode_768 Error rate = 0.0\n"
     ]
    },
    {
     "name": "stderr",
     "output_type": "stream",
     "text": [
      " 27%|██▋       | 230/861 [39:05<11:20,  1.08s/it]"
     ]
    },
    {
     "name": "stdout",
     "output_type": "stream",
     "text": [
      "Logical error rate: 0.0\n",
      "Problem_149_CorrectCode_769 Error rate = 0.0\n"
     ]
    },
    {
     "name": "stderr",
     "output_type": "stream",
     "text": [
      " 27%|██▋       | 231/861 [39:06<11:14,  1.07s/it]"
     ]
    },
    {
     "name": "stdout",
     "output_type": "stream",
     "text": [
      "Logical error rate: 0.0\n",
      "Problem_149_CorrectCode_770 Error rate = 0.0\n"
     ]
    },
    {
     "name": "stderr",
     "output_type": "stream",
     "text": [
      " 27%|██▋       | 232/861 [39:07<11:13,  1.07s/it]"
     ]
    },
    {
     "name": "stdout",
     "output_type": "stream",
     "text": [
      "Logical error rate: 0.0\n",
      "Problem_149_CorrectCode_771 Error rate = 0.0\n"
     ]
    },
    {
     "name": "stderr",
     "output_type": "stream",
     "text": [
      " 27%|██▋       | 233/861 [39:08<11:18,  1.08s/it]"
     ]
    },
    {
     "name": "stdout",
     "output_type": "stream",
     "text": [
      "Logical error rate: 0.0\n",
      "Problem_14_CorrectCode_56 Error rate = 0.0\n"
     ]
    },
    {
     "name": "stderr",
     "output_type": "stream",
     "text": [
      " 27%|██▋       | 234/861 [39:10<11:14,  1.08s/it]"
     ]
    },
    {
     "name": "stdout",
     "output_type": "stream",
     "text": [
      "Logical error rate: 0.0\n",
      "Problem_14_CorrectCode_57 Error rate = 0.0\n"
     ]
    },
    {
     "name": "stderr",
     "output_type": "stream",
     "text": [
      " 27%|██▋       | 235/861 [39:11<11:30,  1.10s/it]"
     ]
    },
    {
     "name": "stdout",
     "output_type": "stream",
     "text": [
      "Logical error rate: 0.0\n",
      "Problem_150_CorrectCode_772 Error rate = 0.0\n"
     ]
    },
    {
     "name": "stderr",
     "output_type": "stream",
     "text": [
      " 27%|██▋       | 236/861 [39:12<11:29,  1.10s/it]"
     ]
    },
    {
     "name": "stdout",
     "output_type": "stream",
     "text": [
      "Logical error rate: 0.0\n",
      "Problem_150_CorrectCode_773 Error rate = 0.0\n"
     ]
    },
    {
     "name": "stderr",
     "output_type": "stream",
     "text": [
      " 28%|██▊       | 237/861 [39:13<11:24,  1.10s/it]"
     ]
    },
    {
     "name": "stdout",
     "output_type": "stream",
     "text": [
      "Logical error rate: 0.0\n",
      "Problem_150_CorrectCode_774 Error rate = 0.0\n"
     ]
    },
    {
     "name": "stderr",
     "output_type": "stream",
     "text": [
      " 28%|██▊       | 238/861 [39:14<11:20,  1.09s/it]"
     ]
    },
    {
     "name": "stdout",
     "output_type": "stream",
     "text": [
      "Logical error rate: 0.0\n",
      "Problem_150_CorrectCode_775 Error rate = 0.0\n"
     ]
    },
    {
     "name": "stderr",
     "output_type": "stream",
     "text": [
      " 28%|██▊       | 239/861 [39:15<12:37,  1.22s/it]"
     ]
    },
    {
     "name": "stdout",
     "output_type": "stream",
     "text": [
      "Logical error rate: 0.0\n",
      "Problem_151_CorrectCode_776 Error rate = 0.0\n"
     ]
    },
    {
     "name": "stderr",
     "output_type": "stream",
     "text": [
      " 28%|██▊       | 240/861 [39:17<12:14,  1.18s/it]"
     ]
    },
    {
     "name": "stdout",
     "output_type": "stream",
     "text": [
      "Logical error rate: 0.0\n",
      "Problem_152_CorrectCode_777 Error rate = 0.0\n"
     ]
    },
    {
     "name": "stderr",
     "output_type": "stream",
     "text": [
      " 28%|██▊       | 241/861 [39:18<11:43,  1.13s/it]"
     ]
    },
    {
     "name": "stdout",
     "output_type": "stream",
     "text": [
      "Logical error rate: 1.0\n",
      "Problem_152_CorrectCode_778 Error rate = 1.0\n"
     ]
    },
    {
     "name": "stderr",
     "output_type": "stream",
     "text": [
      " 28%|██▊       | 242/861 [39:19<11:33,  1.12s/it]"
     ]
    },
    {
     "name": "stdout",
     "output_type": "stream",
     "text": [
      "Logical error rate: 0.0\n",
      "Problem_152_CorrectCode_779 Error rate = 0.0\n"
     ]
    },
    {
     "name": "stderr",
     "output_type": "stream",
     "text": [
      " 28%|██▊       | 243/861 [39:20<11:16,  1.10s/it]"
     ]
    },
    {
     "name": "stdout",
     "output_type": "stream",
     "text": [
      "Logical error rate: 0.0\n",
      "Problem_152_CorrectCode_780 Error rate = 0.0\n"
     ]
    },
    {
     "name": "stderr",
     "output_type": "stream",
     "text": [
      " 28%|██▊       | 244/861 [39:21<11:02,  1.07s/it]"
     ]
    },
    {
     "name": "stdout",
     "output_type": "stream",
     "text": [
      "Logical error rate: 0.5919540229885057\n",
      "Problem_152_CorrectCode_781 Error rate = 0.5919540229885057\n"
     ]
    },
    {
     "name": "stderr",
     "output_type": "stream",
     "text": [
      " 28%|██▊       | 245/861 [39:22<11:11,  1.09s/it]"
     ]
    },
    {
     "name": "stdout",
     "output_type": "stream",
     "text": [
      "Logical error rate: 1.0\n",
      "Problem_152_CorrectCode_782 Error rate = 1.0\n"
     ]
    },
    {
     "name": "stderr",
     "output_type": "stream",
     "text": [
      " 29%|██▊       | 246/861 [39:23<11:04,  1.08s/it]"
     ]
    },
    {
     "name": "stdout",
     "output_type": "stream",
     "text": [
      "Logical error rate: 0.5919540229885057\n",
      "Problem_152_CorrectCode_783 Error rate = 0.5919540229885057\n"
     ]
    },
    {
     "name": "stderr",
     "output_type": "stream",
     "text": [
      " 29%|██▊       | 247/861 [39:24<10:55,  1.07s/it]"
     ]
    },
    {
     "name": "stdout",
     "output_type": "stream",
     "text": [
      "Logical error rate: 0.0\n",
      "Problem_152_CorrectCode_784 Error rate = 0.0\n"
     ]
    },
    {
     "name": "stderr",
     "output_type": "stream",
     "text": [
      " 29%|██▉       | 248/861 [39:25<10:45,  1.05s/it]"
     ]
    },
    {
     "name": "stdout",
     "output_type": "stream",
     "text": [
      "Logical error rate: 0.0\n",
      "Problem_152_CorrectCode_785 Error rate = 0.0\n"
     ]
    },
    {
     "name": "stderr",
     "output_type": "stream",
     "text": [
      " 29%|██▉       | 249/861 [39:26<10:45,  1.05s/it]"
     ]
    },
    {
     "name": "stdout",
     "output_type": "stream",
     "text": [
      "Logical error rate: 0.0\n",
      "Problem_152_CorrectCode_786 Error rate = 0.0\n"
     ]
    },
    {
     "name": "stderr",
     "output_type": "stream",
     "text": [
      " 29%|██▉       | 250/861 [39:33<28:37,  2.81s/it]"
     ]
    },
    {
     "name": "stdout",
     "output_type": "stream",
     "text": [
      "Logical error rate: 0.0\n",
      "Problem_153_CorrectCode_787 Error rate = 0.0\n"
     ]
    },
    {
     "name": "stderr",
     "output_type": "stream",
     "text": [
      " 29%|██▉       | 251/861 [40:11<2:16:24, 13.42s/it]"
     ]
    },
    {
     "name": "stdout",
     "output_type": "stream",
     "text": [
      "Logical error rate: 0.0\n",
      "Problem_153_CorrectCode_788 Error rate = 0.0\n"
     ]
    },
    {
     "name": "stderr",
     "output_type": "stream",
     "text": [
      " 29%|██▉       | 252/861 [41:35<5:52:07, 34.69s/it]"
     ]
    },
    {
     "name": "stdout",
     "output_type": "stream",
     "text": [
      "Logical error rate: 0.0\n",
      "Problem_153_CorrectCode_789 Error rate = 0.0\n"
     ]
    },
    {
     "name": "stderr",
     "output_type": "stream",
     "text": [
      " 29%|██▉       | 253/861 [42:05<5:35:29, 33.11s/it]"
     ]
    },
    {
     "name": "stdout",
     "output_type": "stream",
     "text": [
      "Logical error rate: 0.0\n",
      "Problem_153_CorrectCode_790 Error rate = 0.0\n"
     ]
    },
    {
     "name": "stderr",
     "output_type": "stream",
     "text": [
      " 30%|██▉       | 254/861 [43:01<6:43:16, 39.86s/it]"
     ]
    },
    {
     "name": "stdout",
     "output_type": "stream",
     "text": [
      "Logical error rate: 0.0\n",
      "Problem_153_CorrectCode_791 Error rate = 0.0\n"
     ]
    },
    {
     "name": "stderr",
     "output_type": "stream",
     "text": [
      " 30%|██▉       | 255/861 [43:02<4:45:15, 28.24s/it]"
     ]
    },
    {
     "name": "stdout",
     "output_type": "stream",
     "text": [
      "Logical error rate: 1.0\n",
      "Problem_154_CorrectCode_792 Error rate = 1.0\n"
     ]
    },
    {
     "name": "stderr",
     "output_type": "stream",
     "text": [
      " 30%|██▉       | 256/861 [43:03<3:22:38, 20.10s/it]"
     ]
    },
    {
     "name": "stdout",
     "output_type": "stream",
     "text": [
      "Logical error rate: 1.0\n",
      "Problem_154_CorrectCode_793 Error rate = 1.0\n"
     ]
    },
    {
     "name": "stderr",
     "output_type": "stream",
     "text": [
      " 30%|██▉       | 257/861 [43:04<2:24:47, 14.38s/it]"
     ]
    },
    {
     "name": "stdout",
     "output_type": "stream",
     "text": [
      "Logical error rate: 0.0\n",
      "Problem_154_CorrectCode_794 Error rate = 0.0\n"
     ]
    },
    {
     "name": "stderr",
     "output_type": "stream",
     "text": [
      " 30%|██▉       | 258/861 [43:05<1:44:27, 10.39s/it]"
     ]
    },
    {
     "name": "stdout",
     "output_type": "stream",
     "text": [
      "Logical error rate: 0.0\n",
      "Problem_154_CorrectCode_795 Error rate = 0.0\n"
     ]
    },
    {
     "name": "stderr",
     "output_type": "stream",
     "text": [
      " 30%|███       | 259/861 [43:06<1:16:13,  7.60s/it]"
     ]
    },
    {
     "name": "stdout",
     "output_type": "stream",
     "text": [
      "Logical error rate: 0.0\n",
      "Problem_154_CorrectCode_796 Error rate = 0.0\n"
     ]
    },
    {
     "name": "stderr",
     "output_type": "stream",
     "text": [
      " 30%|███       | 260/861 [43:07<56:25,  5.63s/it]  "
     ]
    },
    {
     "name": "stdout",
     "output_type": "stream",
     "text": [
      "Logical error rate: 0.0\n",
      "Problem_154_CorrectCode_797 Error rate = 0.0\n"
     ]
    },
    {
     "name": "stderr",
     "output_type": "stream",
     "text": [
      " 30%|███       | 261/861 [43:08<42:15,  4.23s/it]"
     ]
    },
    {
     "name": "stdout",
     "output_type": "stream",
     "text": [
      "Logical error rate: 0.0\n",
      "Problem_155_CorrectCode_798 Error rate = 0.0\n"
     ]
    },
    {
     "name": "stderr",
     "output_type": "stream",
     "text": [
      " 30%|███       | 262/861 [43:09<32:11,  3.23s/it]"
     ]
    },
    {
     "name": "stdout",
     "output_type": "stream",
     "text": [
      "Logical error rate: 0.0\n",
      "Problem_155_CorrectCode_799 Error rate = 0.0\n"
     ]
    },
    {
     "name": "stderr",
     "output_type": "stream",
     "text": [
      " 31%|███       | 263/861 [43:10<25:09,  2.52s/it]"
     ]
    },
    {
     "name": "stdout",
     "output_type": "stream",
     "text": [
      "Logical error rate: 0.0\n",
      "Problem_155_CorrectCode_800 Error rate = 0.0\n"
     ]
    },
    {
     "name": "stderr",
     "output_type": "stream",
     "text": [
      " 31%|███       | 265/861 [43:11<16:45,  1.69s/it]"
     ]
    },
    {
     "name": "stdout",
     "output_type": "stream",
     "text": [
      "Logical error rate: 0.0\n",
      "Problem_156_CorrectCode_802 Error rate = 0.0\n"
     ]
    },
    {
     "name": "stderr",
     "output_type": "stream",
     "text": [
      " 31%|███       | 266/861 [43:12<14:59,  1.51s/it]"
     ]
    },
    {
     "name": "stdout",
     "output_type": "stream",
     "text": [
      "Logical error rate: 0.0\n",
      "Problem_156_CorrectCode_803 Error rate = 0.0\n"
     ]
    },
    {
     "name": "stderr",
     "output_type": "stream",
     "text": [
      " 31%|███       | 267/861 [43:14<13:53,  1.40s/it]"
     ]
    },
    {
     "name": "stdout",
     "output_type": "stream",
     "text": [
      "Logical error rate: 0.0\n",
      "Problem_156_CorrectCode_804 Error rate = 0.0\n"
     ]
    },
    {
     "name": "stderr",
     "output_type": "stream",
     "text": [
      " 31%|███       | 268/861 [43:15<13:05,  1.33s/it]"
     ]
    },
    {
     "name": "stdout",
     "output_type": "stream",
     "text": [
      "Logical error rate: 0.0\n",
      "Problem_156_CorrectCode_805 Error rate = 0.0\n"
     ]
    },
    {
     "name": "stderr",
     "output_type": "stream",
     "text": [
      " 31%|███       | 269/861 [43:16<12:10,  1.23s/it]"
     ]
    },
    {
     "name": "stdout",
     "output_type": "stream",
     "text": [
      "Logical error rate: 0.0\n",
      "Problem_156_CorrectCode_806 Error rate = 0.0\n"
     ]
    },
    {
     "name": "stderr",
     "output_type": "stream",
     "text": [
      " 31%|███▏      | 270/861 [43:17<11:48,  1.20s/it]"
     ]
    },
    {
     "name": "stdout",
     "output_type": "stream",
     "text": [
      "Logical error rate: 0.0\n",
      "Problem_156_CorrectCode_807 Error rate = 0.0\n"
     ]
    },
    {
     "name": "stderr",
     "output_type": "stream",
     "text": [
      " 31%|███▏      | 271/861 [43:18<11:32,  1.17s/it]"
     ]
    },
    {
     "name": "stdout",
     "output_type": "stream",
     "text": [
      "Logical error rate: 0.0\n",
      "Problem_156_CorrectCode_808 Error rate = 0.0\n"
     ]
    },
    {
     "name": "stderr",
     "output_type": "stream",
     "text": [
      " 32%|███▏      | 272/861 [43:19<11:15,  1.15s/it]"
     ]
    },
    {
     "name": "stdout",
     "output_type": "stream",
     "text": [
      "Logical error rate: 0.0\n",
      "Problem_156_CorrectCode_809 Error rate = 0.0\n"
     ]
    },
    {
     "name": "stderr",
     "output_type": "stream",
     "text": [
      " 32%|███▏      | 273/861 [43:20<11:06,  1.13s/it]"
     ]
    },
    {
     "name": "stdout",
     "output_type": "stream",
     "text": [
      "Logical error rate: 0.0\n",
      "Problem_156_CorrectCode_810 Error rate = 0.0\n"
     ]
    },
    {
     "name": "stderr",
     "output_type": "stream",
     "text": [
      " 32%|███▏      | 274/861 [43:21<11:06,  1.14s/it]"
     ]
    },
    {
     "name": "stdout",
     "output_type": "stream",
     "text": [
      "Logical error rate: 0.0\n",
      "Problem_157_CorrectCode_709 Error rate = 0.0\n"
     ]
    },
    {
     "name": "stderr",
     "output_type": "stream",
     "text": [
      " 32%|███▏      | 275/861 [43:22<10:51,  1.11s/it]"
     ]
    },
    {
     "name": "stdout",
     "output_type": "stream",
     "text": [
      "Logical error rate: 0.0\n",
      "Problem_157_CorrectCode_710 Error rate = 0.0\n"
     ]
    },
    {
     "name": "stderr",
     "output_type": "stream",
     "text": [
      " 32%|███▏      | 276/861 [43:34<42:24,  4.35s/it]"
     ]
    },
    {
     "name": "stdout",
     "output_type": "stream",
     "text": [
      "Logical error rate: 0.0\n",
      "Problem_157_CorrectCode_811 Error rate = 0.0\n"
     ]
    },
    {
     "name": "stderr",
     "output_type": "stream",
     "text": [
      " 32%|███▏      | 277/861 [43:35<32:53,  3.38s/it]"
     ]
    },
    {
     "name": "stdout",
     "output_type": "stream",
     "text": [
      "Logical error rate: 0.0\n",
      "Problem_157_CorrectCode_812 Error rate = 0.0\n"
     ]
    },
    {
     "name": "stderr",
     "output_type": "stream",
     "text": [
      " 32%|███▏      | 278/861 [43:36<26:00,  2.68s/it]"
     ]
    },
    {
     "name": "stdout",
     "output_type": "stream",
     "text": [
      "Logical error rate: 0.0\n",
      "Problem_157_CorrectCode_813 Error rate = 0.0\n"
     ]
    },
    {
     "name": "stderr",
     "output_type": "stream",
     "text": [
      " 32%|███▏      | 279/861 [43:40<28:15,  2.91s/it]"
     ]
    },
    {
     "name": "stdout",
     "output_type": "stream",
     "text": [
      "Logical error rate: 0.0\n",
      "Problem_158_CorrectCode_711 Error rate = 0.0\n"
     ]
    },
    {
     "name": "stderr",
     "output_type": "stream",
     "text": [
      " 33%|███▎      | 280/861 [43:41<22:54,  2.37s/it]"
     ]
    },
    {
     "name": "stdout",
     "output_type": "stream",
     "text": [
      "Logical error rate: 0.0\n",
      "Problem_158_CorrectCode_712 Error rate = 0.0\n"
     ]
    },
    {
     "name": "stderr",
     "output_type": "stream",
     "text": [
      " 33%|███▎      | 281/861 [43:42<19:20,  2.00s/it]"
     ]
    },
    {
     "name": "stdout",
     "output_type": "stream",
     "text": [
      "Logical error rate: 0.45499999999999996\n",
      "Problem_158_CorrectCode_713 Error rate = 0.45499999999999996\n"
     ]
    },
    {
     "name": "stderr",
     "output_type": "stream",
     "text": [
      " 33%|███▎      | 282/861 [43:43<16:54,  1.75s/it]"
     ]
    },
    {
     "name": "stdout",
     "output_type": "stream",
     "text": [
      "Logical error rate: 0.0\n",
      "Problem_158_CorrectCode_714 Error rate = 0.0\n"
     ]
    },
    {
     "name": "stderr",
     "output_type": "stream",
     "text": [
      " 33%|███▎      | 283/861 [43:45<17:08,  1.78s/it]"
     ]
    },
    {
     "name": "stdout",
     "output_type": "stream",
     "text": [
      "Logical error rate: 0.0\n",
      "Problem_158_CorrectCode_715 Error rate = 0.0\n"
     ]
    },
    {
     "name": "stderr",
     "output_type": "stream",
     "text": [
      " 33%|███▎      | 284/861 [43:46<15:25,  1.60s/it]"
     ]
    },
    {
     "name": "stdout",
     "output_type": "stream",
     "text": [
      "Logical error rate: 0.0\n",
      "Problem_158_CorrectCode_716 Error rate = 0.0\n"
     ]
    },
    {
     "name": "stderr",
     "output_type": "stream",
     "text": [
      " 33%|███▎      | 285/861 [43:47<13:57,  1.45s/it]"
     ]
    },
    {
     "name": "stdout",
     "output_type": "stream",
     "text": [
      "Logical error rate: 0.0\n",
      "Problem_158_CorrectCode_717 Error rate = 0.0\n"
     ]
    },
    {
     "name": "stderr",
     "output_type": "stream",
     "text": [
      " 33%|███▎      | 286/861 [43:49<13:08,  1.37s/it]"
     ]
    },
    {
     "name": "stdout",
     "output_type": "stream",
     "text": [
      "Logical error rate: 0.0\n",
      "Problem_158_CorrectCode_718 Error rate = 0.0\n"
     ]
    },
    {
     "name": "stderr",
     "output_type": "stream",
     "text": [
      " 33%|███▎      | 287/861 [43:50<12:20,  1.29s/it]"
     ]
    },
    {
     "name": "stdout",
     "output_type": "stream",
     "text": [
      "Logical error rate: 0.0\n",
      "Problem_158_CorrectCode_719 Error rate = 0.0\n"
     ]
    },
    {
     "name": "stderr",
     "output_type": "stream",
     "text": [
      " 33%|███▎      | 288/861 [43:51<11:50,  1.24s/it]"
     ]
    },
    {
     "name": "stdout",
     "output_type": "stream",
     "text": [
      "Logical error rate: 0.0\n",
      "Problem_158_CorrectCode_720 Error rate = 0.0\n"
     ]
    },
    {
     "name": "stderr",
     "output_type": "stream",
     "text": [
      " 34%|███▎      | 289/861 [43:52<11:39,  1.22s/it]"
     ]
    },
    {
     "name": "stdout",
     "output_type": "stream",
     "text": [
      "Logical error rate: 0.0\n",
      "Problem_158_CorrectCode_721 Error rate = 0.0\n"
     ]
    },
    {
     "name": "stderr",
     "output_type": "stream",
     "text": [
      " 34%|███▎      | 290/861 [43:53<11:14,  1.18s/it]"
     ]
    },
    {
     "name": "stdout",
     "output_type": "stream",
     "text": [
      "Logical error rate: 0.0\n",
      "Problem_158_CorrectCode_722 Error rate = 0.0\n"
     ]
    },
    {
     "name": "stderr",
     "output_type": "stream",
     "text": [
      " 34%|███▍      | 291/861 [43:54<11:00,  1.16s/it]"
     ]
    },
    {
     "name": "stdout",
     "output_type": "stream",
     "text": [
      "Logical error rate: 0.0\n",
      "Problem_158_CorrectCode_723 Error rate = 0.0\n"
     ]
    },
    {
     "name": "stderr",
     "output_type": "stream",
     "text": [
      " 34%|███▍      | 292/861 [43:55<10:52,  1.15s/it]"
     ]
    },
    {
     "name": "stdout",
     "output_type": "stream",
     "text": [
      "Logical error rate: 0.0\n",
      "Problem_158_CorrectCode_724 Error rate = 0.0\n"
     ]
    },
    {
     "name": "stderr",
     "output_type": "stream",
     "text": [
      " 34%|███▍      | 293/861 [43:57<10:54,  1.15s/it]"
     ]
    },
    {
     "name": "stdout",
     "output_type": "stream",
     "text": [
      "Logical error rate: 0.0\n",
      "Problem_158_CorrectCode_725 Error rate = 0.0\n"
     ]
    },
    {
     "name": "stderr",
     "output_type": "stream",
     "text": [
      " 34%|███▍      | 294/861 [43:58<12:17,  1.30s/it]"
     ]
    },
    {
     "name": "stdout",
     "output_type": "stream",
     "text": [
      "Logical error rate: 0.32999999999999996\n",
      "Problem_158_CorrectCode_726 Error rate = 0.32999999999999996\n"
     ]
    },
    {
     "name": "stderr",
     "output_type": "stream",
     "text": [
      " 34%|███▍      | 295/861 [43:59<11:56,  1.27s/it]"
     ]
    },
    {
     "name": "stdout",
     "output_type": "stream",
     "text": [
      "Logical error rate: 0.0\n",
      "Problem_158_CorrectCode_727 Error rate = 0.0\n"
     ]
    },
    {
     "name": "stderr",
     "output_type": "stream",
     "text": [
      " 34%|███▍      | 296/861 [44:01<11:39,  1.24s/it]"
     ]
    },
    {
     "name": "stdout",
     "output_type": "stream",
     "text": [
      "Logical error rate: 0.0\n",
      "Problem_158_CorrectCode_728 Error rate = 0.0\n"
     ]
    },
    {
     "name": "stderr",
     "output_type": "stream",
     "text": [
      " 34%|███▍      | 297/861 [44:02<11:12,  1.19s/it]"
     ]
    },
    {
     "name": "stdout",
     "output_type": "stream",
     "text": [
      "Logical error rate: 0.0\n",
      "Problem_158_CorrectCode_729 Error rate = 0.0\n"
     ]
    },
    {
     "name": "stderr",
     "output_type": "stream",
     "text": [
      " 35%|███▍      | 298/861 [44:03<11:00,  1.17s/it]"
     ]
    },
    {
     "name": "stdout",
     "output_type": "stream",
     "text": [
      "Logical error rate: 0.0\n",
      "Problem_158_CorrectCode_730 Error rate = 0.0\n"
     ]
    },
    {
     "name": "stderr",
     "output_type": "stream",
     "text": [
      " 35%|███▍      | 299/861 [44:04<10:45,  1.15s/it]"
     ]
    },
    {
     "name": "stdout",
     "output_type": "stream",
     "text": [
      "Logical error rate: 0.645\n",
      "Problem_158_CorrectCode_731 Error rate = 0.645\n"
     ]
    },
    {
     "name": "stderr",
     "output_type": "stream",
     "text": [
      " 35%|███▍      | 300/861 [44:05<10:39,  1.14s/it]"
     ]
    },
    {
     "name": "stdout",
     "output_type": "stream",
     "text": [
      "Logical error rate: 0.0\n",
      "Problem_158_CorrectCode_732 Error rate = 0.0\n"
     ]
    },
    {
     "name": "stderr",
     "output_type": "stream",
     "text": [
      " 35%|███▍      | 301/861 [44:09<17:35,  1.89s/it]"
     ]
    },
    {
     "name": "stdout",
     "output_type": "stream",
     "text": [
      "Logical error rate: 0.0\n",
      "Problem_158_CorrectCode_814 Error rate = 0.0\n"
     ]
    },
    {
     "name": "stderr",
     "output_type": "stream",
     "text": [
      " 35%|███▌      | 302/861 [44:10<15:17,  1.64s/it]"
     ]
    },
    {
     "name": "stdout",
     "output_type": "stream",
     "text": [
      "Logical error rate: 0.0\n",
      "Problem_158_CorrectCode_815 Error rate = 0.0\n"
     ]
    },
    {
     "name": "stderr",
     "output_type": "stream",
     "text": [
      " 35%|███▌      | 303/861 [44:11<13:50,  1.49s/it]"
     ]
    },
    {
     "name": "stdout",
     "output_type": "stream",
     "text": [
      "Logical error rate: 0.45499999999999996\n",
      "Problem_158_CorrectCode_816 Error rate = 0.45499999999999996\n"
     ]
    },
    {
     "name": "stderr",
     "output_type": "stream",
     "text": [
      " 35%|███▌      | 304/861 [44:12<12:51,  1.39s/it]"
     ]
    },
    {
     "name": "stdout",
     "output_type": "stream",
     "text": [
      "Logical error rate: 0.0\n",
      "Problem_158_CorrectCode_817 Error rate = 0.0\n"
     ]
    },
    {
     "name": "stderr",
     "output_type": "stream",
     "text": [
      " 35%|███▌      | 305/861 [44:14<13:42,  1.48s/it]"
     ]
    },
    {
     "name": "stdout",
     "output_type": "stream",
     "text": [
      "Logical error rate: 0.0\n",
      "Problem_158_CorrectCode_818 Error rate = 0.0\n"
     ]
    },
    {
     "name": "stderr",
     "output_type": "stream",
     "text": [
      " 36%|███▌      | 306/861 [44:15<12:50,  1.39s/it]"
     ]
    },
    {
     "name": "stdout",
     "output_type": "stream",
     "text": [
      "Logical error rate: 0.0\n",
      "Problem_158_CorrectCode_819 Error rate = 0.0\n"
     ]
    },
    {
     "name": "stderr",
     "output_type": "stream",
     "text": [
      " 36%|███▌      | 307/861 [44:16<12:04,  1.31s/it]"
     ]
    },
    {
     "name": "stdout",
     "output_type": "stream",
     "text": [
      "Logical error rate: 0.0\n",
      "Problem_158_CorrectCode_820 Error rate = 0.0\n"
     ]
    },
    {
     "name": "stderr",
     "output_type": "stream",
     "text": [
      " 36%|███▌      | 308/861 [44:17<11:31,  1.25s/it]"
     ]
    },
    {
     "name": "stdout",
     "output_type": "stream",
     "text": [
      "Logical error rate: 0.0\n",
      "Problem_158_CorrectCode_821 Error rate = 0.0\n"
     ]
    },
    {
     "name": "stderr",
     "output_type": "stream",
     "text": [
      " 36%|███▌      | 309/861 [44:18<11:07,  1.21s/it]"
     ]
    },
    {
     "name": "stdout",
     "output_type": "stream",
     "text": [
      "Logical error rate: 0.0\n",
      "Problem_158_CorrectCode_822 Error rate = 0.0\n"
     ]
    },
    {
     "name": "stderr",
     "output_type": "stream",
     "text": [
      " 36%|███▌      | 310/861 [44:19<10:43,  1.17s/it]"
     ]
    },
    {
     "name": "stdout",
     "output_type": "stream",
     "text": [
      "Logical error rate: 0.0\n",
      "Problem_158_CorrectCode_823 Error rate = 0.0\n"
     ]
    },
    {
     "name": "stderr",
     "output_type": "stream",
     "text": [
      " 36%|███▌      | 311/861 [44:20<10:42,  1.17s/it]"
     ]
    },
    {
     "name": "stdout",
     "output_type": "stream",
     "text": [
      "Logical error rate: 0.0\n",
      "Problem_158_CorrectCode_824 Error rate = 0.0\n"
     ]
    },
    {
     "name": "stderr",
     "output_type": "stream",
     "text": [
      " 36%|███▌      | 312/861 [44:22<10:29,  1.15s/it]"
     ]
    },
    {
     "name": "stdout",
     "output_type": "stream",
     "text": [
      "Logical error rate: 0.0\n",
      "Problem_158_CorrectCode_825 Error rate = 0.0\n"
     ]
    },
    {
     "name": "stderr",
     "output_type": "stream",
     "text": [
      " 36%|███▋      | 313/861 [44:23<10:34,  1.16s/it]"
     ]
    },
    {
     "name": "stdout",
     "output_type": "stream",
     "text": [
      "Logical error rate: 0.0\n",
      "Problem_158_CorrectCode_826 Error rate = 0.0\n"
     ]
    },
    {
     "name": "stderr",
     "output_type": "stream",
     "text": [
      " 36%|███▋      | 314/861 [44:24<10:24,  1.14s/it]"
     ]
    },
    {
     "name": "stdout",
     "output_type": "stream",
     "text": [
      "Logical error rate: 0.0\n",
      "Problem_158_CorrectCode_827 Error rate = 0.0\n"
     ]
    },
    {
     "name": "stderr",
     "output_type": "stream",
     "text": [
      " 37%|███▋      | 315/861 [44:25<10:31,  1.16s/it]"
     ]
    },
    {
     "name": "stdout",
     "output_type": "stream",
     "text": [
      "Logical error rate: 0.0\n",
      "Problem_158_CorrectCode_828 Error rate = 0.0\n"
     ]
    },
    {
     "name": "stderr",
     "output_type": "stream",
     "text": [
      " 37%|███▋      | 316/861 [44:27<11:55,  1.31s/it]"
     ]
    },
    {
     "name": "stdout",
     "output_type": "stream",
     "text": [
      "Logical error rate: 0.32999999999999996\n",
      "Problem_158_CorrectCode_829 Error rate = 0.32999999999999996\n"
     ]
    },
    {
     "name": "stderr",
     "output_type": "stream",
     "text": [
      " 37%|███▋      | 317/861 [44:28<11:31,  1.27s/it]"
     ]
    },
    {
     "name": "stdout",
     "output_type": "stream",
     "text": [
      "Logical error rate: 0.0\n",
      "Problem_158_CorrectCode_830 Error rate = 0.0\n"
     ]
    },
    {
     "name": "stderr",
     "output_type": "stream",
     "text": [
      " 37%|███▋      | 318/861 [44:29<11:15,  1.24s/it]"
     ]
    },
    {
     "name": "stdout",
     "output_type": "stream",
     "text": [
      "Logical error rate: 0.0\n",
      "Problem_158_CorrectCode_831 Error rate = 0.0\n"
     ]
    },
    {
     "name": "stderr",
     "output_type": "stream",
     "text": [
      " 37%|███▋      | 319/861 [44:30<11:00,  1.22s/it]"
     ]
    },
    {
     "name": "stdout",
     "output_type": "stream",
     "text": [
      "Logical error rate: 0.0\n",
      "Problem_158_CorrectCode_832 Error rate = 0.0\n"
     ]
    },
    {
     "name": "stderr",
     "output_type": "stream",
     "text": [
      " 37%|███▋      | 320/861 [44:31<10:32,  1.17s/it]"
     ]
    },
    {
     "name": "stdout",
     "output_type": "stream",
     "text": [
      "Logical error rate: 0.0\n",
      "Problem_158_CorrectCode_833 Error rate = 0.0\n"
     ]
    },
    {
     "name": "stderr",
     "output_type": "stream",
     "text": [
      " 37%|███▋      | 321/861 [44:32<10:19,  1.15s/it]"
     ]
    },
    {
     "name": "stdout",
     "output_type": "stream",
     "text": [
      "Logical error rate: 0.645\n",
      "Problem_158_CorrectCode_834 Error rate = 0.645\n"
     ]
    },
    {
     "name": "stderr",
     "output_type": "stream",
     "text": [
      " 37%|███▋      | 322/861 [44:33<10:08,  1.13s/it]"
     ]
    },
    {
     "name": "stdout",
     "output_type": "stream",
     "text": [
      "Logical error rate: 0.0\n",
      "Problem_158_CorrectCode_835 Error rate = 0.0\n"
     ]
    },
    {
     "name": "stderr",
     "output_type": "stream",
     "text": [
      " 38%|███▊      | 323/861 [44:47<43:28,  4.85s/it]"
     ]
    },
    {
     "name": "stdout",
     "output_type": "stream",
     "text": [
      "Logical error rate: 0.0\n",
      "Problem_159_CorrectCode_733 Error rate = 0.0\n"
     ]
    },
    {
     "name": "stderr",
     "output_type": "stream",
     "text": [
      " 38%|███▊      | 324/861 [44:49<37:06,  4.15s/it]"
     ]
    },
    {
     "name": "stdout",
     "output_type": "stream",
     "text": [
      "Logical error rate: 0.030000000000000027\n",
      "Problem_159_CorrectCode_734 Error rate = 0.030000000000000027\n"
     ]
    },
    {
     "name": "stderr",
     "output_type": "stream",
     "text": [
      " 38%|███▊      | 325/861 [44:56<42:34,  4.77s/it]"
     ]
    },
    {
     "name": "stdout",
     "output_type": "stream",
     "text": [
      "Logical error rate: 0.030000000000000027\n",
      "Problem_159_CorrectCode_735 Error rate = 0.030000000000000027\n"
     ]
    },
    {
     "name": "stderr",
     "output_type": "stream",
     "text": [
      " 38%|███▊      | 326/861 [45:09<1:06:32,  7.46s/it]"
     ]
    },
    {
     "name": "stdout",
     "output_type": "stream",
     "text": [
      "Logical error rate: 0.0\n",
      "Problem_159_CorrectCode_836 Error rate = 0.0\n"
     ]
    },
    {
     "name": "stderr",
     "output_type": "stream",
     "text": [
      " 38%|███▊      | 327/861 [45:12<53:09,  5.97s/it]  "
     ]
    },
    {
     "name": "stdout",
     "output_type": "stream",
     "text": [
      "Logical error rate: 0.030000000000000027\n",
      "Problem_159_CorrectCode_837 Error rate = 0.030000000000000027\n"
     ]
    },
    {
     "name": "stderr",
     "output_type": "stream",
     "text": [
      " 38%|███▊      | 328/861 [45:18<53:51,  6.06s/it]"
     ]
    },
    {
     "name": "stdout",
     "output_type": "stream",
     "text": [
      "Logical error rate: 0.030000000000000027\n",
      "Problem_159_CorrectCode_838 Error rate = 0.030000000000000027\n"
     ]
    },
    {
     "name": "stderr",
     "output_type": "stream",
     "text": [
      " 38%|███▊      | 329/861 [45:19<40:42,  4.59s/it]"
     ]
    },
    {
     "name": "stdout",
     "output_type": "stream",
     "text": [
      "Logical error rate: 0.0\n",
      "Problem_15_CorrectCode_58 Error rate = 0.0\n"
     ]
    },
    {
     "name": "stderr",
     "output_type": "stream",
     "text": [
      " 38%|███▊      | 330/861 [45:20<31:19,  3.54s/it]"
     ]
    },
    {
     "name": "stdout",
     "output_type": "stream",
     "text": [
      "Logical error rate: 0.0\n",
      "Problem_15_CorrectCode_59 Error rate = 0.0\n"
     ]
    },
    {
     "name": "stderr",
     "output_type": "stream",
     "text": [
      " 38%|███▊      | 331/861 [45:22<24:51,  2.81s/it]"
     ]
    },
    {
     "name": "stdout",
     "output_type": "stream",
     "text": [
      "Logical error rate: 0.0\n",
      "Problem_15_CorrectCode_60 Error rate = 0.0\n"
     ]
    },
    {
     "name": "stderr",
     "output_type": "stream",
     "text": [
      " 39%|███▊      | 332/861 [45:23<20:32,  2.33s/it]"
     ]
    },
    {
     "name": "stdout",
     "output_type": "stream",
     "text": [
      "Logical error rate: 0.0\n",
      "Problem_15_CorrectCode_61 Error rate = 0.0\n"
     ]
    },
    {
     "name": "stderr",
     "output_type": "stream",
     "text": [
      " 39%|███▊      | 333/861 [45:24<17:23,  1.98s/it]"
     ]
    },
    {
     "name": "stdout",
     "output_type": "stream",
     "text": [
      "Logical error rate: 0.0\n",
      "Problem_15_CorrectCode_62 Error rate = 0.0\n"
     ]
    },
    {
     "name": "stderr",
     "output_type": "stream",
     "text": [
      " 39%|███▉      | 334/861 [45:25<15:03,  1.71s/it]"
     ]
    },
    {
     "name": "stdout",
     "output_type": "stream",
     "text": [
      "Logical error rate: 0.0\n",
      "Problem_160_CorrectCode_736 Error rate = 0.0\n"
     ]
    },
    {
     "name": "stderr",
     "output_type": "stream",
     "text": [
      " 39%|███▉      | 335/861 [45:26<13:24,  1.53s/it]"
     ]
    },
    {
     "name": "stdout",
     "output_type": "stream",
     "text": [
      "Logical error rate: 0.0\n",
      "Problem_160_CorrectCode_737 Error rate = 0.0\n"
     ]
    },
    {
     "name": "stderr",
     "output_type": "stream",
     "text": [
      " 39%|███▉      | 336/861 [45:27<12:10,  1.39s/it]"
     ]
    },
    {
     "name": "stdout",
     "output_type": "stream",
     "text": [
      "Logical error rate: 0.0\n",
      "Problem_160_CorrectCode_738 Error rate = 0.0\n"
     ]
    },
    {
     "name": "stderr",
     "output_type": "stream",
     "text": [
      " 39%|███▉      | 337/861 [45:28<11:19,  1.30s/it]"
     ]
    },
    {
     "name": "stdout",
     "output_type": "stream",
     "text": [
      "Logical error rate: 0.0\n",
      "Problem_160_CorrectCode_739 Error rate = 0.0\n"
     ]
    },
    {
     "name": "stderr",
     "output_type": "stream",
     "text": [
      " 39%|███▉      | 338/861 [45:29<10:45,  1.23s/it]"
     ]
    },
    {
     "name": "stdout",
     "output_type": "stream",
     "text": [
      "Logical error rate: 0.0\n",
      "Problem_160_CorrectCode_740 Error rate = 0.0\n"
     ]
    },
    {
     "name": "stderr",
     "output_type": "stream",
     "text": [
      " 39%|███▉      | 339/861 [45:30<10:25,  1.20s/it]"
     ]
    },
    {
     "name": "stdout",
     "output_type": "stream",
     "text": [
      "Logical error rate: 0.0\n",
      "Problem_160_CorrectCode_741 Error rate = 0.0\n"
     ]
    },
    {
     "name": "stderr",
     "output_type": "stream",
     "text": [
      " 39%|███▉      | 340/861 [45:32<10:07,  1.17s/it]"
     ]
    },
    {
     "name": "stdout",
     "output_type": "stream",
     "text": [
      "Logical error rate: 0.0\n",
      "Problem_160_CorrectCode_742 Error rate = 0.0\n"
     ]
    },
    {
     "name": "stderr",
     "output_type": "stream",
     "text": [
      " 40%|███▉      | 341/861 [45:33<09:56,  1.15s/it]"
     ]
    },
    {
     "name": "stdout",
     "output_type": "stream",
     "text": [
      "Logical error rate: 0.0\n",
      "Problem_160_CorrectCode_743 Error rate = 0.0\n"
     ]
    },
    {
     "name": "stderr",
     "output_type": "stream",
     "text": [
      " 40%|███▉      | 342/861 [45:34<09:43,  1.12s/it]"
     ]
    },
    {
     "name": "stdout",
     "output_type": "stream",
     "text": [
      "Logical error rate: 0.0\n",
      "Problem_160_CorrectCode_744 Error rate = 0.0\n"
     ]
    },
    {
     "name": "stderr",
     "output_type": "stream",
     "text": [
      " 40%|███▉      | 343/861 [45:35<09:27,  1.10s/it]"
     ]
    },
    {
     "name": "stdout",
     "output_type": "stream",
     "text": [
      "Logical error rate: 0.0\n",
      "Problem_160_CorrectCode_745 Error rate = 0.0\n"
     ]
    },
    {
     "name": "stderr",
     "output_type": "stream",
     "text": [
      " 40%|███▉      | 344/861 [45:36<09:24,  1.09s/it]"
     ]
    },
    {
     "name": "stdout",
     "output_type": "stream",
     "text": [
      "Logical error rate: 0.0\n",
      "Problem_160_CorrectCode_746 Error rate = 0.0\n"
     ]
    },
    {
     "name": "stderr",
     "output_type": "stream",
     "text": [
      " 40%|████      | 345/861 [45:37<09:17,  1.08s/it]"
     ]
    },
    {
     "name": "stdout",
     "output_type": "stream",
     "text": [
      "Logical error rate: 0.0\n",
      "Problem_160_CorrectCode_747 Error rate = 0.0\n"
     ]
    },
    {
     "name": "stderr",
     "output_type": "stream",
     "text": [
      " 40%|████      | 346/861 [45:38<09:18,  1.09s/it]"
     ]
    },
    {
     "name": "stdout",
     "output_type": "stream",
     "text": [
      "Logical error rate: 0.0\n",
      "Problem_160_CorrectCode_748 Error rate = 0.0\n"
     ]
    },
    {
     "name": "stderr",
     "output_type": "stream",
     "text": [
      " 40%|████      | 347/861 [45:39<09:21,  1.09s/it]"
     ]
    },
    {
     "name": "stdout",
     "output_type": "stream",
     "text": [
      "Logical error rate: 0.0\n",
      "Problem_160_CorrectCode_839 Error rate = 0.0\n"
     ]
    },
    {
     "name": "stderr",
     "output_type": "stream",
     "text": [
      " 40%|████      | 348/861 [45:40<09:13,  1.08s/it]"
     ]
    },
    {
     "name": "stdout",
     "output_type": "stream",
     "text": [
      "Logical error rate: 0.0\n",
      "Problem_160_CorrectCode_840 Error rate = 0.0\n"
     ]
    },
    {
     "name": "stderr",
     "output_type": "stream",
     "text": [
      " 41%|████      | 349/861 [45:41<09:13,  1.08s/it]"
     ]
    },
    {
     "name": "stdout",
     "output_type": "stream",
     "text": [
      "Logical error rate: 0.0\n",
      "Problem_160_CorrectCode_841 Error rate = 0.0\n"
     ]
    },
    {
     "name": "stderr",
     "output_type": "stream",
     "text": [
      " 41%|████      | 350/861 [45:42<09:09,  1.08s/it]"
     ]
    },
    {
     "name": "stdout",
     "output_type": "stream",
     "text": [
      "Logical error rate: 0.0\n",
      "Problem_160_CorrectCode_842 Error rate = 0.0\n"
     ]
    },
    {
     "name": "stderr",
     "output_type": "stream",
     "text": [
      " 41%|████      | 351/861 [45:43<09:09,  1.08s/it]"
     ]
    },
    {
     "name": "stdout",
     "output_type": "stream",
     "text": [
      "Logical error rate: 0.0\n",
      "Problem_160_CorrectCode_843 Error rate = 0.0\n"
     ]
    },
    {
     "name": "stderr",
     "output_type": "stream",
     "text": [
      " 41%|████      | 352/861 [45:44<09:14,  1.09s/it]"
     ]
    },
    {
     "name": "stdout",
     "output_type": "stream",
     "text": [
      "Logical error rate: 0.0\n",
      "Problem_160_CorrectCode_844 Error rate = 0.0\n"
     ]
    },
    {
     "name": "stderr",
     "output_type": "stream",
     "text": [
      " 41%|████      | 353/861 [45:46<09:15,  1.09s/it]"
     ]
    },
    {
     "name": "stdout",
     "output_type": "stream",
     "text": [
      "Logical error rate: 0.0\n",
      "Problem_160_CorrectCode_845 Error rate = 0.0\n"
     ]
    },
    {
     "name": "stderr",
     "output_type": "stream",
     "text": [
      " 41%|████      | 354/861 [45:47<09:21,  1.11s/it]"
     ]
    },
    {
     "name": "stdout",
     "output_type": "stream",
     "text": [
      "Logical error rate: 0.0\n",
      "Problem_160_CorrectCode_846 Error rate = 0.0\n"
     ]
    },
    {
     "name": "stderr",
     "output_type": "stream",
     "text": [
      " 41%|████      | 355/861 [45:48<09:14,  1.10s/it]"
     ]
    },
    {
     "name": "stdout",
     "output_type": "stream",
     "text": [
      "Logical error rate: 0.0\n",
      "Problem_160_CorrectCode_847 Error rate = 0.0\n"
     ]
    },
    {
     "name": "stderr",
     "output_type": "stream",
     "text": [
      " 41%|████▏     | 356/861 [45:49<09:08,  1.09s/it]"
     ]
    },
    {
     "name": "stdout",
     "output_type": "stream",
     "text": [
      "Logical error rate: 0.0\n",
      "Problem_160_CorrectCode_848 Error rate = 0.0\n"
     ]
    },
    {
     "name": "stderr",
     "output_type": "stream",
     "text": [
      " 41%|████▏     | 357/861 [45:50<08:51,  1.06s/it]"
     ]
    },
    {
     "name": "stdout",
     "output_type": "stream",
     "text": [
      "Logical error rate: 0.0\n",
      "Problem_160_CorrectCode_849 Error rate = 0.0\n"
     ]
    },
    {
     "name": "stderr",
     "output_type": "stream",
     "text": [
      " 42%|████▏     | 358/861 [45:51<08:54,  1.06s/it]"
     ]
    },
    {
     "name": "stdout",
     "output_type": "stream",
     "text": [
      "Logical error rate: 0.0\n",
      "Problem_160_CorrectCode_850 Error rate = 0.0\n"
     ]
    },
    {
     "name": "stderr",
     "output_type": "stream",
     "text": [
      " 42%|████▏     | 359/861 [45:52<08:58,  1.07s/it]"
     ]
    },
    {
     "name": "stdout",
     "output_type": "stream",
     "text": [
      "Logical error rate: 0.0\n",
      "Problem_160_CorrectCode_851 Error rate = 0.0\n"
     ]
    },
    {
     "name": "stderr",
     "output_type": "stream",
     "text": [
      " 42%|████▏     | 360/861 [45:53<08:11,  1.02it/s]"
     ]
    },
    {
     "name": "stdout",
     "output_type": "stream",
     "text": [
      "Logical error rate: 0.0\n",
      "Problem_161_CorrectCode_749 Error rate = 0.0\n"
     ]
    },
    {
     "name": "stderr",
     "output_type": "stream",
     "text": [
      " 42%|████▏     | 361/861 [45:54<07:33,  1.10it/s]"
     ]
    },
    {
     "name": "stdout",
     "output_type": "stream",
     "text": [
      "Logical error rate: 0.0\n",
      "Problem_161_CorrectCode_750 Error rate = 0.0\n"
     ]
    },
    {
     "name": "stderr",
     "output_type": "stream",
     "text": [
      " 42%|████▏     | 362/861 [45:54<07:10,  1.16it/s]"
     ]
    },
    {
     "name": "stdout",
     "output_type": "stream",
     "text": [
      "Logical error rate: 0.0\n",
      "Problem_161_CorrectCode_852 Error rate = 0.0\n"
     ]
    },
    {
     "name": "stderr",
     "output_type": "stream",
     "text": [
      " 42%|████▏     | 363/861 [45:55<06:48,  1.22it/s]"
     ]
    },
    {
     "name": "stdout",
     "output_type": "stream",
     "text": [
      "Logical error rate: 0.0\n",
      "Problem_161_CorrectCode_853 Error rate = 0.0\n"
     ]
    },
    {
     "name": "stderr",
     "output_type": "stream",
     "text": [
      " 42%|████▏     | 364/861 [45:56<07:30,  1.10it/s]"
     ]
    },
    {
     "name": "stdout",
     "output_type": "stream",
     "text": [
      "Logical error rate: 0.0\n",
      "Problem_162_CorrectCode_751 Error rate = 0.0\n"
     ]
    },
    {
     "name": "stderr",
     "output_type": "stream",
     "text": [
      " 42%|████▏     | 365/861 [45:57<08:02,  1.03it/s]"
     ]
    },
    {
     "name": "stdout",
     "output_type": "stream",
     "text": [
      "Logical error rate: 0.0\n",
      "Problem_162_CorrectCode_752 Error rate = 0.0\n"
     ]
    },
    {
     "name": "stderr",
     "output_type": "stream",
     "text": [
      " 43%|████▎     | 366/861 [45:58<08:19,  1.01s/it]"
     ]
    },
    {
     "name": "stdout",
     "output_type": "stream",
     "text": [
      "Logical error rate: 0.0\n",
      "Problem_162_CorrectCode_753 Error rate = 0.0\n"
     ]
    },
    {
     "name": "stderr",
     "output_type": "stream",
     "text": [
      " 43%|████▎     | 367/861 [45:59<08:32,  1.04s/it]"
     ]
    },
    {
     "name": "stdout",
     "output_type": "stream",
     "text": [
      "Logical error rate: 0.0\n",
      "Problem_162_CorrectCode_854 Error rate = 0.0\n"
     ]
    },
    {
     "name": "stderr",
     "output_type": "stream",
     "text": [
      " 43%|████▎     | 368/861 [46:01<08:41,  1.06s/it]"
     ]
    },
    {
     "name": "stdout",
     "output_type": "stream",
     "text": [
      "Logical error rate: 0.0\n",
      "Problem_162_CorrectCode_855 Error rate = 0.0\n"
     ]
    },
    {
     "name": "stderr",
     "output_type": "stream",
     "text": [
      " 43%|████▎     | 369/861 [46:03<12:50,  1.57s/it]"
     ]
    },
    {
     "name": "stdout",
     "output_type": "stream",
     "text": [
      "Logical error rate: 0.0\n",
      "Problem_163_CorrectCode_754 Error rate = 0.0\n"
     ]
    },
    {
     "name": "stderr",
     "output_type": "stream",
     "text": [
      " 43%|████▎     | 370/861 [46:18<44:16,  5.41s/it]"
     ]
    },
    {
     "name": "stdout",
     "output_type": "stream",
     "text": [
      "Logical error rate: 0.0\n",
      "Problem_163_CorrectCode_755 Error rate = 0.0\n"
     ]
    },
    {
     "name": "stderr",
     "output_type": "stream",
     "text": [
      " 43%|████▎     | 371/861 [46:20<37:43,  4.62s/it]"
     ]
    },
    {
     "name": "stdout",
     "output_type": "stream",
     "text": [
      "Logical error rate: 0.0\n",
      "Problem_163_CorrectCode_756 Error rate = 0.0\n"
     ]
    },
    {
     "name": "stderr",
     "output_type": "stream",
     "text": [
      " 43%|████▎     | 372/861 [46:23<33:28,  4.11s/it]"
     ]
    },
    {
     "name": "stdout",
     "output_type": "stream",
     "text": [
      "Logical error rate: 0.0\n",
      "Problem_163_CorrectCode_856 Error rate = 0.0\n"
     ]
    },
    {
     "name": "stderr",
     "output_type": "stream",
     "text": [
      " 43%|████▎     | 373/861 [46:38<58:07,  7.15s/it]"
     ]
    },
    {
     "name": "stdout",
     "output_type": "stream",
     "text": [
      "Logical error rate: 0.0\n",
      "Problem_163_CorrectCode_857 Error rate = 0.0\n"
     ]
    },
    {
     "name": "stderr",
     "output_type": "stream",
     "text": [
      " 43%|████▎     | 374/861 [46:40<47:03,  5.80s/it]"
     ]
    },
    {
     "name": "stdout",
     "output_type": "stream",
     "text": [
      "Logical error rate: 0.0\n",
      "Problem_163_CorrectCode_858 Error rate = 0.0\n"
     ]
    },
    {
     "name": "stderr",
     "output_type": "stream",
     "text": [
      " 44%|████▎     | 375/861 [46:41<35:28,  4.38s/it]"
     ]
    },
    {
     "name": "stdout",
     "output_type": "stream",
     "text": [
      "Logical error rate: 0.0\n",
      "Problem_164_CorrectCode_757 Error rate = 0.0\n"
     ]
    },
    {
     "name": "stderr",
     "output_type": "stream",
     "text": [
      " 44%|████▎     | 376/861 [46:42<27:19,  3.38s/it]"
     ]
    },
    {
     "name": "stdout",
     "output_type": "stream",
     "text": [
      "Logical error rate: 0.0\n",
      "Problem_164_CorrectCode_758 Error rate = 0.0\n"
     ]
    },
    {
     "name": "stderr",
     "output_type": "stream",
     "text": [
      " 44%|████▍     | 377/861 [46:43<21:35,  2.68s/it]"
     ]
    },
    {
     "name": "stdout",
     "output_type": "stream",
     "text": [
      "Logical error rate: 0.0\n",
      "Problem_164_CorrectCode_759 Error rate = 0.0\n"
     ]
    },
    {
     "name": "stderr",
     "output_type": "stream",
     "text": [
      " 44%|████▍     | 378/861 [46:44<17:36,  2.19s/it]"
     ]
    },
    {
     "name": "stdout",
     "output_type": "stream",
     "text": [
      "Logical error rate: 0.0\n",
      "Problem_164_CorrectCode_859 Error rate = 0.0\n"
     ]
    },
    {
     "name": "stderr",
     "output_type": "stream",
     "text": [
      " 44%|████▍     | 379/861 [46:45<14:46,  1.84s/it]"
     ]
    },
    {
     "name": "stdout",
     "output_type": "stream",
     "text": [
      "Logical error rate: 0.0\n",
      "Problem_164_CorrectCode_860 Error rate = 0.0\n"
     ]
    },
    {
     "name": "stderr",
     "output_type": "stream",
     "text": [
      " 44%|████▍     | 380/861 [46:47<13:11,  1.65s/it]"
     ]
    },
    {
     "name": "stdout",
     "output_type": "stream",
     "text": [
      "Logical error rate: 1.0\n",
      "Problem_16_CorrectCode_63 Error rate = 1.0\n"
     ]
    },
    {
     "name": "stderr",
     "output_type": "stream",
     "text": [
      " 44%|████▍     | 381/861 [46:48<12:08,  1.52s/it]"
     ]
    },
    {
     "name": "stdout",
     "output_type": "stream",
     "text": [
      "Logical error rate: 1.0\n",
      "Problem_16_CorrectCode_64 Error rate = 1.0\n"
     ]
    },
    {
     "name": "stderr",
     "output_type": "stream",
     "text": [
      " 44%|████▍     | 382/861 [46:49<11:10,  1.40s/it]"
     ]
    },
    {
     "name": "stdout",
     "output_type": "stream",
     "text": [
      "Logical error rate: 1.0\n",
      "Problem_16_CorrectCode_65 Error rate = 1.0\n"
     ]
    },
    {
     "name": "stderr",
     "output_type": "stream",
     "text": [
      " 44%|████▍     | 383/861 [46:50<10:33,  1.33s/it]"
     ]
    },
    {
     "name": "stdout",
     "output_type": "stream",
     "text": [
      "Logical error rate: 1.0\n",
      "Problem_16_CorrectCode_66 Error rate = 1.0\n"
     ]
    },
    {
     "name": "stderr",
     "output_type": "stream",
     "text": [
      " 45%|████▍     | 384/861 [46:51<10:05,  1.27s/it]"
     ]
    },
    {
     "name": "stdout",
     "output_type": "stream",
     "text": [
      "Logical error rate: 0.0\n",
      "Problem_17_CorrectCode_67 Error rate = 0.0\n"
     ]
    },
    {
     "name": "stderr",
     "output_type": "stream",
     "text": [
      " 45%|████▍     | 385/861 [46:52<09:43,  1.22s/it]"
     ]
    },
    {
     "name": "stdout",
     "output_type": "stream",
     "text": [
      "Logical error rate: 0.0\n",
      "Problem_17_CorrectCode_68 Error rate = 0.0\n"
     ]
    },
    {
     "name": "stderr",
     "output_type": "stream",
     "text": [
      " 45%|████▍     | 386/861 [46:54<09:28,  1.20s/it]"
     ]
    },
    {
     "name": "stdout",
     "output_type": "stream",
     "text": [
      "Logical error rate: 0.0\n",
      "Problem_17_CorrectCode_69 Error rate = 0.0\n"
     ]
    },
    {
     "name": "stderr",
     "output_type": "stream",
     "text": [
      " 45%|████▍     | 387/861 [46:55<09:16,  1.17s/it]"
     ]
    },
    {
     "name": "stdout",
     "output_type": "stream",
     "text": [
      "Logical error rate: 0.0\n",
      "Problem_17_CorrectCode_70 Error rate = 0.0\n"
     ]
    },
    {
     "name": "stderr",
     "output_type": "stream",
     "text": [
      " 45%|████▌     | 388/861 [46:56<09:08,  1.16s/it]"
     ]
    },
    {
     "name": "stdout",
     "output_type": "stream",
     "text": [
      "Logical error rate: 0.0\n",
      "Problem_17_CorrectCode_71 Error rate = 0.0\n"
     ]
    },
    {
     "name": "stderr",
     "output_type": "stream",
     "text": [
      " 45%|████▌     | 389/861 [46:57<09:03,  1.15s/it]"
     ]
    },
    {
     "name": "stdout",
     "output_type": "stream",
     "text": [
      "Logical error rate: 0.0\n",
      "Problem_17_CorrectCode_72 Error rate = 0.0\n"
     ]
    },
    {
     "name": "stderr",
     "output_type": "stream",
     "text": [
      " 45%|████▌     | 390/861 [46:58<09:05,  1.16s/it]"
     ]
    },
    {
     "name": "stdout",
     "output_type": "stream",
     "text": [
      "Logical error rate: 0.0\n",
      "Problem_17_CorrectCode_73 Error rate = 0.0\n"
     ]
    },
    {
     "name": "stderr",
     "output_type": "stream",
     "text": [
      " 45%|████▌     | 391/861 [46:59<09:02,  1.15s/it]"
     ]
    },
    {
     "name": "stdout",
     "output_type": "stream",
     "text": [
      "Logical error rate: 0.0\n",
      "Problem_17_CorrectCode_74 Error rate = 0.0\n"
     ]
    },
    {
     "name": "stderr",
     "output_type": "stream",
     "text": [
      " 46%|████▌     | 392/861 [47:00<09:00,  1.15s/it]"
     ]
    },
    {
     "name": "stdout",
     "output_type": "stream",
     "text": [
      "Logical error rate: 0.0\n",
      "Problem_17_CorrectCode_75 Error rate = 0.0\n"
     ]
    },
    {
     "name": "stderr",
     "output_type": "stream",
     "text": [
      " 46%|████▌     | 393/861 [47:02<08:58,  1.15s/it]"
     ]
    },
    {
     "name": "stdout",
     "output_type": "stream",
     "text": [
      "Logical error rate: 0.0\n",
      "Problem_17_CorrectCode_76 Error rate = 0.0\n"
     ]
    },
    {
     "name": "stderr",
     "output_type": "stream",
     "text": [
      " 46%|████▌     | 394/861 [47:03<08:47,  1.13s/it]"
     ]
    },
    {
     "name": "stdout",
     "output_type": "stream",
     "text": [
      "Logical error rate: 0.0\n",
      "Problem_18_CorrectCode_77 Error rate = 0.0\n"
     ]
    },
    {
     "name": "stderr",
     "output_type": "stream",
     "text": [
      " 46%|████▌     | 395/861 [47:04<08:44,  1.13s/it]"
     ]
    },
    {
     "name": "stdout",
     "output_type": "stream",
     "text": [
      "Logical error rate: 0.0\n",
      "Problem_18_CorrectCode_78 Error rate = 0.0\n"
     ]
    },
    {
     "name": "stderr",
     "output_type": "stream",
     "text": [
      " 46%|████▌     | 396/861 [47:05<08:47,  1.13s/it]"
     ]
    },
    {
     "name": "stdout",
     "output_type": "stream",
     "text": [
      "Logical error rate: 0.0\n",
      "Problem_18_CorrectCode_79 Error rate = 0.0\n"
     ]
    },
    {
     "name": "stderr",
     "output_type": "stream",
     "text": [
      " 46%|████▌     | 397/861 [47:06<08:45,  1.13s/it]"
     ]
    },
    {
     "name": "stdout",
     "output_type": "stream",
     "text": [
      "Logical error rate: 0.0\n",
      "Problem_18_CorrectCode_80 Error rate = 0.0\n"
     ]
    },
    {
     "name": "stderr",
     "output_type": "stream",
     "text": [
      " 46%|████▌     | 398/861 [47:07<08:59,  1.17s/it]"
     ]
    },
    {
     "name": "stdout",
     "output_type": "stream",
     "text": [
      "Logical error rate: 0.0\n",
      "Problem_19_CorrectCode_81 Error rate = 0.0\n"
     ]
    },
    {
     "name": "stderr",
     "output_type": "stream",
     "text": [
      " 46%|████▋     | 399/861 [47:08<08:46,  1.14s/it]"
     ]
    },
    {
     "name": "stdout",
     "output_type": "stream",
     "text": [
      "Logical error rate: 0.0\n",
      "Problem_19_CorrectCode_82 Error rate = 0.0\n"
     ]
    },
    {
     "name": "stderr",
     "output_type": "stream",
     "text": [
      " 46%|████▋     | 400/861 [47:09<08:36,  1.12s/it]"
     ]
    },
    {
     "name": "stdout",
     "output_type": "stream",
     "text": [
      "Logical error rate: 0.0\n",
      "Problem_19_CorrectCode_83 Error rate = 0.0\n"
     ]
    },
    {
     "name": "stderr",
     "output_type": "stream",
     "text": [
      " 47%|████▋     | 401/861 [47:11<08:28,  1.10s/it]"
     ]
    },
    {
     "name": "stdout",
     "output_type": "stream",
     "text": [
      "Logical error rate: 0.0\n",
      "Problem_19_CorrectCode_84 Error rate = 0.0\n"
     ]
    },
    {
     "name": "stderr",
     "output_type": "stream",
     "text": [
      " 47%|████▋     | 402/861 [47:12<08:28,  1.11s/it]"
     ]
    },
    {
     "name": "stdout",
     "output_type": "stream",
     "text": [
      "Logical error rate: 0.0\n",
      "Problem_19_CorrectCode_85 Error rate = 0.0\n"
     ]
    },
    {
     "name": "stderr",
     "output_type": "stream",
     "text": [
      " 47%|████▋     | 403/861 [47:13<08:33,  1.12s/it]"
     ]
    },
    {
     "name": "stdout",
     "output_type": "stream",
     "text": [
      "Logical error rate: 0.0\n",
      "Problem_19_CorrectCode_86 Error rate = 0.0\n"
     ]
    },
    {
     "name": "stderr",
     "output_type": "stream",
     "text": [
      " 47%|████▋     | 404/861 [47:14<08:32,  1.12s/it]"
     ]
    },
    {
     "name": "stdout",
     "output_type": "stream",
     "text": [
      "Logical error rate: 0.0\n",
      "Problem_19_CorrectCode_87 Error rate = 0.0\n"
     ]
    },
    {
     "name": "stderr",
     "output_type": "stream",
     "text": [
      " 47%|████▋     | 405/861 [47:15<08:44,  1.15s/it]"
     ]
    },
    {
     "name": "stdout",
     "output_type": "stream",
     "text": [
      "Logical error rate: 0.0\n",
      "Problem_1_CorrectCode_4 Error rate = 0.0\n"
     ]
    },
    {
     "name": "stderr",
     "output_type": "stream",
     "text": [
      " 47%|████▋     | 406/861 [47:16<08:47,  1.16s/it]"
     ]
    },
    {
     "name": "stdout",
     "output_type": "stream",
     "text": [
      "Logical error rate: 0.05500000000000005\n",
      "Problem_1_CorrectCode_5 Error rate = 0.05500000000000005\n"
     ]
    },
    {
     "name": "stderr",
     "output_type": "stream",
     "text": [
      " 47%|████▋     | 407/861 [47:17<08:48,  1.16s/it]"
     ]
    },
    {
     "name": "stdout",
     "output_type": "stream",
     "text": [
      "Logical error rate: 0.0\n",
      "Problem_1_CorrectCode_6 Error rate = 0.0\n"
     ]
    },
    {
     "name": "stderr",
     "output_type": "stream",
     "text": [
      " 47%|████▋     | 408/861 [47:19<08:43,  1.16s/it]"
     ]
    },
    {
     "name": "stdout",
     "output_type": "stream",
     "text": [
      "Logical error rate: 0.15500000000000003\n",
      "Problem_1_CorrectCode_7 Error rate = 0.15500000000000003\n"
     ]
    },
    {
     "name": "stderr",
     "output_type": "stream",
     "text": [
      " 48%|████▊     | 409/861 [47:20<09:40,  1.28s/it]"
     ]
    },
    {
     "name": "stdout",
     "output_type": "stream",
     "text": [
      "Logical error rate: 0.0\n",
      "Problem_1_CorrectCode_8 Error rate = 0.0\n"
     ]
    },
    {
     "name": "stderr",
     "output_type": "stream",
     "text": [
      " 48%|████▊     | 410/861 [47:21<09:08,  1.22s/it]"
     ]
    },
    {
     "name": "stdout",
     "output_type": "stream",
     "text": [
      "Logical error rate: 0.0\n",
      "Problem_20_CorrectCode_88 Error rate = 0.0\n"
     ]
    },
    {
     "name": "stderr",
     "output_type": "stream",
     "text": [
      " 48%|████▊     | 411/861 [47:22<08:52,  1.18s/it]"
     ]
    },
    {
     "name": "stdout",
     "output_type": "stream",
     "text": [
      "Logical error rate: 0.0\n",
      "Problem_20_CorrectCode_89 Error rate = 0.0\n"
     ]
    },
    {
     "name": "stderr",
     "output_type": "stream",
     "text": [
      " 48%|████▊     | 412/861 [47:23<08:45,  1.17s/it]"
     ]
    },
    {
     "name": "stdout",
     "output_type": "stream",
     "text": [
      "Logical error rate: 0.0\n",
      "Problem_20_CorrectCode_90 Error rate = 0.0\n"
     ]
    },
    {
     "name": "stderr",
     "output_type": "stream",
     "text": [
      " 48%|████▊     | 413/861 [47:25<08:32,  1.14s/it]"
     ]
    },
    {
     "name": "stdout",
     "output_type": "stream",
     "text": [
      "Logical error rate: 0.0\n",
      "Problem_20_CorrectCode_91 Error rate = 0.0\n"
     ]
    },
    {
     "name": "stderr",
     "output_type": "stream",
     "text": [
      " 48%|████▊     | 414/861 [47:26<08:27,  1.14s/it]"
     ]
    },
    {
     "name": "stdout",
     "output_type": "stream",
     "text": [
      "Logical error rate: 0.0\n",
      "Problem_20_CorrectCode_92 Error rate = 0.0\n"
     ]
    },
    {
     "name": "stderr",
     "output_type": "stream",
     "text": [
      " 48%|████▊     | 415/861 [47:40<37:44,  5.08s/it]"
     ]
    },
    {
     "name": "stdout",
     "output_type": "stream",
     "text": [
      "Logical error rate: 0.0\n",
      "Problem_21_CorrectCode_100 Error rate = 0.0\n"
     ]
    },
    {
     "name": "stderr",
     "output_type": "stream",
     "text": [
      " 48%|████▊     | 416/861 [48:13<1:40:09, 13.50s/it]"
     ]
    },
    {
     "name": "stdout",
     "output_type": "stream",
     "text": [
      "Logical error rate: 0.0\n",
      "Problem_21_CorrectCode_93 Error rate = 0.0\n"
     ]
    },
    {
     "name": "stderr",
     "output_type": "stream",
     "text": [
      " 48%|████▊     | 417/861 [48:29<1:45:22, 14.24s/it]"
     ]
    },
    {
     "name": "stdout",
     "output_type": "stream",
     "text": [
      "Logical error rate: 0.0\n",
      "Problem_21_CorrectCode_94 Error rate = 0.0\n"
     ]
    },
    {
     "name": "stderr",
     "output_type": "stream",
     "text": [
      " 49%|████▊     | 418/861 [48:51<2:02:54, 16.65s/it]"
     ]
    },
    {
     "name": "stdout",
     "output_type": "stream",
     "text": [
      "Logical error rate: 0.0\n",
      "Problem_21_CorrectCode_95 Error rate = 0.0\n"
     ]
    },
    {
     "name": "stderr",
     "output_type": "stream",
     "text": [
      " 49%|████▊     | 419/861 [48:59<1:41:47, 13.82s/it]"
     ]
    },
    {
     "name": "stdout",
     "output_type": "stream",
     "text": [
      "Logical error rate: 0.0\n",
      "Problem_21_CorrectCode_96 Error rate = 0.0\n"
     ]
    },
    {
     "name": "stderr",
     "output_type": "stream",
     "text": [
      " 49%|████▉     | 420/861 [49:43<2:49:46, 23.10s/it]"
     ]
    },
    {
     "name": "stdout",
     "output_type": "stream",
     "text": [
      "Logical error rate: 0.0\n",
      "Problem_21_CorrectCode_97 Error rate = 0.0\n"
     ]
    },
    {
     "name": "stderr",
     "output_type": "stream",
     "text": [
      " 49%|████▉     | 421/861 [50:03<2:41:08, 21.97s/it]"
     ]
    },
    {
     "name": "stdout",
     "output_type": "stream",
     "text": [
      "Logical error rate: 0.0\n",
      "Problem_21_CorrectCode_98 Error rate = 0.0\n"
     ]
    },
    {
     "name": "stderr",
     "output_type": "stream",
     "text": [
      " 49%|████▉     | 422/861 [50:11<2:10:07, 17.78s/it]"
     ]
    },
    {
     "name": "stdout",
     "output_type": "stream",
     "text": [
      "Logical error rate: 0.0\n",
      "Problem_21_CorrectCode_99 Error rate = 0.0\n"
     ]
    },
    {
     "name": "stderr",
     "output_type": "stream",
     "text": [
      " 49%|████▉     | 423/861 [50:12<1:33:20, 12.79s/it]"
     ]
    },
    {
     "name": "stdout",
     "output_type": "stream",
     "text": [
      "Logical error rate: 0.0\n",
      "Problem_22_CorrectCode_101 Error rate = 0.0\n"
     ]
    },
    {
     "name": "stderr",
     "output_type": "stream",
     "text": [
      " 49%|████▉     | 424/861 [50:13<1:07:33,  9.28s/it]"
     ]
    },
    {
     "name": "stdout",
     "output_type": "stream",
     "text": [
      "Logical error rate: 0.0\n",
      "Problem_22_CorrectCode_102 Error rate = 0.0\n"
     ]
    },
    {
     "name": "stderr",
     "output_type": "stream",
     "text": [
      " 49%|████▉     | 425/861 [50:14<49:43,  6.84s/it]  "
     ]
    },
    {
     "name": "stdout",
     "output_type": "stream",
     "text": [
      "Logical error rate: 0.0\n",
      "Problem_22_CorrectCode_103 Error rate = 0.0\n"
     ]
    },
    {
     "name": "stderr",
     "output_type": "stream",
     "text": [
      " 49%|████▉     | 426/861 [50:15<37:08,  5.12s/it]"
     ]
    },
    {
     "name": "stdout",
     "output_type": "stream",
     "text": [
      "Logical error rate: 0.0\n",
      "Problem_22_CorrectCode_104 Error rate = 0.0\n"
     ]
    },
    {
     "name": "stderr",
     "output_type": "stream",
     "text": [
      " 50%|████▉     | 427/861 [50:16<28:16,  3.91s/it]"
     ]
    },
    {
     "name": "stdout",
     "output_type": "stream",
     "text": [
      "Logical error rate: 0.0\n",
      "Problem_22_CorrectCode_105 Error rate = 0.0\n"
     ]
    },
    {
     "name": "stderr",
     "output_type": "stream",
     "text": [
      " 50%|████▉     | 428/861 [50:17<21:59,  3.05s/it]"
     ]
    },
    {
     "name": "stdout",
     "output_type": "stream",
     "text": [
      "Logical error rate: 0.0\n",
      "Problem_22_CorrectCode_106 Error rate = 0.0\n"
     ]
    },
    {
     "name": "stderr",
     "output_type": "stream",
     "text": [
      " 50%|████▉     | 429/861 [50:18<17:45,  2.47s/it]"
     ]
    },
    {
     "name": "stdout",
     "output_type": "stream",
     "text": [
      "Logical error rate: 0.0\n",
      "Problem_22_CorrectCode_107 Error rate = 0.0\n"
     ]
    },
    {
     "name": "stderr",
     "output_type": "stream",
     "text": [
      " 50%|████▉     | 430/861 [50:28<32:31,  4.53s/it]"
     ]
    },
    {
     "name": "stdout",
     "output_type": "stream",
     "text": [
      "Logical error rate: 0.0\n",
      "Problem_23_CorrectCode_108 Error rate = 0.0\n"
     ]
    },
    {
     "name": "stderr",
     "output_type": "stream",
     "text": [
      " 50%|█████     | 431/861 [50:37<42:39,  5.95s/it]"
     ]
    },
    {
     "name": "stdout",
     "output_type": "stream",
     "text": [
      "Logical error rate: 0.0\n",
      "Problem_23_CorrectCode_109 Error rate = 0.0\n"
     ]
    },
    {
     "name": "stderr",
     "output_type": "stream",
     "text": [
      " 50%|█████     | 432/861 [50:46<49:33,  6.93s/it]"
     ]
    },
    {
     "name": "stdout",
     "output_type": "stream",
     "text": [
      "Logical error rate: 0.0\n",
      "Problem_23_CorrectCode_110 Error rate = 0.0\n"
     ]
    },
    {
     "name": "stderr",
     "output_type": "stream",
     "text": [
      " 50%|█████     | 433/861 [50:47<36:56,  5.18s/it]"
     ]
    },
    {
     "name": "stdout",
     "output_type": "stream",
     "text": [
      "Logical error rate: 0.0\n",
      "Problem_23_CorrectCode_111 Error rate = 0.0\n"
     ]
    },
    {
     "name": "stderr",
     "output_type": "stream",
     "text": [
      " 50%|█████     | 434/861 [50:48<28:14,  3.97s/it]"
     ]
    },
    {
     "name": "stdout",
     "output_type": "stream",
     "text": [
      "Logical error rate: 0.0\n",
      "Problem_23_CorrectCode_112 Error rate = 0.0\n"
     ]
    },
    {
     "name": "stderr",
     "output_type": "stream",
     "text": [
      " 51%|█████     | 435/861 [50:50<22:03,  3.11s/it]"
     ]
    },
    {
     "name": "stdout",
     "output_type": "stream",
     "text": [
      "Logical error rate: 0.0\n",
      "Problem_23_CorrectCode_113 Error rate = 0.0\n"
     ]
    },
    {
     "name": "stderr",
     "output_type": "stream",
     "text": [
      " 51%|█████     | 436/861 [50:51<17:43,  2.50s/it]"
     ]
    },
    {
     "name": "stdout",
     "output_type": "stream",
     "text": [
      "Logical error rate: 0.0\n",
      "Problem_23_CorrectCode_114 Error rate = 0.0\n"
     ]
    },
    {
     "name": "stderr",
     "output_type": "stream",
     "text": [
      " 51%|█████     | 437/861 [50:52<14:44,  2.09s/it]"
     ]
    },
    {
     "name": "stdout",
     "output_type": "stream",
     "text": [
      "Logical error rate: 0.0\n",
      "Problem_23_CorrectCode_115 Error rate = 0.0\n"
     ]
    },
    {
     "name": "stderr",
     "output_type": "stream",
     "text": [
      " 51%|█████     | 438/861 [51:01<29:47,  4.22s/it]"
     ]
    },
    {
     "name": "stdout",
     "output_type": "stream",
     "text": [
      "Logical error rate: 0.0\n",
      "Problem_23_CorrectCode_116 Error rate = 0.0\n"
     ]
    },
    {
     "name": "stderr",
     "output_type": "stream",
     "text": [
      " 51%|█████     | 439/861 [51:02<23:20,  3.32s/it]"
     ]
    },
    {
     "name": "stdout",
     "output_type": "stream",
     "text": [
      "Logical error rate: 0.0\n",
      "Problem_26_CorrectCode_117 Error rate = 0.0\n"
     ]
    },
    {
     "name": "stderr",
     "output_type": "stream",
     "text": [
      " 51%|█████     | 440/861 [51:03<18:49,  2.68s/it]"
     ]
    },
    {
     "name": "stdout",
     "output_type": "stream",
     "text": [
      "Logical error rate: 0.0\n",
      "Problem_26_CorrectCode_118 Error rate = 0.0\n"
     ]
    },
    {
     "name": "stderr",
     "output_type": "stream",
     "text": [
      " 51%|█████     | 441/861 [51:05<15:39,  2.24s/it]"
     ]
    },
    {
     "name": "stdout",
     "output_type": "stream",
     "text": [
      "Logical error rate: 0.0\n",
      "Problem_26_CorrectCode_119 Error rate = 0.0\n"
     ]
    },
    {
     "name": "stderr",
     "output_type": "stream",
     "text": [
      " 51%|█████▏    | 442/861 [51:06<13:23,  1.92s/it]"
     ]
    },
    {
     "name": "stdout",
     "output_type": "stream",
     "text": [
      "Logical error rate: 0.0\n",
      "Problem_26_CorrectCode_120 Error rate = 0.0\n"
     ]
    },
    {
     "name": "stderr",
     "output_type": "stream",
     "text": [
      " 51%|█████▏    | 443/861 [51:07<11:47,  1.69s/it]"
     ]
    },
    {
     "name": "stdout",
     "output_type": "stream",
     "text": [
      "Logical error rate: 0.0\n",
      "Problem_26_CorrectCode_121 Error rate = 0.0\n"
     ]
    },
    {
     "name": "stderr",
     "output_type": "stream",
     "text": [
      " 52%|█████▏    | 444/861 [51:08<10:33,  1.52s/it]"
     ]
    },
    {
     "name": "stdout",
     "output_type": "stream",
     "text": [
      "Logical error rate: 0.0\n",
      "Problem_27_CorrectCode_122 Error rate = 0.0\n"
     ]
    },
    {
     "name": "stderr",
     "output_type": "stream",
     "text": [
      " 52%|█████▏    | 445/861 [51:09<09:38,  1.39s/it]"
     ]
    },
    {
     "name": "stdout",
     "output_type": "stream",
     "text": [
      "Logical error rate: 1.0\n",
      "Problem_27_CorrectCode_123 Error rate = 1.0\n"
     ]
    },
    {
     "name": "stderr",
     "output_type": "stream",
     "text": [
      " 52%|█████▏    | 446/861 [51:10<09:03,  1.31s/it]"
     ]
    },
    {
     "name": "stdout",
     "output_type": "stream",
     "text": [
      "Logical error rate: 0.0\n",
      "Problem_27_CorrectCode_124 Error rate = 0.0\n"
     ]
    },
    {
     "name": "stderr",
     "output_type": "stream",
     "text": [
      " 52%|█████▏    | 447/861 [51:11<08:40,  1.26s/it]"
     ]
    },
    {
     "name": "stdout",
     "output_type": "stream",
     "text": [
      "Logical error rate: 0.0\n",
      "Problem_27_CorrectCode_125 Error rate = 0.0\n"
     ]
    },
    {
     "name": "stderr",
     "output_type": "stream",
     "text": [
      " 52%|█████▏    | 448/861 [51:12<08:19,  1.21s/it]"
     ]
    },
    {
     "name": "stdout",
     "output_type": "stream",
     "text": [
      "Logical error rate: 0.0\n",
      "Problem_27_CorrectCode_126 Error rate = 0.0\n"
     ]
    },
    {
     "name": "stderr",
     "output_type": "stream",
     "text": [
      " 52%|█████▏    | 449/861 [51:14<08:00,  1.17s/it]"
     ]
    },
    {
     "name": "stdout",
     "output_type": "stream",
     "text": [
      "Logical error rate: 0.0\n",
      "Problem_27_CorrectCode_127 Error rate = 0.0\n"
     ]
    },
    {
     "name": "stderr",
     "output_type": "stream",
     "text": [
      " 52%|█████▏    | 450/861 [51:15<07:43,  1.13s/it]"
     ]
    },
    {
     "name": "stdout",
     "output_type": "stream",
     "text": [
      "Logical error rate: 0.0\n",
      "Problem_27_CorrectCode_128 Error rate = 0.0\n"
     ]
    },
    {
     "name": "stderr",
     "output_type": "stream",
     "text": [
      " 52%|█████▏    | 451/861 [51:16<07:37,  1.12s/it]"
     ]
    },
    {
     "name": "stdout",
     "output_type": "stream",
     "text": [
      "Logical error rate: 0.0\n",
      "Problem_27_CorrectCode_129 Error rate = 0.0\n"
     ]
    },
    {
     "name": "stderr",
     "output_type": "stream",
     "text": [
      " 52%|█████▏    | 452/861 [51:17<07:33,  1.11s/it]"
     ]
    },
    {
     "name": "stdout",
     "output_type": "stream",
     "text": [
      "Logical error rate: 1.0\n",
      "Problem_27_CorrectCode_130 Error rate = 1.0\n"
     ]
    },
    {
     "name": "stderr",
     "output_type": "stream",
     "text": [
      " 53%|█████▎    | 453/861 [51:18<07:27,  1.10s/it]"
     ]
    },
    {
     "name": "stdout",
     "output_type": "stream",
     "text": [
      "Logical error rate: 0.0\n",
      "Problem_28_CorrectCode_131 Error rate = 0.0\n"
     ]
    },
    {
     "name": "stderr",
     "output_type": "stream",
     "text": [
      " 53%|█████▎    | 454/861 [51:19<07:24,  1.09s/it]"
     ]
    },
    {
     "name": "stdout",
     "output_type": "stream",
     "text": [
      "Logical error rate: 0.0\n",
      "Problem_28_CorrectCode_132 Error rate = 0.0\n"
     ]
    },
    {
     "name": "stderr",
     "output_type": "stream",
     "text": [
      " 53%|█████▎    | 455/861 [51:20<07:22,  1.09s/it]"
     ]
    },
    {
     "name": "stdout",
     "output_type": "stream",
     "text": [
      "Logical error rate: 0.0\n",
      "Problem_29_CorrectCode_133 Error rate = 0.0\n"
     ]
    },
    {
     "name": "stderr",
     "output_type": "stream",
     "text": [
      " 53%|█████▎    | 456/861 [51:21<07:25,  1.10s/it]"
     ]
    },
    {
     "name": "stdout",
     "output_type": "stream",
     "text": [
      "Logical error rate: 0.0\n",
      "Problem_30_CorrectCode_134 Error rate = 0.0\n"
     ]
    },
    {
     "name": "stderr",
     "output_type": "stream",
     "text": [
      " 53%|█████▎    | 457/861 [51:22<07:33,  1.12s/it]"
     ]
    },
    {
     "name": "stdout",
     "output_type": "stream",
     "text": [
      "Logical error rate: 0.0\n",
      "Problem_30_CorrectCode_135 Error rate = 0.0\n"
     ]
    },
    {
     "name": "stderr",
     "output_type": "stream",
     "text": [
      " 53%|█████▎    | 458/861 [51:23<07:26,  1.11s/it]"
     ]
    },
    {
     "name": "stdout",
     "output_type": "stream",
     "text": [
      "Logical error rate: 0.0\n",
      "Problem_30_CorrectCode_136 Error rate = 0.0\n"
     ]
    },
    {
     "name": "stderr",
     "output_type": "stream",
     "text": [
      " 53%|█████▎    | 459/861 [51:24<07:23,  1.10s/it]"
     ]
    },
    {
     "name": "stdout",
     "output_type": "stream",
     "text": [
      "Logical error rate: 0.0\n",
      "Problem_30_CorrectCode_137 Error rate = 0.0\n"
     ]
    },
    {
     "name": "stderr",
     "output_type": "stream",
     "text": [
      " 53%|█████▎    | 460/861 [51:25<07:14,  1.08s/it]"
     ]
    },
    {
     "name": "stdout",
     "output_type": "stream",
     "text": [
      "Logical error rate: 0.0\n",
      "Problem_30_CorrectCode_138 Error rate = 0.0\n"
     ]
    },
    {
     "name": "stderr",
     "output_type": "stream",
     "text": [
      " 54%|█████▎    | 461/861 [51:27<07:17,  1.09s/it]"
     ]
    },
    {
     "name": "stdout",
     "output_type": "stream",
     "text": [
      "Logical error rate: 0.0\n",
      "Problem_30_CorrectCode_139 Error rate = 0.0\n"
     ]
    },
    {
     "name": "stderr",
     "output_type": "stream",
     "text": [
      " 54%|█████▎    | 462/861 [51:28<08:45,  1.32s/it]"
     ]
    },
    {
     "name": "stdout",
     "output_type": "stream",
     "text": [
      "Logical error rate: 0.98\n",
      "Problem_31_CorrectCode_140 Error rate = 0.98\n"
     ]
    },
    {
     "name": "stderr",
     "output_type": "stream",
     "text": [
      " 54%|█████▍    | 463/861 [51:30<08:21,  1.26s/it]"
     ]
    },
    {
     "name": "stdout",
     "output_type": "stream",
     "text": [
      "Logical error rate: 1.0\n",
      "Problem_31_CorrectCode_141 Error rate = 1.0\n"
     ]
    },
    {
     "name": "stderr",
     "output_type": "stream",
     "text": [
      " 54%|█████▍    | 464/861 [51:31<08:05,  1.22s/it]"
     ]
    },
    {
     "name": "stdout",
     "output_type": "stream",
     "text": [
      "Logical error rate: 0.965\n",
      "Problem_31_CorrectCode_142 Error rate = 0.965\n"
     ]
    },
    {
     "name": "stderr",
     "output_type": "stream",
     "text": [
      " 54%|█████▍    | 465/861 [51:32<07:51,  1.19s/it]"
     ]
    },
    {
     "name": "stdout",
     "output_type": "stream",
     "text": [
      "Logical error rate: 0.585\n",
      "Problem_31_CorrectCode_143 Error rate = 0.585\n"
     ]
    },
    {
     "name": "stderr",
     "output_type": "stream",
     "text": [
      " 54%|█████▍    | 466/861 [51:33<07:42,  1.17s/it]"
     ]
    },
    {
     "name": "stdout",
     "output_type": "stream",
     "text": [
      "Logical error rate: 0.0\n",
      "Problem_31_CorrectCode_144 Error rate = 0.0\n"
     ]
    },
    {
     "name": "stderr",
     "output_type": "stream",
     "text": [
      " 54%|█████▍    | 467/861 [51:34<07:36,  1.16s/it]"
     ]
    },
    {
     "name": "stdout",
     "output_type": "stream",
     "text": [
      "Logical error rate: 0.0\n",
      "Problem_31_CorrectCode_145 Error rate = 0.0\n"
     ]
    },
    {
     "name": "stderr",
     "output_type": "stream",
     "text": [
      " 54%|█████▍    | 468/861 [51:35<07:31,  1.15s/it]"
     ]
    },
    {
     "name": "stdout",
     "output_type": "stream",
     "text": [
      "Logical error rate: 0.0\n",
      "Problem_32_CorrectCode_146 Error rate = 0.0\n"
     ]
    },
    {
     "name": "stderr",
     "output_type": "stream",
     "text": [
      " 54%|█████▍    | 469/861 [51:36<07:37,  1.17s/it]"
     ]
    },
    {
     "name": "stdout",
     "output_type": "stream",
     "text": [
      "Logical error rate: 0.0\n",
      "Problem_33_CorrectCode_184 Error rate = 0.0\n"
     ]
    },
    {
     "name": "stderr",
     "output_type": "stream",
     "text": [
      " 55%|█████▍    | 470/861 [51:38<08:37,  1.32s/it]"
     ]
    },
    {
     "name": "stdout",
     "output_type": "stream",
     "text": [
      "Logical error rate: 0.0\n",
      "Problem_33_CorrectCode_185 Error rate = 0.0\n"
     ]
    },
    {
     "name": "stderr",
     "output_type": "stream",
     "text": [
      " 55%|█████▍    | 471/861 [51:39<08:20,  1.28s/it]"
     ]
    },
    {
     "name": "stdout",
     "output_type": "stream",
     "text": [
      "Logical error rate: 0.0\n",
      "Problem_33_CorrectCode_186 Error rate = 0.0\n"
     ]
    },
    {
     "name": "stderr",
     "output_type": "stream",
     "text": [
      " 55%|█████▍    | 472/861 [51:41<08:26,  1.30s/it]"
     ]
    },
    {
     "name": "stdout",
     "output_type": "stream",
     "text": [
      "Logical error rate: 0.0\n",
      "Problem_33_CorrectCode_187 Error rate = 0.0\n"
     ]
    },
    {
     "name": "stderr",
     "output_type": "stream",
     "text": [
      " 55%|█████▍    | 473/861 [52:12<1:06:39, 10.31s/it]"
     ]
    },
    {
     "name": "stdout",
     "output_type": "stream",
     "text": [
      "Logical error rate: 0.0\n",
      "Problem_34_CorrectCode_188 Error rate = 0.0\n"
     ]
    },
    {
     "name": "stderr",
     "output_type": "stream",
     "text": [
      " 55%|█████▌    | 474/861 [57:02<10:08:32, 94.35s/it]"
     ]
    },
    {
     "name": "stdout",
     "output_type": "stream",
     "text": [
      "Logical error rate: 0.0\n",
      "Problem_34_CorrectCode_189 Error rate = 0.0\n"
     ]
    },
    {
     "name": "stderr",
     "output_type": "stream",
     "text": [
      " 55%|█████▌    | 475/861 [57:17<7:32:36, 70.35s/it] "
     ]
    },
    {
     "name": "stdout",
     "output_type": "stream",
     "text": [
      "Logical error rate: 0.0\n",
      "Problem_34_CorrectCode_190 Error rate = 0.0\n"
     ]
    },
    {
     "name": "stderr",
     "output_type": "stream",
     "text": [
      " 55%|█████▌    | 476/861 [57:32<5:45:35, 53.86s/it]"
     ]
    },
    {
     "name": "stdout",
     "output_type": "stream",
     "text": [
      "Logical error rate: 0.0\n",
      "Problem_34_CorrectCode_191 Error rate = 0.0\n"
     ]
    },
    {
     "name": "stderr",
     "output_type": "stream",
     "text": [
      " 55%|█████▌    | 477/861 [58:18<5:28:54, 51.39s/it]"
     ]
    },
    {
     "name": "stdout",
     "output_type": "stream",
     "text": [
      "Logical error rate: 0.0\n",
      "Problem_34_CorrectCode_192 Error rate = 0.0\n"
     ]
    },
    {
     "name": "stderr",
     "output_type": "stream",
     "text": [
      " 56%|█████▌    | 478/861 [58:22<3:58:11, 37.31s/it]"
     ]
    },
    {
     "name": "stdout",
     "output_type": "stream",
     "text": [
      "Logical error rate: 0.0\n",
      "Problem_35_CorrectCode_193 Error rate = 0.0\n"
     ]
    },
    {
     "name": "stderr",
     "output_type": "stream",
     "text": [
      " 56%|█████▌    | 479/861 [58:30<3:01:30, 28.51s/it]"
     ]
    },
    {
     "name": "stdout",
     "output_type": "stream",
     "text": [
      "Logical error rate: 0.0\n",
      "Problem_35_CorrectCode_194 Error rate = 0.0\n"
     ]
    },
    {
     "name": "stderr",
     "output_type": "stream",
     "text": [
      " 56%|█████▌    | 480/861 [58:38<2:21:01, 22.21s/it]"
     ]
    },
    {
     "name": "stdout",
     "output_type": "stream",
     "text": [
      "Logical error rate: 0.0\n",
      "Problem_35_CorrectCode_195 Error rate = 0.0\n"
     ]
    },
    {
     "name": "stderr",
     "output_type": "stream",
     "text": [
      " 56%|█████▌    | 481/861 [58:47<1:55:54, 18.30s/it]"
     ]
    },
    {
     "name": "stdout",
     "output_type": "stream",
     "text": [
      "Logical error rate: 0.0\n",
      "Problem_35_CorrectCode_196 Error rate = 0.0\n"
     ]
    },
    {
     "name": "stderr",
     "output_type": "stream",
     "text": [
      " 56%|█████▌    | 482/861 [58:55<1:35:37, 15.14s/it]"
     ]
    },
    {
     "name": "stdout",
     "output_type": "stream",
     "text": [
      "Logical error rate: 0.0\n",
      "Problem_35_CorrectCode_197 Error rate = 0.0\n"
     ]
    },
    {
     "name": "stderr",
     "output_type": "stream",
     "text": [
      " 56%|█████▌    | 483/861 [58:56<1:08:53, 10.93s/it]"
     ]
    },
    {
     "name": "stdout",
     "output_type": "stream",
     "text": [
      "Logical error rate: 0.30000000000000004\n",
      "Problem_36_CorrectCode_198 Error rate = 0.30000000000000004\n"
     ]
    },
    {
     "name": "stderr",
     "output_type": "stream",
     "text": [
      " 56%|█████▌    | 484/861 [58:57<50:14,  7.99s/it]  "
     ]
    },
    {
     "name": "stdout",
     "output_type": "stream",
     "text": [
      "Logical error rate: 0.29000000000000004\n",
      "Problem_36_CorrectCode_199 Error rate = 0.29000000000000004\n"
     ]
    },
    {
     "name": "stderr",
     "output_type": "stream",
     "text": [
      " 56%|█████▋    | 485/861 [58:59<38:20,  6.12s/it]"
     ]
    },
    {
     "name": "stdout",
     "output_type": "stream",
     "text": [
      "Logical error rate: 0.14\n",
      "Problem_36_CorrectCode_200 Error rate = 0.14\n"
     ]
    },
    {
     "name": "stderr",
     "output_type": "stream",
     "text": [
      " 56%|█████▋    | 486/861 [59:00<28:48,  4.61s/it]"
     ]
    },
    {
     "name": "stdout",
     "output_type": "stream",
     "text": [
      "Logical error rate: 0.41000000000000003\n",
      "Problem_36_CorrectCode_201 Error rate = 0.41000000000000003\n"
     ]
    },
    {
     "name": "stderr",
     "output_type": "stream",
     "text": [
      " 57%|█████▋    | 487/861 [59:01<22:22,  3.59s/it]"
     ]
    },
    {
     "name": "stdout",
     "output_type": "stream",
     "text": [
      "Logical error rate: 0.43000000000000005\n",
      "Problem_36_CorrectCode_202 Error rate = 0.43000000000000005\n"
     ]
    },
    {
     "name": "stderr",
     "output_type": "stream",
     "text": [
      " 57%|█████▋    | 488/861 [59:02<17:47,  2.86s/it]"
     ]
    },
    {
     "name": "stdout",
     "output_type": "stream",
     "text": [
      "Logical error rate: 0.43000000000000005\n",
      "Problem_36_CorrectCode_203 Error rate = 0.43000000000000005\n"
     ]
    },
    {
     "name": "stderr",
     "output_type": "stream",
     "text": [
      " 57%|█████▋    | 489/861 [59:03<14:17,  2.30s/it]"
     ]
    },
    {
     "name": "stdout",
     "output_type": "stream",
     "text": [
      "Logical error rate: 0.0\n",
      "Problem_37_CorrectCode_204 Error rate = 0.0\n"
     ]
    },
    {
     "name": "stderr",
     "output_type": "stream",
     "text": [
      " 57%|█████▋    | 490/861 [59:04<12:02,  1.95s/it]"
     ]
    },
    {
     "name": "stdout",
     "output_type": "stream",
     "text": [
      "Logical error rate: 1.0\n",
      "Problem_37_CorrectCode_205 Error rate = 1.0\n"
     ]
    },
    {
     "name": "stderr",
     "output_type": "stream",
     "text": [
      " 57%|█████▋    | 491/861 [59:05<10:30,  1.70s/it]"
     ]
    },
    {
     "name": "stdout",
     "output_type": "stream",
     "text": [
      "Logical error rate: 0.0\n",
      "Problem_37_CorrectCode_206 Error rate = 0.0\n"
     ]
    },
    {
     "name": "stderr",
     "output_type": "stream",
     "text": [
      " 57%|█████▋    | 492/861 [59:06<09:17,  1.51s/it]"
     ]
    },
    {
     "name": "stdout",
     "output_type": "stream",
     "text": [
      "Logical error rate: 0.0\n",
      "Problem_37_CorrectCode_207 Error rate = 0.0\n"
     ]
    },
    {
     "name": "stderr",
     "output_type": "stream",
     "text": [
      " 57%|█████▋    | 493/861 [59:08<08:40,  1.41s/it]"
     ]
    },
    {
     "name": "stdout",
     "output_type": "stream",
     "text": [
      "Logical error rate: 1.0\n",
      "Problem_37_CorrectCode_208 Error rate = 1.0\n"
     ]
    },
    {
     "name": "stderr",
     "output_type": "stream",
     "text": [
      " 57%|█████▋    | 494/861 [59:09<08:05,  1.32s/it]"
     ]
    },
    {
     "name": "stdout",
     "output_type": "stream",
     "text": [
      "Logical error rate: 0.0\n",
      "Problem_37_CorrectCode_209 Error rate = 0.0\n"
     ]
    },
    {
     "name": "stderr",
     "output_type": "stream",
     "text": [
      " 57%|█████▋    | 495/861 [59:10<07:40,  1.26s/it]"
     ]
    },
    {
     "name": "stdout",
     "output_type": "stream",
     "text": [
      "Logical error rate: 0.0\n",
      "Problem_37_CorrectCode_210 Error rate = 0.0\n"
     ]
    },
    {
     "name": "stderr",
     "output_type": "stream",
     "text": [
      " 58%|█████▊    | 496/861 [59:21<24:57,  4.10s/it]"
     ]
    },
    {
     "name": "stdout",
     "output_type": "stream",
     "text": [
      "Logical error rate: 0.0\n",
      "Problem_38_CorrectCode_211 Error rate = 0.0\n"
     ]
    },
    {
     "name": "stderr",
     "output_type": "stream",
     "text": [
      " 58%|█████▊    | 497/861 [59:22<19:26,  3.20s/it]"
     ]
    },
    {
     "name": "stdout",
     "output_type": "stream",
     "text": [
      "Logical error rate: 0.0\n",
      "Problem_38_CorrectCode_212 Error rate = 0.0\n"
     ]
    },
    {
     "name": "stderr",
     "output_type": "stream",
     "text": [
      " 58%|█████▊    | 498/861 [59:24<17:25,  2.88s/it]"
     ]
    },
    {
     "name": "stdout",
     "output_type": "stream",
     "text": [
      "Logical error rate: 0.99\n",
      "Problem_39_CorrectCode_213 Error rate = 0.99\n"
     ]
    },
    {
     "name": "stderr",
     "output_type": "stream",
     "text": [
      " 58%|█████▊    | 499/861 [59:25<14:38,  2.43s/it]"
     ]
    },
    {
     "name": "stdout",
     "output_type": "stream",
     "text": [
      "Logical error rate: 1.0\n",
      "Problem_39_CorrectCode_214 Error rate = 1.0\n"
     ]
    },
    {
     "name": "stderr",
     "output_type": "stream",
     "text": [
      " 58%|█████▊    | 500/861 [59:30<19:47,  3.29s/it]"
     ]
    },
    {
     "name": "stdout",
     "output_type": "stream",
     "text": [
      "Logical error rate: 1.0\n",
      "Problem_39_CorrectCode_215 Error rate = 1.0\n"
     ]
    },
    {
     "name": "stderr",
     "output_type": "stream",
     "text": [
      " 58%|█████▊    | 501/861 [59:36<24:30,  4.09s/it]"
     ]
    },
    {
     "name": "stdout",
     "output_type": "stream",
     "text": [
      "Logical error rate: 1.0\n",
      "Problem_39_CorrectCode_216 Error rate = 1.0\n"
     ]
    },
    {
     "name": "stderr",
     "output_type": "stream",
     "text": [
      " 58%|█████▊    | 502/861 [59:39<20:52,  3.49s/it]"
     ]
    },
    {
     "name": "stdout",
     "output_type": "stream",
     "text": [
      "Logical error rate: 1.0\n",
      "Problem_39_CorrectCode_217 Error rate = 1.0\n"
     ]
    },
    {
     "name": "stderr",
     "output_type": "stream",
     "text": [
      " 58%|█████▊    | 503/861 [59:41<18:22,  3.08s/it]"
     ]
    },
    {
     "name": "stdout",
     "output_type": "stream",
     "text": [
      "Logical error rate: 1.0\n",
      "Problem_39_CorrectCode_218 Error rate = 1.0\n"
     ]
    },
    {
     "name": "stderr",
     "output_type": "stream",
     "text": [
      " 59%|█████▊    | 504/861 [59:42<15:12,  2.56s/it]"
     ]
    },
    {
     "name": "stdout",
     "output_type": "stream",
     "text": [
      "Logical error rate: 0.99\n",
      "Problem_39_CorrectCode_219 Error rate = 0.99\n"
     ]
    },
    {
     "name": "stderr",
     "output_type": "stream",
     "text": [
      " 59%|█████▊    | 505/861 [59:43<13:03,  2.20s/it]"
     ]
    },
    {
     "name": "stdout",
     "output_type": "stream",
     "text": [
      "Logical error rate: 1.0\n",
      "Problem_39_CorrectCode_220 Error rate = 1.0\n"
     ]
    },
    {
     "name": "stderr",
     "output_type": "stream",
     "text": [
      " 59%|█████▉    | 506/861 [59:45<11:32,  1.95s/it]"
     ]
    },
    {
     "name": "stdout",
     "output_type": "stream",
     "text": [
      "Logical error rate: 1.0\n",
      "Problem_39_CorrectCode_221 Error rate = 1.0\n"
     ]
    },
    {
     "name": "stderr",
     "output_type": "stream",
     "text": [
      " 59%|█████▉    | 507/861 [59:46<11:04,  1.88s/it]"
     ]
    },
    {
     "name": "stdout",
     "output_type": "stream",
     "text": [
      "Logical error rate: 0.0\n",
      "Problem_3_CorrectCode_10 Error rate = 0.0\n"
     ]
    },
    {
     "name": "stderr",
     "output_type": "stream",
     "text": [
      " 59%|█████▉    | 508/861 [59:48<09:38,  1.64s/it]"
     ]
    },
    {
     "name": "stdout",
     "output_type": "stream",
     "text": [
      "Logical error rate: 0.0\n",
      "Problem_3_CorrectCode_9 Error rate = 0.0\n"
     ]
    },
    {
     "name": "stderr",
     "output_type": "stream",
     "text": [
      " 59%|█████▉    | 509/861 [59:50<11:24,  1.94s/it]"
     ]
    },
    {
     "name": "stdout",
     "output_type": "stream",
     "text": [
      "Logical error rate: 0.030000000000000027\n",
      "Problem_40_CorrectCode_147 Error rate = 0.030000000000000027\n"
     ]
    },
    {
     "name": "stderr",
     "output_type": "stream",
     "text": [
      " 59%|█████▉    | 510/861 [59:55<15:55,  2.72s/it]"
     ]
    },
    {
     "name": "stdout",
     "output_type": "stream",
     "text": [
      "Logical error rate: 0.14\n",
      "Problem_40_CorrectCode_148 Error rate = 0.14\n"
     ]
    },
    {
     "name": "stderr",
     "output_type": "stream",
     "text": [
      " 59%|█████▉    | 511/861 [59:59<18:54,  3.24s/it]"
     ]
    },
    {
     "name": "stdout",
     "output_type": "stream",
     "text": [
      "Logical error rate: 0.030000000000000027\n",
      "Problem_40_CorrectCode_149 Error rate = 0.030000000000000027\n"
     ]
    },
    {
     "name": "stderr",
     "output_type": "stream",
     "text": [
      " 59%|█████▉    | 512/861 [1:00:03<20:18,  3.49s/it]"
     ]
    },
    {
     "name": "stdout",
     "output_type": "stream",
     "text": [
      "Logical error rate: 0.0\n",
      "Problem_40_CorrectCode_222 Error rate = 0.0\n"
     ]
    },
    {
     "name": "stderr",
     "output_type": "stream",
     "text": [
      " 60%|█████▉    | 513/861 [1:00:04<16:05,  2.78s/it]"
     ]
    },
    {
     "name": "stdout",
     "output_type": "stream",
     "text": [
      "Logical error rate: 0.04500000000000004\n",
      "Problem_40_CorrectCode_223 Error rate = 0.04500000000000004\n"
     ]
    },
    {
     "name": "stderr",
     "output_type": "stream",
     "text": [
      " 60%|█████▉    | 514/861 [1:00:07<15:30,  2.68s/it]"
     ]
    },
    {
     "name": "stdout",
     "output_type": "stream",
     "text": [
      "Logical error rate: 0.0\n",
      "Problem_40_CorrectCode_224 Error rate = 0.0\n"
     ]
    },
    {
     "name": "stderr",
     "output_type": "stream",
     "text": [
      " 60%|█████▉    | 515/861 [1:00:13<21:37,  3.75s/it]"
     ]
    },
    {
     "name": "stdout",
     "output_type": "stream",
     "text": [
      "Logical error rate: 0.0\n",
      "Problem_40_CorrectCode_225 Error rate = 0.0\n"
     ]
    },
    {
     "name": "stderr",
     "output_type": "stream",
     "text": [
      " 60%|█████▉    | 516/861 [1:00:16<19:40,  3.42s/it]"
     ]
    },
    {
     "name": "stdout",
     "output_type": "stream",
     "text": [
      "Logical error rate: 0.030000000000000027\n",
      "Problem_40_CorrectCode_226 Error rate = 0.030000000000000027\n"
     ]
    },
    {
     "name": "stderr",
     "output_type": "stream",
     "text": [
      " 60%|██████    | 517/861 [1:00:20<21:50,  3.81s/it]"
     ]
    },
    {
     "name": "stdout",
     "output_type": "stream",
     "text": [
      "Logical error rate: 0.14\n",
      "Problem_40_CorrectCode_227 Error rate = 0.14\n"
     ]
    },
    {
     "name": "stderr",
     "output_type": "stream",
     "text": [
      " 60%|██████    | 518/861 [1:00:25<22:39,  3.96s/it]"
     ]
    },
    {
     "name": "stdout",
     "output_type": "stream",
     "text": [
      "Logical error rate: 0.030000000000000027\n",
      "Problem_40_CorrectCode_228 Error rate = 0.030000000000000027\n"
     ]
    },
    {
     "name": "stderr",
     "output_type": "stream",
     "text": [
      " 60%|██████    | 519/861 [1:00:26<17:52,  3.14s/it]"
     ]
    },
    {
     "name": "stdout",
     "output_type": "stream",
     "text": [
      "Logical error rate: 0.85\n",
      "Problem_41_CorrectCode_150 Error rate = 0.85\n"
     ]
    },
    {
     "name": "stderr",
     "output_type": "stream",
     "text": [
      " 60%|██████    | 520/861 [1:00:27<14:35,  2.57s/it]"
     ]
    },
    {
     "name": "stdout",
     "output_type": "stream",
     "text": [
      "Logical error rate: 0.85\n",
      "Problem_41_CorrectCode_151 Error rate = 0.85\n"
     ]
    },
    {
     "name": "stderr",
     "output_type": "stream",
     "text": [
      " 61%|██████    | 521/861 [1:00:30<14:34,  2.57s/it]"
     ]
    },
    {
     "name": "stdout",
     "output_type": "stream",
     "text": [
      "Logical error rate: 0.0\n",
      "Problem_41_CorrectCode_152 Error rate = 0.0\n"
     ]
    },
    {
     "name": "stderr",
     "output_type": "stream",
     "text": [
      " 61%|██████    | 522/861 [1:00:32<14:12,  2.52s/it]"
     ]
    },
    {
     "name": "stdout",
     "output_type": "stream",
     "text": [
      "Logical error rate: 0.0\n",
      "Problem_41_CorrectCode_153 Error rate = 0.0\n"
     ]
    },
    {
     "name": "stderr",
     "output_type": "stream",
     "text": [
      " 61%|██████    | 523/861 [1:00:35<14:08,  2.51s/it]"
     ]
    },
    {
     "name": "stdout",
     "output_type": "stream",
     "text": [
      "Logical error rate: 0.0\n",
      "Problem_41_CorrectCode_154 Error rate = 0.0\n"
     ]
    },
    {
     "name": "stderr",
     "output_type": "stream",
     "text": [
      " 61%|██████    | 524/861 [1:00:36<11:59,  2.13s/it]"
     ]
    },
    {
     "name": "stdout",
     "output_type": "stream",
     "text": [
      "Logical error rate: 0.825\n",
      "Problem_41_CorrectCode_155 Error rate = 0.825\n"
     ]
    },
    {
     "name": "stderr",
     "output_type": "stream",
     "text": [
      " 61%|██████    | 525/861 [1:00:38<12:28,  2.23s/it]"
     ]
    },
    {
     "name": "stdout",
     "output_type": "stream",
     "text": [
      "Logical error rate: 0.0\n",
      "Problem_41_CorrectCode_156 Error rate = 0.0\n"
     ]
    },
    {
     "name": "stderr",
     "output_type": "stream",
     "text": [
      " 61%|██████    | 526/861 [1:00:40<10:48,  1.94s/it]"
     ]
    },
    {
     "name": "stdout",
     "output_type": "stream",
     "text": [
      "Logical error rate: 0.85\n",
      "Problem_41_CorrectCode_229 Error rate = 0.85\n"
     ]
    },
    {
     "name": "stderr",
     "output_type": "stream",
     "text": [
      " 61%|██████    | 527/861 [1:00:41<09:38,  1.73s/it]"
     ]
    },
    {
     "name": "stdout",
     "output_type": "stream",
     "text": [
      "Logical error rate: 0.85\n",
      "Problem_41_CorrectCode_230 Error rate = 0.85\n"
     ]
    },
    {
     "name": "stderr",
     "output_type": "stream",
     "text": [
      " 61%|██████▏   | 528/861 [1:00:43<11:03,  1.99s/it]"
     ]
    },
    {
     "name": "stdout",
     "output_type": "stream",
     "text": [
      "Logical error rate: 0.0\n",
      "Problem_41_CorrectCode_231 Error rate = 0.0\n"
     ]
    },
    {
     "name": "stderr",
     "output_type": "stream",
     "text": [
      " 61%|██████▏   | 529/861 [1:00:46<11:48,  2.13s/it]"
     ]
    },
    {
     "name": "stdout",
     "output_type": "stream",
     "text": [
      "Logical error rate: 0.0\n",
      "Problem_41_CorrectCode_232 Error rate = 0.0\n"
     ]
    },
    {
     "name": "stderr",
     "output_type": "stream",
     "text": [
      " 62%|██████▏   | 530/861 [1:00:48<12:25,  2.25s/it]"
     ]
    },
    {
     "name": "stdout",
     "output_type": "stream",
     "text": [
      "Logical error rate: 0.0\n",
      "Problem_41_CorrectCode_233 Error rate = 0.0\n"
     ]
    },
    {
     "name": "stderr",
     "output_type": "stream",
     "text": [
      " 62%|██████▏   | 531/861 [1:00:50<10:46,  1.96s/it]"
     ]
    },
    {
     "name": "stdout",
     "output_type": "stream",
     "text": [
      "Logical error rate: 0.825\n",
      "Problem_41_CorrectCode_234 Error rate = 0.825\n"
     ]
    },
    {
     "name": "stderr",
     "output_type": "stream",
     "text": [
      " 62%|██████▏   | 532/861 [1:00:51<08:59,  1.64s/it]"
     ]
    },
    {
     "name": "stdout",
     "output_type": "stream",
     "text": [
      "Logical error rate: 0.0\n",
      "Problem_42_CorrectCode_157 Error rate = 0.0\n"
     ]
    },
    {
     "name": "stderr",
     "output_type": "stream",
     "text": [
      " 62%|██████▏   | 533/861 [1:00:52<07:43,  1.41s/it]"
     ]
    },
    {
     "name": "stdout",
     "output_type": "stream",
     "text": [
      "Logical error rate: 0.0\n",
      "Problem_42_CorrectCode_158 Error rate = 0.0\n"
     ]
    },
    {
     "name": "stderr",
     "output_type": "stream",
     "text": [
      " 62%|██████▏   | 534/861 [1:00:52<06:48,  1.25s/it]"
     ]
    },
    {
     "name": "stdout",
     "output_type": "stream",
     "text": [
      "Logical error rate: 0.0\n",
      "Problem_42_CorrectCode_159 Error rate = 0.0\n"
     ]
    },
    {
     "name": "stderr",
     "output_type": "stream",
     "text": [
      " 62%|██████▏   | 535/861 [1:00:53<06:06,  1.12s/it]"
     ]
    },
    {
     "name": "stdout",
     "output_type": "stream",
     "text": [
      "Logical error rate: 0.0\n",
      "Problem_42_CorrectCode_235 Error rate = 0.0\n"
     ]
    },
    {
     "name": "stderr",
     "output_type": "stream",
     "text": [
      " 62%|██████▏   | 536/861 [1:00:54<05:39,  1.04s/it]"
     ]
    },
    {
     "name": "stdout",
     "output_type": "stream",
     "text": [
      "Logical error rate: 0.0\n",
      "Problem_42_CorrectCode_236 Error rate = 0.0\n"
     ]
    },
    {
     "name": "stderr",
     "output_type": "stream",
     "text": [
      " 62%|██████▏   | 537/861 [1:00:55<05:23,  1.00it/s]"
     ]
    },
    {
     "name": "stdout",
     "output_type": "stream",
     "text": [
      "Logical error rate: 0.0\n",
      "Problem_42_CorrectCode_237 Error rate = 0.0\n"
     ]
    },
    {
     "name": "stderr",
     "output_type": "stream",
     "text": [
      " 62%|██████▏   | 538/861 [1:00:56<05:32,  1.03s/it]"
     ]
    },
    {
     "name": "stdout",
     "output_type": "stream",
     "text": [
      "Logical error rate: 0.0\n",
      "Problem_44_CorrectCode_160 Error rate = 0.0\n"
     ]
    },
    {
     "name": "stderr",
     "output_type": "stream",
     "text": [
      " 63%|██████▎   | 539/861 [1:00:57<05:35,  1.04s/it]"
     ]
    },
    {
     "name": "stdout",
     "output_type": "stream",
     "text": [
      "Logical error rate: 0.0\n",
      "Problem_44_CorrectCode_161 Error rate = 0.0\n"
     ]
    },
    {
     "name": "stderr",
     "output_type": "stream",
     "text": [
      " 63%|██████▎   | 540/861 [1:00:58<05:38,  1.05s/it]"
     ]
    },
    {
     "name": "stdout",
     "output_type": "stream",
     "text": [
      "Logical error rate: 0.0\n",
      "Problem_44_CorrectCode_162 Error rate = 0.0\n"
     ]
    },
    {
     "name": "stderr",
     "output_type": "stream",
     "text": [
      " 63%|██████▎   | 541/861 [1:00:59<05:45,  1.08s/it]"
     ]
    },
    {
     "name": "stdout",
     "output_type": "stream",
     "text": [
      "Logical error rate: 0.0\n",
      "Problem_44_CorrectCode_163 Error rate = 0.0\n"
     ]
    },
    {
     "name": "stderr",
     "output_type": "stream",
     "text": [
      " 63%|██████▎   | 542/861 [1:01:00<05:35,  1.05s/it]"
     ]
    },
    {
     "name": "stdout",
     "output_type": "stream",
     "text": [
      "Logical error rate: 0.0\n",
      "Problem_44_CorrectCode_238 Error rate = 0.0\n"
     ]
    },
    {
     "name": "stderr",
     "output_type": "stream",
     "text": [
      " 63%|██████▎   | 543/861 [1:01:01<05:36,  1.06s/it]"
     ]
    },
    {
     "name": "stdout",
     "output_type": "stream",
     "text": [
      "Logical error rate: 0.0\n",
      "Problem_44_CorrectCode_239 Error rate = 0.0\n"
     ]
    },
    {
     "name": "stderr",
     "output_type": "stream",
     "text": [
      " 63%|██████▎   | 544/861 [1:01:02<05:36,  1.06s/it]"
     ]
    },
    {
     "name": "stdout",
     "output_type": "stream",
     "text": [
      "Logical error rate: 0.0\n",
      "Problem_44_CorrectCode_240 Error rate = 0.0\n"
     ]
    },
    {
     "name": "stderr",
     "output_type": "stream",
     "text": [
      " 63%|██████▎   | 545/861 [1:01:04<05:34,  1.06s/it]"
     ]
    },
    {
     "name": "stdout",
     "output_type": "stream",
     "text": [
      "Logical error rate: 0.0\n",
      "Problem_44_CorrectCode_241 Error rate = 0.0\n"
     ]
    },
    {
     "name": "stderr",
     "output_type": "stream",
     "text": [
      " 63%|██████▎   | 546/861 [1:01:05<05:35,  1.06s/it]"
     ]
    },
    {
     "name": "stdout",
     "output_type": "stream",
     "text": [
      "Logical error rate: 0.0\n",
      "Problem_45_CorrectCode_164 Error rate = 0.0\n"
     ]
    },
    {
     "name": "stderr",
     "output_type": "stream",
     "text": [
      " 64%|██████▎   | 547/861 [1:01:06<05:37,  1.08s/it]"
     ]
    },
    {
     "name": "stdout",
     "output_type": "stream",
     "text": [
      "Logical error rate: 0.0\n",
      "Problem_45_CorrectCode_165 Error rate = 0.0\n"
     ]
    },
    {
     "name": "stderr",
     "output_type": "stream",
     "text": [
      " 64%|██████▎   | 548/861 [1:01:07<05:38,  1.08s/it]"
     ]
    },
    {
     "name": "stdout",
     "output_type": "stream",
     "text": [
      "Logical error rate: 0.0\n",
      "Problem_45_CorrectCode_166 Error rate = 0.0\n"
     ]
    },
    {
     "name": "stderr",
     "output_type": "stream",
     "text": [
      " 64%|██████▍   | 549/861 [1:01:08<05:39,  1.09s/it]"
     ]
    },
    {
     "name": "stdout",
     "output_type": "stream",
     "text": [
      "Logical error rate: 0.0\n",
      "Problem_45_CorrectCode_167 Error rate = 0.0\n"
     ]
    },
    {
     "name": "stderr",
     "output_type": "stream",
     "text": [
      " 64%|██████▍   | 550/861 [1:01:09<05:41,  1.10s/it]"
     ]
    },
    {
     "name": "stdout",
     "output_type": "stream",
     "text": [
      "Logical error rate: 0.0\n",
      "Problem_45_CorrectCode_168 Error rate = 0.0\n"
     ]
    },
    {
     "name": "stderr",
     "output_type": "stream",
     "text": [
      " 64%|██████▍   | 551/861 [1:01:10<05:43,  1.11s/it]"
     ]
    },
    {
     "name": "stdout",
     "output_type": "stream",
     "text": [
      "Logical error rate: 0.0\n",
      "Problem_45_CorrectCode_242 Error rate = 0.0\n"
     ]
    },
    {
     "name": "stderr",
     "output_type": "stream",
     "text": [
      " 64%|██████▍   | 552/861 [1:01:11<05:41,  1.10s/it]"
     ]
    },
    {
     "name": "stdout",
     "output_type": "stream",
     "text": [
      "Logical error rate: 0.0\n",
      "Problem_45_CorrectCode_243 Error rate = 0.0\n"
     ]
    },
    {
     "name": "stderr",
     "output_type": "stream",
     "text": [
      " 64%|██████▍   | 553/861 [1:01:12<05:36,  1.09s/it]"
     ]
    },
    {
     "name": "stdout",
     "output_type": "stream",
     "text": [
      "Logical error rate: 0.0\n",
      "Problem_45_CorrectCode_244 Error rate = 0.0\n"
     ]
    },
    {
     "name": "stderr",
     "output_type": "stream",
     "text": [
      " 64%|██████▍   | 554/861 [1:01:13<05:32,  1.08s/it]"
     ]
    },
    {
     "name": "stdout",
     "output_type": "stream",
     "text": [
      "Logical error rate: 0.0\n",
      "Problem_45_CorrectCode_245 Error rate = 0.0\n"
     ]
    },
    {
     "name": "stderr",
     "output_type": "stream",
     "text": [
      " 64%|██████▍   | 555/861 [1:01:14<05:33,  1.09s/it]"
     ]
    },
    {
     "name": "stdout",
     "output_type": "stream",
     "text": [
      "Logical error rate: 0.0\n",
      "Problem_46_CorrectCode_169 Error rate = 0.0\n"
     ]
    },
    {
     "name": "stderr",
     "output_type": "stream",
     "text": [
      " 65%|██████▍   | 556/861 [1:01:16<05:26,  1.07s/it]"
     ]
    },
    {
     "name": "stdout",
     "output_type": "stream",
     "text": [
      "Logical error rate: 0.0\n",
      "Problem_46_CorrectCode_170 Error rate = 0.0\n"
     ]
    },
    {
     "name": "stderr",
     "output_type": "stream",
     "text": [
      " 65%|██████▍   | 557/861 [1:01:17<05:30,  1.09s/it]"
     ]
    },
    {
     "name": "stdout",
     "output_type": "stream",
     "text": [
      "Logical error rate: 0.0\n",
      "Problem_46_CorrectCode_171 Error rate = 0.0\n"
     ]
    },
    {
     "name": "stderr",
     "output_type": "stream",
     "text": [
      " 65%|██████▍   | 558/861 [1:01:18<05:31,  1.09s/it]"
     ]
    },
    {
     "name": "stdout",
     "output_type": "stream",
     "text": [
      "Logical error rate: 0.0\n",
      "Problem_46_CorrectCode_172 Error rate = 0.0\n"
     ]
    },
    {
     "name": "stderr",
     "output_type": "stream",
     "text": [
      " 65%|██████▍   | 559/861 [1:01:19<05:30,  1.09s/it]"
     ]
    },
    {
     "name": "stdout",
     "output_type": "stream",
     "text": [
      "Logical error rate: 0.0\n",
      "Problem_46_CorrectCode_173 Error rate = 0.0\n"
     ]
    },
    {
     "name": "stderr",
     "output_type": "stream",
     "text": [
      " 65%|██████▌   | 560/861 [1:01:20<05:24,  1.08s/it]"
     ]
    },
    {
     "name": "stdout",
     "output_type": "stream",
     "text": [
      "Logical error rate: 0.0\n",
      "Problem_46_CorrectCode_174 Error rate = 0.0\n"
     ]
    },
    {
     "name": "stderr",
     "output_type": "stream",
     "text": [
      " 65%|██████▌   | 561/861 [1:01:21<05:18,  1.06s/it]"
     ]
    },
    {
     "name": "stdout",
     "output_type": "stream",
     "text": [
      "Logical error rate: 0.0\n",
      "Problem_46_CorrectCode_246 Error rate = 0.0\n"
     ]
    },
    {
     "name": "stderr",
     "output_type": "stream",
     "text": [
      " 65%|██████▌   | 562/861 [1:01:22<05:12,  1.05s/it]"
     ]
    },
    {
     "name": "stdout",
     "output_type": "stream",
     "text": [
      "Logical error rate: 0.0\n",
      "Problem_46_CorrectCode_247 Error rate = 0.0\n"
     ]
    },
    {
     "name": "stderr",
     "output_type": "stream",
     "text": [
      " 65%|██████▌   | 563/861 [1:01:23<05:18,  1.07s/it]"
     ]
    },
    {
     "name": "stdout",
     "output_type": "stream",
     "text": [
      "Logical error rate: 0.0\n",
      "Problem_46_CorrectCode_248 Error rate = 0.0\n"
     ]
    },
    {
     "name": "stderr",
     "output_type": "stream",
     "text": [
      " 66%|██████▌   | 564/861 [1:01:24<05:21,  1.08s/it]"
     ]
    },
    {
     "name": "stdout",
     "output_type": "stream",
     "text": [
      "Logical error rate: 0.0\n",
      "Problem_46_CorrectCode_249 Error rate = 0.0\n"
     ]
    },
    {
     "name": "stderr",
     "output_type": "stream",
     "text": [
      " 66%|██████▌   | 565/861 [1:01:25<05:19,  1.08s/it]"
     ]
    },
    {
     "name": "stdout",
     "output_type": "stream",
     "text": [
      "Logical error rate: 0.0\n",
      "Problem_46_CorrectCode_250 Error rate = 0.0\n"
     ]
    },
    {
     "name": "stderr",
     "output_type": "stream",
     "text": [
      " 66%|██████▌   | 566/861 [1:01:26<05:18,  1.08s/it]"
     ]
    },
    {
     "name": "stdout",
     "output_type": "stream",
     "text": [
      "Logical error rate: 0.0\n",
      "Problem_46_CorrectCode_251 Error rate = 0.0\n"
     ]
    },
    {
     "name": "stderr",
     "output_type": "stream",
     "text": [
      " 66%|██████▌   | 567/861 [1:01:27<05:20,  1.09s/it]"
     ]
    },
    {
     "name": "stdout",
     "output_type": "stream",
     "text": [
      "Logical error rate: 0.0\n",
      "Problem_47_CorrectCode_175 Error rate = 0.0\n"
     ]
    },
    {
     "name": "stderr",
     "output_type": "stream",
     "text": [
      " 66%|██████▌   | 568/861 [1:01:29<05:21,  1.10s/it]"
     ]
    },
    {
     "name": "stdout",
     "output_type": "stream",
     "text": [
      "Logical error rate: 0.0\n",
      "Problem_47_CorrectCode_176 Error rate = 0.0\n"
     ]
    },
    {
     "name": "stderr",
     "output_type": "stream",
     "text": [
      " 66%|██████▌   | 569/861 [1:01:30<05:22,  1.11s/it]"
     ]
    },
    {
     "name": "stdout",
     "output_type": "stream",
     "text": [
      "Logical error rate: 0.0\n",
      "Problem_47_CorrectCode_177 Error rate = 0.0\n"
     ]
    },
    {
     "name": "stderr",
     "output_type": "stream",
     "text": [
      " 66%|██████▌   | 570/861 [1:01:31<05:24,  1.12s/it]"
     ]
    },
    {
     "name": "stdout",
     "output_type": "stream",
     "text": [
      "Logical error rate: 0.0\n",
      "Problem_47_CorrectCode_252 Error rate = 0.0\n"
     ]
    },
    {
     "name": "stderr",
     "output_type": "stream",
     "text": [
      " 66%|██████▋   | 571/861 [1:01:32<05:27,  1.13s/it]"
     ]
    },
    {
     "name": "stdout",
     "output_type": "stream",
     "text": [
      "Logical error rate: 0.0\n",
      "Problem_47_CorrectCode_253 Error rate = 0.0\n"
     ]
    },
    {
     "name": "stderr",
     "output_type": "stream",
     "text": [
      " 66%|██████▋   | 572/861 [1:01:33<05:24,  1.12s/it]"
     ]
    },
    {
     "name": "stdout",
     "output_type": "stream",
     "text": [
      "Logical error rate: 0.0\n",
      "Problem_48_CorrectCode_178 Error rate = 0.0\n"
     ]
    },
    {
     "name": "stderr",
     "output_type": "stream",
     "text": [
      " 67%|██████▋   | 573/861 [1:01:34<05:29,  1.15s/it]"
     ]
    },
    {
     "name": "stdout",
     "output_type": "stream",
     "text": [
      "Logical error rate: 0.0\n",
      "Problem_48_CorrectCode_179 Error rate = 0.0\n"
     ]
    },
    {
     "name": "stderr",
     "output_type": "stream",
     "text": [
      " 67%|██████▋   | 574/861 [1:01:35<05:29,  1.15s/it]"
     ]
    },
    {
     "name": "stdout",
     "output_type": "stream",
     "text": [
      "Logical error rate: 0.0\n",
      "Problem_48_CorrectCode_180 Error rate = 0.0\n"
     ]
    },
    {
     "name": "stderr",
     "output_type": "stream",
     "text": [
      " 67%|██████▋   | 575/861 [1:01:36<05:19,  1.12s/it]"
     ]
    },
    {
     "name": "stdout",
     "output_type": "stream",
     "text": [
      "Logical error rate: 0.0\n",
      "Problem_48_CorrectCode_181 Error rate = 0.0\n"
     ]
    },
    {
     "name": "stderr",
     "output_type": "stream",
     "text": [
      " 67%|██████▋   | 576/861 [1:01:38<05:32,  1.17s/it]"
     ]
    },
    {
     "name": "stdout",
     "output_type": "stream",
     "text": [
      "Logical error rate: 0.0\n",
      "Problem_48_CorrectCode_182 Error rate = 0.0\n"
     ]
    },
    {
     "name": "stderr",
     "output_type": "stream",
     "text": [
      " 67%|██████▋   | 577/861 [1:01:39<05:25,  1.15s/it]"
     ]
    },
    {
     "name": "stdout",
     "output_type": "stream",
     "text": [
      "Logical error rate: 0.0\n",
      "Problem_48_CorrectCode_183 Error rate = 0.0\n"
     ]
    },
    {
     "name": "stderr",
     "output_type": "stream",
     "text": [
      " 67%|██████▋   | 578/861 [1:01:40<05:20,  1.13s/it]"
     ]
    },
    {
     "name": "stdout",
     "output_type": "stream",
     "text": [
      "Logical error rate: 0.0\n",
      "Problem_48_CorrectCode_254 Error rate = 0.0\n"
     ]
    },
    {
     "name": "stderr",
     "output_type": "stream",
     "text": [
      " 67%|██████▋   | 579/861 [1:01:41<05:28,  1.17s/it]"
     ]
    },
    {
     "name": "stdout",
     "output_type": "stream",
     "text": [
      "Logical error rate: 0.0\n",
      "Problem_48_CorrectCode_255 Error rate = 0.0\n"
     ]
    },
    {
     "name": "stderr",
     "output_type": "stream",
     "text": [
      " 67%|██████▋   | 580/861 [1:01:42<05:27,  1.17s/it]"
     ]
    },
    {
     "name": "stdout",
     "output_type": "stream",
     "text": [
      "Logical error rate: 0.0\n",
      "Problem_48_CorrectCode_256 Error rate = 0.0\n"
     ]
    },
    {
     "name": "stderr",
     "output_type": "stream",
     "text": [
      " 67%|██████▋   | 581/861 [1:01:43<05:21,  1.15s/it]"
     ]
    },
    {
     "name": "stdout",
     "output_type": "stream",
     "text": [
      "Logical error rate: 0.0\n",
      "Problem_48_CorrectCode_257 Error rate = 0.0\n"
     ]
    },
    {
     "name": "stderr",
     "output_type": "stream",
     "text": [
      " 68%|██████▊   | 582/861 [1:01:45<05:29,  1.18s/it]"
     ]
    },
    {
     "name": "stdout",
     "output_type": "stream",
     "text": [
      "Logical error rate: 0.0\n",
      "Problem_48_CorrectCode_258 Error rate = 0.0\n"
     ]
    },
    {
     "name": "stderr",
     "output_type": "stream",
     "text": [
      " 68%|██████▊   | 583/861 [1:01:46<05:24,  1.17s/it]"
     ]
    },
    {
     "name": "stdout",
     "output_type": "stream",
     "text": [
      "Logical error rate: 0.0\n",
      "Problem_48_CorrectCode_259 Error rate = 0.0\n"
     ]
    },
    {
     "name": "stderr",
     "output_type": "stream",
     "text": [
      " 68%|██████▊   | 584/861 [1:01:47<05:48,  1.26s/it]"
     ]
    },
    {
     "name": "stdout",
     "output_type": "stream",
     "text": [
      "Logical error rate: 0.0\n",
      "Problem_49_CorrectCode_281 Error rate = 0.0\n"
     ]
    },
    {
     "name": "stderr",
     "output_type": "stream",
     "text": [
      " 68%|██████▊   | 585/861 [1:01:59<19:49,  4.31s/it]"
     ]
    },
    {
     "name": "stdout",
     "output_type": "stream",
     "text": [
      "Logical error rate: 0.0\n",
      "Problem_49_CorrectCode_282 Error rate = 0.0\n"
     ]
    },
    {
     "name": "stderr",
     "output_type": "stream",
     "text": [
      " 68%|██████▊   | 586/861 [1:02:00<15:31,  3.39s/it]"
     ]
    },
    {
     "name": "stdout",
     "output_type": "stream",
     "text": [
      "Logical error rate: 0.62\n",
      "Problem_49_CorrectCode_283 Error rate = 0.62\n"
     ]
    },
    {
     "name": "stderr",
     "output_type": "stream",
     "text": [
      " 68%|██████▊   | 587/861 [1:02:15<31:59,  7.00s/it]"
     ]
    },
    {
     "name": "stdout",
     "output_type": "stream",
     "text": [
      "Logical error rate: 0.62\n",
      "Problem_49_CorrectCode_284 Error rate = 0.62\n"
     ]
    },
    {
     "name": "stderr",
     "output_type": "stream",
     "text": [
      " 68%|██████▊   | 588/861 [1:02:17<23:59,  5.27s/it]"
     ]
    },
    {
     "name": "stdout",
     "output_type": "stream",
     "text": [
      "Logical error rate: 0.0\n",
      "Problem_49_CorrectCode_285 Error rate = 0.0\n"
     ]
    },
    {
     "name": "stderr",
     "output_type": "stream",
     "text": [
      " 68%|██████▊   | 589/861 [1:02:18<18:12,  4.02s/it]"
     ]
    },
    {
     "name": "stdout",
     "output_type": "stream",
     "text": [
      "Logical error rate: 0.0\n",
      "Problem_50_CorrectCode_286 Error rate = 0.0\n"
     ]
    },
    {
     "name": "stderr",
     "output_type": "stream",
     "text": [
      " 69%|██████▊   | 590/861 [1:02:19<14:09,  3.13s/it]"
     ]
    },
    {
     "name": "stdout",
     "output_type": "stream",
     "text": [
      "Logical error rate: 0.0\n",
      "Problem_50_CorrectCode_287 Error rate = 0.0\n"
     ]
    },
    {
     "name": "stderr",
     "output_type": "stream",
     "text": [
      " 69%|██████▊   | 591/861 [1:02:20<11:18,  2.51s/it]"
     ]
    },
    {
     "name": "stdout",
     "output_type": "stream",
     "text": [
      "Logical error rate: 0.0\n",
      "Problem_50_CorrectCode_288 Error rate = 0.0\n"
     ]
    },
    {
     "name": "stderr",
     "output_type": "stream",
     "text": [
      " 69%|██████▉   | 592/861 [1:02:21<09:23,  2.09s/it]"
     ]
    },
    {
     "name": "stdout",
     "output_type": "stream",
     "text": [
      "Logical error rate: 0.0\n",
      "Problem_51_CorrectCode_289 Error rate = 0.0\n"
     ]
    },
    {
     "name": "stderr",
     "output_type": "stream",
     "text": [
      " 69%|██████▉   | 593/861 [1:02:22<08:01,  1.80s/it]"
     ]
    },
    {
     "name": "stdout",
     "output_type": "stream",
     "text": [
      "Logical error rate: 0.0\n",
      "Problem_51_CorrectCode_290 Error rate = 0.0\n"
     ]
    },
    {
     "name": "stderr",
     "output_type": "stream",
     "text": [
      " 69%|██████▉   | 594/861 [1:02:23<07:07,  1.60s/it]"
     ]
    },
    {
     "name": "stdout",
     "output_type": "stream",
     "text": [
      "Logical error rate: 0.0\n",
      "Problem_52_CorrectCode_291 Error rate = 0.0\n"
     ]
    },
    {
     "name": "stderr",
     "output_type": "stream",
     "text": [
      " 69%|██████▉   | 595/861 [1:02:24<06:24,  1.44s/it]"
     ]
    },
    {
     "name": "stdout",
     "output_type": "stream",
     "text": [
      "Logical error rate: 0.0\n",
      "Problem_52_CorrectCode_292 Error rate = 0.0\n"
     ]
    },
    {
     "name": "stderr",
     "output_type": "stream",
     "text": [
      " 69%|██████▉   | 596/861 [1:02:26<06:01,  1.36s/it]"
     ]
    },
    {
     "name": "stdout",
     "output_type": "stream",
     "text": [
      "Logical error rate: 0.895\n",
      "Problem_53_CorrectCode_293 Error rate = 0.895\n"
     ]
    },
    {
     "name": "stderr",
     "output_type": "stream",
     "text": [
      " 69%|██████▉   | 597/861 [1:02:27<05:37,  1.28s/it]"
     ]
    },
    {
     "name": "stdout",
     "output_type": "stream",
     "text": [
      "Logical error rate: 0.895\n",
      "Problem_53_CorrectCode_294 Error rate = 0.895\n"
     ]
    },
    {
     "name": "stderr",
     "output_type": "stream",
     "text": [
      " 69%|██████▉   | 598/861 [1:02:28<05:22,  1.23s/it]"
     ]
    },
    {
     "name": "stdout",
     "output_type": "stream",
     "text": [
      "Logical error rate: 0.0\n",
      "Problem_53_CorrectCode_295 Error rate = 0.0\n"
     ]
    },
    {
     "name": "stderr",
     "output_type": "stream",
     "text": [
      " 70%|██████▉   | 599/861 [1:02:30<06:28,  1.48s/it]"
     ]
    },
    {
     "name": "stdout",
     "output_type": "stream",
     "text": [
      "Logical error rate: 0.0\n",
      "Problem_53_CorrectCode_296 Error rate = 0.0\n"
     ]
    },
    {
     "name": "stderr",
     "output_type": "stream",
     "text": [
      " 70%|██████▉   | 600/861 [1:02:31<05:57,  1.37s/it]"
     ]
    },
    {
     "name": "stdout",
     "output_type": "stream",
     "text": [
      "Logical error rate: 0.9\n",
      "Problem_53_CorrectCode_297 Error rate = 0.9\n"
     ]
    },
    {
     "name": "stderr",
     "output_type": "stream",
     "text": [
      " 70%|██████▉   | 601/861 [1:02:32<05:39,  1.31s/it]"
     ]
    },
    {
     "name": "stdout",
     "output_type": "stream",
     "text": [
      "Logical error rate: 0.745\n",
      "Problem_53_CorrectCode_298 Error rate = 0.745\n"
     ]
    },
    {
     "name": "stderr",
     "output_type": "stream",
     "text": [
      " 70%|██████▉   | 602/861 [1:02:33<05:20,  1.24s/it]"
     ]
    },
    {
     "name": "stdout",
     "output_type": "stream",
     "text": [
      "Logical error rate: 0.0\n",
      "Problem_54_CorrectCode_299 Error rate = 0.0\n"
     ]
    },
    {
     "name": "stderr",
     "output_type": "stream",
     "text": [
      " 70%|███████   | 603/861 [1:02:36<08:00,  1.86s/it]"
     ]
    },
    {
     "name": "stdout",
     "output_type": "stream",
     "text": [
      "Logical error rate: 0.0\n",
      "Problem_54_CorrectCode_300 Error rate = 0.0\n"
     ]
    },
    {
     "name": "stderr",
     "output_type": "stream",
     "text": [
      " 70%|███████   | 604/861 [1:02:40<09:47,  2.29s/it]"
     ]
    },
    {
     "name": "stdout",
     "output_type": "stream",
     "text": [
      "Logical error rate: 0.0\n",
      "Problem_54_CorrectCode_301 Error rate = 0.0\n"
     ]
    },
    {
     "name": "stderr",
     "output_type": "stream",
     "text": [
      " 70%|███████   | 605/861 [1:02:40<07:50,  1.84s/it]"
     ]
    },
    {
     "name": "stdout",
     "output_type": "stream",
     "text": [
      "Logical error rate: 0.04081632653061229\n",
      "Problem_55_CorrectCode_302 Error rate = 0.04081632653061229\n"
     ]
    },
    {
     "name": "stderr",
     "output_type": "stream",
     "text": [
      " 70%|███████   | 606/861 [1:02:41<06:23,  1.50s/it]"
     ]
    },
    {
     "name": "stdout",
     "output_type": "stream",
     "text": [
      "Logical error rate: 0.0\n",
      "Problem_55_CorrectCode_303 Error rate = 0.0\n"
     ]
    },
    {
     "name": "stderr",
     "output_type": "stream",
     "text": [
      " 70%|███████   | 607/861 [1:02:42<05:23,  1.27s/it]"
     ]
    },
    {
     "name": "stdout",
     "output_type": "stream",
     "text": [
      "Logical error rate: 0.0\n",
      "Problem_55_CorrectCode_304 Error rate = 0.0\n"
     ]
    },
    {
     "name": "stderr",
     "output_type": "stream",
     "text": [
      " 71%|███████   | 608/861 [1:02:43<04:39,  1.10s/it]"
     ]
    },
    {
     "name": "stdout",
     "output_type": "stream",
     "text": [
      "Logical error rate: 0.0\n",
      "Problem_55_CorrectCode_305 Error rate = 0.0\n"
     ]
    },
    {
     "name": "stderr",
     "output_type": "stream",
     "text": [
      " 71%|███████   | 609/861 [1:02:43<04:09,  1.01it/s]"
     ]
    },
    {
     "name": "stdout",
     "output_type": "stream",
     "text": [
      "Logical error rate: 0.0\n",
      "Problem_55_CorrectCode_306 Error rate = 0.0\n"
     ]
    },
    {
     "name": "stderr",
     "output_type": "stream",
     "text": [
      " 71%|███████   | 610/861 [1:02:45<04:31,  1.08s/it]"
     ]
    },
    {
     "name": "stdout",
     "output_type": "stream",
     "text": [
      "Logical error rate: 0.0\n",
      "Problem_56_CorrectCode_307 Error rate = 0.0\n"
     ]
    },
    {
     "name": "stderr",
     "output_type": "stream",
     "text": [
      " 71%|███████   | 611/861 [1:02:46<04:35,  1.10s/it]"
     ]
    },
    {
     "name": "stdout",
     "output_type": "stream",
     "text": [
      "Logical error rate: 0.0\n",
      "Problem_56_CorrectCode_308 Error rate = 0.0\n"
     ]
    },
    {
     "name": "stderr",
     "output_type": "stream",
     "text": [
      " 71%|███████   | 612/861 [1:02:47<04:44,  1.14s/it]"
     ]
    },
    {
     "name": "stdout",
     "output_type": "stream",
     "text": [
      "Logical error rate: 0.0\n",
      "Problem_56_CorrectCode_309 Error rate = 0.0\n"
     ]
    },
    {
     "name": "stderr",
     "output_type": "stream",
     "text": [
      " 71%|███████   | 613/861 [1:02:48<04:56,  1.20s/it]"
     ]
    },
    {
     "name": "stdout",
     "output_type": "stream",
     "text": [
      "Logical error rate: 0.0\n",
      "Problem_56_CorrectCode_310 Error rate = 0.0\n"
     ]
    },
    {
     "name": "stderr",
     "output_type": "stream",
     "text": [
      " 71%|███████▏  | 614/861 [1:02:50<05:01,  1.22s/it]"
     ]
    },
    {
     "name": "stdout",
     "output_type": "stream",
     "text": [
      "Logical error rate: 0.0\n",
      "Problem_56_CorrectCode_311 Error rate = 0.0\n"
     ]
    },
    {
     "name": "stderr",
     "output_type": "stream",
     "text": [
      " 71%|███████▏  | 615/861 [1:02:51<05:00,  1.22s/it]"
     ]
    },
    {
     "name": "stdout",
     "output_type": "stream",
     "text": [
      "Logical error rate: 0.0\n",
      "Problem_56_CorrectCode_312 Error rate = 0.0\n"
     ]
    },
    {
     "name": "stderr",
     "output_type": "stream",
     "text": [
      " 72%|███████▏  | 616/861 [1:02:52<04:55,  1.20s/it]"
     ]
    },
    {
     "name": "stdout",
     "output_type": "stream",
     "text": [
      "Logical error rate: 0.0\n",
      "Problem_56_CorrectCode_313 Error rate = 0.0\n"
     ]
    },
    {
     "name": "stderr",
     "output_type": "stream",
     "text": [
      " 72%|███████▏  | 617/861 [1:02:53<04:41,  1.15s/it]"
     ]
    },
    {
     "name": "stdout",
     "output_type": "stream",
     "text": [
      "Logical error rate: 0.0\n",
      "Problem_57_CorrectCode_314 Error rate = 0.0\n"
     ]
    },
    {
     "name": "stderr",
     "output_type": "stream",
     "text": [
      " 72%|███████▏  | 618/861 [1:02:54<04:29,  1.11s/it]"
     ]
    },
    {
     "name": "stdout",
     "output_type": "stream",
     "text": [
      "Logical error rate: 0.0\n",
      "Problem_57_CorrectCode_315 Error rate = 0.0\n"
     ]
    },
    {
     "name": "stderr",
     "output_type": "stream",
     "text": [
      " 72%|███████▏  | 619/861 [1:02:55<04:25,  1.10s/it]"
     ]
    },
    {
     "name": "stdout",
     "output_type": "stream",
     "text": [
      "Logical error rate: 0.0\n",
      "Problem_57_CorrectCode_316 Error rate = 0.0\n"
     ]
    },
    {
     "name": "stderr",
     "output_type": "stream",
     "text": [
      " 72%|███████▏  | 620/861 [1:02:56<04:20,  1.08s/it]"
     ]
    },
    {
     "name": "stdout",
     "output_type": "stream",
     "text": [
      "Logical error rate: 0.0\n",
      "Problem_57_CorrectCode_317 Error rate = 0.0\n"
     ]
    },
    {
     "name": "stderr",
     "output_type": "stream",
     "text": [
      " 72%|███████▏  | 621/861 [1:02:57<04:16,  1.07s/it]"
     ]
    },
    {
     "name": "stdout",
     "output_type": "stream",
     "text": [
      "Logical error rate: 0.0\n",
      "Problem_57_CorrectCode_318 Error rate = 0.0\n"
     ]
    },
    {
     "name": "stderr",
     "output_type": "stream",
     "text": [
      " 72%|███████▏  | 622/861 [1:02:58<04:19,  1.09s/it]"
     ]
    },
    {
     "name": "stdout",
     "output_type": "stream",
     "text": [
      "Logical error rate: 0.0\n",
      "Problem_57_CorrectCode_319 Error rate = 0.0\n"
     ]
    },
    {
     "name": "stderr",
     "output_type": "stream",
     "text": [
      " 72%|███████▏  | 623/861 [1:02:59<04:15,  1.07s/it]"
     ]
    },
    {
     "name": "stdout",
     "output_type": "stream",
     "text": [
      "Logical error rate: 0.0\n",
      "Problem_57_CorrectCode_320 Error rate = 0.0\n"
     ]
    },
    {
     "name": "stderr",
     "output_type": "stream",
     "text": [
      " 72%|███████▏  | 624/861 [1:03:00<04:14,  1.07s/it]"
     ]
    },
    {
     "name": "stdout",
     "output_type": "stream",
     "text": [
      "Logical error rate: 0.0\n",
      "Problem_58_CorrectCode_321 Error rate = 0.0\n"
     ]
    },
    {
     "name": "stderr",
     "output_type": "stream",
     "text": [
      " 73%|███████▎  | 625/861 [1:03:02<04:11,  1.07s/it]"
     ]
    },
    {
     "name": "stdout",
     "output_type": "stream",
     "text": [
      "Logical error rate: 0.0\n",
      "Problem_58_CorrectCode_322 Error rate = 0.0\n"
     ]
    },
    {
     "name": "stderr",
     "output_type": "stream",
     "text": [
      " 73%|███████▎  | 626/861 [1:03:03<04:11,  1.07s/it]"
     ]
    },
    {
     "name": "stdout",
     "output_type": "stream",
     "text": [
      "Logical error rate: 0.0\n",
      "Problem_58_CorrectCode_323 Error rate = 0.0\n"
     ]
    },
    {
     "name": "stderr",
     "output_type": "stream",
     "text": [
      " 73%|███████▎  | 627/861 [1:03:04<04:13,  1.08s/it]"
     ]
    },
    {
     "name": "stdout",
     "output_type": "stream",
     "text": [
      "Logical error rate: 0.0\n",
      "Problem_58_CorrectCode_324 Error rate = 0.0\n"
     ]
    },
    {
     "name": "stderr",
     "output_type": "stream",
     "text": [
      " 73%|███████▎  | 628/861 [1:03:05<04:14,  1.09s/it]"
     ]
    },
    {
     "name": "stdout",
     "output_type": "stream",
     "text": [
      "Logical error rate: 0.0\n",
      "Problem_58_CorrectCode_325 Error rate = 0.0\n"
     ]
    },
    {
     "name": "stderr",
     "output_type": "stream",
     "text": [
      " 73%|███████▎  | 629/861 [1:03:06<04:15,  1.10s/it]"
     ]
    },
    {
     "name": "stdout",
     "output_type": "stream",
     "text": [
      "Logical error rate: 0.0\n",
      "Problem_58_CorrectCode_326 Error rate = 0.0\n"
     ]
    },
    {
     "name": "stderr",
     "output_type": "stream",
     "text": [
      " 73%|███████▎  | 630/861 [1:03:07<04:19,  1.12s/it]"
     ]
    },
    {
     "name": "stdout",
     "output_type": "stream",
     "text": [
      "Logical error rate: 0.0\n",
      "Problem_59_CorrectCode_327 Error rate = 0.0\n"
     ]
    },
    {
     "name": "stderr",
     "output_type": "stream",
     "text": [
      " 73%|███████▎  | 631/861 [1:03:08<04:17,  1.12s/it]"
     ]
    },
    {
     "name": "stdout",
     "output_type": "stream",
     "text": [
      "Logical error rate: 0.0\n",
      "Problem_59_CorrectCode_328 Error rate = 0.0\n"
     ]
    },
    {
     "name": "stderr",
     "output_type": "stream",
     "text": [
      " 73%|███████▎  | 632/861 [1:03:09<04:10,  1.09s/it]"
     ]
    },
    {
     "name": "stdout",
     "output_type": "stream",
     "text": [
      "Logical error rate: 0.0\n",
      "Problem_59_CorrectCode_329 Error rate = 0.0\n"
     ]
    },
    {
     "name": "stderr",
     "output_type": "stream",
     "text": [
      " 74%|███████▎  | 633/861 [1:03:11<04:18,  1.13s/it]"
     ]
    },
    {
     "name": "stdout",
     "output_type": "stream",
     "text": [
      "Logical error rate: 0.0\n",
      "Problem_59_CorrectCode_330 Error rate = 0.0\n"
     ]
    },
    {
     "name": "stderr",
     "output_type": "stream",
     "text": [
      " 74%|███████▎  | 634/861 [1:03:12<04:16,  1.13s/it]"
     ]
    },
    {
     "name": "stdout",
     "output_type": "stream",
     "text": [
      "Logical error rate: 0.0\n",
      "Problem_5_CorrectCode_11 Error rate = 0.0\n"
     ]
    },
    {
     "name": "stderr",
     "output_type": "stream",
     "text": [
      " 74%|███████▍  | 635/861 [1:03:13<04:16,  1.14s/it]"
     ]
    },
    {
     "name": "stdout",
     "output_type": "stream",
     "text": [
      "Logical error rate: 0.0\n",
      "Problem_60_CorrectCode_331 Error rate = 0.0\n"
     ]
    },
    {
     "name": "stderr",
     "output_type": "stream",
     "text": [
      " 74%|███████▍  | 636/861 [1:03:14<04:13,  1.13s/it]"
     ]
    },
    {
     "name": "stdout",
     "output_type": "stream",
     "text": [
      "Logical error rate: 0.0\n",
      "Problem_60_CorrectCode_332 Error rate = 0.0\n"
     ]
    },
    {
     "name": "stderr",
     "output_type": "stream",
     "text": [
      " 74%|███████▍  | 637/861 [1:03:15<04:16,  1.15s/it]"
     ]
    },
    {
     "name": "stdout",
     "output_type": "stream",
     "text": [
      "Logical error rate: 0.0\n",
      "Problem_60_CorrectCode_333 Error rate = 0.0\n"
     ]
    },
    {
     "name": "stderr",
     "output_type": "stream",
     "text": [
      " 74%|███████▍  | 638/861 [1:03:16<04:12,  1.13s/it]"
     ]
    },
    {
     "name": "stdout",
     "output_type": "stream",
     "text": [
      "Logical error rate: 0.0\n",
      "Problem_60_CorrectCode_334 Error rate = 0.0\n"
     ]
    },
    {
     "name": "stderr",
     "output_type": "stream",
     "text": [
      " 74%|███████▍  | 639/861 [1:03:17<04:11,  1.13s/it]"
     ]
    },
    {
     "name": "stdout",
     "output_type": "stream",
     "text": [
      "Logical error rate: 0.0\n",
      "Problem_60_CorrectCode_335 Error rate = 0.0\n"
     ]
    },
    {
     "name": "stderr",
     "output_type": "stream",
     "text": [
      " 74%|███████▍  | 640/861 [1:03:19<04:14,  1.15s/it]"
     ]
    },
    {
     "name": "stdout",
     "output_type": "stream",
     "text": [
      "Logical error rate: 0.0\n",
      "Problem_60_CorrectCode_336 Error rate = 0.0\n"
     ]
    },
    {
     "name": "stderr",
     "output_type": "stream",
     "text": [
      " 74%|███████▍  | 641/861 [1:03:20<04:11,  1.14s/it]"
     ]
    },
    {
     "name": "stdout",
     "output_type": "stream",
     "text": [
      "Logical error rate: 0.0\n",
      "Problem_61_CorrectCode_260 Error rate = 0.0\n"
     ]
    },
    {
     "name": "stderr",
     "output_type": "stream",
     "text": [
      " 75%|███████▍  | 642/861 [1:03:21<04:08,  1.13s/it]"
     ]
    },
    {
     "name": "stdout",
     "output_type": "stream",
     "text": [
      "Logical error rate: 0.0\n",
      "Problem_61_CorrectCode_261 Error rate = 0.0\n"
     ]
    },
    {
     "name": "stderr",
     "output_type": "stream",
     "text": [
      " 75%|███████▍  | 643/861 [1:03:22<04:12,  1.16s/it]"
     ]
    },
    {
     "name": "stdout",
     "output_type": "stream",
     "text": [
      "Logical error rate: 0.0\n",
      "Problem_61_CorrectCode_262 Error rate = 0.0\n"
     ]
    },
    {
     "name": "stderr",
     "output_type": "stream",
     "text": [
      " 75%|███████▍  | 644/861 [1:03:23<04:14,  1.17s/it]"
     ]
    },
    {
     "name": "stdout",
     "output_type": "stream",
     "text": [
      "Logical error rate: 0.0\n",
      "Problem_61_CorrectCode_263 Error rate = 0.0\n"
     ]
    },
    {
     "name": "stderr",
     "output_type": "stream",
     "text": [
      " 75%|███████▍  | 645/861 [1:03:24<04:12,  1.17s/it]"
     ]
    },
    {
     "name": "stdout",
     "output_type": "stream",
     "text": [
      "Logical error rate: 0.0\n",
      "Problem_61_CorrectCode_264 Error rate = 0.0\n"
     ]
    },
    {
     "name": "stderr",
     "output_type": "stream",
     "text": [
      " 75%|███████▌  | 646/861 [1:03:25<04:05,  1.14s/it]"
     ]
    },
    {
     "name": "stdout",
     "output_type": "stream",
     "text": [
      "Logical error rate: 0.0\n",
      "Problem_61_CorrectCode_265 Error rate = 0.0\n"
     ]
    },
    {
     "name": "stderr",
     "output_type": "stream",
     "text": [
      " 75%|███████▌  | 647/861 [1:03:27<04:03,  1.14s/it]"
     ]
    },
    {
     "name": "stdout",
     "output_type": "stream",
     "text": [
      "Logical error rate: 0.0\n",
      "Problem_61_CorrectCode_337 Error rate = 0.0\n"
     ]
    },
    {
     "name": "stderr",
     "output_type": "stream",
     "text": [
      " 75%|███████▌  | 648/861 [1:03:28<04:06,  1.16s/it]"
     ]
    },
    {
     "name": "stdout",
     "output_type": "stream",
     "text": [
      "Logical error rate: 0.0\n",
      "Problem_61_CorrectCode_338 Error rate = 0.0\n"
     ]
    },
    {
     "name": "stderr",
     "output_type": "stream",
     "text": [
      " 75%|███████▌  | 649/861 [1:03:29<04:11,  1.19s/it]"
     ]
    },
    {
     "name": "stdout",
     "output_type": "stream",
     "text": [
      "Logical error rate: 0.0\n",
      "Problem_61_CorrectCode_339 Error rate = 0.0\n"
     ]
    },
    {
     "name": "stderr",
     "output_type": "stream",
     "text": [
      " 75%|███████▌  | 650/861 [1:03:30<04:08,  1.18s/it]"
     ]
    },
    {
     "name": "stdout",
     "output_type": "stream",
     "text": [
      "Logical error rate: 0.0\n",
      "Problem_61_CorrectCode_340 Error rate = 0.0\n"
     ]
    },
    {
     "name": "stderr",
     "output_type": "stream",
     "text": [
      " 76%|███████▌  | 651/861 [1:03:31<04:03,  1.16s/it]"
     ]
    },
    {
     "name": "stdout",
     "output_type": "stream",
     "text": [
      "Logical error rate: 0.0\n",
      "Problem_61_CorrectCode_341 Error rate = 0.0\n"
     ]
    },
    {
     "name": "stderr",
     "output_type": "stream",
     "text": [
      " 76%|███████▌  | 652/861 [1:03:33<04:32,  1.31s/it]"
     ]
    },
    {
     "name": "stdout",
     "output_type": "stream",
     "text": [
      "Logical error rate: 0.0\n",
      "Problem_62_CorrectCode_266 Error rate = 0.0\n"
     ]
    },
    {
     "name": "stderr",
     "output_type": "stream",
     "text": [
      " 76%|███████▌  | 653/861 [1:03:34<04:18,  1.24s/it]"
     ]
    },
    {
     "name": "stdout",
     "output_type": "stream",
     "text": [
      "Logical error rate: 0.0\n",
      "Problem_62_CorrectCode_267 Error rate = 0.0\n"
     ]
    },
    {
     "name": "stderr",
     "output_type": "stream",
     "text": [
      " 76%|███████▌  | 654/861 [1:03:35<04:16,  1.24s/it]"
     ]
    },
    {
     "name": "stdout",
     "output_type": "stream",
     "text": [
      "Logical error rate: 0.0\n",
      "Problem_62_CorrectCode_268 Error rate = 0.0\n"
     ]
    },
    {
     "name": "stderr",
     "output_type": "stream",
     "text": [
      " 76%|███████▌  | 655/861 [1:05:06<1:36:39, 28.15s/it]"
     ]
    },
    {
     "name": "stdout",
     "output_type": "stream",
     "text": [
      "Logical error rate: 0.0\n",
      "Problem_62_CorrectCode_269 Error rate = 0.0\n"
     ]
    },
    {
     "name": "stderr",
     "output_type": "stream",
     "text": [
      " 76%|███████▌  | 656/861 [1:06:37<2:40:48, 47.06s/it]"
     ]
    },
    {
     "name": "stdout",
     "output_type": "stream",
     "text": [
      "Logical error rate: 0.0\n",
      "Problem_62_CorrectCode_270 Error rate = 0.0\n"
     ]
    },
    {
     "name": "stderr",
     "output_type": "stream",
     "text": [
      " 76%|███████▋  | 657/861 [1:06:39<1:53:11, 33.29s/it]"
     ]
    },
    {
     "name": "stdout",
     "output_type": "stream",
     "text": [
      "Logical error rate: 0.0\n",
      "Problem_62_CorrectCode_271 Error rate = 0.0\n"
     ]
    },
    {
     "name": "stderr",
     "output_type": "stream",
     "text": [
      " 76%|███████▋  | 658/861 [1:06:40<1:20:03, 23.66s/it]"
     ]
    },
    {
     "name": "stdout",
     "output_type": "stream",
     "text": [
      "Logical error rate: 0.0\n",
      "Problem_62_CorrectCode_272 Error rate = 0.0\n"
     ]
    },
    {
     "name": "stderr",
     "output_type": "stream",
     "text": [
      " 77%|███████▋  | 659/861 [1:06:41<57:02, 16.95s/it]  "
     ]
    },
    {
     "name": "stdout",
     "output_type": "stream",
     "text": [
      "Logical error rate: 0.0\n",
      "Problem_62_CorrectCode_273 Error rate = 0.0\n"
     ]
    },
    {
     "name": "stderr",
     "output_type": "stream",
     "text": [
      " 77%|███████▋  | 660/861 [1:06:43<41:26, 12.37s/it]"
     ]
    },
    {
     "name": "stdout",
     "output_type": "stream",
     "text": [
      "Logical error rate: 0.0\n",
      "Problem_62_CorrectCode_342 Error rate = 0.0\n"
     ]
    },
    {
     "name": "stderr",
     "output_type": "stream",
     "text": [
      " 77%|███████▋  | 661/861 [1:06:44<29:58,  8.99s/it]"
     ]
    },
    {
     "name": "stdout",
     "output_type": "stream",
     "text": [
      "Logical error rate: 0.0\n",
      "Problem_62_CorrectCode_343 Error rate = 0.0\n"
     ]
    },
    {
     "name": "stderr",
     "output_type": "stream",
     "text": [
      " 77%|███████▋  | 662/861 [1:06:45<22:06,  6.67s/it]"
     ]
    },
    {
     "name": "stdout",
     "output_type": "stream",
     "text": [
      "Logical error rate: 0.0\n",
      "Problem_62_CorrectCode_344 Error rate = 0.0\n"
     ]
    },
    {
     "name": "stderr",
     "output_type": "stream",
     "text": [
      " 77%|███████▋  | 663/861 [1:08:17<1:46:42, 32.33s/it]"
     ]
    },
    {
     "name": "stdout",
     "output_type": "stream",
     "text": [
      "Logical error rate: 0.0\n",
      "Problem_62_CorrectCode_345 Error rate = 0.0\n"
     ]
    },
    {
     "name": "stderr",
     "output_type": "stream",
     "text": [
      " 77%|███████▋  | 664/861 [1:09:49<2:44:46, 50.19s/it]"
     ]
    },
    {
     "name": "stdout",
     "output_type": "stream",
     "text": [
      "Logical error rate: 0.0\n",
      "Problem_62_CorrectCode_346 Error rate = 0.0\n"
     ]
    },
    {
     "name": "stderr",
     "output_type": "stream",
     "text": [
      " 77%|███████▋  | 665/861 [1:09:50<1:55:54, 35.48s/it]"
     ]
    },
    {
     "name": "stdout",
     "output_type": "stream",
     "text": [
      "Logical error rate: 0.0\n",
      "Problem_62_CorrectCode_347 Error rate = 0.0\n"
     ]
    },
    {
     "name": "stderr",
     "output_type": "stream",
     "text": [
      " 77%|███████▋  | 666/861 [1:09:52<1:21:56, 25.21s/it]"
     ]
    },
    {
     "name": "stdout",
     "output_type": "stream",
     "text": [
      "Logical error rate: 0.0\n",
      "Problem_62_CorrectCode_348 Error rate = 0.0\n"
     ]
    },
    {
     "name": "stderr",
     "output_type": "stream",
     "text": [
      " 77%|███████▋  | 667/861 [1:09:53<58:15, 18.02s/it]  "
     ]
    },
    {
     "name": "stdout",
     "output_type": "stream",
     "text": [
      "Logical error rate: 0.0\n",
      "Problem_62_CorrectCode_349 Error rate = 0.0\n"
     ]
    },
    {
     "name": "stderr",
     "output_type": "stream",
     "text": [
      " 78%|███████▊  | 668/861 [1:10:43<1:28:37, 27.55s/it]"
     ]
    },
    {
     "name": "stdout",
     "output_type": "stream",
     "text": [
      "Logical error rate: 0.0\n",
      "Problem_63_CorrectCode_274 Error rate = 0.0\n"
     ]
    },
    {
     "name": "stderr",
     "output_type": "stream",
     "text": [
      " 78%|███████▊  | 669/861 [1:10:52<1:10:27, 22.02s/it]"
     ]
    },
    {
     "name": "stdout",
     "output_type": "stream",
     "text": [
      "Logical error rate: 0.0\n",
      "Problem_63_CorrectCode_275 Error rate = 0.0\n"
     ]
    },
    {
     "name": "stderr",
     "output_type": "stream",
     "text": [
      " 78%|███████▊  | 670/861 [1:11:00<57:21, 18.02s/it]  "
     ]
    },
    {
     "name": "stdout",
     "output_type": "stream",
     "text": [
      "Logical error rate: 0.0\n",
      "Problem_63_CorrectCode_276 Error rate = 0.0\n"
     ]
    },
    {
     "name": "stderr",
     "output_type": "stream",
     "text": [
      " 78%|███████▊  | 671/861 [1:11:57<1:34:02, 29.70s/it]"
     ]
    },
    {
     "name": "stdout",
     "output_type": "stream",
     "text": [
      "Logical error rate: 0.0\n",
      "Problem_63_CorrectCode_350 Error rate = 0.0\n"
     ]
    },
    {
     "name": "stderr",
     "output_type": "stream",
     "text": [
      " 78%|███████▊  | 672/861 [1:12:06<1:14:08, 23.54s/it]"
     ]
    },
    {
     "name": "stdout",
     "output_type": "stream",
     "text": [
      "Logical error rate: 0.0\n",
      "Problem_63_CorrectCode_351 Error rate = 0.0\n"
     ]
    },
    {
     "name": "stderr",
     "output_type": "stream",
     "text": [
      " 78%|███████▊  | 673/861 [1:12:15<59:49, 19.09s/it]  "
     ]
    },
    {
     "name": "stdout",
     "output_type": "stream",
     "text": [
      "Logical error rate: 0.0\n",
      "Problem_63_CorrectCode_352 Error rate = 0.0\n"
     ]
    },
    {
     "name": "stderr",
     "output_type": "stream",
     "text": [
      " 78%|███████▊  | 674/861 [1:12:16<42:40, 13.69s/it]"
     ]
    },
    {
     "name": "stdout",
     "output_type": "stream",
     "text": [
      "Logical error rate: 0.0\n",
      "Problem_65_CorrectCode_277 Error rate = 0.0\n"
     ]
    },
    {
     "name": "stderr",
     "output_type": "stream",
     "text": [
      " 78%|███████▊  | 675/861 [1:12:17<30:44,  9.92s/it]"
     ]
    },
    {
     "name": "stdout",
     "output_type": "stream",
     "text": [
      "Logical error rate: 0.0\n",
      "Problem_65_CorrectCode_278 Error rate = 0.0\n"
     ]
    },
    {
     "name": "stderr",
     "output_type": "stream",
     "text": [
      " 79%|███████▊  | 676/861 [1:12:18<22:23,  7.26s/it]"
     ]
    },
    {
     "name": "stdout",
     "output_type": "stream",
     "text": [
      "Logical error rate: 0.0\n",
      "Problem_65_CorrectCode_279 Error rate = 0.0\n"
     ]
    },
    {
     "name": "stderr",
     "output_type": "stream",
     "text": [
      " 79%|███████▊  | 677/861 [1:12:20<16:35,  5.41s/it]"
     ]
    },
    {
     "name": "stdout",
     "output_type": "stream",
     "text": [
      "Logical error rate: 0.0\n",
      "Problem_65_CorrectCode_280 Error rate = 0.0\n"
     ]
    },
    {
     "name": "stderr",
     "output_type": "stream",
     "text": [
      " 79%|███████▊  | 678/861 [1:12:21<12:32,  4.11s/it]"
     ]
    },
    {
     "name": "stdout",
     "output_type": "stream",
     "text": [
      "Logical error rate: 0.0\n",
      "Problem_65_CorrectCode_353 Error rate = 0.0\n"
     ]
    },
    {
     "name": "stderr",
     "output_type": "stream",
     "text": [
      " 79%|███████▉  | 679/861 [1:12:22<09:42,  3.20s/it]"
     ]
    },
    {
     "name": "stdout",
     "output_type": "stream",
     "text": [
      "Logical error rate: 0.0\n",
      "Problem_65_CorrectCode_354 Error rate = 0.0\n"
     ]
    },
    {
     "name": "stderr",
     "output_type": "stream",
     "text": [
      " 79%|███████▉  | 680/861 [1:12:23<07:49,  2.59s/it]"
     ]
    },
    {
     "name": "stdout",
     "output_type": "stream",
     "text": [
      "Logical error rate: 0.0\n",
      "Problem_65_CorrectCode_355 Error rate = 0.0\n"
     ]
    },
    {
     "name": "stderr",
     "output_type": "stream",
     "text": [
      " 79%|███████▉  | 681/861 [1:12:24<06:26,  2.15s/it]"
     ]
    },
    {
     "name": "stdout",
     "output_type": "stream",
     "text": [
      "Logical error rate: 0.0\n",
      "Problem_65_CorrectCode_356 Error rate = 0.0\n"
     ]
    },
    {
     "name": "stderr",
     "output_type": "stream",
     "text": [
      " 79%|███████▉  | 682/861 [1:12:25<05:28,  1.83s/it]"
     ]
    },
    {
     "name": "stdout",
     "output_type": "stream",
     "text": [
      "Logical error rate: 0.0\n",
      "Problem_67_CorrectCode_361 Error rate = 0.0\n"
     ]
    },
    {
     "name": "stderr",
     "output_type": "stream",
     "text": [
      " 79%|███████▉  | 683/861 [1:12:26<04:42,  1.58s/it]"
     ]
    },
    {
     "name": "stdout",
     "output_type": "stream",
     "text": [
      "Logical error rate: 0.0\n",
      "Problem_67_CorrectCode_362 Error rate = 0.0\n"
     ]
    },
    {
     "name": "stderr",
     "output_type": "stream",
     "text": [
      " 79%|███████▉  | 684/861 [1:12:27<04:13,  1.43s/it]"
     ]
    },
    {
     "name": "stdout",
     "output_type": "stream",
     "text": [
      "Logical error rate: 0.0\n",
      "Problem_67_CorrectCode_363 Error rate = 0.0\n"
     ]
    },
    {
     "name": "stderr",
     "output_type": "stream",
     "text": [
      " 80%|███████▉  | 685/861 [1:12:28<03:54,  1.33s/it]"
     ]
    },
    {
     "name": "stdout",
     "output_type": "stream",
     "text": [
      "Logical error rate: 0.0\n",
      "Problem_67_CorrectCode_364 Error rate = 0.0\n"
     ]
    },
    {
     "name": "stderr",
     "output_type": "stream",
     "text": [
      " 80%|███████▉  | 686/861 [1:12:29<03:39,  1.26s/it]"
     ]
    },
    {
     "name": "stdout",
     "output_type": "stream",
     "text": [
      "Logical error rate: 0.0\n",
      "Problem_67_CorrectCode_365 Error rate = 0.0\n"
     ]
    },
    {
     "name": "stderr",
     "output_type": "stream",
     "text": [
      " 80%|███████▉  | 687/861 [1:12:30<03:31,  1.22s/it]"
     ]
    },
    {
     "name": "stdout",
     "output_type": "stream",
     "text": [
      "Logical error rate: 0.0\n",
      "Problem_67_CorrectCode_366 Error rate = 0.0\n"
     ]
    },
    {
     "name": "stderr",
     "output_type": "stream",
     "text": [
      " 80%|███████▉  | 688/861 [1:12:32<03:23,  1.17s/it]"
     ]
    },
    {
     "name": "stdout",
     "output_type": "stream",
     "text": [
      "Logical error rate: 0.0\n",
      "Problem_67_CorrectCode_367 Error rate = 0.0\n"
     ]
    },
    {
     "name": "stderr",
     "output_type": "stream",
     "text": [
      " 80%|████████  | 689/861 [1:12:33<03:20,  1.17s/it]"
     ]
    },
    {
     "name": "stdout",
     "output_type": "stream",
     "text": [
      "Logical error rate: 0.0\n",
      "Problem_67_CorrectCode_368 Error rate = 0.0\n"
     ]
    },
    {
     "name": "stderr",
     "output_type": "stream",
     "text": [
      " 80%|████████  | 690/861 [1:12:34<03:14,  1.14s/it]"
     ]
    },
    {
     "name": "stdout",
     "output_type": "stream",
     "text": [
      "Logical error rate: 0.0\n",
      "Problem_67_CorrectCode_369 Error rate = 0.0\n"
     ]
    },
    {
     "name": "stderr",
     "output_type": "stream",
     "text": [
      " 80%|████████  | 691/861 [1:12:36<03:47,  1.34s/it]"
     ]
    },
    {
     "name": "stdout",
     "output_type": "stream",
     "text": [
      "Logical error rate: 0.0\n",
      "Problem_67_CorrectCode_370 Error rate = 0.0\n"
     ]
    },
    {
     "name": "stderr",
     "output_type": "stream",
     "text": [
      " 80%|████████  | 692/861 [1:12:37<03:28,  1.23s/it]"
     ]
    },
    {
     "name": "stdout",
     "output_type": "stream",
     "text": [
      "Logical error rate: 0.0\n",
      "Problem_67_CorrectCode_371 Error rate = 0.0\n"
     ]
    },
    {
     "name": "stderr",
     "output_type": "stream",
     "text": [
      " 80%|████████  | 693/861 [1:12:50<14:05,  5.03s/it]"
     ]
    },
    {
     "name": "stdout",
     "output_type": "stream",
     "text": [
      "Logical error rate: 0.0\n",
      "Problem_6_CorrectCode_12 Error rate = 0.0\n"
     ]
    },
    {
     "name": "stderr",
     "output_type": "stream",
     "text": [
      " 81%|████████  | 694/861 [1:13:06<22:33,  8.10s/it]"
     ]
    },
    {
     "name": "stdout",
     "output_type": "stream",
     "text": [
      "Logical error rate: 0.0\n",
      "Problem_6_CorrectCode_13 Error rate = 0.0\n"
     ]
    },
    {
     "name": "stderr",
     "output_type": "stream",
     "text": [
      " 81%|████████  | 695/861 [1:13:08<17:55,  6.48s/it]"
     ]
    },
    {
     "name": "stdout",
     "output_type": "stream",
     "text": [
      "Logical error rate: 0.0\n",
      "Problem_6_CorrectCode_14 Error rate = 0.0\n"
     ]
    },
    {
     "name": "stderr",
     "output_type": "stream",
     "text": [
      " 81%|████████  | 696/861 [1:13:09<13:21,  4.86s/it]"
     ]
    },
    {
     "name": "stdout",
     "output_type": "stream",
     "text": [
      "Logical error rate: 0.0\n",
      "Problem_70_CorrectCode_372 Error rate = 0.0\n"
     ]
    },
    {
     "name": "stderr",
     "output_type": "stream",
     "text": [
      " 81%|████████  | 697/861 [1:13:11<10:11,  3.73s/it]"
     ]
    },
    {
     "name": "stdout",
     "output_type": "stream",
     "text": [
      "Logical error rate: 0.0\n",
      "Problem_70_CorrectCode_373 Error rate = 0.0\n"
     ]
    },
    {
     "name": "stderr",
     "output_type": "stream",
     "text": [
      " 81%|████████  | 698/861 [1:13:12<07:58,  2.93s/it]"
     ]
    },
    {
     "name": "stdout",
     "output_type": "stream",
     "text": [
      "Logical error rate: 0.0\n",
      "Problem_71_CorrectCode_374 Error rate = 0.0\n"
     ]
    },
    {
     "name": "stderr",
     "output_type": "stream",
     "text": [
      " 81%|████████  | 699/861 [1:13:13<06:24,  2.37s/it]"
     ]
    },
    {
     "name": "stdout",
     "output_type": "stream",
     "text": [
      "Logical error rate: 1.0\n",
      "Problem_72_CorrectCode_375 Error rate = 1.0\n"
     ]
    },
    {
     "name": "stderr",
     "output_type": "stream",
     "text": [
      " 81%|████████▏ | 700/861 [1:13:14<05:20,  1.99s/it]"
     ]
    },
    {
     "name": "stdout",
     "output_type": "stream",
     "text": [
      "Logical error rate: 1.0\n",
      "Problem_72_CorrectCode_376 Error rate = 1.0\n"
     ]
    },
    {
     "name": "stderr",
     "output_type": "stream",
     "text": [
      " 81%|████████▏ | 701/861 [1:13:15<04:39,  1.75s/it]"
     ]
    },
    {
     "name": "stdout",
     "output_type": "stream",
     "text": [
      "Logical error rate: 0.9299999999999999\n",
      "Problem_72_CorrectCode_377 Error rate = 0.9299999999999999\n"
     ]
    },
    {
     "name": "stderr",
     "output_type": "stream",
     "text": [
      " 82%|████████▏ | 702/861 [1:13:16<04:09,  1.57s/it]"
     ]
    },
    {
     "name": "stdout",
     "output_type": "stream",
     "text": [
      "Logical error rate: 1.0\n",
      "Problem_72_CorrectCode_378 Error rate = 1.0\n"
     ]
    },
    {
     "name": "stderr",
     "output_type": "stream",
     "text": [
      " 82%|████████▏ | 703/861 [1:13:17<03:45,  1.43s/it]"
     ]
    },
    {
     "name": "stdout",
     "output_type": "stream",
     "text": [
      "Logical error rate: 1.0\n",
      "Problem_72_CorrectCode_379 Error rate = 1.0\n"
     ]
    },
    {
     "name": "stderr",
     "output_type": "stream",
     "text": [
      " 82%|████████▏ | 704/861 [1:13:18<03:29,  1.34s/it]"
     ]
    },
    {
     "name": "stdout",
     "output_type": "stream",
     "text": [
      "Logical error rate: 0.975\n",
      "Problem_72_CorrectCode_380 Error rate = 0.975\n"
     ]
    },
    {
     "name": "stderr",
     "output_type": "stream",
     "text": [
      " 82%|████████▏ | 705/861 [1:13:19<03:17,  1.26s/it]"
     ]
    },
    {
     "name": "stdout",
     "output_type": "stream",
     "text": [
      "Logical error rate: 1.0\n",
      "Problem_72_CorrectCode_381 Error rate = 1.0\n"
     ]
    },
    {
     "name": "stderr",
     "output_type": "stream",
     "text": [
      " 82%|████████▏ | 706/861 [1:13:21<03:12,  1.24s/it]"
     ]
    },
    {
     "name": "stdout",
     "output_type": "stream",
     "text": [
      "Logical error rate: 0.88\n",
      "Problem_74_CorrectCode_382 Error rate = 0.88\n"
     ]
    },
    {
     "name": "stderr",
     "output_type": "stream",
     "text": [
      " 82%|████████▏ | 707/861 [1:13:22<03:10,  1.24s/it]"
     ]
    },
    {
     "name": "stdout",
     "output_type": "stream",
     "text": [
      "Logical error rate: 0.94\n",
      "Problem_74_CorrectCode_383 Error rate = 0.94\n"
     ]
    },
    {
     "name": "stderr",
     "output_type": "stream",
     "text": [
      " 82%|████████▏ | 708/861 [1:13:24<03:29,  1.37s/it]"
     ]
    },
    {
     "name": "stdout",
     "output_type": "stream",
     "text": [
      "Logical error rate: 0.9299999999999999\n",
      "Problem_74_CorrectCode_384 Error rate = 0.9299999999999999\n"
     ]
    },
    {
     "name": "stderr",
     "output_type": "stream",
     "text": [
      " 82%|████████▏ | 709/861 [1:13:25<03:18,  1.31s/it]"
     ]
    },
    {
     "name": "stdout",
     "output_type": "stream",
     "text": [
      "Logical error rate: 0.88\n",
      "Problem_74_CorrectCode_385 Error rate = 0.88\n"
     ]
    },
    {
     "name": "stderr",
     "output_type": "stream",
     "text": [
      " 82%|████████▏ | 710/861 [1:13:26<03:08,  1.25s/it]"
     ]
    },
    {
     "name": "stdout",
     "output_type": "stream",
     "text": [
      "Logical error rate: 0.0\n",
      "Problem_75_CorrectCode_386 Error rate = 0.0\n"
     ]
    },
    {
     "name": "stderr",
     "output_type": "stream",
     "text": [
      " 83%|████████▎ | 711/861 [1:13:27<03:01,  1.21s/it]"
     ]
    },
    {
     "name": "stdout",
     "output_type": "stream",
     "text": [
      "Logical error rate: 0.0\n",
      "Problem_75_CorrectCode_387 Error rate = 0.0\n"
     ]
    },
    {
     "name": "stderr",
     "output_type": "stream",
     "text": [
      " 83%|████████▎ | 712/861 [1:13:28<02:56,  1.19s/it]"
     ]
    },
    {
     "name": "stdout",
     "output_type": "stream",
     "text": [
      "Logical error rate: 0.0\n",
      "Problem_75_CorrectCode_388 Error rate = 0.0\n"
     ]
    },
    {
     "name": "stderr",
     "output_type": "stream",
     "text": [
      " 83%|████████▎ | 713/861 [1:13:29<02:56,  1.19s/it]"
     ]
    },
    {
     "name": "stdout",
     "output_type": "stream",
     "text": [
      "Logical error rate: 0.0\n",
      "Problem_75_CorrectCode_389 Error rate = 0.0\n"
     ]
    },
    {
     "name": "stderr",
     "output_type": "stream",
     "text": [
      " 83%|████████▎ | 714/861 [1:13:30<02:51,  1.16s/it]"
     ]
    },
    {
     "name": "stdout",
     "output_type": "stream",
     "text": [
      "Logical error rate: 0.0\n",
      "Problem_75_CorrectCode_390 Error rate = 0.0\n"
     ]
    },
    {
     "name": "stderr",
     "output_type": "stream",
     "text": [
      " 83%|████████▎ | 715/861 [1:13:31<02:45,  1.14s/it]"
     ]
    },
    {
     "name": "stdout",
     "output_type": "stream",
     "text": [
      "Logical error rate: 0.0\n",
      "Problem_75_CorrectCode_391 Error rate = 0.0\n"
     ]
    },
    {
     "name": "stderr",
     "output_type": "stream",
     "text": [
      " 83%|████████▎ | 716/861 [1:13:33<02:42,  1.12s/it]"
     ]
    },
    {
     "name": "stdout",
     "output_type": "stream",
     "text": [
      "Logical error rate: 0.0\n",
      "Problem_75_CorrectCode_392 Error rate = 0.0\n"
     ]
    },
    {
     "name": "stderr",
     "output_type": "stream",
     "text": [
      " 83%|████████▎ | 717/861 [1:13:34<02:39,  1.11s/it]"
     ]
    },
    {
     "name": "stdout",
     "output_type": "stream",
     "text": [
      "Logical error rate: 0.0\n",
      "Problem_75_CorrectCode_393 Error rate = 0.0\n"
     ]
    },
    {
     "name": "stderr",
     "output_type": "stream",
     "text": [
      " 83%|████████▎ | 718/861 [1:13:35<02:38,  1.11s/it]"
     ]
    },
    {
     "name": "stdout",
     "output_type": "stream",
     "text": [
      "Logical error rate: 0.0\n",
      "Problem_75_CorrectCode_394 Error rate = 0.0\n"
     ]
    },
    {
     "name": "stderr",
     "output_type": "stream",
     "text": [
      " 84%|████████▎ | 719/861 [1:13:36<02:36,  1.10s/it]"
     ]
    },
    {
     "name": "stdout",
     "output_type": "stream",
     "text": [
      "Logical error rate: 0.0\n",
      "Problem_76_CorrectCode_395 Error rate = 0.0\n"
     ]
    },
    {
     "name": "stderr",
     "output_type": "stream",
     "text": [
      " 84%|████████▎ | 720/861 [1:13:45<08:29,  3.62s/it]"
     ]
    },
    {
     "name": "stdout",
     "output_type": "stream",
     "text": [
      "Logical error rate: 0.06000000000000005\n",
      "Problem_76_CorrectCode_396 Error rate = 0.06000000000000005\n"
     ]
    },
    {
     "name": "stderr",
     "output_type": "stream",
     "text": [
      " 84%|████████▎ | 721/861 [1:13:46<06:38,  2.85s/it]"
     ]
    },
    {
     "name": "stdout",
     "output_type": "stream",
     "text": [
      "Logical error rate: 0.0\n",
      "Problem_76_CorrectCode_397 Error rate = 0.0\n"
     ]
    },
    {
     "name": "stderr",
     "output_type": "stream",
     "text": [
      " 84%|████████▍ | 722/861 [1:13:47<05:22,  2.32s/it]"
     ]
    },
    {
     "name": "stdout",
     "output_type": "stream",
     "text": [
      "Logical error rate: 0.0\n",
      "Problem_76_CorrectCode_398 Error rate = 0.0\n"
     ]
    },
    {
     "name": "stderr",
     "output_type": "stream",
     "text": [
      " 84%|████████▍ | 723/861 [1:13:56<09:57,  4.33s/it]"
     ]
    },
    {
     "name": "stdout",
     "output_type": "stream",
     "text": [
      "Logical error rate: 0.06000000000000005\n",
      "Problem_76_CorrectCode_399 Error rate = 0.06000000000000005\n"
     ]
    },
    {
     "name": "stderr",
     "output_type": "stream",
     "text": [
      " 84%|████████▍ | 724/861 [1:14:05<13:05,  5.74s/it]"
     ]
    },
    {
     "name": "stdout",
     "output_type": "stream",
     "text": [
      "Logical error rate: 0.06000000000000005\n",
      "Problem_76_CorrectCode_400 Error rate = 0.06000000000000005\n"
     ]
    },
    {
     "name": "stderr",
     "output_type": "stream",
     "text": [
      " 84%|████████▍ | 725/861 [1:14:06<09:34,  4.23s/it]"
     ]
    },
    {
     "name": "stdout",
     "output_type": "stream",
     "text": [
      "Logical error rate: 0.0\n",
      "Problem_77_CorrectCode_401 Error rate = 0.0\n"
     ]
    },
    {
     "name": "stderr",
     "output_type": "stream",
     "text": [
      " 84%|████████▍ | 726/861 [1:14:07<07:06,  3.16s/it]"
     ]
    },
    {
     "name": "stdout",
     "output_type": "stream",
     "text": [
      "Logical error rate: 0.0\n",
      "Problem_77_CorrectCode_402 Error rate = 0.0\n"
     ]
    },
    {
     "name": "stderr",
     "output_type": "stream",
     "text": [
      " 84%|████████▍ | 727/861 [1:14:08<05:24,  2.42s/it]"
     ]
    },
    {
     "name": "stdout",
     "output_type": "stream",
     "text": [
      "Logical error rate: 0.0\n",
      "Problem_77_CorrectCode_403 Error rate = 0.0\n"
     ]
    },
    {
     "name": "stderr",
     "output_type": "stream",
     "text": [
      " 85%|████████▍ | 728/861 [1:14:08<04:14,  1.91s/it]"
     ]
    },
    {
     "name": "stdout",
     "output_type": "stream",
     "text": [
      "Logical error rate: 0.0\n",
      "Problem_77_CorrectCode_404 Error rate = 0.0\n"
     ]
    },
    {
     "name": "stderr",
     "output_type": "stream",
     "text": [
      " 85%|████████▍ | 729/861 [1:14:09<03:22,  1.53s/it]"
     ]
    },
    {
     "name": "stdout",
     "output_type": "stream",
     "text": [
      "Logical error rate: 0.0\n",
      "Problem_77_CorrectCode_405 Error rate = 0.0\n"
     ]
    },
    {
     "name": "stderr",
     "output_type": "stream",
     "text": [
      " 85%|████████▍ | 730/861 [1:14:10<02:50,  1.30s/it]"
     ]
    },
    {
     "name": "stdout",
     "output_type": "stream",
     "text": [
      "Logical error rate: 0.0\n",
      "Problem_77_CorrectCode_406 Error rate = 0.0\n"
     ]
    },
    {
     "name": "stderr",
     "output_type": "stream",
     "text": [
      " 85%|████████▍ | 731/861 [1:14:11<02:37,  1.21s/it]"
     ]
    },
    {
     "name": "stdout",
     "output_type": "stream",
     "text": [
      "Logical error rate: 0.0\n",
      "Problem_78_CorrectCode_407 Error rate = 0.0\n"
     ]
    },
    {
     "name": "stderr",
     "output_type": "stream",
     "text": [
      " 85%|████████▌ | 732/861 [1:14:12<02:40,  1.24s/it]"
     ]
    },
    {
     "name": "stdout",
     "output_type": "stream",
     "text": [
      "Logical error rate: 0.0\n",
      "Problem_78_CorrectCode_408 Error rate = 0.0\n"
     ]
    },
    {
     "name": "stderr",
     "output_type": "stream",
     "text": [
      " 85%|████████▌ | 733/861 [1:14:13<02:34,  1.20s/it]"
     ]
    },
    {
     "name": "stdout",
     "output_type": "stream",
     "text": [
      "Logical error rate: 0.0\n",
      "Problem_78_CorrectCode_409 Error rate = 0.0\n"
     ]
    },
    {
     "name": "stderr",
     "output_type": "stream",
     "text": [
      " 85%|████████▌ | 734/861 [1:14:14<02:27,  1.17s/it]"
     ]
    },
    {
     "name": "stdout",
     "output_type": "stream",
     "text": [
      "Logical error rate: 0.0\n",
      "Problem_78_CorrectCode_410 Error rate = 0.0\n"
     ]
    },
    {
     "name": "stderr",
     "output_type": "stream",
     "text": [
      " 85%|████████▌ | 735/861 [1:14:15<02:26,  1.17s/it]"
     ]
    },
    {
     "name": "stdout",
     "output_type": "stream",
     "text": [
      "Logical error rate: 0.0\n",
      "Problem_78_CorrectCode_411 Error rate = 0.0\n"
     ]
    },
    {
     "name": "stderr",
     "output_type": "stream",
     "text": [
      " 85%|████████▌ | 736/861 [1:14:16<02:22,  1.14s/it]"
     ]
    },
    {
     "name": "stdout",
     "output_type": "stream",
     "text": [
      "Logical error rate: 0.0\n",
      "Problem_78_CorrectCode_412 Error rate = 0.0\n"
     ]
    },
    {
     "name": "stderr",
     "output_type": "stream",
     "text": [
      " 86%|████████▌ | 737/861 [1:14:18<02:18,  1.12s/it]"
     ]
    },
    {
     "name": "stdout",
     "output_type": "stream",
     "text": [
      "Logical error rate: 0.0\n",
      "Problem_78_CorrectCode_413 Error rate = 0.0\n"
     ]
    },
    {
     "name": "stderr",
     "output_type": "stream",
     "text": [
      " 86%|████████▌ | 738/861 [1:14:19<02:14,  1.09s/it]"
     ]
    },
    {
     "name": "stdout",
     "output_type": "stream",
     "text": [
      "Logical error rate: 0.0\n",
      "Problem_78_CorrectCode_414 Error rate = 0.0\n"
     ]
    },
    {
     "name": "stderr",
     "output_type": "stream",
     "text": [
      " 86%|████████▌ | 739/861 [1:14:20<02:14,  1.10s/it]"
     ]
    },
    {
     "name": "stdout",
     "output_type": "stream",
     "text": [
      "Logical error rate: 0.0\n",
      "Problem_78_CorrectCode_415 Error rate = 0.0\n"
     ]
    },
    {
     "name": "stderr",
     "output_type": "stream",
     "text": [
      " 86%|████████▌ | 740/861 [1:14:21<02:12,  1.10s/it]"
     ]
    },
    {
     "name": "stdout",
     "output_type": "stream",
     "text": [
      "Logical error rate: 0.0\n",
      "Problem_78_CorrectCode_416 Error rate = 0.0\n"
     ]
    },
    {
     "name": "stderr",
     "output_type": "stream",
     "text": [
      " 86%|████████▌ | 741/861 [1:14:22<02:15,  1.13s/it]"
     ]
    },
    {
     "name": "stdout",
     "output_type": "stream",
     "text": [
      "Logical error rate: 0.0\n",
      "Problem_78_CorrectCode_417 Error rate = 0.0\n"
     ]
    },
    {
     "name": "stderr",
     "output_type": "stream",
     "text": [
      " 86%|████████▌ | 742/861 [1:14:35<09:37,  4.85s/it]"
     ]
    },
    {
     "name": "stdout",
     "output_type": "stream",
     "text": [
      "Logical error rate: 0.015000000000000013\n",
      "Problem_79_CorrectCode_357 Error rate = 0.015000000000000013\n"
     ]
    },
    {
     "name": "stderr",
     "output_type": "stream",
     "text": [
      " 86%|████████▋ | 743/861 [1:14:37<07:22,  3.75s/it]"
     ]
    },
    {
     "name": "stdout",
     "output_type": "stream",
     "text": [
      "Logical error rate: 0.015000000000000013\n",
      "Problem_79_CorrectCode_358 Error rate = 0.015000000000000013\n"
     ]
    },
    {
     "name": "stderr",
     "output_type": "stream",
     "text": [
      " 86%|████████▋ | 744/861 [1:14:51<13:27,  6.91s/it]"
     ]
    },
    {
     "name": "stdout",
     "output_type": "stream",
     "text": [
      "Logical error rate: 0.015000000000000013\n",
      "Problem_79_CorrectCode_418 Error rate = 0.015000000000000013\n"
     ]
    },
    {
     "name": "stderr",
     "output_type": "stream",
     "text": [
      " 87%|████████▋ | 745/861 [1:14:52<10:01,  5.19s/it]"
     ]
    },
    {
     "name": "stdout",
     "output_type": "stream",
     "text": [
      "Logical error rate: 0.015000000000000013\n",
      "Problem_79_CorrectCode_419 Error rate = 0.015000000000000013\n"
     ]
    },
    {
     "name": "stderr",
     "output_type": "stream",
     "text": [
      " 87%|████████▋ | 746/861 [1:14:55<08:50,  4.61s/it]"
     ]
    },
    {
     "name": "stdout",
     "output_type": "stream",
     "text": [
      "Logical error rate: 0.0\n",
      "Problem_7_CorrectCode_15 Error rate = 0.0\n"
     ]
    },
    {
     "name": "stderr",
     "output_type": "stream",
     "text": [
      " 87%|████████▋ | 747/861 [1:14:58<07:39,  4.03s/it]"
     ]
    },
    {
     "name": "stdout",
     "output_type": "stream",
     "text": [
      "Logical error rate: 0.0\n",
      "Problem_7_CorrectCode_16 Error rate = 0.0\n"
     ]
    },
    {
     "name": "stderr",
     "output_type": "stream",
     "text": [
      " 87%|████████▋ | 748/861 [1:15:01<06:41,  3.56s/it]"
     ]
    },
    {
     "name": "stdout",
     "output_type": "stream",
     "text": [
      "Logical error rate: 0.0\n",
      "Problem_7_CorrectCode_17 Error rate = 0.0\n"
     ]
    },
    {
     "name": "stderr",
     "output_type": "stream",
     "text": [
      " 87%|████████▋ | 749/861 [1:15:06<07:30,  4.02s/it]"
     ]
    },
    {
     "name": "stdout",
     "output_type": "stream",
     "text": [
      "Logical error rate: 0.0\n",
      "Problem_7_CorrectCode_18 Error rate = 0.0\n"
     ]
    },
    {
     "name": "stderr",
     "output_type": "stream",
     "text": [
      " 87%|████████▋ | 750/861 [1:15:25<15:51,  8.57s/it]"
     ]
    },
    {
     "name": "stdout",
     "output_type": "stream",
     "text": [
      "Logical error rate: 0.0\n",
      "Problem_7_CorrectCode_19 Error rate = 0.0\n"
     ]
    },
    {
     "name": "stderr",
     "output_type": "stream",
     "text": [
      " 87%|████████▋ | 751/861 [1:15:44<21:41, 11.83s/it]"
     ]
    },
    {
     "name": "stdout",
     "output_type": "stream",
     "text": [
      "Logical error rate: 0.0\n",
      "Problem_7_CorrectCode_20 Error rate = 0.0\n"
     ]
    },
    {
     "name": "stderr",
     "output_type": "stream",
     "text": [
      " 87%|████████▋ | 752/861 [1:15:45<15:39,  8.62s/it]"
     ]
    },
    {
     "name": "stdout",
     "output_type": "stream",
     "text": [
      "Logical error rate: 0.0\n",
      "Problem_80_CorrectCode_359 Error rate = 0.0\n"
     ]
    },
    {
     "name": "stderr",
     "output_type": "stream",
     "text": [
      " 87%|████████▋ | 753/861 [1:15:46<11:27,  6.37s/it]"
     ]
    },
    {
     "name": "stdout",
     "output_type": "stream",
     "text": [
      "Logical error rate: 0.0\n",
      "Problem_80_CorrectCode_420 Error rate = 0.0\n"
     ]
    },
    {
     "name": "stderr",
     "output_type": "stream",
     "text": [
      " 88%|████████▊ | 754/861 [1:15:48<08:33,  4.80s/it]"
     ]
    },
    {
     "name": "stdout",
     "output_type": "stream",
     "text": [
      "Logical error rate: 0.0\n",
      "Problem_81_CorrectCode_360 Error rate = 0.0\n"
     ]
    },
    {
     "name": "stderr",
     "output_type": "stream",
     "text": [
      " 88%|████████▊ | 755/861 [1:15:49<06:30,  3.68s/it]"
     ]
    },
    {
     "name": "stdout",
     "output_type": "stream",
     "text": [
      "Logical error rate: 0.0\n",
      "Problem_81_CorrectCode_421 Error rate = 0.0\n"
     ]
    },
    {
     "name": "stderr",
     "output_type": "stream",
     "text": [
      " 88%|████████▊ | 756/861 [1:15:51<05:53,  3.37s/it]"
     ]
    },
    {
     "name": "stdout",
     "output_type": "stream",
     "text": [
      "Logical error rate: 0.0\n",
      "Problem_82_CorrectCode_431 Error rate = 0.0\n"
     ]
    },
    {
     "name": "stderr",
     "output_type": "stream",
     "text": [
      " 88%|████████▊ | 757/861 [1:15:52<04:40,  2.69s/it]"
     ]
    },
    {
     "name": "stdout",
     "output_type": "stream",
     "text": [
      "Logical error rate: 0.0\n",
      "Problem_82_CorrectCode_432 Error rate = 0.0\n"
     ]
    },
    {
     "name": "stderr",
     "output_type": "stream",
     "text": [
      " 88%|████████▊ | 758/861 [1:15:54<03:48,  2.22s/it]"
     ]
    },
    {
     "name": "stdout",
     "output_type": "stream",
     "text": [
      "Logical error rate: 0.0\n",
      "Problem_82_CorrectCode_433 Error rate = 0.0\n"
     ]
    },
    {
     "name": "stderr",
     "output_type": "stream",
     "text": [
      " 88%|████████▊ | 759/861 [1:15:59<05:24,  3.19s/it]"
     ]
    },
    {
     "name": "stdout",
     "output_type": "stream",
     "text": [
      "Logical error rate: 0.0\n",
      "Problem_82_CorrectCode_434 Error rate = 0.0\n"
     ]
    },
    {
     "name": "stderr",
     "output_type": "stream",
     "text": [
      " 88%|████████▊ | 760/861 [1:16:03<05:49,  3.46s/it]"
     ]
    },
    {
     "name": "stdout",
     "output_type": "stream",
     "text": [
      "Logical error rate: 0.0\n",
      "Problem_82_CorrectCode_435 Error rate = 0.0\n"
     ]
    },
    {
     "name": "stderr",
     "output_type": "stream",
     "text": [
      " 88%|████████▊ | 761/861 [1:16:10<07:14,  4.35s/it]"
     ]
    },
    {
     "name": "stdout",
     "output_type": "stream",
     "text": [
      "Logical error rate: 0.0\n",
      "Problem_82_CorrectCode_436 Error rate = 0.0\n"
     ]
    },
    {
     "name": "stderr",
     "output_type": "stream",
     "text": [
      " 89%|████████▊ | 762/861 [1:16:11<05:32,  3.36s/it]"
     ]
    },
    {
     "name": "stdout",
     "output_type": "stream",
     "text": [
      "Logical error rate: 0.0\n",
      "Problem_82_CorrectCode_437 Error rate = 0.0\n"
     ]
    },
    {
     "name": "stderr",
     "output_type": "stream",
     "text": [
      " 89%|████████▊ | 763/861 [1:16:13<05:11,  3.18s/it]"
     ]
    },
    {
     "name": "stdout",
     "output_type": "stream",
     "text": [
      "Logical error rate: 0.0\n",
      "Problem_82_CorrectCode_438 Error rate = 0.0\n"
     ]
    },
    {
     "name": "stderr",
     "output_type": "stream",
     "text": [
      " 89%|████████▊ | 764/861 [1:16:16<04:52,  3.01s/it]"
     ]
    },
    {
     "name": "stdout",
     "output_type": "stream",
     "text": [
      "Logical error rate: 0.0\n",
      "Problem_82_CorrectCode_439 Error rate = 0.0\n"
     ]
    },
    {
     "name": "stderr",
     "output_type": "stream",
     "text": [
      " 89%|████████▉ | 765/861 [1:16:18<04:34,  2.86s/it]"
     ]
    },
    {
     "name": "stdout",
     "output_type": "stream",
     "text": [
      "Logical error rate: 0.0\n",
      "Problem_82_CorrectCode_440 Error rate = 0.0\n"
     ]
    },
    {
     "name": "stderr",
     "output_type": "stream",
     "text": [
      " 89%|████████▉ | 766/861 [1:16:49<17:37, 11.13s/it]"
     ]
    },
    {
     "name": "stdout",
     "output_type": "stream",
     "text": [
      "Logical error rate: 0.0\n",
      "Problem_84_CorrectCode_441 Error rate = 0.0\n"
     ]
    },
    {
     "name": "stderr",
     "output_type": "stream",
     "text": [
      " 89%|████████▉ | 767/861 [1:17:19<26:25, 16.87s/it]"
     ]
    },
    {
     "name": "stdout",
     "output_type": "stream",
     "text": [
      "Logical error rate: 0.0\n",
      "Problem_84_CorrectCode_442 Error rate = 0.0\n"
     ]
    },
    {
     "name": "stderr",
     "output_type": "stream",
     "text": [
      " 89%|████████▉ | 768/861 [1:17:46<30:43, 19.82s/it]"
     ]
    },
    {
     "name": "stdout",
     "output_type": "stream",
     "text": [
      "Logical error rate: 0.0\n",
      "Problem_84_CorrectCode_443 Error rate = 0.0\n"
     ]
    },
    {
     "name": "stderr",
     "output_type": "stream",
     "text": [
      " 89%|████████▉ | 769/861 [1:18:40<46:21, 30.24s/it]"
     ]
    },
    {
     "name": "stdout",
     "output_type": "stream",
     "text": [
      "Logical error rate: 0.0\n",
      "Problem_86_CorrectCode_444 Error rate = 0.0\n"
     ]
    },
    {
     "name": "stderr",
     "output_type": "stream",
     "text": [
      " 89%|████████▉ | 770/861 [1:18:42<32:36, 21.50s/it]"
     ]
    },
    {
     "name": "stdout",
     "output_type": "stream",
     "text": [
      "Logical error rate: 0.0\n",
      "Problem_87_CorrectCode_445 Error rate = 0.0\n"
     ]
    },
    {
     "name": "stderr",
     "output_type": "stream",
     "text": [
      " 90%|████████▉ | 771/861 [1:18:43<23:03, 15.38s/it]"
     ]
    },
    {
     "name": "stdout",
     "output_type": "stream",
     "text": [
      "Logical error rate: 0.0\n",
      "Problem_88_CorrectCode_446 Error rate = 0.0\n"
     ]
    },
    {
     "name": "stderr",
     "output_type": "stream",
     "text": [
      " 90%|████████▉ | 772/861 [1:18:44<16:26, 11.08s/it]"
     ]
    },
    {
     "name": "stdout",
     "output_type": "stream",
     "text": [
      "Logical error rate: 0.0\n",
      "Problem_88_CorrectCode_447 Error rate = 0.0\n"
     ]
    },
    {
     "name": "stderr",
     "output_type": "stream",
     "text": [
      " 90%|████████▉ | 773/861 [1:18:45<11:52,  8.10s/it]"
     ]
    },
    {
     "name": "stdout",
     "output_type": "stream",
     "text": [
      "Logical error rate: 0.0\n",
      "Problem_88_CorrectCode_448 Error rate = 0.0\n"
     ]
    },
    {
     "name": "stderr",
     "output_type": "stream",
     "text": [
      " 90%|████████▉ | 774/861 [1:18:46<08:40,  5.99s/it]"
     ]
    },
    {
     "name": "stdout",
     "output_type": "stream",
     "text": [
      "Logical error rate: 0.0\n",
      "Problem_88_CorrectCode_449 Error rate = 0.0\n"
     ]
    },
    {
     "name": "stderr",
     "output_type": "stream",
     "text": [
      " 90%|█████████ | 775/861 [1:18:47<06:27,  4.51s/it]"
     ]
    },
    {
     "name": "stdout",
     "output_type": "stream",
     "text": [
      "Logical error rate: 0.0\n",
      "Problem_88_CorrectCode_450 Error rate = 0.0\n"
     ]
    },
    {
     "name": "stderr",
     "output_type": "stream",
     "text": [
      " 90%|█████████ | 776/861 [1:18:48<04:55,  3.48s/it]"
     ]
    },
    {
     "name": "stdout",
     "output_type": "stream",
     "text": [
      "Logical error rate: 0.0\n",
      "Problem_88_CorrectCode_451 Error rate = 0.0\n"
     ]
    },
    {
     "name": "stderr",
     "output_type": "stream",
     "text": [
      " 90%|█████████ | 777/861 [1:18:49<03:53,  2.78s/it]"
     ]
    },
    {
     "name": "stdout",
     "output_type": "stream",
     "text": [
      "Logical error rate: 0.0\n",
      "Problem_88_CorrectCode_452 Error rate = 0.0\n"
     ]
    },
    {
     "name": "stderr",
     "output_type": "stream",
     "text": [
      " 90%|█████████ | 778/861 [1:18:50<03:07,  2.26s/it]"
     ]
    },
    {
     "name": "stdout",
     "output_type": "stream",
     "text": [
      "Logical error rate: 0.0\n",
      "Problem_88_CorrectCode_453 Error rate = 0.0\n"
     ]
    },
    {
     "name": "stderr",
     "output_type": "stream",
     "text": [
      " 90%|█████████ | 779/861 [1:18:51<02:37,  1.93s/it]"
     ]
    },
    {
     "name": "stdout",
     "output_type": "stream",
     "text": [
      "Logical error rate: 0.0\n",
      "Problem_88_CorrectCode_454 Error rate = 0.0\n"
     ]
    },
    {
     "name": "stderr",
     "output_type": "stream",
     "text": [
      " 91%|█████████ | 780/861 [1:18:52<02:15,  1.68s/it]"
     ]
    },
    {
     "name": "stdout",
     "output_type": "stream",
     "text": [
      "Logical error rate: 0.0\n",
      "Problem_88_CorrectCode_455 Error rate = 0.0\n"
     ]
    },
    {
     "name": "stderr",
     "output_type": "stream",
     "text": [
      " 91%|█████████ | 781/861 [1:18:53<01:59,  1.49s/it]"
     ]
    },
    {
     "name": "stdout",
     "output_type": "stream",
     "text": [
      "Logical error rate: 0.0\n",
      "Problem_88_CorrectCode_456 Error rate = 0.0\n"
     ]
    },
    {
     "name": "stderr",
     "output_type": "stream",
     "text": [
      " 91%|█████████ | 782/861 [1:18:55<01:47,  1.36s/it]"
     ]
    },
    {
     "name": "stdout",
     "output_type": "stream",
     "text": [
      "Logical error rate: 0.0\n",
      "Problem_88_CorrectCode_457 Error rate = 0.0\n"
     ]
    },
    {
     "name": "stderr",
     "output_type": "stream",
     "text": [
      " 91%|█████████ | 783/861 [1:18:56<01:38,  1.27s/it]"
     ]
    },
    {
     "name": "stdout",
     "output_type": "stream",
     "text": [
      "Logical error rate: 0.0\n",
      "Problem_88_CorrectCode_458 Error rate = 0.0\n"
     ]
    },
    {
     "name": "stderr",
     "output_type": "stream",
     "text": [
      " 91%|█████████ | 784/861 [1:18:57<01:32,  1.21s/it]"
     ]
    },
    {
     "name": "stdout",
     "output_type": "stream",
     "text": [
      "Logical error rate: 0.0\n",
      "Problem_88_CorrectCode_459 Error rate = 0.0\n"
     ]
    },
    {
     "name": "stderr",
     "output_type": "stream",
     "text": [
      " 91%|█████████ | 785/861 [1:18:58<01:29,  1.18s/it]"
     ]
    },
    {
     "name": "stdout",
     "output_type": "stream",
     "text": [
      "Logical error rate: 0.0\n",
      "Problem_88_CorrectCode_460 Error rate = 0.0\n"
     ]
    },
    {
     "name": "stderr",
     "output_type": "stream",
     "text": [
      " 91%|█████████▏| 786/861 [1:18:59<01:25,  1.14s/it]"
     ]
    },
    {
     "name": "stdout",
     "output_type": "stream",
     "text": [
      "Logical error rate: 0.0\n",
      "Problem_88_CorrectCode_461 Error rate = 0.0\n"
     ]
    },
    {
     "name": "stderr",
     "output_type": "stream",
     "text": [
      " 91%|█████████▏| 787/861 [1:19:00<01:23,  1.12s/it]"
     ]
    },
    {
     "name": "stdout",
     "output_type": "stream",
     "text": [
      "Logical error rate: 0.0\n",
      "Problem_88_CorrectCode_462 Error rate = 0.0\n"
     ]
    },
    {
     "name": "stderr",
     "output_type": "stream",
     "text": [
      " 92%|█████████▏| 788/861 [1:19:03<01:55,  1.58s/it]"
     ]
    },
    {
     "name": "stdout",
     "output_type": "stream",
     "text": [
      "Logical error rate: 0.0\n",
      "Problem_88_CorrectCode_463 Error rate = 0.0\n"
     ]
    },
    {
     "name": "stderr",
     "output_type": "stream",
     "text": [
      " 92%|█████████▏| 789/861 [1:19:04<01:43,  1.44s/it]"
     ]
    },
    {
     "name": "stdout",
     "output_type": "stream",
     "text": [
      "Logical error rate: 0.0\n",
      "Problem_88_CorrectCode_464 Error rate = 0.0\n"
     ]
    },
    {
     "name": "stderr",
     "output_type": "stream",
     "text": [
      " 92%|█████████▏| 790/861 [1:19:05<01:35,  1.34s/it]"
     ]
    },
    {
     "name": "stdout",
     "output_type": "stream",
     "text": [
      "Logical error rate: 1.0\n",
      "Problem_88_CorrectCode_465 Error rate = 1.0\n"
     ]
    },
    {
     "name": "stderr",
     "output_type": "stream",
     "text": [
      " 92%|█████████▏| 791/861 [1:19:06<01:28,  1.27s/it]"
     ]
    },
    {
     "name": "stdout",
     "output_type": "stream",
     "text": [
      "Logical error rate: 0.0\n",
      "Problem_88_CorrectCode_466 Error rate = 0.0\n"
     ]
    },
    {
     "name": "stderr",
     "output_type": "stream",
     "text": [
      " 92%|█████████▏| 792/861 [1:19:07<01:22,  1.20s/it]"
     ]
    },
    {
     "name": "stdout",
     "output_type": "stream",
     "text": [
      "Logical error rate: 0.0\n",
      "Problem_88_CorrectCode_467 Error rate = 0.0\n"
     ]
    },
    {
     "name": "stderr",
     "output_type": "stream",
     "text": [
      " 92%|█████████▏| 793/861 [1:19:08<01:19,  1.17s/it]"
     ]
    },
    {
     "name": "stdout",
     "output_type": "stream",
     "text": [
      "Logical error rate: 0.0\n",
      "Problem_88_CorrectCode_468 Error rate = 0.0\n"
     ]
    },
    {
     "name": "stderr",
     "output_type": "stream",
     "text": [
      " 92%|█████████▏| 794/861 [1:19:09<01:15,  1.13s/it]"
     ]
    },
    {
     "name": "stdout",
     "output_type": "stream",
     "text": [
      "Logical error rate: 0.0\n",
      "Problem_88_CorrectCode_469 Error rate = 0.0\n"
     ]
    },
    {
     "name": "stderr",
     "output_type": "stream",
     "text": [
      " 92%|█████████▏| 795/861 [1:19:10<01:14,  1.12s/it]"
     ]
    },
    {
     "name": "stdout",
     "output_type": "stream",
     "text": [
      "Logical error rate: 0.0\n",
      "Problem_88_CorrectCode_470 Error rate = 0.0\n"
     ]
    },
    {
     "name": "stderr",
     "output_type": "stream",
     "text": [
      " 92%|█████████▏| 796/861 [1:19:11<01:12,  1.12s/it]"
     ]
    },
    {
     "name": "stdout",
     "output_type": "stream",
     "text": [
      "Logical error rate: 0.0\n",
      "Problem_88_CorrectCode_471 Error rate = 0.0\n"
     ]
    },
    {
     "name": "stderr",
     "output_type": "stream",
     "text": [
      " 93%|█████████▎| 797/861 [1:19:12<01:10,  1.10s/it]"
     ]
    },
    {
     "name": "stdout",
     "output_type": "stream",
     "text": [
      "Logical error rate: 0.0\n",
      "Problem_88_CorrectCode_472 Error rate = 0.0\n"
     ]
    },
    {
     "name": "stderr",
     "output_type": "stream",
     "text": [
      " 93%|█████████▎| 798/861 [1:19:13<01:09,  1.10s/it]"
     ]
    },
    {
     "name": "stdout",
     "output_type": "stream",
     "text": [
      "Logical error rate: 0.0\n",
      "Problem_89_CorrectCode_473 Error rate = 0.0\n"
     ]
    },
    {
     "name": "stderr",
     "output_type": "stream",
     "text": [
      " 93%|█████████▎| 799/861 [1:19:15<01:16,  1.23s/it]"
     ]
    },
    {
     "name": "stdout",
     "output_type": "stream",
     "text": [
      "Logical error rate: 0.0\n",
      "Problem_8_CorrectCode_21 Error rate = 0.0\n"
     ]
    },
    {
     "name": "stderr",
     "output_type": "stream",
     "text": [
      " 93%|█████████▎| 800/861 [1:19:16<01:12,  1.19s/it]"
     ]
    },
    {
     "name": "stdout",
     "output_type": "stream",
     "text": [
      "Logical error rate: 0.0\n",
      "Problem_90_CorrectCode_474 Error rate = 0.0\n"
     ]
    },
    {
     "name": "stderr",
     "output_type": "stream",
     "text": [
      " 93%|█████████▎| 801/861 [1:19:17<01:08,  1.14s/it]"
     ]
    },
    {
     "name": "stdout",
     "output_type": "stream",
     "text": [
      "Logical error rate: 0.050000000000000044\n",
      "Problem_90_CorrectCode_475 Error rate = 0.050000000000000044\n"
     ]
    },
    {
     "name": "stderr",
     "output_type": "stream",
     "text": [
      " 93%|█████████▎| 802/861 [1:19:18<01:06,  1.14s/it]"
     ]
    },
    {
     "name": "stdout",
     "output_type": "stream",
     "text": [
      "Logical error rate: 0.0\n",
      "Problem_91_CorrectCode_476 Error rate = 0.0\n"
     ]
    },
    {
     "name": "stderr",
     "output_type": "stream",
     "text": [
      " 93%|█████████▎| 803/861 [1:19:19<01:05,  1.13s/it]"
     ]
    },
    {
     "name": "stdout",
     "output_type": "stream",
     "text": [
      "Logical error rate: 0.0\n",
      "Problem_91_CorrectCode_477 Error rate = 0.0\n"
     ]
    },
    {
     "name": "stderr",
     "output_type": "stream",
     "text": [
      " 93%|█████████▎| 804/861 [1:19:20<01:03,  1.11s/it]"
     ]
    },
    {
     "name": "stdout",
     "output_type": "stream",
     "text": [
      "Logical error rate: 0.0\n",
      "Problem_92_CorrectCode_478 Error rate = 0.0\n"
     ]
    },
    {
     "name": "stderr",
     "output_type": "stream",
     "text": [
      " 93%|█████████▎| 805/861 [1:19:21<01:01,  1.10s/it]"
     ]
    },
    {
     "name": "stdout",
     "output_type": "stream",
     "text": [
      "Logical error rate: 0.0\n",
      "Problem_92_CorrectCode_479 Error rate = 0.0\n"
     ]
    },
    {
     "name": "stderr",
     "output_type": "stream",
     "text": [
      " 94%|█████████▎| 806/861 [1:19:23<01:00,  1.10s/it]"
     ]
    },
    {
     "name": "stdout",
     "output_type": "stream",
     "text": [
      "Logical error rate: 0.0\n",
      "Problem_93_CorrectCode_480 Error rate = 0.0\n"
     ]
    },
    {
     "name": "stderr",
     "output_type": "stream",
     "text": [
      " 94%|█████████▎| 807/861 [1:19:24<00:58,  1.09s/it]"
     ]
    },
    {
     "name": "stdout",
     "output_type": "stream",
     "text": [
      "Logical error rate: 0.09499999999999997\n",
      "Problem_93_CorrectCode_481 Error rate = 0.09499999999999997\n"
     ]
    },
    {
     "name": "stderr",
     "output_type": "stream",
     "text": [
      " 94%|█████████▍| 808/861 [1:19:25<00:58,  1.10s/it]"
     ]
    },
    {
     "name": "stdout",
     "output_type": "stream",
     "text": [
      "Logical error rate: 0.22499999999999998\n",
      "Problem_93_CorrectCode_482 Error rate = 0.22499999999999998\n"
     ]
    },
    {
     "name": "stderr",
     "output_type": "stream",
     "text": [
      " 94%|█████████▍| 809/861 [1:19:26<00:57,  1.11s/it]"
     ]
    },
    {
     "name": "stdout",
     "output_type": "stream",
     "text": [
      "Logical error rate: 0.0\n",
      "Problem_94_CorrectCode_483 Error rate = 0.0\n"
     ]
    },
    {
     "name": "stderr",
     "output_type": "stream",
     "text": [
      " 94%|█████████▍| 810/861 [1:19:27<00:56,  1.11s/it]"
     ]
    },
    {
     "name": "stdout",
     "output_type": "stream",
     "text": [
      "Logical error rate: 0.0\n",
      "Problem_94_CorrectCode_484 Error rate = 0.0\n"
     ]
    },
    {
     "name": "stderr",
     "output_type": "stream",
     "text": [
      " 94%|█████████▍| 811/861 [1:19:28<00:55,  1.11s/it]"
     ]
    },
    {
     "name": "stdout",
     "output_type": "stream",
     "text": [
      "Logical error rate: 0.0\n",
      "Problem_94_CorrectCode_485 Error rate = 0.0\n"
     ]
    },
    {
     "name": "stderr",
     "output_type": "stream",
     "text": [
      " 94%|█████████▍| 812/861 [1:19:29<00:54,  1.11s/it]"
     ]
    },
    {
     "name": "stdout",
     "output_type": "stream",
     "text": [
      "Logical error rate: 0.0\n",
      "Problem_94_CorrectCode_486 Error rate = 0.0\n"
     ]
    },
    {
     "name": "stderr",
     "output_type": "stream",
     "text": [
      " 94%|█████████▍| 813/861 [1:19:30<00:53,  1.10s/it]"
     ]
    },
    {
     "name": "stdout",
     "output_type": "stream",
     "text": [
      "Logical error rate: 0.0\n",
      "Problem_94_CorrectCode_487 Error rate = 0.0\n"
     ]
    },
    {
     "name": "stderr",
     "output_type": "stream",
     "text": [
      " 95%|█████████▍| 814/861 [1:19:31<00:51,  1.10s/it]"
     ]
    },
    {
     "name": "stdout",
     "output_type": "stream",
     "text": [
      "Logical error rate: 0.0\n",
      "Problem_94_CorrectCode_488 Error rate = 0.0\n"
     ]
    },
    {
     "name": "stderr",
     "output_type": "stream",
     "text": [
      " 95%|█████████▍| 815/861 [1:19:32<00:50,  1.10s/it]"
     ]
    },
    {
     "name": "stdout",
     "output_type": "stream",
     "text": [
      "Logical error rate: 0.0\n",
      "Problem_94_CorrectCode_489 Error rate = 0.0\n"
     ]
    },
    {
     "name": "stderr",
     "output_type": "stream",
     "text": [
      " 95%|█████████▍| 816/861 [1:19:34<00:49,  1.09s/it]"
     ]
    },
    {
     "name": "stdout",
     "output_type": "stream",
     "text": [
      "Logical error rate: 0.0\n",
      "Problem_94_CorrectCode_490 Error rate = 0.0\n"
     ]
    },
    {
     "name": "stderr",
     "output_type": "stream",
     "text": [
      " 95%|█████████▍| 817/861 [1:19:35<00:47,  1.09s/it]"
     ]
    },
    {
     "name": "stdout",
     "output_type": "stream",
     "text": [
      "Logical error rate: 0.0\n",
      "Problem_94_CorrectCode_491 Error rate = 0.0\n"
     ]
    },
    {
     "name": "stderr",
     "output_type": "stream",
     "text": [
      " 95%|█████████▌| 818/861 [1:19:36<00:47,  1.11s/it]"
     ]
    },
    {
     "name": "stdout",
     "output_type": "stream",
     "text": [
      "Logical error rate: 0.0\n",
      "Problem_95_CorrectCode_492 Error rate = 0.0\n"
     ]
    },
    {
     "name": "stderr",
     "output_type": "stream",
     "text": [
      " 95%|█████████▌| 819/861 [1:19:37<00:47,  1.12s/it]"
     ]
    },
    {
     "name": "stdout",
     "output_type": "stream",
     "text": [
      "Logical error rate: 0.0\n",
      "Problem_95_CorrectCode_493 Error rate = 0.0\n"
     ]
    },
    {
     "name": "stderr",
     "output_type": "stream",
     "text": [
      " 95%|█████████▌| 820/861 [1:19:49<03:05,  4.53s/it]"
     ]
    },
    {
     "name": "stdout",
     "output_type": "stream",
     "text": [
      "Logical error rate: 0.0\n",
      "Problem_96_CorrectCode_494 Error rate = 0.0\n"
     ]
    },
    {
     "name": "stderr",
     "output_type": "stream",
     "text": [
      " 95%|█████████▌| 821/861 [1:20:03<04:55,  7.39s/it]"
     ]
    },
    {
     "name": "stdout",
     "output_type": "stream",
     "text": [
      "Logical error rate: 0.0\n",
      "Problem_96_CorrectCode_495 Error rate = 0.0\n"
     ]
    },
    {
     "name": "stderr",
     "output_type": "stream",
     "text": [
      " 95%|█████████▌| 822/861 [1:20:18<06:08,  9.44s/it]"
     ]
    },
    {
     "name": "stdout",
     "output_type": "stream",
     "text": [
      "Logical error rate: 0.0\n",
      "Problem_96_CorrectCode_496 Error rate = 0.0\n"
     ]
    },
    {
     "name": "stderr",
     "output_type": "stream",
     "text": [
      " 96%|█████████▌| 823/861 [1:20:22<04:58,  7.86s/it]"
     ]
    },
    {
     "name": "stdout",
     "output_type": "stream",
     "text": [
      "Logical error rate: 0.0\n",
      "Problem_96_CorrectCode_497 Error rate = 0.0\n"
     ]
    },
    {
     "name": "stderr",
     "output_type": "stream",
     "text": [
      " 96%|█████████▌| 824/861 [1:20:44<07:33, 12.26s/it]"
     ]
    },
    {
     "name": "stdout",
     "output_type": "stream",
     "text": [
      "Logical error rate: 0.0\n",
      "Problem_96_CorrectCode_498 Error rate = 0.0\n"
     ]
    },
    {
     "name": "stderr",
     "output_type": "stream",
     "text": [
      " 96%|█████████▌| 825/861 [1:20:56<07:16, 12.12s/it]"
     ]
    },
    {
     "name": "stdout",
     "output_type": "stream",
     "text": [
      "Logical error rate: 0.0\n",
      "Problem_96_CorrectCode_499 Error rate = 0.0\n"
     ]
    },
    {
     "name": "stderr",
     "output_type": "stream",
     "text": [
      " 96%|█████████▌| 826/861 [1:20:59<05:23,  9.24s/it]"
     ]
    },
    {
     "name": "stdout",
     "output_type": "stream",
     "text": [
      "Logical error rate: 0.0\n",
      "Problem_96_CorrectCode_500 Error rate = 0.0\n"
     ]
    },
    {
     "name": "stderr",
     "output_type": "stream",
     "text": [
      " 96%|█████████▌| 827/861 [1:21:00<03:51,  6.79s/it]"
     ]
    },
    {
     "name": "stdout",
     "output_type": "stream",
     "text": [
      "Logical error rate: 0.0\n",
      "Problem_98_CorrectCode_422 Error rate = 0.0\n"
     ]
    },
    {
     "name": "stderr",
     "output_type": "stream",
     "text": [
      " 96%|█████████▌| 828/861 [1:21:01<02:47,  5.07s/it]"
     ]
    },
    {
     "name": "stdout",
     "output_type": "stream",
     "text": [
      "Logical error rate: 0.0\n",
      "Problem_98_CorrectCode_423 Error rate = 0.0\n"
     ]
    },
    {
     "name": "stderr",
     "output_type": "stream",
     "text": [
      " 96%|█████████▋| 829/861 [1:21:02<02:04,  3.89s/it]"
     ]
    },
    {
     "name": "stdout",
     "output_type": "stream",
     "text": [
      "Logical error rate: 0.0\n",
      "Problem_98_CorrectCode_424 Error rate = 0.0\n"
     ]
    },
    {
     "name": "stderr",
     "output_type": "stream",
     "text": [
      " 96%|█████████▋| 830/861 [1:21:03<01:34,  3.05s/it]"
     ]
    },
    {
     "name": "stdout",
     "output_type": "stream",
     "text": [
      "Logical error rate: 0.0\n",
      "Problem_98_CorrectCode_425 Error rate = 0.0\n"
     ]
    },
    {
     "name": "stderr",
     "output_type": "stream",
     "text": [
      " 97%|█████████▋| 831/861 [1:21:04<01:14,  2.48s/it]"
     ]
    },
    {
     "name": "stdout",
     "output_type": "stream",
     "text": [
      "Logical error rate: 0.0\n",
      "Problem_98_CorrectCode_426 Error rate = 0.0\n"
     ]
    },
    {
     "name": "stderr",
     "output_type": "stream",
     "text": [
      " 97%|█████████▋| 832/861 [1:21:05<00:59,  2.07s/it]"
     ]
    },
    {
     "name": "stdout",
     "output_type": "stream",
     "text": [
      "Logical error rate: 0.0\n",
      "Problem_98_CorrectCode_427 Error rate = 0.0\n"
     ]
    },
    {
     "name": "stderr",
     "output_type": "stream",
     "text": [
      " 97%|█████████▋| 833/861 [1:21:06<00:49,  1.78s/it]"
     ]
    },
    {
     "name": "stdout",
     "output_type": "stream",
     "text": [
      "Logical error rate: 0.0\n",
      "Problem_98_CorrectCode_428 Error rate = 0.0\n"
     ]
    },
    {
     "name": "stderr",
     "output_type": "stream",
     "text": [
      " 97%|█████████▋| 834/861 [1:21:07<00:42,  1.56s/it]"
     ]
    },
    {
     "name": "stdout",
     "output_type": "stream",
     "text": [
      "Logical error rate: 0.0\n",
      "Problem_98_CorrectCode_429 Error rate = 0.0\n"
     ]
    },
    {
     "name": "stderr",
     "output_type": "stream",
     "text": [
      " 97%|█████████▋| 835/861 [1:21:09<00:36,  1.42s/it]"
     ]
    },
    {
     "name": "stdout",
     "output_type": "stream",
     "text": [
      "Logical error rate: 0.0\n",
      "Problem_98_CorrectCode_430 Error rate = 0.0\n"
     ]
    },
    {
     "name": "stderr",
     "output_type": "stream",
     "text": [
      " 97%|█████████▋| 836/861 [1:21:10<00:32,  1.32s/it]"
     ]
    },
    {
     "name": "stdout",
     "output_type": "stream",
     "text": [
      "Logical error rate: 0.0\n",
      "Problem_98_CorrectCode_501 Error rate = 0.0\n"
     ]
    },
    {
     "name": "stderr",
     "output_type": "stream",
     "text": [
      " 97%|█████████▋| 837/861 [1:21:11<00:29,  1.25s/it]"
     ]
    },
    {
     "name": "stdout",
     "output_type": "stream",
     "text": [
      "Logical error rate: 0.0\n",
      "Problem_98_CorrectCode_502 Error rate = 0.0\n"
     ]
    },
    {
     "name": "stderr",
     "output_type": "stream",
     "text": [
      " 97%|█████████▋| 838/861 [1:21:12<00:27,  1.21s/it]"
     ]
    },
    {
     "name": "stdout",
     "output_type": "stream",
     "text": [
      "Logical error rate: 0.0\n",
      "Problem_98_CorrectCode_503 Error rate = 0.0\n"
     ]
    },
    {
     "name": "stderr",
     "output_type": "stream",
     "text": [
      " 97%|█████████▋| 839/861 [1:21:13<00:26,  1.18s/it]"
     ]
    },
    {
     "name": "stdout",
     "output_type": "stream",
     "text": [
      "Logical error rate: 0.0\n",
      "Problem_98_CorrectCode_504 Error rate = 0.0\n"
     ]
    },
    {
     "name": "stderr",
     "output_type": "stream",
     "text": [
      " 98%|█████████▊| 840/861 [1:21:14<00:23,  1.14s/it]"
     ]
    },
    {
     "name": "stdout",
     "output_type": "stream",
     "text": [
      "Logical error rate: 0.0\n",
      "Problem_98_CorrectCode_505 Error rate = 0.0\n"
     ]
    },
    {
     "name": "stderr",
     "output_type": "stream",
     "text": [
      " 98%|█████████▊| 841/861 [1:21:15<00:22,  1.13s/it]"
     ]
    },
    {
     "name": "stdout",
     "output_type": "stream",
     "text": [
      "Logical error rate: 0.0\n",
      "Problem_98_CorrectCode_506 Error rate = 0.0\n"
     ]
    },
    {
     "name": "stderr",
     "output_type": "stream",
     "text": [
      " 98%|█████████▊| 842/861 [1:21:16<00:21,  1.11s/it]"
     ]
    },
    {
     "name": "stdout",
     "output_type": "stream",
     "text": [
      "Logical error rate: 0.0\n",
      "Problem_98_CorrectCode_507 Error rate = 0.0\n"
     ]
    },
    {
     "name": "stderr",
     "output_type": "stream",
     "text": [
      " 98%|█████████▊| 843/861 [1:21:17<00:19,  1.08s/it]"
     ]
    },
    {
     "name": "stdout",
     "output_type": "stream",
     "text": [
      "Logical error rate: 0.0\n",
      "Problem_99_CorrectCode_508 Error rate = 0.0\n"
     ]
    },
    {
     "name": "stderr",
     "output_type": "stream",
     "text": [
      " 98%|█████████▊| 844/861 [1:21:18<00:18,  1.08s/it]"
     ]
    },
    {
     "name": "stdout",
     "output_type": "stream",
     "text": [
      "Logical error rate: 0.0\n",
      "Problem_99_CorrectCode_509 Error rate = 0.0\n"
     ]
    },
    {
     "name": "stderr",
     "output_type": "stream",
     "text": [
      " 98%|█████████▊| 845/861 [1:21:19<00:17,  1.08s/it]"
     ]
    },
    {
     "name": "stdout",
     "output_type": "stream",
     "text": [
      "Logical error rate: 0.0\n",
      "Problem_99_CorrectCode_510 Error rate = 0.0\n"
     ]
    },
    {
     "name": "stderr",
     "output_type": "stream",
     "text": [
      " 98%|█████████▊| 846/861 [1:21:20<00:16,  1.08s/it]"
     ]
    },
    {
     "name": "stdout",
     "output_type": "stream",
     "text": [
      "Logical error rate: 0.0\n",
      "Problem_99_CorrectCode_511 Error rate = 0.0\n"
     ]
    },
    {
     "name": "stderr",
     "output_type": "stream",
     "text": [
      " 98%|█████████▊| 847/861 [1:21:22<00:15,  1.09s/it]"
     ]
    },
    {
     "name": "stdout",
     "output_type": "stream",
     "text": [
      "Logical error rate: 0.0\n",
      "Problem_99_CorrectCode_512 Error rate = 0.0\n"
     ]
    },
    {
     "name": "stderr",
     "output_type": "stream",
     "text": [
      " 98%|█████████▊| 848/861 [1:21:23<00:14,  1.09s/it]"
     ]
    },
    {
     "name": "stdout",
     "output_type": "stream",
     "text": [
      "Logical error rate: 0.0\n",
      "Problem_99_CorrectCode_513 Error rate = 0.0\n"
     ]
    },
    {
     "name": "stderr",
     "output_type": "stream",
     "text": [
      " 99%|█████████▊| 849/861 [1:21:24<00:13,  1.09s/it]"
     ]
    },
    {
     "name": "stdout",
     "output_type": "stream",
     "text": [
      "Logical error rate: 0.0\n",
      "Problem_99_CorrectCode_514 Error rate = 0.0\n"
     ]
    },
    {
     "name": "stderr",
     "output_type": "stream",
     "text": [
      " 99%|█████████▊| 850/861 [1:21:25<00:12,  1.09s/it]"
     ]
    },
    {
     "name": "stdout",
     "output_type": "stream",
     "text": [
      "Logical error rate: 0.0\n",
      "Problem_99_CorrectCode_515 Error rate = 0.0\n"
     ]
    },
    {
     "name": "stderr",
     "output_type": "stream",
     "text": [
      " 99%|█████████▉| 851/861 [1:21:26<00:11,  1.10s/it]"
     ]
    },
    {
     "name": "stdout",
     "output_type": "stream",
     "text": [
      "Logical error rate: 0.0\n",
      "Problem_99_CorrectCode_516 Error rate = 0.0\n"
     ]
    },
    {
     "name": "stderr",
     "output_type": "stream",
     "text": [
      " 99%|█████████▉| 852/861 [1:21:27<00:09,  1.10s/it]"
     ]
    },
    {
     "name": "stdout",
     "output_type": "stream",
     "text": [
      "Logical error rate: 0.0\n",
      "Problem_99_CorrectCode_517 Error rate = 0.0\n"
     ]
    },
    {
     "name": "stderr",
     "output_type": "stream",
     "text": [
      " 99%|█████████▉| 853/861 [1:21:28<00:08,  1.10s/it]"
     ]
    },
    {
     "name": "stdout",
     "output_type": "stream",
     "text": [
      "Logical error rate: 0.0\n",
      "Problem_99_CorrectCode_518 Error rate = 0.0\n"
     ]
    },
    {
     "name": "stderr",
     "output_type": "stream",
     "text": [
      " 99%|█████████▉| 854/861 [1:21:29<00:07,  1.11s/it]"
     ]
    },
    {
     "name": "stdout",
     "output_type": "stream",
     "text": [
      "Logical error rate: 0.0\n",
      "Problem_99_CorrectCode_519 Error rate = 0.0\n"
     ]
    },
    {
     "name": "stderr",
     "output_type": "stream",
     "text": [
      " 99%|█████████▉| 855/861 [1:21:30<00:06,  1.12s/it]"
     ]
    },
    {
     "name": "stdout",
     "output_type": "stream",
     "text": [
      "Logical error rate: 0.0\n",
      "Problem_99_CorrectCode_520 Error rate = 0.0\n"
     ]
    },
    {
     "name": "stderr",
     "output_type": "stream",
     "text": [
      " 99%|█████████▉| 856/861 [1:21:31<00:05,  1.11s/it]"
     ]
    },
    {
     "name": "stdout",
     "output_type": "stream",
     "text": [
      "Logical error rate: 0.0\n",
      "Problem_99_CorrectCode_521 Error rate = 0.0\n"
     ]
    },
    {
     "name": "stderr",
     "output_type": "stream",
     "text": [
      "100%|█████████▉| 857/861 [1:21:33<00:04,  1.11s/it]"
     ]
    },
    {
     "name": "stdout",
     "output_type": "stream",
     "text": [
      "Logical error rate: 0.0\n",
      "Problem_99_CorrectCode_522 Error rate = 0.0\n"
     ]
    },
    {
     "name": "stderr",
     "output_type": "stream",
     "text": [
      "100%|█████████▉| 858/861 [1:21:34<00:03,  1.10s/it]"
     ]
    },
    {
     "name": "stdout",
     "output_type": "stream",
     "text": [
      "Logical error rate: 0.0\n",
      "Problem_99_CorrectCode_523 Error rate = 0.0\n"
     ]
    },
    {
     "name": "stderr",
     "output_type": "stream",
     "text": [
      "100%|█████████▉| 859/861 [1:21:35<00:02,  1.09s/it]"
     ]
    },
    {
     "name": "stdout",
     "output_type": "stream",
     "text": [
      "Logical error rate: 0.0\n",
      "Problem_9_CorrectCode_22 Error rate = 0.0\n"
     ]
    },
    {
     "name": "stderr",
     "output_type": "stream",
     "text": [
      "100%|█████████▉| 860/861 [1:21:36<00:01,  1.09s/it]"
     ]
    },
    {
     "name": "stdout",
     "output_type": "stream",
     "text": [
      "Logical error rate: 0.0\n",
      "Problem_9_CorrectCode_23 Error rate = 0.0\n"
     ]
    },
    {
     "name": "stderr",
     "output_type": "stream",
     "text": [
      "100%|██████████| 861/861 [1:21:37<00:00,  5.69s/it]"
     ]
    },
    {
     "name": "stdout",
     "output_type": "stream",
     "text": [
      "Logical error rate: 0.0\n",
      "Problem_9_CorrectCode_24 Error rate = 0.0\n",
      "{\"Problem_0_CorrectCode_0\": [0.0], \"Problem_0_CorrectCode_1\": [0.0], \"Problem_0_CorrectCode_2\": [0.0], \"Problem_0_CorrectCode_3\": [0.0], \"Problem_100_CorrectCode_524\": [0.0], \"Problem_100_CorrectCode_525\": [0.0], \"Problem_100_CorrectCode_526\": [0.0], \"Problem_101_CorrectCode_527\": [0.0], \"Problem_101_CorrectCode_528\": [0.0], \"Problem_102_CorrectCode_529\": [0.995, 0, 1, 2, 3, 4, 5, 6, 7, 8, 9, 10, 11, 12, 13, 14, 15, 16, 17, 18, 19, 20, 21, 22, 23, 24, 25, 26, 27, 28, 29, 30, 31, 32, 33, 34, 35, 36, 37, 38, 39, 40, 41, 42, 43, 44, 45, 46, 47, 48, 49, 50, 51, 52, 53, 54, 55, 56, 57, 58, 59, 60, 61, 62, 63, 64, 65, 66, 67, 68, 69, 70, 71, 72, 73, 74, 75, 76, 77, 78, 79, 80, 81, 82, 83, 84, 85, 86, 87, 88, 89, 90, 91, 92, 93, 94, 95, 96, 97, 98, 99, 100, 101, 102, 103, 104, 105, 106, 107, 108, 109, 110, 111, 112, 113, 114, 115, 116, 117, 118, 119, 120, 121, 122, 123, 124, 125, 126, 127, 128, 129, 130, 131, 132, 133, 134, 135, 136, 137, 138, 139, 140, 141, 142, 143, 144, 145, 146, 147, 148, 149, 150, 151, 152, 153, 154, 155, 156, 157, 158, 159, 160, 161, 162, 163, 164, 165, 166, 167, 168, 169, 170, 171, 172, 173, 174, 175, 176, 177, 178, 179, 180, 181, 182, 183, 184, 185, 186, 187, 188, 189, 190, 191, 192, 193, 194, 195, 197, 198, 199], \"Problem_102_CorrectCode_530\": [0.0], \"Problem_102_CorrectCode_531\": [0.995, 0, 1, 2, 3, 4, 5, 6, 7, 8, 9, 10, 11, 12, 13, 14, 15, 16, 17, 18, 19, 20, 21, 22, 23, 24, 25, 26, 27, 28, 29, 30, 31, 32, 33, 34, 35, 36, 37, 38, 39, 40, 41, 42, 43, 44, 45, 46, 47, 48, 49, 50, 51, 52, 53, 54, 55, 56, 57, 58, 59, 60, 61, 62, 63, 64, 65, 66, 67, 68, 69, 70, 71, 72, 73, 74, 75, 76, 77, 78, 79, 80, 81, 82, 83, 84, 85, 86, 87, 88, 89, 90, 91, 92, 93, 94, 95, 96, 97, 98, 99, 100, 101, 102, 103, 104, 105, 106, 107, 108, 109, 110, 111, 112, 113, 114, 115, 116, 117, 118, 119, 120, 121, 122, 123, 124, 125, 126, 127, 128, 129, 130, 131, 132, 133, 134, 135, 136, 137, 138, 139, 140, 141, 142, 143, 144, 145, 146, 147, 148, 149, 150, 151, 152, 153, 154, 155, 156, 157, 158, 159, 160, 161, 162, 163, 164, 165, 166, 167, 168, 169, 170, 171, 172, 173, 174, 175, 176, 177, 178, 179, 180, 181, 182, 183, 184, 185, 186, 187, 188, 189, 190, 191, 192, 193, 194, 195, 197, 198, 199], \"Problem_103_CorrectCode_532\": [0.0], \"Problem_103_CorrectCode_533\": [0.0], \"Problem_104_CorrectCode_534\": [0.0], \"Problem_104_CorrectCode_535\": [1.0, 0, 1, 2, 3, 4, 5, 6, 7, 8, 9, 10, 11, 12, 13, 14, 15, 16, 17, 18, 19, 20, 21, 22, 23, 24, 25, 26, 27, 28, 29, 30, 31, 32, 33, 34, 35, 36, 37, 38, 39, 40, 41, 42, 43, 44, 45, 46, 47, 48, 49, 50, 51, 52, 53, 54, 55, 56, 57, 58, 59, 60, 61, 62, 63, 64, 65, 66, 67, 68, 69, 70, 71, 72, 73, 74, 75, 76, 77, 78, 79, 80, 81, 82, 83, 84, 85, 86, 87, 88, 89, 90, 91, 92, 93, 94, 95, 96, 97, 98, 99, 100, 101, 102, 103, 104, 105, 106, 107, 108, 109, 110, 111, 112, 113, 114, 115, 116, 117, 118, 119, 120, 121, 122, 123, 124, 125, 126, 127, 128, 129, 130, 131, 132, 133, 134, 135, 136, 137, 138, 139, 140, 141, 142, 143, 144, 145, 146, 147, 148, 149, 150, 151, 152, 153, 154, 155, 156, 157, 158, 159, 160, 161, 162, 163, 164, 165, 166, 167, 168, 169, 170, 171, 172, 173, 174, 175, 176, 177, 178, 179, 180, 181, 182, 183, 184, 185, 186, 187, 188, 189, 190, 191, 192, 193, 194, 195, 196, 197, 198, 199], \"Problem_104_CorrectCode_536\": [1.0, 0, 1, 2, 3, 4, 5, 6, 7, 8, 9, 10, 11, 12, 13, 14, 15, 16, 17, 18, 19, 20, 21, 22, 23, 24, 25, 26, 27, 28, 29, 30, 31, 32, 33, 34, 35, 36, 37, 38, 39, 40, 41, 42, 43, 44, 45, 46, 47, 48, 49, 50, 51, 52, 53, 54, 55, 56, 57, 58, 59, 60, 61, 62, 63, 64, 65, 66, 67, 68, 69, 70, 71, 72, 73, 74, 75, 76, 77, 78, 79, 80, 81, 82, 83, 84, 85, 86, 87, 88, 89, 90, 91, 92, 93, 94, 95, 96, 97, 98, 99, 100, 101, 102, 103, 104, 105, 106, 107, 108, 109, 110, 111, 112, 113, 114, 115, 116, 117, 118, 119, 120, 121, 122, 123, 124, 125, 126, 127, 128, 129, 130, 131, 132, 133, 134, 135, 136, 137, 138, 139, 140, 141, 142, 143, 144, 145, 146, 147, 148, 149, 150, 151, 152, 153, 154, 155, 156, 157, 158, 159, 160, 161, 162, 163, 164, 165, 166, 167, 168, 169, 170, 171, 172, 173, 174, 175, 176, 177, 178, 179, 180, 181, 182, 183, 184, 185, 186, 187, 188, 189, 190, 191, 192, 193, 194, 195, 196, 197, 198, 199], \"Problem_105_CorrectCode_537\": [0.995, 0, 1, 2, 3, 4, 5, 7, 8, 9, 10, 11, 12, 13, 14, 15, 16, 17, 18, 19, 20, 21, 22, 23, 24, 25, 26, 27, 28, 29, 30, 31, 32, 33, 34, 35, 36, 37, 38, 39, 40, 41, 42, 43, 44, 45, 46, 47, 48, 49, 50, 51, 52, 53, 54, 55, 56, 57, 58, 59, 60, 61, 62, 63, 64, 65, 66, 67, 68, 69, 70, 71, 72, 73, 74, 75, 76, 77, 78, 79, 80, 81, 82, 83, 84, 85, 86, 87, 88, 89, 90, 91, 92, 93, 94, 95, 96, 97, 98, 99, 100, 101, 102, 103, 104, 105, 106, 107, 108, 109, 110, 111, 112, 113, 114, 115, 116, 117, 118, 119, 120, 121, 122, 123, 124, 125, 126, 127, 128, 129, 130, 131, 132, 133, 134, 135, 136, 137, 138, 139, 140, 141, 142, 143, 144, 145, 146, 147, 148, 149, 150, 151, 152, 153, 154, 155, 156, 157, 158, 159, 160, 161, 162, 163, 164, 165, 166, 167, 168, 169, 170, 171, 172, 173, 174, 175, 176, 177, 178, 179, 180, 181, 182, 183, 184, 185, 186, 187, 188, 189, 190, 191, 192, 193, 194, 195, 196, 197, 198, 199], \"Problem_105_CorrectCode_538\": [0.0], \"Problem_105_CorrectCode_539\": [0.0], \"Problem_105_CorrectCode_540\": [0.0], \"Problem_105_CorrectCode_541\": [0.995, 0, 1, 2, 3, 4, 5, 7, 8, 9, 10, 11, 12, 13, 14, 15, 16, 17, 18, 19, 20, 21, 22, 23, 24, 25, 26, 27, 28, 29, 30, 31, 32, 33, 34, 35, 36, 37, 38, 39, 40, 41, 42, 43, 44, 45, 46, 47, 48, 49, 50, 51, 52, 53, 54, 55, 56, 57, 58, 59, 60, 61, 62, 63, 64, 65, 66, 67, 68, 69, 70, 71, 72, 73, 74, 75, 76, 77, 78, 79, 80, 81, 82, 83, 84, 85, 86, 87, 88, 89, 90, 91, 92, 93, 94, 95, 96, 97, 98, 99, 100, 101, 102, 103, 104, 105, 106, 107, 108, 109, 110, 111, 112, 113, 114, 115, 116, 117, 118, 119, 120, 121, 122, 123, 124, 125, 126, 127, 128, 129, 130, 131, 132, 133, 134, 135, 136, 137, 138, 139, 140, 141, 142, 143, 144, 145, 146, 147, 148, 149, 150, 151, 152, 153, 154, 155, 156, 157, 158, 159, 160, 161, 162, 163, 164, 165, 166, 167, 168, 169, 170, 171, 172, 173, 174, 175, 176, 177, 178, 179, 180, 181, 182, 183, 184, 185, 186, 187, 188, 189, 190, 191, 192, 193, 194, 195, 196, 197, 198, 199], \"Problem_105_CorrectCode_542\": [0.0], \"Problem_106_CorrectCode_543\": [0.0], \"Problem_106_CorrectCode_544\": [0.0], \"Problem_106_CorrectCode_545\": [0.0], \"Problem_106_CorrectCode_546\": [0.0], \"Problem_106_CorrectCode_547\": [0.0], \"Problem_106_CorrectCode_548\": [0.0], \"Problem_106_CorrectCode_549\": [0.0], \"Problem_106_CorrectCode_550\": [1.0, 0, 1, 2, 3, 4, 5, 6, 7, 8, 9, 10, 11, 12, 13, 14, 15, 16, 17, 18, 19, 20, 21, 22, 23, 24, 25, 26, 27, 28, 29, 30, 31, 32, 33, 34, 35, 36, 37, 38, 39, 40, 41, 42, 43, 44, 45, 46, 47, 48, 49, 50, 51, 52, 53, 54, 55, 56, 57, 58, 59, 60, 61, 62, 63, 64, 65, 66, 67, 68, 69, 70, 71, 72, 73, 74, 75, 76, 77, 78, 79, 80, 81, 82, 83, 84, 85, 86, 87, 88, 89, 90, 91, 92, 93, 94, 95, 96, 97, 98, 99, 100, 101, 102, 103, 104, 105, 106, 107, 108, 109, 110, 111, 112, 113, 114, 115, 116, 117, 118, 119, 120, 121, 122, 123, 124, 125, 126, 127, 128, 129, 130, 131, 132, 133, 134, 135, 136, 137, 138, 139, 140, 141, 142, 143, 144, 145, 146, 147, 148, 149, 150, 151, 152, 153, 154, 155, 156, 157, 158, 159, 160, 161, 162, 163, 164, 165, 166, 167, 168, 169, 170, 171, 172, 173, 174, 175, 176, 177, 178, 179, 180, 181, 182, 183, 184, 185, 186, 187, 188, 189, 190, 191, 192, 193, 194, 195, 196, 197, 198, 199], \"Problem_106_CorrectCode_551\": [0.0], \"Problem_106_CorrectCode_552\": [0.0], \"Problem_107_CorrectCode_553\": [0.16500000000000004, 2, 4, 5, 6, 7, 8, 9, 10, 11, 12, 14, 15, 21, 26, 27, 28, 32, 34, 36, 38, 40, 42, 43, 46, 49, 53, 60, 64, 67, 71, 74, 111, 163], \"Problem_107_CorrectCode_554\": [0.20999999999999996, 2, 4, 5, 6, 8, 9, 10, 11, 12, 14, 15, 16, 17, 18, 19, 20, 21, 23, 24, 25, 26, 27, 28, 32, 34, 36, 40, 43, 68, 78, 82, 100, 104, 111, 115, 130, 134, 138, 142, 146, 159, 163], \"Problem_107_CorrectCode_555\": [0.20999999999999996, 2, 4, 5, 6, 8, 9, 10, 11, 12, 14, 15, 16, 17, 18, 19, 20, 21, 23, 24, 25, 26, 27, 28, 32, 34, 36, 40, 43, 68, 78, 82, 100, 104, 111, 115, 130, 134, 138, 142, 146, 159, 163], \"Problem_107_CorrectCode_556\": [0.0], \"Problem_107_CorrectCode_557\": [0.09999999999999998, 2, 4, 5, 6, 8, 9, 10, 11, 14, 23, 24, 26, 28, 32, 34, 36, 40, 43, 159, 163], \"Problem_107_CorrectCode_558\": [0.17500000000000004, 2, 4, 5, 6, 7, 8, 9, 10, 11, 14, 15, 22, 23, 24, 26, 28, 32, 34, 36, 38, 40, 42, 43, 46, 49, 53, 60, 64, 67, 71, 74, 122, 126, 159, 163], \"Problem_107_CorrectCode_559\": [0.17500000000000004, 2, 4, 6, 8, 9, 10, 11, 12, 14, 16, 17, 18, 19, 20, 21, 23, 24, 25, 26, 28, 43, 68, 78, 82, 100, 104, 111, 115, 130, 134, 138, 142, 146, 159, 163], \"Problem_108_CorrectCode_560\": [0.0], \"Problem_108_CorrectCode_561\": [0.0], \"Problem_108_CorrectCode_562\": [0.0], \"Problem_109_CorrectCode_563\": [0.0], \"Problem_109_CorrectCode_564\": [0.0], \"Problem_109_CorrectCode_565\": [0.0], \"Problem_10_CorrectCode_25\": [0.0], \"Problem_10_CorrectCode_26\": [0.0], \"Problem_10_CorrectCode_27\": [0.0], \"Problem_10_CorrectCode_28\": [0.0], \"Problem_10_CorrectCode_29\": [0.0], \"Problem_10_CorrectCode_30\": [0.0], \"Problem_10_CorrectCode_31\": [0.0], \"Problem_110_CorrectCode_566\": [0.0], \"Problem_110_CorrectCode_567\": [0.0], \"Problem_110_CorrectCode_568\": [0.0], \"Problem_110_CorrectCode_569\": [0.0], \"Problem_113_CorrectCode_570\": [0.0], \"Problem_113_CorrectCode_571\": [0.0], \"Problem_113_CorrectCode_572\": [0.0], \"Problem_113_CorrectCode_573\": [0.0], \"Problem_113_CorrectCode_574\": [0.0], \"Problem_113_CorrectCode_575\": [0.0], \"Problem_114_CorrectCode_576\": [0.78, 1, 3, 4, 5, 6, 7, 8, 9, 10, 11, 12, 13, 14, 15, 16, 17, 18, 19, 20, 21, 22, 23, 24, 25, 26, 27, 28, 29, 30, 31, 34, 36, 38, 39, 40, 41, 42, 45, 46, 47, 48, 49, 51, 52, 53, 55, 57, 59, 61, 63, 64, 66, 67, 68, 69, 70, 71, 73, 74, 75, 76, 77, 78, 79, 81, 83, 85, 86, 88, 91, 92, 93, 94, 95, 96, 97, 98, 99, 100, 101, 103, 105, 107, 108, 109, 110, 111, 112, 113, 114, 115, 117, 118, 119, 121, 122, 123, 124, 125, 127, 128, 129, 131, 132, 133, 134, 135, 136, 137, 138, 139, 140, 141, 143, 144, 146, 147, 149, 150, 151, 153, 154, 155, 158, 159, 161, 162, 163, 164, 165, 166, 167, 169, 170, 172, 174, 176, 178, 180, 182, 183, 184, 185, 186, 187, 188, 189, 190, 192, 193, 194, 195, 196, 197, 198, 199], \"Problem_114_CorrectCode_577\": [0.78, 1, 3, 4, 5, 6, 7, 8, 9, 10, 11, 12, 13, 14, 15, 16, 17, 18, 19, 20, 21, 22, 23, 24, 25, 26, 27, 28, 29, 30, 31, 34, 36, 38, 39, 40, 41, 42, 45, 46, 47, 48, 49, 51, 52, 53, 55, 57, 59, 61, 63, 64, 66, 67, 68, 69, 70, 71, 73, 74, 75, 76, 77, 78, 79, 81, 83, 85, 86, 88, 91, 92, 93, 94, 95, 96, 97, 98, 99, 100, 101, 103, 105, 107, 108, 109, 110, 111, 112, 113, 114, 115, 117, 118, 119, 121, 122, 123, 124, 125, 127, 128, 129, 131, 132, 133, 134, 135, 136, 137, 138, 139, 140, 141, 143, 144, 146, 147, 149, 150, 151, 153, 154, 155, 158, 159, 161, 162, 163, 164, 165, 166, 167, 169, 170, 172, 174, 176, 178, 180, 182, 183, 184, 185, 186, 187, 188, 189, 190, 192, 193, 194, 195, 196, 197, 198, 199], \"Problem_114_CorrectCode_578\": [0.0], \"Problem_114_CorrectCode_579\": [0.0], \"Problem_114_CorrectCode_580\": [0.0], \"Problem_114_CorrectCode_581\": [0.0], \"Problem_114_CorrectCode_582\": [0.78, 1, 3, 4, 5, 6, 7, 8, 9, 10, 11, 12, 13, 14, 15, 16, 17, 18, 19, 20, 21, 22, 23, 24, 25, 26, 27, 28, 29, 30, 31, 34, 36, 38, 39, 40, 41, 42, 45, 46, 47, 48, 49, 51, 52, 53, 55, 57, 59, 61, 63, 64, 66, 67, 68, 69, 70, 71, 73, 74, 75, 76, 77, 78, 79, 81, 83, 85, 86, 88, 91, 92, 93, 94, 95, 96, 97, 98, 99, 100, 101, 103, 105, 107, 108, 109, 110, 111, 112, 113, 114, 115, 117, 118, 119, 121, 122, 123, 124, 125, 127, 128, 129, 131, 132, 133, 134, 135, 136, 137, 138, 139, 140, 141, 143, 144, 146, 147, 149, 150, 151, 153, 154, 155, 158, 159, 161, 162, 163, 164, 165, 166, 167, 169, 170, 172, 174, 176, 178, 180, 182, 183, 184, 185, 186, 187, 188, 189, 190, 192, 193, 194, 195, 196, 197, 198, 199], \"Problem_114_CorrectCode_583\": [0.0], \"Problem_114_CorrectCode_584\": [0.0], \"Problem_114_CorrectCode_585\": [0.98, 0, 1, 2, 3, 4, 5, 6, 7, 8, 9, 10, 11, 12, 13, 14, 15, 16, 17, 18, 19, 20, 21, 22, 23, 24, 25, 26, 27, 28, 29, 30, 31, 32, 34, 35, 36, 37, 38, 39, 40, 41, 42, 44, 45, 46, 47, 48, 49, 50, 51, 52, 53, 54, 55, 56, 57, 58, 59, 60, 61, 62, 63, 64, 65, 66, 67, 68, 69, 70, 71, 73, 74, 75, 76, 77, 78, 79, 80, 81, 82, 83, 84, 85, 86, 87, 88, 89, 90, 91, 92, 93, 94, 95, 96, 97, 98, 99, 100, 101, 102, 103, 104, 105, 106, 107, 108, 109, 110, 111, 112, 113, 114, 115, 116, 117, 118, 119, 120, 121, 122, 123, 124, 125, 126, 127, 128, 129, 130, 131, 132, 133, 134, 135, 136, 137, 138, 139, 140, 141, 143, 144, 145, 146, 147, 148, 149, 150, 151, 152, 153, 154, 155, 156, 157, 158, 159, 160, 161, 162, 163, 164, 165, 166, 167, 168, 169, 170, 171, 172, 173, 174, 175, 176, 177, 178, 179, 180, 181, 182, 183, 184, 185, 186, 187, 188, 189, 190, 191, 192, 193, 194, 195, 196, 197, 198, 199], \"Problem_114_CorrectCode_586\": [0.0], \"Problem_114_CorrectCode_587\": [0.0], \"Problem_114_CorrectCode_588\": [0.0], \"Problem_114_CorrectCode_589\": [0.0], \"Problem_115_CorrectCode_590\": [0.0], \"Problem_115_CorrectCode_591\": [0.0], \"Problem_115_CorrectCode_592\": [0.0], \"Problem_116_CorrectCode_593\": [0.0], \"Problem_116_CorrectCode_594\": [0.0], \"Problem_117_CorrectCode_595\": [0.0], \"Problem_117_CorrectCode_596\": [0.0], \"Problem_117_CorrectCode_597\": [0.0], \"Problem_117_CorrectCode_598\": [0.0], \"Problem_118_CorrectCode_599\": [0.0], \"Problem_119_CorrectCode_600\": [0.0], \"Problem_119_CorrectCode_601\": [0.0], \"Problem_119_CorrectCode_602\": [0.0], \"Problem_119_CorrectCode_603\": [0.0], \"Problem_11_CorrectCode_32\": [0.0], \"Problem_11_CorrectCode_33\": [0.0], \"Problem_11_CorrectCode_34\": [0.0], \"Problem_11_CorrectCode_35\": [0.0], \"Problem_11_CorrectCode_36\": [0.0], \"Problem_120_CorrectCode_604\": [0.0], \"Problem_121_CorrectCode_605\": [0.0], \"Problem_121_CorrectCode_606\": [0.0], \"Problem_123_CorrectCode_607\": [0.0], \"Problem_123_CorrectCode_608\": [0.0], \"Problem_123_CorrectCode_609\": [0.0], \"Problem_124_CorrectCode_610\": [0.0], \"Problem_124_CorrectCode_611\": [0.0], \"Problem_124_CorrectCode_612\": [0.0], \"Problem_124_CorrectCode_613\": [0.0], \"Problem_124_CorrectCode_614\": [0.0], \"Problem_124_CorrectCode_615\": [0.0], \"Problem_124_CorrectCode_616\": [0.0], \"Problem_127_CorrectCode_617\": [0.0], \"Problem_127_CorrectCode_618\": [0.0], \"Problem_128_CorrectCode_619\": [0.0], \"Problem_128_CorrectCode_620\": [1.0, 0, 1, 2, 3, 4, 5, 6, 7, 8, 9, 10, 11, 12, 13, 14, 15, 16, 17, 18, 19, 20, 21, 22, 23, 24, 25, 26, 27, 28, 29, 30, 31, 32, 33, 34, 35, 36, 37, 38, 39, 40, 41, 42, 43, 44, 45, 46, 47, 48, 49, 50, 51, 52, 53, 54, 55, 56, 57, 58, 59, 60, 61, 62, 63, 64, 65, 66, 67, 68, 69, 70, 71, 72, 73, 74, 75, 76, 77, 78, 79, 80, 81, 82, 83, 84, 85, 86, 87, 88, 89, 90, 91, 92, 93, 94, 95, 96, 97, 98, 99, 100, 101, 102, 103, 104, 105, 106, 107, 108, 109, 110, 111, 112, 113, 114, 115, 116, 117, 118, 119, 120, 121, 122, 123, 124, 125, 126, 127, 128, 129, 130, 131, 132, 133, 134, 135, 136, 137, 138, 139, 140, 141, 142, 143, 144, 145, 146, 147, 148, 149, 150, 151, 152, 153, 154, 155, 156, 157, 158, 159, 160, 161, 162, 163, 164, 165, 166, 167, 168, 169, 170, 171, 172, 173, 174, 175, 176, 177, 178, 179, 180, 181, 182, 183, 184, 185, 186, 187, 188, 189, 190, 191, 192, 193, 194, 195, 196, 197, 198, 199], \"Problem_129_CorrectCode_621\": [0.0], \"Problem_129_CorrectCode_622\": [0.0], \"Problem_12_CorrectCode_37\": [0.0], \"Problem_12_CorrectCode_38\": [0.0], \"Problem_130_CorrectCode_623\": [1.0, 0, 1, 2, 3, 4, 5, 6, 7, 8, 9, 10, 11, 12, 13, 14, 15, 16, 17, 18, 19, 20, 21, 22, 23, 24, 25, 26, 27, 28, 29, 30, 31, 32, 33, 34, 35, 36, 37, 38, 39, 40, 41, 42, 43, 44, 45, 46, 47, 48, 49, 50, 51, 52, 53, 54, 55, 56, 57, 58, 59, 60, 61, 62, 63, 64, 65, 66, 67, 68, 69, 70, 71, 72, 73, 74, 75, 76, 77, 78, 79, 80, 81, 82, 83, 84, 85, 86, 87, 88, 89, 90, 91, 92, 93, 94, 95, 96, 97, 98, 99, 100, 101, 102, 103, 104, 105, 106, 107, 108, 109, 110, 111, 112, 113, 114, 115, 116, 117, 118, 119, 120, 121, 122, 123, 124, 125, 126, 127, 128, 129, 130, 131, 132, 133, 134, 135, 136, 137, 138, 139, 140, 141, 142, 143, 144, 145, 146, 147, 148, 149, 150, 151, 152, 153, 154, 155, 156, 157, 158, 159, 160, 161, 162, 163, 164, 165, 166, 167, 168, 169, 170, 171, 172, 173, 174, 175, 176, 177, 178, 179, 180, 181, 182, 183, 184, 185, 186, 187, 188, 189, 190, 191, 192, 193, 194, 195, 196, 197, 198, 199], \"Problem_130_CorrectCode_624\": [1.0, 0, 1, 2, 3, 4, 5, 6, 7, 8, 9, 10, 11, 12, 13, 14, 15, 16, 17, 18, 19, 20, 21, 22, 23, 24, 25, 26, 27, 28, 29, 30, 31, 32, 33, 34, 35, 36, 37, 38, 39, 40, 41, 42, 43, 44, 45, 46, 47, 48, 49, 50, 51, 52, 53, 54, 55, 56, 57, 58, 59, 60, 61, 62, 63, 64, 65, 66, 67, 68, 69, 70, 71, 72, 73, 74, 75, 76, 77, 78, 79, 80, 81, 82, 83, 84, 85, 86, 87, 88, 89, 90, 91, 92, 93, 94, 95, 96, 97, 98, 99, 100, 101, 102, 103, 104, 105, 106, 107, 108, 109, 110, 111, 112, 113, 114, 115, 116, 117, 118, 119, 120, 121, 122, 123, 124, 125, 126, 127, 128, 129, 130, 131, 132, 133, 134, 135, 136, 137, 138, 139, 140, 141, 142, 143, 144, 145, 146, 147, 148, 149, 150, 151, 152, 153, 154, 155, 156, 157, 158, 159, 160, 161, 162, 163, 164, 165, 166, 167, 168, 169, 170, 171, 172, 173, 174, 175, 176, 177, 178, 179, 180, 181, 182, 183, 184, 185, 186, 187, 188, 189, 190, 191, 192, 193, 194, 195, 196, 197, 198, 199], \"Problem_130_CorrectCode_625\": [1.0, 0, 1, 2, 3, 4, 5, 6, 7, 8, 9, 10, 11, 12, 13, 14, 15, 16, 17, 18, 19, 20, 21, 22, 23, 24, 25, 26, 27, 28, 29, 30, 31, 32, 33, 34, 35, 36, 37, 38, 39, 40, 41, 42, 43, 44, 45, 46, 47, 48, 49, 50, 51, 52, 53, 54, 55, 56, 57, 58, 59, 60, 61, 62, 63, 64, 65, 66, 67, 68, 69, 70, 71, 72, 73, 74, 75, 76, 77, 78, 79, 80, 81, 82, 83, 84, 85, 86, 87, 88, 89, 90, 91, 92, 93, 94, 95, 96, 97, 98, 99, 100, 101, 102, 103, 104, 105, 106, 107, 108, 109, 110, 111, 112, 113, 114, 115, 116, 117, 118, 119, 120, 121, 122, 123, 124, 125, 126, 127, 128, 129, 130, 131, 132, 133, 134, 135, 136, 137, 138, 139, 140, 141, 142, 143, 144, 145, 146, 147, 148, 149, 150, 151, 152, 153, 154, 155, 156, 157, 158, 159, 160, 161, 162, 163, 164, 165, 166, 167, 168, 169, 170, 171, 172, 173, 174, 175, 176, 177, 178, 179, 180, 181, 182, 183, 184, 185, 186, 187, 188, 189, 190, 191, 192, 193, 194, 195, 196, 197, 198, 199], \"Problem_130_CorrectCode_626\": [1.0, 0, 1, 2, 3, 4, 5, 6, 7, 8, 9, 10, 11, 12, 13, 14, 15, 16, 17, 18, 19, 20, 21, 22, 23, 24, 25, 26, 27, 28, 29, 30, 31, 32, 33, 34, 35, 36, 37, 38, 39, 40, 41, 42, 43, 44, 45, 46, 47, 48, 49, 50, 51, 52, 53, 54, 55, 56, 57, 58, 59, 60, 61, 62, 63, 64, 65, 66, 67, 68, 69, 70, 71, 72, 73, 74, 75, 76, 77, 78, 79, 80, 81, 82, 83, 84, 85, 86, 87, 88, 89, 90, 91, 92, 93, 94, 95, 96, 97, 98, 99, 100, 101, 102, 103, 104, 105, 106, 107, 108, 109, 110, 111, 112, 113, 114, 115, 116, 117, 118, 119, 120, 121, 122, 123, 124, 125, 126, 127, 128, 129, 130, 131, 132, 133, 134, 135, 136, 137, 138, 139, 140, 141, 142, 143, 144, 145, 146, 147, 148, 149, 150, 151, 152, 153, 154, 155, 156, 157, 158, 159, 160, 161, 162, 163, 164, 165, 166, 167, 168, 169, 170, 171, 172, 173, 174, 175, 176, 177, 178, 179, 180, 181, 182, 183, 184, 185, 186, 187, 188, 189, 190, 191, 192, 193, 194, 195, 196, 197, 198, 199], \"Problem_131_CorrectCode_627\": [0.625, 1, 3, 4, 5, 9, 10, 11, 13, 14, 15, 17, 21, 24, 25, 26, 29, 30, 31, 35, 38, 39, 40, 43, 44, 47, 48, 49, 53, 54, 55, 56, 58, 59, 60, 61, 62, 63, 66, 68, 69, 72, 73, 74, 75, 76, 77, 78, 79, 81, 82, 83, 84, 86, 87, 90, 91, 95, 98, 99, 100, 102, 104, 105, 106, 108, 110, 111, 115, 116, 118, 120, 121, 122, 123, 125, 127, 128, 130, 132, 133, 135, 136, 137, 138, 140, 141, 142, 143, 146, 147, 148, 149, 150, 152, 153, 156, 157, 158, 160, 162, 163, 164, 165, 166, 167, 168, 170, 173, 174, 176, 177, 179, 180, 181, 182, 183, 184, 188, 190, 191, 192, 194, 195, 196, 197], \"Problem_133_CorrectCode_635\": [0.0], \"Problem_134_CorrectCode_638\": [0.0], \"Problem_134_CorrectCode_639\": [0.0], \"Problem_134_CorrectCode_640\": [0.0], \"Problem_134_CorrectCode_641\": [0.0], \"Problem_135_CorrectCode_642\": [0.0], \"Problem_135_CorrectCode_643\": [0.0], \"Problem_136_CorrectCode_644\": [0.0], \"Problem_136_CorrectCode_645\": [0.0], \"Problem_136_CorrectCode_646\": [0.0], \"Problem_136_CorrectCode_647\": [0.0], \"Problem_136_CorrectCode_648\": [0.0], \"Problem_136_CorrectCode_649\": [0.0], \"Problem_136_CorrectCode_650\": [0.0], \"Problem_136_CorrectCode_651\": [0.0], \"Problem_136_CorrectCode_652\": [0.0], \"Problem_136_CorrectCode_653\": [0.0], \"Problem_136_CorrectCode_654\": [0.0], \"Problem_136_CorrectCode_655\": [0.0], \"Problem_136_CorrectCode_656\": [0.0], \"Problem_137_CorrectCode_657\": [0.0], \"Problem_137_CorrectCode_658\": [0.0], \"Problem_138_CorrectCode_659\": [0.0], \"Problem_138_CorrectCode_660\": [0.0], \"Problem_138_CorrectCode_661\": [0.0], \"Problem_138_CorrectCode_662\": [0.0], \"Problem_139_CorrectCode_663\": [1.0, 0, 1, 2, 3, 4, 5, 6, 7, 8, 9, 10, 11, 12, 13, 14, 15, 16, 17, 18, 19, 20, 21, 22, 23, 24, 25, 26, 27, 28, 29, 30, 31, 32, 33, 34, 35, 36, 37, 38, 39, 40, 41, 42, 43, 44, 45, 46, 47, 48, 49, 50, 51, 52, 53, 54, 55, 56, 57, 58, 59, 60, 61, 62, 63, 64, 65, 66, 67, 68, 69, 70, 71, 72, 73, 74, 75, 76, 77, 78, 79, 80, 81, 82, 83, 84, 85, 86, 87, 88, 89, 90, 91, 92, 93, 94, 95, 96, 97, 98, 99, 100, 101, 102, 103, 104, 105, 106, 107, 108, 109, 110, 111, 112, 113, 114, 115, 116, 117, 118, 119, 120, 121, 122, 123, 124, 125, 126, 127, 128, 129, 130, 131, 132, 133, 134, 135, 136, 137, 138, 139, 140, 141, 142, 143, 144, 145, 146, 147, 148, 149, 150, 151, 152, 153, 154, 155, 156, 157, 158, 159, 160, 161, 162, 163, 164, 165, 166, 167, 168, 169, 170, 171, 172, 173, 174, 175, 176, 177, 178, 179, 180, 181, 182, 183, 184, 185, 186, 187, 188, 189, 190, 191, 192, 193, 194, 195, 196, 197, 198, 199], \"Problem_139_CorrectCode_664\": [0.0], \"Problem_139_CorrectCode_665\": [0.0], \"Problem_139_CorrectCode_666\": [0.0], \"Problem_139_CorrectCode_667\": [0.0], \"Problem_139_CorrectCode_668\": [0.0], \"Problem_139_CorrectCode_669\": [0.0], \"Problem_139_CorrectCode_670\": [0.0], \"Problem_139_CorrectCode_671\": [0.0], \"Problem_139_CorrectCode_672\": [0.0], \"Problem_139_CorrectCode_673\": [0.0], \"Problem_139_CorrectCode_674\": [0.0], \"Problem_13_CorrectCode_39\": [1.0, 0, 1, 2, 3, 4, 5, 6, 7, 8, 9, 10, 11, 12, 13, 14, 15, 16, 17, 18, 19, 20, 21, 22, 23, 24, 25, 26, 27, 28, 29, 30, 31, 32, 33, 34, 35, 36, 37, 38, 39, 40, 41, 42, 43, 44, 45, 46, 47, 48, 49, 50, 51, 52, 53, 54, 55, 56, 57, 58, 59, 60, 61, 62, 63, 64, 65, 66, 67, 68, 69, 70, 71, 72, 73, 74, 75, 76, 77, 78, 79, 80, 81, 82, 83, 84, 85, 86, 87, 88, 89, 90, 91, 92, 93, 94, 95, 96, 97, 98, 99, 100, 101, 102, 103, 104, 105, 106, 107, 108, 109, 110, 111, 112, 113, 114, 115, 116, 117, 118, 119, 120, 121, 122, 123, 124, 125, 126, 127, 128, 129, 130, 131, 132, 133, 134, 135, 136, 137, 138, 139, 140, 141, 142, 143, 144, 145, 146, 147, 148, 149, 150, 151, 152, 153, 154, 155, 156, 157, 158, 159, 160, 161, 162, 163, 164, 165, 166, 167, 168, 169, 170, 171, 172, 173, 174, 175, 176, 177, 178, 179, 180, 181, 182, 183, 184, 185, 186, 187, 188, 189, 190, 191, 192, 193, 194, 195, 196, 197, 198, 199], \"Problem_13_CorrectCode_40\": [0.0], \"Problem_13_CorrectCode_41\": [0.0], \"Problem_13_CorrectCode_42\": [0.0], \"Problem_13_CorrectCode_43\": [0.0], \"Problem_13_CorrectCode_44\": [0.0], \"Problem_13_CorrectCode_45\": [0.0], \"Problem_13_CorrectCode_46\": [0.0], \"Problem_13_CorrectCode_47\": [0.0], \"Problem_13_CorrectCode_48\": [0.0], \"Problem_13_CorrectCode_49\": [0.0], \"Problem_13_CorrectCode_50\": [0.0], \"Problem_13_CorrectCode_51\": [0.0], \"Problem_13_CorrectCode_52\": [0.0], \"Problem_13_CorrectCode_53\": [0.0], \"Problem_13_CorrectCode_54\": [0.0], \"Problem_13_CorrectCode_55\": [0.0], \"Problem_140_CorrectCode_675\": [0.0], \"Problem_141_CorrectCode_676\": [0.0], \"Problem_141_CorrectCode_677\": [0.0], \"Problem_141_CorrectCode_678\": [0.0], \"Problem_141_CorrectCode_679\": [0.0], \"Problem_141_CorrectCode_680\": [0.0], \"Problem_142_CorrectCode_681\": [0.0], \"Problem_142_CorrectCode_682\": [0.655, 6, 7, 8, 9, 10, 11, 13, 14, 15, 17, 18, 19, 21, 23, 25, 26, 27, 29, 31, 33, 34, 35, 37, 38, 39, 40, 42, 46, 48, 49, 52, 53, 54, 61, 62, 63, 64, 65, 66, 67, 68, 69, 70, 71, 72, 73, 74, 84, 85, 86, 87, 88, 89, 90, 91, 92, 93, 94, 95, 96, 97, 101, 103, 104, 105, 106, 107, 108, 109, 110, 111, 112, 113, 116, 117, 118, 119, 120, 121, 122, 123, 126, 128, 129, 130, 131, 132, 134, 137, 138, 139, 140, 141, 142, 143, 146, 147, 148, 149, 150, 152, 153, 154, 155, 156, 157, 158, 168, 169, 170, 171, 172, 173, 174, 175, 176, 177, 178, 179, 186, 187, 188, 189, 190, 191, 192, 193, 194, 195, 197, 199], \"Problem_142_CorrectCode_683\": [0.0], \"Problem_142_CorrectCode_684\": [0.07499999999999996, 34, 37, 40, 49, 120, 131, 137, 141, 146, 149, 150, 152, 155, 157, 158], \"Problem_142_CorrectCode_685\": [0.0], \"Problem_142_CorrectCode_686\": [0.0], \"Problem_143_CorrectCode_687\": [0.0], \"Problem_143_CorrectCode_688\": [0.0], \"Problem_143_CorrectCode_689\": [0.0], \"Problem_144_CorrectCode_690\": [0.0], \"Problem_144_CorrectCode_691\": [0.025000000000000022, 101, 135, 157, 172, 193], \"Problem_144_CorrectCode_692\": [0.52, 0, 2, 4, 6, 7, 8, 9, 10, 12, 13, 14, 15, 16, 17, 19, 21, 23, 24, 25, 27, 30, 32, 33, 36, 38, 39, 42, 43, 44, 45, 47, 48, 49, 50, 51, 53, 54, 55, 57, 60, 66, 67, 68, 69, 70, 71, 72, 74, 75, 76, 77, 78, 83, 84, 87, 88, 89, 91, 93, 94, 96, 98, 102, 104, 106, 113, 118, 120, 122, 123, 129, 130, 131, 133, 134, 136, 143, 144, 145, 146, 151, 152, 155, 156, 158, 161, 163, 164, 167, 168, 170, 171, 172, 173, 176, 180, 181, 183, 185, 186, 189, 193, 194, 196], \"Problem_144_CorrectCode_693\": [0.05500000000000005, 12, 16, 42, 50, 67, 74, 78, 118, 129, 151, 171], \"Problem_144_CorrectCode_694\": [0.52, 0, 2, 4, 6, 7, 8, 9, 10, 12, 13, 14, 15, 16, 17, 19, 21, 23, 24, 25, 27, 30, 32, 33, 36, 38, 39, 42, 43, 44, 45, 47, 48, 49, 50, 51, 53, 54, 55, 57, 60, 66, 67, 68, 69, 70, 71, 72, 74, 75, 76, 77, 78, 83, 84, 87, 88, 89, 91, 93, 94, 96, 98, 102, 104, 106, 113, 118, 120, 122, 123, 129, 130, 131, 133, 134, 136, 143, 144, 145, 146, 151, 152, 155, 156, 158, 161, 163, 164, 167, 168, 170, 171, 172, 173, 176, 180, 181, 183, 185, 186, 189, 193, 194, 196], \"Problem_144_CorrectCode_695\": [0.0], \"Problem_145_CorrectCode_696\": [0.0], \"Problem_145_CorrectCode_697\": [0.0], \"Problem_145_CorrectCode_698\": [0.0], \"Problem_146_CorrectCode_699\": [0.0], \"Problem_146_CorrectCode_700\": [0.0], \"Problem_146_CorrectCode_701\": [0.0], \"Problem_146_CorrectCode_702\": [0.0], \"Problem_146_CorrectCode_703\": [0.0], \"Problem_146_CorrectCode_704\": [0.0], \"Problem_146_CorrectCode_705\": [0.0], \"Problem_147_CorrectCode_706\": [0.0], \"Problem_147_CorrectCode_707\": [0.0], \"Problem_147_CorrectCode_708\": [0.0], \"Problem_148_CorrectCode_760\": [0.0], \"Problem_148_CorrectCode_761\": [0.0], \"Problem_148_CorrectCode_762\": [0.0], \"Problem_148_CorrectCode_763\": [0.0], \"Problem_148_CorrectCode_764\": [0.0], \"Problem_148_CorrectCode_765\": [0.0], \"Problem_149_CorrectCode_766\": [0.0], \"Problem_149_CorrectCode_767\": [0.0], \"Problem_149_CorrectCode_768\": [0.0], \"Problem_149_CorrectCode_769\": [0.0], \"Problem_149_CorrectCode_770\": [0.0], \"Problem_149_CorrectCode_771\": [0.0], \"Problem_14_CorrectCode_56\": [0.0], \"Problem_14_CorrectCode_57\": [0.0], \"Problem_150_CorrectCode_772\": [0.0], \"Problem_150_CorrectCode_773\": [0.0], \"Problem_150_CorrectCode_774\": [0.0], \"Problem_150_CorrectCode_775\": [0.0], \"Problem_151_CorrectCode_776\": [0.0], \"Problem_152_CorrectCode_777\": [0.0], \"Problem_152_CorrectCode_778\": [1.0, 0, 1, 2, 3, 4, 5, 6, 7, 8, 9, 10, 11, 12, 13, 14, 15, 16, 17, 18, 19, 20, 21, 22, 23, 24, 25, 26, 27, 28, 29, 30, 31, 32, 33, 34, 35, 36, 37, 38, 39, 40, 41, 42, 43, 44, 45, 46, 47, 48, 49, 50, 51, 52, 53, 54, 55, 56, 57, 58, 59, 60, 61, 62, 63, 64, 65, 66, 67, 68, 69, 70, 71, 72, 73, 74, 75, 76, 77, 78, 79, 80, 81, 82, 83, 84, 85, 86, 87, 88, 89, 90, 91, 92, 93, 94, 95, 96, 97, 98, 99, 100, 101, 102, 103, 104, 105, 106, 107, 108, 109, 110, 111, 112, 113, 114, 115, 116, 117, 118, 119, 120, 121, 122, 123, 124, 125, 126, 127, 128, 129, 130, 131, 132, 133, 134, 135, 136, 137, 138, 139, 140, 141, 142, 143, 144, 145, 146, 147, 148, 149, 150, 151, 152, 153, 154, 155, 156, 157, 158, 159, 160, 161, 162, 163, 164, 165, 166, 167, 168, 169, 170, 171, 172, 173], \"Problem_152_CorrectCode_779\": [0.0], \"Problem_152_CorrectCode_780\": [0.0], \"Problem_152_CorrectCode_781\": [0.5919540229885057, 0, 1, 3, 4, 7, 8, 9, 10, 11, 12, 13, 14, 15, 17, 18, 19, 20, 21, 24, 25, 27, 30, 32, 33, 35, 36, 37, 38, 40, 41, 43, 47, 48, 49, 50, 51, 52, 54, 55, 56, 58, 59, 60, 61, 63, 66, 67, 68, 69, 70, 71, 72, 73, 74, 75, 77, 78, 79, 80, 81, 83, 84, 85, 86, 90, 95, 97, 98, 99, 106, 107, 110, 111, 113, 114, 119, 123, 125, 126, 130, 133, 135, 137, 139, 140, 142, 143, 144, 146, 150, 151, 152, 153, 155, 157, 158, 163, 164, 166, 170, 171, 172, 173], \"Problem_152_CorrectCode_782\": [1.0, 0, 1, 2, 3, 4, 5, 6, 7, 8, 9, 10, 11, 12, 13, 14, 15, 16, 17, 18, 19, 20, 21, 22, 23, 24, 25, 26, 27, 28, 29, 30, 31, 32, 33, 34, 35, 36, 37, 38, 39, 40, 41, 42, 43, 44, 45, 46, 47, 48, 49, 50, 51, 52, 53, 54, 55, 56, 57, 58, 59, 60, 61, 62, 63, 64, 65, 66, 67, 68, 69, 70, 71, 72, 73, 74, 75, 76, 77, 78, 79, 80, 81, 82, 83, 84, 85, 86, 87, 88, 89, 90, 91, 92, 93, 94, 95, 96, 97, 98, 99, 100, 101, 102, 103, 104, 105, 106, 107, 108, 109, 110, 111, 112, 113, 114, 115, 116, 117, 118, 119, 120, 121, 122, 123, 124, 125, 126, 127, 128, 129, 130, 131, 132, 133, 134, 135, 136, 137, 138, 139, 140, 141, 142, 143, 144, 145, 146, 147, 148, 149, 150, 151, 152, 153, 154, 155, 156, 157, 158, 159, 160, 161, 162, 163, 164, 165, 166, 167, 168, 169, 170, 171, 172, 173], \"Problem_152_CorrectCode_783\": [0.5919540229885057, 0, 1, 3, 4, 7, 8, 9, 10, 11, 12, 13, 14, 15, 17, 18, 19, 20, 21, 24, 25, 27, 30, 32, 33, 35, 36, 37, 38, 40, 41, 43, 47, 48, 49, 50, 51, 52, 54, 55, 56, 58, 59, 60, 61, 63, 66, 67, 68, 69, 70, 71, 72, 73, 74, 75, 77, 78, 79, 80, 81, 83, 84, 85, 86, 90, 95, 97, 98, 99, 106, 107, 110, 111, 113, 114, 119, 123, 125, 126, 130, 133, 135, 137, 139, 140, 142, 143, 144, 146, 150, 151, 152, 153, 155, 157, 158, 163, 164, 166, 170, 171, 172, 173], \"Problem_152_CorrectCode_784\": [0.0], \"Problem_152_CorrectCode_785\": [0.0], \"Problem_152_CorrectCode_786\": [0.0], \"Problem_153_CorrectCode_787\": [0.0], \"Problem_153_CorrectCode_788\": [0.0], \"Problem_153_CorrectCode_789\": [0.0], \"Problem_153_CorrectCode_790\": [0.0], \"Problem_153_CorrectCode_791\": [0.0], \"Problem_154_CorrectCode_792\": [1.0, 0, 1, 2, 3, 4, 5, 6, 7, 8, 9, 10, 11, 12, 13, 14, 15, 16, 17, 18, 19, 20, 21, 22, 23, 24, 25, 26, 27, 28, 29, 30, 31, 32, 33, 34, 35, 36, 37, 38, 39, 40, 41, 42, 43, 44, 45, 46, 47, 48, 49, 50, 51, 52, 53, 54, 55, 56, 57, 58, 59, 60, 61, 62, 63, 64, 65, 66, 67, 68, 69, 70, 71, 72, 73, 74, 75, 76, 77, 78, 79, 80, 81, 82, 83, 84, 85, 86, 87, 88, 89, 90, 91, 92, 93, 94, 95, 96, 97, 98, 99, 100, 101, 102, 103, 104, 105, 106, 107, 108, 109, 110, 111, 112, 113, 114, 115, 116, 117, 118, 119, 120, 121, 122, 123, 124, 125, 126, 127, 128, 129, 130, 131, 132, 133, 134, 135, 136, 137, 138, 139, 140, 141, 142, 143, 144, 145, 146, 147, 148, 149, 150, 151, 152, 153, 154, 155, 156, 157, 158, 159, 160, 161, 162, 163, 164, 165, 166, 167, 168, 169, 170, 171, 172, 173, 174, 175, 176, 177, 178, 179, 180, 181, 182, 183, 184, 185, 186, 187, 188, 189, 190, 191, 192, 193, 194, 195, 196, 197, 198, 199], \"Problem_154_CorrectCode_793\": [1.0, 0, 1, 2, 3, 4, 5, 6, 7, 8, 9, 10, 11, 12, 13, 14, 15, 16, 17, 18, 19, 20, 21, 22, 23, 24, 25, 26, 27, 28, 29, 30, 31, 32, 33, 34, 35, 36, 37, 38, 39, 40, 41, 42, 43, 44, 45, 46, 47, 48, 49, 50, 51, 52, 53, 54, 55, 56, 57, 58, 59, 60, 61, 62, 63, 64, 65, 66, 67, 68, 69, 70, 71, 72, 73, 74, 75, 76, 77, 78, 79, 80, 81, 82, 83, 84, 85, 86, 87, 88, 89, 90, 91, 92, 93, 94, 95, 96, 97, 98, 99, 100, 101, 102, 103, 104, 105, 106, 107, 108, 109, 110, 111, 112, 113, 114, 115, 116, 117, 118, 119, 120, 121, 122, 123, 124, 125, 126, 127, 128, 129, 130, 131, 132, 133, 134, 135, 136, 137, 138, 139, 140, 141, 142, 143, 144, 145, 146, 147, 148, 149, 150, 151, 152, 153, 154, 155, 156, 157, 158, 159, 160, 161, 162, 163, 164, 165, 166, 167, 168, 169, 170, 171, 172, 173, 174, 175, 176, 177, 178, 179, 180, 181, 182, 183, 184, 185, 186, 187, 188, 189, 190, 191, 192, 193, 194, 195, 196, 197, 198, 199], \"Problem_154_CorrectCode_794\": [0.0], \"Problem_154_CorrectCode_795\": [0.0], \"Problem_154_CorrectCode_796\": [0.0], \"Problem_154_CorrectCode_797\": [0.0], \"Problem_155_CorrectCode_798\": [0.0], \"Problem_155_CorrectCode_799\": [0.0], \"Problem_155_CorrectCode_800\": [0.0], \"Problem_156_CorrectCode_802\": [0.0], \"Problem_156_CorrectCode_803\": [0.0], \"Problem_156_CorrectCode_804\": [0.0], \"Problem_156_CorrectCode_805\": [0.0], \"Problem_156_CorrectCode_806\": [0.0], \"Problem_156_CorrectCode_807\": [0.0], \"Problem_156_CorrectCode_808\": [0.0], \"Problem_156_CorrectCode_809\": [0.0], \"Problem_156_CorrectCode_810\": [0.0], \"Problem_157_CorrectCode_709\": [0.0], \"Problem_157_CorrectCode_710\": [0.0], \"Problem_157_CorrectCode_811\": [0.0], \"Problem_157_CorrectCode_812\": [0.0], \"Problem_157_CorrectCode_813\": [0.0], \"Problem_158_CorrectCode_711\": [0.0], \"Problem_158_CorrectCode_712\": [0.0], \"Problem_158_CorrectCode_713\": [0.45499999999999996, 0, 2, 3, 4, 6, 8, 9, 12, 13, 14, 15, 17, 18, 19, 20, 24, 25, 26, 27, 28, 29, 30, 31, 32, 33, 34, 40, 44, 46, 48, 50, 51, 53, 55, 57, 59, 62, 64, 66, 68, 70, 74, 75, 84, 88, 92, 95, 98, 99, 102, 104, 105, 107, 109, 110, 113, 115, 119, 121, 122, 123, 127, 128, 130, 134, 136, 137, 140, 143, 148, 149, 152, 153, 156, 157, 160, 162, 163, 166, 171, 172, 174, 178, 180, 181, 183, 184, 186, 189, 191, 197], \"Problem_158_CorrectCode_714\": [0.0], \"Problem_158_CorrectCode_715\": [0.0], \"Problem_158_CorrectCode_716\": [0.0], \"Problem_158_CorrectCode_717\": [0.0], \"Problem_158_CorrectCode_718\": [0.0], \"Problem_158_CorrectCode_719\": [0.0], \"Problem_158_CorrectCode_720\": [0.0], \"Problem_158_CorrectCode_721\": [0.0], \"Problem_158_CorrectCode_722\": [0.0], \"Problem_158_CorrectCode_723\": [0.0], \"Problem_158_CorrectCode_724\": [0.0], \"Problem_158_CorrectCode_725\": [0.0], \"Problem_158_CorrectCode_726\": [0.32999999999999996, 0, 2, 3, 6, 8, 12, 13, 15, 17, 18, 19, 20, 23, 25, 26, 27, 29, 30, 33, 35, 40, 44, 46, 48, 50, 53, 55, 57, 59, 62, 66, 68, 70, 88, 92, 95, 98, 99, 102, 104, 107, 110, 111, 113, 115, 121, 123, 127, 130, 136, 140, 141, 143, 148, 153, 154, 156, 157, 166, 171, 174, 178, 180, 181, 184, 186], \"Problem_158_CorrectCode_727\": [0.0], \"Problem_158_CorrectCode_728\": [0.0], \"Problem_158_CorrectCode_729\": [0.0], \"Problem_158_CorrectCode_730\": [0.0], \"Problem_158_CorrectCode_731\": [0.645, 0, 2, 3, 4, 6, 7, 8, 9, 10, 11, 12, 13, 14, 15, 16, 17, 18, 19, 20, 21, 22, 23, 24, 25, 26, 27, 28, 29, 30, 31, 32, 33, 34, 35, 40, 44, 46, 48, 50, 51, 52, 53, 55, 57, 59, 62, 64, 66, 68, 70, 74, 75, 80, 83, 84, 85, 86, 87, 88, 92, 95, 98, 99, 100, 102, 104, 105, 107, 109, 110, 111, 113, 115, 119, 121, 122, 123, 125, 126, 127, 128, 130, 133, 134, 136, 137, 138, 139, 140, 141, 143, 147, 148, 149, 152, 153, 154, 155, 156, 157, 160, 162, 163, 164, 165, 166, 168, 170, 171, 172, 173, 174, 175, 178, 179, 180, 181, 184, 185, 186, 189, 191, 192, 193, 194, 195, 196, 197, 198], \"Problem_158_CorrectCode_732\": [0.0], \"Problem_158_CorrectCode_814\": [0.0], \"Problem_158_CorrectCode_815\": [0.0], \"Problem_158_CorrectCode_816\": [0.45499999999999996, 0, 2, 3, 4, 6, 8, 9, 12, 13, 14, 15, 17, 18, 19, 20, 24, 25, 26, 27, 28, 29, 30, 31, 32, 33, 34, 40, 44, 46, 48, 50, 51, 53, 55, 57, 59, 62, 64, 66, 68, 70, 74, 75, 84, 88, 92, 95, 98, 99, 102, 104, 105, 107, 109, 110, 113, 115, 119, 121, 122, 123, 127, 128, 130, 134, 136, 137, 140, 143, 148, 149, 152, 153, 156, 157, 160, 162, 163, 166, 171, 172, 174, 178, 180, 181, 183, 184, 186, 189, 191, 197], \"Problem_158_CorrectCode_817\": [0.0], \"Problem_158_CorrectCode_818\": [0.0], \"Problem_158_CorrectCode_819\": [0.0], \"Problem_158_CorrectCode_820\": [0.0], \"Problem_158_CorrectCode_821\": [0.0], \"Problem_158_CorrectCode_822\": [0.0], \"Problem_158_CorrectCode_823\": [0.0], \"Problem_158_CorrectCode_824\": [0.0], \"Problem_158_CorrectCode_825\": [0.0], \"Problem_158_CorrectCode_826\": [0.0], \"Problem_158_CorrectCode_827\": [0.0], \"Problem_158_CorrectCode_828\": [0.0], \"Problem_158_CorrectCode_829\": [0.32999999999999996, 0, 2, 3, 6, 8, 12, 13, 15, 17, 18, 19, 20, 23, 25, 26, 27, 29, 30, 33, 35, 40, 44, 46, 48, 50, 53, 55, 57, 59, 62, 66, 68, 70, 88, 92, 95, 98, 99, 102, 104, 107, 110, 111, 113, 115, 121, 123, 127, 130, 136, 140, 141, 143, 148, 153, 154, 156, 157, 166, 171, 174, 178, 180, 181, 184, 186], \"Problem_158_CorrectCode_830\": [0.0], \"Problem_158_CorrectCode_831\": [0.0], \"Problem_158_CorrectCode_832\": [0.0], \"Problem_158_CorrectCode_833\": [0.0], \"Problem_158_CorrectCode_834\": [0.645, 0, 2, 3, 4, 6, 7, 8, 9, 10, 11, 12, 13, 14, 15, 16, 17, 18, 19, 20, 21, 22, 23, 24, 25, 26, 27, 28, 29, 30, 31, 32, 33, 34, 35, 40, 44, 46, 48, 50, 51, 52, 53, 55, 57, 59, 62, 64, 66, 68, 70, 74, 75, 80, 83, 84, 85, 86, 87, 88, 92, 95, 98, 99, 100, 102, 104, 105, 107, 109, 110, 111, 113, 115, 119, 121, 122, 123, 125, 126, 127, 128, 130, 133, 134, 136, 137, 138, 139, 140, 141, 143, 147, 148, 149, 152, 153, 154, 155, 156, 157, 160, 162, 163, 164, 165, 166, 168, 170, 171, 172, 173, 174, 175, 178, 179, 180, 181, 184, 185, 186, 189, 191, 192, 193, 194, 195, 196, 197, 198], \"Problem_158_CorrectCode_835\": [0.0], \"Problem_159_CorrectCode_733\": [0.0], \"Problem_159_CorrectCode_734\": [0.030000000000000027, 32, 57, 78, 102, 105, 186], \"Problem_159_CorrectCode_735\": [0.030000000000000027, 32, 57, 78, 102, 105, 186], \"Problem_159_CorrectCode_836\": [0.0], \"Problem_159_CorrectCode_837\": [0.030000000000000027, 32, 57, 78, 102, 105, 186], \"Problem_159_CorrectCode_838\": [0.030000000000000027, 32, 57, 78, 102, 105, 186], \"Problem_15_CorrectCode_58\": [0.0], \"Problem_15_CorrectCode_59\": [0.0], \"Problem_15_CorrectCode_60\": [0.0], \"Problem_15_CorrectCode_61\": [0.0], \"Problem_15_CorrectCode_62\": [0.0], \"Problem_160_CorrectCode_736\": [0.0], \"Problem_160_CorrectCode_737\": [0.0], \"Problem_160_CorrectCode_738\": [0.0], \"Problem_160_CorrectCode_739\": [0.0], \"Problem_160_CorrectCode_740\": [0.0], \"Problem_160_CorrectCode_741\": [0.0], \"Problem_160_CorrectCode_742\": [0.0], \"Problem_160_CorrectCode_743\": [0.0], \"Problem_160_CorrectCode_744\": [0.0], \"Problem_160_CorrectCode_745\": [0.0], \"Problem_160_CorrectCode_746\": [0.0], \"Problem_160_CorrectCode_747\": [0.0], \"Problem_160_CorrectCode_748\": [0.0], \"Problem_160_CorrectCode_839\": [0.0], \"Problem_160_CorrectCode_840\": [0.0], \"Problem_160_CorrectCode_841\": [0.0], \"Problem_160_CorrectCode_842\": [0.0], \"Problem_160_CorrectCode_843\": [0.0], \"Problem_160_CorrectCode_844\": [0.0], \"Problem_160_CorrectCode_845\": [0.0], \"Problem_160_CorrectCode_846\": [0.0], \"Problem_160_CorrectCode_847\": [0.0], \"Problem_160_CorrectCode_848\": [0.0], \"Problem_160_CorrectCode_849\": [0.0], \"Problem_160_CorrectCode_850\": [0.0], \"Problem_160_CorrectCode_851\": [0.0], \"Problem_161_CorrectCode_749\": [0.0], \"Problem_161_CorrectCode_750\": [0.0], \"Problem_161_CorrectCode_852\": [0.0], \"Problem_161_CorrectCode_853\": [0.0], \"Problem_162_CorrectCode_751\": [0.0], \"Problem_162_CorrectCode_752\": [0.0], \"Problem_162_CorrectCode_753\": [0.0], \"Problem_162_CorrectCode_854\": [0.0], \"Problem_162_CorrectCode_855\": [0.0], \"Problem_163_CorrectCode_754\": [0.0], \"Problem_163_CorrectCode_755\": [0.0], \"Problem_163_CorrectCode_756\": [0.0], \"Problem_163_CorrectCode_856\": [0.0], \"Problem_163_CorrectCode_857\": [0.0], \"Problem_163_CorrectCode_858\": [0.0], \"Problem_164_CorrectCode_757\": [0.0], \"Problem_164_CorrectCode_758\": [0.0], \"Problem_164_CorrectCode_759\": [0.0], \"Problem_164_CorrectCode_859\": [0.0], \"Problem_164_CorrectCode_860\": [0.0], \"Problem_16_CorrectCode_63\": [1.0, 0, 1, 2, 3, 4, 5, 6, 7, 8, 9, 10, 11, 12, 13, 14, 15, 16, 17, 18, 19, 20, 21, 22, 23, 24, 25, 26, 27, 28, 29, 30, 31, 32, 33, 34, 35, 36, 37, 38, 39, 40, 41, 42, 43, 44, 45, 46, 47, 48, 49, 50, 51, 52, 53, 54, 55, 56, 57, 58, 59, 60, 61, 62, 63, 64, 65, 66, 67, 68, 69, 70, 71, 72, 73, 74, 75, 76, 77, 78, 79, 80, 81, 82, 83, 84, 85, 86, 87, 88, 89, 90, 91, 92, 93, 94, 95, 96, 97, 98, 99, 100, 101, 102, 103, 104, 105, 106, 107, 108, 109, 110, 111, 112, 113, 114, 115, 116, 117, 118, 119, 120, 121, 122, 123, 124, 125, 126, 127, 128, 129, 130, 131, 132, 133, 134, 135, 136, 137, 138, 139, 140, 141, 142, 143, 144, 145, 146, 147, 148, 149, 150, 151, 152, 153, 154, 155, 156, 157, 158, 159, 160, 161, 162, 163, 164, 165, 166, 167, 168, 169, 170, 171, 172, 173, 174, 175, 176, 177, 178, 179, 180, 181, 182, 183, 184, 185, 186, 187, 188, 189, 190, 191, 192, 193, 194, 195, 196, 197, 198, 199], \"Problem_16_CorrectCode_64\": [1.0, 0, 1, 2, 3, 4, 5, 6, 7, 8, 9, 10, 11, 12, 13, 14, 15, 16, 17, 18, 19, 20, 21, 22, 23, 24, 25, 26, 27, 28, 29, 30, 31, 32, 33, 34, 35, 36, 37, 38, 39, 40, 41, 42, 43, 44, 45, 46, 47, 48, 49, 50, 51, 52, 53, 54, 55, 56, 57, 58, 59, 60, 61, 62, 63, 64, 65, 66, 67, 68, 69, 70, 71, 72, 73, 74, 75, 76, 77, 78, 79, 80, 81, 82, 83, 84, 85, 86, 87, 88, 89, 90, 91, 92, 93, 94, 95, 96, 97, 98, 99, 100, 101, 102, 103, 104, 105, 106, 107, 108, 109, 110, 111, 112, 113, 114, 115, 116, 117, 118, 119, 120, 121, 122, 123, 124, 125, 126, 127, 128, 129, 130, 131, 132, 133, 134, 135, 136, 137, 138, 139, 140, 141, 142, 143, 144, 145, 146, 147, 148, 149, 150, 151, 152, 153, 154, 155, 156, 157, 158, 159, 160, 161, 162, 163, 164, 165, 166, 167, 168, 169, 170, 171, 172, 173, 174, 175, 176, 177, 178, 179, 180, 181, 182, 183, 184, 185, 186, 187, 188, 189, 190, 191, 192, 193, 194, 195, 196, 197, 198, 199], \"Problem_16_CorrectCode_65\": [1.0, 0, 1, 2, 3, 4, 5, 6, 7, 8, 9, 10, 11, 12, 13, 14, 15, 16, 17, 18, 19, 20, 21, 22, 23, 24, 25, 26, 27, 28, 29, 30, 31, 32, 33, 34, 35, 36, 37, 38, 39, 40, 41, 42, 43, 44, 45, 46, 47, 48, 49, 50, 51, 52, 53, 54, 55, 56, 57, 58, 59, 60, 61, 62, 63, 64, 65, 66, 67, 68, 69, 70, 71, 72, 73, 74, 75, 76, 77, 78, 79, 80, 81, 82, 83, 84, 85, 86, 87, 88, 89, 90, 91, 92, 93, 94, 95, 96, 97, 98, 99, 100, 101, 102, 103, 104, 105, 106, 107, 108, 109, 110, 111, 112, 113, 114, 115, 116, 117, 118, 119, 120, 121, 122, 123, 124, 125, 126, 127, 128, 129, 130, 131, 132, 133, 134, 135, 136, 137, 138, 139, 140, 141, 142, 143, 144, 145, 146, 147, 148, 149, 150, 151, 152, 153, 154, 155, 156, 157, 158, 159, 160, 161, 162, 163, 164, 165, 166, 167, 168, 169, 170, 171, 172, 173, 174, 175, 176, 177, 178, 179, 180, 181, 182, 183, 184, 185, 186, 187, 188, 189, 190, 191, 192, 193, 194, 195, 196, 197, 198, 199], \"Problem_16_CorrectCode_66\": [1.0, 0, 1, 2, 3, 4, 5, 6, 7, 8, 9, 10, 11, 12, 13, 14, 15, 16, 17, 18, 19, 20, 21, 22, 23, 24, 25, 26, 27, 28, 29, 30, 31, 32, 33, 34, 35, 36, 37, 38, 39, 40, 41, 42, 43, 44, 45, 46, 47, 48, 49, 50, 51, 52, 53, 54, 55, 56, 57, 58, 59, 60, 61, 62, 63, 64, 65, 66, 67, 68, 69, 70, 71, 72, 73, 74, 75, 76, 77, 78, 79, 80, 81, 82, 83, 84, 85, 86, 87, 88, 89, 90, 91, 92, 93, 94, 95, 96, 97, 98, 99, 100, 101, 102, 103, 104, 105, 106, 107, 108, 109, 110, 111, 112, 113, 114, 115, 116, 117, 118, 119, 120, 121, 122, 123, 124, 125, 126, 127, 128, 129, 130, 131, 132, 133, 134, 135, 136, 137, 138, 139, 140, 141, 142, 143, 144, 145, 146, 147, 148, 149, 150, 151, 152, 153, 154, 155, 156, 157, 158, 159, 160, 161, 162, 163, 164, 165, 166, 167, 168, 169, 170, 171, 172, 173, 174, 175, 176, 177, 178, 179, 180, 181, 182, 183, 184, 185, 186, 187, 188, 189, 190, 191, 192, 193, 194, 195, 196, 197, 198, 199], \"Problem_17_CorrectCode_67\": [0.0], \"Problem_17_CorrectCode_68\": [0.0], \"Problem_17_CorrectCode_69\": [0.0], \"Problem_17_CorrectCode_70\": [0.0], \"Problem_17_CorrectCode_71\": [0.0], \"Problem_17_CorrectCode_72\": [0.0], \"Problem_17_CorrectCode_73\": [0.0], \"Problem_17_CorrectCode_74\": [0.0], \"Problem_17_CorrectCode_75\": [0.0], \"Problem_17_CorrectCode_76\": [0.0], \"Problem_18_CorrectCode_77\": [0.0], \"Problem_18_CorrectCode_78\": [0.0], \"Problem_18_CorrectCode_79\": [0.0], \"Problem_18_CorrectCode_80\": [0.0], \"Problem_19_CorrectCode_81\": [0.0], \"Problem_19_CorrectCode_82\": [0.0], \"Problem_19_CorrectCode_83\": [0.0], \"Problem_19_CorrectCode_84\": [0.0], \"Problem_19_CorrectCode_85\": [0.0], \"Problem_19_CorrectCode_86\": [0.0], \"Problem_19_CorrectCode_87\": [0.0], \"Problem_1_CorrectCode_4\": [0.0], \"Problem_1_CorrectCode_5\": [0.05500000000000005, 4, 23, 29, 55, 65, 99, 115, 130, 143, 157, 195], \"Problem_1_CorrectCode_6\": [0.0], \"Problem_1_CorrectCode_7\": [0.15500000000000003, 5, 17, 22, 23, 28, 29, 33, 35, 37, 103, 104, 106, 114, 119, 122, 130, 133, 135, 140, 143, 145, 147, 154, 157, 160, 165, 167, 171, 178, 187, 190], \"Problem_1_CorrectCode_8\": [0.0], \"Problem_20_CorrectCode_88\": [0.0], \"Problem_20_CorrectCode_89\": [0.0], \"Problem_20_CorrectCode_90\": [0.0], \"Problem_20_CorrectCode_91\": [0.0], \"Problem_20_CorrectCode_92\": [0.0], \"Problem_21_CorrectCode_100\": [0.0], \"Problem_21_CorrectCode_93\": [0.0], \"Problem_21_CorrectCode_94\": [0.0], \"Problem_21_CorrectCode_95\": [0.0], \"Problem_21_CorrectCode_96\": [0.0], \"Problem_21_CorrectCode_97\": [0.0], \"Problem_21_CorrectCode_98\": [0.0], \"Problem_21_CorrectCode_99\": [0.0], \"Problem_22_CorrectCode_101\": [0.0], \"Problem_22_CorrectCode_102\": [0.0], \"Problem_22_CorrectCode_103\": [0.0], \"Problem_22_CorrectCode_104\": [0.0], \"Problem_22_CorrectCode_105\": [0.0], \"Problem_22_CorrectCode_106\": [0.0], \"Problem_22_CorrectCode_107\": [0.0], \"Problem_23_CorrectCode_108\": [0.0], \"Problem_23_CorrectCode_109\": [0.0], \"Problem_23_CorrectCode_110\": [0.0], \"Problem_23_CorrectCode_111\": [0.0], \"Problem_23_CorrectCode_112\": [0.0], \"Problem_23_CorrectCode_113\": [0.0], \"Problem_23_CorrectCode_114\": [0.0], \"Problem_23_CorrectCode_115\": [0.0], \"Problem_23_CorrectCode_116\": [0.0], \"Problem_26_CorrectCode_117\": [0.0], \"Problem_26_CorrectCode_118\": [0.0], \"Problem_26_CorrectCode_119\": [0.0], \"Problem_26_CorrectCode_120\": [0.0], \"Problem_26_CorrectCode_121\": [0.0], \"Problem_27_CorrectCode_122\": [0.0], \"Problem_27_CorrectCode_123\": [1.0, 0, 1, 2, 3, 4, 5, 6, 7, 8, 9, 10, 11, 12, 13, 14, 15, 16, 17, 18, 19, 20, 21, 22, 23, 24, 25, 26, 27, 28, 29, 30, 31, 32, 33, 34, 35, 36, 37, 38, 39, 40, 41, 42, 43, 44, 45, 46, 47, 48, 49, 50, 51, 52, 53, 54, 55, 56, 57, 58, 59, 60, 61, 62, 63, 64, 65, 66, 67, 68, 69, 70, 71, 72, 73, 74, 75, 76, 77, 78, 79, 80, 81, 82, 83, 84, 85, 86, 87, 88, 89, 90, 91, 92, 93, 94, 95, 96, 97, 98, 99, 100, 101, 102, 103, 104, 105, 106, 107, 108, 109, 110, 111, 112, 113, 114, 115, 116, 117, 118, 119, 120, 121, 122, 123, 124, 125, 126, 127, 128, 129, 130, 131, 132, 133, 134, 135, 136, 137, 138, 139, 140, 141, 142, 143, 144, 145, 146, 147, 148, 149, 150, 151, 152, 153, 154, 155, 156, 157, 158, 159, 160, 161, 162, 163, 164, 165, 166, 167, 168, 169, 170, 171, 172, 173, 174, 175, 176, 177, 178, 179, 180, 181, 182, 183, 184, 185, 186, 187, 188, 189, 190, 191, 192, 193, 194, 195, 196, 197, 198, 199], \"Problem_27_CorrectCode_124\": [0.0], \"Problem_27_CorrectCode_125\": [0.0], \"Problem_27_CorrectCode_126\": [0.0], \"Problem_27_CorrectCode_127\": [0.0], \"Problem_27_CorrectCode_128\": [0.0], \"Problem_27_CorrectCode_129\": [0.0], \"Problem_27_CorrectCode_130\": [1.0, 0, 1, 2, 3, 4, 5, 6, 7, 8, 9, 10, 11, 12, 13, 14, 15, 16, 17, 18, 19, 20, 21, 22, 23, 24, 25, 26, 27, 28, 29, 30, 31, 32, 33, 34, 35, 36, 37, 38, 39, 40, 41, 42, 43, 44, 45, 46, 47, 48, 49, 50, 51, 52, 53, 54, 55, 56, 57, 58, 59, 60, 61, 62, 63, 64, 65, 66, 67, 68, 69, 70, 71, 72, 73, 74, 75, 76, 77, 78, 79, 80, 81, 82, 83, 84, 85, 86, 87, 88, 89, 90, 91, 92, 93, 94, 95, 96, 97, 98, 99, 100, 101, 102, 103, 104, 105, 106, 107, 108, 109, 110, 111, 112, 113, 114, 115, 116, 117, 118, 119, 120, 121, 122, 123, 124, 125, 126, 127, 128, 129, 130, 131, 132, 133, 134, 135, 136, 137, 138, 139, 140, 141, 142, 143, 144, 145, 146, 147, 148, 149, 150, 151, 152, 153, 154, 155, 156, 157, 158, 159, 160, 161, 162, 163, 164, 165, 166, 167, 168, 169, 170, 171, 172, 173, 174, 175, 176, 177, 178, 179, 180, 181, 182, 183, 184, 185, 186, 187, 188, 189, 190, 191, 192, 193, 194, 195, 196, 197, 198, 199], \"Problem_28_CorrectCode_131\": [0.0], \"Problem_28_CorrectCode_132\": [0.0], \"Problem_29_CorrectCode_133\": [0.0], \"Problem_30_CorrectCode_134\": [0.0], \"Problem_30_CorrectCode_135\": [0.0], \"Problem_30_CorrectCode_136\": [0.0], \"Problem_30_CorrectCode_137\": [0.0], \"Problem_30_CorrectCode_138\": [0.0], \"Problem_30_CorrectCode_139\": [0.0], \"Problem_31_CorrectCode_140\": [0.98, 0, 1, 2, 3, 4, 5, 6, 7, 8, 9, 10, 11, 13, 14, 15, 16, 17, 18, 19, 20, 21, 22, 23, 24, 26, 27, 28, 29, 30, 31, 32, 33, 34, 35, 36, 37, 38, 39, 40, 41, 42, 43, 44, 45, 46, 47, 48, 49, 50, 51, 52, 53, 54, 55, 56, 57, 58, 59, 60, 61, 62, 63, 64, 65, 66, 67, 68, 69, 70, 71, 72, 73, 74, 75, 76, 77, 78, 79, 80, 81, 82, 83, 84, 85, 86, 87, 88, 89, 90, 91, 93, 94, 95, 96, 97, 98, 99, 100, 101, 102, 103, 104, 105, 106, 107, 108, 109, 110, 111, 112, 113, 114, 115, 116, 117, 118, 119, 120, 121, 122, 123, 124, 125, 126, 127, 128, 129, 130, 131, 132, 133, 134, 136, 137, 138, 139, 140, 141, 142, 143, 144, 145, 146, 147, 148, 149, 150, 151, 152, 153, 154, 155, 156, 157, 158, 159, 160, 161, 162, 163, 164, 165, 166, 167, 168, 169, 170, 171, 172, 173, 174, 175, 176, 177, 178, 179, 180, 181, 182, 183, 184, 185, 186, 187, 188, 189, 190, 191, 192, 193, 194, 195, 196, 197, 198, 199], \"Problem_31_CorrectCode_141\": [1.0, 0, 1, 2, 3, 4, 5, 6, 7, 8, 9, 10, 11, 12, 13, 14, 15, 16, 17, 18, 19, 20, 21, 22, 23, 24, 25, 26, 27, 28, 29, 30, 31, 32, 33, 34, 35, 36, 37, 38, 39, 40, 41, 42, 43, 44, 45, 46, 47, 48, 49, 50, 51, 52, 53, 54, 55, 56, 57, 58, 59, 60, 61, 62, 63, 64, 65, 66, 67, 68, 69, 70, 71, 72, 73, 74, 75, 76, 77, 78, 79, 80, 81, 82, 83, 84, 85, 86, 87, 88, 89, 90, 91, 92, 93, 94, 95, 96, 97, 98, 99, 100, 101, 102, 103, 104, 105, 106, 107, 108, 109, 110, 111, 112, 113, 114, 115, 116, 117, 118, 119, 120, 121, 122, 123, 124, 125, 126, 127, 128, 129, 130, 131, 132, 133, 134, 135, 136, 137, 138, 139, 140, 141, 142, 143, 144, 145, 146, 147, 148, 149, 150, 151, 152, 153, 154, 155, 156, 157, 158, 159, 160, 161, 162, 163, 164, 165, 166, 167, 168, 169, 170, 171, 172, 173, 174, 175, 176, 177, 178, 179, 180, 181, 182, 183, 184, 185, 186, 187, 188, 189, 190, 191, 192, 193, 194, 195, 196, 197, 198, 199], \"Problem_31_CorrectCode_142\": [0.965, 0, 1, 2, 3, 4, 5, 6, 7, 8, 9, 10, 11, 12, 13, 14, 15, 16, 17, 18, 19, 20, 21, 22, 23, 24, 25, 26, 27, 28, 29, 30, 31, 32, 33, 34, 35, 36, 37, 38, 39, 40, 41, 42, 43, 44, 45, 46, 47, 48, 49, 50, 51, 52, 53, 54, 55, 56, 57, 58, 59, 60, 61, 62, 63, 64, 65, 66, 67, 68, 69, 70, 71, 72, 73, 74, 75, 76, 77, 78, 79, 80, 81, 82, 83, 84, 85, 86, 87, 88, 89, 90, 91, 92, 93, 94, 95, 96, 97, 98, 99, 100, 101, 102, 103, 104, 105, 106, 107, 108, 109, 110, 111, 112, 114, 115, 116, 117, 118, 119, 120, 121, 122, 123, 124, 125, 126, 127, 128, 129, 130, 131, 132, 133, 134, 135, 136, 137, 139, 140, 141, 143, 144, 145, 146, 147, 148, 150, 151, 152, 153, 154, 155, 156, 157, 158, 159, 160, 161, 162, 163, 164, 165, 166, 167, 168, 169, 170, 171, 172, 173, 174, 175, 176, 177, 178, 179, 181, 182, 183, 185, 187, 188, 189, 190, 191, 192, 193, 194, 195, 196, 197, 198, 199], \"Problem_31_CorrectCode_143\": [0.585, 2, 3, 5, 6, 8, 10, 13, 14, 16, 17, 18, 20, 23, 24, 26, 27, 29, 31, 32, 33, 36, 37, 38, 41, 42, 43, 46, 47, 50, 51, 53, 54, 56, 57, 59, 60, 62, 63, 65, 66, 67, 68, 71, 72, 74, 76, 77, 80, 81, 83, 85, 86, 88, 91, 93, 94, 96, 98, 99, 101, 102, 105, 106, 108, 109, 111, 112, 114, 115, 116, 117, 119, 120, 121, 122, 123, 124, 125, 128, 129, 130, 132, 133, 136, 137, 139, 141, 143, 148, 150, 151, 153, 157, 159, 160, 161, 162, 163, 165, 166, 168, 169, 172, 173, 175, 176, 178, 179, 181, 183, 185, 190, 195, 196, 197, 198, 199], \"Problem_31_CorrectCode_144\": [0.0], \"Problem_31_CorrectCode_145\": [0.0], \"Problem_32_CorrectCode_146\": [0.0], \"Problem_33_CorrectCode_184\": [0.0], \"Problem_33_CorrectCode_185\": [0.0], \"Problem_33_CorrectCode_186\": [0.0], \"Problem_33_CorrectCode_187\": [0.0], \"Problem_34_CorrectCode_188\": [0.0], \"Problem_34_CorrectCode_189\": [0.0], \"Problem_34_CorrectCode_190\": [0.0], \"Problem_34_CorrectCode_191\": [0.0], \"Problem_34_CorrectCode_192\": [0.0], \"Problem_35_CorrectCode_193\": [0.0], \"Problem_35_CorrectCode_194\": [0.0], \"Problem_35_CorrectCode_195\": [0.0], \"Problem_35_CorrectCode_196\": [0.0], \"Problem_35_CorrectCode_197\": [0.0], \"Problem_36_CorrectCode_198\": [0.30000000000000004, 0, 4, 6, 7, 11, 12, 14, 15, 16, 17, 18, 19, 25, 26, 27, 28, 29, 30, 31, 33, 34, 35, 36, 37, 38, 39, 48, 49, 50, 57, 60, 68, 84, 112, 116, 121, 127, 128, 129, 133, 136, 138, 139, 140, 141, 143, 145, 150, 151, 163, 176, 178, 180, 182, 185, 186, 189, 194, 197, 198], \"Problem_36_CorrectCode_199\": [0.29000000000000004, 0, 4, 6, 7, 11, 12, 14, 15, 16, 17, 18, 19, 25, 26, 27, 28, 29, 30, 31, 33, 34, 35, 36, 37, 38, 39, 48, 49, 50, 57, 60, 68, 84, 112, 116, 121, 127, 128, 129, 133, 136, 138, 139, 140, 141, 143, 145, 150, 151, 163, 176, 178, 182, 186, 189, 194, 197, 198], \"Problem_36_CorrectCode_200\": [0.14, 0, 4, 10, 14, 19, 23, 24, 29, 30, 31, 33, 36, 38, 39, 50, 60, 64, 84, 116, 131, 136, 143, 151, 156, 162, 176, 182, 194], \"Problem_36_CorrectCode_201\": [0.41000000000000003, 0, 3, 4, 6, 7, 8, 9, 10, 11, 12, 13, 14, 15, 16, 17, 18, 19, 22, 25, 26, 27, 28, 29, 30, 31, 32, 33, 34, 35, 36, 37, 38, 39, 42, 48, 49, 50, 52, 57, 60, 63, 64, 68, 84, 85, 87, 112, 114, 116, 121, 127, 128, 129, 133, 134, 136, 138, 139, 140, 141, 142, 143, 145, 150, 151, 153, 155, 156, 161, 162, 163, 172, 176, 177, 178, 182, 186, 189, 192, 194, 197, 198], \"Problem_36_CorrectCode_202\": [0.43000000000000005, 0, 3, 4, 6, 7, 8, 9, 10, 11, 12, 13, 14, 15, 16, 17, 18, 19, 22, 23, 24, 25, 26, 27, 28, 29, 30, 31, 32, 33, 34, 35, 36, 37, 38, 39, 42, 48, 49, 50, 52, 57, 60, 63, 64, 68, 84, 85, 87, 112, 114, 116, 121, 127, 128, 129, 131, 133, 134, 136, 138, 139, 140, 141, 142, 143, 145, 150, 151, 152, 153, 155, 156, 161, 162, 163, 172, 176, 177, 178, 182, 186, 189, 192, 194, 197, 198], \"Problem_36_CorrectCode_203\": [0.43000000000000005, 0, 3, 4, 6, 7, 8, 9, 10, 11, 12, 13, 14, 15, 16, 17, 18, 19, 22, 23, 24, 25, 26, 27, 28, 29, 30, 31, 32, 33, 34, 35, 36, 37, 38, 39, 42, 48, 49, 50, 52, 57, 60, 63, 64, 68, 84, 85, 87, 112, 114, 116, 121, 127, 128, 129, 131, 133, 134, 136, 138, 139, 140, 141, 142, 143, 145, 150, 151, 152, 153, 155, 156, 161, 162, 163, 172, 176, 177, 178, 182, 186, 189, 192, 194, 197, 198], \"Problem_37_CorrectCode_204\": [0.0], \"Problem_37_CorrectCode_205\": [1.0, 0, 1, 2, 3, 4, 5, 6, 7, 8, 9, 10, 11, 12, 13, 14, 15, 16, 17, 18, 19, 20, 21, 22, 23, 24, 25, 26, 27, 28, 29, 30, 31, 32, 33, 34, 35, 36, 37, 38, 39, 40, 41, 42, 43, 44, 45, 46, 47, 48, 49, 50, 51, 52, 53, 54, 55, 56, 57, 58, 59, 60, 61, 62, 63, 64, 65, 66, 67, 68, 69, 70, 71, 72, 73, 74, 75, 76, 77, 78, 79, 80, 81, 82, 83, 84, 85, 86, 87, 88, 89, 90, 91, 92, 93, 94, 95, 96, 97, 98, 99, 100, 101, 102, 103, 104, 105, 106, 107, 108, 109, 110, 111, 112, 113, 114, 115, 116, 117, 118, 119, 120, 121, 122, 123, 124, 125, 126, 127, 128, 129, 130, 131, 132, 133, 134, 135, 136, 137, 138, 139, 140, 141, 142, 143, 144, 145, 146, 147, 148, 149, 150, 151, 152, 153, 154, 155, 156, 157, 158, 159, 160, 161, 162, 163, 164, 165, 166, 167, 168, 169, 170, 171, 172, 173, 174, 175, 176, 177, 178, 179, 180, 181, 182, 183, 184, 185, 186, 187, 188, 189, 190, 191, 192, 193, 194, 195, 196, 197, 198, 199], \"Problem_37_CorrectCode_206\": [0.0], \"Problem_37_CorrectCode_207\": [0.0], \"Problem_37_CorrectCode_208\": [1.0, 0, 1, 2, 3, 4, 5, 6, 7, 8, 9, 10, 11, 12, 13, 14, 15, 16, 17, 18, 19, 20, 21, 22, 23, 24, 25, 26, 27, 28, 29, 30, 31, 32, 33, 34, 35, 36, 37, 38, 39, 40, 41, 42, 43, 44, 45, 46, 47, 48, 49, 50, 51, 52, 53, 54, 55, 56, 57, 58, 59, 60, 61, 62, 63, 64, 65, 66, 67, 68, 69, 70, 71, 72, 73, 74, 75, 76, 77, 78, 79, 80, 81, 82, 83, 84, 85, 86, 87, 88, 89, 90, 91, 92, 93, 94, 95, 96, 97, 98, 99, 100, 101, 102, 103, 104, 105, 106, 107, 108, 109, 110, 111, 112, 113, 114, 115, 116, 117, 118, 119, 120, 121, 122, 123, 124, 125, 126, 127, 128, 129, 130, 131, 132, 133, 134, 135, 136, 137, 138, 139, 140, 141, 142, 143, 144, 145, 146, 147, 148, 149, 150, 151, 152, 153, 154, 155, 156, 157, 158, 159, 160, 161, 162, 163, 164, 165, 166, 167, 168, 169, 170, 171, 172, 173, 174, 175, 176, 177, 178, 179, 180, 181, 182, 183, 184, 185, 186, 187, 188, 189, 190, 191, 192, 193, 194, 195, 196, 197, 198, 199], \"Problem_37_CorrectCode_209\": [0.0], \"Problem_37_CorrectCode_210\": [0.0], \"Problem_38_CorrectCode_211\": [0.0], \"Problem_38_CorrectCode_212\": [0.0], \"Problem_39_CorrectCode_213\": [0.99, 0, 1, 2, 3, 4, 5, 6, 7, 8, 9, 10, 11, 12, 13, 14, 15, 16, 17, 18, 19, 20, 21, 22, 23, 24, 25, 26, 27, 28, 29, 30, 31, 32, 33, 34, 35, 36, 37, 38, 39, 40, 41, 42, 43, 44, 45, 46, 47, 48, 49, 50, 51, 52, 54, 55, 56, 57, 58, 59, 60, 61, 62, 63, 64, 65, 66, 67, 68, 69, 70, 71, 72, 73, 74, 75, 76, 77, 78, 79, 80, 81, 82, 83, 84, 85, 86, 87, 88, 89, 90, 91, 92, 93, 94, 95, 96, 97, 98, 99, 100, 101, 102, 103, 104, 105, 106, 107, 108, 109, 110, 111, 112, 113, 114, 115, 116, 117, 118, 119, 120, 121, 122, 123, 124, 125, 126, 127, 128, 129, 130, 131, 132, 133, 134, 135, 136, 137, 138, 139, 140, 141, 142, 143, 144, 145, 146, 147, 148, 149, 150, 151, 152, 153, 154, 155, 156, 157, 158, 159, 160, 161, 162, 163, 164, 165, 166, 167, 168, 169, 170, 171, 172, 173, 174, 175, 176, 177, 178, 179, 180, 181, 182, 183, 184, 185, 186, 187, 188, 189, 190, 191, 192, 193, 194, 195, 197, 198, 199], \"Problem_39_CorrectCode_214\": [1.0, 0, 1, 2, 3, 4, 5, 6, 7, 8, 9, 10, 11, 12, 13, 14, 15, 16, 17, 18, 19, 20, 21, 22, 23, 24, 25, 26, 27, 28, 29, 30, 31, 32, 33, 34, 35, 36, 37, 38, 39, 40, 41, 42, 43, 44, 45, 46, 47, 48, 49, 50, 51, 52, 53, 54, 55, 56, 57, 58, 59, 60, 61, 62, 63, 64, 65, 66, 67, 68, 69, 70, 71, 72, 73, 74, 75, 76, 77, 78, 79, 80, 81, 82, 83, 84, 85, 86, 87, 88, 89, 90, 91, 92, 93, 94, 95, 96, 97, 98, 99, 100, 101, 102, 103, 104, 105, 106, 107, 108, 109, 110, 111, 112, 113, 114, 115, 116, 117, 118, 119, 120, 121, 122, 123, 124, 125, 126, 127, 128, 129, 130, 131, 132, 133, 134, 135, 136, 137, 138, 139, 140, 141, 142, 143, 144, 145, 146, 147, 148, 149, 150, 151, 152, 153, 154, 155, 156, 157, 158, 159, 160, 161, 162, 163, 164, 165, 166, 167, 168, 169, 170, 171, 172, 173, 174, 175, 176, 177, 178, 179, 180, 181, 182, 183, 184, 185, 186, 187, 188, 189, 190, 191, 192, 193, 194, 195, 196, 197, 198, 199], \"Problem_39_CorrectCode_215\": [1.0, 0, 1, 2, 3, 4, 5, 6, 7, 8, 9, 10, 11, 12, 13, 14, 15, 16, 17, 18, 19, 20, 21, 22, 23, 24, 25, 26, 27, 28, 29, 30, 31, 32, 33, 34, 35, 36, 37, 38, 39, 40, 41, 42, 43, 44, 45, 46, 47, 48, 49, 50, 51, 52, 53, 54, 55, 56, 57, 58, 59, 60, 61, 62, 63, 64, 65, 66, 67, 68, 69, 70, 71, 72, 73, 74, 75, 76, 77, 78, 79, 80, 81, 82, 83, 84, 85, 86, 87, 88, 89, 90, 91, 92, 93, 94, 95, 96, 97, 98, 99, 100, 101, 102, 103, 104, 105, 106, 107, 108, 109, 110, 111, 112, 113, 114, 115, 116, 117, 118, 119, 120, 121, 122, 123, 124, 125, 126, 127, 128, 129, 130, 131, 132, 133, 134, 135, 136, 137, 138, 139, 140, 141, 142, 143, 144, 145, 146, 147, 148, 149, 150, 151, 152, 153, 154, 155, 156, 157, 158, 159, 160, 161, 162, 163, 164, 165, 166, 167, 168, 169, 170, 171, 172, 173, 174, 175, 176, 177, 178, 179, 180, 181, 182, 183, 184, 185, 186, 187, 188, 189, 190, 191, 192, 193, 194, 195, 196, 197, 198, 199], \"Problem_39_CorrectCode_216\": [1.0, 0, 1, 2, 3, 4, 5, 6, 7, 8, 9, 10, 11, 12, 13, 14, 15, 16, 17, 18, 19, 20, 21, 22, 23, 24, 25, 26, 27, 28, 29, 30, 31, 32, 33, 34, 35, 36, 37, 38, 39, 40, 41, 42, 43, 44, 45, 46, 47, 48, 49, 50, 51, 52, 53, 54, 55, 56, 57, 58, 59, 60, 61, 62, 63, 64, 65, 66, 67, 68, 69, 70, 71, 72, 73, 74, 75, 76, 77, 78, 79, 80, 81, 82, 83, 84, 85, 86, 87, 88, 89, 90, 91, 92, 93, 94, 95, 96, 97, 98, 99, 100, 101, 102, 103, 104, 105, 106, 107, 108, 109, 110, 111, 112, 113, 114, 115, 116, 117, 118, 119, 120, 121, 122, 123, 124, 125, 126, 127, 128, 129, 130, 131, 132, 133, 134, 135, 136, 137, 138, 139, 140, 141, 142, 143, 144, 145, 146, 147, 148, 149, 150, 151, 152, 153, 154, 155, 156, 157, 158, 159, 160, 161, 162, 163, 164, 165, 166, 167, 168, 169, 170, 171, 172, 173, 174, 175, 176, 177, 178, 179, 180, 181, 182, 183, 184, 185, 186, 187, 188, 189, 190, 191, 192, 193, 194, 195, 196, 197, 198, 199], \"Problem_39_CorrectCode_217\": [1.0, 0, 1, 2, 3, 4, 5, 6, 7, 8, 9, 10, 11, 12, 13, 14, 15, 16, 17, 18, 19, 20, 21, 22, 23, 24, 25, 26, 27, 28, 29, 30, 31, 32, 33, 34, 35, 36, 37, 38, 39, 40, 41, 42, 43, 44, 45, 46, 47, 48, 49, 50, 51, 52, 53, 54, 55, 56, 57, 58, 59, 60, 61, 62, 63, 64, 65, 66, 67, 68, 69, 70, 71, 72, 73, 74, 75, 76, 77, 78, 79, 80, 81, 82, 83, 84, 85, 86, 87, 88, 89, 90, 91, 92, 93, 94, 95, 96, 97, 98, 99, 100, 101, 102, 103, 104, 105, 106, 107, 108, 109, 110, 111, 112, 113, 114, 115, 116, 117, 118, 119, 120, 121, 122, 123, 124, 125, 126, 127, 128, 129, 130, 131, 132, 133, 134, 135, 136, 137, 138, 139, 140, 141, 142, 143, 144, 145, 146, 147, 148, 149, 150, 151, 152, 153, 154, 155, 156, 157, 158, 159, 160, 161, 162, 163, 164, 165, 166, 167, 168, 169, 170, 171, 172, 173, 174, 175, 176, 177, 178, 179, 180, 181, 182, 183, 184, 185, 186, 187, 188, 189, 190, 191, 192, 193, 194, 195, 196, 197, 198, 199], \"Problem_39_CorrectCode_218\": [1.0, 0, 1, 2, 3, 4, 5, 6, 7, 8, 9, 10, 11, 12, 13, 14, 15, 16, 17, 18, 19, 20, 21, 22, 23, 24, 25, 26, 27, 28, 29, 30, 31, 32, 33, 34, 35, 36, 37, 38, 39, 40, 41, 42, 43, 44, 45, 46, 47, 48, 49, 50, 51, 52, 53, 54, 55, 56, 57, 58, 59, 60, 61, 62, 63, 64, 65, 66, 67, 68, 69, 70, 71, 72, 73, 74, 75, 76, 77, 78, 79, 80, 81, 82, 83, 84, 85, 86, 87, 88, 89, 90, 91, 92, 93, 94, 95, 96, 97, 98, 99, 100, 101, 102, 103, 104, 105, 106, 107, 108, 109, 110, 111, 112, 113, 114, 115, 116, 117, 118, 119, 120, 121, 122, 123, 124, 125, 126, 127, 128, 129, 130, 131, 132, 133, 134, 135, 136, 137, 138, 139, 140, 141, 142, 143, 144, 145, 146, 147, 148, 149, 150, 151, 152, 153, 154, 155, 156, 157, 158, 159, 160, 161, 162, 163, 164, 165, 166, 167, 168, 169, 170, 171, 172, 173, 174, 175, 176, 177, 178, 179, 180, 181, 182, 183, 184, 185, 186, 187, 188, 189, 190, 191, 192, 193, 194, 195, 196, 197, 198, 199], \"Problem_39_CorrectCode_219\": [0.99, 0, 1, 2, 3, 4, 5, 6, 7, 8, 9, 10, 11, 12, 13, 14, 15, 16, 17, 18, 19, 20, 21, 22, 23, 24, 25, 26, 27, 28, 29, 30, 31, 32, 33, 34, 35, 36, 37, 38, 39, 40, 41, 42, 43, 44, 45, 46, 47, 48, 49, 50, 51, 52, 54, 55, 56, 57, 58, 59, 60, 61, 62, 63, 64, 65, 66, 67, 68, 69, 70, 71, 72, 73, 74, 75, 76, 77, 78, 79, 80, 81, 82, 83, 84, 85, 86, 87, 88, 89, 90, 91, 92, 93, 94, 95, 96, 97, 98, 99, 100, 101, 102, 103, 104, 105, 106, 107, 108, 109, 110, 111, 112, 113, 114, 115, 116, 117, 118, 119, 120, 121, 122, 123, 124, 125, 126, 127, 128, 129, 130, 131, 132, 133, 134, 135, 136, 137, 138, 139, 140, 141, 142, 143, 144, 145, 146, 147, 148, 149, 150, 151, 152, 153, 154, 155, 156, 157, 158, 159, 160, 161, 162, 163, 164, 165, 166, 167, 168, 169, 170, 171, 172, 173, 174, 175, 176, 177, 178, 179, 180, 181, 182, 183, 184, 185, 186, 187, 188, 189, 190, 191, 192, 193, 194, 195, 197, 198, 199], \"Problem_39_CorrectCode_220\": [1.0, 0, 1, 2, 3, 4, 5, 6, 7, 8, 9, 10, 11, 12, 13, 14, 15, 16, 17, 18, 19, 20, 21, 22, 23, 24, 25, 26, 27, 28, 29, 30, 31, 32, 33, 34, 35, 36, 37, 38, 39, 40, 41, 42, 43, 44, 45, 46, 47, 48, 49, 50, 51, 52, 53, 54, 55, 56, 57, 58, 59, 60, 61, 62, 63, 64, 65, 66, 67, 68, 69, 70, 71, 72, 73, 74, 75, 76, 77, 78, 79, 80, 81, 82, 83, 84, 85, 86, 87, 88, 89, 90, 91, 92, 93, 94, 95, 96, 97, 98, 99, 100, 101, 102, 103, 104, 105, 106, 107, 108, 109, 110, 111, 112, 113, 114, 115, 116, 117, 118, 119, 120, 121, 122, 123, 124, 125, 126, 127, 128, 129, 130, 131, 132, 133, 134, 135, 136, 137, 138, 139, 140, 141, 142, 143, 144, 145, 146, 147, 148, 149, 150, 151, 152, 153, 154, 155, 156, 157, 158, 159, 160, 161, 162, 163, 164, 165, 166, 167, 168, 169, 170, 171, 172, 173, 174, 175, 176, 177, 178, 179, 180, 181, 182, 183, 184, 185, 186, 187, 188, 189, 190, 191, 192, 193, 194, 195, 196, 197, 198, 199], \"Problem_39_CorrectCode_221\": [1.0, 0, 1, 2, 3, 4, 5, 6, 7, 8, 9, 10, 11, 12, 13, 14, 15, 16, 17, 18, 19, 20, 21, 22, 23, 24, 25, 26, 27, 28, 29, 30, 31, 32, 33, 34, 35, 36, 37, 38, 39, 40, 41, 42, 43, 44, 45, 46, 47, 48, 49, 50, 51, 52, 53, 54, 55, 56, 57, 58, 59, 60, 61, 62, 63, 64, 65, 66, 67, 68, 69, 70, 71, 72, 73, 74, 75, 76, 77, 78, 79, 80, 81, 82, 83, 84, 85, 86, 87, 88, 89, 90, 91, 92, 93, 94, 95, 96, 97, 98, 99, 100, 101, 102, 103, 104, 105, 106, 107, 108, 109, 110, 111, 112, 113, 114, 115, 116, 117, 118, 119, 120, 121, 122, 123, 124, 125, 126, 127, 128, 129, 130, 131, 132, 133, 134, 135, 136, 137, 138, 139, 140, 141, 142, 143, 144, 145, 146, 147, 148, 149, 150, 151, 152, 153, 154, 155, 156, 157, 158, 159, 160, 161, 162, 163, 164, 165, 166, 167, 168, 169, 170, 171, 172, 173, 174, 175, 176, 177, 178, 179, 180, 181, 182, 183, 184, 185, 186, 187, 188, 189, 190, 191, 192, 193, 194, 195, 196, 197, 198, 199], \"Problem_3_CorrectCode_10\": [0.0], \"Problem_3_CorrectCode_9\": [0.0], \"Problem_40_CorrectCode_147\": [0.030000000000000027, 2, 4, 6, 22, 47, 138], \"Problem_40_CorrectCode_148\": [0.14, 1, 2, 4, 6, 15, 20, 22, 25, 26, 32, 33, 38, 46, 47, 79, 114, 128, 130, 136, 138, 140, 147, 148, 169, 185, 193, 196, 197], \"Problem_40_CorrectCode_149\": [0.030000000000000027, 2, 4, 6, 22, 47, 138], \"Problem_40_CorrectCode_222\": [0.0], \"Problem_40_CorrectCode_223\": [0.04500000000000004, 0, 2, 4, 5, 6, 10, 12, 22, 47], \"Problem_40_CorrectCode_224\": [0.0], \"Problem_40_CorrectCode_225\": [0.0], \"Problem_40_CorrectCode_226\": [0.030000000000000027, 2, 4, 6, 22, 47, 138], \"Problem_40_CorrectCode_227\": [0.14, 1, 2, 4, 6, 15, 20, 22, 25, 26, 32, 33, 38, 46, 47, 79, 114, 128, 130, 136, 138, 140, 147, 148, 169, 185, 193, 196, 197], \"Problem_40_CorrectCode_228\": [0.030000000000000027, 2, 4, 6, 22, 47, 138], \"Problem_41_CorrectCode_150\": [0.85, 0, 1, 2, 3, 4, 5, 7, 8, 9, 10, 11, 13, 14, 15, 16, 17, 18, 20, 21, 22, 23, 24, 25, 26, 27, 28, 31, 32, 33, 34, 35, 36, 38, 39, 40, 41, 42, 43, 47, 48, 49, 50, 51, 52, 54, 56, 57, 58, 59, 60, 61, 62, 65, 67, 69, 71, 72, 73, 74, 75, 76, 77, 78, 79, 80, 81, 82, 83, 84, 85, 86, 87, 88, 89, 90, 93, 94, 95, 96, 97, 98, 99, 100, 101, 103, 104, 106, 107, 109, 110, 111, 112, 113, 114, 115, 116, 117, 118, 119, 120, 122, 123, 124, 125, 126, 127, 128, 130, 131, 132, 134, 135, 136, 137, 138, 139, 140, 141, 143, 145, 146, 147, 148, 149, 150, 151, 152, 153, 154, 155, 156, 157, 158, 159, 160, 161, 162, 163, 164, 166, 167, 168, 169, 170, 171, 172, 173, 174, 175, 176, 177, 178, 180, 181, 182, 183, 184, 185, 186, 187, 188, 189, 191, 192, 193, 194, 195, 196, 198, 199], \"Problem_41_CorrectCode_151\": [0.85, 0, 1, 2, 3, 4, 5, 7, 8, 9, 10, 11, 13, 14, 15, 16, 17, 18, 20, 21, 22, 23, 24, 25, 26, 27, 28, 31, 32, 33, 34, 35, 36, 38, 39, 40, 41, 42, 43, 47, 48, 49, 50, 51, 52, 54, 56, 57, 58, 59, 60, 61, 62, 65, 67, 69, 71, 72, 73, 74, 75, 76, 77, 78, 79, 80, 81, 82, 83, 84, 85, 86, 87, 88, 89, 90, 93, 94, 95, 96, 97, 98, 99, 100, 101, 103, 104, 106, 107, 109, 110, 111, 112, 113, 114, 115, 116, 117, 118, 119, 120, 122, 123, 124, 125, 126, 127, 128, 130, 131, 132, 134, 135, 136, 137, 138, 139, 140, 141, 143, 145, 146, 147, 148, 149, 150, 151, 152, 153, 154, 155, 156, 157, 158, 159, 160, 161, 162, 163, 164, 166, 167, 168, 169, 170, 171, 172, 173, 174, 175, 176, 177, 178, 180, 181, 182, 183, 184, 185, 186, 187, 188, 189, 191, 192, 193, 194, 195, 196, 198, 199], \"Problem_41_CorrectCode_152\": [0.0], \"Problem_41_CorrectCode_153\": [0.0], \"Problem_41_CorrectCode_154\": [0.0], \"Problem_41_CorrectCode_155\": [0.825, 0, 1, 2, 3, 4, 5, 7, 8, 9, 10, 11, 13, 14, 15, 16, 17, 18, 20, 21, 22, 23, 24, 25, 26, 27, 28, 31, 32, 33, 34, 35, 36, 38, 39, 40, 41, 42, 43, 47, 48, 49, 50, 51, 52, 54, 56, 57, 58, 59, 60, 61, 62, 65, 67, 69, 71, 72, 73, 74, 75, 76, 77, 78, 79, 80, 81, 82, 84, 85, 86, 87, 88, 89, 90, 93, 94, 95, 96, 97, 98, 99, 100, 101, 103, 104, 106, 107, 109, 111, 112, 113, 114, 115, 116, 117, 118, 119, 120, 122, 123, 124, 125, 126, 127, 128, 130, 131, 132, 134, 135, 136, 137, 139, 140, 143, 145, 146, 147, 148, 149, 150, 151, 152, 153, 154, 155, 156, 157, 158, 159, 160, 161, 162, 163, 164, 166, 167, 168, 169, 170, 171, 172, 173, 174, 175, 176, 177, 178, 180, 181, 182, 183, 184, 185, 186, 188, 189, 191, 192, 193, 194, 195, 196, 198, 199], \"Problem_41_CorrectCode_156\": [0.0], \"Problem_41_CorrectCode_229\": [0.85, 0, 1, 2, 3, 4, 5, 7, 8, 9, 10, 11, 13, 14, 15, 16, 17, 18, 20, 21, 22, 23, 24, 25, 26, 27, 28, 31, 32, 33, 34, 35, 36, 38, 39, 40, 41, 42, 43, 47, 48, 49, 50, 51, 52, 54, 56, 57, 58, 59, 60, 61, 62, 65, 67, 69, 71, 72, 73, 74, 75, 76, 77, 78, 79, 80, 81, 82, 83, 84, 85, 86, 87, 88, 89, 90, 93, 94, 95, 96, 97, 98, 99, 100, 101, 103, 104, 106, 107, 109, 110, 111, 112, 113, 114, 115, 116, 117, 118, 119, 120, 122, 123, 124, 125, 126, 127, 128, 130, 131, 132, 134, 135, 136, 137, 138, 139, 140, 141, 143, 145, 146, 147, 148, 149, 150, 151, 152, 153, 154, 155, 156, 157, 158, 159, 160, 161, 162, 163, 164, 166, 167, 168, 169, 170, 171, 172, 173, 174, 175, 176, 177, 178, 180, 181, 182, 183, 184, 185, 186, 187, 188, 189, 191, 192, 193, 194, 195, 196, 198, 199], \"Problem_41_CorrectCode_230\": [0.85, 0, 1, 2, 3, 4, 5, 7, 8, 9, 10, 11, 13, 14, 15, 16, 17, 18, 20, 21, 22, 23, 24, 25, 26, 27, 28, 31, 32, 33, 34, 35, 36, 38, 39, 40, 41, 42, 43, 47, 48, 49, 50, 51, 52, 54, 56, 57, 58, 59, 60, 61, 62, 65, 67, 69, 71, 72, 73, 74, 75, 76, 77, 78, 79, 80, 81, 82, 83, 84, 85, 86, 87, 88, 89, 90, 93, 94, 95, 96, 97, 98, 99, 100, 101, 103, 104, 106, 107, 109, 110, 111, 112, 113, 114, 115, 116, 117, 118, 119, 120, 122, 123, 124, 125, 126, 127, 128, 130, 131, 132, 134, 135, 136, 137, 138, 139, 140, 141, 143, 145, 146, 147, 148, 149, 150, 151, 152, 153, 154, 155, 156, 157, 158, 159, 160, 161, 162, 163, 164, 166, 167, 168, 169, 170, 171, 172, 173, 174, 175, 176, 177, 178, 180, 181, 182, 183, 184, 185, 186, 187, 188, 189, 191, 192, 193, 194, 195, 196, 198, 199], \"Problem_41_CorrectCode_231\": [0.0], \"Problem_41_CorrectCode_232\": [0.0], \"Problem_41_CorrectCode_233\": [0.0], \"Problem_41_CorrectCode_234\": [0.825, 0, 1, 2, 3, 4, 5, 7, 8, 9, 10, 11, 13, 14, 15, 16, 17, 18, 20, 21, 22, 23, 24, 25, 26, 27, 28, 31, 32, 33, 34, 35, 36, 38, 39, 40, 41, 42, 43, 47, 48, 49, 50, 51, 52, 54, 56, 57, 58, 59, 60, 61, 62, 65, 67, 69, 71, 72, 73, 74, 75, 76, 77, 78, 79, 80, 81, 82, 84, 85, 86, 87, 88, 89, 90, 93, 94, 95, 96, 97, 98, 99, 100, 101, 103, 104, 106, 107, 109, 111, 112, 113, 114, 115, 116, 117, 118, 119, 120, 122, 123, 124, 125, 126, 127, 128, 130, 131, 132, 134, 135, 136, 137, 139, 140, 143, 145, 146, 147, 148, 149, 150, 151, 152, 153, 154, 155, 156, 157, 158, 159, 160, 161, 162, 163, 164, 166, 167, 168, 169, 170, 171, 172, 173, 174, 175, 176, 177, 178, 180, 181, 182, 183, 184, 185, 186, 188, 189, 191, 192, 193, 194, 195, 196, 198, 199], \"Problem_42_CorrectCode_157\": [0.0], \"Problem_42_CorrectCode_158\": [0.0], \"Problem_42_CorrectCode_159\": [0.0], \"Problem_42_CorrectCode_235\": [0.0], \"Problem_42_CorrectCode_236\": [0.0], \"Problem_42_CorrectCode_237\": [0.0], \"Problem_44_CorrectCode_160\": [0.0], \"Problem_44_CorrectCode_161\": [0.0], \"Problem_44_CorrectCode_162\": [0.0], \"Problem_44_CorrectCode_163\": [0.0], \"Problem_44_CorrectCode_238\": [0.0], \"Problem_44_CorrectCode_239\": [0.0], \"Problem_44_CorrectCode_240\": [0.0], \"Problem_44_CorrectCode_241\": [0.0], \"Problem_45_CorrectCode_164\": [0.0], \"Problem_45_CorrectCode_165\": [0.0], \"Problem_45_CorrectCode_166\": [0.0], \"Problem_45_CorrectCode_167\": [0.0], \"Problem_45_CorrectCode_168\": [0.0], \"Problem_45_CorrectCode_242\": [0.0], \"Problem_45_CorrectCode_243\": [0.0], \"Problem_45_CorrectCode_244\": [0.0], \"Problem_45_CorrectCode_245\": [0.0], \"Problem_46_CorrectCode_169\": [0.0], \"Problem_46_CorrectCode_170\": [0.0], \"Problem_46_CorrectCode_171\": [0.0], \"Problem_46_CorrectCode_172\": [0.0], \"Problem_46_CorrectCode_173\": [0.0], \"Problem_46_CorrectCode_174\": [0.0], \"Problem_46_CorrectCode_246\": [0.0], \"Problem_46_CorrectCode_247\": [0.0], \"Problem_46_CorrectCode_248\": [0.0], \"Problem_46_CorrectCode_249\": [0.0], \"Problem_46_CorrectCode_250\": [0.0], \"Problem_46_CorrectCode_251\": [0.0], \"Problem_47_CorrectCode_175\": [0.0], \"Problem_47_CorrectCode_176\": [0.0], \"Problem_47_CorrectCode_177\": [0.0], \"Problem_47_CorrectCode_252\": [0.0], \"Problem_47_CorrectCode_253\": [0.0], \"Problem_48_CorrectCode_178\": [0.0], \"Problem_48_CorrectCode_179\": [0.0], \"Problem_48_CorrectCode_180\": [0.0], \"Problem_48_CorrectCode_181\": [0.0], \"Problem_48_CorrectCode_182\": [0.0], \"Problem_48_CorrectCode_183\": [0.0], \"Problem_48_CorrectCode_254\": [0.0], \"Problem_48_CorrectCode_255\": [0.0], \"Problem_48_CorrectCode_256\": [0.0], \"Problem_48_CorrectCode_257\": [0.0], \"Problem_48_CorrectCode_258\": [0.0], \"Problem_48_CorrectCode_259\": [0.0], \"Problem_49_CorrectCode_281\": [0.0], \"Problem_49_CorrectCode_282\": [0.0], \"Problem_49_CorrectCode_283\": [0.62, 0, 1, 2, 3, 5, 6, 7, 8, 9, 10, 11, 12, 13, 16, 17, 19, 20, 21, 22, 26, 28, 31, 32, 34, 37, 43, 44, 45, 47, 49, 50, 52, 53, 54, 56, 57, 58, 60, 61, 62, 66, 68, 69, 71, 74, 75, 76, 77, 81, 83, 84, 88, 93, 94, 96, 97, 98, 103, 107, 110, 113, 114, 115, 116, 117, 118, 119, 120, 121, 122, 123, 124, 125, 126, 127, 128, 130, 131, 132, 134, 135, 136, 138, 139, 140, 141, 142, 144, 146, 147, 148, 152, 156, 157, 158, 159, 160, 161, 162, 163, 164, 165, 166, 167, 168, 170, 171, 172, 173, 174, 177, 178, 181, 182, 183, 184, 185, 186, 187, 189, 194, 195, 196, 197], \"Problem_49_CorrectCode_284\": [0.62, 0, 1, 2, 3, 5, 6, 7, 8, 9, 10, 11, 12, 13, 16, 17, 19, 20, 21, 22, 26, 28, 31, 32, 34, 37, 43, 44, 45, 47, 49, 50, 52, 53, 54, 56, 57, 58, 60, 61, 62, 66, 68, 69, 71, 74, 75, 76, 77, 81, 83, 84, 88, 93, 94, 96, 97, 98, 103, 107, 110, 113, 114, 115, 116, 117, 118, 119, 120, 121, 122, 123, 124, 125, 126, 127, 128, 130, 131, 132, 134, 135, 136, 138, 139, 140, 141, 142, 144, 146, 147, 148, 152, 156, 157, 158, 159, 160, 161, 162, 163, 164, 165, 166, 167, 168, 170, 171, 172, 173, 174, 177, 178, 181, 182, 183, 184, 185, 186, 187, 189, 194, 195, 196, 197], \"Problem_49_CorrectCode_285\": [0.0], \"Problem_50_CorrectCode_286\": [0.0], \"Problem_50_CorrectCode_287\": [0.0], \"Problem_50_CorrectCode_288\": [0.0], \"Problem_51_CorrectCode_289\": [0.0], \"Problem_51_CorrectCode_290\": [0.0], \"Problem_52_CorrectCode_291\": [0.0], \"Problem_52_CorrectCode_292\": [0.0], \"Problem_53_CorrectCode_293\": [0.895, 0, 1, 2, 3, 6, 7, 8, 9, 10, 12, 13, 14, 15, 16, 17, 18, 19, 20, 22, 23, 24, 25, 26, 27, 28, 29, 31, 32, 35, 36, 37, 38, 39, 40, 41, 42, 43, 44, 45, 46, 47, 48, 49, 50, 51, 52, 53, 54, 56, 57, 58, 59, 60, 61, 62, 64, 65, 66, 67, 68, 69, 70, 71, 73, 74, 76, 77, 79, 80, 81, 82, 83, 84, 85, 86, 87, 88, 89, 90, 92, 93, 94, 95, 96, 97, 98, 99, 100, 101, 103, 104, 105, 106, 107, 108, 109, 111, 112, 113, 115, 116, 117, 118, 119, 121, 122, 123, 124, 125, 126, 127, 128, 129, 130, 131, 132, 133, 134, 135, 136, 137, 138, 139, 140, 141, 142, 143, 144, 145, 146, 148, 149, 150, 151, 152, 154, 155, 156, 157, 158, 159, 160, 161, 162, 163, 164, 165, 166, 167, 168, 169, 170, 171, 172, 174, 176, 177, 178, 179, 180, 181, 182, 183, 184, 185, 186, 187, 188, 189, 190, 191, 192, 193, 194, 195, 196, 197, 198, 199], \"Problem_53_CorrectCode_294\": [0.895, 0, 1, 2, 3, 6, 7, 8, 9, 10, 12, 13, 14, 15, 16, 17, 18, 19, 20, 22, 23, 24, 25, 26, 27, 28, 29, 31, 32, 35, 36, 37, 38, 39, 40, 41, 42, 43, 44, 45, 46, 47, 48, 49, 50, 51, 52, 53, 54, 56, 57, 58, 59, 60, 61, 62, 64, 65, 66, 67, 68, 69, 70, 71, 73, 74, 76, 77, 79, 80, 81, 82, 83, 84, 85, 86, 87, 88, 89, 90, 92, 93, 94, 95, 96, 97, 98, 99, 100, 101, 103, 104, 105, 106, 107, 108, 109, 111, 112, 113, 115, 116, 117, 118, 119, 121, 122, 123, 124, 125, 126, 127, 128, 129, 130, 131, 132, 133, 134, 135, 136, 137, 138, 139, 140, 141, 142, 143, 144, 145, 146, 148, 149, 150, 151, 152, 154, 155, 156, 157, 158, 159, 160, 161, 162, 163, 164, 165, 166, 167, 168, 169, 170, 171, 172, 174, 176, 177, 178, 179, 180, 181, 182, 183, 184, 185, 186, 187, 188, 189, 190, 191, 192, 193, 194, 195, 196, 197, 198, 199], \"Problem_53_CorrectCode_295\": [0.0], \"Problem_53_CorrectCode_296\": [0.0], \"Problem_53_CorrectCode_297\": [0.9, 0, 1, 2, 3, 6, 7, 8, 9, 10, 12, 13, 14, 15, 16, 17, 18, 19, 20, 22, 23, 24, 25, 26, 27, 28, 29, 31, 32, 33, 35, 36, 37, 38, 39, 40, 41, 42, 43, 44, 45, 46, 47, 48, 49, 50, 51, 52, 53, 54, 56, 57, 58, 59, 60, 61, 62, 64, 65, 66, 67, 68, 69, 70, 71, 73, 74, 76, 77, 79, 80, 81, 82, 83, 84, 85, 86, 87, 88, 89, 90, 92, 93, 94, 95, 96, 97, 98, 99, 100, 101, 103, 104, 105, 106, 107, 108, 109, 111, 112, 113, 115, 116, 117, 118, 119, 121, 122, 123, 124, 125, 126, 127, 128, 129, 130, 131, 132, 133, 134, 135, 136, 137, 138, 139, 140, 141, 142, 143, 144, 145, 146, 148, 149, 150, 151, 152, 154, 155, 156, 157, 158, 159, 160, 161, 162, 163, 164, 165, 166, 167, 168, 169, 170, 171, 172, 174, 176, 177, 178, 179, 180, 181, 182, 183, 184, 185, 186, 187, 188, 189, 190, 191, 192, 193, 194, 195, 196, 197, 198, 199], \"Problem_53_CorrectCode_298\": [0.745, 0, 1, 2, 6, 7, 8, 9, 10, 12, 13, 14, 15, 16, 17, 18, 19, 20, 22, 23, 24, 25, 26, 27, 28, 29, 31, 32, 33, 35, 36, 37, 38, 39, 40, 41, 42, 44, 45, 46, 47, 48, 49, 50, 51, 53, 54, 56, 57, 58, 60, 61, 64, 65, 66, 68, 69, 71, 74, 77, 79, 80, 82, 83, 84, 85, 86, 87, 88, 90, 92, 93, 94, 96, 97, 98, 99, 100, 101, 103, 104, 105, 106, 108, 109, 112, 113, 115, 116, 117, 118, 121, 122, 124, 125, 126, 127, 128, 129, 130, 132, 133, 136, 138, 140, 141, 143, 146, 148, 149, 150, 151, 152, 154, 155, 157, 159, 160, 161, 162, 163, 164, 165, 166, 167, 168, 169, 170, 171, 172, 174, 176, 177, 179, 181, 183, 184, 185, 186, 187, 188, 189, 191, 193, 194, 195, 196, 197, 198, 199], \"Problem_54_CorrectCode_299\": [0.0], \"Problem_54_CorrectCode_300\": [0.0], \"Problem_54_CorrectCode_301\": [0.0], \"Problem_55_CorrectCode_302\": [0.04081632653061229, 27, 46], \"Problem_55_CorrectCode_303\": [0.0], \"Problem_55_CorrectCode_304\": [0.0], \"Problem_55_CorrectCode_305\": [0.0], \"Problem_55_CorrectCode_306\": [0.0], \"Problem_56_CorrectCode_307\": [0.0], \"Problem_56_CorrectCode_308\": [0.0], \"Problem_56_CorrectCode_309\": [0.0], \"Problem_56_CorrectCode_310\": [0.0], \"Problem_56_CorrectCode_311\": [0.0], \"Problem_56_CorrectCode_312\": [0.0], \"Problem_56_CorrectCode_313\": [0.0], \"Problem_57_CorrectCode_314\": [0.0], \"Problem_57_CorrectCode_315\": [0.0], \"Problem_57_CorrectCode_316\": [0.0], \"Problem_57_CorrectCode_317\": [0.0], \"Problem_57_CorrectCode_318\": [0.0], \"Problem_57_CorrectCode_319\": [0.0], \"Problem_57_CorrectCode_320\": [0.0], \"Problem_58_CorrectCode_321\": [0.0], \"Problem_58_CorrectCode_322\": [0.0], \"Problem_58_CorrectCode_323\": [0.0], \"Problem_58_CorrectCode_324\": [0.0], \"Problem_58_CorrectCode_325\": [0.0], \"Problem_58_CorrectCode_326\": [0.0], \"Problem_59_CorrectCode_327\": [0.0], \"Problem_59_CorrectCode_328\": [0.0], \"Problem_59_CorrectCode_329\": [0.0], \"Problem_59_CorrectCode_330\": [0.0], \"Problem_5_CorrectCode_11\": [0.0], \"Problem_60_CorrectCode_331\": [0.0], \"Problem_60_CorrectCode_332\": [0.0], \"Problem_60_CorrectCode_333\": [0.0], \"Problem_60_CorrectCode_334\": [0.0], \"Problem_60_CorrectCode_335\": [0.0], \"Problem_60_CorrectCode_336\": [0.0], \"Problem_61_CorrectCode_260\": [0.0], \"Problem_61_CorrectCode_261\": [0.0], \"Problem_61_CorrectCode_262\": [0.0], \"Problem_61_CorrectCode_263\": [0.0], \"Problem_61_CorrectCode_264\": [0.0], \"Problem_61_CorrectCode_265\": [0.0], \"Problem_61_CorrectCode_337\": [0.0], \"Problem_61_CorrectCode_338\": [0.0], \"Problem_61_CorrectCode_339\": [0.0], \"Problem_61_CorrectCode_340\": [0.0], \"Problem_61_CorrectCode_341\": [0.0], \"Problem_62_CorrectCode_266\": [0.0], \"Problem_62_CorrectCode_267\": [0.0], \"Problem_62_CorrectCode_268\": [0.0], \"Problem_62_CorrectCode_269\": [0.0], \"Problem_62_CorrectCode_270\": [0.0], \"Problem_62_CorrectCode_271\": [0.0], \"Problem_62_CorrectCode_272\": [0.0], \"Problem_62_CorrectCode_273\": [0.0], \"Problem_62_CorrectCode_342\": [0.0], \"Problem_62_CorrectCode_343\": [0.0], \"Problem_62_CorrectCode_344\": [0.0], \"Problem_62_CorrectCode_345\": [0.0], \"Problem_62_CorrectCode_346\": [0.0], \"Problem_62_CorrectCode_347\": [0.0], \"Problem_62_CorrectCode_348\": [0.0], \"Problem_62_CorrectCode_349\": [0.0], \"Problem_63_CorrectCode_274\": [0.0], \"Problem_63_CorrectCode_275\": [0.0], \"Problem_63_CorrectCode_276\": [0.0], \"Problem_63_CorrectCode_350\": [0.0], \"Problem_63_CorrectCode_351\": [0.0], \"Problem_63_CorrectCode_352\": [0.0], \"Problem_65_CorrectCode_277\": [0.0], \"Problem_65_CorrectCode_278\": [0.0], \"Problem_65_CorrectCode_279\": [0.0], \"Problem_65_CorrectCode_280\": [0.0], \"Problem_65_CorrectCode_353\": [0.0], \"Problem_65_CorrectCode_354\": [0.0], \"Problem_65_CorrectCode_355\": [0.0], \"Problem_65_CorrectCode_356\": [0.0], \"Problem_67_CorrectCode_361\": [0.0], \"Problem_67_CorrectCode_362\": [0.0], \"Problem_67_CorrectCode_363\": [0.0], \"Problem_67_CorrectCode_364\": [0.0], \"Problem_67_CorrectCode_365\": [0.0], \"Problem_67_CorrectCode_366\": [0.0], \"Problem_67_CorrectCode_367\": [0.0], \"Problem_67_CorrectCode_368\": [0.0], \"Problem_67_CorrectCode_369\": [0.0], \"Problem_67_CorrectCode_370\": [0.0], \"Problem_67_CorrectCode_371\": [0.0], \"Problem_6_CorrectCode_12\": [0.0], \"Problem_6_CorrectCode_13\": [0.0], \"Problem_6_CorrectCode_14\": [0.0], \"Problem_70_CorrectCode_372\": [0.0], \"Problem_70_CorrectCode_373\": [0.0], \"Problem_71_CorrectCode_374\": [0.0], \"Problem_72_CorrectCode_375\": [1.0, 0, 1, 2, 3, 4, 5, 6, 7, 8, 9, 10, 11, 12, 13, 14, 15, 16, 17, 18, 19, 20, 21, 22, 23, 24, 25, 26, 27, 28, 29, 30, 31, 32, 33, 34, 35, 36, 37, 38, 39, 40, 41, 42, 43, 44, 45, 46, 47, 48, 49, 50, 51, 52, 53, 54, 55, 56, 57, 58, 59, 60, 61, 62, 63, 64, 65, 66, 67, 68, 69, 70, 71, 72, 73, 74, 75, 76, 77, 78, 79, 80, 81, 82, 83, 84, 85, 86, 87, 88, 89, 90, 91, 92, 93, 94, 95, 96, 97, 98, 99, 100, 101, 102, 103, 104, 105, 106, 107, 108, 109, 110, 111, 112, 113, 114, 115, 116, 117, 118, 119, 120, 121, 122, 123, 124, 125, 126, 127, 128, 129, 130, 131, 132, 133, 134, 135, 136, 137, 138, 139, 140, 141, 142, 143, 144, 145, 146, 147, 148, 149, 150, 151, 152, 153, 154, 155, 156, 157, 158, 159, 160, 161, 162, 163, 164, 165, 166, 167, 168, 169, 170, 171, 172, 173, 174, 175, 176, 177, 178, 179, 180, 181, 182, 183, 184, 185, 186, 187, 188, 189, 190, 191, 192, 193, 194, 195, 196, 197, 198, 199], \"Problem_72_CorrectCode_376\": [1.0, 0, 1, 2, 3, 4, 5, 6, 7, 8, 9, 10, 11, 12, 13, 14, 15, 16, 17, 18, 19, 20, 21, 22, 23, 24, 25, 26, 27, 28, 29, 30, 31, 32, 33, 34, 35, 36, 37, 38, 39, 40, 41, 42, 43, 44, 45, 46, 47, 48, 49, 50, 51, 52, 53, 54, 55, 56, 57, 58, 59, 60, 61, 62, 63, 64, 65, 66, 67, 68, 69, 70, 71, 72, 73, 74, 75, 76, 77, 78, 79, 80, 81, 82, 83, 84, 85, 86, 87, 88, 89, 90, 91, 92, 93, 94, 95, 96, 97, 98, 99, 100, 101, 102, 103, 104, 105, 106, 107, 108, 109, 110, 111, 112, 113, 114, 115, 116, 117, 118, 119, 120, 121, 122, 123, 124, 125, 126, 127, 128, 129, 130, 131, 132, 133, 134, 135, 136, 137, 138, 139, 140, 141, 142, 143, 144, 145, 146, 147, 148, 149, 150, 151, 152, 153, 154, 155, 156, 157, 158, 159, 160, 161, 162, 163, 164, 165, 166, 167, 168, 169, 170, 171, 172, 173, 174, 175, 176, 177, 178, 179, 180, 181, 182, 183, 184, 185, 186, 187, 188, 189, 190, 191, 192, 193, 194, 195, 196, 197, 198, 199], \"Problem_72_CorrectCode_377\": [0.9299999999999999, 0, 1, 2, 3, 4, 5, 6, 7, 8, 9, 10, 11, 12, 13, 15, 16, 17, 18, 19, 20, 21, 23, 24, 25, 26, 27, 28, 29, 30, 31, 32, 34, 35, 36, 37, 38, 39, 40, 41, 43, 44, 45, 46, 47, 48, 49, 50, 52, 53, 54, 55, 56, 57, 58, 59, 60, 62, 63, 64, 65, 66, 67, 68, 69, 71, 72, 73, 75, 76, 77, 78, 79, 81, 82, 83, 84, 85, 86, 87, 88, 89, 90, 91, 92, 93, 94, 96, 97, 98, 99, 100, 101, 102, 103, 104, 105, 106, 107, 108, 109, 110, 111, 112, 113, 114, 115, 116, 117, 118, 119, 120, 121, 122, 123, 124, 125, 126, 127, 128, 129, 130, 131, 132, 133, 134, 135, 136, 137, 138, 139, 140, 141, 142, 143, 144, 145, 146, 147, 148, 149, 150, 151, 152, 153, 154, 155, 156, 157, 158, 159, 160, 162, 163, 164, 165, 166, 167, 168, 169, 170, 171, 172, 173, 174, 176, 177, 178, 179, 180, 181, 182, 184, 186, 187, 188, 189, 190, 191, 192, 193, 194, 195, 196, 197, 198, 199], \"Problem_72_CorrectCode_378\": [1.0, 0, 1, 2, 3, 4, 5, 6, 7, 8, 9, 10, 11, 12, 13, 14, 15, 16, 17, 18, 19, 20, 21, 22, 23, 24, 25, 26, 27, 28, 29, 30, 31, 32, 33, 34, 35, 36, 37, 38, 39, 40, 41, 42, 43, 44, 45, 46, 47, 48, 49, 50, 51, 52, 53, 54, 55, 56, 57, 58, 59, 60, 61, 62, 63, 64, 65, 66, 67, 68, 69, 70, 71, 72, 73, 74, 75, 76, 77, 78, 79, 80, 81, 82, 83, 84, 85, 86, 87, 88, 89, 90, 91, 92, 93, 94, 95, 96, 97, 98, 99, 100, 101, 102, 103, 104, 105, 106, 107, 108, 109, 110, 111, 112, 113, 114, 115, 116, 117, 118, 119, 120, 121, 122, 123, 124, 125, 126, 127, 128, 129, 130, 131, 132, 133, 134, 135, 136, 137, 138, 139, 140, 141, 142, 143, 144, 145, 146, 147, 148, 149, 150, 151, 152, 153, 154, 155, 156, 157, 158, 159, 160, 161, 162, 163, 164, 165, 166, 167, 168, 169, 170, 171, 172, 173, 174, 175, 176, 177, 178, 179, 180, 181, 182, 183, 184, 185, 186, 187, 188, 189, 190, 191, 192, 193, 194, 195, 196, 197, 198, 199], \"Problem_72_CorrectCode_379\": [1.0, 0, 1, 2, 3, 4, 5, 6, 7, 8, 9, 10, 11, 12, 13, 14, 15, 16, 17, 18, 19, 20, 21, 22, 23, 24, 25, 26, 27, 28, 29, 30, 31, 32, 33, 34, 35, 36, 37, 38, 39, 40, 41, 42, 43, 44, 45, 46, 47, 48, 49, 50, 51, 52, 53, 54, 55, 56, 57, 58, 59, 60, 61, 62, 63, 64, 65, 66, 67, 68, 69, 70, 71, 72, 73, 74, 75, 76, 77, 78, 79, 80, 81, 82, 83, 84, 85, 86, 87, 88, 89, 90, 91, 92, 93, 94, 95, 96, 97, 98, 99, 100, 101, 102, 103, 104, 105, 106, 107, 108, 109, 110, 111, 112, 113, 114, 115, 116, 117, 118, 119, 120, 121, 122, 123, 124, 125, 126, 127, 128, 129, 130, 131, 132, 133, 134, 135, 136, 137, 138, 139, 140, 141, 142, 143, 144, 145, 146, 147, 148, 149, 150, 151, 152, 153, 154, 155, 156, 157, 158, 159, 160, 161, 162, 163, 164, 165, 166, 167, 168, 169, 170, 171, 172, 173, 174, 175, 176, 177, 178, 179, 180, 181, 182, 183, 184, 185, 186, 187, 188, 189, 190, 191, 192, 193, 194, 195, 196, 197, 198, 199], \"Problem_72_CorrectCode_380\": [0.975, 0, 1, 2, 3, 4, 5, 6, 7, 8, 9, 10, 11, 12, 13, 14, 15, 16, 17, 18, 19, 20, 21, 22, 23, 24, 25, 26, 27, 28, 29, 30, 31, 32, 33, 34, 35, 36, 37, 38, 39, 40, 41, 42, 43, 44, 45, 46, 47, 48, 49, 50, 51, 52, 53, 54, 55, 56, 57, 58, 59, 60, 61, 62, 63, 64, 65, 66, 67, 68, 69, 70, 71, 72, 73, 74, 75, 76, 77, 78, 79, 80, 81, 82, 83, 84, 85, 86, 87, 88, 89, 90, 92, 93, 94, 95, 96, 97, 98, 100, 101, 102, 103, 104, 105, 106, 107, 109, 110, 111, 112, 113, 114, 115, 116, 117, 118, 119, 120, 121, 122, 123, 124, 125, 126, 127, 128, 129, 130, 131, 132, 133, 134, 136, 137, 138, 139, 140, 141, 142, 143, 145, 146, 147, 148, 149, 150, 151, 152, 153, 154, 155, 156, 157, 158, 159, 160, 161, 162, 163, 164, 165, 166, 167, 168, 169, 170, 171, 172, 173, 174, 175, 176, 177, 178, 179, 180, 181, 182, 183, 184, 185, 186, 187, 188, 189, 190, 191, 192, 193, 194, 195, 196, 197, 198, 199], \"Problem_72_CorrectCode_381\": [1.0, 0, 1, 2, 3, 4, 5, 6, 7, 8, 9, 10, 11, 12, 13, 14, 15, 16, 17, 18, 19, 20, 21, 22, 23, 24, 25, 26, 27, 28, 29, 30, 31, 32, 33, 34, 35, 36, 37, 38, 39, 40, 41, 42, 43, 44, 45, 46, 47, 48, 49, 50, 51, 52, 53, 54, 55, 56, 57, 58, 59, 60, 61, 62, 63, 64, 65, 66, 67, 68, 69, 70, 71, 72, 73, 74, 75, 76, 77, 78, 79, 80, 81, 82, 83, 84, 85, 86, 87, 88, 89, 90, 91, 92, 93, 94, 95, 96, 97, 98, 99, 100, 101, 102, 103, 104, 105, 106, 107, 108, 109, 110, 111, 112, 113, 114, 115, 116, 117, 118, 119, 120, 121, 122, 123, 124, 125, 126, 127, 128, 129, 130, 131, 132, 133, 134, 135, 136, 137, 138, 139, 140, 141, 142, 143, 144, 145, 146, 147, 148, 149, 150, 151, 152, 153, 154, 155, 156, 157, 158, 159, 160, 161, 162, 163, 164, 165, 166, 167, 168, 169, 170, 171, 172, 173, 174, 175, 176, 177, 178, 179, 180, 181, 182, 183, 184, 185, 186, 187, 188, 189, 190, 191, 192, 193, 194, 195, 196, 197, 198, 199], \"Problem_74_CorrectCode_382\": [0.88, 0, 1, 2, 4, 6, 7, 8, 9, 10, 11, 13, 14, 15, 16, 17, 18, 21, 22, 23, 24, 25, 26, 28, 29, 30, 32, 33, 34, 35, 36, 37, 38, 41, 42, 43, 44, 45, 46, 47, 48, 49, 50, 51, 52, 53, 54, 55, 56, 57, 58, 59, 60, 62, 63, 64, 65, 66, 67, 68, 70, 71, 72, 73, 75, 76, 77, 78, 79, 80, 81, 82, 83, 85, 86, 87, 88, 89, 91, 92, 93, 94, 95, 96, 97, 98, 99, 100, 101, 102, 103, 104, 105, 106, 107, 108, 109, 110, 111, 112, 113, 114, 116, 117, 118, 119, 120, 121, 122, 123, 124, 125, 126, 127, 129, 131, 132, 133, 134, 135, 136, 137, 138, 139, 140, 141, 142, 143, 144, 145, 146, 147, 148, 149, 150, 151, 152, 153, 154, 155, 158, 159, 160, 161, 162, 163, 164, 165, 166, 167, 168, 169, 171, 172, 173, 174, 175, 176, 177, 178, 179, 180, 181, 182, 183, 184, 187, 188, 189, 191, 192, 193, 194, 195, 196, 197, 199], \"Problem_74_CorrectCode_383\": [0.94, 0, 1, 2, 4, 5, 6, 7, 8, 9, 10, 11, 12, 13, 15, 16, 17, 18, 19, 20, 21, 22, 23, 24, 25, 26, 27, 28, 29, 30, 32, 33, 34, 35, 36, 37, 38, 40, 41, 43, 44, 45, 46, 47, 48, 49, 50, 51, 52, 53, 54, 55, 57, 58, 59, 60, 61, 62, 63, 64, 65, 66, 67, 68, 69, 70, 71, 72, 73, 74, 75, 76, 77, 78, 79, 80, 81, 82, 83, 85, 86, 87, 88, 89, 90, 91, 92, 93, 94, 95, 96, 97, 98, 99, 100, 101, 102, 103, 104, 105, 106, 107, 108, 109, 110, 111, 112, 113, 114, 116, 117, 118, 119, 120, 121, 122, 123, 124, 125, 126, 127, 128, 129, 131, 132, 133, 134, 135, 136, 137, 138, 139, 140, 141, 142, 143, 144, 145, 146, 147, 148, 149, 150, 151, 152, 153, 154, 155, 156, 158, 159, 160, 162, 163, 164, 165, 166, 167, 168, 169, 170, 171, 172, 173, 174, 175, 176, 177, 178, 179, 180, 181, 182, 183, 184, 186, 187, 188, 189, 190, 191, 192, 193, 194, 195, 196, 197, 198, 199], \"Problem_74_CorrectCode_384\": [0.9299999999999999, 0, 1, 2, 4, 5, 6, 7, 8, 9, 10, 11, 12, 13, 14, 15, 16, 17, 18, 19, 20, 21, 22, 23, 24, 25, 26, 27, 28, 29, 30, 31, 32, 33, 34, 35, 36, 37, 38, 40, 41, 42, 43, 44, 45, 46, 47, 48, 49, 50, 51, 52, 53, 54, 55, 56, 57, 58, 59, 60, 61, 62, 63, 64, 65, 66, 67, 68, 69, 70, 71, 72, 73, 74, 75, 76, 77, 78, 79, 80, 81, 82, 83, 86, 87, 88, 89, 90, 91, 92, 93, 94, 95, 96, 97, 98, 99, 101, 102, 103, 104, 105, 106, 107, 108, 109, 110, 111, 112, 113, 114, 116, 117, 118, 119, 120, 121, 122, 123, 124, 125, 126, 127, 128, 129, 131, 132, 133, 134, 135, 136, 137, 138, 139, 140, 141, 142, 144, 145, 146, 147, 148, 149, 150, 151, 152, 153, 154, 155, 156, 158, 159, 160, 161, 162, 163, 164, 165, 166, 167, 168, 169, 171, 173, 174, 175, 176, 177, 178, 179, 180, 181, 182, 183, 184, 186, 187, 188, 189, 190, 191, 192, 193, 194, 195, 196, 197], \"Problem_74_CorrectCode_385\": [0.88, 0, 1, 2, 4, 6, 7, 8, 9, 10, 11, 13, 14, 15, 16, 17, 18, 21, 22, 23, 24, 25, 26, 28, 29, 30, 32, 33, 34, 35, 36, 37, 38, 41, 42, 43, 44, 45, 46, 47, 48, 49, 50, 51, 52, 53, 54, 55, 56, 57, 58, 59, 60, 62, 63, 64, 65, 66, 67, 68, 70, 71, 72, 73, 75, 76, 77, 78, 79, 80, 81, 82, 83, 85, 86, 87, 88, 89, 91, 92, 93, 94, 95, 96, 97, 98, 99, 100, 101, 102, 103, 104, 105, 106, 107, 108, 109, 110, 111, 112, 113, 114, 116, 117, 118, 119, 120, 121, 122, 123, 124, 125, 126, 127, 129, 131, 132, 133, 134, 135, 136, 137, 138, 139, 140, 141, 142, 143, 144, 145, 146, 147, 148, 149, 150, 151, 152, 153, 154, 155, 158, 159, 160, 161, 162, 163, 164, 165, 166, 167, 168, 169, 171, 172, 173, 174, 175, 176, 177, 178, 179, 180, 181, 182, 183, 184, 187, 188, 189, 191, 192, 193, 194, 195, 196, 197, 199], \"Problem_75_CorrectCode_386\": [0.0], \"Problem_75_CorrectCode_387\": [0.0], \"Problem_75_CorrectCode_388\": [0.0], \"Problem_75_CorrectCode_389\": [0.0], \"Problem_75_CorrectCode_390\": [0.0], \"Problem_75_CorrectCode_391\": [0.0], \"Problem_75_CorrectCode_392\": [0.0], \"Problem_75_CorrectCode_393\": [0.0], \"Problem_75_CorrectCode_394\": [0.0], \"Problem_76_CorrectCode_395\": [0.0], \"Problem_76_CorrectCode_396\": [0.06000000000000005, 1, 2, 3, 4, 5, 96, 107, 148, 166, 171, 184, 187], \"Problem_76_CorrectCode_397\": [0.0], \"Problem_76_CorrectCode_398\": [0.0], \"Problem_76_CorrectCode_399\": [0.06000000000000005, 1, 2, 3, 4, 5, 96, 107, 148, 166, 171, 184, 187], \"Problem_76_CorrectCode_400\": [0.06000000000000005, 1, 2, 3, 4, 5, 96, 107, 148, 166, 171, 184, 187], \"Problem_77_CorrectCode_401\": [0.0], \"Problem_77_CorrectCode_402\": [0.0], \"Problem_77_CorrectCode_403\": [0.0], \"Problem_77_CorrectCode_404\": [0.0], \"Problem_77_CorrectCode_405\": [0.0], \"Problem_77_CorrectCode_406\": [0.0], \"Problem_78_CorrectCode_407\": [0.0], \"Problem_78_CorrectCode_408\": [0.0], \"Problem_78_CorrectCode_409\": [0.0], \"Problem_78_CorrectCode_410\": [0.0], \"Problem_78_CorrectCode_411\": [0.0], \"Problem_78_CorrectCode_412\": [0.0], \"Problem_78_CorrectCode_413\": [0.0], \"Problem_78_CorrectCode_414\": [0.0], \"Problem_78_CorrectCode_415\": [0.0], \"Problem_78_CorrectCode_416\": [0.0], \"Problem_78_CorrectCode_417\": [0.0], \"Problem_79_CorrectCode_357\": [0.015000000000000013, 4, 39, 102], \"Problem_79_CorrectCode_358\": [0.015000000000000013, 4, 39, 102], \"Problem_79_CorrectCode_418\": [0.015000000000000013, 4, 39, 102], \"Problem_79_CorrectCode_419\": [0.015000000000000013, 4, 39, 102], \"Problem_7_CorrectCode_15\": [0.0], \"Problem_7_CorrectCode_16\": [0.0], \"Problem_7_CorrectCode_17\": [0.0], \"Problem_7_CorrectCode_18\": [0.0], \"Problem_7_CorrectCode_19\": [0.0], \"Problem_7_CorrectCode_20\": [0.0], \"Problem_80_CorrectCode_359\": [0.0], \"Problem_80_CorrectCode_420\": [0.0], \"Problem_81_CorrectCode_360\": [0.0], \"Problem_81_CorrectCode_421\": [0.0], \"Problem_82_CorrectCode_431\": [0.0], \"Problem_82_CorrectCode_432\": [0.0], \"Problem_82_CorrectCode_433\": [0.0], \"Problem_82_CorrectCode_434\": [0.0], \"Problem_82_CorrectCode_435\": [0.0], \"Problem_82_CorrectCode_436\": [0.0], \"Problem_82_CorrectCode_437\": [0.0], \"Problem_82_CorrectCode_438\": [0.0], \"Problem_82_CorrectCode_439\": [0.0], \"Problem_82_CorrectCode_440\": [0.0], \"Problem_84_CorrectCode_441\": [0.0], \"Problem_84_CorrectCode_442\": [0.0], \"Problem_84_CorrectCode_443\": [0.0], \"Problem_86_CorrectCode_444\": [0.0], \"Problem_87_CorrectCode_445\": [0.0], \"Problem_88_CorrectCode_446\": [0.0], \"Problem_88_CorrectCode_447\": [0.0], \"Problem_88_CorrectCode_448\": [0.0], \"Problem_88_CorrectCode_449\": [0.0], \"Problem_88_CorrectCode_450\": [0.0], \"Problem_88_CorrectCode_451\": [0.0], \"Problem_88_CorrectCode_452\": [0.0], \"Problem_88_CorrectCode_453\": [0.0], \"Problem_88_CorrectCode_454\": [0.0], \"Problem_88_CorrectCode_455\": [0.0], \"Problem_88_CorrectCode_456\": [0.0], \"Problem_88_CorrectCode_457\": [0.0], \"Problem_88_CorrectCode_458\": [0.0], \"Problem_88_CorrectCode_459\": [0.0], \"Problem_88_CorrectCode_460\": [0.0], \"Problem_88_CorrectCode_461\": [0.0], \"Problem_88_CorrectCode_462\": [0.0], \"Problem_88_CorrectCode_463\": [0.0], \"Problem_88_CorrectCode_464\": [0.0], \"Problem_88_CorrectCode_465\": [1.0, 0, 1, 2, 3, 4, 5, 6, 7, 8, 9, 10, 11, 12, 13, 14, 15, 16, 17, 18, 19, 20, 21, 22, 23, 24, 25, 26, 27, 28, 29, 30, 31, 32, 33, 34, 35, 36, 37, 38, 39, 40, 41, 42, 43, 44, 45, 46, 47, 48, 49, 50, 51, 52, 53, 54, 55, 56, 57, 58, 59, 60, 61, 62, 63, 64, 65, 66, 67, 68, 69, 70, 71, 72, 73, 74, 75, 76, 77, 78, 79, 80, 81, 82, 83, 84, 85, 86, 87, 88, 89, 90, 91, 92, 93, 94, 95, 96, 97, 98, 99, 100, 101, 102, 103, 104, 105, 106, 107, 108, 109, 110, 111, 112, 113, 114, 115, 116, 117, 118, 119, 120, 121, 122, 123, 124, 125, 126, 127, 128, 129, 130, 131, 132, 133, 134, 135, 136, 137, 138, 139, 140, 141, 142, 143, 144, 145, 146, 147, 148, 149, 150, 151, 152, 153, 154, 155, 156, 157, 158, 159, 160, 161, 162, 163, 164, 165, 166, 167, 168, 169, 170, 171, 172, 173, 174, 175, 176, 177, 178, 179, 180, 181, 182, 183, 184, 185, 186, 187, 188, 189, 190, 191, 192, 193, 194, 195, 196, 197, 198, 199], \"Problem_88_CorrectCode_466\": [0.0], \"Problem_88_CorrectCode_467\": [0.0], \"Problem_88_CorrectCode_468\": [0.0], \"Problem_88_CorrectCode_469\": [0.0], \"Problem_88_CorrectCode_470\": [0.0], \"Problem_88_CorrectCode_471\": [0.0], \"Problem_88_CorrectCode_472\": [0.0], \"Problem_89_CorrectCode_473\": [0.0], \"Problem_8_CorrectCode_21\": [0.0], \"Problem_90_CorrectCode_474\": [0.0], \"Problem_90_CorrectCode_475\": [0.050000000000000044, 1, 9, 16, 76, 77, 78, 88, 137, 138, 195], \"Problem_91_CorrectCode_476\": [0.0], \"Problem_91_CorrectCode_477\": [0.0], \"Problem_92_CorrectCode_478\": [0.0], \"Problem_92_CorrectCode_479\": [0.0], \"Problem_93_CorrectCode_480\": [0.0], \"Problem_93_CorrectCode_481\": [0.09499999999999997, 4, 13, 20, 21, 28, 33, 42, 53, 68, 71, 79, 81, 89, 91, 97, 105, 126, 133, 140], \"Problem_93_CorrectCode_482\": [0.22499999999999998, 2, 3, 4, 6, 7, 9, 10, 13, 18, 19, 20, 21, 22, 24, 26, 28, 32, 33, 34, 38, 41, 42, 50, 53, 56, 57, 61, 65, 68, 74, 76, 79, 84, 86, 89, 93, 97, 101, 105, 109, 116, 122, 126, 133, 140], \"Problem_94_CorrectCode_483\": [0.0], \"Problem_94_CorrectCode_484\": [0.0], \"Problem_94_CorrectCode_485\": [0.0], \"Problem_94_CorrectCode_486\": [0.0], \"Problem_94_CorrectCode_487\": [0.0], \"Problem_94_CorrectCode_488\": [0.0], \"Problem_94_CorrectCode_489\": [0.0], \"Problem_94_CorrectCode_490\": [0.0], \"Problem_94_CorrectCode_491\": [0.0], \"Problem_95_CorrectCode_492\": [0.0], \"Problem_95_CorrectCode_493\": [0.0], \"Problem_96_CorrectCode_494\": [0.0], \"Problem_96_CorrectCode_495\": [0.0], \"Problem_96_CorrectCode_496\": [0.0], \"Problem_96_CorrectCode_497\": [0.0], \"Problem_96_CorrectCode_498\": [0.0], \"Problem_96_CorrectCode_499\": [0.0], \"Problem_96_CorrectCode_500\": [0.0], \"Problem_98_CorrectCode_422\": [0.0], \"Problem_98_CorrectCode_423\": [0.0], \"Problem_98_CorrectCode_424\": [0.0], \"Problem_98_CorrectCode_425\": [0.0], \"Problem_98_CorrectCode_426\": [0.0], \"Problem_98_CorrectCode_427\": [0.0], \"Problem_98_CorrectCode_428\": [0.0], \"Problem_98_CorrectCode_429\": [0.0], \"Problem_98_CorrectCode_430\": [0.0], \"Problem_98_CorrectCode_501\": [0.0], \"Problem_98_CorrectCode_502\": [0.0], \"Problem_98_CorrectCode_503\": [0.0], \"Problem_98_CorrectCode_504\": [0.0], \"Problem_98_CorrectCode_505\": [0.0], \"Problem_98_CorrectCode_506\": [0.0], \"Problem_98_CorrectCode_507\": [0.0], \"Problem_99_CorrectCode_508\": [0.0], \"Problem_99_CorrectCode_509\": [0.0], \"Problem_99_CorrectCode_510\": [0.0], \"Problem_99_CorrectCode_511\": [0.0], \"Problem_99_CorrectCode_512\": [0.0], \"Problem_99_CorrectCode_513\": [0.0], \"Problem_99_CorrectCode_514\": [0.0], \"Problem_99_CorrectCode_515\": [0.0], \"Problem_99_CorrectCode_516\": [0.0], \"Problem_99_CorrectCode_517\": [0.0], \"Problem_99_CorrectCode_518\": [0.0], \"Problem_99_CorrectCode_519\": [0.0], \"Problem_99_CorrectCode_520\": [0.0], \"Problem_99_CorrectCode_521\": [0.0], \"Problem_99_CorrectCode_522\": [0.0], \"Problem_99_CorrectCode_523\": [0.0], \"Problem_9_CorrectCode_22\": [0.0], \"Problem_9_CorrectCode_23\": [0.0], \"Problem_9_CorrectCode_24\": [0.0]}\n",
      "Compile Error 3\n",
      "Test case error 7\n"
     ]
    },
    {
     "name": "stderr",
     "output_type": "stream",
     "text": [
      "\n"
     ]
    }
   ],
   "source": [
    "import os\n",
    "import json\n",
    "import subprocess\n",
    "from tqdm import tqdm\n",
    "\n",
    "path = './CodeT5_LineNumber_cpp_gold/'\n",
    "file_list = os.listdir(path)\n",
    "compile_error = []\n",
    "gold_logical_error_rate = {}\n",
    "test_case_error = []\n",
    "time_out_error = []\n",
    "file_list.sort()\n",
    "\n",
    "for cpp_file in tqdm(file_list):\n",
    "    filepath = path + '/' + cpp_file\n",
    "    test_case_txt_number = cpp_file.split('Problem_')[1].split('_')[0]\n",
    "    test_cases_file_path = './cpp_test_case/' + test_case_txt_number + '.txt'\n",
    "    \n",
    "    compile_error_log_file = \"./gold_test_result/compile_error_log.txt\"\n",
    "\n",
    "    compile_result = subprocess.run(['g++', '-o', f'./gold_compile_folder/{cpp_file[:-4]}', filepath], capture_output=True)\n",
    "    if compile_result.returncode != 0:\n",
    "        compile_error.append(f'{cpp_file[:-4]}')\n",
    "        with open(compile_error_log_file, 'a') as compile_error_file:\n",
    "            compile_error_file.write(f'{cpp_file[:-4]}\\n')\n",
    "            compile_error_file.write(f'{compile_result.stderr}\\n\\n')\n",
    "        continue\n",
    "        \n",
    "    with open(test_cases_file_path, 'r') as test_file:\n",
    "        test_cases = test_file.read().split(', ')  # 각 테스트 케이스 분리\n",
    "    \n",
    "    if len(test_cases) < 2:\n",
    "        print(f'Test Case Error - {test_case_txt_number}.txt')\n",
    "        test_case_error.append(test_case_txt_number)\n",
    "        continue\n",
    "        \n",
    "    test_data_list = []\n",
    "    output_list = []\n",
    "\n",
    "    for index, test_case in enumerate(test_cases):\n",
    "        if not test_case.strip():\n",
    "            continue\n",
    "        input_part, output_part = test_case.split('\\noutput: ')\n",
    "        input_data = input_part.split('input: ')[1]\n",
    "        expected_output = output_part.strip()\n",
    "        test_data_list.append(input_data)\n",
    "        output_list.append(expected_output)\n",
    "\n",
    "        if index == len(test_cases) - 1:\n",
    "            output_list[index] = output_list[index].split('\\n')[0]\n",
    "\n",
    "    test_input_list = []\n",
    "    for in_data in test_data_list:\n",
    "        in_data = in_data.replace(\"\\\\n\", \"\\n\")\n",
    "        test_input_list.append(in_data[1:-1].strip())\n",
    "\n",
    "    test_output_list = []\n",
    "    for out_data in output_list:\n",
    "        out_data = out_data.replace(\"\\\\n\", '\\n')\n",
    "        out_data = out_data.replace(\"\\\"\", \"\")\n",
    "        out_data = out_data.split()\n",
    "        test_output_list.append(out_data)\n",
    "\n",
    "    error_line_number = []\n",
    "    test_case_length = len(test_output_list)\n",
    "    correct_test = len(test_output_list)\n",
    "    test_result = run_test_cases(cpp_file, test_input_list, test_output_list)\n",
    "    gold_logical_error_rate[cpp_file[:-4]] = test_result\n",
    "    print(f'{cpp_file[:-4]} Error rate = {test_result[0]}')\n",
    "\n",
    "pretty_print = json.dumps(gold_logical_error_rate)\n",
    "print(pretty_print)\n",
    "\n",
    "print(f'Compile Error {len(compile_error)}')\n",
    "print(f'Test case error {len(test_case_error)}')"
   ]
  },
  {
   "cell_type": "code",
   "execution_count": 3,
   "metadata": {},
   "outputs": [],
   "source": [
    "import json\n",
    "\n",
    "with open('./gold_test_result/gold_logical_error_rate.json', 'w') as f:\n",
    "    json.dump(gold_logical_error_rate, f, indent=4)"
   ]
  },
  {
   "cell_type": "code",
   "execution_count": 4,
   "metadata": {},
   "outputs": [],
   "source": [
    "import pickle\n",
    "with open(\"./gold_test_result/timeout_error.pkl\", \"wb\") as f1:\n",
    "    pickle.dump(time_out_error, f1)"
   ]
  },
  {
   "cell_type": "code",
   "execution_count": 5,
   "metadata": {},
   "outputs": [],
   "source": [
    "with open(\"./gold_test_result/compile_error.pkl\", \"wb\") as f2:\n",
    "    pickle.dump(compile_error, f2)"
   ]
  },
  {
   "cell_type": "code",
   "execution_count": 6,
   "metadata": {},
   "outputs": [
    {
     "name": "stdout",
     "output_type": "stream",
     "text": [
      "[]\n"
     ]
    }
   ],
   "source": [
    "import pickle\n",
    "with open(\"./gold_test_result/timeout_error.pkl\", \"rb\") as f3:\n",
    "    timeout_list = pickle.load(f3)\n",
    "print(timeout_list)"
   ]
  },
  {
   "cell_type": "code",
   "execution_count": 7,
   "metadata": {},
   "outputs": [
    {
     "name": "stdout",
     "output_type": "stream",
     "text": [
      "['Problem_133_CorrectCode_636', 'Problem_133_CorrectCode_637', 'Problem_156_CorrectCode_801']\n"
     ]
    }
   ],
   "source": [
    "with open(\"./gold_test_result/compile_error.pkl\", \"rb\") as f4:\n",
    "    error_list = pickle.load(f4)\n",
    "print(error_list)"
   ]
  },
  {
   "cell_type": "code",
   "execution_count": 8,
   "metadata": {},
   "outputs": [],
   "source": [
    "import json\n",
    "with open('./gold_test_result/gold_logical_error_rate.json', 'r') as f:\n",
    "    data = json.load(f)"
   ]
  },
  {
   "cell_type": "code",
   "execution_count": 9,
   "metadata": {},
   "outputs": [
    {
     "name": "stdout",
     "output_type": "stream",
     "text": [
      "perfect_code 733\n",
      "Error_code 36\n",
      "Unstable_code 82\n",
      "compile_error 3\n",
      "runtime_error 0\n"
     ]
    }
   ],
   "source": [
    "perfect_cpp = []\n",
    "error_cpp = []\n",
    "unstable_cpp = []\n",
    "unstable_ratio = []\n",
    "\n",
    "for key, value in data.items():\n",
    "    if value[0] == 0.0:\n",
    "        perfect_cpp.append(key)\n",
    "    elif value[0] == 1.0:\n",
    "        error_cpp.append(key)\n",
    "    else:\n",
    "        unstable_cpp.append(key)\n",
    "        unstable_ratio.append(value[0])\n",
    "\n",
    "print(f'perfect_code {len(perfect_cpp)}')\n",
    "print(f'Error_code {len(error_cpp)}')\n",
    "print(f'Unstable_code {len(unstable_cpp)}')\n",
    "print(f'compile_error {len(error_list)}')\n",
    "print(f'runtime_error {len(timeout_list)}')\n",
    "# print(f'test_case_error {len(test_case_error)}')\n",
    "# print(f'total sum {len(perfect_cpp) + len(error_cpp) + len(unstable_cpp) + len(compile_error) + len(timeout_list) + len(test_case_error)}')"
   ]
  },
  {
   "cell_type": "code",
   "execution_count": 10,
   "metadata": {},
   "outputs": [
    {
     "name": "stdout",
     "output_type": "stream",
     "text": [
      "['132', '132', '132', '132', '132', '132', '132']\n"
     ]
    }
   ],
   "source": [
    "print(test_case_error)"
   ]
  },
  {
   "cell_type": "code",
   "execution_count": 12,
   "metadata": {},
   "outputs": [
    {
     "data": {
      "image/png": "[encoded data removed]",
      "text/plain": [
       "<Figure size 640x480 with 1 Axes>"
      ]
     },
     "metadata": {},
     "output_type": "display_data"
    }
   ],
   "source": [
    "import numpy as np\n",
    "import matplotlib.pyplot as plt\n",
    "\n",
    "plt.hist(unstable_ratio, bins=20, edgecolor='black') \n",
    "plt.title('Gold File Error Ratio (Except 0, 1)')\n",
    "plt.xlabel('Value')\n",
    "plt.ylabel('Frequency')\n",
    "plt.show()"
   ]
  }
 ],
 "metadata": {
  "kernelspec": {
   "display_name": "coderepair",
   "language": "python",
   "name": "python3"
  },
  "language_info": {
   "codemirror_mode": {
    "name": "ipython",
    "version": 3
   },
   "file_extension": ".py",
   "mimetype": "text/x-python",
   "name": "python",
   "nbconvert_exporter": "python",
   "pygments_lexer": "ipython3",
   "version": "3.9.18"
  }
 },
 "nbformat": 4,
 "nbformat_minor": 2
}
