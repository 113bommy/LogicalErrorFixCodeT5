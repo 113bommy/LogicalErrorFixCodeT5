{
 "cells": [
  {
   "cell_type": "code",
   "execution_count": 1,
   "metadata": {},
   "outputs": [],
   "source": [
    "import subprocess\n",
    "import re\n",
    "from math import isclose\n",
    "\n",
    "def is_float(value):\n",
    "    \"\"\"주어진 값이 부동소수점 수인지 확인합니다.\"\"\"\n",
    "    return bool(re.match(r'^-?\\d+(\\.\\d+)?$', value))\n",
    "\n",
    "def compare_outputs(actual, expected, partial=False):\n",
    "    \"\"\"실제 출력과 예상 출력을 비교합니다. 부분적 일치도 허용될 수 있습니다.\"\"\"\n",
    "    if partial:\n",
    "        expected = expected[:len(actual)]\n",
    "    if len(actual) > len(expected):\n",
    "        return False  # 실제 출력이 예상 출력보다 길면, 일치하지 않습니다.\n",
    "    for output, gold in zip(actual, expected):\n",
    "        if is_float(output) and is_float(gold):\n",
    "            if not isclose(float(output), float(gold), rel_tol=1e-9):\n",
    "                return False\n",
    "        elif output != gold:\n",
    "            return False\n",
    "    return True\n",
    "\n",
    "def run_test_cases(file, input_data_list, expected_output_list):\n",
    "    Test_Failure_List = []\n",
    "    \"\"\"테스트 케이스를 실행하고, 정확도를 계산합니다.\"\"\"\n",
    "    correct_tests = 0\n",
    "\n",
    "    for index, cpp_input in enumerate(input_data_list):\n",
    "        partial = False\n",
    "        try:\n",
    "            process = subprocess.run([f'./gold_compile_folder/{file[:-4]}'], input=cpp_input, text=True, capture_output=True, timeout=10)\n",
    "            actual_output = process.stdout.strip().split()\n",
    "        except subprocess.TimeoutExpired as e:\n",
    "            actual_output = e.stdout.strip().split() if e.stdout else []\n",
    "            partial = True\n",
    "        if compare_outputs(actual_output, expected_output_list[index], partial=partial):\n",
    "            correct_tests += 1\n",
    "        else:\n",
    "            expected_output = ' '.join(expected_output_list[index])\n",
    "            actual_output_joined = ' '.join(actual_output)\n",
    "            with open(f'./gold_test_case_error_log/{file[:-4]}.txt', 'a') as err_log_file:\n",
    "                err_log_file.write(f\"Test Case {index + 1} Failed: Expected '{expected_output}', Got '{actual_output_joined}'\")\n",
    "            Test_Failure_List.append(index)\n",
    "\n",
    "    test_case_length = len(input_data_list)\n",
    "    logical_error_rate = 1 - correct_tests / test_case_length\n",
    "    print(f'Logical error rate: {logical_error_rate}')\n",
    "\n",
    "    return [logical_error_rate] + Test_Failure_List   "
   ]
  },
  {
   "cell_type": "code",
   "execution_count": 3,
   "metadata": {},
   "outputs": [
    {
     "name": "stderr",
     "output_type": "stream",
     "text": [
      " 73%|███████▎  | 625/861 [1:38:33<36:20:24, 554.34s/it]"
     ]
    },
    {
     "name": "stdout",
     "output_type": "stream",
     "text": [
      "Logical error rate: 0.0\n",
      "Problem_157_gold_811 Error rate = 0.0\n"
     ]
    },
    {
     "name": "stderr",
     "output_type": "stream",
     "text": [
      " 73%|███████▎  | 626/861 [1:38:34<25:21:07, 388.37s/it]"
     ]
    },
    {
     "name": "stdout",
     "output_type": "stream",
     "text": [
      "Logical error rate: 0.0\n",
      "Problem_57_gold_319 Error rate = 0.0\n"
     ]
    },
    {
     "name": "stderr",
     "output_type": "stream",
     "text": [
      " 73%|███████▎  | 627/861 [1:38:39<17:46:27, 273.45s/it]"
     ]
    },
    {
     "name": "stdout",
     "output_type": "stream",
     "text": [
      "Logical error rate: 1.0\n",
      "Problem_39_gold_215 Error rate = 1.0\n"
     ]
    },
    {
     "name": "stderr",
     "output_type": "stream",
     "text": [
      " 73%|███████▎  | 628/861 [1:38:40<12:24:39, 191.76s/it]"
     ]
    },
    {
     "name": "stdout",
     "output_type": "stream",
     "text": [
      "Logical error rate: 0.0\n",
      "Problem_17_gold_72 Error rate = 0.0\n"
     ]
    },
    {
     "name": "stderr",
     "output_type": "stream",
     "text": [
      " 73%|███████▎  | 629/861 [1:39:11<9:14:20, 143.37s/it] "
     ]
    },
    {
     "name": "stdout",
     "output_type": "stream",
     "text": [
      "Logical error rate: 0.0\n",
      "Problem_84_gold_442 Error rate = 0.0\n"
     ]
    },
    {
     "name": "stderr",
     "output_type": "stream",
     "text": [
      " 73%|███████▎  | 630/861 [1:39:21<6:37:46, 103.32s/it]"
     ]
    },
    {
     "name": "stdout",
     "output_type": "stream",
     "text": [
      "Logical error rate: 1.0\n",
      "Problem_130_gold_624 Error rate = 1.0\n"
     ]
    },
    {
     "name": "stderr",
     "output_type": "stream",
     "text": [
      " 73%|███████▎  | 631/861 [1:39:23<4:40:04, 73.06s/it] "
     ]
    },
    {
     "name": "stdout",
     "output_type": "stream",
     "text": [
      "Logical error rate: 0.030000000000000027\n",
      "Problem_40_gold_147 Error rate = 0.030000000000000027\n"
     ]
    },
    {
     "name": "stderr",
     "output_type": "stream",
     "text": [
      " 74%|███████▎  | 633/861 [1:39:25<2:17:49, 36.27s/it]"
     ]
    },
    {
     "name": "stdout",
     "output_type": "stream",
     "text": [
      "Logical error rate: 0.0\n",
      "Problem_47_gold_177 Error rate = 0.0\n"
     ]
    },
    {
     "name": "stderr",
     "output_type": "stream",
     "text": [
      " 74%|███████▎  | 634/861 [1:39:26<1:37:21, 25.73s/it]"
     ]
    },
    {
     "name": "stdout",
     "output_type": "stream",
     "text": [
      "Logical error rate: 0.79\n",
      "Problem_19_gold_81 Error rate = 0.79\n"
     ]
    },
    {
     "name": "stderr",
     "output_type": "stream",
     "text": [
      " 74%|███████▍  | 635/861 [1:39:27<1:09:02, 18.33s/it]"
     ]
    },
    {
     "name": "stdout",
     "output_type": "stream",
     "text": [
      "Logical error rate: 0.0\n",
      "Problem_44_gold_241 Error rate = 0.0\n"
     ]
    },
    {
     "name": "stderr",
     "output_type": "stream",
     "text": [
      " 74%|███████▍  | 636/861 [1:39:42<1:05:04, 17.36s/it]"
     ]
    },
    {
     "name": "stdout",
     "output_type": "stream",
     "text": [
      "Logical error rate: 0.0\n",
      "Problem_34_gold_191 Error rate = 0.0\n"
     ]
    },
    {
     "name": "stderr",
     "output_type": "stream",
     "text": [
      " 74%|███████▍  | 637/861 [1:39:43<46:35, 12.48s/it]  "
     ]
    },
    {
     "name": "stdout",
     "output_type": "stream",
     "text": [
      "Logical error rate: 0.0\n",
      "Problem_156_gold_809 Error rate = 0.0\n"
     ]
    },
    {
     "name": "stderr",
     "output_type": "stream",
     "text": [
      " 74%|███████▍  | 638/861 [1:39:44<33:41,  9.06s/it]"
     ]
    },
    {
     "name": "stdout",
     "output_type": "stream",
     "text": [
      "Logical error rate: 0.0\n",
      "Problem_27_gold_127 Error rate = 0.0\n"
     ]
    },
    {
     "name": "stderr",
     "output_type": "stream",
     "text": [
      " 74%|███████▍  | 639/861 [1:40:01<41:25, 11.20s/it]"
     ]
    },
    {
     "name": "stdout",
     "output_type": "stream",
     "text": [
      "Logical error rate: 0.62\n",
      "Problem_49_gold_284 Error rate = 0.62\n"
     ]
    },
    {
     "name": "stderr",
     "output_type": "stream",
     "text": [
      " 74%|███████▍  | 640/861 [1:40:02<30:03,  8.16s/it]"
     ]
    },
    {
     "name": "stdout",
     "output_type": "stream",
     "text": [
      "Logical error rate: 0.0\n",
      "Problem_98_gold_505 Error rate = 0.0\n"
     ]
    },
    {
     "name": "stderr",
     "output_type": "stream",
     "text": [
      " 74%|███████▍  | 641/861 [1:40:03<22:05,  6.02s/it]"
     ]
    },
    {
     "name": "stdout",
     "output_type": "stream",
     "text": [
      "Logical error rate: 0.0\n",
      "Problem_148_gold_760 Error rate = 0.0\n"
     ]
    },
    {
     "name": "stderr",
     "output_type": "stream",
     "text": [
      " 75%|███████▍  | 642/861 [1:40:04<16:38,  4.56s/it]"
     ]
    },
    {
     "name": "stdout",
     "output_type": "stream",
     "text": [
      "Logical error rate: 0.0\n",
      "Problem_88_gold_462 Error rate = 0.0\n"
     ]
    },
    {
     "name": "stderr",
     "output_type": "stream",
     "text": [
      " 75%|███████▍  | 643/861 [1:40:05<12:52,  3.54s/it]"
     ]
    },
    {
     "name": "stdout",
     "output_type": "stream",
     "text": [
      "Logical error rate: 0.745\n",
      "Problem_53_gold_298 Error rate = 0.745\n"
     ]
    },
    {
     "name": "stderr",
     "output_type": "stream",
     "text": [
      " 75%|███████▍  | 644/861 [1:40:06<10:08,  2.80s/it]"
     ]
    },
    {
     "name": "stdout",
     "output_type": "stream",
     "text": [
      "Logical error rate: 0.0\n",
      "Problem_88_gold_449 Error rate = 0.0\n"
     ]
    },
    {
     "name": "stderr",
     "output_type": "stream",
     "text": [
      " 75%|███████▍  | 645/861 [1:40:07<08:28,  2.35s/it]"
     ]
    },
    {
     "name": "stdout",
     "output_type": "stream",
     "text": [
      "Logical error rate: 0.0\n",
      "Problem_110_gold_568 Error rate = 0.0\n"
     ]
    },
    {
     "name": "stderr",
     "output_type": "stream",
     "text": [
      " 75%|███████▌  | 646/861 [1:40:09<07:04,  1.97s/it]"
     ]
    },
    {
     "name": "stdout",
     "output_type": "stream",
     "text": [
      "Logical error rate: 0.0\n",
      "Problem_88_gold_472 Error rate = 0.0\n"
     ]
    },
    {
     "name": "stderr",
     "output_type": "stream",
     "text": [
      " 75%|███████▌  | 647/861 [1:40:12<08:46,  2.46s/it]"
     ]
    },
    {
     "name": "stdout",
     "output_type": "stream",
     "text": [
      "Logical error rate: 0.0\n",
      "Problem_0_gold_1 Error rate = 0.0\n"
     ]
    },
    {
     "name": "stderr",
     "output_type": "stream",
     "text": [
      " 75%|███████▌  | 648/861 [1:40:13<07:17,  2.05s/it]"
     ]
    },
    {
     "name": "stdout",
     "output_type": "stream",
     "text": [
      "Logical error rate: 0.0\n",
      "Problem_119_gold_603 Error rate = 0.0\n"
     ]
    },
    {
     "name": "stderr",
     "output_type": "stream",
     "text": [
      " 75%|███████▌  | 649/861 [1:40:14<06:17,  1.78s/it]"
     ]
    },
    {
     "name": "stdout",
     "output_type": "stream",
     "text": [
      "Logical error rate: 0.0\n",
      "Problem_45_gold_165 Error rate = 0.0\n"
     ]
    },
    {
     "name": "stderr",
     "output_type": "stream",
     "text": [
      " 75%|███████▌  | 650/861 [1:40:29<19:20,  5.50s/it]"
     ]
    },
    {
     "name": "stdout",
     "output_type": "stream",
     "text": [
      "Logical error rate: 0.0\n",
      "Problem_21_gold_100 Error rate = 0.0\n"
     ]
    },
    {
     "name": "stderr",
     "output_type": "stream",
     "text": [
      " 76%|███████▌  | 651/861 [1:40:30<14:39,  4.19s/it]"
     ]
    },
    {
     "name": "stdout",
     "output_type": "stream",
     "text": [
      "Logical error rate: 0.0\n",
      "Problem_127_gold_617 Error rate = 0.0\n"
     ]
    },
    {
     "name": "stderr",
     "output_type": "stream",
     "text": [
      " 76%|███████▌  | 652/861 [1:40:31<11:16,  3.24s/it]"
     ]
    },
    {
     "name": "stdout",
     "output_type": "stream",
     "text": [
      "Logical error rate: 0.0\n",
      "Problem_67_gold_362 Error rate = 0.0\n"
     ]
    },
    {
     "name": "stderr",
     "output_type": "stream",
     "text": [
      " 76%|███████▌  | 653/861 [1:40:44<22:04,  6.37s/it]"
     ]
    },
    {
     "name": "stdout",
     "output_type": "stream",
     "text": [
      "Logical error rate: 0.0\n",
      "Problem_159_gold_836 Error rate = 0.0\n"
     ]
    },
    {
     "name": "stderr",
     "output_type": "stream",
     "text": [
      " 76%|███████▌  | 655/861 [1:40:46<12:19,  3.59s/it]"
     ]
    },
    {
     "name": "stdout",
     "output_type": "stream",
     "text": [
      "Logical error rate: 0.0\n",
      "Problem_158_gold_729 Error rate = 0.0\n"
     ]
    },
    {
     "name": "stderr",
     "output_type": "stream",
     "text": [
      " 76%|███████▌  | 656/861 [1:40:47<09:42,  2.84s/it]"
     ]
    },
    {
     "name": "stdout",
     "output_type": "stream",
     "text": [
      "Logical error rate: 0.995\n",
      "Problem_102_gold_531 Error rate = 0.995\n"
     ]
    },
    {
     "name": "stderr",
     "output_type": "stream",
     "text": [
      " 76%|███████▋  | 657/861 [1:40:48<07:51,  2.31s/it]"
     ]
    },
    {
     "name": "stdout",
     "output_type": "stream",
     "text": [
      "Logical error rate: 0.0\n",
      "Problem_76_gold_398 Error rate = 0.0\n"
     ]
    },
    {
     "name": "stderr",
     "output_type": "stream",
     "text": [
      " 76%|███████▋  | 658/861 [1:40:49<06:32,  1.93s/it]"
     ]
    },
    {
     "name": "stdout",
     "output_type": "stream",
     "text": [
      "Logical error rate: 1.0\n",
      "Problem_133_gold_635 Error rate = 1.0\n"
     ]
    },
    {
     "name": "stderr",
     "output_type": "stream",
     "text": [
      " 77%|███████▋  | 659/861 [1:40:50<05:38,  1.67s/it]"
     ]
    },
    {
     "name": "stdout",
     "output_type": "stream",
     "text": [
      "Logical error rate: 0.0\n",
      "Problem_88_gold_457 Error rate = 0.0\n"
     ]
    },
    {
     "name": "stderr",
     "output_type": "stream",
     "text": [
      " 77%|███████▋  | 660/861 [1:40:52<05:04,  1.52s/it]"
     ]
    },
    {
     "name": "stdout",
     "output_type": "stream",
     "text": [
      "Logical error rate: 1.0\n",
      "Problem_46_gold_247 Error rate = 1.0\n"
     ]
    },
    {
     "name": "stderr",
     "output_type": "stream",
     "text": [
      " 77%|███████▋  | 661/861 [1:40:53<04:37,  1.39s/it]"
     ]
    },
    {
     "name": "stdout",
     "output_type": "stream",
     "text": [
      "Logical error rate: 0.0\n",
      "Problem_48_gold_183 Error rate = 0.0\n"
     ]
    },
    {
     "name": "stderr",
     "output_type": "stream",
     "text": [
      " 77%|███████▋  | 662/861 [1:40:54<04:22,  1.32s/it]"
     ]
    },
    {
     "name": "stdout",
     "output_type": "stream",
     "text": [
      "Logical error rate: 0.0\n",
      "Problem_82_gold_432 Error rate = 0.0\n"
     ]
    },
    {
     "name": "stderr",
     "output_type": "stream",
     "text": [
      " 77%|███████▋  | 664/861 [1:40:56<03:35,  1.10s/it]"
     ]
    },
    {
     "name": "stdout",
     "output_type": "stream",
     "text": [
      "Logical error rate: 0.0\n",
      "Problem_65_gold_278 Error rate = 0.0\n"
     ]
    },
    {
     "name": "stderr",
     "output_type": "stream",
     "text": [
      " 77%|███████▋  | 665/861 [1:40:57<03:33,  1.09s/it]"
     ]
    },
    {
     "name": "stdout",
     "output_type": "stream",
     "text": [
      "Logical error rate: 0.0\n",
      "Problem_142_gold_681 Error rate = 0.0\n"
     ]
    },
    {
     "name": "stderr",
     "output_type": "stream",
     "text": [
      " 77%|███████▋  | 667/861 [1:40:58<03:09,  1.02it/s]"
     ]
    },
    {
     "name": "stdout",
     "output_type": "stream",
     "text": [
      "Logical error rate: 0.735\n",
      "Problem_30_gold_134 Error rate = 0.735\n"
     ]
    },
    {
     "name": "stderr",
     "output_type": "stream",
     "text": [
      " 78%|███████▊  | 668/861 [1:40:59<03:14,  1.01s/it]"
     ]
    },
    {
     "name": "stdout",
     "output_type": "stream",
     "text": [
      "Logical error rate: 0.0\n",
      "Problem_147_gold_707 Error rate = 0.0\n"
     ]
    },
    {
     "name": "stderr",
     "output_type": "stream",
     "text": [
      " 78%|███████▊  | 669/861 [1:41:00<03:21,  1.05s/it]"
     ]
    },
    {
     "name": "stdout",
     "output_type": "stream",
     "text": [
      "Logical error rate: 0.0\n",
      "Problem_156_gold_802 Error rate = 0.0\n"
     ]
    },
    {
     "name": "stderr",
     "output_type": "stream",
     "text": [
      " 78%|███████▊  | 670/861 [1:41:02<03:27,  1.09s/it]"
     ]
    },
    {
     "name": "stdout",
     "output_type": "stream",
     "text": [
      "Logical error rate: 0.0\n",
      "Problem_158_gold_817 Error rate = 0.0\n"
     ]
    },
    {
     "name": "stderr",
     "output_type": "stream",
     "text": [
      " 78%|███████▊  | 671/861 [1:41:02<03:13,  1.02s/it]"
     ]
    },
    {
     "name": "stdout",
     "output_type": "stream",
     "text": [
      "Logical error rate: 0.0\n",
      "Problem_42_gold_235 Error rate = 0.0\n"
     ]
    },
    {
     "name": "stderr",
     "output_type": "stream",
     "text": [
      " 78%|███████▊  | 672/861 [1:41:12<11:06,  3.53s/it]"
     ]
    },
    {
     "name": "stdout",
     "output_type": "stream",
     "text": [
      "Logical error rate: 0.0\n",
      "Problem_35_gold_196 Error rate = 0.0\n"
     ]
    },
    {
     "name": "stderr",
     "output_type": "stream",
     "text": [
      " 78%|███████▊  | 673/861 [1:41:13<08:47,  2.80s/it]"
     ]
    },
    {
     "name": "stdout",
     "output_type": "stream",
     "text": [
      "Logical error rate: 0.09499999999999997\n",
      "Problem_93_gold_481 Error rate = 0.09499999999999997\n"
     ]
    },
    {
     "name": "stderr",
     "output_type": "stream",
     "text": [
      " 78%|███████▊  | 674/861 [1:41:14<07:07,  2.28s/it]"
     ]
    },
    {
     "name": "stdout",
     "output_type": "stream",
     "text": [
      "Logical error rate: 0.0\n",
      "Problem_160_gold_743 Error rate = 0.0\n"
     ]
    },
    {
     "name": "stderr",
     "output_type": "stream",
     "text": [
      " 78%|███████▊  | 675/861 [1:41:15<06:00,  1.94s/it]"
     ]
    },
    {
     "name": "stdout",
     "output_type": "stream",
     "text": [
      "Logical error rate: 0.0\n",
      "Problem_158_gold_723 Error rate = 0.0\n"
     ]
    },
    {
     "name": "stderr",
     "output_type": "stream",
     "text": [
      " 79%|███████▊  | 676/861 [1:41:16<04:45,  1.54s/it]"
     ]
    },
    {
     "name": "stdout",
     "output_type": "stream",
     "text": [
      "Test Case Error - 132.txt\n"
     ]
    },
    {
     "name": "stderr",
     "output_type": "stream",
     "text": [
      " 79%|███████▊  | 677/861 [1:41:19<05:47,  1.89s/it]"
     ]
    },
    {
     "name": "stdout",
     "output_type": "stream",
     "text": [
      "Logical error rate: 0.0\n",
      "Problem_7_gold_16 Error rate = 0.0\n"
     ]
    },
    {
     "name": "stderr",
     "output_type": "stream",
     "text": [
      " 79%|███████▉  | 679/861 [1:41:20<04:11,  1.38s/it]"
     ]
    },
    {
     "name": "stdout",
     "output_type": "stream",
     "text": [
      "Logical error rate: 0.0\n",
      "Problem_58_gold_325 Error rate = 0.0\n"
     ]
    },
    {
     "name": "stderr",
     "output_type": "stream",
     "text": [
      " 79%|███████▉  | 680/861 [1:41:21<03:59,  1.32s/it]"
     ]
    },
    {
     "name": "stdout",
     "output_type": "stream",
     "text": [
      "Logical error rate: 0.0\n",
      "Problem_160_gold_840 Error rate = 0.0\n"
     ]
    },
    {
     "name": "stderr",
     "output_type": "stream",
     "text": [
      " 79%|███████▉  | 681/861 [1:41:23<04:14,  1.42s/it]"
     ]
    },
    {
     "name": "stdout",
     "output_type": "stream",
     "text": [
      "Logical error rate: 0.995\n",
      "Problem_105_gold_537 Error rate = 0.995\n"
     ]
    },
    {
     "name": "stderr",
     "output_type": "stream",
     "text": [
      " 79%|███████▉  | 682/861 [1:41:25<04:48,  1.61s/it]"
     ]
    },
    {
     "name": "stdout",
     "output_type": "stream",
     "text": [
      "Logical error rate: 0.0\n",
      "Problem_11_gold_36 Error rate = 0.0\n"
     ]
    },
    {
     "name": "stderr",
     "output_type": "stream",
     "text": [
      " 79%|███████▉  | 683/861 [1:41:26<04:17,  1.45s/it]"
     ]
    },
    {
     "name": "stdout",
     "output_type": "stream",
     "text": [
      "Logical error rate: 0.0\n",
      "Problem_124_gold_611 Error rate = 0.0\n"
     ]
    },
    {
     "name": "stderr",
     "output_type": "stream",
     "text": [
      " 79%|███████▉  | 684/861 [1:41:27<03:39,  1.24s/it]"
     ]
    },
    {
     "name": "stdout",
     "output_type": "stream",
     "text": [
      "Logical error rate: 0.0\n",
      "Problem_55_gold_306 Error rate = 0.0\n"
     ]
    },
    {
     "name": "stderr",
     "output_type": "stream",
     "text": [
      " 80%|███████▉  | 685/861 [1:41:47<19:50,  6.76s/it]"
     ]
    },
    {
     "name": "stdout",
     "output_type": "stream",
     "text": [
      "Logical error rate: 0.505\n",
      "Problem_7_gold_20 Error rate = 0.505\n"
     ]
    },
    {
     "name": "stderr",
     "output_type": "stream",
     "text": [
      " 80%|███████▉  | 686/861 [1:41:48<14:49,  5.08s/it]"
     ]
    },
    {
     "name": "stdout",
     "output_type": "stream",
     "text": [
      "Logical error rate: 0.0\n",
      "Problem_48_gold_259 Error rate = 0.0\n"
     ]
    },
    {
     "name": "stderr",
     "output_type": "stream",
     "text": [
      " 80%|███████▉  | 687/861 [1:41:49<11:11,  3.86s/it]"
     ]
    },
    {
     "name": "stdout",
     "output_type": "stream",
     "text": [
      "Logical error rate: 0.0\n",
      "Problem_88_gold_469 Error rate = 0.0\n"
     ]
    },
    {
     "name": "stderr",
     "output_type": "stream",
     "text": [
      " 80%|███████▉  | 688/861 [1:41:50<08:46,  3.04s/it]"
     ]
    },
    {
     "name": "stdout",
     "output_type": "stream",
     "text": [
      "Logical error rate: 0.0\n",
      "Problem_32_gold_146 Error rate = 0.0\n"
     ]
    },
    {
     "name": "stderr",
     "output_type": "stream",
     "text": [
      " 80%|████████  | 689/861 [1:41:51<07:10,  2.50s/it]"
     ]
    },
    {
     "name": "stdout",
     "output_type": "stream",
     "text": [
      "Logical error rate: 0.0\n",
      "Problem_158_gold_819 Error rate = 0.0\n"
     ]
    },
    {
     "name": "stderr",
     "output_type": "stream",
     "text": [
      " 80%|████████  | 690/861 [1:42:00<12:57,  4.54s/it]"
     ]
    },
    {
     "name": "stdout",
     "output_type": "stream",
     "text": [
      "Logical error rate: 0.0\n",
      "Problem_63_gold_351 Error rate = 0.0\n"
     ]
    },
    {
     "name": "stderr",
     "output_type": "stream",
     "text": [
      " 80%|████████  | 692/861 [1:42:02<07:43,  2.74s/it]"
     ]
    },
    {
     "name": "stdout",
     "output_type": "stream",
     "text": [
      "Logical error rate: 0.85\n",
      "Problem_41_gold_151 Error rate = 0.85\n"
     ]
    },
    {
     "name": "stderr",
     "output_type": "stream",
     "text": [
      " 80%|████████  | 693/861 [1:42:04<07:06,  2.54s/it]"
     ]
    },
    {
     "name": "stdout",
     "output_type": "stream",
     "text": [
      "Logical error rate: 0.0\n",
      "Problem_53_gold_296 Error rate = 0.0\n"
     ]
    },
    {
     "name": "stderr",
     "output_type": "stream",
     "text": [
      " 81%|████████  | 694/861 [1:42:05<05:50,  2.10s/it]"
     ]
    },
    {
     "name": "stdout",
     "output_type": "stream",
     "text": [
      "Logical error rate: 0.0\n",
      "Problem_158_gold_822 Error rate = 0.0\n"
     ]
    },
    {
     "name": "stderr",
     "output_type": "stream",
     "text": [
      " 81%|████████  | 695/861 [1:42:07<04:58,  1.80s/it]"
     ]
    },
    {
     "name": "stdout",
     "output_type": "stream",
     "text": [
      "Logical error rate: 0.0\n",
      "Problem_46_gold_169 Error rate = 0.0\n"
     ]
    },
    {
     "name": "stderr",
     "output_type": "stream",
     "text": [
      " 81%|████████  | 696/861 [1:42:08<04:20,  1.58s/it]"
     ]
    },
    {
     "name": "stdout",
     "output_type": "stream",
     "text": [
      "Logical error rate: 0.0\n",
      "Problem_99_gold_512 Error rate = 0.0\n"
     ]
    },
    {
     "name": "stderr",
     "output_type": "stream",
     "text": [
      " 81%|████████  | 697/861 [1:42:09<03:55,  1.43s/it]"
     ]
    },
    {
     "name": "stdout",
     "output_type": "stream",
     "text": [
      "Logical error rate: 0.0\n",
      "Problem_103_gold_533 Error rate = 0.0\n"
     ]
    },
    {
     "name": "stderr",
     "output_type": "stream",
     "text": [
      " 81%|████████  | 698/861 [1:42:10<03:34,  1.32s/it]"
     ]
    },
    {
     "name": "stdout",
     "output_type": "stream",
     "text": [
      "Logical error rate: 0.0\n",
      "Problem_65_gold_280 Error rate = 0.0\n"
     ]
    },
    {
     "name": "stderr",
     "output_type": "stream",
     "text": [
      " 81%|████████  | 699/861 [1:42:11<03:22,  1.25s/it]"
     ]
    },
    {
     "name": "stdout",
     "output_type": "stream",
     "text": [
      "Logical error rate: 0.0050000000000000044\n",
      "Problem_75_gold_386 Error rate = 0.0050000000000000044\n"
     ]
    },
    {
     "name": "stderr",
     "output_type": "stream",
     "text": [
      " 81%|████████▏ | 700/861 [1:42:12<03:17,  1.22s/it]"
     ]
    },
    {
     "name": "stdout",
     "output_type": "stream",
     "text": [
      "Logical error rate: 0.0\n",
      "Problem_60_gold_331 Error rate = 0.0\n"
     ]
    },
    {
     "name": "stderr",
     "output_type": "stream",
     "text": [
      " 81%|████████▏ | 701/861 [1:42:13<03:08,  1.18s/it]"
     ]
    },
    {
     "name": "stdout",
     "output_type": "stream",
     "text": [
      "Logical error rate: 0.0\n",
      "Problem_22_gold_104 Error rate = 0.0\n"
     ]
    },
    {
     "name": "stderr",
     "output_type": "stream",
     "text": [
      " 82%|████████▏ | 702/861 [1:42:25<11:22,  4.29s/it]"
     ]
    },
    {
     "name": "stdout",
     "output_type": "stream",
     "text": [
      "Logical error rate: 0.0\n",
      "Problem_49_gold_282 Error rate = 0.0\n"
     ]
    },
    {
     "name": "stderr",
     "output_type": "stream",
     "text": [
      " 82%|████████▏ | 703/861 [1:42:26<08:43,  3.31s/it]"
     ]
    },
    {
     "name": "stdout",
     "output_type": "stream",
     "text": [
      "Logical error rate: 0.0\n",
      "Problem_152_gold_785 Error rate = 0.0\n"
     ]
    },
    {
     "name": "stderr",
     "output_type": "stream",
     "text": [
      " 82%|████████▏ | 704/861 [1:42:27<06:56,  2.65s/it]"
     ]
    },
    {
     "name": "stdout",
     "output_type": "stream",
     "text": [
      "Logical error rate: 0.0\n",
      "Problem_102_gold_530 Error rate = 0.0\n"
     ]
    },
    {
     "name": "stderr",
     "output_type": "stream",
     "text": [
      " 82%|████████▏ | 705/861 [1:42:28<05:35,  2.15s/it]"
     ]
    },
    {
     "name": "stdout",
     "output_type": "stream",
     "text": [
      "Logical error rate: 0.5919540229885057\n",
      "Problem_152_gold_781 Error rate = 0.5919540229885057\n"
     ]
    },
    {
     "name": "stderr",
     "output_type": "stream",
     "text": [
      " 82%|████████▏ | 706/861 [1:42:29<04:43,  1.83s/it]"
     ]
    },
    {
     "name": "stdout",
     "output_type": "stream",
     "text": [
      "Logical error rate: 0.0\n",
      "Problem_44_gold_239 Error rate = 0.0\n"
     ]
    },
    {
     "name": "stderr",
     "output_type": "stream",
     "text": [
      " 82%|████████▏ | 707/861 [1:42:30<04:10,  1.63s/it]"
     ]
    },
    {
     "name": "stdout",
     "output_type": "stream",
     "text": [
      "Logical error rate: 0.0\n",
      "Problem_88_gold_471 Error rate = 0.0\n"
     ]
    },
    {
     "name": "stderr",
     "output_type": "stream",
     "text": [
      " 82%|████████▏ | 708/861 [1:42:31<03:43,  1.46s/it]"
     ]
    },
    {
     "name": "stdout",
     "output_type": "stream",
     "text": [
      "Logical error rate: 0.0\n",
      "Problem_115_gold_590 Error rate = 0.0\n"
     ]
    },
    {
     "name": "stderr",
     "output_type": "stream",
     "text": [
      " 82%|████████▏ | 709/861 [1:42:32<03:26,  1.36s/it]"
     ]
    },
    {
     "name": "stdout",
     "output_type": "stream",
     "text": [
      "Logical error rate: 0.0\n",
      "Problem_135_gold_642 Error rate = 0.0\n"
     ]
    },
    {
     "name": "stderr",
     "output_type": "stream",
     "text": [
      " 82%|████████▏ | 710/861 [1:42:33<03:10,  1.26s/it]"
     ]
    },
    {
     "name": "stdout",
     "output_type": "stream",
     "text": [
      "Logical error rate: 0.0\n",
      "Problem_45_gold_167 Error rate = 0.0\n"
     ]
    },
    {
     "name": "stderr",
     "output_type": "stream",
     "text": [
      " 83%|████████▎ | 711/861 [1:42:35<03:22,  1.35s/it]"
     ]
    },
    {
     "name": "stdout",
     "output_type": "stream",
     "text": [
      "Logical error rate: 0.0\n",
      "Problem_1_gold_8 Error rate = 0.0\n"
     ]
    },
    {
     "name": "stderr",
     "output_type": "stream",
     "text": [
      " 83%|████████▎ | 712/861 [1:42:36<03:13,  1.30s/it]"
     ]
    },
    {
     "name": "stdout",
     "output_type": "stream",
     "text": [
      "Logical error rate: 0.0\n",
      "Problem_17_gold_67 Error rate = 0.0\n"
     ]
    },
    {
     "name": "stderr",
     "output_type": "stream",
     "text": [
      " 83%|████████▎ | 714/861 [1:42:38<02:38,  1.08s/it]"
     ]
    },
    {
     "name": "stdout",
     "output_type": "stream",
     "text": [
      "Logical error rate: 0.0\n",
      "Problem_136_gold_644 Error rate = 0.0\n"
     ]
    },
    {
     "name": "stderr",
     "output_type": "stream",
     "text": [
      " 83%|████████▎ | 715/861 [1:42:39<02:35,  1.07s/it]"
     ]
    },
    {
     "name": "stdout",
     "output_type": "stream",
     "text": [
      "Logical error rate: 0.040000000000000036\n",
      "Problem_121_gold_605 Error rate = 0.040000000000000036\n"
     ]
    },
    {
     "name": "stderr",
     "output_type": "stream",
     "text": [
      " 83%|████████▎ | 716/861 [1:42:40<02:37,  1.09s/it]"
     ]
    },
    {
     "name": "stdout",
     "output_type": "stream",
     "text": [
      "Logical error rate: 0.0\n",
      "Problem_160_gold_741 Error rate = 0.0\n"
     ]
    },
    {
     "name": "stderr",
     "output_type": "stream",
     "text": [
      " 83%|████████▎ | 717/861 [1:42:40<02:17,  1.05it/s]"
     ]
    },
    {
     "name": "stdout",
     "output_type": "stream",
     "text": [
      "Logical error rate: 0.0\n",
      "Problem_77_gold_402 Error rate = 0.0\n"
     ]
    },
    {
     "name": "stderr",
     "output_type": "stream",
     "text": [
      " 83%|████████▎ | 718/861 [1:42:43<03:25,  1.44s/it]"
     ]
    },
    {
     "name": "stdout",
     "output_type": "stream",
     "text": [
      "Logical error rate: 0.0\n",
      "Problem_82_gold_440 Error rate = 0.0\n"
     ]
    },
    {
     "name": "stderr",
     "output_type": "stream",
     "text": [
      " 84%|████████▎ | 719/861 [1:42:44<03:00,  1.27s/it]"
     ]
    },
    {
     "name": "stdout",
     "output_type": "stream",
     "text": [
      "Logical error rate: 0.0\n",
      "Problem_155_gold_799 Error rate = 0.0\n"
     ]
    },
    {
     "name": "stderr",
     "output_type": "stream",
     "text": [
      " 84%|████████▎ | 720/861 [1:42:45<02:50,  1.21s/it]"
     ]
    },
    {
     "name": "stdout",
     "output_type": "stream",
     "text": [
      "Logical error rate: 0.0\n",
      "Problem_160_gold_738 Error rate = 0.0\n"
     ]
    },
    {
     "name": "stderr",
     "output_type": "stream",
     "text": [
      " 84%|████████▎ | 721/861 [1:42:46<02:43,  1.17s/it]"
     ]
    },
    {
     "name": "stdout",
     "output_type": "stream",
     "text": [
      "Logical error rate: 0.0\n",
      "Problem_88_gold_461 Error rate = 0.0\n"
     ]
    },
    {
     "name": "stderr",
     "output_type": "stream",
     "text": [
      " 84%|████████▍ | 722/861 [1:42:47<02:41,  1.16s/it]"
     ]
    },
    {
     "name": "stdout",
     "output_type": "stream",
     "text": [
      "Logical error rate: 0.0\n",
      "Problem_136_gold_650 Error rate = 0.0\n"
     ]
    },
    {
     "name": "stderr",
     "output_type": "stream",
     "text": [
      " 84%|████████▍ | 723/861 [1:42:48<02:23,  1.04s/it]"
     ]
    },
    {
     "name": "stdout",
     "output_type": "stream",
     "text": [
      "Logical error rate: 0.0\n",
      "Problem_55_gold_304 Error rate = 0.0\n"
     ]
    },
    {
     "name": "stderr",
     "output_type": "stream",
     "text": [
      " 84%|████████▍ | 724/861 [1:42:49<02:24,  1.05s/it]"
     ]
    },
    {
     "name": "stdout",
     "output_type": "stream",
     "text": [
      "Logical error rate: 0.0\n",
      "Problem_18_gold_80 Error rate = 0.0\n"
     ]
    },
    {
     "name": "stderr",
     "output_type": "stream",
     "text": [
      " 84%|████████▍ | 725/861 [1:42:50<02:28,  1.09s/it]"
     ]
    },
    {
     "name": "stdout",
     "output_type": "stream",
     "text": [
      "Logical error rate: 0.0\n",
      "Problem_78_gold_416 Error rate = 0.0\n"
     ]
    },
    {
     "name": "stderr",
     "output_type": "stream",
     "text": [
      " 84%|████████▍ | 726/861 [1:42:51<02:25,  1.08s/it]"
     ]
    },
    {
     "name": "stdout",
     "output_type": "stream",
     "text": [
      "Logical error rate: 0.0\n",
      "Problem_164_gold_757 Error rate = 0.0\n"
     ]
    },
    {
     "name": "stderr",
     "output_type": "stream",
     "text": [
      " 84%|████████▍ | 727/861 [1:42:54<03:19,  1.49s/it]"
     ]
    },
    {
     "name": "stdout",
     "output_type": "stream",
     "text": [
      "Logical error rate: 0.03500000000000003\n",
      "Problem_159_gold_837 Error rate = 0.03500000000000003\n"
     ]
    },
    {
     "name": "stderr",
     "output_type": "stream",
     "text": [
      " 85%|████████▍ | 728/861 [1:42:55<02:59,  1.35s/it]"
     ]
    },
    {
     "name": "stdout",
     "output_type": "stream",
     "text": [
      "Logical error rate: 0.0\n",
      "Problem_164_gold_859 Error rate = 0.0\n"
     ]
    },
    {
     "name": "stderr",
     "output_type": "stream",
     "text": [
      " 85%|████████▍ | 729/861 [1:42:56<02:50,  1.29s/it]"
     ]
    },
    {
     "name": "stdout",
     "output_type": "stream",
     "text": [
      "Logical error rate: 0.8049999999999999\n",
      "Problem_93_gold_482 Error rate = 0.8049999999999999\n"
     ]
    },
    {
     "name": "stderr",
     "output_type": "stream",
     "text": [
      " 85%|████████▍ | 730/861 [1:44:28<1:02:23, 28.58s/it]"
     ]
    },
    {
     "name": "stdout",
     "output_type": "stream",
     "text": [
      "Logical error rate: 0.0\n",
      "Problem_62_gold_346 Error rate = 0.0\n"
     ]
    },
    {
     "name": "stderr",
     "output_type": "stream",
     "text": [
      " 85%|████████▍ | 731/861 [1:44:29<44:03, 20.33s/it]  "
     ]
    },
    {
     "name": "stdout",
     "output_type": "stream",
     "text": [
      "Logical error rate: 0.0\n",
      "Problem_48_gold_181 Error rate = 0.0\n"
     ]
    },
    {
     "name": "stderr",
     "output_type": "stream",
     "text": [
      " 85%|████████▌ | 732/861 [1:44:30<31:17, 14.55s/it]"
     ]
    },
    {
     "name": "stdout",
     "output_type": "stream",
     "text": [
      "Logical error rate: 0.0\n",
      "Problem_48_gold_257 Error rate = 0.0\n"
     ]
    },
    {
     "name": "stderr",
     "output_type": "stream",
     "text": [
      " 85%|████████▌ | 733/861 [1:44:32<22:31, 10.56s/it]"
     ]
    },
    {
     "name": "stdout",
     "output_type": "stream",
     "text": [
      "Logical error rate: 1.0\n",
      "Problem_37_gold_208 Error rate = 1.0\n"
     ]
    },
    {
     "name": "stderr",
     "output_type": "stream",
     "text": [
      " 85%|████████▌ | 734/861 [1:44:33<16:22,  7.73s/it]"
     ]
    },
    {
     "name": "stdout",
     "output_type": "stream",
     "text": [
      "Logical error rate: 0.0\n",
      "Problem_46_gold_250 Error rate = 0.0\n"
     ]
    },
    {
     "name": "stderr",
     "output_type": "stream",
     "text": [
      " 85%|████████▌ | 735/861 [1:44:34<12:04,  5.75s/it]"
     ]
    },
    {
     "name": "stdout",
     "output_type": "stream",
     "text": [
      "Logical error rate: 0.125\n",
      "Problem_113_gold_572 Error rate = 0.125\n"
     ]
    },
    {
     "name": "stderr",
     "output_type": "stream",
     "text": [
      " 85%|████████▌ | 736/861 [1:44:35<09:05,  4.37s/it]"
     ]
    },
    {
     "name": "stdout",
     "output_type": "stream",
     "text": [
      "Logical error rate: 0.0\n",
      "Problem_60_gold_336 Error rate = 0.0\n"
     ]
    },
    {
     "name": "stderr",
     "output_type": "stream",
     "text": [
      " 86%|████████▌ | 737/861 [1:44:36<07:00,  3.39s/it]"
     ]
    },
    {
     "name": "stdout",
     "output_type": "stream",
     "text": [
      "Logical error rate: 0.0\n",
      "Problem_22_gold_103 Error rate = 0.0\n"
     ]
    },
    {
     "name": "stderr",
     "output_type": "stream",
     "text": [
      " 86%|████████▌ | 738/861 [1:44:37<05:32,  2.70s/it]"
     ]
    },
    {
     "name": "stdout",
     "output_type": "stream",
     "text": [
      "Logical error rate: 0.0\n",
      "Problem_46_gold_251 Error rate = 0.0\n"
     ]
    },
    {
     "name": "stderr",
     "output_type": "stream",
     "text": [
      " 86%|████████▌ | 739/861 [1:44:38<04:21,  2.14s/it]"
     ]
    },
    {
     "name": "stdout",
     "output_type": "stream",
     "text": [
      "Logical error rate: 0.0\n",
      "Problem_161_gold_749 Error rate = 0.0\n"
     ]
    },
    {
     "name": "stderr",
     "output_type": "stream",
     "text": [
      " 86%|████████▌ | 740/861 [1:44:39<03:42,  1.84s/it]"
     ]
    },
    {
     "name": "stdout",
     "output_type": "stream",
     "text": [
      "Logical error rate: 1.0\n",
      "Problem_139_gold_663 Error rate = 1.0\n"
     ]
    },
    {
     "name": "stderr",
     "output_type": "stream",
     "text": [
      " 86%|████████▌ | 741/861 [1:44:40<03:15,  1.63s/it]"
     ]
    },
    {
     "name": "stdout",
     "output_type": "stream",
     "text": [
      "Logical error rate: 0.0\n",
      "Problem_15_gold_61 Error rate = 0.0\n"
     ]
    },
    {
     "name": "stderr",
     "output_type": "stream",
     "text": [
      " 86%|████████▌ | 742/861 [1:44:42<03:30,  1.77s/it]"
     ]
    },
    {
     "name": "stdout",
     "output_type": "stream",
     "text": [
      "Logical error rate: 0.0\n",
      "Problem_123_gold_607 Error rate = 0.0\n"
     ]
    },
    {
     "name": "stderr",
     "output_type": "stream",
     "text": [
      " 86%|████████▋ | 743/861 [1:44:43<03:06,  1.58s/it]"
     ]
    },
    {
     "name": "stdout",
     "output_type": "stream",
     "text": [
      "Logical error rate: 0.0\n",
      "Problem_160_gold_846 Error rate = 0.0\n"
     ]
    },
    {
     "name": "stderr",
     "output_type": "stream",
     "text": [
      " 86%|████████▋ | 744/861 [1:44:45<02:57,  1.52s/it]"
     ]
    },
    {
     "name": "stdout",
     "output_type": "stream",
     "text": [
      "Logical error rate: 0.0\n",
      "Problem_56_gold_310 Error rate = 0.0\n"
     ]
    },
    {
     "name": "stderr",
     "output_type": "stream",
     "text": [
      " 87%|████████▋ | 745/861 [1:44:46<02:43,  1.41s/it]"
     ]
    },
    {
     "name": "stdout",
     "output_type": "stream",
     "text": [
      "Logical error rate: 0.0\n",
      "Problem_148_gold_764 Error rate = 0.0\n"
     ]
    },
    {
     "name": "stderr",
     "output_type": "stream",
     "text": [
      " 87%|████████▋ | 746/861 [1:44:47<02:33,  1.34s/it]"
     ]
    },
    {
     "name": "stdout",
     "output_type": "stream",
     "text": [
      "Logical error rate: 0.0\n",
      "Problem_37_gold_209 Error rate = 0.0\n"
     ]
    },
    {
     "name": "stderr",
     "output_type": "stream",
     "text": [
      " 87%|████████▋ | 747/861 [1:44:48<02:25,  1.27s/it]"
     ]
    },
    {
     "name": "stdout",
     "output_type": "stream",
     "text": [
      "Logical error rate: 0.0\n",
      "Problem_149_gold_769 Error rate = 0.0\n"
     ]
    },
    {
     "name": "stderr",
     "output_type": "stream",
     "text": [
      " 87%|████████▋ | 748/861 [1:44:50<02:26,  1.30s/it]"
     ]
    },
    {
     "name": "stdout",
     "output_type": "stream",
     "text": [
      "Logical error rate: 0.615\n",
      "Problem_62_gold_273 Error rate = 0.615\n"
     ]
    },
    {
     "name": "stderr",
     "output_type": "stream",
     "text": [
      " 87%|████████▋ | 750/861 [1:44:51<02:00,  1.08s/it]"
     ]
    },
    {
     "name": "stdout",
     "output_type": "stream",
     "text": [
      "Logical error rate: 0.0\n",
      "Problem_88_gold_468 Error rate = 0.0\n"
     ]
    },
    {
     "name": "stderr",
     "output_type": "stream",
     "text": [
      " 87%|████████▋ | 751/861 [1:45:08<10:20,  5.64s/it]"
     ]
    },
    {
     "name": "stdout",
     "output_type": "stream",
     "text": [
      "Logical error rate: 0.0\n",
      "Problem_6_gold_12 Error rate = 0.0\n"
     ]
    },
    {
     "name": "stderr",
     "output_type": "stream",
     "text": [
      " 87%|████████▋ | 753/861 [1:45:09<05:50,  3.25s/it]"
     ]
    },
    {
     "name": "stdout",
     "output_type": "stream",
     "text": [
      "Logical error rate: 0.0\n",
      "Problem_158_gold_727 Error rate = 0.0\n"
     ]
    },
    {
     "name": "stderr",
     "output_type": "stream",
     "text": [
      " 88%|████████▊ | 754/861 [1:45:10<04:36,  2.59s/it]"
     ]
    },
    {
     "name": "stdout",
     "output_type": "stream",
     "text": [
      "Logical error rate: 0.0\n",
      "Problem_160_gold_847 Error rate = 0.0\n"
     ]
    },
    {
     "name": "stderr",
     "output_type": "stream",
     "text": [
      " 88%|████████▊ | 755/861 [1:45:12<03:51,  2.19s/it]"
     ]
    },
    {
     "name": "stdout",
     "output_type": "stream",
     "text": [
      "Logical error rate: 0.0\n",
      "Problem_48_gold_179 Error rate = 0.0\n"
     ]
    },
    {
     "name": "stderr",
     "output_type": "stream",
     "text": [
      " 88%|████████▊ | 756/861 [1:45:13<03:15,  1.86s/it]"
     ]
    },
    {
     "name": "stdout",
     "output_type": "stream",
     "text": [
      "Logical error rate: 0.0\n",
      "Problem_88_gold_451 Error rate = 0.0\n"
     ]
    },
    {
     "name": "stderr",
     "output_type": "stream",
     "text": [
      " 88%|████████▊ | 757/861 [1:45:14<02:49,  1.63s/it]"
     ]
    },
    {
     "name": "stdout",
     "output_type": "stream",
     "text": [
      "Logical error rate: 0.0\n",
      "Problem_44_gold_160 Error rate = 0.0\n"
     ]
    },
    {
     "name": "stderr",
     "output_type": "stream",
     "text": [
      " 88%|████████▊ | 758/861 [1:45:15<02:30,  1.46s/it]"
     ]
    },
    {
     "name": "stdout",
     "output_type": "stream",
     "text": [
      "Logical error rate: 0.83\n",
      "Problem_124_gold_612 Error rate = 0.83\n"
     ]
    },
    {
     "name": "stderr",
     "output_type": "stream",
     "text": [
      " 88%|████████▊ | 759/861 [1:45:16<02:15,  1.33s/it]"
     ]
    },
    {
     "name": "stdout",
     "output_type": "stream",
     "text": [
      "Logical error rate: 0.0\n",
      "Problem_58_gold_321 Error rate = 0.0\n"
     ]
    },
    {
     "name": "stderr",
     "output_type": "stream",
     "text": [
      " 88%|████████▊ | 760/861 [1:45:21<04:10,  2.48s/it]"
     ]
    },
    {
     "name": "stdout",
     "output_type": "stream",
     "text": [
      "Logical error rate: 0.0\n",
      "Problem_7_gold_18 Error rate = 0.0\n"
     ]
    },
    {
     "name": "stderr",
     "output_type": "stream",
     "text": [
      " 88%|████████▊ | 761/861 [1:45:22<03:27,  2.07s/it]"
     ]
    },
    {
     "name": "stdout",
     "output_type": "stream",
     "text": [
      "Logical error rate: 0.0\n",
      "Problem_98_gold_422 Error rate = 0.0\n"
     ]
    },
    {
     "name": "stderr",
     "output_type": "stream",
     "text": [
      " 89%|████████▊ | 762/861 [1:45:23<02:58,  1.80s/it]"
     ]
    },
    {
     "name": "stdout",
     "output_type": "stream",
     "text": [
      "Logical error rate: 0.0\n",
      "Problem_37_gold_207 Error rate = 0.0\n"
     ]
    },
    {
     "name": "stderr",
     "output_type": "stream",
     "text": [
      " 89%|████████▊ | 763/861 [1:45:25<02:57,  1.81s/it]"
     ]
    },
    {
     "name": "stdout",
     "output_type": "stream",
     "text": [
      "Logical error rate: 0.14\n",
      "Problem_36_gold_200 Error rate = 0.14\n"
     ]
    },
    {
     "name": "stderr",
     "output_type": "stream",
     "text": [
      " 89%|████████▊ | 764/861 [1:45:26<02:36,  1.61s/it]"
     ]
    },
    {
     "name": "stdout",
     "output_type": "stream",
     "text": [
      "Logical error rate: 0.0\n",
      "Problem_48_gold_256 Error rate = 0.0\n"
     ]
    },
    {
     "name": "stderr",
     "output_type": "stream",
     "text": [
      " 89%|████████▉ | 765/861 [1:45:28<02:21,  1.47s/it]"
     ]
    },
    {
     "name": "stdout",
     "output_type": "stream",
     "text": [
      "Logical error rate: 0.0\n",
      "Problem_160_gold_746 Error rate = 0.0\n"
     ]
    },
    {
     "name": "stderr",
     "output_type": "stream",
     "text": [
      " 89%|████████▉ | 766/861 [1:45:29<02:11,  1.39s/it]"
     ]
    },
    {
     "name": "stdout",
     "output_type": "stream",
     "text": [
      "Logical error rate: 0.0\n",
      "Problem_95_gold_492 Error rate = 0.0\n"
     ]
    },
    {
     "name": "stderr",
     "output_type": "stream",
     "text": [
      " 89%|████████▉ | 768/861 [1:45:30<01:44,  1.12s/it]"
     ]
    },
    {
     "name": "stdout",
     "output_type": "stream",
     "text": [
      "Logical error rate: 0.0\n",
      "Problem_92_gold_478 Error rate = 0.0\n"
     ]
    },
    {
     "name": "stderr",
     "output_type": "stream",
     "text": [
      " 89%|████████▉ | 769/861 [1:45:38<04:38,  3.03s/it]"
     ]
    },
    {
     "name": "stdout",
     "output_type": "stream",
     "text": [
      "Logical error rate: 0.0\n",
      "Problem_35_gold_197 Error rate = 0.0\n"
     ]
    },
    {
     "name": "stderr",
     "output_type": "stream",
     "text": [
      " 89%|████████▉ | 770/861 [1:45:39<03:54,  2.57s/it]"
     ]
    },
    {
     "name": "stdout",
     "output_type": "stream",
     "text": [
      "Logical error rate: 0.0\n",
      "Problem_151_gold_776 Error rate = 0.0\n"
     ]
    },
    {
     "name": "stderr",
     "output_type": "stream",
     "text": [
      " 90%|████████▉ | 771/861 [1:45:59<11:37,  7.75s/it]"
     ]
    },
    {
     "name": "stdout",
     "output_type": "stream",
     "text": [
      "Logical error rate: 0.0\n",
      "Problem_7_gold_19 Error rate = 0.0\n"
     ]
    },
    {
     "name": "stderr",
     "output_type": "stream",
     "text": [
      " 90%|████████▉ | 772/861 [1:46:00<08:36,  5.80s/it]"
     ]
    },
    {
     "name": "stdout",
     "output_type": "stream",
     "text": [
      "Logical error rate: 0.0\n",
      "Problem_109_gold_564 Error rate = 0.0\n"
     ]
    },
    {
     "name": "stderr",
     "output_type": "stream",
     "text": [
      " 90%|████████▉ | 773/861 [1:46:15<12:17,  8.38s/it]"
     ]
    },
    {
     "name": "stdout",
     "output_type": "stream",
     "text": [
      "Logical error rate: 0.0\n",
      "Problem_163_gold_755 Error rate = 0.0\n"
     ]
    },
    {
     "name": "stderr",
     "output_type": "stream",
     "text": [
      " 90%|████████▉ | 774/861 [1:46:16<08:57,  6.17s/it]"
     ]
    },
    {
     "name": "stdout",
     "output_type": "stream",
     "text": [
      "Logical error rate: 0.0\n",
      "Problem_148_gold_761 Error rate = 0.0\n"
     ]
    },
    {
     "name": "stderr",
     "output_type": "stream",
     "text": [
      " 90%|█████████ | 775/861 [1:46:17<06:40,  4.66s/it]"
     ]
    },
    {
     "name": "stdout",
     "output_type": "stream",
     "text": [
      "Logical error rate: 0.0\n",
      "Problem_143_gold_687 Error rate = 0.0\n"
     ]
    },
    {
     "name": "stderr",
     "output_type": "stream",
     "text": [
      " 90%|█████████ | 776/861 [1:46:18<05:05,  3.59s/it]"
     ]
    },
    {
     "name": "stdout",
     "output_type": "stream",
     "text": [
      "Logical error rate: 0.0\n",
      "Problem_71_gold_374 Error rate = 0.0\n"
     ]
    },
    {
     "name": "stderr",
     "output_type": "stream",
     "text": [
      " 90%|█████████ | 777/861 [1:46:19<04:01,  2.87s/it]"
     ]
    },
    {
     "name": "stdout",
     "output_type": "stream",
     "text": [
      "Logical error rate: 0.29000000000000004\n",
      "Problem_36_gold_199 Error rate = 0.29000000000000004\n"
     ]
    },
    {
     "name": "stderr",
     "output_type": "stream",
     "text": [
      " 90%|█████████ | 778/861 [1:46:20<03:14,  2.34s/it]"
     ]
    },
    {
     "name": "stdout",
     "output_type": "stream",
     "text": [
      "Logical error rate: 0.0\n",
      "Problem_88_gold_453 Error rate = 0.0\n"
     ]
    },
    {
     "name": "stderr",
     "output_type": "stream",
     "text": [
      " 90%|█████████ | 779/861 [1:46:48<13:28,  9.86s/it]"
     ]
    },
    {
     "name": "stdout",
     "output_type": "stream",
     "text": [
      "Logical error rate: 0.0\n",
      "Problem_79_gold_357 Error rate = 0.0\n"
     ]
    },
    {
     "name": "stderr",
     "output_type": "stream",
     "text": [
      " 91%|█████████ | 780/861 [1:46:49<09:45,  7.23s/it]"
     ]
    },
    {
     "name": "stdout",
     "output_type": "stream",
     "text": [
      "Logical error rate: 0.0\n",
      "Problem_88_gold_460 Error rate = 0.0\n"
     ]
    },
    {
     "name": "stderr",
     "output_type": "stream",
     "text": [
      " 91%|█████████ | 781/861 [1:46:50<07:13,  5.41s/it]"
     ]
    },
    {
     "name": "stdout",
     "output_type": "stream",
     "text": [
      "Logical error rate: 0.0\n",
      "Problem_158_gold_716 Error rate = 0.0\n"
     ]
    },
    {
     "name": "stderr",
     "output_type": "stream",
     "text": [
      " 91%|█████████ | 782/861 [1:46:51<05:28,  4.15s/it]"
     ]
    },
    {
     "name": "stdout",
     "output_type": "stream",
     "text": [
      "Logical error rate: 1.0\n",
      "Problem_16_gold_63 Error rate = 1.0\n"
     ]
    },
    {
     "name": "stderr",
     "output_type": "stream",
     "text": [
      " 91%|█████████ | 783/861 [1:46:52<04:12,  3.24s/it]"
     ]
    },
    {
     "name": "stdout",
     "output_type": "stream",
     "text": [
      "Logical error rate: 0.0050000000000000044\n",
      "Problem_136_gold_647 Error rate = 0.0050000000000000044\n"
     ]
    },
    {
     "name": "stderr",
     "output_type": "stream",
     "text": [
      " 91%|█████████ | 784/861 [1:46:54<03:20,  2.61s/it]"
     ]
    },
    {
     "name": "stdout",
     "output_type": "stream",
     "text": [
      "Logical error rate: 0.0\n",
      "Problem_10_gold_27 Error rate = 0.0\n"
     ]
    },
    {
     "name": "stderr",
     "output_type": "stream",
     "text": [
      " 91%|█████████ | 785/861 [1:46:55<02:44,  2.16s/it]"
     ]
    },
    {
     "name": "stdout",
     "output_type": "stream",
     "text": [
      "Logical error rate: 0.0\n",
      "Problem_0_gold_0 Error rate = 0.0\n"
     ]
    },
    {
     "name": "stderr",
     "output_type": "stream",
     "text": [
      " 91%|█████████▏| 786/861 [1:46:56<02:19,  1.86s/it]"
     ]
    },
    {
     "name": "stdout",
     "output_type": "stream",
     "text": [
      "Logical error rate: 0.0\n",
      "Problem_38_gold_212 Error rate = 0.0\n"
     ]
    },
    {
     "name": "stderr",
     "output_type": "stream",
     "text": [
      " 91%|█████████▏| 787/861 [1:46:57<02:00,  1.62s/it]"
     ]
    },
    {
     "name": "stdout",
     "output_type": "stream",
     "text": [
      "Logical error rate: 0.0\n",
      "Problem_45_gold_244 Error rate = 0.0\n"
     ]
    },
    {
     "name": "stderr",
     "output_type": "stream",
     "text": [
      " 92%|█████████▏| 788/861 [1:46:58<01:47,  1.47s/it]"
     ]
    },
    {
     "name": "stdout",
     "output_type": "stream",
     "text": [
      "Logical error rate: 0.0\n",
      "Problem_154_gold_795 Error rate = 0.0\n"
     ]
    },
    {
     "name": "stderr",
     "output_type": "stream",
     "text": [
      " 92%|█████████▏| 789/861 [1:46:59<01:38,  1.37s/it]"
     ]
    },
    {
     "name": "stdout",
     "output_type": "stream",
     "text": [
      "Logical error rate: 0.0\n",
      "Problem_22_gold_106 Error rate = 0.0\n"
     ]
    },
    {
     "name": "stderr",
     "output_type": "stream",
     "text": [
      " 92%|█████████▏| 790/861 [1:47:00<01:32,  1.31s/it]"
     ]
    },
    {
     "name": "stdout",
     "output_type": "stream",
     "text": [
      "Logical error rate: 0.0\n",
      "Problem_158_gold_827 Error rate = 0.0\n"
     ]
    },
    {
     "name": "stderr",
     "output_type": "stream",
     "text": [
      " 92%|█████████▏| 791/861 [1:47:01<01:26,  1.24s/it]"
     ]
    },
    {
     "name": "stdout",
     "output_type": "stream",
     "text": [
      "Logical error rate: 0.0\n",
      "Problem_164_gold_759 Error rate = 0.0\n"
     ]
    },
    {
     "name": "stderr",
     "output_type": "stream",
     "text": [
      " 92%|█████████▏| 792/861 [1:47:02<01:22,  1.20s/it]"
     ]
    },
    {
     "name": "stdout",
     "output_type": "stream",
     "text": [
      "Logical error rate: 0.0\n",
      "Problem_98_gold_502 Error rate = 0.0\n"
     ]
    },
    {
     "name": "stderr",
     "output_type": "stream",
     "text": [
      " 92%|█████████▏| 793/861 [1:47:04<01:19,  1.17s/it]"
     ]
    },
    {
     "name": "stdout",
     "output_type": "stream",
     "text": [
      "Logical error rate: 0.015000000000000013\n",
      "Problem_147_gold_708 Error rate = 0.015000000000000013\n"
     ]
    },
    {
     "name": "stderr",
     "output_type": "stream",
     "text": [
      " 92%|█████████▏| 795/861 [1:47:05<01:08,  1.04s/it]"
     ]
    },
    {
     "name": "stdout",
     "output_type": "stream",
     "text": [
      "Logical error rate: 0.0\n",
      "Problem_46_gold_171 Error rate = 0.0\n"
     ]
    },
    {
     "name": "stderr",
     "output_type": "stream",
     "text": [
      " 92%|█████████▏| 796/861 [1:47:07<01:20,  1.24s/it]"
     ]
    },
    {
     "name": "stdout",
     "output_type": "stream",
     "text": [
      "Logical error rate: 0.0\n",
      "Problem_3_gold_10 Error rate = 0.0\n"
     ]
    },
    {
     "name": "stderr",
     "output_type": "stream",
     "text": [
      " 93%|█████████▎| 797/861 [1:47:08<01:09,  1.08s/it]"
     ]
    },
    {
     "name": "stdout",
     "output_type": "stream",
     "text": [
      "Logical error rate: 0.0\n",
      "Problem_77_gold_404 Error rate = 0.0\n"
     ]
    },
    {
     "name": "stderr",
     "output_type": "stream",
     "text": [
      " 93%|█████████▎| 798/861 [1:47:09<01:09,  1.10s/it]"
     ]
    },
    {
     "name": "stdout",
     "output_type": "stream",
     "text": [
      "Logical error rate: 0.0\n",
      "Problem_94_gold_488 Error rate = 0.0\n"
     ]
    },
    {
     "name": "stderr",
     "output_type": "stream",
     "text": [
      " 93%|█████████▎| 799/861 [1:47:10<01:08,  1.11s/it]"
     ]
    },
    {
     "name": "stdout",
     "output_type": "stream",
     "text": [
      "Logical error rate: 0.0\n",
      "Problem_114_gold_586 Error rate = 0.0\n"
     ]
    },
    {
     "name": "stderr",
     "output_type": "stream",
     "text": [
      " 93%|█████████▎| 800/861 [1:47:11<00:59,  1.02it/s]"
     ]
    },
    {
     "name": "stdout",
     "output_type": "stream",
     "text": [
      "Logical error rate: 0.0\n",
      "Problem_77_gold_403 Error rate = 0.0\n"
     ]
    },
    {
     "name": "stderr",
     "output_type": "stream",
     "text": [
      " 93%|█████████▎| 801/861 [1:47:12<01:00,  1.01s/it]"
     ]
    },
    {
     "name": "stdout",
     "output_type": "stream",
     "text": [
      "Logical error rate: 0.0\n",
      "Problem_160_gold_844 Error rate = 0.0\n"
     ]
    },
    {
     "name": "stderr",
     "output_type": "stream",
     "text": [
      " 93%|█████████▎| 802/861 [1:47:13<01:01,  1.05s/it]"
     ]
    },
    {
     "name": "stdout",
     "output_type": "stream",
     "text": [
      "Logical error rate: 0.15000000000000002\n",
      "Problem_28_gold_132 Error rate = 0.15000000000000002\n"
     ]
    },
    {
     "name": "stderr",
     "output_type": "stream",
     "text": [
      " 93%|█████████▎| 803/861 [1:47:14<00:55,  1.05it/s]"
     ]
    },
    {
     "name": "stdout",
     "output_type": "stream",
     "text": [
      "Logical error rate: 0.0\n",
      "Problem_77_gold_406 Error rate = 0.0\n"
     ]
    },
    {
     "name": "stderr",
     "output_type": "stream",
     "text": [
      " 93%|█████████▎| 804/861 [1:47:15<00:57,  1.00s/it]"
     ]
    },
    {
     "name": "stdout",
     "output_type": "stream",
     "text": [
      "Logical error rate: 0.0\n",
      "Problem_100_gold_525 Error rate = 0.0\n"
     ]
    },
    {
     "name": "stderr",
     "output_type": "stream",
     "text": [
      " 93%|█████████▎| 805/861 [1:47:16<00:58,  1.05s/it]"
     ]
    },
    {
     "name": "stdout",
     "output_type": "stream",
     "text": [
      "Logical error rate: 0.0\n",
      "Problem_65_gold_356 Error rate = 0.0\n"
     ]
    },
    {
     "name": "stderr",
     "output_type": "stream",
     "text": [
      " 94%|█████████▎| 806/861 [1:47:17<00:57,  1.04s/it]"
     ]
    },
    {
     "name": "stdout",
     "output_type": "stream",
     "text": [
      "Logical error rate: 0.0\n",
      "Problem_94_gold_490 Error rate = 0.0\n"
     ]
    },
    {
     "name": "stderr",
     "output_type": "stream",
     "text": [
      " 94%|█████████▎| 807/861 [1:47:18<00:57,  1.06s/it]"
     ]
    },
    {
     "name": "stdout",
     "output_type": "stream",
     "text": [
      "Logical error rate: 0.0\n",
      "Problem_14_gold_56 Error rate = 0.0\n"
     ]
    },
    {
     "name": "stderr",
     "output_type": "stream",
     "text": [
      " 94%|█████████▍| 808/861 [1:47:19<00:57,  1.08s/it]"
     ]
    },
    {
     "name": "stdout",
     "output_type": "stream",
     "text": [
      "Logical error rate: 0.7150000000000001\n",
      "Problem_62_gold_267 Error rate = 0.7150000000000001\n"
     ]
    },
    {
     "name": "stderr",
     "output_type": "stream",
     "text": [
      " 94%|█████████▍| 809/861 [1:47:20<00:58,  1.12s/it]"
     ]
    },
    {
     "name": "stdout",
     "output_type": "stream",
     "text": [
      "Logical error rate: 0.88\n",
      "Problem_74_gold_385 Error rate = 0.88\n"
     ]
    },
    {
     "name": "stderr",
     "output_type": "stream",
     "text": [
      " 94%|█████████▍| 810/861 [1:47:21<00:56,  1.11s/it]"
     ]
    },
    {
     "name": "stdout",
     "output_type": "stream",
     "text": [
      "Logical error rate: 0.0\n",
      "Problem_78_gold_407 Error rate = 0.0\n"
     ]
    },
    {
     "name": "stderr",
     "output_type": "stream",
     "text": [
      " 94%|█████████▍| 811/861 [1:47:30<02:52,  3.46s/it]"
     ]
    },
    {
     "name": "stdout",
     "output_type": "stream",
     "text": [
      "Logical error rate: 0.06000000000000005\n",
      "Problem_76_gold_396 Error rate = 0.06000000000000005\n"
     ]
    },
    {
     "name": "stderr",
     "output_type": "stream",
     "text": [
      " 94%|█████████▍| 812/861 [1:47:31<02:15,  2.76s/it]"
     ]
    },
    {
     "name": "stdout",
     "output_type": "stream",
     "text": [
      "Logical error rate: 0.0\n",
      "Problem_98_gold_501 Error rate = 0.0\n"
     ]
    },
    {
     "name": "stderr",
     "output_type": "stream",
     "text": [
      " 94%|█████████▍| 813/861 [1:47:33<01:48,  2.27s/it]"
     ]
    },
    {
     "name": "stdout",
     "output_type": "stream",
     "text": [
      "Logical error rate: 0.0\n",
      "Problem_158_gold_719 Error rate = 0.0\n"
     ]
    },
    {
     "name": "stderr",
     "output_type": "stream",
     "text": [
      " 95%|█████████▍| 814/861 [1:47:34<01:28,  1.88s/it]"
     ]
    },
    {
     "name": "stdout",
     "output_type": "stream",
     "text": [
      "Logical error rate: 0.0\n",
      "Problem_139_gold_669 Error rate = 0.0\n"
     ]
    },
    {
     "name": "stderr",
     "output_type": "stream",
     "text": [
      " 95%|█████████▍| 815/861 [1:47:35<01:17,  1.69s/it]"
     ]
    },
    {
     "name": "stdout",
     "output_type": "stream",
     "text": [
      "Logical error rate: 0.85\n",
      "Problem_41_gold_150 Error rate = 0.85\n"
     ]
    },
    {
     "name": "stderr",
     "output_type": "stream",
     "text": [
      " 95%|█████████▍| 816/861 [1:47:36<01:09,  1.55s/it]"
     ]
    },
    {
     "name": "stdout",
     "output_type": "stream",
     "text": [
      "Logical error rate: 0.9299999999999999\n",
      "Problem_72_gold_377 Error rate = 0.9299999999999999\n"
     ]
    },
    {
     "name": "stderr",
     "output_type": "stream",
     "text": [
      " 95%|█████████▍| 817/861 [1:47:37<01:02,  1.42s/it]"
     ]
    },
    {
     "name": "stdout",
     "output_type": "stream",
     "text": [
      "Logical error rate: 0.0\n",
      "Problem_45_gold_243 Error rate = 0.0\n"
     ]
    },
    {
     "name": "stderr",
     "output_type": "stream",
     "text": [
      " 95%|█████████▌| 819/861 [1:47:39<00:48,  1.15s/it]"
     ]
    },
    {
     "name": "stdout",
     "output_type": "stream",
     "text": [
      "Logical error rate: 0.03500000000000003\n",
      "Problem_10_gold_30 Error rate = 0.03500000000000003\n"
     ]
    },
    {
     "name": "stderr",
     "output_type": "stream",
     "text": [
      " 95%|█████████▌| 821/861 [1:47:41<00:41,  1.03s/it]"
     ]
    },
    {
     "name": "stdout",
     "output_type": "stream",
     "text": [
      "Logical error rate: 0.7150000000000001\n",
      "Problem_62_gold_343 Error rate = 0.7150000000000001\n"
     ]
    },
    {
     "name": "stderr",
     "output_type": "stream",
     "text": [
      " 95%|█████████▌| 822/861 [1:47:42<00:41,  1.06s/it]"
     ]
    },
    {
     "name": "stdout",
     "output_type": "stream",
     "text": [
      "Logical error rate: 0.0\n",
      "Problem_150_gold_774 Error rate = 0.0\n"
     ]
    },
    {
     "name": "stderr",
     "output_type": "stream",
     "text": [
      " 96%|█████████▌| 823/861 [1:47:43<00:41,  1.10s/it]"
     ]
    },
    {
     "name": "stdout",
     "output_type": "stream",
     "text": [
      "Logical error rate: 0.995\n",
      "Problem_102_gold_529 Error rate = 0.995\n"
     ]
    },
    {
     "name": "stderr",
     "output_type": "stream",
     "text": [
      " 96%|█████████▌| 824/861 [1:47:44<00:41,  1.12s/it]"
     ]
    },
    {
     "name": "stdout",
     "output_type": "stream",
     "text": [
      "Logical error rate: 0.43000000000000005\n",
      "Problem_36_gold_202 Error rate = 0.43000000000000005\n"
     ]
    },
    {
     "name": "stderr",
     "output_type": "stream",
     "text": [
      " 96%|█████████▌| 825/861 [1:47:47<00:55,  1.54s/it]"
     ]
    },
    {
     "name": "stdout",
     "output_type": "stream",
     "text": [
      "Logical error rate: 0.0\n",
      "Problem_41_gold_233 Error rate = 0.0\n"
     ]
    },
    {
     "name": "stderr",
     "output_type": "stream",
     "text": [
      " 96%|█████████▌| 826/861 [1:47:48<00:49,  1.41s/it]"
     ]
    },
    {
     "name": "stdout",
     "output_type": "stream",
     "text": [
      "Logical error rate: 0.0\n",
      "Problem_17_gold_69 Error rate = 0.0\n"
     ]
    },
    {
     "name": "stderr",
     "output_type": "stream",
     "text": [
      " 96%|█████████▌| 827/861 [1:47:49<00:43,  1.27s/it]"
     ]
    },
    {
     "name": "stdout",
     "output_type": "stream",
     "text": [
      "Logical error rate: 0.0\n",
      "Problem_155_gold_798 Error rate = 0.0\n"
     ]
    },
    {
     "name": "stderr",
     "output_type": "stream",
     "text": [
      " 96%|█████████▌| 828/861 [1:47:50<00:40,  1.22s/it]"
     ]
    },
    {
     "name": "stdout",
     "output_type": "stream",
     "text": [
      "Logical error rate: 0.0\n",
      "Problem_160_gold_745 Error rate = 0.0\n"
     ]
    },
    {
     "name": "stderr",
     "output_type": "stream",
     "text": [
      " 96%|█████████▋| 830/861 [1:47:52<00:34,  1.12s/it]"
     ]
    },
    {
     "name": "stdout",
     "output_type": "stream",
     "text": [
      "Logical error rate: 0.99\n",
      "Problem_39_gold_219 Error rate = 0.99\n"
     ]
    },
    {
     "name": "stderr",
     "output_type": "stream",
     "text": [
      " 97%|█████████▋| 831/861 [1:47:53<00:33,  1.12s/it]"
     ]
    },
    {
     "name": "stdout",
     "output_type": "stream",
     "text": [
      "Logical error rate: 0.0\n",
      "Problem_50_gold_288 Error rate = 0.0\n"
     ]
    },
    {
     "name": "stderr",
     "output_type": "stream",
     "text": [
      " 97%|█████████▋| 832/861 [1:48:48<08:21, 17.29s/it]"
     ]
    },
    {
     "name": "stdout",
     "output_type": "stream",
     "text": [
      "Logical error rate: 0.0\n",
      "Problem_153_gold_791 Error rate = 0.0\n"
     ]
    },
    {
     "name": "stderr",
     "output_type": "stream",
     "text": [
      " 97%|█████████▋| 833/861 [1:48:49<05:48, 12.44s/it]"
     ]
    },
    {
     "name": "stdout",
     "output_type": "stream",
     "text": [
      "Logical error rate: 0.0\n",
      "Problem_149_gold_766 Error rate = 0.0\n"
     ]
    },
    {
     "name": "stderr",
     "output_type": "stream",
     "text": [
      " 97%|█████████▋| 834/861 [1:48:50<04:04,  9.06s/it]"
     ]
    },
    {
     "name": "stdout",
     "output_type": "stream",
     "text": [
      "Logical error rate: 1.0\n",
      "Problem_158_gold_824 Error rate = 1.0\n"
     ]
    },
    {
     "name": "stderr",
     "output_type": "stream",
     "text": [
      " 97%|█████████▋| 835/861 [1:48:51<02:53,  6.67s/it]"
     ]
    },
    {
     "name": "stdout",
     "output_type": "stream",
     "text": [
      "Logical error rate: 0.0\n",
      "Problem_158_gold_832 Error rate = 0.0\n"
     ]
    },
    {
     "name": "stderr",
     "output_type": "stream",
     "text": [
      " 97%|█████████▋| 836/861 [1:48:52<02:05,  5.00s/it]"
     ]
    },
    {
     "name": "stdout",
     "output_type": "stream",
     "text": [
      "Logical error rate: 0.0\n",
      "Problem_10_gold_31 Error rate = 0.0\n"
     ]
    },
    {
     "name": "stderr",
     "output_type": "stream",
     "text": [
      " 97%|█████████▋| 837/861 [1:48:53<01:31,  3.83s/it]"
     ]
    },
    {
     "name": "stdout",
     "output_type": "stream",
     "text": [
      "Logical error rate: 0.0050000000000000044\n",
      "Problem_136_gold_652 Error rate = 0.0050000000000000044\n"
     ]
    },
    {
     "name": "stderr",
     "output_type": "stream",
     "text": [
      " 97%|█████████▋| 838/861 [1:48:56<01:17,  3.35s/it]"
     ]
    },
    {
     "name": "stdout",
     "output_type": "stream",
     "text": [
      "Logical error rate: 0.52\n",
      "Problem_144_gold_692 Error rate = 0.52\n"
     ]
    },
    {
     "name": "stderr",
     "output_type": "stream",
     "text": [
      " 97%|█████████▋| 839/861 [1:49:25<04:04, 11.09s/it]"
     ]
    },
    {
     "name": "stdout",
     "output_type": "stream",
     "text": [
      "Logical error rate: 0.0\n",
      "Problem_153_gold_790 Error rate = 0.0\n"
     ]
    },
    {
     "name": "stderr",
     "output_type": "stream",
     "text": [
      " 98%|█████████▊| 841/861 [1:49:26<01:57,  5.88s/it]"
     ]
    },
    {
     "name": "stdout",
     "output_type": "stream",
     "text": [
      "Logical error rate: 0.0\n",
      "Problem_46_gold_248 Error rate = 0.0\n"
     ]
    },
    {
     "name": "stderr",
     "output_type": "stream",
     "text": [
      " 98%|█████████▊| 842/861 [1:49:28<01:24,  4.45s/it]"
     ]
    },
    {
     "name": "stdout",
     "output_type": "stream",
     "text": [
      "Logical error rate: 0.0\n",
      "Problem_19_gold_87 Error rate = 0.0\n"
     ]
    },
    {
     "name": "stderr",
     "output_type": "stream",
     "text": [
      " 98%|█████████▊| 843/861 [1:49:29<01:01,  3.43s/it]"
     ]
    },
    {
     "name": "stdout",
     "output_type": "stream",
     "text": [
      "Logical error rate: 0.375\n",
      "Problem_58_gold_324 Error rate = 0.375\n"
     ]
    },
    {
     "name": "stderr",
     "output_type": "stream",
     "text": [
      " 98%|█████████▊| 844/861 [1:49:30<00:46,  2.74s/it]"
     ]
    },
    {
     "name": "stdout",
     "output_type": "stream",
     "text": [
      "Logical error rate: 0.0\n",
      "Problem_136_gold_646 Error rate = 0.0\n"
     ]
    },
    {
     "name": "stderr",
     "output_type": "stream",
     "text": [
      " 98%|█████████▊| 845/861 [1:49:31<00:35,  2.25s/it]"
     ]
    },
    {
     "name": "stdout",
     "output_type": "stream",
     "text": [
      "Logical error rate: 0.0\n",
      "Problem_88_gold_446 Error rate = 0.0\n"
     ]
    },
    {
     "name": "stderr",
     "output_type": "stream",
     "text": [
      " 98%|█████████▊| 846/861 [1:49:32<00:28,  1.91s/it]"
     ]
    },
    {
     "name": "stdout",
     "output_type": "stream",
     "text": [
      "Logical error rate: 0.0\n",
      "Problem_114_gold_587 Error rate = 0.0\n"
     ]
    },
    {
     "name": "stderr",
     "output_type": "stream",
     "text": [
      " 98%|█████████▊| 847/861 [1:49:33<00:23,  1.67s/it]"
     ]
    },
    {
     "name": "stdout",
     "output_type": "stream",
     "text": [
      "Logical error rate: 0.0\n",
      "Problem_146_gold_703 Error rate = 0.0\n"
     ]
    },
    {
     "name": "stderr",
     "output_type": "stream",
     "text": [
      " 98%|█████████▊| 848/861 [1:49:34<00:19,  1.51s/it]"
     ]
    },
    {
     "name": "stdout",
     "output_type": "stream",
     "text": [
      "Logical error rate: 0.0\n",
      "Problem_158_gold_826 Error rate = 0.0\n"
     ]
    },
    {
     "name": "stderr",
     "output_type": "stream",
     "text": [
      " 99%|█████████▊| 849/861 [1:49:35<00:16,  1.38s/it]"
     ]
    },
    {
     "name": "stdout",
     "output_type": "stream",
     "text": [
      "Logical error rate: 0.0\n",
      "Problem_162_gold_752 Error rate = 0.0\n"
     ]
    },
    {
     "name": "stderr",
     "output_type": "stream",
     "text": [
      " 99%|█████████▊| 850/861 [1:49:36<00:14,  1.29s/it]"
     ]
    },
    {
     "name": "stdout",
     "output_type": "stream",
     "text": [
      "Logical error rate: 0.0\n",
      "Problem_65_gold_355 Error rate = 0.0\n"
     ]
    },
    {
     "name": "stderr",
     "output_type": "stream",
     "text": [
      " 99%|█████████▉| 851/861 [1:49:38<00:12,  1.27s/it]"
     ]
    },
    {
     "name": "stdout",
     "output_type": "stream",
     "text": [
      "Logical error rate: 0.0\n",
      "Problem_105_gold_542 Error rate = 0.0\n"
     ]
    },
    {
     "name": "stderr",
     "output_type": "stream",
     "text": [
      " 99%|█████████▉| 852/861 [1:49:39<00:10,  1.21s/it]"
     ]
    },
    {
     "name": "stdout",
     "output_type": "stream",
     "text": [
      "Logical error rate: 0.0\n",
      "Problem_88_gold_467 Error rate = 0.0\n"
     ]
    },
    {
     "name": "stderr",
     "output_type": "stream",
     "text": [
      " 99%|█████████▉| 853/861 [1:49:40<00:09,  1.18s/it]"
     ]
    },
    {
     "name": "stdout",
     "output_type": "stream",
     "text": [
      "Logical error rate: 0.0\n",
      "Problem_11_gold_32 Error rate = 0.0\n"
     ]
    },
    {
     "name": "stderr",
     "output_type": "stream",
     "text": [
      " 99%|█████████▉| 854/861 [1:49:41<00:07,  1.13s/it]"
     ]
    },
    {
     "name": "stdout",
     "output_type": "stream",
     "text": [
      "Logical error rate: 0.0\n",
      "Problem_44_gold_163 Error rate = 0.0\n"
     ]
    },
    {
     "name": "stderr",
     "output_type": "stream",
     "text": [
      " 99%|█████████▉| 855/861 [1:49:42<00:06,  1.11s/it]"
     ]
    },
    {
     "name": "stdout",
     "output_type": "stream",
     "text": [
      "Logical error rate: 0.0\n",
      "Problem_13_gold_50 Error rate = 0.0\n"
     ]
    },
    {
     "name": "stderr",
     "output_type": "stream",
     "text": [
      " 99%|█████████▉| 856/861 [1:49:43<00:05,  1.11s/it]"
     ]
    },
    {
     "name": "stdout",
     "output_type": "stream",
     "text": [
      "Logical error rate: 0.0\n",
      "Problem_136_gold_645 Error rate = 0.0\n"
     ]
    },
    {
     "name": "stderr",
     "output_type": "stream",
     "text": [
      "100%|█████████▉| 857/861 [1:49:44<00:04,  1.11s/it]"
     ]
    },
    {
     "name": "stdout",
     "output_type": "stream",
     "text": [
      "Logical error rate: 0.0\n",
      "Problem_92_gold_479 Error rate = 0.0\n"
     ]
    },
    {
     "name": "stderr",
     "output_type": "stream",
     "text": [
      "100%|█████████▉| 858/861 [1:49:45<00:03,  1.10s/it]"
     ]
    },
    {
     "name": "stdout",
     "output_type": "stream",
     "text": [
      "Logical error rate: 0.0\n",
      "Problem_152_gold_779 Error rate = 0.0\n"
     ]
    },
    {
     "name": "stderr",
     "output_type": "stream",
     "text": [
      "100%|█████████▉| 859/861 [1:49:46<00:02,  1.10s/it]"
     ]
    },
    {
     "name": "stdout",
     "output_type": "stream",
     "text": [
      "Logical error rate: 0.0\n",
      "Problem_88_gold_456 Error rate = 0.0\n"
     ]
    },
    {
     "name": "stderr",
     "output_type": "stream",
     "text": [
      "100%|█████████▉| 860/861 [1:49:47<00:01,  1.10s/it]"
     ]
    },
    {
     "name": "stdout",
     "output_type": "stream",
     "text": [
      "Logical error rate: 0.0\n",
      "Problem_120_gold_604 Error rate = 0.0\n"
     ]
    },
    {
     "name": "stderr",
     "output_type": "stream",
     "text": [
      "100%|██████████| 861/861 [1:49:48<00:00,  7.65s/it]"
     ]
    },
    {
     "name": "stdout",
     "output_type": "stream",
     "text": [
      "{\"Problem_61_gold_261\": [0.0], \"Problem_158_gold_821\": [0.0], \"Problem_144_gold_694\": [0.52, 0, 2, 4, 6, 7, 8, 9, 10, 12, 13, 14, 15, 16, 17, 19, 21, 23, 24, 25, 27, 30, 32, 33, 36, 38, 39, 42, 43, 44, 45, 47, 48, 49, 50, 51, 53, 54, 55, 57, 60, 66, 67, 68, 69, 70, 71, 72, 74, 75, 76, 77, 78, 83, 84, 87, 88, 89, 91, 93, 94, 96, 98, 102, 104, 106, 113, 118, 120, 122, 123, 129, 130, 131, 133, 134, 136, 143, 144, 145, 146, 151, 152, 155, 156, 158, 161, 163, 164, 167, 168, 170, 171, 172, 173, 176, 180, 181, 183, 185, 186, 189, 193, 194, 196], \"Problem_135_gold_643\": [0.0], \"Problem_144_gold_690\": [0.85, 0, 2, 4, 6, 7, 8, 9, 10, 11, 12, 13, 14, 15, 16, 17, 19, 21, 23, 24, 25, 26, 27, 30, 31, 32, 33, 34, 36, 37, 38, 39, 42, 43, 44, 45, 47, 48, 49, 50, 51, 53, 54, 55, 56, 57, 60, 61, 62, 63, 64, 66, 67, 68, 69, 70, 71, 72, 73, 74, 75, 76, 77, 78, 79, 80, 81, 82, 83, 84, 86, 87, 88, 89, 90, 91, 92, 93, 94, 96, 98, 99, 100, 101, 102, 104, 106, 107, 108, 110, 111, 112, 113, 114, 115, 116, 118, 119, 120, 121, 122, 123, 124, 125, 126, 127, 129, 130, 131, 133, 134, 135, 136, 138, 139, 140, 142, 143, 144, 145, 146, 147, 148, 150, 152, 153, 154, 155, 156, 157, 158, 160, 161, 162, 163, 164, 165, 166, 167, 168, 169, 170, 171, 172, 173, 174, 175, 176, 177, 178, 179, 180, 181, 182, 183, 184, 185, 186, 187, 188, 189, 190, 191, 192, 193, 194, 195, 196, 197, 198, 199], \"Problem_46_gold_170\": [1.0, 0, 1, 2, 3, 4, 5, 6, 7, 8, 9, 10, 11, 12, 13, 14, 15, 16, 17, 18, 19, 20, 21, 22, 23, 24, 25, 26, 27, 28, 29, 30, 31, 32, 33, 34, 35, 36, 37, 38, 39, 40, 41, 42, 43, 44, 45, 46, 47, 48, 49, 50, 51, 52, 53, 54, 55, 56, 57, 58, 59, 60, 61, 62, 63, 64, 65, 66, 67, 68, 69, 70, 71, 72, 73, 74, 75, 76, 77, 78, 79, 80, 81, 82, 83, 84, 85, 86, 87, 88, 89, 90, 91, 92, 93, 94, 95, 96, 97, 98, 99, 100, 101, 102, 103, 104, 105, 106, 107, 108, 109, 110, 111, 112, 113, 114, 115, 116, 117, 118, 119, 120, 121, 122, 123, 124, 125, 126, 127, 128, 129, 130, 131, 132, 133, 134, 135, 136, 137, 138, 139, 140, 141, 142, 143, 144, 145, 146, 147, 148, 149, 150, 151, 152, 153, 154, 155, 156, 157, 158, 159, 160, 161, 162, 163, 164, 165, 166, 167, 168, 169, 170, 171, 172, 173, 174, 175, 176, 177, 178, 179, 180, 181, 182, 183, 184, 185, 186, 187, 188, 189, 190, 191, 192, 193, 194, 195, 196, 197, 198, 199], \"Problem_31_gold_140\": [0.98, 0, 1, 2, 3, 4, 5, 6, 7, 8, 9, 10, 11, 13, 14, 15, 16, 17, 18, 19, 20, 21, 22, 23, 24, 26, 27, 28, 29, 30, 31, 32, 33, 34, 35, 36, 37, 38, 39, 40, 41, 42, 43, 44, 45, 46, 47, 48, 49, 50, 51, 52, 53, 54, 55, 56, 57, 58, 59, 60, 61, 62, 63, 64, 65, 66, 67, 68, 69, 70, 71, 72, 73, 74, 75, 76, 77, 78, 79, 80, 81, 82, 83, 84, 85, 86, 87, 88, 89, 90, 91, 93, 94, 95, 96, 97, 98, 99, 100, 101, 102, 103, 104, 105, 106, 107, 108, 109, 110, 111, 112, 113, 114, 115, 116, 117, 118, 119, 120, 121, 122, 123, 124, 125, 126, 127, 128, 129, 130, 131, 132, 133, 134, 136, 137, 138, 139, 140, 141, 142, 143, 144, 145, 146, 147, 148, 149, 150, 151, 152, 153, 154, 155, 156, 157, 158, 159, 160, 161, 162, 163, 164, 165, 166, 167, 168, 169, 170, 171, 172, 173, 174, 175, 176, 177, 178, 179, 180, 181, 182, 183, 184, 185, 186, 187, 188, 189, 190, 191, 192, 193, 194, 195, 196, 197, 198, 199], \"Problem_55_gold_303\": [0.0], \"Problem_6_gold_14\": [0.0], \"Problem_62_gold_266\": [0.0050000000000000044, 41], \"Problem_70_gold_372\": [0.0], \"Problem_27_gold_125\": [0.0], \"Problem_98_gold_425\": [0.0], \"Problem_75_gold_393\": [0.0], \"Problem_15_gold_62\": [0.0], \"Problem_143_gold_689\": [0.0], \"Problem_88_gold_464\": [0.0], \"Problem_10_gold_25\": [0.0], \"Problem_88_gold_470\": [0.0], \"Problem_39_gold_220\": [1.0, 0, 1, 2, 3, 4, 5, 6, 7, 8, 9, 10, 11, 12, 13, 14, 15, 16, 17, 18, 19, 20, 21, 22, 23, 24, 25, 26, 27, 28, 29, 30, 31, 32, 33, 34, 35, 36, 37, 38, 39, 40, 41, 42, 43, 44, 45, 46, 47, 48, 49, 50, 51, 52, 53, 54, 55, 56, 57, 58, 59, 60, 61, 62, 63, 64, 65, 66, 67, 68, 69, 70, 71, 72, 73, 74, 75, 76, 77, 78, 79, 80, 81, 82, 83, 84, 85, 86, 87, 88, 89, 90, 91, 92, 93, 94, 95, 96, 97, 98, 99, 100, 101, 102, 103, 104, 105, 106, 107, 108, 109, 110, 111, 112, 113, 114, 115, 116, 117, 118, 119, 120, 121, 122, 123, 124, 125, 126, 127, 128, 129, 130, 131, 132, 133, 134, 135, 136, 137, 138, 139, 140, 141, 142, 143, 144, 145, 146, 147, 148, 149, 150, 151, 152, 153, 154, 155, 156, 157, 158, 159, 160, 161, 162, 163, 164, 165, 166, 167, 168, 169, 170, 171, 172, 173, 174, 175, 176, 177, 178, 179, 180, 181, 182, 183, 184, 185, 186, 187, 188, 189, 190, 191, 192, 193, 194, 195, 196, 197, 198, 199], \"Problem_41_gold_232\": [0.0], \"Problem_99_gold_513\": [0.0], \"Problem_44_gold_238\": [0.0], \"Problem_13_gold_54\": [1.0, 0, 1, 2, 3, 4, 5, 6, 7, 8, 9, 10, 11, 12, 13, 14, 15, 16, 17, 18, 19, 20, 21, 22, 23, 24, 25, 26, 27, 28, 29, 30, 31, 32, 33, 34, 35, 36, 37, 38, 39, 40, 41, 42, 43, 44, 45, 46, 47, 48, 49, 50, 51, 52, 53, 54, 55, 56, 57, 58, 59, 60, 61, 62, 63, 64, 65, 66, 67, 68, 69, 70, 71, 72, 73, 74, 75, 76, 77, 78, 79, 80, 81, 82, 83, 84, 85, 86, 87, 88, 89, 90, 91, 92, 93, 94, 95, 96, 97, 98, 99, 100, 101, 102, 103, 104, 105, 106, 107, 108, 109, 110, 111, 112, 113, 114, 115, 116, 117, 118, 119, 120, 121, 122, 123, 124, 125, 126, 127, 128, 129, 130, 131, 132, 133, 134, 135, 136, 137, 138, 139, 140, 141, 142, 143, 144, 145, 146, 147, 148, 149, 150, 151, 152, 153, 154, 155, 156, 157, 158, 159, 160, 161, 162, 163, 164, 165, 166, 167, 168, 169, 170, 171, 172, 173, 174, 175, 176, 177, 178, 179, 180, 181, 182, 183, 184, 185, 186, 187, 188, 189, 190, 191, 192, 193, 194, 195, 196, 197, 198, 199], \"Problem_107_gold_558\": [0.17500000000000004, 2, 4, 5, 6, 7, 8, 9, 10, 11, 14, 15, 22, 23, 24, 26, 28, 32, 34, 36, 38, 40, 42, 43, 46, 49, 53, 60, 64, 67, 71, 74, 122, 126, 159, 163], \"Problem_115_gold_592\": [0.0], \"Problem_12_gold_37\": [0.0], \"Problem_137_gold_658\": [0.0], \"Problem_134_gold_640\": [0.0], \"Problem_20_gold_89\": [0.0], \"Problem_15_gold_60\": [0.18999999999999995, 17, 31, 35, 41, 44, 52, 53, 57, 58, 61, 71, 74, 80, 88, 95, 96, 99, 104, 109, 113, 119, 122, 123, 126, 136, 139, 140, 142, 149, 152, 161, 164, 167, 169, 181, 184, 186, 196], \"Problem_139_gold_665\": [0.0], \"Problem_134_gold_638\": [0.0], \"Problem_114_gold_577\": [0.78, 1, 3, 4, 5, 6, 7, 8, 9, 10, 11, 12, 13, 14, 15, 16, 17, 18, 19, 20, 21, 22, 23, 24, 25, 26, 27, 28, 29, 30, 31, 34, 36, 38, 39, 40, 41, 42, 45, 46, 47, 48, 49, 51, 52, 53, 55, 57, 59, 61, 63, 64, 66, 67, 68, 69, 70, 71, 73, 74, 75, 76, 77, 78, 79, 81, 83, 85, 86, 88, 91, 92, 93, 94, 95, 96, 97, 98, 99, 100, 101, 103, 105, 107, 108, 109, 110, 111, 112, 113, 114, 115, 117, 118, 119, 121, 122, 123, 124, 125, 127, 128, 129, 131, 132, 133, 134, 135, 136, 137, 138, 139, 140, 141, 143, 144, 146, 147, 149, 150, 151, 153, 154, 155, 158, 159, 161, 162, 163, 164, 165, 166, 167, 169, 170, 172, 174, 176, 178, 180, 182, 183, 184, 185, 186, 187, 188, 189, 190, 192, 193, 194, 195, 196, 197, 198, 199], \"Problem_54_gold_300\": [0.0], \"Problem_23_gold_114\": [0.0], \"Problem_60_gold_334\": [0.0], \"Problem_35_gold_194\": [0.0], \"Problem_158_gold_825\": [0.0], \"Problem_96_gold_497\": [0.0], \"Problem_45_gold_242\": [0.0], \"Problem_67_gold_368\": [0.0], \"Problem_67_gold_364\": [0.0], \"Problem_40_gold_225\": [0.0], \"Problem_144_gold_695\": [0.0], \"Problem_115_gold_591\": [0.0050000000000000044, 2], \"Problem_17_gold_75\": [0.0], \"Problem_41_gold_231\": [0.0], \"Problem_31_gold_143\": [0.585, 2, 3, 5, 6, 8, 10, 13, 14, 16, 17, 18, 20, 23, 24, 26, 27, 29, 31, 32, 33, 36, 37, 38, 41, 42, 43, 46, 47, 50, 51, 53, 54, 56, 57, 59, 60, 62, 63, 65, 66, 67, 68, 71, 72, 74, 76, 77, 80, 81, 83, 85, 86, 88, 91, 93, 94, 96, 98, 99, 101, 102, 105, 106, 108, 109, 111, 112, 114, 115, 116, 117, 119, 120, 121, 122, 123, 124, 125, 128, 129, 130, 132, 133, 136, 137, 139, 141, 143, 148, 150, 151, 153, 157, 159, 160, 161, 162, 163, 165, 166, 168, 169, 172, 173, 175, 176, 178, 179, 181, 183, 185, 190, 195, 196, 197, 198, 199], \"Problem_40_gold_228\": [0.030000000000000027, 2, 4, 6, 22, 47, 138], \"Problem_104_gold_534\": [1.0, 0, 1, 2, 3, 4, 5, 6, 7, 8, 9, 10, 11, 12, 13, 14, 15, 16, 17, 18, 19, 20, 21, 22, 23, 24, 25, 26, 27, 28, 29, 30, 31, 32, 33, 34, 35, 36, 37, 38, 39, 40, 41, 42, 43, 44, 45, 46, 47, 48, 49, 50, 51, 52, 53, 54, 55, 56, 57, 58, 59, 60, 61, 62, 63, 64, 65, 66, 67, 68, 69, 70, 71, 72, 73, 74, 75, 76, 77, 78, 79, 80, 81, 82, 83, 84, 85, 86, 87, 88, 89, 90, 91, 92, 93, 94, 95, 96, 97, 98, 99, 100, 101, 102, 103, 104, 105, 106, 107, 108, 109, 110, 111, 112, 113, 114, 115, 116, 117, 118, 119, 120, 121, 122, 123, 124, 125, 126, 127, 128, 129, 130, 131, 132, 133, 134, 135, 136, 137, 138, 139, 140, 141, 142, 143, 144, 145, 146, 147, 148, 149, 150, 151, 152, 153, 154, 155, 156, 157, 158, 159, 160, 161, 162, 163, 164, 165, 166, 167, 168, 169, 170, 171, 172, 173, 174, 175, 176, 177, 178, 179, 180, 181, 182, 183, 184, 185, 186, 187, 188, 189, 190, 191, 192, 193, 194, 195, 196, 197, 198, 199], \"Problem_130_gold_625\": [1.0, 0, 1, 2, 3, 4, 5, 6, 7, 8, 9, 10, 11, 12, 13, 14, 15, 16, 17, 18, 19, 20, 21, 22, 23, 24, 25, 26, 27, 28, 29, 30, 31, 32, 33, 34, 35, 36, 37, 38, 39, 40, 41, 42, 43, 44, 45, 46, 47, 48, 49, 50, 51, 52, 53, 54, 55, 56, 57, 58, 59, 60, 61, 62, 63, 64, 65, 66, 67, 68, 69, 70, 71, 72, 73, 74, 75, 76, 77, 78, 79, 80, 81, 82, 83, 84, 85, 86, 87, 88, 89, 90, 91, 92, 93, 94, 95, 96, 97, 98, 99, 100, 101, 102, 103, 104, 105, 106, 107, 108, 109, 110, 111, 112, 113, 114, 115, 116, 117, 118, 119, 120, 121, 122, 123, 124, 125, 126, 127, 128, 129, 130, 131, 132, 133, 134, 135, 136, 137, 138, 139, 140, 141, 142, 143, 144, 145, 146, 147, 148, 149, 150, 151, 152, 153, 154, 155, 156, 157, 158, 159, 160, 161, 162, 163, 164, 165, 166, 167, 168, 169, 170, 171, 172, 173, 174, 175, 176, 177, 178, 179, 180, 181, 182, 183, 184, 185, 186, 187, 188, 189, 190, 191, 192, 193, 194, 195, 196, 197, 198, 199], \"Problem_56_gold_308\": [0.0], \"Problem_144_gold_693\": [0.05500000000000005, 12, 16, 42, 50, 67, 74, 78, 118, 129, 151, 171], \"Problem_59_gold_329\": [0.0], \"Problem_158_gold_816\": [1.0, 0, 1, 2, 3, 4, 5, 6, 7, 8, 9, 10, 11, 12, 13, 14, 15, 16, 17, 18, 19, 20, 21, 22, 23, 24, 25, 26, 27, 28, 29, 30, 31, 32, 33, 34, 35, 36, 37, 38, 39, 40, 41, 42, 43, 44, 45, 46, 47, 48, 49, 50, 51, 52, 53, 54, 55, 56, 57, 58, 59, 60, 61, 62, 63, 64, 65, 66, 67, 68, 69, 70, 71, 72, 73, 74, 75, 76, 77, 78, 79, 80, 81, 82, 83, 84, 85, 86, 87, 88, 89, 90, 91, 92, 93, 94, 95, 96, 97, 98, 99, 100, 101, 102, 103, 104, 105, 106, 107, 108, 109, 110, 111, 112, 113, 114, 115, 116, 117, 118, 119, 120, 121, 122, 123, 124, 125, 126, 127, 128, 129, 130, 131, 132, 133, 134, 135, 136, 137, 138, 139, 140, 141, 142, 143, 144, 145, 146, 147, 148, 149, 150, 151, 152, 153, 154, 155, 156, 157, 158, 159, 160, 161, 162, 163, 164, 165, 166, 167, 168, 169, 170, 171, 172, 173, 174, 175, 176, 177, 178, 179, 180, 181, 182, 183, 184, 185, 186, 187, 188, 189, 190, 191, 192, 193, 194, 195, 196, 197, 198, 199], \"Problem_158_gold_829\": [0.32999999999999996, 0, 2, 3, 6, 8, 12, 13, 15, 17, 18, 19, 20, 23, 25, 26, 27, 29, 30, 33, 35, 40, 44, 46, 48, 50, 53, 55, 57, 59, 62, 66, 68, 70, 88, 92, 95, 98, 99, 102, 104, 107, 110, 111, 113, 115, 121, 123, 127, 130, 136, 140, 141, 143, 148, 153, 154, 156, 157, 166, 171, 174, 178, 180, 181, 184, 186], \"Problem_98_gold_503\": [0.0], \"Problem_139_gold_670\": [0.0], \"Problem_160_gold_747\": [0.0], \"Problem_0_gold_2\": [0.0], \"Problem_80_gold_359\": [0.0], \"Problem_14_gold_57\": [0.0], \"Problem_27_gold_130\": [1.0, 0, 1, 2, 3, 4, 5, 6, 7, 8, 9, 10, 11, 12, 13, 14, 15, 16, 17, 18, 19, 20, 21, 22, 23, 24, 25, 26, 27, 28, 29, 30, 31, 32, 33, 34, 35, 36, 37, 38, 39, 40, 41, 42, 43, 44, 45, 46, 47, 48, 49, 50, 51, 52, 53, 54, 55, 56, 57, 58, 59, 60, 61, 62, 63, 64, 65, 66, 67, 68, 69, 70, 71, 72, 73, 74, 75, 76, 77, 78, 79, 80, 81, 82, 83, 84, 85, 86, 87, 88, 89, 90, 91, 92, 93, 94, 95, 96, 97, 98, 99, 100, 101, 102, 103, 104, 105, 106, 107, 108, 109, 110, 111, 112, 113, 114, 115, 116, 117, 118, 119, 120, 121, 122, 123, 124, 125, 126, 127, 128, 129, 130, 131, 132, 133, 134, 135, 136, 137, 138, 139, 140, 141, 142, 143, 144, 145, 146, 147, 148, 149, 150, 151, 152, 153, 154, 155, 156, 157, 158, 159, 160, 161, 162, 163, 164, 165, 166, 167, 168, 169, 170, 171, 172, 173, 174, 175, 176, 177, 178, 179, 180, 181, 182, 183, 184, 185, 186, 187, 188, 189, 190, 191, 192, 193, 194, 195, 196, 197, 198, 199], \"Problem_8_gold_21\": [0.0], \"Problem_163_gold_858\": [0.0], \"Problem_136_gold_656\": [0.0], \"Problem_114_gold_582\": [0.78, 1, 3, 4, 5, 6, 7, 8, 9, 10, 11, 12, 13, 14, 15, 16, 17, 18, 19, 20, 21, 22, 23, 24, 25, 26, 27, 28, 29, 30, 31, 34, 36, 38, 39, 40, 41, 42, 45, 46, 47, 48, 49, 51, 52, 53, 55, 57, 59, 61, 63, 64, 66, 67, 68, 69, 70, 71, 73, 74, 75, 76, 77, 78, 79, 81, 83, 85, 86, 88, 91, 92, 93, 94, 95, 96, 97, 98, 99, 100, 101, 103, 105, 107, 108, 109, 110, 111, 112, 113, 114, 115, 117, 118, 119, 121, 122, 123, 124, 125, 127, 128, 129, 131, 132, 133, 134, 135, 136, 137, 138, 139, 140, 141, 143, 144, 146, 147, 149, 150, 151, 153, 154, 155, 158, 159, 161, 162, 163, 164, 165, 166, 167, 169, 170, 172, 174, 176, 178, 180, 182, 183, 184, 185, 186, 187, 188, 189, 190, 192, 193, 194, 195, 196, 197, 198, 199], \"Problem_158_gold_718\": [0.0], \"Problem_98_gold_428\": [0.0], \"Problem_121_gold_606\": [0.0], \"Problem_13_gold_42\": [0.0], \"Problem_11_gold_35\": [0.0], \"Problem_158_gold_717\": [0.0], \"Problem_154_gold_792\": [1.0, 0, 1, 2, 3, 4, 5, 6, 7, 8, 9, 10, 11, 12, 13, 14, 15, 16, 17, 18, 19, 20, 21, 22, 23, 24, 25, 26, 27, 28, 29, 30, 31, 32, 33, 34, 35, 36, 37, 38, 39, 40, 41, 42, 43, 44, 45, 46, 47, 48, 49, 50, 51, 52, 53, 54, 55, 56, 57, 58, 59, 60, 61, 62, 63, 64, 65, 66, 67, 68, 69, 70, 71, 72, 73, 74, 75, 76, 77, 78, 79, 80, 81, 82, 83, 84, 85, 86, 87, 88, 89, 90, 91, 92, 93, 94, 95, 96, 97, 98, 99, 100, 101, 102, 103, 104, 105, 106, 107, 108, 109, 110, 111, 112, 113, 114, 115, 116, 117, 118, 119, 120, 121, 122, 123, 124, 125, 126, 127, 128, 129, 130, 131, 132, 133, 134, 135, 136, 137, 138, 139, 140, 141, 142, 143, 144, 145, 146, 147, 148, 149, 150, 151, 152, 153, 154, 155, 156, 157, 158, 159, 160, 161, 162, 163, 164, 165, 166, 167, 168, 169, 170, 171, 172, 173, 174, 175, 176, 177, 178, 179, 180, 181, 182, 183, 184, 185, 186, 187, 188, 189, 190, 191, 192, 193, 194, 195, 196, 197, 198, 199], \"Problem_16_gold_66\": [1.0, 0, 1, 2, 3, 4, 5, 6, 7, 8, 9, 10, 11, 12, 13, 14, 15, 16, 17, 18, 19, 20, 21, 22, 23, 24, 25, 26, 27, 28, 29, 30, 31, 32, 33, 34, 35, 36, 37, 38, 39, 40, 41, 42, 43, 44, 45, 46, 47, 48, 49, 50, 51, 52, 53, 54, 55, 56, 57, 58, 59, 60, 61, 62, 63, 64, 65, 66, 67, 68, 69, 70, 71, 72, 73, 74, 75, 76, 77, 78, 79, 80, 81, 82, 83, 84, 85, 86, 87, 88, 89, 90, 91, 92, 93, 94, 95, 96, 97, 98, 99, 100, 101, 102, 103, 104, 105, 106, 107, 108, 109, 110, 111, 112, 113, 114, 115, 116, 117, 118, 119, 120, 121, 122, 123, 124, 125, 126, 127, 128, 129, 130, 131, 132, 133, 134, 135, 136, 137, 138, 139, 140, 141, 142, 143, 144, 145, 146, 147, 148, 149, 150, 151, 152, 153, 154, 155, 156, 157, 158, 159, 160, 161, 162, 163, 164, 165, 166, 167, 168, 169, 170, 171, 172, 173, 174, 175, 176, 177, 178, 179, 180, 181, 182, 183, 184, 185, 186, 187, 188, 189, 190, 191, 192, 193, 194, 195, 196, 197, 198, 199], \"Problem_98_gold_423\": [0.0], \"Problem_108_gold_560\": [0.0], \"Problem_99_gold_523\": [0.0], \"Problem_34_gold_189\": [0.0], \"Problem_30_gold_135\": [0.0], \"Problem_49_gold_281\": [0.0], \"Problem_158_gold_714\": [0.0], \"Problem_147_gold_706\": [0.965, 0, 2, 3, 5, 7, 9, 11, 13, 14, 15, 16, 17, 18, 19, 20, 21, 22, 23, 24, 25, 26, 27, 28, 29, 30, 31, 32, 33, 34, 35, 36, 37, 38, 39, 40, 41, 42, 43, 44, 45, 46, 47, 48, 49, 50, 51, 52, 53, 54, 55, 56, 57, 58, 59, 60, 61, 62, 63, 64, 65, 66, 67, 68, 69, 70, 71, 72, 73, 74, 75, 76, 77, 78, 79, 80, 81, 82, 83, 84, 85, 86, 87, 88, 89, 90, 91, 92, 93, 94, 95, 96, 97, 98, 99, 100, 101, 103, 104, 105, 106, 107, 108, 109, 110, 111, 112, 113, 114, 115, 116, 117, 118, 119, 120, 121, 122, 123, 124, 125, 126, 127, 128, 129, 130, 131, 132, 133, 134, 135, 136, 137, 138, 139, 140, 141, 142, 143, 144, 145, 146, 147, 148, 149, 150, 151, 152, 153, 154, 155, 156, 157, 158, 159, 160, 161, 162, 163, 164, 165, 166, 167, 168, 169, 170, 171, 172, 173, 174, 175, 176, 177, 178, 179, 180, 181, 182, 183, 184, 185, 186, 187, 188, 189, 190, 191, 192, 193, 194, 195, 196, 197, 198, 199], \"Problem_149_gold_768\": [0.0], \"Problem_157_gold_709\": [0.0], \"Problem_31_gold_141\": [1.0, 0, 1, 2, 3, 4, 5, 6, 7, 8, 9, 10, 11, 12, 13, 14, 15, 16, 17, 18, 19, 20, 21, 22, 23, 24, 25, 26, 27, 28, 29, 30, 31, 32, 33, 34, 35, 36, 37, 38, 39, 40, 41, 42, 43, 44, 45, 46, 47, 48, 49, 50, 51, 52, 53, 54, 55, 56, 57, 58, 59, 60, 61, 62, 63, 64, 65, 66, 67, 68, 69, 70, 71, 72, 73, 74, 75, 76, 77, 78, 79, 80, 81, 82, 83, 84, 85, 86, 87, 88, 89, 90, 91, 92, 93, 94, 95, 96, 97, 98, 99, 100, 101, 102, 103, 104, 105, 106, 107, 108, 109, 110, 111, 112, 113, 114, 115, 116, 117, 118, 119, 120, 121, 122, 123, 124, 125, 126, 127, 128, 129, 130, 131, 132, 133, 134, 135, 136, 137, 138, 139, 140, 141, 142, 143, 144, 145, 146, 147, 148, 149, 150, 151, 152, 153, 154, 155, 156, 157, 158, 159, 160, 161, 162, 163, 164, 165, 166, 167, 168, 169, 170, 171, 172, 173, 174, 175, 176, 177, 178, 179, 180, 181, 182, 183, 184, 185, 186, 187, 188, 189, 190, 191, 192, 193, 194, 195, 196, 197, 198, 199], \"Problem_159_gold_735\": [0.030000000000000027, 32, 57, 78, 102, 105, 186], \"Problem_23_gold_111\": [0.0], \"Problem_160_gold_850\": [0.0], \"Problem_138_gold_661\": [0.0], \"Problem_15_gold_58\": [0.09499999999999997, 0, 4, 5, 6, 8, 20, 21, 35, 59, 60, 61, 80, 98, 104, 113, 126, 131, 140, 142], \"Problem_106_gold_549\": [0.0], \"Problem_20_gold_90\": [0.0], \"Problem_60_gold_333\": [0.0], \"Problem_94_gold_485\": [0.0], \"Problem_36_gold_201\": [0.41000000000000003, 0, 3, 4, 6, 7, 8, 9, 10, 11, 12, 13, 14, 15, 16, 17, 18, 19, 22, 25, 26, 27, 28, 29, 30, 31, 32, 33, 34, 35, 36, 37, 38, 39, 42, 48, 49, 50, 52, 57, 60, 63, 64, 68, 84, 85, 87, 112, 114, 116, 121, 127, 128, 129, 133, 134, 136, 138, 139, 140, 141, 142, 143, 145, 150, 151, 153, 155, 156, 161, 162, 163, 172, 176, 177, 178, 182, 186, 189, 192, 194, 197, 198], \"Problem_146_gold_699\": [0.0], \"Problem_13_gold_47\": [0.41000000000000003, 2, 5, 9, 13, 14, 15, 20, 21, 22, 23, 24, 26, 27, 29, 30, 31, 34, 37, 39, 42, 45, 46, 49, 53, 55, 58, 60, 63, 64, 66, 70, 73, 76, 78, 81, 83, 88, 90, 91, 93, 95, 101, 102, 104, 108, 109, 112, 113, 117, 118, 119, 120, 121, 122, 123, 124, 125, 128, 131, 133, 136, 139, 140, 142, 143, 146, 152, 155, 157, 159, 160, 162, 166, 174, 176, 181, 182, 185, 187, 192, 195, 198], \"Problem_40_gold_227\": [0.14, 1, 2, 4, 6, 15, 20, 22, 25, 26, 32, 33, 38, 46, 47, 79, 114, 128, 130, 136, 138, 140, 147, 148, 169, 185, 193, 196, 197], \"Problem_48_gold_182\": [0.0], \"Problem_84_gold_441\": [0.0], \"Problem_93_gold_480\": [0.0], \"Problem_58_gold_323\": [0.0], \"Problem_136_gold_654\": [0.0], \"Problem_144_gold_691\": [0.025000000000000022, 101, 135, 157, 172, 193], \"Problem_158_gold_835\": [0.0], \"Problem_52_gold_292\": [1.0, 0, 1, 2, 3, 4, 5, 6, 7, 8, 9, 10, 11, 12, 13, 14, 15, 16, 17, 18, 19, 20, 21, 22, 23, 24, 25, 26, 27, 28, 29, 30, 31, 32, 33, 34, 35, 36, 37, 38, 39, 40, 41, 42, 43, 44, 45, 46, 47, 48, 49, 50, 51, 52, 53, 54, 55, 56, 57, 58, 59, 60, 61, 62, 63, 64, 65, 66, 67, 68, 69, 70, 71, 72, 73, 74, 75, 76, 77, 78, 79, 80, 81, 82, 83, 84, 85, 86, 87, 88, 89, 90, 91, 92, 93, 94, 95, 96, 97, 98, 99, 100, 101, 102, 103, 104, 105, 106, 107, 108, 109, 110, 111, 112, 113, 114, 115, 116, 117, 118, 119, 120, 121, 122, 123, 124, 125, 126, 127, 128, 129, 130, 131, 132, 133, 134, 135, 136, 137, 138, 139, 140, 141, 142, 143, 144, 145, 146, 147, 148, 149, 150, 151, 152, 153, 154, 155, 156, 157, 158, 159, 160, 161, 162, 163, 164, 165, 166, 167, 168, 169, 170, 171, 172, 173, 174, 175, 176, 177, 178, 179, 180, 181, 182, 183, 184, 185, 186, 187, 188, 189, 190, 191, 192, 193, 194, 195, 196, 197, 198, 199], \"Problem_164_gold_758\": [0.1853932584269663, 0, 4, 13, 15, 17, 20, 21, 22, 24, 26, 35, 38, 44, 45, 46, 51, 52, 53, 58, 61, 63, 68, 69, 74, 79, 105, 108, 116, 117, 119, 126, 137, 162], \"Problem_40_gold_149\": [0.030000000000000027, 2, 4, 6, 22, 47, 138], \"Problem_141_gold_677\": [0.0], \"Problem_94_gold_489\": [0.0], \"Problem_158_gold_833\": [0.0], \"Problem_114_gold_576\": [0.78, 1, 3, 4, 5, 6, 7, 8, 9, 10, 11, 12, 13, 14, 15, 16, 17, 18, 19, 20, 21, 22, 23, 24, 25, 26, 27, 28, 29, 30, 31, 34, 36, 38, 39, 40, 41, 42, 45, 46, 47, 48, 49, 51, 52, 53, 55, 57, 59, 61, 63, 64, 66, 67, 68, 69, 70, 71, 73, 74, 75, 76, 77, 78, 79, 81, 83, 85, 86, 88, 91, 92, 93, 94, 95, 96, 97, 98, 99, 100, 101, 103, 105, 107, 108, 109, 110, 111, 112, 113, 114, 115, 117, 118, 119, 121, 122, 123, 124, 125, 127, 128, 129, 131, 132, 133, 134, 135, 136, 137, 138, 139, 140, 141, 143, 144, 146, 147, 149, 150, 151, 153, 154, 155, 158, 159, 161, 162, 163, 164, 165, 166, 167, 169, 170, 172, 174, 176, 178, 180, 182, 183, 184, 185, 186, 187, 188, 189, 190, 192, 193, 194, 195, 196, 197, 198, 199], \"Problem_114_gold_589\": [0.0], \"Problem_62_gold_269\": [0.625, 0, 1, 3, 4, 5, 7, 9, 10, 11, 14, 15, 23, 25, 26, 28, 30, 31, 33, 35, 36, 37, 39, 42, 44, 45, 46, 47, 48, 50, 51, 52, 55, 56, 59, 61, 62, 63, 64, 65, 66, 67, 68, 69, 70, 71, 73, 74, 76, 77, 79, 81, 82, 83, 84, 85, 86, 87, 89, 90, 91, 92, 93, 95, 96, 98, 101, 103, 104, 105, 106, 107, 108, 109, 111, 113, 114, 115, 116, 119, 120, 124, 125, 126, 127, 128, 130, 133, 136, 137, 139, 142, 143, 144, 146, 149, 150, 151, 153, 154, 155, 156, 157, 159, 160, 162, 163, 165, 166, 167, 168, 170, 171, 172, 174, 177, 179, 180, 181, 183, 184, 185, 186, 187, 188, 197], \"Problem_57_gold_315\": [0.21999999999999997, 2, 7, 9, 13, 14, 16, 27, 28, 32, 34, 36, 44, 45, 50, 51, 58, 62, 64, 68, 70, 74, 80, 82, 84, 86, 92, 94, 96, 98, 104, 106, 109, 115, 117, 124, 132, 149, 152, 154, 157, 159, 185, 191, 193], \"Problem_84_gold_443\": [0.0], \"Problem_106_gold_546\": [0.0], \"Problem_41_gold_234\": [0.825, 0, 1, 2, 3, 4, 5, 7, 8, 9, 10, 11, 13, 14, 15, 16, 17, 18, 20, 21, 22, 23, 24, 25, 26, 27, 28, 31, 32, 33, 34, 35, 36, 38, 39, 40, 41, 42, 43, 47, 48, 49, 50, 51, 52, 54, 56, 57, 58, 59, 60, 61, 62, 65, 67, 69, 71, 72, 73, 74, 75, 76, 77, 78, 79, 80, 81, 82, 84, 85, 86, 87, 88, 89, 90, 93, 94, 95, 96, 97, 98, 99, 100, 101, 103, 104, 106, 107, 109, 111, 112, 113, 114, 115, 116, 117, 118, 119, 120, 122, 123, 124, 125, 126, 127, 128, 130, 131, 132, 134, 135, 136, 137, 139, 140, 143, 145, 146, 147, 148, 149, 150, 151, 152, 153, 154, 155, 156, 157, 158, 159, 160, 161, 162, 163, 164, 166, 167, 168, 169, 170, 171, 172, 173, 174, 175, 176, 177, 178, 180, 181, 182, 183, 184, 185, 186, 188, 189, 191, 192, 193, 194, 195, 196, 198, 199], \"Problem_152_gold_783\": [0.5919540229885057, 0, 1, 3, 4, 7, 8, 9, 10, 11, 12, 13, 14, 15, 17, 18, 19, 20, 21, 24, 25, 27, 30, 32, 33, 35, 36, 37, 38, 40, 41, 43, 47, 48, 49, 50, 51, 52, 54, 55, 56, 58, 59, 60, 61, 63, 66, 67, 68, 69, 70, 71, 72, 73, 74, 75, 77, 78, 79, 80, 81, 83, 84, 85, 86, 90, 95, 97, 98, 99, 106, 107, 110, 111, 113, 114, 119, 123, 125, 126, 130, 133, 135, 137, 139, 140, 142, 143, 144, 146, 150, 151, 152, 153, 155, 157, 158, 163, 164, 166, 170, 171, 172, 173], \"Problem_99_gold_511\": [0.0], \"Problem_17_gold_73\": [0.0], \"Problem_158_gold_823\": [0.0], \"Problem_67_gold_361\": [0.0], \"Problem_27_gold_122\": [0.0], \"Problem_82_gold_433\": [0.0], \"Problem_119_gold_601\": [0.0], \"Problem_45_gold_166\": [0.0], \"Problem_13_gold_55\": [0.0], \"Problem_88_gold_450\": [0.0], \"Problem_39_gold_213\": [0.99, 0, 1, 2, 3, 4, 5, 6, 7, 8, 9, 10, 11, 12, 13, 14, 15, 16, 17, 18, 19, 20, 21, 22, 23, 24, 25, 26, 27, 28, 29, 30, 31, 32, 33, 34, 35, 36, 37, 38, 39, 40, 41, 42, 43, 44, 45, 46, 47, 48, 49, 50, 51, 52, 54, 55, 56, 57, 58, 59, 60, 61, 62, 63, 64, 65, 66, 67, 68, 69, 70, 71, 72, 73, 74, 75, 76, 77, 78, 79, 80, 81, 82, 83, 84, 85, 86, 87, 88, 89, 90, 91, 92, 93, 94, 95, 96, 97, 98, 99, 100, 101, 102, 103, 104, 105, 106, 107, 108, 109, 110, 111, 112, 113, 114, 115, 116, 117, 118, 119, 120, 121, 122, 123, 124, 125, 126, 127, 128, 129, 130, 131, 132, 133, 134, 135, 136, 137, 138, 139, 140, 141, 142, 143, 144, 145, 146, 147, 148, 149, 150, 151, 152, 153, 154, 155, 156, 157, 158, 159, 160, 161, 162, 163, 164, 165, 166, 167, 168, 169, 170, 171, 172, 173, 174, 175, 176, 177, 178, 179, 180, 181, 182, 183, 184, 185, 186, 187, 188, 189, 190, 191, 192, 193, 194, 195, 197, 198, 199], \"Problem_99_gold_519\": [0.0], \"Problem_134_gold_641\": [0.0], \"Problem_106_gold_545\": [0.0], \"Problem_82_gold_437\": [0.0], \"Problem_78_gold_417\": [0.0], \"Problem_23_gold_110\": [0.0], \"Problem_145_gold_696\": [0.0], \"Problem_74_gold_382\": [0.88, 0, 1, 2, 4, 6, 7, 8, 9, 10, 11, 13, 14, 15, 16, 17, 18, 21, 22, 23, 24, 25, 26, 28, 29, 30, 32, 33, 34, 35, 36, 37, 38, 41, 42, 43, 44, 45, 46, 47, 48, 49, 50, 51, 52, 53, 54, 55, 56, 57, 58, 59, 60, 62, 63, 64, 65, 66, 67, 68, 70, 71, 72, 73, 75, 76, 77, 78, 79, 80, 81, 82, 83, 85, 86, 87, 88, 89, 91, 92, 93, 94, 95, 96, 97, 98, 99, 100, 101, 102, 103, 104, 105, 106, 107, 108, 109, 110, 111, 112, 113, 114, 116, 117, 118, 119, 120, 121, 122, 123, 124, 125, 126, 127, 129, 131, 132, 133, 134, 135, 136, 137, 138, 139, 140, 141, 142, 143, 144, 145, 146, 147, 148, 149, 150, 151, 152, 153, 154, 155, 158, 159, 160, 161, 162, 163, 164, 165, 166, 167, 168, 169, 171, 172, 173, 174, 175, 176, 177, 178, 179, 180, 181, 182, 183, 184, 187, 188, 189, 191, 192, 193, 194, 195, 196, 197, 199], \"Problem_99_gold_520\": [0.0], \"Problem_146_gold_704\": [0.0], \"Problem_39_gold_217\": [1.0, 0, 1, 2, 3, 4, 5, 6, 7, 8, 9, 10, 11, 12, 13, 14, 15, 16, 17, 18, 19, 20, 21, 22, 23, 24, 25, 26, 27, 28, 29, 30, 31, 32, 33, 34, 35, 36, 37, 38, 39, 40, 41, 42, 43, 44, 45, 46, 47, 48, 49, 50, 51, 52, 53, 54, 55, 56, 57, 58, 59, 60, 61, 62, 63, 64, 65, 66, 67, 68, 69, 70, 71, 72, 73, 74, 75, 76, 77, 78, 79, 80, 81, 82, 83, 84, 85, 86, 87, 88, 89, 90, 91, 92, 93, 94, 95, 96, 97, 98, 99, 100, 101, 102, 103, 104, 105, 106, 107, 108, 109, 110, 111, 112, 113, 114, 115, 116, 117, 118, 119, 120, 121, 122, 123, 124, 125, 126, 127, 128, 129, 130, 131, 132, 133, 134, 135, 136, 137, 138, 139, 140, 141, 142, 143, 144, 145, 146, 147, 148, 149, 150, 151, 152, 153, 154, 155, 156, 157, 158, 159, 160, 161, 162, 163, 164, 165, 166, 167, 168, 169, 170, 171, 172, 173, 174, 175, 176, 177, 178, 179, 180, 181, 182, 183, 184, 185, 186, 187, 188, 189, 190, 191, 192, 193, 194, 195, 196, 197, 198, 199], \"Problem_59_gold_328\": [0.0], \"Problem_17_gold_76\": [0.0], \"Problem_31_gold_145\": [0.0], \"Problem_160_gold_737\": [0.0], \"Problem_10_gold_29\": [0.0], \"Problem_96_gold_499\": [0.635, 3, 5, 7, 8, 10, 11, 12, 13, 14, 15, 17, 18, 19, 20, 21, 23, 25, 26, 27, 29, 34, 35, 36, 40, 42, 44, 46, 47, 48, 49, 50, 52, 53, 54, 55, 59, 60, 62, 63, 64, 65, 67, 68, 69, 74, 77, 78, 79, 80, 81, 82, 83, 84, 85, 86, 88, 89, 91, 92, 93, 94, 95, 96, 100, 101, 105, 107, 108, 109, 113, 114, 116, 117, 118, 121, 122, 123, 125, 126, 127, 129, 130, 131, 132, 134, 136, 137, 138, 140, 141, 142, 143, 145, 146, 148, 149, 152, 153, 154, 155, 156, 158, 160, 161, 163, 164, 166, 167, 171, 173, 174, 177, 178, 179, 180, 181, 182, 183, 184, 186, 188, 190, 191, 192, 193, 194, 195], \"Problem_113_gold_574\": [0.03500000000000003, 34, 35, 43, 56, 64, 86, 108], \"Problem_156_gold_807\": [0.0], \"Problem_99_gold_514\": [0.45999999999999996, 10, 11, 12, 13, 15, 16, 17, 18, 19, 20, 21, 22, 23, 24, 41, 42, 43, 44, 46, 47, 48, 49, 50, 51, 52, 53, 54, 55, 56, 60, 61, 65, 68, 73, 74, 75, 76, 78, 79, 80, 81, 82, 83, 84, 85, 86, 87, 88, 91, 96, 98, 99, 104, 105, 106, 107, 109, 110, 111, 112, 114, 117, 119, 126, 127, 132, 133, 134, 136, 138, 140, 144, 145, 152, 153, 157, 158, 159, 161, 162, 164, 172, 177, 178, 179, 181, 183, 184, 185, 187, 189, 197], \"Problem_107_gold_557\": [0.09999999999999998, 2, 4, 5, 6, 8, 9, 10, 11, 14, 23, 24, 26, 28, 32, 34, 36, 40, 43, 159, 163], \"Problem_153_gold_787\": [0.0], \"Problem_158_gold_731\": [0.645, 0, 2, 3, 4, 6, 7, 8, 9, 10, 11, 12, 13, 14, 15, 16, 17, 18, 19, 20, 21, 22, 23, 24, 25, 26, 27, 28, 29, 30, 31, 32, 33, 34, 35, 40, 44, 46, 48, 50, 51, 52, 53, 55, 57, 59, 62, 64, 66, 68, 70, 74, 75, 80, 83, 84, 85, 86, 87, 88, 92, 95, 98, 99, 100, 102, 104, 105, 107, 109, 110, 111, 113, 115, 119, 121, 122, 123, 125, 126, 127, 128, 130, 133, 134, 136, 137, 138, 139, 140, 141, 143, 147, 148, 149, 152, 153, 154, 155, 156, 157, 160, 162, 163, 164, 165, 166, 168, 170, 171, 172, 173, 174, 175, 178, 179, 180, 181, 184, 185, 186, 189, 191, 192, 193, 194, 195, 196, 197, 198], \"Problem_100_gold_524\": [0.0], \"Problem_46_gold_173\": [0.0], \"Problem_157_gold_710\": [0.0], \"Problem_50_gold_286\": [0.0], \"Problem_101_gold_528\": [0.0], \"Problem_108_gold_562\": [0.0], \"Problem_57_gold_320\": [0.0], \"Problem_47_gold_176\": [0.0], \"Problem_45_gold_164\": [0.0], \"Problem_156_gold_810\": [0.0], \"Problem_41_gold_230\": [0.85, 0, 1, 2, 3, 4, 5, 7, 8, 9, 10, 11, 13, 14, 15, 16, 17, 18, 20, 21, 22, 23, 24, 25, 26, 27, 28, 31, 32, 33, 34, 35, 36, 38, 39, 40, 41, 42, 43, 47, 48, 49, 50, 51, 52, 54, 56, 57, 58, 59, 60, 61, 62, 65, 67, 69, 71, 72, 73, 74, 75, 76, 77, 78, 79, 80, 81, 82, 83, 84, 85, 86, 87, 88, 89, 90, 93, 94, 95, 96, 97, 98, 99, 100, 101, 103, 104, 106, 107, 109, 110, 111, 112, 113, 114, 115, 116, 117, 118, 119, 120, 122, 123, 124, 125, 126, 127, 128, 130, 131, 132, 134, 135, 136, 137, 138, 139, 140, 141, 143, 145, 146, 147, 148, 149, 150, 151, 152, 153, 154, 155, 156, 157, 158, 159, 160, 161, 162, 163, 164, 166, 167, 168, 169, 170, 171, 172, 173, 174, 175, 176, 177, 178, 180, 181, 182, 183, 184, 185, 186, 187, 188, 189, 191, 192, 193, 194, 195, 196, 198, 199], \"Problem_13_gold_40\": [0.0], \"Problem_1_gold_7\": [0.15500000000000003, 5, 17, 22, 23, 28, 29, 33, 35, 37, 103, 104, 106, 114, 119, 122, 130, 133, 135, 140, 143, 145, 147, 154, 157, 160, 165, 167, 171, 178, 187, 190], \"Problem_41_gold_229\": [0.85, 0, 1, 2, 3, 4, 5, 7, 8, 9, 10, 11, 13, 14, 15, 16, 17, 18, 20, 21, 22, 23, 24, 25, 26, 27, 28, 31, 32, 33, 34, 35, 36, 38, 39, 40, 41, 42, 43, 47, 48, 49, 50, 51, 52, 54, 56, 57, 58, 59, 60, 61, 62, 65, 67, 69, 71, 72, 73, 74, 75, 76, 77, 78, 79, 80, 81, 82, 83, 84, 85, 86, 87, 88, 89, 90, 93, 94, 95, 96, 97, 98, 99, 100, 101, 103, 104, 106, 107, 109, 110, 111, 112, 113, 114, 115, 116, 117, 118, 119, 120, 122, 123, 124, 125, 126, 127, 128, 130, 131, 132, 134, 135, 136, 137, 138, 139, 140, 141, 143, 145, 146, 147, 148, 149, 150, 151, 152, 153, 154, 155, 156, 157, 158, 159, 160, 161, 162, 163, 164, 166, 167, 168, 169, 170, 171, 172, 173, 174, 175, 176, 177, 178, 180, 181, 182, 183, 184, 185, 186, 187, 188, 189, 191, 192, 193, 194, 195, 196, 198, 199], \"Problem_19_gold_85\": [0.0], \"Problem_153_gold_788\": [0.0], \"Problem_61_gold_264\": [0.0], \"Problem_123_gold_609\": [0.0], \"Problem_162_gold_753\": [0.0], \"Problem_128_gold_619\": [0.0], \"Problem_1_gold_5\": [0.05500000000000005, 4, 23, 29, 55, 65, 99, 115, 130, 143, 157, 195], \"Problem_18_gold_79\": [0.0], \"Problem_40_gold_223\": [0.78, 0, 1, 2, 3, 4, 5, 6, 10, 12, 15, 16, 17, 18, 19, 20, 21, 22, 23, 24, 25, 26, 27, 28, 29, 30, 31, 32, 33, 34, 35, 36, 37, 38, 39, 40, 41, 42, 43, 44, 45, 46, 47, 48, 50, 51, 52, 54, 55, 56, 57, 58, 59, 61, 62, 64, 65, 66, 69, 70, 72, 74, 75, 76, 77, 78, 79, 81, 82, 83, 84, 86, 87, 88, 89, 90, 91, 92, 93, 95, 97, 99, 101, 102, 104, 105, 106, 107, 108, 109, 110, 111, 112, 113, 114, 115, 118, 120, 121, 123, 124, 126, 127, 128, 130, 132, 133, 134, 135, 136, 137, 139, 140, 141, 142, 143, 144, 145, 146, 147, 148, 149, 150, 152, 153, 154, 155, 157, 162, 163, 164, 165, 166, 167, 168, 169, 171, 173, 175, 176, 177, 179, 180, 181, 182, 183, 184, 185, 189, 191, 192, 193, 194, 196, 197, 198, 199], \"Problem_72_gold_379\": [1.0, 0, 1, 2, 3, 4, 5, 6, 7, 8, 9, 10, 11, 12, 13, 14, 15, 16, 17, 18, 19, 20, 21, 22, 23, 24, 25, 26, 27, 28, 29, 30, 31, 32, 33, 34, 35, 36, 37, 38, 39, 40, 41, 42, 43, 44, 45, 46, 47, 48, 49, 50, 51, 52, 53, 54, 55, 56, 57, 58, 59, 60, 61, 62, 63, 64, 65, 66, 67, 68, 69, 70, 71, 72, 73, 74, 75, 76, 77, 78, 79, 80, 81, 82, 83, 84, 85, 86, 87, 88, 89, 90, 91, 92, 93, 94, 95, 96, 97, 98, 99, 100, 101, 102, 103, 104, 105, 106, 107, 108, 109, 110, 111, 112, 113, 114, 115, 116, 117, 118, 119, 120, 121, 122, 123, 124, 125, 126, 127, 128, 129, 130, 131, 132, 133, 134, 135, 136, 137, 138, 139, 140, 141, 142, 143, 144, 145, 146, 147, 148, 149, 150, 151, 152, 153, 154, 155, 156, 157, 158, 159, 160, 161, 162, 163, 164, 165, 166, 167, 168, 169, 170, 171, 172, 173, 174, 175, 176, 177, 178, 179, 180, 181, 182, 183, 184, 185, 186, 187, 188, 189, 190, 191, 192, 193, 194, 195, 196, 197, 198, 199], \"Problem_67_gold_367\": [0.0], \"Problem_98_gold_426\": [0.0], \"Problem_96_gold_500\": [0.0], \"Problem_146_gold_702\": [0.0], \"Problem_21_gold_98\": [0.0], \"Problem_148_gold_765\": [0.07499999999999996, 11, 26, 41, 44, 48, 60, 80, 87, 97, 111, 119, 123, 125, 155, 197], \"Problem_118_gold_599\": [0.0], \"Problem_114_gold_585\": [0.98, 0, 1, 2, 3, 4, 5, 6, 7, 8, 9, 10, 11, 12, 13, 14, 15, 16, 17, 18, 19, 20, 21, 22, 23, 24, 25, 26, 27, 28, 29, 30, 31, 32, 34, 35, 36, 37, 38, 39, 40, 41, 42, 44, 45, 46, 47, 48, 49, 50, 51, 52, 53, 54, 55, 56, 57, 58, 59, 60, 61, 62, 63, 64, 65, 66, 67, 68, 69, 70, 71, 73, 74, 75, 76, 77, 78, 79, 80, 81, 82, 83, 84, 85, 86, 87, 88, 89, 90, 91, 92, 93, 94, 95, 96, 97, 98, 99, 100, 101, 102, 103, 104, 105, 106, 107, 108, 109, 110, 111, 112, 113, 114, 115, 116, 117, 118, 119, 120, 121, 122, 123, 124, 125, 126, 127, 128, 129, 130, 131, 132, 133, 134, 135, 136, 137, 138, 139, 140, 141, 143, 144, 145, 146, 147, 148, 149, 150, 151, 152, 153, 154, 155, 156, 157, 158, 159, 160, 161, 162, 163, 164, 165, 166, 167, 168, 169, 170, 171, 172, 173, 174, 175, 176, 177, 178, 179, 180, 181, 182, 183, 184, 185, 186, 187, 188, 189, 190, 191, 192, 193, 194, 195, 196, 197, 198, 199], \"Problem_158_gold_722\": [0.0], \"Problem_59_gold_327\": [0.0], \"Problem_160_gold_841\": [0.0], \"Problem_72_gold_380\": [0.975, 0, 1, 2, 3, 4, 5, 6, 7, 8, 9, 10, 11, 12, 13, 14, 15, 16, 17, 18, 19, 20, 21, 22, 23, 24, 25, 26, 27, 28, 29, 30, 31, 32, 33, 34, 35, 36, 37, 38, 39, 40, 41, 42, 43, 44, 45, 46, 47, 48, 49, 50, 51, 52, 53, 54, 55, 56, 57, 58, 59, 60, 61, 62, 63, 64, 65, 66, 67, 68, 69, 70, 71, 72, 73, 74, 75, 76, 77, 78, 79, 80, 81, 82, 83, 84, 85, 86, 87, 88, 89, 90, 92, 93, 94, 95, 96, 97, 98, 100, 101, 102, 103, 104, 105, 106, 107, 109, 110, 111, 112, 113, 114, 115, 116, 117, 118, 119, 120, 121, 122, 123, 124, 125, 126, 127, 128, 129, 130, 131, 132, 133, 134, 136, 137, 138, 139, 140, 141, 142, 143, 145, 146, 147, 148, 149, 150, 151, 152, 153, 154, 155, 156, 157, 158, 159, 160, 161, 162, 163, 164, 165, 166, 167, 168, 169, 170, 171, 172, 173, 174, 175, 176, 177, 178, 179, 180, 181, 182, 183, 184, 185, 186, 187, 188, 189, 190, 191, 192, 193, 194, 195, 196, 197, 198, 199], \"Problem_46_gold_172\": [0.0], \"Problem_105_gold_541\": [0.995, 0, 1, 2, 3, 4, 5, 7, 8, 9, 10, 11, 12, 13, 14, 15, 16, 17, 18, 19, 20, 21, 22, 23, 24, 25, 26, 27, 28, 29, 30, 31, 32, 33, 34, 35, 36, 37, 38, 39, 40, 41, 42, 43, 44, 45, 46, 47, 48, 49, 50, 51, 52, 53, 54, 55, 56, 57, 58, 59, 60, 61, 62, 63, 64, 65, 66, 67, 68, 69, 70, 71, 72, 73, 74, 75, 76, 77, 78, 79, 80, 81, 82, 83, 84, 85, 86, 87, 88, 89, 90, 91, 92, 93, 94, 95, 96, 97, 98, 99, 100, 101, 102, 103, 104, 105, 106, 107, 108, 109, 110, 111, 112, 113, 114, 115, 116, 117, 118, 119, 120, 121, 122, 123, 124, 125, 126, 127, 128, 129, 130, 131, 132, 133, 134, 135, 136, 137, 138, 139, 140, 141, 142, 143, 144, 145, 146, 147, 148, 149, 150, 151, 152, 153, 154, 155, 156, 157, 158, 159, 160, 161, 162, 163, 164, 165, 166, 167, 168, 169, 170, 171, 172, 173, 174, 175, 176, 177, 178, 179, 180, 181, 182, 183, 184, 185, 186, 187, 188, 189, 190, 191, 192, 193, 194, 195, 196, 197, 198, 199], \"Problem_10_gold_26\": [0.0], \"Problem_99_gold_510\": [0.0], \"Problem_46_gold_174\": [0.0], \"Problem_44_gold_240\": [0.0], \"Problem_62_gold_349\": [0.615, 0, 1, 3, 4, 5, 7, 9, 10, 11, 14, 15, 23, 25, 26, 28, 30, 31, 33, 35, 36, 37, 39, 42, 44, 45, 46, 47, 48, 50, 51, 52, 55, 56, 59, 61, 62, 63, 64, 65, 66, 67, 68, 69, 70, 71, 73, 74, 76, 77, 81, 82, 83, 84, 85, 86, 89, 90, 91, 92, 93, 95, 96, 98, 101, 103, 104, 105, 106, 107, 108, 109, 111, 113, 114, 115, 116, 119, 120, 124, 125, 126, 127, 128, 130, 133, 136, 137, 139, 142, 143, 144, 146, 149, 150, 151, 153, 154, 155, 156, 157, 159, 160, 162, 163, 165, 166, 167, 168, 170, 171, 172, 174, 177, 179, 180, 181, 183, 184, 185, 186, 187, 188, 197], \"Problem_7_gold_17\": [0.0], \"Problem_149_gold_770\": [0.0], \"Problem_26_gold_120\": [0.0], \"Problem_37_gold_205\": [1.0, 0, 1, 2, 3, 4, 5, 6, 7, 8, 9, 10, 11, 12, 13, 14, 15, 16, 17, 18, 19, 20, 21, 22, 23, 24, 25, 26, 27, 28, 29, 30, 31, 32, 33, 34, 35, 36, 37, 38, 39, 40, 41, 42, 43, 44, 45, 46, 47, 48, 49, 50, 51, 52, 53, 54, 55, 56, 57, 58, 59, 60, 61, 62, 63, 64, 65, 66, 67, 68, 69, 70, 71, 72, 73, 74, 75, 76, 77, 78, 79, 80, 81, 82, 83, 84, 85, 86, 87, 88, 89, 90, 91, 92, 93, 94, 95, 96, 97, 98, 99, 100, 101, 102, 103, 104, 105, 106, 107, 108, 109, 110, 111, 112, 113, 114, 115, 116, 117, 118, 119, 120, 121, 122, 123, 124, 125, 126, 127, 128, 129, 130, 131, 132, 133, 134, 135, 136, 137, 138, 139, 140, 141, 142, 143, 144, 145, 146, 147, 148, 149, 150, 151, 152, 153, 154, 155, 156, 157, 158, 159, 160, 161, 162, 163, 164, 165, 166, 167, 168, 169, 170, 171, 172, 173, 174, 175, 176, 177, 178, 179, 180, 181, 182, 183, 184, 185, 186, 187, 188, 189, 190, 191, 192, 193, 194, 195, 196, 197, 198, 199], \"Problem_158_gold_713\": [1.0, 0, 1, 2, 3, 4, 5, 6, 7, 8, 9, 10, 11, 12, 13, 14, 15, 16, 17, 18, 19, 20, 21, 22, 23, 24, 25, 26, 27, 28, 29, 30, 31, 32, 33, 34, 35, 36, 37, 38, 39, 40, 41, 42, 43, 44, 45, 46, 47, 48, 49, 50, 51, 52, 53, 54, 55, 56, 57, 58, 59, 60, 61, 62, 63, 64, 65, 66, 67, 68, 69, 70, 71, 72, 73, 74, 75, 76, 77, 78, 79, 80, 81, 82, 83, 84, 85, 86, 87, 88, 89, 90, 91, 92, 93, 94, 95, 96, 97, 98, 99, 100, 101, 102, 103, 104, 105, 106, 107, 108, 109, 110, 111, 112, 113, 114, 115, 116, 117, 118, 119, 120, 121, 122, 123, 124, 125, 126, 127, 128, 129, 130, 131, 132, 133, 134, 135, 136, 137, 138, 139, 140, 141, 142, 143, 144, 145, 146, 147, 148, 149, 150, 151, 152, 153, 154, 155, 156, 157, 158, 159, 160, 161, 162, 163, 164, 165, 166, 167, 168, 169, 170, 171, 172, 173, 174, 175, 176, 177, 178, 179, 180, 181, 182, 183, 184, 185, 186, 187, 188, 189, 190, 191, 192, 193, 194, 195, 196, 197, 198, 199], \"Problem_75_gold_388\": [0.09999999999999998, 3, 8, 12, 16, 20, 24, 27, 30, 48, 51, 54, 57, 81, 91, 94, 98, 148, 152, 162, 172], \"Problem_136_gold_649\": [0.0050000000000000044, 44], \"Problem_114_gold_584\": [0.0], \"Problem_13_gold_52\": [0.0], \"Problem_161_gold_750\": [0.0], \"Problem_163_gold_754\": [0.915, 0, 1, 3, 4, 5, 6, 7, 8, 11, 12, 13, 14, 15, 16, 17, 18, 19, 20, 21, 22, 23, 24, 26, 27, 28, 29, 30, 31, 32, 33, 34, 35, 36, 38, 39, 41, 42, 43, 44, 45, 46, 47, 48, 49, 50, 51, 52, 53, 54, 55, 56, 57, 58, 59, 60, 61, 62, 63, 64, 65, 66, 67, 68, 69, 70, 71, 72, 73, 74, 75, 76, 77, 78, 79, 80, 81, 82, 83, 84, 85, 86, 87, 88, 89, 90, 91, 92, 93, 94, 95, 96, 97, 98, 99, 100, 101, 102, 103, 104, 105, 106, 107, 108, 109, 110, 111, 112, 113, 114, 115, 116, 117, 118, 119, 120, 121, 122, 123, 125, 126, 127, 128, 129, 133, 134, 135, 137, 138, 139, 140, 141, 142, 143, 144, 145, 146, 147, 149, 151, 152, 153, 154, 155, 156, 158, 160, 161, 163, 164, 165, 166, 167, 168, 169, 170, 171, 172, 173, 174, 175, 176, 177, 178, 179, 180, 181, 183, 184, 185, 186, 187, 188, 189, 190, 191, 192, 193, 194, 195, 196, 197, 198, 199], \"Problem_62_gold_271\": [0.0050000000000000044, 41], \"Problem_158_gold_725\": [0.0], \"Problem_143_gold_688\": [0.0], \"Problem_82_gold_435\": [0.0], \"Problem_65_gold_354\": [0.0], \"Problem_26_gold_118\": [0.0], \"Problem_56_gold_307\": [0.0], \"Problem_76_gold_400\": [0.06000000000000005, 1, 2, 3, 4, 5, 96, 107, 148, 166, 171, 184, 187], \"Problem_158_gold_820\": [0.0], \"Problem_142_gold_682\": [0.655, 6, 7, 8, 9, 10, 11, 13, 14, 15, 17, 18, 19, 21, 23, 25, 26, 27, 29, 31, 33, 34, 35, 37, 38, 39, 40, 42, 46, 48, 49, 52, 53, 54, 61, 62, 63, 64, 65, 66, 67, 68, 69, 70, 71, 72, 73, 74, 84, 85, 86, 87, 88, 89, 90, 91, 92, 93, 94, 95, 96, 97, 101, 103, 104, 105, 106, 107, 108, 109, 110, 111, 112, 113, 116, 117, 118, 119, 120, 121, 122, 123, 126, 128, 129, 130, 131, 132, 134, 137, 138, 139, 140, 141, 142, 143, 146, 147, 148, 149, 150, 152, 153, 154, 155, 156, 157, 158, 168, 169, 170, 171, 172, 173, 174, 175, 176, 177, 178, 179, 186, 187, 188, 189, 190, 191, 192, 193, 194, 195, 197, 199], \"Problem_105_gold_540\": [0.0], \"Problem_48_gold_255\": [0.0], \"Problem_160_gold_849\": [0.0], \"Problem_149_gold_771\": [0.0], \"Problem_158_gold_831\": [0.0], \"Problem_50_gold_287\": [0.0], \"Problem_48_gold_178\": [0.0], \"Problem_109_gold_563\": [0.0], \"Problem_88_gold_452\": [0.0], \"Problem_61_gold_341\": [0.0], \"Problem_39_gold_221\": [1.0, 0, 1, 2, 3, 4, 5, 6, 7, 8, 9, 10, 11, 12, 13, 14, 15, 16, 17, 18, 19, 20, 21, 22, 23, 24, 25, 26, 27, 28, 29, 30, 31, 32, 33, 34, 35, 36, 37, 38, 39, 40, 41, 42, 43, 44, 45, 46, 47, 48, 49, 50, 51, 52, 53, 54, 55, 56, 57, 58, 59, 60, 61, 62, 63, 64, 65, 66, 67, 68, 69, 70, 71, 72, 73, 74, 75, 76, 77, 78, 79, 80, 81, 82, 83, 84, 85, 86, 87, 88, 89, 90, 91, 92, 93, 94, 95, 96, 97, 98, 99, 100, 101, 102, 103, 104, 105, 106, 107, 108, 109, 110, 111, 112, 113, 114, 115, 116, 117, 118, 119, 120, 121, 122, 123, 124, 125, 126, 127, 128, 129, 130, 131, 132, 133, 134, 135, 136, 137, 138, 139, 140, 141, 142, 143, 144, 145, 146, 147, 148, 149, 150, 151, 152, 153, 154, 155, 156, 157, 158, 159, 160, 161, 162, 163, 164, 165, 166, 167, 168, 169, 170, 171, 172, 173, 174, 175, 176, 177, 178, 179, 180, 181, 182, 183, 184, 185, 186, 187, 188, 189, 190, 191, 192, 193, 194, 195, 196, 197, 198, 199], \"Problem_158_gold_724\": [0.0], \"Problem_150_gold_772\": [0.0], \"Problem_27_gold_126\": [0.0], \"Problem_42_gold_237\": [0.0], \"Problem_88_gold_447\": [0.0], \"Problem_163_gold_756\": [0.0], \"Problem_13_gold_46\": [0.0], \"Problem_75_gold_387\": [0.0], \"Problem_145_gold_697\": [0.0], \"Problem_53_gold_295\": [0.0], \"Problem_152_gold_784\": [0.0], \"Problem_81_gold_421\": [0.025000000000000022, 137, 146, 155, 163, 170], \"Problem_36_gold_203\": [0.43000000000000005, 0, 3, 4, 6, 7, 8, 9, 10, 11, 12, 13, 14, 15, 16, 17, 18, 19, 22, 23, 24, 25, 26, 27, 28, 29, 30, 31, 32, 33, 34, 35, 36, 37, 38, 39, 42, 48, 49, 50, 52, 57, 60, 63, 64, 68, 84, 85, 87, 112, 114, 116, 121, 127, 128, 129, 131, 133, 134, 136, 138, 139, 140, 141, 142, 143, 145, 150, 151, 152, 153, 155, 156, 161, 162, 163, 172, 176, 177, 178, 182, 186, 189, 192, 194, 197, 198], \"Problem_78_gold_408\": [0.0], \"Problem_158_gold_711\": [0.0], \"Problem_44_gold_161\": [0.0], \"Problem_160_gold_843\": [0.0], \"Problem_117_gold_595\": [0.64, 2, 4, 5, 6, 8, 9, 11, 12, 13, 14, 15, 17, 18, 19, 20, 21, 22, 24, 25, 27, 28, 29, 30, 31, 32, 33, 34, 35, 36, 37, 40, 41, 43, 44, 45, 46, 47, 48, 49, 50, 52, 53, 54, 55, 56, 57, 58, 59, 62, 63, 65, 67, 69, 70, 71, 72, 73, 74, 76, 77, 78, 80, 81, 82, 83, 84, 85, 86, 88, 90, 97, 98, 100, 103, 104, 105, 106, 110, 111, 115, 117, 121, 125, 128, 131, 134, 136, 139, 141, 142, 143, 144, 145, 147, 148, 150, 151, 152, 153, 154, 156, 157, 160, 161, 162, 163, 164, 165, 167, 168, 169, 171, 173, 174, 175, 179, 181, 182, 183, 184, 186, 188, 190, 192, 193, 196, 197, 199], \"Problem_114_gold_588\": [0.0], \"Problem_21_gold_97\": [0.0], \"Problem_21_gold_96\": [0.0], \"Problem_62_gold_268\": [0.995, 0, 1, 2, 3, 4, 5, 6, 7, 8, 9, 10, 11, 12, 13, 14, 15, 16, 17, 18, 19, 20, 21, 22, 23, 24, 25, 26, 27, 28, 29, 30, 31, 32, 33, 34, 35, 36, 37, 38, 39, 40, 41, 42, 43, 44, 45, 46, 47, 48, 49, 50, 51, 52, 53, 54, 55, 56, 57, 58, 59, 60, 61, 62, 63, 64, 65, 66, 67, 68, 69, 70, 71, 72, 73, 74, 75, 76, 77, 78, 79, 80, 81, 82, 83, 84, 85, 86, 87, 88, 89, 90, 91, 92, 93, 94, 95, 96, 97, 98, 99, 100, 101, 102, 103, 104, 105, 106, 107, 108, 109, 110, 111, 112, 113, 114, 115, 116, 117, 118, 119, 120, 121, 122, 123, 124, 125, 126, 127, 128, 129, 130, 131, 132, 133, 134, 135, 136, 137, 138, 139, 140, 141, 142, 143, 144, 145, 146, 147, 148, 149, 151, 152, 153, 154, 155, 156, 157, 158, 159, 160, 161, 162, 163, 164, 165, 166, 167, 168, 169, 170, 171, 172, 173, 174, 175, 176, 177, 178, 179, 180, 181, 182, 183, 184, 185, 186, 187, 188, 189, 190, 191, 192, 193, 194, 195, 196, 197, 198, 199], \"Problem_9_gold_23\": [0.0], \"Problem_82_gold_436\": [0.0], \"Problem_37_gold_204\": [0.0], \"Problem_27_gold_124\": [0.0], \"Problem_158_gold_828\": [0.0], \"Problem_35_gold_195\": [0.5549999999999999, 1, 2, 6, 7, 8, 9, 10, 11, 12, 13, 14, 15, 16, 17, 19, 22, 23, 24, 25, 26, 27, 28, 29, 30, 31, 32, 33, 34, 35, 36, 37, 38, 39, 40, 41, 42, 44, 48, 53, 55, 57, 59, 60, 61, 62, 63, 64, 65, 66, 67, 68, 69, 70, 71, 72, 73, 74, 75, 76, 77, 78, 79, 80, 81, 82, 83, 84, 85, 86, 87, 115, 118, 119, 124, 127, 130, 134, 136, 137, 138, 139, 140, 141, 142, 143, 144, 145, 146, 147, 148, 149, 150, 151, 152, 153, 154, 155, 156, 157, 158, 159, 160, 161, 162, 163, 164, 165, 166, 167, 195, 197], \"Problem_30_gold_137\": [0.0], \"Problem_46_gold_249\": [0.0], \"Problem_137_gold_657\": [0.0], \"Problem_31_gold_144\": [0.0], \"Problem_78_gold_413\": [0.0], \"Problem_30_gold_138\": [0.0], \"Problem_90_gold_474\": [0.0], \"Problem_65_gold_279\": [0.0], \"Problem_65_gold_353\": [0.0], \"Problem_56_gold_311\": [0.0], \"Problem_39_gold_218\": [1.0, 0, 1, 2, 3, 4, 5, 6, 7, 8, 9, 10, 11, 12, 13, 14, 15, 16, 17, 18, 19, 20, 21, 22, 23, 24, 25, 26, 27, 28, 29, 30, 31, 32, 33, 34, 35, 36, 37, 38, 39, 40, 41, 42, 43, 44, 45, 46, 47, 48, 49, 50, 51, 52, 53, 54, 55, 56, 57, 58, 59, 60, 61, 62, 63, 64, 65, 66, 67, 68, 69, 70, 71, 72, 73, 74, 75, 76, 77, 78, 79, 80, 81, 82, 83, 84, 85, 86, 87, 88, 89, 90, 91, 92, 93, 94, 95, 96, 97, 98, 99, 100, 101, 102, 103, 104, 105, 106, 107, 108, 109, 110, 111, 112, 113, 114, 115, 116, 117, 118, 119, 120, 121, 122, 123, 124, 125, 126, 127, 128, 129, 130, 131, 132, 133, 134, 135, 136, 137, 138, 139, 140, 141, 142, 143, 144, 145, 146, 147, 148, 149, 150, 151, 152, 153, 154, 155, 156, 157, 158, 159, 160, 161, 162, 163, 164, 165, 166, 167, 168, 169, 170, 171, 172, 173, 174, 175, 176, 177, 178, 179, 180, 181, 182, 183, 184, 185, 186, 187, 188, 189, 190, 191, 192, 193, 194, 195, 196, 197, 198, 199], \"Problem_34_gold_192\": [0.0], \"Problem_54_gold_299\": [0.0], \"Problem_146_gold_705\": [0.0], \"Problem_40_gold_148\": [0.14, 1, 2, 4, 6, 15, 20, 22, 25, 26, 32, 33, 38, 46, 47, 79, 114, 128, 130, 136, 138, 140, 147, 148, 169, 185, 193, 196, 197], \"Problem_62_gold_344\": [0.995, 0, 1, 2, 3, 4, 5, 6, 7, 8, 9, 10, 11, 12, 13, 14, 15, 16, 17, 18, 19, 20, 21, 22, 23, 24, 25, 26, 27, 28, 29, 30, 31, 32, 33, 34, 35, 36, 37, 38, 39, 40, 41, 42, 43, 44, 45, 46, 47, 48, 49, 50, 51, 52, 53, 54, 55, 56, 57, 58, 59, 60, 61, 62, 63, 64, 65, 66, 67, 68, 69, 70, 71, 72, 73, 74, 75, 76, 77, 78, 79, 80, 81, 82, 83, 84, 85, 86, 87, 88, 89, 90, 91, 92, 93, 94, 95, 96, 97, 98, 99, 100, 101, 102, 103, 104, 105, 106, 107, 108, 109, 110, 111, 112, 113, 114, 115, 116, 117, 118, 119, 120, 121, 122, 123, 124, 125, 126, 127, 128, 129, 130, 131, 132, 133, 134, 135, 136, 137, 138, 139, 140, 141, 142, 143, 144, 145, 146, 147, 148, 149, 151, 152, 153, 154, 155, 156, 157, 158, 159, 160, 161, 162, 163, 164, 165, 166, 167, 168, 169, 170, 171, 172, 173, 174, 175, 176, 177, 178, 179, 180, 181, 182, 183, 184, 185, 186, 187, 188, 189, 190, 191, 192, 193, 194, 195, 196, 197, 198, 199], \"Problem_159_gold_838\": [0.030000000000000027, 32, 57, 78, 102, 105, 186], \"Problem_114_gold_581\": [0.0], \"Problem_79_gold_418\": [0.0], \"Problem_78_gold_412\": [0.0], \"Problem_42_gold_159\": [0.0], \"Problem_87_gold_445\": [0.0], \"Problem_36_gold_198\": [0.30000000000000004, 0, 4, 6, 7, 11, 12, 14, 15, 16, 17, 18, 19, 25, 26, 27, 28, 29, 30, 31, 33, 34, 35, 36, 37, 38, 39, 48, 49, 50, 57, 60, 68, 84, 112, 116, 121, 127, 128, 129, 133, 136, 138, 139, 140, 141, 143, 145, 150, 151, 163, 176, 178, 180, 182, 185, 186, 189, 194, 197, 198], \"Problem_22_gold_101\": [0.0], \"Problem_13_gold_44\": [0.0], \"Problem_155_gold_800\": [1.0, 0, 1, 2, 3, 4, 5, 6, 7, 8, 9, 10, 11, 12, 13, 14, 15, 16, 17, 18, 19, 20, 21, 22, 23, 24, 25, 26, 27, 28, 29, 30, 31, 32, 33, 34, 35, 36, 37, 38, 39, 40, 41, 42, 43, 44, 45, 46, 47, 48, 49, 50, 51, 52, 53, 54, 55, 56, 57, 58, 59, 60, 61, 62, 63, 64, 65, 66, 67, 68, 69, 70, 71, 72, 73, 74, 75, 76, 77, 78, 79, 80, 81, 82, 83, 84, 85, 86, 87, 88, 89, 90, 91, 92], \"Problem_160_gold_848\": [0.0], \"Problem_158_gold_732\": [0.0], \"Problem_123_gold_608\": [0.0], \"Problem_141_gold_679\": [0.0], \"Problem_41_gold_153\": [0.0], \"Problem_110_gold_567\": [0.0], \"Problem_16_gold_65\": [1.0, 0, 1, 2, 3, 4, 5, 6, 7, 8, 9, 10, 11, 12, 13, 14, 15, 16, 17, 18, 19, 20, 21, 22, 23, 24, 25, 26, 27, 28, 29, 30, 31, 32, 33, 34, 35, 36, 37, 38, 39, 40, 41, 42, 43, 44, 45, 46, 47, 48, 49, 50, 51, 52, 53, 54, 55, 56, 57, 58, 59, 60, 61, 62, 63, 64, 65, 66, 67, 68, 69, 70, 71, 72, 73, 74, 75, 76, 77, 78, 79, 80, 81, 82, 83, 84, 85, 86, 87, 88, 89, 90, 91, 92, 93, 94, 95, 96, 97, 98, 99, 100, 101, 102, 103, 104, 105, 106, 107, 108, 109, 110, 111, 112, 113, 114, 115, 116, 117, 118, 119, 120, 121, 122, 123, 124, 125, 126, 127, 128, 129, 130, 131, 132, 133, 134, 135, 136, 137, 138, 139, 140, 141, 142, 143, 144, 145, 146, 147, 148, 149, 150, 151, 152, 153, 154, 155, 156, 157, 158, 159, 160, 161, 162, 163, 164, 165, 166, 167, 168, 169, 170, 171, 172, 173, 174, 175, 176, 177, 178, 179, 180, 181, 182, 183, 184, 185, 186, 187, 188, 189, 190, 191, 192, 193, 194, 195, 196, 197, 198, 199], \"Problem_60_gold_332\": [0.0], \"Problem_154_gold_794\": [0.0], \"Problem_34_gold_188\": [0.0], \"Problem_94_gold_486\": [0.0], \"Problem_51_gold_289\": [0.0], \"Problem_117_gold_598\": [0.64, 2, 4, 5, 6, 8, 9, 11, 12, 13, 14, 15, 17, 18, 19, 20, 21, 22, 24, 25, 27, 28, 29, 30, 31, 32, 33, 34, 35, 36, 37, 40, 41, 43, 44, 45, 46, 47, 48, 49, 50, 52, 53, 54, 55, 56, 57, 58, 59, 62, 63, 65, 67, 69, 70, 71, 72, 73, 74, 76, 77, 78, 80, 81, 82, 83, 84, 85, 86, 88, 90, 97, 98, 100, 103, 104, 105, 106, 110, 111, 115, 117, 121, 125, 128, 131, 134, 136, 139, 141, 142, 143, 144, 145, 147, 148, 150, 151, 152, 153, 154, 156, 157, 160, 161, 162, 163, 164, 165, 167, 168, 169, 171, 173, 174, 175, 179, 181, 182, 183, 184, 186, 188, 190, 192, 193, 196, 197, 199], \"Problem_13_gold_39\": [1.0, 0, 1, 2, 3, 4, 5, 6, 7, 8, 9, 10, 11, 12, 13, 14, 15, 16, 17, 18, 19, 20, 21, 22, 23, 24, 25, 26, 27, 28, 29, 30, 31, 32, 33, 34, 35, 36, 37, 38, 39, 40, 41, 42, 43, 44, 45, 46, 47, 48, 49, 50, 51, 52, 53, 54, 55, 56, 57, 58, 59, 60, 61, 62, 63, 64, 65, 66, 67, 68, 69, 70, 71, 72, 73, 74, 75, 76, 77, 78, 79, 80, 81, 82, 83, 84, 85, 86, 87, 88, 89, 90, 91, 92, 93, 94, 95, 96, 97, 98, 99, 100, 101, 102, 103, 104, 105, 106, 107, 108, 109, 110, 111, 112, 113, 114, 115, 116, 117, 118, 119, 120, 121, 122, 123, 124, 125, 126, 127, 128, 129, 130, 131, 132, 133, 134, 135, 136, 137, 138, 139, 140, 141, 142, 143, 144, 145, 146, 147, 148, 149, 150, 151, 152, 153, 154, 155, 156, 157, 158, 159, 160, 161, 162, 163, 164, 165, 166, 167, 168, 169, 170, 171, 172, 173, 174, 175, 176, 177, 178, 179, 180, 181, 182, 183, 184, 185, 186, 187, 188, 189, 190, 191, 192, 193, 194, 195, 196, 197, 198, 199], \"Problem_75_gold_394\": [0.0], \"Problem_38_gold_211\": [0.0], \"Problem_63_gold_276\": [0.0], \"Problem_22_gold_105\": [0.0], \"Problem_33_gold_184\": [0.675, 0, 1, 2, 3, 8, 14, 21, 36, 37, 38, 39, 42, 52, 60, 62, 63, 66, 71, 73, 74, 75, 76, 78, 79, 80, 83, 84, 85, 87, 88, 89, 90, 92, 93, 94, 95, 98, 99, 100, 101, 104, 105, 106, 107, 108, 109, 110, 111, 112, 113, 114, 115, 116, 117, 118, 119, 120, 121, 122, 123, 124, 125, 126, 127, 128, 129, 130, 131, 132, 133, 134, 135, 136, 137, 138, 139, 140, 141, 142, 143, 144, 145, 146, 147, 148, 149, 150, 151, 152, 153, 154, 156, 157, 158, 159, 160, 161, 162, 163, 164, 165, 166, 167, 168, 169, 170, 171, 172, 173, 174, 175, 176, 177, 178, 179, 180, 181, 182, 183, 184, 185, 186, 187, 188, 189, 190, 191, 192, 193, 194, 195, 196, 197, 198, 199], \"Problem_57_gold_318\": [0.0], \"Problem_61_gold_340\": [0.0], \"Problem_150_gold_773\": [0.0], \"Problem_75_gold_389\": [0.0], \"Problem_138_gold_659\": [0.0], \"Problem_72_gold_381\": [1.0, 0, 1, 2, 3, 4, 5, 6, 7, 8, 9, 10, 11, 12, 13, 14, 15, 16, 17, 18, 19, 20, 21, 22, 23, 24, 25, 26, 27, 28, 29, 30, 31, 32, 33, 34, 35, 36, 37, 38, 39, 40, 41, 42, 43, 44, 45, 46, 47, 48, 49, 50, 51, 52, 53, 54, 55, 56, 57, 58, 59, 60, 61, 62, 63, 64, 65, 66, 67, 68, 69, 70, 71, 72, 73, 74, 75, 76, 77, 78, 79, 80, 81, 82, 83, 84, 85, 86, 87, 88, 89, 90, 91, 92, 93, 94, 95, 96, 97, 98, 99, 100, 101, 102, 103, 104, 105, 106, 107, 108, 109, 110, 111, 112, 113, 114, 115, 116, 117, 118, 119, 120, 121, 122, 123, 124, 125, 126, 127, 128, 129, 130, 131, 132, 133, 134, 135, 136, 137, 138, 139, 140, 141, 142, 143, 144, 145, 146, 147, 148, 149, 150, 151, 152, 153, 154, 155, 156, 157, 158, 159, 160, 161, 162, 163, 164, 165, 166, 167, 168, 169, 170, 171, 172, 173, 174, 175, 176, 177, 178, 179, 180, 181, 182, 183, 184, 185, 186, 187, 188, 189, 190, 191, 192, 193, 194, 195, 196, 197, 198, 199], \"Problem_131_gold_627\": [0.625, 1, 3, 4, 5, 9, 10, 11, 13, 14, 15, 17, 21, 24, 25, 26, 29, 30, 31, 35, 38, 39, 40, 43, 44, 47, 48, 49, 53, 54, 55, 56, 58, 59, 60, 61, 62, 63, 66, 68, 69, 72, 73, 74, 75, 76, 77, 78, 79, 81, 82, 83, 84, 86, 87, 90, 91, 95, 98, 99, 100, 102, 104, 105, 106, 108, 110, 111, 115, 116, 118, 120, 121, 122, 123, 125, 127, 128, 130, 132, 133, 135, 136, 137, 138, 140, 141, 142, 143, 146, 147, 148, 149, 150, 152, 153, 156, 157, 158, 160, 162, 163, 164, 165, 166, 167, 168, 170, 173, 174, 176, 177, 179, 180, 181, 182, 183, 184, 188, 190, 191, 192, 194, 195, 196, 197], \"Problem_27_gold_129\": [0.0], \"Problem_99_gold_508\": [0.0], \"Problem_158_gold_728\": [0.0], \"Problem_94_gold_487\": [1.0, 0, 1, 2, 3, 4, 5, 6, 7, 8, 9, 10, 11, 12, 13, 14, 15, 16, 17, 18, 19, 20, 21, 22, 23, 24, 25, 26, 27, 28, 29, 30, 31, 32, 33, 34, 35, 36, 37, 38, 39, 40, 41, 42, 43, 44, 45, 46, 47, 48, 49, 50, 51, 52, 53, 54, 55, 56, 57, 58, 59, 60, 61, 62, 63, 64, 65, 66, 67, 68, 69, 70, 71, 72, 73, 74, 75, 76, 77, 78, 79, 80, 81, 82, 83, 84, 85, 86, 87, 88, 89, 90, 91, 92, 93, 94, 95, 96, 97, 98, 99, 100, 101, 102, 103, 104, 105, 106, 107, 108, 109, 110, 111, 112, 113, 114, 115, 116, 117, 118, 119, 120, 121, 122, 123, 124, 125, 126, 127, 128, 129, 130, 131, 132, 133, 134, 135, 136, 137, 138, 139, 140, 141, 142, 143, 144, 145, 146, 147, 148, 149, 150, 151, 152, 153, 154, 155, 156, 157, 158, 159, 160, 161, 162, 163, 164, 165, 166, 167, 168, 169, 170, 171, 172, 173, 174, 175, 176, 177, 178, 179, 180, 181, 182, 183, 184, 185, 186, 187, 188, 189, 190, 191, 192, 193, 194, 195, 196, 197, 198, 199], \"Problem_18_gold_77\": [0.0], \"Problem_90_gold_475\": [0.050000000000000044, 1, 9, 16, 76, 77, 78, 88, 137, 138, 195], \"Problem_116_gold_593\": [0.0], \"Problem_107_gold_554\": [0.20999999999999996, 2, 4, 5, 6, 8, 9, 10, 11, 12, 14, 15, 16, 17, 18, 19, 20, 21, 23, 24, 25, 26, 27, 28, 32, 34, 36, 40, 43, 68, 78, 82, 100, 104, 111, 115, 130, 134, 138, 142, 146, 159, 163], \"Problem_67_gold_369\": [0.0], \"Problem_105_gold_538\": [0.0], \"Problem_37_gold_210\": [0.0], \"Problem_160_gold_736\": [0.605, 0, 1, 2, 3, 6, 7, 8, 9, 10, 12, 13, 17, 18, 19, 20, 22, 23, 24, 25, 26, 27, 28, 29, 35, 37, 40, 43, 44, 45, 46, 48, 50, 51, 52, 54, 55, 56, 57, 58, 59, 61, 62, 63, 68, 69, 70, 71, 75, 77, 78, 80, 88, 89, 90, 91, 92, 93, 94, 95, 96, 97, 100, 101, 103, 105, 106, 111, 112, 114, 115, 116, 118, 120, 122, 123, 124, 125, 126, 128, 131, 136, 138, 139, 140, 141, 142, 145, 147, 148, 149, 151, 152, 158, 159, 161, 162, 164, 165, 166, 167, 169, 170, 171, 172, 173, 174, 176, 177, 178, 180, 184, 185, 186, 187, 189, 190, 194, 195, 196, 197, 199], \"Problem_157_gold_813\": [0.0], \"Problem_161_gold_853\": [0.0], \"Problem_98_gold_506\": [0.0], \"Problem_106_gold_551\": [0.0], \"Problem_49_gold_283\": [0.62, 0, 1, 2, 3, 5, 6, 7, 8, 9, 10, 11, 12, 13, 16, 17, 19, 20, 21, 22, 26, 28, 31, 32, 34, 37, 43, 44, 45, 47, 49, 50, 52, 53, 54, 56, 57, 58, 60, 61, 62, 66, 68, 69, 71, 74, 75, 76, 77, 81, 83, 84, 88, 93, 94, 96, 97, 98, 103, 107, 110, 113, 114, 115, 116, 117, 118, 119, 120, 121, 122, 123, 124, 125, 126, 127, 128, 130, 131, 132, 134, 135, 136, 138, 139, 140, 141, 142, 144, 146, 147, 148, 152, 156, 157, 158, 159, 160, 161, 162, 163, 164, 165, 166, 167, 168, 170, 171, 172, 173, 174, 177, 178, 181, 182, 183, 184, 185, 186, 187, 189, 194, 195, 196, 197], \"Problem_136_gold_651\": [0.0], \"Problem_15_gold_59\": [0.0], \"Problem_72_gold_378\": [1.0, 0, 1, 2, 3, 4, 5, 6, 7, 8, 9, 10, 11, 12, 13, 14, 15, 16, 17, 18, 19, 20, 21, 22, 23, 24, 25, 26, 27, 28, 29, 30, 31, 32, 33, 34, 35, 36, 37, 38, 39, 40, 41, 42, 43, 44, 45, 46, 47, 48, 49, 50, 51, 52, 53, 54, 55, 56, 57, 58, 59, 60, 61, 62, 63, 64, 65, 66, 67, 68, 69, 70, 71, 72, 73, 74, 75, 76, 77, 78, 79, 80, 81, 82, 83, 84, 85, 86, 87, 88, 89, 90, 91, 92, 93, 94, 95, 96, 97, 98, 99, 100, 101, 102, 103, 104, 105, 106, 107, 108, 109, 110, 111, 112, 113, 114, 115, 116, 117, 118, 119, 120, 121, 122, 123, 124, 125, 126, 127, 128, 129, 130, 131, 132, 133, 134, 135, 136, 137, 138, 139, 140, 141, 142, 143, 144, 145, 146, 147, 148, 149, 150, 151, 152, 153, 154, 155, 156, 157, 158, 159, 160, 161, 162, 163, 164, 165, 166, 167, 168, 169, 170, 171, 172, 173, 174, 175, 176, 177, 178, 179, 180, 181, 182, 183, 184, 185, 186, 187, 188, 189, 190, 191, 192, 193, 194, 195, 196, 197, 198, 199], \"Problem_17_gold_74\": [0.0], \"Problem_139_gold_666\": [0.28, 1, 3, 4, 5, 6, 7, 8, 9, 10, 15, 19, 23, 36, 40, 44, 48, 52, 56, 60, 64, 68, 75, 79, 86, 90, 94, 98, 102, 109, 113, 117, 121, 125, 129, 133, 137, 141, 144, 147, 150, 153, 156, 159, 162, 165, 168, 171, 174, 177, 180, 183, 186, 189, 192, 195, 198], \"Problem_88_gold_463\": [0.0], \"Problem_158_gold_818\": [0.0], \"Problem_163_gold_857\": [0.0], \"Problem_77_gold_401\": [0.0], \"Problem_58_gold_322\": [0.0], \"Problem_152_gold_778\": [1.0, 0, 1, 2, 3, 4, 5, 6, 7, 8, 9, 10, 11, 12, 13, 14, 15, 16, 17, 18, 19, 20, 21, 22, 23, 24, 25, 26, 27, 28, 29, 30, 31, 32, 33, 34, 35, 36, 37, 38, 39, 40, 41, 42, 43, 44, 45, 46, 47, 48, 49, 50, 51, 52, 53, 54, 55, 56, 57, 58, 59, 60, 61, 62, 63, 64, 65, 66, 67, 68, 69, 70, 71, 72, 73, 74, 75, 76, 77, 78, 79, 80, 81, 82, 83, 84, 85, 86, 87, 88, 89, 90, 91, 92, 93, 94, 95, 96, 97, 98, 99, 100, 101, 102, 103, 104, 105, 106, 107, 108, 109, 110, 111, 112, 113, 114, 115, 116, 117, 118, 119, 120, 121, 122, 123, 124, 125, 126, 127, 128, 129, 130, 131, 132, 133, 134, 135, 136, 137, 138, 139, 140, 141, 142, 143, 144, 145, 146, 147, 148, 149, 150, 151, 152, 153, 154, 155, 156, 157, 158, 159, 160, 161, 162, 163, 164, 165, 166, 167, 168, 169, 170, 171, 172, 173], \"Problem_88_gold_466\": [0.0], \"Problem_17_gold_70\": [0.0], \"Problem_57_gold_314\": [0.0], \"Problem_117_gold_597\": [0.0], \"Problem_21_gold_95\": [0.0], \"Problem_141_gold_678\": [0.0], \"Problem_88_gold_465\": [1.0, 0, 1, 2, 3, 4, 5, 6, 7, 8, 9, 10, 11, 12, 13, 14, 15, 16, 17, 18, 19, 20, 21, 22, 23, 24, 25, 26, 27, 28, 29, 30, 31, 32, 33, 34, 35, 36, 37, 38, 39, 40, 41, 42, 43, 44, 45, 46, 47, 48, 49, 50, 51, 52, 53, 54, 55, 56, 57, 58, 59, 60, 61, 62, 63, 64, 65, 66, 67, 68, 69, 70, 71, 72, 73, 74, 75, 76, 77, 78, 79, 80, 81, 82, 83, 84, 85, 86, 87, 88, 89, 90, 91, 92, 93, 94, 95, 96, 97, 98, 99, 100, 101, 102, 103, 104, 105, 106, 107, 108, 109, 110, 111, 112, 113, 114, 115, 116, 117, 118, 119, 120, 121, 122, 123, 124, 125, 126, 127, 128, 129, 130, 131, 132, 133, 134, 135, 136, 137, 138, 139, 140, 141, 142, 143, 144, 145, 146, 147, 148, 149, 150, 151, 152, 153, 154, 155, 156, 157, 158, 159, 160, 161, 162, 163, 164, 165, 166, 167, 168, 169, 170, 171, 172, 173, 174, 175, 176, 177, 178, 179, 180, 181, 182, 183, 184, 185, 186, 187, 188, 189, 190, 191, 192, 193, 194, 195, 196, 197, 198, 199], \"Problem_75_gold_391\": [0.0], \"Problem_119_gold_600\": [0.98, 0, 1, 2, 3, 5, 6, 7, 8, 9, 10, 11, 12, 13, 14, 15, 16, 17, 18, 19, 20, 21, 22, 23, 24, 25, 26, 27, 28, 29, 30, 31, 32, 34, 35, 36, 37, 38, 39, 40, 41, 42, 43, 44, 45, 46, 47, 48, 49, 50, 51, 52, 53, 54, 55, 56, 57, 58, 59, 60, 61, 62, 63, 64, 65, 66, 67, 68, 69, 70, 71, 72, 73, 74, 75, 76, 77, 78, 79, 80, 81, 82, 83, 84, 85, 86, 88, 89, 90, 91, 92, 93, 94, 95, 96, 97, 98, 99, 100, 101, 102, 103, 104, 105, 106, 107, 108, 109, 110, 111, 112, 113, 114, 115, 116, 117, 118, 119, 120, 121, 122, 123, 124, 125, 126, 127, 128, 129, 130, 131, 132, 133, 134, 135, 136, 137, 138, 139, 140, 141, 142, 143, 144, 145, 146, 147, 148, 149, 150, 151, 152, 153, 154, 155, 156, 157, 158, 159, 160, 161, 162, 163, 164, 165, 166, 167, 168, 169, 170, 171, 172, 173, 174, 175, 176, 177, 178, 179, 181, 182, 183, 184, 185, 186, 187, 188, 189, 190, 191, 192, 193, 194, 195, 196, 197, 198, 199], \"Problem_3_gold_9\": [0.0], \"Problem_74_gold_384\": [0.9299999999999999, 0, 1, 2, 4, 5, 6, 7, 8, 9, 10, 11, 12, 13, 14, 15, 16, 17, 18, 19, 20, 21, 22, 23, 24, 25, 26, 27, 28, 29, 30, 31, 32, 33, 34, 35, 36, 37, 38, 40, 41, 42, 43, 44, 45, 46, 47, 48, 49, 50, 51, 52, 53, 54, 55, 56, 57, 58, 59, 60, 61, 62, 63, 64, 65, 66, 67, 68, 69, 70, 71, 72, 73, 74, 75, 76, 77, 78, 79, 80, 81, 82, 83, 86, 87, 88, 89, 90, 91, 92, 93, 94, 95, 96, 97, 98, 99, 101, 102, 103, 104, 105, 106, 107, 108, 109, 110, 111, 112, 113, 114, 116, 117, 118, 119, 120, 121, 122, 123, 124, 125, 126, 127, 128, 129, 131, 132, 133, 134, 135, 136, 137, 138, 139, 140, 141, 142, 144, 145, 146, 147, 148, 149, 150, 151, 152, 153, 154, 155, 156, 158, 159, 160, 161, 162, 163, 164, 165, 166, 167, 168, 169, 171, 173, 174, 175, 176, 177, 178, 179, 180, 181, 182, 183, 184, 186, 187, 188, 189, 190, 191, 192, 193, 194, 195, 196, 197], \"Problem_142_gold_685\": [0.0], \"Problem_129_gold_621\": [0.0], \"Problem_60_gold_335\": [0.0], \"Problem_127_gold_618\": [0.0], \"Problem_124_gold_616\": [0.0], \"Problem_13_gold_53\": [1.0, 0, 1, 2, 3, 4, 5, 6, 7, 8, 9, 10, 11, 12, 13, 14, 15, 16, 17, 18, 19, 20, 21, 22, 23, 24, 25, 26, 27, 28, 29, 30, 31, 32, 33, 34, 35, 36, 37, 38, 39, 40, 41, 42, 43, 44, 45, 46, 47, 48, 49, 50, 51, 52, 53, 54, 55, 56, 57, 58, 59, 60, 61, 62, 63, 64, 65, 66, 67, 68, 69, 70, 71, 72, 73, 74, 75, 76, 77, 78, 79, 80, 81, 82, 83, 84, 85, 86, 87, 88, 89, 90, 91, 92, 93, 94, 95, 96, 97, 98, 99, 100, 101, 102, 103, 104, 105, 106, 107, 108, 109, 110, 111, 112, 113, 114, 115, 116, 117, 118, 119, 120, 121, 122, 123, 124, 125, 126, 127, 128, 129, 130, 131, 132, 133, 134, 135, 136, 137, 138, 139, 140, 141, 142, 143, 144, 145, 146, 147, 148, 149, 150, 151, 152, 153, 154, 155, 156, 157, 158, 159, 160, 161, 162, 163, 164, 165, 166, 167, 168, 169, 170, 171, 172, 173, 174, 175, 176, 177, 178, 179, 180, 181, 182, 183, 184, 185, 186, 187, 188, 189, 190, 191, 192, 193, 194, 195, 196, 197, 198, 199], \"Problem_158_gold_814\": [0.0], \"Problem_61_gold_262\": [0.0], \"Problem_82_gold_438\": [0.0], \"Problem_48_gold_258\": [0.0], \"Problem_99_gold_517\": [0.0], \"Problem_114_gold_578\": [0.0], \"Problem_48_gold_180\": [0.0], \"Problem_1_gold_6\": [0.43999999999999995, 2, 5, 7, 8, 9, 15, 17, 22, 24, 26, 30, 34, 35, 39, 40, 41, 49, 50, 52, 53, 55, 58, 60, 64, 65, 66, 67, 68, 73, 81, 83, 84, 88, 91, 96, 97, 102, 103, 104, 106, 108, 114, 117, 118, 119, 120, 121, 122, 124, 125, 128, 129, 130, 132, 133, 134, 135, 136, 140, 141, 142, 143, 145, 146, 147, 148, 149, 154, 155, 157, 159, 160, 161, 167, 168, 174, 175, 177, 181, 182, 184, 191, 192, 193, 194, 195, 196, 198], \"Problem_13_gold_43\": [0.0], \"Problem_40_gold_226\": [0.030000000000000027, 2, 4, 6, 22, 47, 138], \"Problem_11_gold_34\": [0.0], \"Problem_31_gold_142\": [0.965, 0, 1, 2, 3, 4, 5, 6, 7, 8, 9, 10, 11, 12, 13, 14, 15, 16, 17, 18, 19, 20, 21, 22, 23, 24, 25, 26, 27, 28, 29, 30, 31, 32, 33, 34, 35, 36, 37, 38, 39, 40, 41, 42, 43, 44, 45, 46, 47, 48, 49, 50, 51, 52, 53, 54, 55, 56, 57, 58, 59, 60, 61, 62, 63, 64, 65, 66, 67, 68, 69, 70, 71, 72, 73, 74, 75, 76, 77, 78, 79, 80, 81, 82, 83, 84, 85, 86, 87, 88, 89, 90, 91, 92, 93, 94, 95, 96, 97, 98, 99, 100, 101, 102, 103, 104, 105, 106, 107, 108, 109, 110, 111, 112, 114, 115, 116, 117, 118, 119, 120, 121, 122, 123, 124, 125, 126, 127, 128, 129, 130, 131, 132, 133, 134, 135, 136, 137, 139, 140, 141, 143, 144, 145, 146, 147, 148, 150, 151, 152, 153, 154, 155, 156, 157, 158, 159, 160, 161, 162, 163, 164, 165, 166, 167, 168, 169, 170, 171, 172, 173, 174, 175, 176, 177, 178, 179, 181, 182, 183, 185, 187, 188, 189, 190, 191, 192, 193, 194, 195, 196, 197, 198, 199], \"Problem_142_gold_686\": [0.0], \"Problem_154_gold_793\": [1.0, 0, 1, 2, 3, 4, 5, 6, 7, 8, 9, 10, 11, 12, 13, 14, 15, 16, 17, 18, 19, 20, 21, 22, 23, 24, 25, 26, 27, 28, 29, 30, 31, 32, 33, 34, 35, 36, 37, 38, 39, 40, 41, 42, 43, 44, 45, 46, 47, 48, 49, 50, 51, 52, 53, 54, 55, 56, 57, 58, 59, 60, 61, 62, 63, 64, 65, 66, 67, 68, 69, 70, 71, 72, 73, 74, 75, 76, 77, 78, 79, 80, 81, 82, 83, 84, 85, 86, 87, 88, 89, 90, 91, 92, 93, 94, 95, 96, 97, 98, 99, 100, 101, 102, 103, 104, 105, 106, 107, 108, 109, 110, 111, 112, 113, 114, 115, 116, 117, 118, 119, 120, 121, 122, 123, 124, 125, 126, 127, 128, 129, 130, 131, 132, 133, 134, 135, 136, 137, 138, 139, 140, 141, 142, 143, 144, 145, 146, 147, 148, 149, 150, 151, 152, 153, 154, 155, 156, 157, 158, 159, 160, 161, 162, 163, 164, 165, 166, 167, 168, 169, 170, 171, 172, 173, 174, 175, 176, 177, 178, 179, 180, 181, 182, 183, 184, 185, 186, 187, 188, 189, 190, 191, 192, 193, 194, 195, 196, 197, 198, 199], \"Problem_107_gold_559\": [0.17500000000000004, 2, 4, 6, 8, 9, 10, 11, 12, 14, 16, 17, 18, 19, 20, 21, 23, 24, 25, 26, 28, 43, 68, 78, 82, 100, 104, 111, 115, 130, 134, 138, 142, 146, 159, 163], \"Problem_21_gold_99\": [0.0], \"Problem_13_gold_48\": [0.0], \"Problem_98_gold_430\": [0.0], \"Problem_49_gold_285\": [0.0], \"Problem_10_gold_28\": [0.0], \"Problem_55_gold_302\": [0.04081632653061229, 27, 46], \"Problem_94_gold_483\": [0.0], \"Problem_114_gold_580\": [0.0], \"Problem_22_gold_107\": [0.0], \"Problem_139_gold_674\": [0.0], \"Problem_154_gold_796\": [0.0], \"Problem_146_gold_700\": [0.0], \"Problem_11_gold_33\": [0.0], \"Problem_62_gold_272\": [0.0], \"Problem_30_gold_139\": [0.19499999999999995, 1, 3, 5, 13, 16, 20, 21, 24, 26, 30, 38, 41, 44, 57, 58, 63, 66, 67, 72, 77, 80, 81, 89, 90, 101, 107, 126, 127, 129, 144, 149, 156, 157, 164, 167, 170, 175, 187, 197], \"Problem_58_gold_326\": [0.0], \"Problem_150_gold_775\": [0.0], \"Problem_62_gold_342\": [0.0050000000000000044, 41], \"Problem_158_gold_726\": [0.32999999999999996, 0, 2, 3, 6, 8, 12, 13, 15, 17, 18, 19, 20, 23, 25, 26, 27, 29, 30, 33, 35, 40, 44, 46, 48, 50, 53, 55, 57, 59, 62, 66, 68, 70, 88, 92, 95, 98, 99, 102, 104, 107, 110, 111, 113, 115, 121, 123, 127, 130, 136, 140, 141, 143, 148, 153, 154, 156, 157, 166, 171, 174, 178, 180, 181, 184, 186], \"Problem_128_gold_620\": [1.0, 0, 1, 2, 3, 4, 5, 6, 7, 8, 9, 10, 11, 12, 13, 14, 15, 16, 17, 18, 19, 20, 21, 22, 23, 24, 25, 26, 27, 28, 29, 30, 31, 32, 33, 34, 35, 36, 37, 38, 39, 40, 41, 42, 43, 44, 45, 46, 47, 48, 49, 50, 51, 52, 53, 54, 55, 56, 57, 58, 59, 60, 61, 62, 63, 64, 65, 66, 67, 68, 69, 70, 71, 72, 73, 74, 75, 76, 77, 78, 79, 80, 81, 82, 83, 84, 85, 86, 87, 88, 89, 90, 91, 92, 93, 94, 95, 96, 97, 98, 99, 100, 101, 102, 103, 104, 105, 106, 107, 108, 109, 110, 111, 112, 113, 114, 115, 116, 117, 118, 119, 120, 121, 122, 123, 124, 125, 126, 127, 128, 129, 130, 131, 132, 133, 134, 135, 136, 137, 138, 139, 140, 141, 142, 143, 144, 145, 146, 147, 148, 149, 150, 151, 152, 153, 154, 155, 156, 157, 158, 159, 160, 161, 162, 163, 164, 165, 166, 167, 168, 169, 170, 171, 172, 173, 174, 175, 176, 177, 178, 179, 180, 181, 182, 183, 184, 185, 186, 187, 188, 189, 190, 191, 192, 193, 194, 195, 196, 197, 198, 199], \"Problem_41_gold_152\": [0.0], \"Problem_160_gold_748\": [0.0], \"Problem_78_gold_415\": [0.0], \"Problem_152_gold_777\": [0.6206896551724138, 0, 1, 2, 3, 4, 7, 8, 9, 10, 11, 12, 14, 15, 17, 18, 19, 20, 21, 24, 25, 27, 29, 30, 31, 32, 35, 36, 38, 40, 44, 45, 46, 47, 48, 49, 51, 52, 53, 54, 55, 56, 57, 58, 59, 60, 61, 62, 63, 66, 68, 70, 71, 72, 73, 74, 77, 81, 82, 83, 84, 85, 86, 90, 95, 97, 98, 99, 103, 106, 107, 110, 111, 113, 114, 115, 116, 117, 118, 119, 123, 125, 126, 130, 133, 135, 137, 138, 139, 140, 141, 142, 144, 146, 150, 151, 152, 155, 158, 159, 163, 164, 166, 167, 168, 169, 170, 171, 173], \"Problem_108_gold_561\": [0.375, 1, 3, 4, 6, 7, 9, 10, 11, 12, 13, 15, 17, 19, 30, 38, 39, 44, 47, 49, 52, 53, 54, 55, 56, 57, 58, 59, 60, 61, 65, 69, 71, 80, 83, 93, 94, 95, 96, 97, 98, 101, 105, 106, 112, 118, 121, 122, 123, 124, 125, 129, 130, 138, 139, 141, 142, 146, 147, 153, 157, 160, 161, 162, 168, 171, 172, 173, 174, 180, 183, 184, 185, 191, 194, 198], \"Problem_145_gold_698\": [0.0], \"Problem_39_gold_214\": [1.0, 0, 1, 2, 3, 4, 5, 6, 7, 8, 9, 10, 11, 12, 13, 14, 15, 16, 17, 18, 19, 20, 21, 22, 23, 24, 25, 26, 27, 28, 29, 30, 31, 32, 33, 34, 35, 36, 37, 38, 39, 40, 41, 42, 43, 44, 45, 46, 47, 48, 49, 50, 51, 52, 53, 54, 55, 56, 57, 58, 59, 60, 61, 62, 63, 64, 65, 66, 67, 68, 69, 70, 71, 72, 73, 74, 75, 76, 77, 78, 79, 80, 81, 82, 83, 84, 85, 86, 87, 88, 89, 90, 91, 92, 93, 94, 95, 96, 97, 98, 99, 100, 101, 102, 103, 104, 105, 106, 107, 108, 109, 110, 111, 112, 113, 114, 115, 116, 117, 118, 119, 120, 121, 122, 123, 124, 125, 126, 127, 128, 129, 130, 131, 132, 133, 134, 135, 136, 137, 138, 139, 140, 141, 142, 143, 144, 145, 146, 147, 148, 149, 150, 151, 152, 153, 154, 155, 156, 157, 158, 159, 160, 161, 162, 163, 164, 165, 166, 167, 168, 169, 170, 171, 172, 173, 174, 175, 176, 177, 178, 179, 180, 181, 182, 183, 184, 185, 186, 187, 188, 189, 190, 191, 192, 193, 194, 195, 196, 197, 198, 199], \"Problem_20_gold_91\": [0.0], \"Problem_13_gold_41\": [0.0], \"Problem_47_gold_252\": [0.0], \"Problem_23_gold_115\": [0.0], \"Problem_160_gold_740\": [0.0], \"Problem_114_gold_579\": [0.0], \"Problem_6_gold_13\": [0.0], \"Problem_53_gold_293\": [0.895, 0, 1, 2, 3, 6, 7, 8, 9, 10, 12, 13, 14, 15, 16, 17, 18, 19, 20, 22, 23, 24, 25, 26, 27, 28, 29, 31, 32, 35, 36, 37, 38, 39, 40, 41, 42, 43, 44, 45, 46, 47, 48, 49, 50, 51, 52, 53, 54, 56, 57, 58, 59, 60, 61, 62, 64, 65, 66, 67, 68, 69, 70, 71, 73, 74, 76, 77, 79, 80, 81, 82, 83, 84, 85, 86, 87, 88, 89, 90, 92, 93, 94, 95, 96, 97, 98, 99, 100, 101, 103, 104, 105, 106, 107, 108, 109, 111, 112, 113, 115, 116, 117, 118, 119, 121, 122, 123, 124, 125, 126, 127, 128, 129, 130, 131, 132, 133, 134, 135, 136, 137, 138, 139, 140, 141, 142, 143, 144, 145, 146, 148, 149, 150, 151, 152, 154, 155, 156, 157, 158, 159, 160, 161, 162, 163, 164, 165, 166, 167, 168, 169, 170, 171, 172, 174, 176, 177, 178, 179, 180, 181, 182, 183, 184, 185, 186, 187, 188, 189, 190, 191, 192, 193, 194, 195, 196, 197, 198, 199], \"Problem_119_gold_602\": [0.0], \"Problem_146_gold_701\": [0.0], \"Problem_96_gold_496\": [0.0], \"Problem_39_gold_216\": [1.0, 0, 1, 2, 3, 4, 5, 6, 7, 8, 9, 10, 11, 12, 13, 14, 15, 16, 17, 18, 19, 20, 21, 22, 23, 24, 25, 26, 27, 28, 29, 30, 31, 32, 33, 34, 35, 36, 37, 38, 39, 40, 41, 42, 43, 44, 45, 46, 47, 48, 49, 50, 51, 52, 53, 54, 55, 56, 57, 58, 59, 60, 61, 62, 63, 64, 65, 66, 67, 68, 69, 70, 71, 72, 73, 74, 75, 76, 77, 78, 79, 80, 81, 82, 83, 84, 85, 86, 87, 88, 89, 90, 91, 92, 93, 94, 95, 96, 97, 98, 99, 100, 101, 102, 103, 104, 105, 106, 107, 108, 109, 110, 111, 112, 113, 114, 115, 116, 117, 118, 119, 120, 121, 122, 123, 124, 125, 126, 127, 128, 129, 130, 131, 132, 133, 134, 135, 136, 137, 138, 139, 140, 141, 142, 143, 144, 145, 146, 147, 148, 149, 150, 151, 152, 153, 154, 155, 156, 157, 158, 159, 160, 161, 162, 163, 164, 165, 166, 167, 168, 169, 170, 171, 172, 173, 174, 175, 176, 177, 178, 179, 180, 181, 182, 183, 184, 185, 186, 187, 188, 189, 190, 191, 192, 193, 194, 195, 196, 197, 198, 199], \"Problem_159_gold_734\": [0.030000000000000027, 32, 57, 78, 102, 105, 186], \"Problem_141_gold_680\": [0.0], \"Problem_107_gold_555\": [0.20999999999999996, 2, 4, 5, 6, 8, 9, 10, 11, 12, 14, 15, 16, 17, 18, 19, 20, 21, 23, 24, 25, 26, 27, 28, 32, 34, 36, 40, 43, 68, 78, 82, 100, 104, 111, 115, 130, 134, 138, 142, 146, 159, 163], \"Problem_138_gold_660\": [0.0], \"Problem_158_gold_715\": [0.0], \"Problem_98_gold_504\": [0.0], \"Problem_47_gold_175\": [0.0], \"Problem_23_gold_116\": [0.0], \"Problem_136_gold_653\": [0.0], \"Problem_78_gold_409\": [0.0], \"Problem_160_gold_851\": [0.0], \"Problem_158_gold_712\": [0.0], \"Problem_40_gold_222\": [0.0], \"Problem_96_gold_494\": [0.0], \"Problem_75_gold_390\": [0.0], \"Problem_21_gold_93\": [0.0], \"Problem_0_gold_3\": [0.0], \"Problem_140_gold_675\": [0.0], \"Problem_156_gold_803\": [0.0], \"Problem_96_gold_495\": [0.0], \"Problem_26_gold_117\": [0.0], \"Problem_37_gold_206\": [0.0], \"Problem_113_gold_571\": [0.39, 1, 3, 4, 6, 7, 8, 9, 11, 12, 13, 14, 15, 16, 17, 18, 19, 20, 21, 22, 23, 24, 25, 26, 28, 29, 30, 31, 35, 36, 37, 38, 39, 40, 42, 43, 44, 45, 46, 47, 49, 51, 52, 53, 54, 57, 58, 59, 60, 61, 62, 63, 64, 65, 66, 69, 70, 71, 72, 73, 79, 91, 92, 100, 109, 119, 125, 131, 137, 143, 148, 150, 153, 163, 168, 177, 178, 188, 191], \"Problem_48_gold_254\": [0.0], \"Problem_23_gold_113\": [0.0], \"Problem_78_gold_411\": [0.0], \"Problem_113_gold_573\": [0.0], \"Problem_61_gold_337\": [0.0], \"Problem_152_gold_782\": [1.0, 0, 1, 2, 3, 4, 5, 6, 7, 8, 9, 10, 11, 12, 13, 14, 15, 16, 17, 18, 19, 20, 21, 22, 23, 24, 25, 26, 27, 28, 29, 30, 31, 32, 33, 34, 35, 36, 37, 38, 39, 40, 41, 42, 43, 44, 45, 46, 47, 48, 49, 50, 51, 52, 53, 54, 55, 56, 57, 58, 59, 60, 61, 62, 63, 64, 65, 66, 67, 68, 69, 70, 71, 72, 73, 74, 75, 76, 77, 78, 79, 80, 81, 82, 83, 84, 85, 86, 87, 88, 89, 90, 91, 92, 93, 94, 95, 96, 97, 98, 99, 100, 101, 102, 103, 104, 105, 106, 107, 108, 109, 110, 111, 112, 113, 114, 115, 116, 117, 118, 119, 120, 121, 122, 123, 124, 125, 126, 127, 128, 129, 130, 131, 132, 133, 134, 135, 136, 137, 138, 139, 140, 141, 142, 143, 144, 145, 146, 147, 148, 149, 150, 151, 152, 153, 154, 155, 156, 157, 158, 159, 160, 161, 162, 163, 164, 165, 166, 167, 168, 169, 170, 171, 172, 173], \"Problem_106_gold_547\": [0.0], \"Problem_82_gold_434\": [0.0], \"Problem_17_gold_68\": [0.0], \"Problem_19_gold_84\": [0.0], \"Problem_106_gold_552\": [0.0], \"Problem_61_gold_265\": [0.0], \"Problem_52_gold_291\": [0.0], \"Problem_106_gold_544\": [0.0], \"Problem_117_gold_596\": [0.0], \"Problem_7_gold_15\": [0.0], \"Problem_13_gold_45\": [1.0, 0, 1, 2, 3, 4, 5, 6, 7, 8, 9, 10, 11, 12, 13, 14, 15, 16, 17, 18, 19, 20, 21, 22, 23, 24, 25, 26, 27, 28, 29, 30, 31, 32, 33, 34, 35, 36, 37, 38, 39, 40, 41, 42, 43, 44, 45, 46, 47, 48, 49, 50, 51, 52, 53, 54, 55, 56, 57, 58, 59, 60, 61, 62, 63, 64, 65, 66, 67, 68, 69, 70, 71, 72, 73, 74, 75, 76, 77, 78, 79, 80, 81, 82, 83, 84, 85, 86, 87, 88, 89, 90, 91, 92, 93, 94, 95, 96, 97, 98, 99, 100, 101, 102, 103, 104, 105, 106, 107, 108, 109, 110, 111, 112, 113, 114, 115, 116, 117, 118, 119, 120, 121, 122, 123, 124, 125, 126, 127, 128, 129, 130, 131, 132, 133, 134, 135, 136, 137, 138, 139, 140, 141, 142, 143, 144, 145, 146, 147, 148, 149, 150, 151, 152, 153, 154, 155, 156, 157, 158, 159, 160, 161, 162, 163, 164, 165, 166, 167, 168, 169, 170, 171, 172, 173, 174, 175, 176, 177, 178, 179, 180, 181, 182, 183, 184, 185, 186, 187, 188, 189, 190, 191, 192, 193, 194, 195, 196, 197, 198, 199], \"Problem_162_gold_751\": [0.0], \"Problem_28_gold_131\": [0.99, 0, 1, 2, 3, 4, 5, 6, 7, 8, 9, 10, 11, 13, 14, 15, 16, 17, 18, 19, 20, 21, 22, 23, 24, 25, 26, 27, 28, 29, 30, 31, 32, 33, 34, 35, 36, 37, 38, 39, 40, 41, 42, 43, 44, 45, 46, 47, 48, 49, 50, 51, 52, 53, 54, 55, 56, 57, 58, 59, 60, 61, 62, 63, 64, 65, 66, 67, 68, 69, 70, 71, 72, 73, 74, 75, 76, 77, 78, 79, 80, 81, 82, 83, 84, 85, 86, 87, 88, 89, 90, 91, 92, 93, 94, 96, 97, 98, 99, 100, 101, 102, 103, 104, 105, 106, 107, 108, 109, 110, 111, 112, 113, 114, 115, 116, 117, 118, 119, 120, 121, 122, 123, 124, 125, 126, 127, 128, 129, 130, 131, 132, 133, 134, 135, 136, 137, 138, 139, 140, 141, 142, 143, 144, 145, 146, 147, 148, 149, 150, 151, 152, 153, 154, 155, 156, 157, 158, 159, 160, 161, 162, 163, 164, 165, 166, 167, 168, 169, 170, 171, 172, 173, 174, 175, 176, 177, 178, 179, 180, 181, 182, 183, 184, 185, 186, 187, 188, 189, 190, 191, 192, 193, 194, 195, 196, 197, 198, 199], \"Problem_47_gold_253\": [0.0], \"Problem_107_gold_553\": [0.16500000000000004, 2, 4, 5, 6, 7, 8, 9, 10, 11, 12, 14, 15, 21, 26, 27, 28, 32, 34, 36, 38, 40, 42, 43, 46, 49, 53, 60, 64, 67, 71, 74, 111, 163], \"Problem_46_gold_246\": [0.0], \"Problem_149_gold_767\": [0.0], \"Problem_153_gold_789\": [0.0], \"Problem_54_gold_301\": [0.0], \"Problem_56_gold_313\": [0.0], \"Problem_142_gold_684\": [0.07499999999999996, 34, 37, 40, 49, 120, 131, 137, 141, 146, 149, 150, 152, 155, 157, 158], \"Problem_158_gold_834\": [0.645, 0, 2, 3, 4, 6, 7, 8, 9, 10, 11, 12, 13, 14, 15, 16, 17, 18, 19, 20, 21, 22, 23, 24, 25, 26, 27, 28, 29, 30, 31, 32, 33, 34, 35, 40, 44, 46, 48, 50, 51, 52, 53, 55, 57, 59, 62, 64, 66, 68, 70, 74, 75, 80, 83, 84, 85, 86, 87, 88, 92, 95, 98, 99, 100, 102, 104, 105, 107, 109, 110, 111, 113, 115, 119, 121, 122, 123, 125, 126, 127, 128, 130, 133, 134, 136, 137, 138, 139, 140, 141, 143, 147, 148, 149, 152, 153, 154, 155, 156, 157, 160, 162, 163, 164, 165, 166, 168, 170, 171, 172, 173, 174, 175, 178, 179, 180, 181, 184, 185, 186, 189, 191, 192, 193, 194, 195, 196, 197, 198], \"Problem_99_gold_521\": [0.0], \"Problem_138_gold_662\": [0.0], \"Problem_61_gold_339\": [0.0], \"Problem_142_gold_683\": [0.0], \"Problem_110_gold_566\": [0.0], \"Problem_57_gold_317\": [0.0], \"Problem_78_gold_410\": [0.0], \"Problem_80_gold_420\": [0.0], \"Problem_62_gold_345\": [0.625, 0, 1, 3, 4, 5, 7, 9, 10, 11, 14, 15, 23, 25, 26, 28, 30, 31, 33, 35, 36, 37, 39, 42, 44, 45, 46, 47, 48, 50, 51, 52, 55, 56, 59, 61, 62, 63, 64, 65, 66, 67, 68, 69, 70, 71, 73, 74, 76, 77, 79, 81, 82, 83, 84, 85, 86, 87, 89, 90, 91, 92, 93, 95, 96, 98, 101, 103, 104, 105, 106, 107, 108, 109, 111, 113, 114, 115, 116, 119, 120, 124, 125, 126, 127, 128, 130, 133, 136, 137, 139, 142, 143, 144, 146, 149, 150, 151, 153, 154, 155, 156, 157, 159, 160, 162, 163, 165, 166, 167, 168, 170, 171, 172, 174, 177, 179, 180, 181, 183, 184, 185, 186, 187, 188, 197], \"Problem_99_gold_515\": [0.050000000000000044, 24, 55, 87, 92, 116, 120, 144, 147, 171, 196], \"Problem_56_gold_309\": [0.0], \"Problem_162_gold_855\": [0.0], \"Problem_57_gold_316\": [0.0], \"Problem_160_gold_842\": [0.0], \"Problem_91_gold_477\": [0.0], \"Problem_74_gold_383\": [0.94, 0, 1, 2, 4, 5, 6, 7, 8, 9, 10, 11, 12, 13, 15, 16, 17, 18, 19, 20, 21, 22, 23, 24, 25, 26, 27, 28, 29, 30, 32, 33, 34, 35, 36, 37, 38, 40, 41, 43, 44, 45, 46, 47, 48, 49, 50, 51, 52, 53, 54, 55, 57, 58, 59, 60, 61, 62, 63, 64, 65, 66, 67, 68, 69, 70, 71, 72, 73, 74, 75, 76, 77, 78, 79, 80, 81, 82, 83, 85, 86, 87, 88, 89, 90, 91, 92, 93, 94, 95, 96, 97, 98, 99, 100, 101, 102, 103, 104, 105, 106, 107, 108, 109, 110, 111, 112, 113, 114, 116, 117, 118, 119, 120, 121, 122, 123, 124, 125, 126, 127, 128, 129, 131, 132, 133, 134, 135, 136, 137, 138, 139, 140, 141, 142, 143, 144, 145, 146, 147, 148, 149, 150, 151, 152, 153, 154, 155, 156, 158, 159, 160, 162, 163, 164, 165, 166, 167, 168, 169, 170, 171, 172, 173, 174, 175, 176, 177, 178, 179, 180, 181, 182, 183, 184, 186, 187, 188, 189, 190, 191, 192, 193, 194, 195, 196, 197, 198, 199], \"Problem_1_gold_4\": [0.0], \"Problem_59_gold_330\": [0.0], \"Problem_41_gold_156\": [0.0], \"Problem_160_gold_744\": [0.0], \"Problem_61_gold_338\": [0.0], \"Problem_55_gold_305\": [0.0], \"Problem_53_gold_294\": [0.895, 0, 1, 2, 3, 6, 7, 8, 9, 10, 12, 13, 14, 15, 16, 17, 18, 19, 20, 22, 23, 24, 25, 26, 27, 28, 29, 31, 32, 35, 36, 37, 38, 39, 40, 41, 42, 43, 44, 45, 46, 47, 48, 49, 50, 51, 52, 53, 54, 56, 57, 58, 59, 60, 61, 62, 64, 65, 66, 67, 68, 69, 70, 71, 73, 74, 76, 77, 79, 80, 81, 82, 83, 84, 85, 86, 87, 88, 89, 90, 92, 93, 94, 95, 96, 97, 98, 99, 100, 101, 103, 104, 105, 106, 107, 108, 109, 111, 112, 113, 115, 116, 117, 118, 119, 121, 122, 123, 124, 125, 126, 127, 128, 129, 130, 131, 132, 133, 134, 135, 136, 137, 138, 139, 140, 141, 142, 143, 144, 145, 146, 148, 149, 150, 151, 152, 154, 155, 156, 157, 158, 159, 160, 161, 162, 163, 164, 165, 166, 167, 168, 169, 170, 171, 172, 174, 176, 177, 178, 179, 180, 181, 182, 183, 184, 185, 186, 187, 188, 189, 190, 191, 192, 193, 194, 195, 196, 197, 198, 199], \"Problem_99_gold_522\": [0.0], \"Problem_13_gold_49\": [1.0, 0, 1, 2, 3, 4, 5, 6, 7, 8, 9, 10, 11, 12, 13, 14, 15, 16, 17, 18, 19, 20, 21, 22, 23, 24, 25, 26, 27, 28, 29, 30, 31, 32, 33, 34, 35, 36, 37, 38, 39, 40, 41, 42, 43, 44, 45, 46, 47, 48, 49, 50, 51, 52, 53, 54, 55, 56, 57, 58, 59, 60, 61, 62, 63, 64, 65, 66, 67, 68, 69, 70, 71, 72, 73, 74, 75, 76, 77, 78, 79, 80, 81, 82, 83, 84, 85, 86, 87, 88, 89, 90, 91, 92, 93, 94, 95, 96, 97, 98, 99, 100, 101, 102, 103, 104, 105, 106, 107, 108, 109, 110, 111, 112, 113, 114, 115, 116, 117, 118, 119, 120, 121, 122, 123, 124, 125, 126, 127, 128, 129, 130, 131, 132, 133, 134, 135, 136, 137, 138, 139, 140, 141, 142, 143, 144, 145, 146, 147, 148, 149, 150, 151, 152, 153, 154, 155, 156, 157, 158, 159, 160, 161, 162, 163, 164, 165, 166, 167, 168, 169, 170, 171, 172, 173, 174, 175, 176, 177, 178, 179, 180, 181, 182, 183, 184, 185, 186, 187, 188, 189, 190, 191, 192, 193, 194, 195, 196, 197, 198, 199], \"Problem_88_gold_448\": [0.0], \"Problem_34_gold_190\": [0.0], \"Problem_33_gold_186\": [0.0], \"Problem_62_gold_270\": [0.0], \"Problem_105_gold_539\": [0.0], \"Problem_158_gold_815\": [0.0], \"Problem_70_gold_373\": [0.0], \"Problem_63_gold_352\": [0.0], \"Problem_158_gold_830\": [0.0], \"Problem_12_gold_38\": [0.0], \"Problem_164_gold_860\": [0.1853932584269663, 0, 4, 13, 15, 17, 20, 21, 22, 24, 26, 35, 38, 44, 45, 46, 51, 52, 53, 58, 61, 63, 68, 69, 74, 79, 105, 108, 116, 117, 119, 126, 137, 162], \"Problem_20_gold_88\": [0.0], \"Problem_162_gold_854\": [0.0], \"Problem_136_gold_655\": [0.0], \"Problem_51_gold_290\": [0.0], \"Problem_56_gold_312\": [0.0], \"Problem_86_gold_444\": [0.0], \"Problem_5_gold_11\": [0.0], \"Problem_75_gold_392\": [0.0], \"Problem_98_gold_424\": [0.0], \"Problem_82_gold_431\": [0.0], \"Problem_40_gold_224\": [0.0], \"Problem_67_gold_363\": [0.955, 0, 1, 2, 3, 4, 5, 6, 8, 9, 10, 11, 12, 13, 14, 15, 16, 17, 18, 19, 21, 22, 23, 24, 25, 26, 27, 28, 29, 30, 31, 32, 33, 34, 35, 36, 37, 38, 39, 40, 41, 42, 43, 44, 45, 46, 47, 48, 49, 50, 51, 52, 55, 56, 57, 58, 59, 60, 62, 63, 64, 65, 66, 67, 68, 69, 70, 71, 72, 73, 74, 76, 77, 78, 79, 80, 81, 82, 83, 84, 85, 86, 87, 88, 89, 90, 91, 92, 93, 94, 95, 96, 97, 98, 99, 100, 101, 102, 103, 104, 105, 106, 107, 108, 109, 111, 112, 113, 114, 115, 116, 117, 118, 119, 120, 121, 122, 123, 124, 125, 126, 127, 128, 129, 130, 131, 132, 133, 134, 135, 136, 137, 138, 139, 140, 141, 142, 143, 144, 145, 146, 147, 148, 149, 150, 151, 152, 153, 154, 155, 156, 157, 158, 159, 160, 161, 162, 163, 164, 165, 166, 167, 168, 169, 170, 171, 172, 173, 174, 175, 176, 177, 178, 179, 180, 181, 182, 183, 184, 185, 186, 187, 188, 189, 190, 191, 192, 193, 194, 195, 196, 198], \"Problem_61_gold_263\": [0.0], \"Problem_91_gold_476\": [0.0], \"Problem_116_gold_594\": [0.0], \"Problem_161_gold_852\": [0.0], \"Problem_42_gold_157\": [0.0], \"Problem_61_gold_260\": [0.0], \"Problem_95_gold_493\": [0.0], \"Problem_148_gold_763\": [0.0], \"Problem_103_gold_532\": [0.0], \"Problem_156_gold_808\": [0.0], \"Problem_67_gold_366\": [0.0], \"Problem_67_gold_370\": [0.0], \"Problem_23_gold_108\": [0.0], \"Problem_22_gold_102\": [0.0], \"Problem_62_gold_347\": [0.0050000000000000044, 41], \"Problem_77_gold_405\": [0.0], \"Problem_27_gold_128\": [0.0], \"Problem_139_gold_668\": [0.0], \"Problem_130_gold_623\": [1.0, 0, 1, 2, 3, 4, 5, 6, 7, 8, 9, 10, 11, 12, 13, 14, 15, 16, 17, 18, 19, 20, 21, 22, 23, 24, 25, 26, 27, 28, 29, 30, 31, 32, 33, 34, 35, 36, 37, 38, 39, 40, 41, 42, 43, 44, 45, 46, 47, 48, 49, 50, 51, 52, 53, 54, 55, 56, 57, 58, 59, 60, 61, 62, 63, 64, 65, 66, 67, 68, 69, 70, 71, 72, 73, 74, 75, 76, 77, 78, 79, 80, 81, 82, 83, 84, 85, 86, 87, 88, 89, 90, 91, 92, 93, 94, 95, 96, 97, 98, 99, 100, 101, 102, 103, 104, 105, 106, 107, 108, 109, 110, 111, 112, 113, 114, 115, 116, 117, 118, 119, 120, 121, 122, 123, 124, 125, 126, 127, 128, 129, 130, 131, 132, 133, 134, 135, 136, 137, 138, 139, 140, 141, 142, 143, 144, 145, 146, 147, 148, 149, 150, 151, 152, 153, 154, 155, 156, 157, 158, 159, 160, 161, 162, 163, 164, 165, 166, 167, 168, 169, 170, 171, 172, 173, 174, 175, 176, 177, 178, 179, 180, 181, 182, 183, 184, 185, 186, 187, 188, 189, 190, 191, 192, 193, 194, 195, 196, 197, 198, 199], \"Problem_139_gold_667\": [0.0], \"Problem_19_gold_86\": [0.0], \"Problem_88_gold_459\": [0.0], \"Problem_41_gold_154\": [0.0], \"Problem_110_gold_569\": [0.0], \"Problem_107_gold_556\": [0.0], \"Problem_158_gold_730\": [0.0], \"Problem_157_gold_812\": [0.0], \"Problem_113_gold_575\": [0.0], \"Problem_65_gold_277\": [0.0], \"Problem_129_gold_622\": [0.31000000000000005, 1, 4, 6, 10, 11, 12, 13, 16, 19, 22, 26, 27, 34, 37, 48, 50, 54, 55, 57, 60, 62, 65, 69, 72, 76, 77, 79, 81, 82, 83, 84, 93, 94, 96, 97, 99, 103, 104, 106, 110, 112, 116, 119, 136, 137, 140, 141, 145, 146, 149, 152, 154, 157, 159, 162, 174, 175, 176, 178, 180, 194, 198], \"Problem_163_gold_856\": [0.915, 0, 1, 3, 4, 5, 6, 7, 8, 11, 12, 13, 14, 15, 16, 17, 18, 19, 20, 21, 22, 23, 24, 26, 27, 28, 29, 30, 31, 32, 33, 34, 35, 36, 38, 39, 41, 42, 43, 44, 45, 46, 47, 48, 49, 50, 51, 52, 53, 54, 55, 56, 57, 58, 59, 60, 61, 62, 63, 64, 65, 66, 67, 68, 69, 70, 71, 72, 73, 74, 75, 76, 77, 78, 79, 80, 81, 82, 83, 84, 85, 86, 87, 88, 89, 90, 91, 92, 93, 94, 95, 96, 97, 98, 99, 100, 101, 102, 103, 104, 105, 106, 107, 108, 109, 110, 111, 112, 113, 114, 115, 116, 117, 118, 119, 120, 121, 122, 123, 125, 126, 127, 128, 129, 133, 134, 135, 137, 138, 139, 140, 141, 142, 143, 144, 145, 146, 147, 149, 151, 152, 153, 154, 155, 156, 158, 160, 161, 163, 164, 165, 166, 167, 168, 169, 170, 171, 172, 173, 174, 175, 176, 177, 178, 179, 180, 181, 183, 184, 185, 186, 187, 188, 189, 190, 191, 192, 193, 194, 195, 196, 197, 198, 199], \"Problem_154_gold_797\": [0.0], \"Problem_42_gold_236\": [0.0], \"Problem_88_gold_454\": [0.0], \"Problem_104_gold_535\": [1.0, 0, 1, 2, 3, 4, 5, 6, 7, 8, 9, 10, 11, 12, 13, 14, 15, 16, 17, 18, 19, 20, 21, 22, 23, 24, 25, 26, 27, 28, 29, 30, 31, 32, 33, 34, 35, 36, 37, 38, 39, 40, 41, 42, 43, 44, 45, 46, 47, 48, 49, 50, 51, 52, 53, 54, 55, 56, 57, 58, 59, 60, 61, 62, 63, 64, 65, 66, 67, 68, 69, 70, 71, 72, 73, 74, 75, 76, 77, 78, 79, 80, 81, 82, 83, 84, 85, 86, 87, 88, 89, 90, 91, 92, 93, 94, 95, 96, 97, 98, 99, 100, 101, 102, 103, 104, 105, 106, 107, 108, 109, 110, 111, 112, 113, 114, 115, 116, 117, 118, 119, 120, 121, 122, 123, 124, 125, 126, 127, 128, 129, 130, 131, 132, 133, 134, 135, 136, 137, 138, 139, 140, 141, 142, 143, 144, 145, 146, 147, 148, 149, 150, 151, 152, 153, 154, 155, 156, 157, 158, 159, 160, 161, 162, 163, 164, 165, 166, 167, 168, 169, 170, 171, 172, 173, 174, 175, 176, 177, 178, 179, 180, 181, 182, 183, 184, 185, 186, 187, 188, 189, 190, 191, 192, 193, 194, 195, 196, 197, 198, 199], \"Problem_88_gold_458\": [0.0], \"Problem_98_gold_507\": [0.0], \"Problem_67_gold_371\": [0.0], \"Problem_33_gold_187\": [0.18000000000000005, 1, 75, 79, 84, 88, 93, 99, 105, 108, 111, 114, 117, 120, 123, 126, 129, 132, 135, 138, 141, 144, 146, 148, 151, 153, 156, 158, 160, 162, 164, 166, 168, 170, 172, 174, 176], \"Problem_156_gold_806\": [0.0], \"Problem_78_gold_414\": [0.0], \"Problem_33_gold_185\": [0.0], \"Problem_158_gold_720\": [0.0], \"Problem_17_gold_71\": [0.0], \"Problem_109_gold_565\": [0.0], \"Problem_81_gold_360\": [0.025000000000000022, 137, 146, 155, 163, 170], \"Problem_62_gold_348\": [0.0], \"Problem_16_gold_64\": [1.0, 0, 1, 2, 3, 4, 5, 6, 7, 8, 9, 10, 11, 12, 13, 14, 15, 16, 17, 18, 19, 20, 21, 22, 23, 24, 25, 26, 27, 28, 29, 30, 31, 32, 33, 34, 35, 36, 37, 38, 39, 40, 41, 42, 43, 44, 45, 46, 47, 48, 49, 50, 51, 52, 53, 54, 55, 56, 57, 58, 59, 60, 61, 62, 63, 64, 65, 66, 67, 68, 69, 70, 71, 72, 73, 74, 75, 76, 77, 78, 79, 80, 81, 82, 83, 84, 85, 86, 87, 88, 89, 90, 91, 92, 93, 94, 95, 96, 97, 98, 99, 100, 101, 102, 103, 104, 105, 106, 107, 108, 109, 110, 111, 112, 113, 114, 115, 116, 117, 118, 119, 120, 121, 122, 123, 124, 125, 126, 127, 128, 129, 130, 131, 132, 133, 134, 135, 136, 137, 138, 139, 140, 141, 142, 143, 144, 145, 146, 147, 148, 149, 150, 151, 152, 153, 154, 155, 156, 157, 158, 159, 160, 161, 162, 163, 164, 165, 166, 167, 168, 169, 170, 171, 172, 173, 174, 175, 176, 177, 178, 179, 180, 181, 182, 183, 184, 185, 186, 187, 188, 189, 190, 191, 192, 193, 194, 195, 196, 197, 198, 199], \"Problem_42_gold_158\": [0.0], \"Problem_63_gold_275\": [0.0], \"Problem_44_gold_162\": [0.0], \"Problem_89_gold_473\": [0.0], \"Problem_160_gold_839\": [0.605, 0, 1, 2, 3, 6, 7, 8, 9, 10, 12, 13, 17, 18, 19, 20, 22, 23, 24, 25, 26, 27, 28, 29, 35, 37, 40, 43, 44, 45, 46, 48, 50, 51, 52, 54, 55, 56, 57, 58, 59, 61, 62, 63, 68, 69, 70, 71, 75, 77, 78, 80, 88, 89, 90, 91, 92, 93, 94, 95, 96, 97, 100, 101, 103, 105, 106, 111, 112, 114, 115, 116, 118, 120, 122, 123, 124, 125, 126, 128, 131, 136, 138, 139, 140, 141, 142, 145, 147, 148, 149, 151, 152, 158, 159, 161, 162, 164, 165, 166, 167, 169, 170, 171, 172, 173, 174, 176, 177, 178, 180, 184, 185, 186, 187, 189, 190, 194, 195, 196, 197, 199], \"Problem_141_gold_676\": [0.0], \"Problem_99_gold_516\": [0.0], \"Problem_152_gold_780\": [0.0], \"Problem_88_gold_455\": [0.0], \"Problem_18_gold_78\": [0.0], \"Problem_94_gold_484\": [0.0], \"Problem_67_gold_365\": [0.0], \"Problem_76_gold_395\": [0.0], \"Problem_152_gold_786\": [0.0], \"Problem_136_gold_648\": [0.0], \"Problem_106_gold_548\": [0.0], \"Problem_98_gold_427\": [0.0], \"Problem_19_gold_82\": [0.0], \"Problem_106_gold_550\": [1.0, 0, 1, 2, 3, 4, 5, 6, 7, 8, 9, 10, 11, 12, 13, 14, 15, 16, 17, 18, 19, 20, 21, 22, 23, 24, 25, 26, 27, 28, 29, 30, 31, 32, 33, 34, 35, 36, 37, 38, 39, 40, 41, 42, 43, 44, 45, 46, 47, 48, 49, 50, 51, 52, 53, 54, 55, 56, 57, 58, 59, 60, 61, 62, 63, 64, 65, 66, 67, 68, 69, 70, 71, 72, 73, 74, 75, 76, 77, 78, 79, 80, 81, 82, 83, 84, 85, 86, 87, 88, 89, 90, 91, 92, 93, 94, 95, 96, 97, 98, 99, 100, 101, 102, 103, 104, 105, 106, 107, 108, 109, 110, 111, 112, 113, 114, 115, 116, 117, 118, 119, 120, 121, 122, 123, 124, 125, 126, 127, 128, 129, 130, 131, 132, 133, 134, 135, 136, 137, 138, 139, 140, 141, 142, 143, 144, 145, 146, 147, 148, 149, 150, 151, 152, 153, 154, 155, 156, 157, 158, 159, 160, 161, 162, 163, 164, 165, 166, 167, 168, 169, 170, 171, 172, 173, 174, 175, 176, 177, 178, 179, 180, 181, 182, 183, 184, 185, 186, 187, 188, 189, 190, 191, 192, 193, 194, 195, 196, 197, 198, 199], \"Problem_41_gold_155\": [0.825, 0, 1, 2, 3, 4, 5, 7, 8, 9, 10, 11, 13, 14, 15, 16, 17, 18, 20, 21, 22, 23, 24, 25, 26, 27, 28, 31, 32, 33, 34, 35, 36, 38, 39, 40, 41, 42, 43, 47, 48, 49, 50, 51, 52, 54, 56, 57, 58, 59, 60, 61, 62, 65, 67, 69, 71, 72, 73, 74, 75, 76, 77, 78, 79, 80, 81, 82, 84, 85, 86, 87, 88, 89, 90, 93, 94, 95, 96, 97, 98, 99, 100, 101, 103, 104, 106, 107, 109, 111, 112, 113, 114, 115, 116, 117, 118, 119, 120, 122, 123, 124, 125, 126, 127, 128, 130, 131, 132, 134, 135, 136, 137, 139, 140, 143, 145, 146, 147, 148, 149, 150, 151, 152, 153, 154, 155, 156, 157, 158, 159, 160, 161, 162, 163, 164, 166, 167, 168, 169, 170, 171, 172, 173, 174, 175, 176, 177, 178, 180, 181, 182, 183, 184, 185, 186, 188, 189, 191, 192, 193, 194, 195, 196, 198, 199], \"Problem_27_gold_123\": [1.0, 0, 1, 2, 3, 4, 5, 6, 7, 8, 9, 10, 11, 12, 13, 14, 15, 16, 17, 18, 19, 20, 21, 22, 23, 24, 25, 26, 27, 28, 29, 30, 31, 32, 33, 34, 35, 36, 37, 38, 39, 40, 41, 42, 43, 44, 45, 46, 47, 48, 49, 50, 51, 52, 53, 54, 55, 56, 57, 58, 59, 60, 61, 62, 63, 64, 65, 66, 67, 68, 69, 70, 71, 72, 73, 74, 75, 76, 77, 78, 79, 80, 81, 82, 83, 84, 85, 86, 87, 88, 89, 90, 91, 92, 93, 94, 95, 96, 97, 98, 99, 100, 101, 102, 103, 104, 105, 106, 107, 108, 109, 110, 111, 112, 113, 114, 115, 116, 117, 118, 119, 120, 121, 122, 123, 124, 125, 126, 127, 128, 129, 130, 131, 132, 133, 134, 135, 136, 137, 138, 139, 140, 141, 142, 143, 144, 145, 146, 147, 148, 149, 150, 151, 152, 153, 154, 155, 156, 157, 158, 159, 160, 161, 162, 163, 164, 165, 166, 167, 168, 169, 170, 171, 172, 173, 174, 175, 176, 177, 178, 179, 180, 181, 182, 183, 184, 185, 186, 187, 188, 189, 190, 191, 192, 193, 194, 195, 196, 197, 198, 199], \"Problem_29_gold_133\": [0.0], \"Problem_9_gold_24\": [0.0], \"Problem_106_gold_543\": [0.0], \"Problem_114_gold_583\": [0.0], \"Problem_160_gold_739\": [0.0], \"Problem_82_gold_439\": [0.0], \"Problem_159_gold_733\": [0.0], \"Problem_76_gold_397\": [0.0], \"Problem_148_gold_762\": [0.0], \"Problem_139_gold_673\": [0.0], \"Problem_156_gold_805\": [0.0], \"Problem_13_gold_51\": [0.0], \"Problem_158_gold_721\": [1.0, 0, 1, 2, 3, 4, 5, 6, 7, 8, 9, 10, 11, 12, 13, 14, 15, 16, 17, 18, 19, 20, 21, 22, 23, 24, 25, 26, 27, 28, 29, 30, 31, 32, 33, 34, 35, 36, 37, 38, 39, 40, 41, 42, 43, 44, 45, 46, 47, 48, 49, 50, 51, 52, 53, 54, 55, 56, 57, 58, 59, 60, 61, 62, 63, 64, 65, 66, 67, 68, 69, 70, 71, 72, 73, 74, 75, 76, 77, 78, 79, 80, 81, 82, 83, 84, 85, 86, 87, 88, 89, 90, 91, 92, 93, 94, 95, 96, 97, 98, 99, 100, 101, 102, 103, 104, 105, 106, 107, 108, 109, 110, 111, 112, 113, 114, 115, 116, 117, 118, 119, 120, 121, 122, 123, 124, 125, 126, 127, 128, 129, 130, 131, 132, 133, 134, 135, 136, 137, 138, 139, 140, 141, 142, 143, 144, 145, 146, 147, 148, 149, 150, 151, 152, 153, 154, 155, 156, 157, 158, 159, 160, 161, 162, 163, 164, 165, 166, 167, 168, 169, 170, 171, 172, 173, 174, 175, 176, 177, 178, 179, 180, 181, 182, 183, 184, 185, 186, 187, 188, 189, 190, 191, 192, 193, 194, 195, 196, 197, 198, 199], \"Problem_23_gold_112\": [0.0], \"Problem_98_gold_429\": [0.0], \"Problem_134_gold_639\": [0.0], \"Problem_157_gold_811\": [0.0], \"Problem_57_gold_319\": [0.0], \"Problem_39_gold_215\": [1.0, 0, 1, 2, 3, 4, 5, 6, 7, 8, 9, 10, 11, 12, 13, 14, 15, 16, 17, 18, 19, 20, 21, 22, 23, 24, 25, 26, 27, 28, 29, 30, 31, 32, 33, 34, 35, 36, 37, 38, 39, 40, 41, 42, 43, 44, 45, 46, 47, 48, 49, 50, 51, 52, 53, 54, 55, 56, 57, 58, 59, 60, 61, 62, 63, 64, 65, 66, 67, 68, 69, 70, 71, 72, 73, 74, 75, 76, 77, 78, 79, 80, 81, 82, 83, 84, 85, 86, 87, 88, 89, 90, 91, 92, 93, 94, 95, 96, 97, 98, 99, 100, 101, 102, 103, 104, 105, 106, 107, 108, 109, 110, 111, 112, 113, 114, 115, 116, 117, 118, 119, 120, 121, 122, 123, 124, 125, 126, 127, 128, 129, 130, 131, 132, 133, 134, 135, 136, 137, 138, 139, 140, 141, 142, 143, 144, 145, 146, 147, 148, 149, 150, 151, 152, 153, 154, 155, 156, 157, 158, 159, 160, 161, 162, 163, 164, 165, 166, 167, 168, 169, 170, 171, 172, 173, 174, 175, 176, 177, 178, 179, 180, 181, 182, 183, 184, 185, 186, 187, 188, 189, 190, 191, 192, 193, 194, 195, 196, 197, 198, 199], \"Problem_17_gold_72\": [0.0], \"Problem_84_gold_442\": [0.0], \"Problem_130_gold_624\": [1.0, 0, 1, 2, 3, 4, 5, 6, 7, 8, 9, 10, 11, 12, 13, 14, 15, 16, 17, 18, 19, 20, 21, 22, 23, 24, 25, 26, 27, 28, 29, 30, 31, 32, 33, 34, 35, 36, 37, 38, 39, 40, 41, 42, 43, 44, 45, 46, 47, 48, 49, 50, 51, 52, 53, 54, 55, 56, 57, 58, 59, 60, 61, 62, 63, 64, 65, 66, 67, 68, 69, 70, 71, 72, 73, 74, 75, 76, 77, 78, 79, 80, 81, 82, 83, 84, 85, 86, 87, 88, 89, 90, 91, 92, 93, 94, 95, 96, 97, 98, 99, 100, 101, 102, 103, 104, 105, 106, 107, 108, 109, 110, 111, 112, 113, 114, 115, 116, 117, 118, 119, 120, 121, 122, 123, 124, 125, 126, 127, 128, 129, 130, 131, 132, 133, 134, 135, 136, 137, 138, 139, 140, 141, 142, 143, 144, 145, 146, 147, 148, 149, 150, 151, 152, 153, 154, 155, 156, 157, 158, 159, 160, 161, 162, 163, 164, 165, 166, 167, 168, 169, 170, 171, 172, 173, 174, 175, 176, 177, 178, 179, 180, 181, 182, 183, 184, 185, 186, 187, 188, 189, 190, 191, 192, 193, 194, 195, 196, 197, 198, 199], \"Problem_40_gold_147\": [0.030000000000000027, 2, 4, 6, 22, 47, 138], \"Problem_47_gold_177\": [0.0], \"Problem_19_gold_81\": [0.79, 1, 4, 6, 7, 8, 9, 10, 12, 14, 15, 17, 18, 19, 22, 23, 24, 26, 27, 28, 30, 33, 34, 35, 36, 37, 39, 40, 42, 43, 44, 47, 48, 49, 50, 51, 52, 53, 54, 55, 56, 57, 58, 59, 60, 61, 62, 63, 64, 65, 68, 70, 71, 72, 76, 77, 78, 79, 80, 81, 82, 83, 84, 85, 86, 87, 88, 89, 90, 91, 92, 93, 94, 95, 96, 97, 98, 99, 100, 101, 102, 103, 104, 105, 106, 107, 108, 109, 110, 111, 112, 113, 114, 115, 116, 117, 118, 119, 121, 122, 123, 124, 125, 126, 127, 128, 129, 130, 131, 133, 134, 135, 136, 137, 138, 140, 142, 143, 144, 145, 146, 147, 149, 150, 151, 152, 153, 154, 155, 156, 157, 159, 160, 161, 163, 164, 165, 166, 167, 168, 169, 175, 176, 178, 179, 180, 181, 182, 183, 184, 185, 190, 191, 192, 193, 194, 195, 197, 199], \"Problem_44_gold_241\": [0.0], \"Problem_34_gold_191\": [0.0], \"Problem_156_gold_809\": [0.0], \"Problem_27_gold_127\": [0.0], \"Problem_49_gold_284\": [0.62, 0, 1, 2, 3, 5, 6, 7, 8, 9, 10, 11, 12, 13, 16, 17, 19, 20, 21, 22, 26, 28, 31, 32, 34, 37, 43, 44, 45, 47, 49, 50, 52, 53, 54, 56, 57, 58, 60, 61, 62, 66, 68, 69, 71, 74, 75, 76, 77, 81, 83, 84, 88, 93, 94, 96, 97, 98, 103, 107, 110, 113, 114, 115, 116, 117, 118, 119, 120, 121, 122, 123, 124, 125, 126, 127, 128, 130, 131, 132, 134, 135, 136, 138, 139, 140, 141, 142, 144, 146, 147, 148, 152, 156, 157, 158, 159, 160, 161, 162, 163, 164, 165, 166, 167, 168, 170, 171, 172, 173, 174, 177, 178, 181, 182, 183, 184, 185, 186, 187, 189, 194, 195, 196, 197], \"Problem_98_gold_505\": [0.0], \"Problem_148_gold_760\": [0.0], \"Problem_88_gold_462\": [0.0], \"Problem_53_gold_298\": [0.745, 0, 1, 2, 6, 7, 8, 9, 10, 12, 13, 14, 15, 16, 17, 18, 19, 20, 22, 23, 24, 25, 26, 27, 28, 29, 31, 32, 33, 35, 36, 37, 38, 39, 40, 41, 42, 44, 45, 46, 47, 48, 49, 50, 51, 53, 54, 56, 57, 58, 60, 61, 64, 65, 66, 68, 69, 71, 74, 77, 79, 80, 82, 83, 84, 85, 86, 87, 88, 90, 92, 93, 94, 96, 97, 98, 99, 100, 101, 103, 104, 105, 106, 108, 109, 112, 113, 115, 116, 117, 118, 121, 122, 124, 125, 126, 127, 128, 129, 130, 132, 133, 136, 138, 140, 141, 143, 146, 148, 149, 150, 151, 152, 154, 155, 157, 159, 160, 161, 162, 163, 164, 165, 166, 167, 168, 169, 170, 171, 172, 174, 176, 177, 179, 181, 183, 184, 185, 186, 187, 188, 189, 191, 193, 194, 195, 196, 197, 198, 199], \"Problem_88_gold_449\": [0.0], \"Problem_110_gold_568\": [0.0], \"Problem_88_gold_472\": [0.0], \"Problem_0_gold_1\": [0.0], \"Problem_119_gold_603\": [0.0], \"Problem_45_gold_165\": [0.0], \"Problem_21_gold_100\": [0.0], \"Problem_127_gold_617\": [0.0], \"Problem_67_gold_362\": [0.0], \"Problem_159_gold_836\": [0.0], \"Problem_158_gold_729\": [0.0], \"Problem_102_gold_531\": [0.995, 0, 1, 2, 3, 4, 5, 6, 7, 8, 9, 10, 11, 12, 13, 14, 15, 16, 17, 18, 19, 20, 21, 22, 23, 24, 25, 26, 27, 28, 29, 30, 31, 32, 33, 34, 35, 36, 37, 38, 39, 40, 41, 42, 43, 44, 45, 46, 47, 48, 49, 50, 51, 52, 53, 54, 55, 56, 57, 58, 59, 60, 61, 62, 63, 64, 65, 66, 67, 68, 69, 70, 71, 72, 73, 74, 75, 76, 77, 78, 79, 80, 81, 82, 83, 84, 85, 86, 87, 88, 89, 90, 91, 92, 93, 94, 95, 96, 97, 98, 99, 100, 101, 102, 103, 104, 105, 106, 107, 108, 109, 110, 111, 112, 113, 114, 115, 116, 117, 118, 119, 120, 121, 122, 123, 124, 125, 126, 127, 128, 129, 130, 131, 132, 133, 134, 135, 136, 137, 138, 139, 140, 141, 142, 143, 144, 145, 146, 147, 148, 149, 150, 151, 152, 153, 154, 155, 156, 157, 158, 159, 160, 161, 162, 163, 164, 165, 166, 167, 168, 169, 170, 171, 172, 173, 174, 175, 176, 177, 178, 179, 180, 181, 182, 183, 184, 185, 186, 187, 188, 189, 190, 191, 192, 193, 194, 195, 197, 198, 199], \"Problem_76_gold_398\": [0.0], \"Problem_133_gold_635\": [1.0, 0, 1, 2, 3, 4, 5, 6, 7, 8, 9, 10, 11, 12, 13, 14, 15, 16, 17, 18, 19, 20, 21, 22, 23, 24, 25, 26, 27, 28, 29, 30, 31, 32, 33, 34, 35, 36, 37, 38, 39, 40, 41, 42, 43, 44, 45, 46, 47, 48, 49, 50, 51, 52, 53, 54, 55, 56, 57, 58, 59, 60, 61, 62, 63, 64, 65, 66, 67, 68, 69, 70, 71, 72, 73, 74, 75, 76, 77, 78, 79, 80, 81, 82, 83, 84, 85, 86, 87, 88, 89, 90, 91, 92, 93, 94, 95, 96, 97, 98, 99, 100, 101, 102, 103, 104, 105, 106, 107, 108, 109, 110, 111, 112, 113, 114, 115, 116, 117, 118, 119, 120, 121, 122, 123, 124, 125, 126, 127, 128, 129, 130, 131, 132, 133, 134, 135, 136, 137, 138, 139, 140, 141, 142, 143, 144, 145, 146, 147, 148, 149, 150, 151, 152, 153, 154, 155, 156, 157], \"Problem_88_gold_457\": [0.0], \"Problem_46_gold_247\": [1.0, 0, 1, 2, 3, 4, 5, 6, 7, 8, 9, 10, 11, 12, 13, 14, 15, 16, 17, 18, 19, 20, 21, 22, 23, 24, 25, 26, 27, 28, 29, 30, 31, 32, 33, 34, 35, 36, 37, 38, 39, 40, 41, 42, 43, 44, 45, 46, 47, 48, 49, 50, 51, 52, 53, 54, 55, 56, 57, 58, 59, 60, 61, 62, 63, 64, 65, 66, 67, 68, 69, 70, 71, 72, 73, 74, 75, 76, 77, 78, 79, 80, 81, 82, 83, 84, 85, 86, 87, 88, 89, 90, 91, 92, 93, 94, 95, 96, 97, 98, 99, 100, 101, 102, 103, 104, 105, 106, 107, 108, 109, 110, 111, 112, 113, 114, 115, 116, 117, 118, 119, 120, 121, 122, 123, 124, 125, 126, 127, 128, 129, 130, 131, 132, 133, 134, 135, 136, 137, 138, 139, 140, 141, 142, 143, 144, 145, 146, 147, 148, 149, 150, 151, 152, 153, 154, 155, 156, 157, 158, 159, 160, 161, 162, 163, 164, 165, 166, 167, 168, 169, 170, 171, 172, 173, 174, 175, 176, 177, 178, 179, 180, 181, 182, 183, 184, 185, 186, 187, 188, 189, 190, 191, 192, 193, 194, 195, 196, 197, 198, 199], \"Problem_48_gold_183\": [0.0], \"Problem_82_gold_432\": [0.0], \"Problem_65_gold_278\": [0.0], \"Problem_142_gold_681\": [0.0], \"Problem_30_gold_134\": [0.735, 0, 1, 2, 3, 4, 5, 6, 7, 8, 9, 10, 12, 14, 15, 16, 19, 20, 21, 23, 24, 25, 26, 29, 30, 31, 32, 33, 34, 35, 37, 38, 39, 40, 41, 42, 43, 44, 45, 46, 47, 48, 49, 50, 51, 52, 53, 57, 58, 59, 61, 65, 66, 68, 69, 73, 74, 76, 77, 78, 79, 80, 81, 82, 83, 84, 85, 86, 87, 88, 89, 90, 91, 92, 93, 94, 95, 96, 97, 99, 100, 101, 102, 103, 104, 105, 106, 107, 109, 110, 113, 115, 116, 118, 119, 126, 127, 128, 129, 130, 131, 132, 133, 134, 135, 136, 137, 138, 139, 140, 144, 146, 149, 150, 151, 152, 153, 154, 155, 156, 157, 161, 163, 164, 165, 166, 167, 169, 170, 172, 173, 174, 175, 176, 177, 178, 180, 181, 183, 185, 186, 187, 188, 190, 192, 197, 198, 199], \"Problem_147_gold_707\": [0.0], \"Problem_156_gold_802\": [0.0], \"Problem_158_gold_817\": [0.0], \"Problem_42_gold_235\": [0.0], \"Problem_35_gold_196\": [0.0], \"Problem_93_gold_481\": [0.09499999999999997, 4, 13, 20, 21, 28, 33, 42, 53, 68, 71, 79, 81, 89, 91, 97, 105, 126, 133, 140], \"Problem_160_gold_743\": [0.0], \"Problem_158_gold_723\": [0.0], \"Problem_7_gold_16\": [0.0], \"Problem_58_gold_325\": [0.0], \"Problem_160_gold_840\": [0.0], \"Problem_105_gold_537\": [0.995, 0, 1, 2, 3, 4, 5, 7, 8, 9, 10, 11, 12, 13, 14, 15, 16, 17, 18, 19, 20, 21, 22, 23, 24, 25, 26, 27, 28, 29, 30, 31, 32, 33, 34, 35, 36, 37, 38, 39, 40, 41, 42, 43, 44, 45, 46, 47, 48, 49, 50, 51, 52, 53, 54, 55, 56, 57, 58, 59, 60, 61, 62, 63, 64, 65, 66, 67, 68, 69, 70, 71, 72, 73, 74, 75, 76, 77, 78, 79, 80, 81, 82, 83, 84, 85, 86, 87, 88, 89, 90, 91, 92, 93, 94, 95, 96, 97, 98, 99, 100, 101, 102, 103, 104, 105, 106, 107, 108, 109, 110, 111, 112, 113, 114, 115, 116, 117, 118, 119, 120, 121, 122, 123, 124, 125, 126, 127, 128, 129, 130, 131, 132, 133, 134, 135, 136, 137, 138, 139, 140, 141, 142, 143, 144, 145, 146, 147, 148, 149, 150, 151, 152, 153, 154, 155, 156, 157, 158, 159, 160, 161, 162, 163, 164, 165, 166, 167, 168, 169, 170, 171, 172, 173, 174, 175, 176, 177, 178, 179, 180, 181, 182, 183, 184, 185, 186, 187, 188, 189, 190, 191, 192, 193, 194, 195, 196, 197, 198, 199], \"Problem_11_gold_36\": [0.0], \"Problem_124_gold_611\": [0.0], \"Problem_55_gold_306\": [0.0], \"Problem_7_gold_20\": [0.505, 0, 3, 6, 7, 8, 9, 15, 17, 21, 23, 24, 26, 27, 28, 29, 32, 33, 34, 36, 38, 39, 43, 46, 47, 48, 49, 53, 56, 57, 58, 60, 64, 65, 68, 71, 72, 73, 76, 78, 80, 81, 82, 83, 84, 85, 90, 94, 98, 99, 100, 101, 103, 104, 105, 110, 112, 113, 115, 117, 120, 122, 123, 125, 127, 128, 132, 135, 136, 139, 141, 143, 144, 145, 146, 147, 149, 151, 153, 154, 155, 158, 160, 161, 162, 164, 166, 167, 168, 169, 171, 174, 176, 177, 178, 181, 183, 191, 192, 196, 197, 198], \"Problem_48_gold_259\": [0.0], \"Problem_88_gold_469\": [0.0], \"Problem_32_gold_146\": [0.0], \"Problem_158_gold_819\": [0.0], \"Problem_63_gold_351\": [0.0], \"Problem_41_gold_151\": [0.85, 0, 1, 2, 3, 4, 5, 7, 8, 9, 10, 11, 13, 14, 15, 16, 17, 18, 20, 21, 22, 23, 24, 25, 26, 27, 28, 31, 32, 33, 34, 35, 36, 38, 39, 40, 41, 42, 43, 47, 48, 49, 50, 51, 52, 54, 56, 57, 58, 59, 60, 61, 62, 65, 67, 69, 71, 72, 73, 74, 75, 76, 77, 78, 79, 80, 81, 82, 83, 84, 85, 86, 87, 88, 89, 90, 93, 94, 95, 96, 97, 98, 99, 100, 101, 103, 104, 106, 107, 109, 110, 111, 112, 113, 114, 115, 116, 117, 118, 119, 120, 122, 123, 124, 125, 126, 127, 128, 130, 131, 132, 134, 135, 136, 137, 138, 139, 140, 141, 143, 145, 146, 147, 148, 149, 150, 151, 152, 153, 154, 155, 156, 157, 158, 159, 160, 161, 162, 163, 164, 166, 167, 168, 169, 170, 171, 172, 173, 174, 175, 176, 177, 178, 180, 181, 182, 183, 184, 185, 186, 187, 188, 189, 191, 192, 193, 194, 195, 196, 198, 199], \"Problem_53_gold_296\": [0.0], \"Problem_158_gold_822\": [0.0], \"Problem_46_gold_169\": [0.0], \"Problem_99_gold_512\": [0.0], \"Problem_103_gold_533\": [0.0], \"Problem_65_gold_280\": [0.0], \"Problem_75_gold_386\": [0.0050000000000000044, 187], \"Problem_60_gold_331\": [0.0], \"Problem_22_gold_104\": [0.0], \"Problem_49_gold_282\": [0.0], \"Problem_152_gold_785\": [0.0], \"Problem_102_gold_530\": [0.0], \"Problem_152_gold_781\": [0.5919540229885057, 0, 1, 3, 4, 7, 8, 9, 10, 11, 12, 13, 14, 15, 17, 18, 19, 20, 21, 24, 25, 27, 30, 32, 33, 35, 36, 37, 38, 40, 41, 43, 47, 48, 49, 50, 51, 52, 54, 55, 56, 58, 59, 60, 61, 63, 66, 67, 68, 69, 70, 71, 72, 73, 74, 75, 77, 78, 79, 80, 81, 83, 84, 85, 86, 90, 95, 97, 98, 99, 106, 107, 110, 111, 113, 114, 119, 123, 125, 126, 130, 133, 135, 137, 139, 140, 142, 143, 144, 146, 150, 151, 152, 153, 155, 157, 158, 163, 164, 166, 170, 171, 172, 173], \"Problem_44_gold_239\": [0.0], \"Problem_88_gold_471\": [0.0], \"Problem_115_gold_590\": [0.0], \"Problem_135_gold_642\": [0.0], \"Problem_45_gold_167\": [0.0], \"Problem_1_gold_8\": [0.0], \"Problem_17_gold_67\": [0.0], \"Problem_136_gold_644\": [0.0], \"Problem_121_gold_605\": [0.040000000000000036, 22, 25, 32, 76, 89, 96, 98, 182], \"Problem_160_gold_741\": [0.0], \"Problem_77_gold_402\": [0.0], \"Problem_82_gold_440\": [0.0], \"Problem_155_gold_799\": [0.0], \"Problem_160_gold_738\": [0.0], \"Problem_88_gold_461\": [0.0], \"Problem_136_gold_650\": [0.0], \"Problem_55_gold_304\": [0.0], \"Problem_18_gold_80\": [0.0], \"Problem_78_gold_416\": [0.0], \"Problem_164_gold_757\": [0.0], \"Problem_159_gold_837\": [0.03500000000000003, 28, 32, 57, 78, 102, 105, 186], \"Problem_164_gold_859\": [0.0], \"Problem_93_gold_482\": [0.8049999999999999, 0, 2, 3, 4, 5, 6, 7, 9, 10, 13, 18, 19, 20, 21, 22, 24, 26, 27, 28, 29, 30, 32, 33, 34, 37, 38, 39, 40, 41, 42, 43, 45, 48, 50, 51, 52, 53, 54, 56, 57, 59, 61, 62, 63, 65, 66, 67, 68, 69, 70, 71, 73, 74, 75, 76, 77, 78, 79, 81, 83, 84, 85, 86, 87, 88, 89, 91, 92, 93, 94, 96, 97, 99, 100, 101, 102, 104, 105, 107, 108, 109, 110, 112, 114, 115, 116, 117, 118, 119, 121, 122, 123, 124, 125, 126, 128, 129, 130, 131, 132, 133, 135, 136, 137, 138, 139, 140, 142, 143, 144, 146, 147, 148, 150, 151, 152, 153, 154, 155, 157, 158, 159, 160, 161, 162, 163, 164, 165, 166, 167, 168, 169, 170, 171, 172, 173, 174, 175, 176, 177, 178, 179, 180, 181, 182, 183, 184, 185, 187, 188, 189, 190, 191, 192, 193, 194, 195, 196, 197, 198, 199], \"Problem_62_gold_346\": [0.0], \"Problem_48_gold_181\": [0.0], \"Problem_48_gold_257\": [0.0], \"Problem_37_gold_208\": [1.0, 0, 1, 2, 3, 4, 5, 6, 7, 8, 9, 10, 11, 12, 13, 14, 15, 16, 17, 18, 19, 20, 21, 22, 23, 24, 25, 26, 27, 28, 29, 30, 31, 32, 33, 34, 35, 36, 37, 38, 39, 40, 41, 42, 43, 44, 45, 46, 47, 48, 49, 50, 51, 52, 53, 54, 55, 56, 57, 58, 59, 60, 61, 62, 63, 64, 65, 66, 67, 68, 69, 70, 71, 72, 73, 74, 75, 76, 77, 78, 79, 80, 81, 82, 83, 84, 85, 86, 87, 88, 89, 90, 91, 92, 93, 94, 95, 96, 97, 98, 99, 100, 101, 102, 103, 104, 105, 106, 107, 108, 109, 110, 111, 112, 113, 114, 115, 116, 117, 118, 119, 120, 121, 122, 123, 124, 125, 126, 127, 128, 129, 130, 131, 132, 133, 134, 135, 136, 137, 138, 139, 140, 141, 142, 143, 144, 145, 146, 147, 148, 149, 150, 151, 152, 153, 154, 155, 156, 157, 158, 159, 160, 161, 162, 163, 164, 165, 166, 167, 168, 169, 170, 171, 172, 173, 174, 175, 176, 177, 178, 179, 180, 181, 182, 183, 184, 185, 186, 187, 188, 189, 190, 191, 192, 193, 194, 195, 196, 197, 198, 199], \"Problem_46_gold_250\": [0.0], \"Problem_113_gold_572\": [0.125, 4, 6, 9, 11, 14, 16, 18, 20, 25, 26, 30, 31, 36, 37, 39, 43, 44, 53, 54, 58, 60, 63, 66, 125, 143], \"Problem_60_gold_336\": [0.0], \"Problem_22_gold_103\": [0.0], \"Problem_46_gold_251\": [0.0], \"Problem_161_gold_749\": [0.0], \"Problem_139_gold_663\": [1.0, 0, 1, 2, 3, 4, 5, 6, 7, 8, 9, 10, 11, 12, 13, 14, 15, 16, 17, 18, 19, 20, 21, 22, 23, 24, 25, 26, 27, 28, 29, 30, 31, 32, 33, 34, 35, 36, 37, 38, 39, 40, 41, 42, 43, 44, 45, 46, 47, 48, 49, 50, 51, 52, 53, 54, 55, 56, 57, 58, 59, 60, 61, 62, 63, 64, 65, 66, 67, 68, 69, 70, 71, 72, 73, 74, 75, 76, 77, 78, 79, 80, 81, 82, 83, 84, 85, 86, 87, 88, 89, 90, 91, 92, 93, 94, 95, 96, 97, 98, 99, 100, 101, 102, 103, 104, 105, 106, 107, 108, 109, 110, 111, 112, 113, 114, 115, 116, 117, 118, 119, 120, 121, 122, 123, 124, 125, 126, 127, 128, 129, 130, 131, 132, 133, 134, 135, 136, 137, 138, 139, 140, 141, 142, 143, 144, 145, 146, 147, 148, 149, 150, 151, 152, 153, 154, 155, 156, 157, 158, 159, 160, 161, 162, 163, 164, 165, 166, 167, 168, 169, 170, 171, 172, 173, 174, 175, 176, 177, 178, 179, 180, 181, 182, 183, 184, 185, 186, 187, 188, 189, 190, 191, 192, 193, 194, 195, 196, 197, 198, 199], \"Problem_15_gold_61\": [0.0], \"Problem_123_gold_607\": [0.0], \"Problem_160_gold_846\": [0.0], \"Problem_56_gold_310\": [0.0], \"Problem_148_gold_764\": [0.0], \"Problem_37_gold_209\": [0.0], \"Problem_149_gold_769\": [0.0], \"Problem_62_gold_273\": [0.615, 0, 1, 3, 4, 5, 7, 9, 10, 11, 14, 15, 23, 25, 26, 28, 30, 31, 33, 35, 36, 37, 39, 42, 44, 45, 46, 47, 48, 50, 51, 52, 55, 56, 59, 61, 62, 63, 64, 65, 66, 67, 68, 69, 70, 71, 73, 74, 76, 77, 81, 82, 83, 84, 85, 86, 89, 90, 91, 92, 93, 95, 96, 98, 101, 103, 104, 105, 106, 107, 108, 109, 111, 113, 114, 115, 116, 119, 120, 124, 125, 126, 127, 128, 130, 133, 136, 137, 139, 142, 143, 144, 146, 149, 150, 151, 153, 154, 155, 156, 157, 159, 160, 162, 163, 165, 166, 167, 168, 170, 171, 172, 174, 177, 179, 180, 181, 183, 184, 185, 186, 187, 188, 197], \"Problem_88_gold_468\": [0.0], \"Problem_6_gold_12\": [0.0], \"Problem_158_gold_727\": [0.0], \"Problem_160_gold_847\": [0.0], \"Problem_48_gold_179\": [0.0], \"Problem_88_gold_451\": [0.0], \"Problem_44_gold_160\": [0.0], \"Problem_124_gold_612\": [0.83, 0, 1, 2, 3, 4, 5, 6, 7, 8, 9, 10, 11, 12, 13, 14, 15, 17, 18, 20, 21, 22, 23, 24, 25, 26, 27, 28, 29, 30, 31, 32, 33, 34, 35, 36, 37, 38, 40, 41, 42, 43, 44, 45, 46, 47, 48, 49, 50, 51, 52, 54, 55, 56, 57, 58, 59, 60, 61, 62, 63, 64, 65, 66, 67, 68, 69, 70, 71, 72, 73, 74, 76, 77, 78, 79, 80, 81, 83, 84, 86, 87, 88, 89, 90, 92, 93, 94, 97, 98, 99, 100, 101, 102, 103, 104, 105, 106, 107, 111, 112, 113, 115, 116, 117, 119, 120, 121, 124, 125, 126, 128, 129, 131, 132, 133, 135, 137, 138, 139, 140, 141, 144, 145, 146, 147, 148, 149, 151, 152, 153, 154, 155, 156, 157, 158, 159, 160, 161, 163, 164, 165, 166, 168, 169, 170, 174, 175, 176, 177, 178, 181, 182, 184, 185, 186, 187, 188, 189, 190, 191, 194, 195, 196, 197, 198, 199], \"Problem_58_gold_321\": [0.0], \"Problem_7_gold_18\": [0.0], \"Problem_98_gold_422\": [0.0], \"Problem_37_gold_207\": [0.0], \"Problem_36_gold_200\": [0.14, 0, 4, 10, 14, 19, 23, 24, 29, 30, 31, 33, 36, 38, 39, 50, 60, 64, 84, 116, 131, 136, 143, 151, 156, 162, 176, 182, 194], \"Problem_48_gold_256\": [0.0], \"Problem_160_gold_746\": [0.0], \"Problem_95_gold_492\": [0.0], \"Problem_92_gold_478\": [0.0], \"Problem_35_gold_197\": [0.0], \"Problem_151_gold_776\": [0.0], \"Problem_7_gold_19\": [0.0], \"Problem_109_gold_564\": [0.0], \"Problem_163_gold_755\": [0.0], \"Problem_148_gold_761\": [0.0], \"Problem_143_gold_687\": [0.0], \"Problem_71_gold_374\": [0.0], \"Problem_36_gold_199\": [0.29000000000000004, 0, 4, 6, 7, 11, 12, 14, 15, 16, 17, 18, 19, 25, 26, 27, 28, 29, 30, 31, 33, 34, 35, 36, 37, 38, 39, 48, 49, 50, 57, 60, 68, 84, 112, 116, 121, 127, 128, 129, 133, 136, 138, 139, 140, 141, 143, 145, 150, 151, 163, 176, 178, 182, 186, 189, 194, 197, 198], \"Problem_88_gold_453\": [0.0], \"Problem_79_gold_357\": [0.0], \"Problem_88_gold_460\": [0.0], \"Problem_158_gold_716\": [0.0], \"Problem_16_gold_63\": [1.0, 0, 1, 2, 3, 4, 5, 6, 7, 8, 9, 10, 11, 12, 13, 14, 15, 16, 17, 18, 19, 20, 21, 22, 23, 24, 25, 26, 27, 28, 29, 30, 31, 32, 33, 34, 35, 36, 37, 38, 39, 40, 41, 42, 43, 44, 45, 46, 47, 48, 49, 50, 51, 52, 53, 54, 55, 56, 57, 58, 59, 60, 61, 62, 63, 64, 65, 66, 67, 68, 69, 70, 71, 72, 73, 74, 75, 76, 77, 78, 79, 80, 81, 82, 83, 84, 85, 86, 87, 88, 89, 90, 91, 92, 93, 94, 95, 96, 97, 98, 99, 100, 101, 102, 103, 104, 105, 106, 107, 108, 109, 110, 111, 112, 113, 114, 115, 116, 117, 118, 119, 120, 121, 122, 123, 124, 125, 126, 127, 128, 129, 130, 131, 132, 133, 134, 135, 136, 137, 138, 139, 140, 141, 142, 143, 144, 145, 146, 147, 148, 149, 150, 151, 152, 153, 154, 155, 156, 157, 158, 159, 160, 161, 162, 163, 164, 165, 166, 167, 168, 169, 170, 171, 172, 173, 174, 175, 176, 177, 178, 179, 180, 181, 182, 183, 184, 185, 186, 187, 188, 189, 190, 191, 192, 193, 194, 195, 196, 197, 198, 199], \"Problem_136_gold_647\": [0.0050000000000000044, 44], \"Problem_10_gold_27\": [0.0], \"Problem_0_gold_0\": [0.0], \"Problem_38_gold_212\": [0.0], \"Problem_45_gold_244\": [0.0], \"Problem_154_gold_795\": [0.0], \"Problem_22_gold_106\": [0.0], \"Problem_158_gold_827\": [0.0], \"Problem_164_gold_759\": [0.0], \"Problem_98_gold_502\": [0.0], \"Problem_147_gold_708\": [0.015000000000000013, 2, 3, 99], \"Problem_46_gold_171\": [0.0], \"Problem_3_gold_10\": [0.0], \"Problem_77_gold_404\": [0.0], \"Problem_94_gold_488\": [0.0], \"Problem_114_gold_586\": [0.0], \"Problem_77_gold_403\": [0.0], \"Problem_160_gold_844\": [0.0], \"Problem_28_gold_132\": [0.15000000000000002, 3, 5, 10, 12, 51, 58, 62, 66, 67, 72, 78, 81, 86, 97, 102, 125, 135, 140, 157, 160, 166, 167, 170, 174, 175, 180, 182, 185, 192, 199], \"Problem_77_gold_406\": [0.0], \"Problem_100_gold_525\": [0.0], \"Problem_65_gold_356\": [0.0], \"Problem_94_gold_490\": [0.0], \"Problem_14_gold_56\": [0.0], \"Problem_62_gold_267\": [0.7150000000000001, 0, 1, 3, 4, 5, 7, 9, 10, 11, 14, 15, 20, 23, 25, 28, 29, 30, 33, 34, 35, 36, 37, 38, 39, 40, 41, 42, 44, 45, 46, 47, 48, 50, 51, 52, 55, 56, 59, 61, 62, 63, 64, 65, 66, 67, 68, 69, 70, 71, 73, 74, 76, 77, 81, 82, 83, 84, 85, 86, 88, 89, 91, 92, 93, 94, 95, 96, 97, 98, 99, 100, 101, 103, 104, 105, 106, 107, 108, 109, 111, 113, 114, 115, 116, 118, 119, 120, 122, 124, 125, 126, 127, 128, 130, 133, 136, 137, 138, 139, 140, 141, 142, 143, 144, 146, 149, 151, 152, 153, 154, 156, 157, 158, 159, 160, 161, 162, 163, 165, 166, 167, 168, 170, 171, 172, 173, 174, 175, 176, 177, 179, 180, 181, 182, 183, 184, 185, 186, 187, 188, 189, 190, 198], \"Problem_74_gold_385\": [0.88, 0, 1, 2, 4, 6, 7, 8, 9, 10, 11, 13, 14, 15, 16, 17, 18, 21, 22, 23, 24, 25, 26, 28, 29, 30, 32, 33, 34, 35, 36, 37, 38, 41, 42, 43, 44, 45, 46, 47, 48, 49, 50, 51, 52, 53, 54, 55, 56, 57, 58, 59, 60, 62, 63, 64, 65, 66, 67, 68, 70, 71, 72, 73, 75, 76, 77, 78, 79, 80, 81, 82, 83, 85, 86, 87, 88, 89, 91, 92, 93, 94, 95, 96, 97, 98, 99, 100, 101, 102, 103, 104, 105, 106, 107, 108, 109, 110, 111, 112, 113, 114, 116, 117, 118, 119, 120, 121, 122, 123, 124, 125, 126, 127, 129, 131, 132, 133, 134, 135, 136, 137, 138, 139, 140, 141, 142, 143, 144, 145, 146, 147, 148, 149, 150, 151, 152, 153, 154, 155, 158, 159, 160, 161, 162, 163, 164, 165, 166, 167, 168, 169, 171, 172, 173, 174, 175, 176, 177, 178, 179, 180, 181, 182, 183, 184, 187, 188, 189, 191, 192, 193, 194, 195, 196, 197, 199], \"Problem_78_gold_407\": [0.0], \"Problem_76_gold_396\": [0.06000000000000005, 1, 2, 3, 4, 5, 96, 107, 148, 166, 171, 184, 187], \"Problem_98_gold_501\": [0.0], \"Problem_158_gold_719\": [0.0], \"Problem_139_gold_669\": [0.0], \"Problem_41_gold_150\": [0.85, 0, 1, 2, 3, 4, 5, 7, 8, 9, 10, 11, 13, 14, 15, 16, 17, 18, 20, 21, 22, 23, 24, 25, 26, 27, 28, 31, 32, 33, 34, 35, 36, 38, 39, 40, 41, 42, 43, 47, 48, 49, 50, 51, 52, 54, 56, 57, 58, 59, 60, 61, 62, 65, 67, 69, 71, 72, 73, 74, 75, 76, 77, 78, 79, 80, 81, 82, 83, 84, 85, 86, 87, 88, 89, 90, 93, 94, 95, 96, 97, 98, 99, 100, 101, 103, 104, 106, 107, 109, 110, 111, 112, 113, 114, 115, 116, 117, 118, 119, 120, 122, 123, 124, 125, 126, 127, 128, 130, 131, 132, 134, 135, 136, 137, 138, 139, 140, 141, 143, 145, 146, 147, 148, 149, 150, 151, 152, 153, 154, 155, 156, 157, 158, 159, 160, 161, 162, 163, 164, 166, 167, 168, 169, 170, 171, 172, 173, 174, 175, 176, 177, 178, 180, 181, 182, 183, 184, 185, 186, 187, 188, 189, 191, 192, 193, 194, 195, 196, 198, 199], \"Problem_72_gold_377\": [0.9299999999999999, 0, 1, 2, 3, 4, 5, 6, 7, 8, 9, 10, 11, 12, 13, 15, 16, 17, 18, 19, 20, 21, 23, 24, 25, 26, 27, 28, 29, 30, 31, 32, 34, 35, 36, 37, 38, 39, 40, 41, 43, 44, 45, 46, 47, 48, 49, 50, 52, 53, 54, 55, 56, 57, 58, 59, 60, 62, 63, 64, 65, 66, 67, 68, 69, 71, 72, 73, 75, 76, 77, 78, 79, 81, 82, 83, 84, 85, 86, 87, 88, 89, 90, 91, 92, 93, 94, 96, 97, 98, 99, 100, 101, 102, 103, 104, 105, 106, 107, 108, 109, 110, 111, 112, 113, 114, 115, 116, 117, 118, 119, 120, 121, 122, 123, 124, 125, 126, 127, 128, 129, 130, 131, 132, 133, 134, 135, 136, 137, 138, 139, 140, 141, 142, 143, 144, 145, 146, 147, 148, 149, 150, 151, 152, 153, 154, 155, 156, 157, 158, 159, 160, 162, 163, 164, 165, 166, 167, 168, 169, 170, 171, 172, 173, 174, 176, 177, 178, 179, 180, 181, 182, 184, 186, 187, 188, 189, 190, 191, 192, 193, 194, 195, 196, 197, 198, 199], \"Problem_45_gold_243\": [0.0], \"Problem_10_gold_30\": [0.03500000000000003, 15, 19, 34, 74, 95, 107, 151], \"Problem_62_gold_343\": [0.7150000000000001, 0, 1, 3, 4, 5, 7, 9, 10, 11, 14, 15, 20, 23, 25, 28, 29, 30, 33, 34, 35, 36, 37, 38, 39, 40, 41, 42, 44, 45, 46, 47, 48, 50, 51, 52, 55, 56, 59, 61, 62, 63, 64, 65, 66, 67, 68, 69, 70, 71, 73, 74, 76, 77, 81, 82, 83, 84, 85, 86, 88, 89, 91, 92, 93, 94, 95, 96, 97, 98, 99, 100, 101, 103, 104, 105, 106, 107, 108, 109, 111, 113, 114, 115, 116, 118, 119, 120, 122, 124, 125, 126, 127, 128, 130, 133, 136, 137, 138, 139, 140, 141, 142, 143, 144, 146, 149, 151, 152, 153, 154, 156, 157, 158, 159, 160, 161, 162, 163, 165, 166, 167, 168, 170, 171, 172, 173, 174, 175, 176, 177, 179, 180, 181, 182, 183, 184, 185, 186, 187, 188, 189, 190, 198], \"Problem_150_gold_774\": [0.0], \"Problem_102_gold_529\": [0.995, 0, 1, 2, 3, 4, 5, 6, 7, 8, 9, 10, 11, 12, 13, 14, 15, 16, 17, 18, 19, 20, 21, 22, 23, 24, 25, 26, 27, 28, 29, 30, 31, 32, 33, 34, 35, 36, 37, 38, 39, 40, 41, 42, 43, 44, 45, 46, 47, 48, 49, 50, 51, 52, 53, 54, 55, 56, 57, 58, 59, 60, 61, 62, 63, 64, 65, 66, 67, 68, 69, 70, 71, 72, 73, 74, 75, 76, 77, 78, 79, 80, 81, 82, 83, 84, 85, 86, 87, 88, 89, 90, 91, 92, 93, 94, 95, 96, 97, 98, 99, 100, 101, 102, 103, 104, 105, 106, 107, 108, 109, 110, 111, 112, 113, 114, 115, 116, 117, 118, 119, 120, 121, 122, 123, 124, 125, 126, 127, 128, 129, 130, 131, 132, 133, 134, 135, 136, 137, 138, 139, 140, 141, 142, 143, 144, 145, 146, 147, 148, 149, 150, 151, 152, 153, 154, 155, 156, 157, 158, 159, 160, 161, 162, 163, 164, 165, 166, 167, 168, 169, 170, 171, 172, 173, 174, 175, 176, 177, 178, 179, 180, 181, 182, 183, 184, 185, 186, 187, 188, 189, 190, 191, 192, 193, 194, 195, 197, 198, 199], \"Problem_36_gold_202\": [0.43000000000000005, 0, 3, 4, 6, 7, 8, 9, 10, 11, 12, 13, 14, 15, 16, 17, 18, 19, 22, 23, 24, 25, 26, 27, 28, 29, 30, 31, 32, 33, 34, 35, 36, 37, 38, 39, 42, 48, 49, 50, 52, 57, 60, 63, 64, 68, 84, 85, 87, 112, 114, 116, 121, 127, 128, 129, 131, 133, 134, 136, 138, 139, 140, 141, 142, 143, 145, 150, 151, 152, 153, 155, 156, 161, 162, 163, 172, 176, 177, 178, 182, 186, 189, 192, 194, 197, 198], \"Problem_41_gold_233\": [0.0], \"Problem_17_gold_69\": [0.0], \"Problem_155_gold_798\": [0.0], \"Problem_160_gold_745\": [0.0], \"Problem_39_gold_219\": [0.99, 0, 1, 2, 3, 4, 5, 6, 7, 8, 9, 10, 11, 12, 13, 14, 15, 16, 17, 18, 19, 20, 21, 22, 23, 24, 25, 26, 27, 28, 29, 30, 31, 32, 33, 34, 35, 36, 37, 38, 39, 40, 41, 42, 43, 44, 45, 46, 47, 48, 49, 50, 51, 52, 54, 55, 56, 57, 58, 59, 60, 61, 62, 63, 64, 65, 66, 67, 68, 69, 70, 71, 72, 73, 74, 75, 76, 77, 78, 79, 80, 81, 82, 83, 84, 85, 86, 87, 88, 89, 90, 91, 92, 93, 94, 95, 96, 97, 98, 99, 100, 101, 102, 103, 104, 105, 106, 107, 108, 109, 110, 111, 112, 113, 114, 115, 116, 117, 118, 119, 120, 121, 122, 123, 124, 125, 126, 127, 128, 129, 130, 131, 132, 133, 134, 135, 136, 137, 138, 139, 140, 141, 142, 143, 144, 145, 146, 147, 148, 149, 150, 151, 152, 153, 154, 155, 156, 157, 158, 159, 160, 161, 162, 163, 164, 165, 166, 167, 168, 169, 170, 171, 172, 173, 174, 175, 176, 177, 178, 179, 180, 181, 182, 183, 184, 185, 186, 187, 188, 189, 190, 191, 192, 193, 194, 195, 197, 198, 199], \"Problem_50_gold_288\": [0.0], \"Problem_153_gold_791\": [0.0], \"Problem_149_gold_766\": [0.0], \"Problem_158_gold_824\": [1.0, 0, 1, 2, 3, 4, 5, 6, 7, 8, 9, 10, 11, 12, 13, 14, 15, 16, 17, 18, 19, 20, 21, 22, 23, 24, 25, 26, 27, 28, 29, 30, 31, 32, 33, 34, 35, 36, 37, 38, 39, 40, 41, 42, 43, 44, 45, 46, 47, 48, 49, 50, 51, 52, 53, 54, 55, 56, 57, 58, 59, 60, 61, 62, 63, 64, 65, 66, 67, 68, 69, 70, 71, 72, 73, 74, 75, 76, 77, 78, 79, 80, 81, 82, 83, 84, 85, 86, 87, 88, 89, 90, 91, 92, 93, 94, 95, 96, 97, 98, 99, 100, 101, 102, 103, 104, 105, 106, 107, 108, 109, 110, 111, 112, 113, 114, 115, 116, 117, 118, 119, 120, 121, 122, 123, 124, 125, 126, 127, 128, 129, 130, 131, 132, 133, 134, 135, 136, 137, 138, 139, 140, 141, 142, 143, 144, 145, 146, 147, 148, 149, 150, 151, 152, 153, 154, 155, 156, 157, 158, 159, 160, 161, 162, 163, 164, 165, 166, 167, 168, 169, 170, 171, 172, 173, 174, 175, 176, 177, 178, 179, 180, 181, 182, 183, 184, 185, 186, 187, 188, 189, 190, 191, 192, 193, 194, 195, 196, 197, 198, 199], \"Problem_158_gold_832\": [0.0], \"Problem_10_gold_31\": [0.0], \"Problem_136_gold_652\": [0.0050000000000000044, 44], \"Problem_144_gold_692\": [0.52, 0, 2, 4, 6, 7, 8, 9, 10, 12, 13, 14, 15, 16, 17, 19, 21, 23, 24, 25, 27, 30, 32, 33, 36, 38, 39, 42, 43, 44, 45, 47, 48, 49, 50, 51, 53, 54, 55, 57, 60, 66, 67, 68, 69, 70, 71, 72, 74, 75, 76, 77, 78, 83, 84, 87, 88, 89, 91, 93, 94, 96, 98, 102, 104, 106, 113, 118, 120, 122, 123, 129, 130, 131, 133, 134, 136, 143, 144, 145, 146, 151, 152, 155, 156, 158, 161, 163, 164, 167, 168, 170, 171, 172, 173, 176, 180, 181, 183, 185, 186, 189, 193, 194, 196], \"Problem_153_gold_790\": [0.0], \"Problem_46_gold_248\": [0.0], \"Problem_19_gold_87\": [0.0], \"Problem_58_gold_324\": [0.375, 0, 2, 3, 4, 5, 6, 7, 8, 10, 17, 18, 20, 21, 22, 29, 30, 31, 35, 36, 39, 40, 42, 43, 44, 46, 47, 51, 56, 57, 60, 61, 64, 67, 68, 73, 76, 79, 82, 85, 90, 92, 95, 98, 107, 109, 118, 119, 121, 122, 124, 131, 133, 137, 140, 142, 143, 144, 145, 147, 149, 151, 152, 153, 163, 165, 166, 168, 170, 172, 173, 180, 182, 187, 188, 195], \"Problem_136_gold_646\": [0.0], \"Problem_88_gold_446\": [0.0], \"Problem_114_gold_587\": [0.0], \"Problem_146_gold_703\": [0.0], \"Problem_158_gold_826\": [0.0], \"Problem_162_gold_752\": [0.0], \"Problem_65_gold_355\": [0.0], \"Problem_105_gold_542\": [0.0], \"Problem_88_gold_467\": [0.0], \"Problem_11_gold_32\": [0.0], \"Problem_44_gold_163\": [0.0], \"Problem_13_gold_50\": [0.0], \"Problem_136_gold_645\": [0.0], \"Problem_92_gold_479\": [0.0], \"Problem_152_gold_779\": [0.0], \"Problem_88_gold_456\": [0.0], \"Problem_120_gold_604\": [0.0]}\n",
      "Compile Error 41\n",
      "Test case error 7\n"
     ]
    },
    {
     "name": "stderr",
     "output_type": "stream",
     "text": [
      "\n"
     ]
    }
   ],
   "source": [
    "import os\n",
    "import json\n",
    "import subprocess\n",
    "from tqdm import tqdm\n",
    "\n",
    "path = './CodeT5_LineNumber_cpp_gold/'\n",
    "file_list = os.listdir(path)\n",
    "compile_error = []\n",
    "gold_logical_error_rate = {}\n",
    "test_case_error = []\n",
    "time_out_error = []\n",
    "\n",
    "for cpp_file in tqdm(file_list):\n",
    "    filepath = path + '/' + cpp_file\n",
    "    test_case_txt_number = cpp_file.split('Problem_')[1].split('_')[0]\n",
    "    test_cases_file_path = './cpp_test_case/' + test_case_txt_number + '.txt'\n",
    "    \n",
    "    compile_error_log_file = \"./gold_test_result/compile_error_log.txt\"\n",
    "\n",
    "    compile_result = subprocess.run(['g++', '-o', f'./gold_compile_folder/{cpp_file[:-4]}', filepath], capture_output=True)\n",
    "    if compile_result.returncode != 0:\n",
    "        compile_error.append(f'{cpp_file[:-4]}')\n",
    "        with open(compile_error_log_file, 'a') as compile_error_file:\n",
    "            compile_error_file.write(f'{cpp_file[:-4]}\\n')\n",
    "            compile_error_file.write(f'{compile_result.stderr}\\n\\n')\n",
    "        continue\n",
    "        \n",
    "    with open(test_cases_file_path, 'r') as test_file:\n",
    "        test_cases = test_file.read().split(', ')  # 각 테스트 케이스 분리\n",
    "    \n",
    "    if len(test_cases) < 2:\n",
    "        print(f'Test Case Error - {test_case_txt_number}.txt')\n",
    "        test_case_error.append(test_case_txt_number)\n",
    "        continue\n",
    "        \n",
    "    test_data_list = []\n",
    "    output_list = []\n",
    "\n",
    "    for index, test_case in enumerate(test_cases):\n",
    "        if not test_case.strip():\n",
    "            continue\n",
    "        input_part, output_part = test_case.split('\\noutput: ')\n",
    "        input_data = input_part.split('input: ')[1]\n",
    "        expected_output = output_part.strip()\n",
    "        test_data_list.append(input_data)\n",
    "        output_list.append(expected_output)\n",
    "\n",
    "        if index == len(test_cases) - 1:\n",
    "            output_list[index] = output_list[index].split('\\n')[0]\n",
    "\n",
    "    test_input_list = []\n",
    "    for in_data in test_data_list:\n",
    "        in_data = in_data.replace(\"\\\\n\", \"\\n\")\n",
    "        test_input_list.append(in_data[1:-1].strip())\n",
    "\n",
    "    test_output_list = []\n",
    "    for out_data in output_list:\n",
    "        out_data = out_data.replace(\"\\\\n\", '\\n')\n",
    "        out_data = out_data.replace(\"\\\"\", \"\")\n",
    "        out_data = out_data.split()\n",
    "        test_output_list.append(out_data)\n",
    "\n",
    "    error_line_number = []\n",
    "    test_case_length = len(test_output_list)\n",
    "    correct_test = len(test_output_list)\n",
    "    test_result = run_test_cases(cpp_file, test_input_list, test_output_list)\n",
    "    gold_logical_error_rate[cpp_file[:-4]] = test_result\n",
    "    print(f'{cpp_file[:-4]} Error rate = {test_result[0]}')\n",
    "\n",
    "pretty_print = json.dumps(gold_logical_error_rate)\n",
    "print(pretty_print)\n",
    "\n",
    "print(f'Compile Error {len(compile_error)}')\n",
    "print(f'Test case error {len(test_case_error)}')"
   ]
  },
  {
   "cell_type": "code",
   "execution_count": 4,
   "metadata": {},
   "outputs": [],
   "source": [
    "import json\n",
    "\n",
    "with open('./gold_test_result/gold_logical_error_rate.json', 'w') as f:\n",
    "    json.dump(gold_logical_error_rate, f, indent=4)"
   ]
  },
  {
   "cell_type": "code",
   "execution_count": 5,
   "metadata": {},
   "outputs": [],
   "source": [
    "import pickle\n",
    "with open(\"./gold_test_result/timeout_error.pkl\", \"wb\") as f1:\n",
    "    pickle.dump(time_out_error, f1)"
   ]
  },
  {
   "cell_type": "code",
   "execution_count": 7,
   "metadata": {},
   "outputs": [],
   "source": [
    "with open(\"./gold_test_result/compile_error.pkl\", \"wb\") as f2:\n",
    "    pickle.dump(compile_error, f2)"
   ]
  },
  {
   "cell_type": "code",
   "execution_count": 6,
   "metadata": {},
   "outputs": [
    {
     "name": "stdout",
     "output_type": "stream",
     "text": [
      "[]\n"
     ]
    }
   ],
   "source": [
    "import pickle\n",
    "with open(\"./gold_test_result/timeout_error.pkl\", \"rb\") as f3:\n",
    "    timeout_list = pickle.load(f3)\n",
    "print(timeout_list)"
   ]
  },
  {
   "cell_type": "code",
   "execution_count": 7,
   "metadata": {},
   "outputs": [
    {
     "name": "stdout",
     "output_type": "stream",
     "text": [
      "['Problem_63_gold_274', 'Problem_72_gold_376', 'Problem_26_gold_121', 'Problem_139_gold_664', 'Problem_26_gold_119', 'Problem_9_gold_22', 'Problem_19_gold_83', 'Problem_130_gold_626', 'Problem_160_gold_742', 'Problem_160_gold_845', 'Problem_35_gold_193', 'Problem_124_gold_610', 'Problem_72_gold_375', 'Problem_139_gold_672', 'Problem_30_gold_136', 'Problem_79_gold_419', 'Problem_100_gold_526', 'Problem_124_gold_613', 'Problem_156_gold_801', 'Problem_156_gold_804', 'Problem_124_gold_614', 'Problem_99_gold_509', 'Problem_63_gold_350', 'Problem_45_gold_245', 'Problem_133_gold_636', 'Problem_53_gold_297', 'Problem_113_gold_570', 'Problem_20_gold_92', 'Problem_21_gold_94', 'Problem_101_gold_527', 'Problem_139_gold_671', 'Problem_96_gold_498', 'Problem_76_gold_399', 'Problem_104_gold_536', 'Problem_124_gold_615', 'Problem_23_gold_109', 'Problem_133_gold_637', 'Problem_94_gold_491', 'Problem_45_gold_168', 'Problem_79_gold_358', 'Problem_99_gold_518']\n"
     ]
    }
   ],
   "source": [
    "with open(\"./gold_test_result/compile_error.pkl\", \"rb\") as f4:\n",
    "    error_list = pickle.load(f4)\n",
    "print(error_list)"
   ]
  },
  {
   "cell_type": "code",
   "execution_count": 3,
   "metadata": {},
   "outputs": [],
   "source": [
    "import json\n",
    "with open('./gold_test_result/gold_logical_error_rate.json', 'r') as f:\n",
    "    data = json.load(f)"
   ]
  },
  {
   "cell_type": "code",
   "execution_count": 10,
   "metadata": {},
   "outputs": [
    {
     "name": "stdout",
     "output_type": "stream",
     "text": [
      "perfect_code 630\n",
      "Error_code 47\n",
      "Unstable_code 136\n",
      "compile_error 41\n",
      "runtime_error 0\n"
     ]
    }
   ],
   "source": [
    "perfect_cpp = []\n",
    "error_cpp = []\n",
    "unstable_cpp = []\n",
    "unstable_ratio = []\n",
    "\n",
    "for key, value in data.items():\n",
    "    if value[0] == 0.0:\n",
    "        perfect_cpp.append(key)\n",
    "    elif value[0] == 1.0:\n",
    "        error_cpp.append(key)\n",
    "    else:\n",
    "        unstable_cpp.append(key)\n",
    "        unstable_ratio.append(value[0])\n",
    "\n",
    "print(f'perfect_code {len(perfect_cpp)}')\n",
    "print(f'Error_code {len(error_cpp)}')\n",
    "print(f'Unstable_code {len(unstable_cpp)}')\n",
    "print(f'compile_error {len(error_list)}')\n",
    "print(f'runtime_error {len(timeout_list)}')\n",
    "# print(f'test_case_error {len(test_case_error)}')\n",
    "# print(f'total sum {len(perfect_cpp) + len(error_cpp) + len(unstable_cpp) + len(compile_error) + len(timeout_list) + len(test_case_error)}')"
   ]
  },
  {
   "cell_type": "code",
   "execution_count": 14,
   "metadata": {},
   "outputs": [
    {
     "name": "stdout",
     "output_type": "stream",
     "text": [
      "['132', '132', '132', '132', '132', '132', '132']\n"
     ]
    }
   ],
   "source": [
    "print(test_case_error)"
   ]
  },
  {
   "cell_type": "code",
   "execution_count": 15,
   "metadata": {},
   "outputs": [
    {
     "data": {
      "image/png": "[encoded data removed]",
      "text/plain": [
       "<Figure size 640x480 with 1 Axes>"
      ]
     },
     "metadata": {},
     "output_type": "display_data"
    }
   ],
   "source": [
    "import numpy as np\n",
    "import matplotlib.pyplot as plt\n",
    "\n",
    "plt.hist(unstable_ratio, bins=20, edgecolor='black') \n",
    "plt.title('Gold File Error Ratio (Except 0, 1)')\n",
    "plt.xlabel('Value')\n",
    "plt.ylabel('Frequency')\n",
    "plt.show()"
   ]
  }
 ],
 "metadata": {
  "kernelspec": {
   "display_name": "coderepair",
   "language": "python",
   "name": "python3"
  },
  "language_info": {
   "codemirror_mode": {
    "name": "ipython",
    "version": 3
   },
   "file_extension": ".py",
   "mimetype": "text/x-python",
   "name": "python",
   "nbconvert_exporter": "python",
   "pygments_lexer": "ipython3",
   "version": "3.9.18"
  }
 },
 "nbformat": 4,
 "nbformat_minor": 2
}
