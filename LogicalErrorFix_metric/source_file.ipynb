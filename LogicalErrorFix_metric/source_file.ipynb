{
 "cells": [
  {
   "cell_type": "code",
   "execution_count": 1,
   "metadata": {},
   "outputs": [],
   "source": [
    "import subprocess"
   ]
  },
  {
   "cell_type": "code",
   "execution_count": 6,
   "metadata": {},
   "outputs": [],
   "source": [
    "cpp_file_path = './CodeT5_LineNumber_cpp_source/Problem_0_source_2.cpp'\n",
    "test_cases_file_path = './cpp_test_case/0.txt'"
   ]
  },
  {
   "cell_type": "code",
   "execution_count": 7,
   "metadata": {},
   "outputs": [],
   "source": [
    "# C++ 파일 컴파일\n",
    "compile_result = subprocess.run(['g++', '-o', 'test_program', cpp_file_path])\n",
    "if compile_result.returncode != 0:\n",
    "    print(\"Compilation failed.\")"
   ]
  },
  {
   "cell_type": "code",
   "execution_count": 8,
   "metadata": {},
   "outputs": [],
   "source": [
    "with open(test_cases_file_path, 'r') as file:\n",
    "    test_cases = file.read().split(', ')  # 각 테스트 케이스 분리\n",
    "    if len(test_cases) < 2:\n",
    "        print('error')"
   ]
  },
  {
   "cell_type": "code",
   "execution_count": 10,
   "metadata": {},
   "outputs": [
    {
     "name": "stdout",
     "output_type": "stream",
     "text": [
      "[input: \"5 2\\nAA\\nAB\\nBB\\nBA\\nZA\\n\"\n",
      "output: \"2 1 3 4 5\\n\"\n",
      "\n",
      "input: \"5 2\\nAA\\nAB\\nCB\\nBA\\nAZ\\n\"\n",
      "output: \"5 2 1 4 3\\n\"\n",
      "\n",
      "input: \"2 2\\nAA\\nAB\\nCB\\nBA\\nAZ\\n\"\n",
      "output: \"2 1\\n\"\n",
      "\n",
      "input: \"2 2\\nAA\\nBC\\nCB\\nAB\\nAZ\\n\"\n",
      "output: \"1 2\\n\"\n",
      "\n",
      "input: \"1 2\\nAA\\nAC\\nBC\\nBA\\nZA\\n\"\n",
      "output: \"1\\n\"\n",
      "\n",
      "input: \"5 2\\nAA\\nAB\\nBC\\nBA\\nAZ\\n\"\n",
      "output: \"5 2 1 3 4\\n\"\n",
      "\n",
      "input: \"3 2\\nAA\\nAB\\nCB\\nAB\\nAZ\\n\"\n",
      "output: \"2 1 3\\n\"\n",
      "\n",
      "input: \"4 2\\nBA\\nAC\\nEA\\nAA\\nZ@\\n\"\n",
      "output: \"2 4 1 3\\n\"\n",
      "\n",
      "input: \"3 2\\nAA\\nBA\\nCB\\nAB\\nAZ\\n\"\n",
      "output: \"1 2 3\\n\"\n",
      "\n",
      "input: \"4 2\\nAA\\nAC\\nCB\\nBA\\nAZ\\n\"\n",
      "output: \"2 1 4 3\\n\"\n",
      "\n",
      "input: \"4 2\\nBA\\nBC\\nEA\\nAB\\nZ@\\n\"\n",
      "output: \"4 2 1 3\\n\"\n",
      "\n",
      "input: \"3 2\\nBA\\nAD\\nAB\\nBA\\nC[\\n\"\n",
      "output: \"2 3 1\\n\"\n",
      "\n",
      "input: \"3 2\\nAA\\nBA\\nBC\\nAB\\nAZ\\n\"\n",
      "output: \"1 3 2\\n\"\n",
      "\n",
      "input: \"5 2\\nAA\\nBA\\nCC\\nBB\\nAZ\\n\"\n",
      "output: \"5 1 4 2 3\\n\"\n",
      "\n",
      "input: \"2 2\\nAA\\nAB\\nCB\\nAB\\nAZ\\n\"\n",
      "output: \"2 1\\n\"\n",
      "\n",
      "input: \"2 2\\nAA\\nAC\\nCB\\nAB\\nAZ\\n\"\n",
      "output: \"2 1\\n\"\n",
      "\n",
      "input: \"2 2\\nAA\\nBC\\nCB\\nAB\\nZA\\n\"\n",
      "output: \"1 2\\n\"\n",
      "\n",
      "input: \"2 2\\nAA\\nBC\\nBC\\nAB\\nZA\\n\"\n",
      "output: \"1 2\\n\"\n",
      "\n",
      "input: \"2 2\\nAA\\nAC\\nBC\\nAB\\nZA\\n\"\n",
      "output: \"2 1\\n\"\n",
      "\n",
      "input: \"2 2\\nAA\\nAC\\nBC\\nBA\\nZA\\n\"\n",
      "output: \"2 1\\n\"\n",
      "\n",
      "input: \"1 2\\nAA\\nAC\\nBC\\nAA\\nZA\\n\"\n",
      "output: \"1\\n\"\n",
      "\n",
      "input: \"1 2\\nAA\\nAC\\nCB\\nAA\\nZA\\n\"\n",
      "output: \"1\\n\"\n",
      "\n",
      "input: \"1 2\\nAA\\nAC\\nCB\\nAA\\nZ@\\n\"\n",
      "output: \"1\\n\"\n",
      "\n",
      "input: \"2 2\\nAA\\nAC\\nCB\\nAA\\nZ@\\n\"\n",
      "output: \"2 1\\n\"\n",
      "\n",
      "input: \"2 2\\nAA\\nAC\\nCA\\nAA\\nZ@\\n\"\n",
      "output: \"2 1\\n\"\n",
      "\n",
      "input: \"2 2\\nAB\\nAC\\nCA\\nAA\\nZ@\\n\"\n",
      "output: \"2 1\\n\"\n",
      "\n",
      "input: \"2 2\\nAB\\nAC\\nCA\\nBA\\nZ@\\n\"\n",
      "output: \"2 1\\n\"\n",
      "\n",
      "input: \"2 2\\nAB\\nAC\\nCA\\nAB\\nZ@\\n\"\n",
      "output: \"2 1\\n\"\n",
      "\n",
      "input: \"2 2\\nAB\\nAC\\nCA\\nAB\\n@Z\\n\"\n",
      "output: \"2 1\\n\"\n",
      "\n",
      "input: \"2 2\\nAB\\nAC\\nCA\\nAB\\n@Y\\n\"\n",
      "output: \"2 1\\n\"\n",
      "\n",
      "input: \"5 2\\nAA\\nAB\\nBB\\nBA\\nZB\\n\"\n",
      "output: \"2 1 3 4 5\\n\"\n",
      "\n",
      "input: \"2 2\\nAA\\nAD\\nCB\\nAB\\nAZ\\n\"\n",
      "output: \"2 1\\n\"\n",
      "\n",
      "input: \"2 2\\nAA\\nBC\\nBB\\nAB\\nAZ\\n\"\n",
      "output: \"1 2\\n\"\n",
      "\n",
      "input: \"2 2\\nBA\\nBC\\nCB\\nAB\\nZA\\n\"\n",
      "output: \"2 1\\n\"\n",
      "\n",
      "input: \"2 2\\nAA\\nBC\\nBD\\nAB\\nZA\\n\"\n",
      "output: \"1 2\\n\"\n",
      "\n",
      "input: \"2 2\\nAA\\nAC\\nBC\\nAB\\n[A\\n\"\n",
      "output: \"2 1\\n\"\n",
      "\n",
      "input: \"2 2\\nAA\\nAC\\nBC\\nBA\\nAZ\\n\"\n",
      "output: \"2 1\\n\"\n",
      "\n",
      "input: \"1 2\\nAA\\nAB\\nBC\\nBA\\nZA\\n\"\n",
      "output: \"1\\n\"\n",
      "\n",
      "input: \"1 2\\nAA\\nAC\\nBC\\nAA\\nAZ\\n\"\n",
      "output: \"1\\n\"\n",
      "\n",
      "input: \"1 2\\nBA\\nAC\\nCB\\nAA\\nZ@\\n\"\n",
      "output: \"1\\n\"\n",
      "\n",
      "input: \"2 2\\nAA\\nAC\\nBC\\nAA\\nZ@\\n\"\n",
      "output: \"2 1\\n\"\n",
      "\n",
      "input: \"2 2\\nAA\\nAC\\nDA\\nAA\\nZ@\\n\"\n",
      "output: \"2 1\\n\"\n",
      "\n",
      "input: \"2 2\\nAB\\nAC\\nCA\\nAA\\n[@\\n\"\n",
      "output: \"2 1\\n\"\n",
      "\n",
      "input: \"2 2\\nAB\\nCA\\nCA\\nBA\\nZ@\\n\"\n",
      "output: \"1 2\\n\"\n",
      "\n",
      "input: \"2 2\\nAB\\nAC\\nAC\\nAB\\nZ@\\n\"\n",
      "output: \"2 1\\n\"\n",
      "\n",
      "input: \"2 2\\nAB\\nAC\\nBA\\nAB\\n@Z\\n\"\n",
      "output: \"2 1\\n\"\n",
      "\n",
      "input: \"2 2\\nAB\\nCA\\nCA\\nAB\\n@Y\\n\"\n",
      "output: \"1 2\\n\"\n",
      "\n",
      "input: \"5 2\\nAA\\nAB\\nCC\\nBA\\nAZ\\n\"\n",
      "output: \"5 2 1 4 3\\n\"\n",
      "\n",
      "input: \"2 2\\nBA\\nBC\\nBB\\nAB\\nZA\\n\"\n",
      "output: \"2 1\\n\"\n",
      "\n",
      "input: \"2 2\\nAA\\nAC\\nAC\\nAB\\n[A\\n\"\n",
      "output: \"2 1\\n\"\n",
      "\n",
      "input: \"2 2\\nAA\\nAC\\nCB\\nBA\\nAZ\\n\"\n",
      "output: \"2 1\\n\"\n",
      "\n",
      "input: \"1 2\\nAA\\nAB\\nBC\\nBA\\nAZ\\n\"\n",
      "output: \"1\\n\"\n",
      "\n",
      "input: \"1 2\\nAA\\nAC\\nBC\\nAA\\n@Z\\n\"\n",
      "output: \"1\\n\"\n",
      "\n",
      "input: \"1 2\\nBA\\nAC\\nCA\\nAA\\nZ@\\n\"\n",
      "output: \"1\\n\"\n",
      "\n",
      "input: \"2 2\\nAA\\nAC\\nBC\\nAA\\nZ?\\n\"\n",
      "output: \"2 1\\n\"\n",
      "\n",
      "input: \"3 2\\nAA\\nAC\\nDA\\nAA\\nZ@\\n\"\n",
      "output: \"2 1 3\\n\"\n",
      "\n",
      "input: \"2 2\\nBA\\nAC\\nCA\\nAA\\n[@\\n\"\n",
      "output: \"2 1\\n\"\n",
      "\n",
      "input: \"1 2\\nAB\\nCA\\nCA\\nBA\\nZ@\\n\"\n",
      "output: \"1\\n\"\n",
      "\n",
      "input: \"2 2\\nAB\\nCA\\nAC\\nAB\\nZ@\\n\"\n",
      "output: \"1 2\\n\"\n",
      "\n",
      "input: \"2 2\\nAB\\nAC\\nBA\\nBB\\n@Z\\n\"\n",
      "output: \"2 1\\n\"\n",
      "\n",
      "input: \"2 2\\nAB\\nCB\\nCA\\nAB\\n@Y\\n\"\n",
      "output: \"1 2\\n\"\n",
      "\n",
      "input: \"3 2\\nAA\\nAB\\nCC\\nBA\\nAZ\\n\"\n",
      "output: \"2 1 3\\n\"\n",
      "\n",
      "input: \"1 2\\nBA\\nBC\\nBB\\nAB\\nZA\\n\"\n",
      "output: \"1\\n\"\n",
      "\n",
      "input: \"2 2\\nAA\\nAC\\nAC\\nAC\\n[A\\n\"\n",
      "output: \"2 1\\n\"\n",
      "\n",
      "input: \"2 2\\nAA\\nAB\\nCB\\nCA\\nAZ\\n\"\n",
      "output: \"2 1\\n\"\n",
      "\n",
      "input: \"1 2\\nAA\\nAB\\nBC\\nBA\\nA[\\n\"\n",
      "output: \"1\\n\"\n",
      "\n",
      "input: \"1 2\\nAA\\nAC\\nBC\\nAB\\n@Z\\n\"\n",
      "output: \"1\\n\"\n",
      "\n",
      "input: \"1 2\\nBA\\nAC\\nCA\\nAA\\n@Z\\n\"\n",
      "output: \"1\\n\"\n",
      "\n",
      "input: \"2 2\\nAA\\nAC\\nBC\\nAA\\n?Z\\n\"\n",
      "output: \"2 1\\n\"\n",
      "\n",
      "input: \"3 2\\nAA\\nAC\\nEA\\nAA\\nZ@\\n\"\n",
      "output: \"2 1 3\\n\"\n",
      "\n",
      "input: \"2 2\\nBA\\nAC\\nAC\\nAA\\n[@\\n\"\n",
      "output: \"2 1\\n\"\n",
      "\n",
      "input: \"1 2\\nBB\\nCA\\nCA\\nBA\\nZ@\\n\"\n",
      "output: \"1\\n\"\n",
      "\n",
      "input: \"2 2\\nAB\\nBA\\nAC\\nAB\\nZ@\\n\"\n",
      "output: \"1 2\\n\"\n",
      "\n",
      "input: \"2 2\\nAB\\nAC\\nBA\\nBB\\n?Z\\n\"\n",
      "output: \"2 1\\n\"\n",
      "\n",
      "input: \"2 2\\nAB\\nCB\\nCA\\nAC\\n@Y\\n\"\n",
      "output: \"1 2\\n\"\n",
      "\n",
      "input: \"1 2\\nBA\\nCB\\nBB\\nAB\\nZA\\n\"\n",
      "output: \"1\\n\"\n",
      "\n",
      "input: \"2 2\\nAA\\nAC\\nAC\\nAC\\n[B\\n\"\n",
      "output: \"2 1\\n\"\n",
      "\n",
      "input: \"1 2\\nAA\\nAC\\nCB\\nBA\\nAZ\\n\"\n",
      "output: \"1\\n\"\n",
      "\n",
      "input: \"2 2\\nAA\\nAB\\nBC\\nBA\\nA[\\n\"\n",
      "output: \"2 1\\n\"\n",
      "\n",
      "input: \"1 2\\nAA\\nAC\\nCB\\nAB\\n@Z\\n\"\n",
      "output: \"1\\n\"\n",
      "\n",
      "input: \"1 2\\nBA\\nAC\\nCA\\nAB\\n@Z\\n\"\n",
      "output: \"1\\n\"\n",
      "\n",
      "input: \"2 2\\nAA\\nAC\\nBC\\nA@\\n?Z\\n\"\n",
      "output: \"2 1\\n\"\n",
      "\n",
      "input: \"3 2\\nBA\\nAC\\nEA\\nAA\\nZ@\\n\"\n",
      "output: \"2 1 3\\n\"\n",
      "\n",
      "input: \"1 2\\nBB\\nAC\\nCA\\nBA\\nZ@\\n\"\n",
      "output: \"1\\n\"\n",
      "\n",
      "input: \"2 2\\nAA\\nAC\\nBA\\nBB\\n?Z\\n\"\n",
      "output: \"2 1\\n\"\n",
      "\n",
      "input: \"2 2\\nBA\\nCB\\nCA\\nAC\\n@Y\\n\"\n",
      "output: \"1 2\\n\"\n",
      "\n",
      "input: \"2 2\\nBA\\nCB\\nBB\\nAB\\nZA\\n\"\n",
      "output: \"1 2\\n\"\n",
      "\n",
      "input: \"1 2\\nAA\\nAC\\nAC\\nAC\\n[B\\n\"\n",
      "output: \"1\\n\"\n",
      "\n",
      "input: \"1 2\\nAA\\nAC\\nCB\\nBA\\nZA\\n\"\n",
      "output: \"1\\n\"\n",
      "\n",
      "input: \"2 2\\nAA\\nAB\\nCB\\nBA\\nA[\\n\"\n",
      "output: \"2 1\\n\"\n",
      "\n",
      "input: \"1 2\\nAA\\nAC\\nCB\\nAB\\nZ@\\n\"\n",
      "output: \"1\\n\"\n",
      "\n",
      "input: \"1 2\\nBA\\nAC\\nCB\\nAB\\n@Z\\n\"\n",
      "output: \"1\\n\"\n",
      "\n",
      "input: \"2 2\\nBA\\nAC\\nBC\\nA@\\n?Z\\n\"\n",
      "output: \"2 1\\n\"\n",
      "\n",
      "input: \"1 2\\nBB\\nAC\\nCA\\nAB\\nZ@\\n\"\n",
      "output: \"1\\n\"\n",
      "\n",
      "input: \"2 2\\nAA\\nBC\\nBA\\nBB\\n?Z\\n\"\n",
      "output: \"1 2\\n\"\n",
      "\n",
      "input: \"2 2\\nBA\\nBC\\nCA\\nAC\\n@Y\\n\"\n",
      "output: \"2 1\\n\"\n",
      "\n",
      "input: \"1 2\\nAA\\nAC\\nAC\\nAC\\n[C\\n\"\n",
      "output: \"1\\n\"\n",
      "\n",
      "input: \"2 2\\nAA\\nAC\\nCB\\nBA\\nA[\\n\"\n",
      "output: \"2 1\\n\"\n",
      "\n",
      "input: \"1 2\\nAA\\nAC\\nDB\\nAB\\nZ@\\n\"\n",
      "output: \"1\\n\"\n",
      "\n",
      "input: \"2 2\\nBA\\nAD\\nBC\\nA@\\n?Z\\n\"\n",
      "output: \"2 1\\n\"\n",
      "\n",
      "input: \"4 2\\nBA\\nAC\\nEA\\nAB\\nZ@\\n\"\n",
      "output: \"2 4 1 3\\n\"\n",
      "\n",
      "input: \"1 2\\nCB\\nAC\\nCA\\nAB\\nZ@\\n\"\n",
      "output: \"1\\n\"\n",
      "\n",
      "input: \"2 2\\nAA\\nBC\\nBA\\nBB\\nZ?\\n\"\n",
      "output: \"1 2\\n\"\n",
      "\n",
      "input: \"2 2\\nBA\\nBB\\nCA\\nAC\\n@Y\\n\"\n",
      "output: \"2 1\\n\"\n",
      "\n",
      "input: \"1 2\\nAA\\nAC\\nAC\\nAD\\n[C\\n\"\n",
      "output: \"1\\n\"\n",
      "\n",
      "input: \"2 2\\nAA\\nCA\\nCB\\nBA\\nA[\\n\"\n",
      "output: \"1 2\\n\"\n",
      "\n",
      "input: \"2 2\\nBA\\nAD\\nBC\\nA?\\n?Z\\n\"\n",
      "output: \"2 1\\n\"\n",
      "\n",
      "input: \"1 2\\nCB\\nCA\\nCA\\nAB\\nZ@\\n\"\n",
      "output: \"1\\n\"\n",
      "\n",
      "input: \"2 2\\nAA\\nBC\\nBB\\nBB\\nZ?\\n\"\n",
      "output: \"1 2\\n\"\n",
      "\n",
      "input: \"2 2\\nBA\\nBB\\nCA\\nCA\\n@Y\\n\"\n",
      "output: \"2 1\\n\"\n",
      "\n",
      "input: \"1 2\\nAA\\nCA\\nAC\\nAD\\n[C\\n\"\n",
      "output: \"1\\n\"\n",
      "\n",
      "input: \"2 2\\nAA\\nCA\\nBB\\nBA\\nA[\\n\"\n",
      "output: \"1 2\\n\"\n",
      "\n",
      "input: \"2 2\\nBA\\nAD\\nBB\\nA?\\n?Z\\n\"\n",
      "output: \"2 1\\n\"\n",
      "\n",
      "input: \"2 2\\nBA\\nBB\\nCA\\nDA\\n@Y\\n\"\n",
      "output: \"2 1\\n\"\n",
      "\n",
      "input: \"2 2\\nAA\\nCA\\nBB\\nAB\\nA[\\n\"\n",
      "output: \"1 2\\n\"\n",
      "\n",
      "input: \"2 2\\nBA\\nDA\\nBB\\nA?\\n?Z\\n\"\n",
      "output: \"1 2\\n\"\n",
      "\n",
      "input: \"2 2\\nAB\\nBB\\nCA\\nDA\\n@Y\\n\"\n",
      "output: \"1 2\\n\"\n",
      "\n",
      "input: \"2 2\\nAA\\nCA\\nBB\\nAA\\nA[\\n\"\n",
      "output: \"1 2\\n\"\n",
      "\n",
      "input: \"2 2\\nBA\\nAD\\nBB\\nA?\\n?Y\\n\"\n",
      "output: \"2 1\\n\"\n",
      "\n",
      "input: \"2 2\\nBA\\nBB\\nCA\\nD@\\n@Y\\n\"\n",
      "output: \"2 1\\n\"\n",
      "\n",
      "input: \"2 2\\nAA\\nDA\\nBB\\nBA\\nA[\\n\"\n",
      "output: \"1 2\\n\"\n",
      "\n",
      "input: \"2 2\\nAB\\nAD\\nBB\\nA?\\n?Y\\n\"\n",
      "output: \"2 1\\n\"\n",
      "\n",
      "input: \"2 2\\nBA\\nBB\\nAC\\nD@\\n@Y\\n\"\n",
      "output: \"2 1\\n\"\n",
      "\n",
      "input: \"2 2\\nAA\\nDA\\nBB\\nAB\\nA[\\n\"\n",
      "output: \"1 2\\n\"\n",
      "\n",
      "input: \"2 2\\nAB\\nAD\\nBA\\nA?\\n?Y\\n\"\n",
      "output: \"2 1\\n\"\n",
      "\n",
      "input: \"2 2\\nAA\\nDA\\nAB\\nAB\\nA[\\n\"\n",
      "output: \"1 2\\n\"\n",
      "\n",
      "input: \"2 2\\nAB\\nAD\\nAB\\nA?\\n?Y\\n\"\n",
      "output: \"2 1\\n\"\n",
      "\n",
      "input: \"2 2\\nAA\\nDA\\nAB\\nBA\\nA[\\n\"\n",
      "output: \"1 2\\n\"\n",
      "\n",
      "input: \"2 2\\nAB\\nAD\\nCA\\nA?\\n?Y\\n\"\n",
      "output: \"2 1\\n\"\n",
      "\n",
      "input: \"2 2\\nAA\\nDA\\nAB\\nBA\\nB[\\n\"\n",
      "output: \"1 2\\n\"\n",
      "\n",
      "input: \"2 2\\nAB\\nAD\\nCA\\nA>\\n?Y\\n\"\n",
      "output: \"2 1\\n\"\n",
      "\n",
      "input: \"2 2\\nAA\\nDA\\nAB\\nCA\\nB[\\n\"\n",
      "output: \"1 2\\n\"\n",
      "\n",
      "input: \"1 2\\nAA\\nDA\\nAB\\nCA\\nB[\\n\"\n",
      "output: \"1\\n\"\n",
      "\n",
      "input: \"1 2\\nAA\\nAD\\nAB\\nCA\\nB[\\n\"\n",
      "output: \"1\\n\"\n",
      "\n",
      "input: \"1 2\\nAA\\nAD\\nAB\\nAC\\nB[\\n\"\n",
      "output: \"1\\n\"\n",
      "\n",
      "input: \"1 2\\nAA\\nAD\\nAB\\nAC\\nC[\\n\"\n",
      "output: \"1\\n\"\n",
      "\n",
      "input: \"1 2\\nAA\\nAD\\nAB\\nCA\\nC[\\n\"\n",
      "output: \"1\\n\"\n",
      "\n",
      "input: \"1 2\\nAA\\nAD\\nAB\\nBA\\nC[\\n\"\n",
      "output: \"1\\n\"\n",
      "\n",
      "input: \"2 2\\nAA\\nAD\\nAB\\nBA\\nC[\\n\"\n",
      "output: \"2 1\\n\"\n",
      "\n",
      "input: \"2 2\\nBA\\nAD\\nAB\\nBA\\nC[\\n\"\n",
      "output: \"2 1\\n\"\n",
      "\n",
      "input: \"2 2\\nBA\\nAE\\nAB\\nBA\\nC[\\n\"\n",
      "output: \"2 1\\n\"\n",
      "\n",
      "input: \"2 2\\nBA\\nAE\\nAB\\nBA\\n[C\\n\"\n",
      "output: \"2 1\\n\"\n",
      "\n",
      "input: \"2 2\\nAA\\nAB\\nCB\\nAC\\nAZ\\n\"\n",
      "output: \"2 1\\n\"\n",
      "\n",
      "input: \"3 2\\nAA\\nAC\\nCB\\nAB\\nAZ\\n\"\n",
      "output: \"2 1 3\\n\"\n",
      "\n",
      "input: \"2 2\\nAA\\nBC\\nDB\\nAB\\nAZ\\n\"\n",
      "output: \"1 2\\n\"\n",
      "\n",
      "input: \"2 2\\nAA\\nBC\\nCB\\nBA\\nZA\\n\"\n",
      "output: \"1 2\\n\"\n",
      "\n",
      "input: \"2 2\\nAA\\nBC\\nBC\\nAC\\nZA\\n\"\n",
      "output: \"1 2\\n\"\n",
      "\n",
      "input: \"2 2\\nAA\\nAC\\nCB\\nAB\\nZA\\n\"\n",
      "output: \"2 1\\n\"\n",
      "\n",
      "input: \"2 2\\nAA\\nAC\\nCC\\nBA\\nZA\\n\"\n",
      "output: \"2 1\\n\"\n",
      "\n",
      "input: \"2 2\\nAA\\nCA\\nBC\\nBA\\nZA\\n\"\n",
      "output: \"1 2\\n\"\n",
      "\n",
      "input: \"1 2\\nAA\\nAB\\nBC\\nAA\\nZA\\n\"\n",
      "output: \"1\\n\"\n",
      "\n",
      "input: \"1 2\\nAA\\nAC\\nCC\\nAA\\nZA\\n\"\n",
      "output: \"1\\n\"\n",
      "\n",
      "input: \"1 2\\nAA\\nAD\\nCB\\nAA\\nZ@\\n\"\n",
      "output: \"1\\n\"\n",
      "\n",
      "input: \"2 2\\nAA\\nAC\\nCB\\n@A\\nZ@\\n\"\n",
      "output: \"2 1\\n\"\n",
      "\n",
      "input: \"2 2\\nAB\\nCA\\nCA\\nAB\\nZ@\\n\"\n",
      "output: \"1 2\\n\"\n",
      "\n",
      "input: \"2 2\\nAA\\nAC\\nCA\\nAB\\nZ@\\n\"\n",
      "output: \"2 1\\n\"\n",
      "\n",
      "input: \"2 2\\nAB\\nAC\\nAC\\nAB\\n@Z\\n\"\n",
      "output: \"2 1\\n\"\n",
      "\n",
      "input: \"2 2\\nAB\\nAC\\nAC\\nAB\\n@Y\\n\"\n",
      "output: \"2 1\\n\"\n",
      "\n",
      "input: \"2 2\\nAA\\nBC\\nBD\\nAB\\nYA\\n\"\n",
      "output: \"1 2\\n\"\n",
      "\n",
      "input: \"3 2\\nAA\\nAC\\nBC\\nAB\\n[A\\n\"\n",
      "output: \"2 1 3\\n\"\n",
      "\n",
      "input: \"2 2\\nAA\\nAC\\nAC\\nBA\\nAZ\\n\"\n",
      "output: \"2 1\\n\"\n",
      "\n",
      "input: \"1 1\\nAA\\nAC\\nBC\\nAA\\nAZ\\n\"\n",
      "output: \"1\\n\"\n",
      "\n",
      "input: \"1 2\\nBA\\nAC\\nCB\\nAA\\n@Z\\n\"\n",
      "output: \"1\\n\"\n",
      "\n",
      "input: \"2 2\\nAB\\nAC\\nDA\\nAA\\nZ@\\n\"\n",
      "output: \"2 1\\n\"\n",
      "\n",
      "input: \"2 2\\nBA\\nAC\\nCB\\nAA\\n[@\\n\"\n",
      "output: \"2 1\\n\"\n",
      "\n",
      "input: \"2 1\\nAB\\nCA\\nCA\\nBA\\nZ@\\n\"\n",
      "output: \"1 2\\n\"\n",
      "\n",
      "input: \"2 2\\nBA\\nAC\\nCA\\nAB\\n@Z\\n\"\n",
      "output: \"2 1\\n\"\n",
      "\n",
      "input: \"2 2\\nAB\\nBC\\nBA\\nAB\\n@Z\\n\"\n",
      "output: \"1 2\\n\"\n",
      "\n",
      "input: \"2 2\\nAB\\nCA\\nAC\\nAB\\n@Y\\n\"\n",
      "output: \"1 2\\n\"\n",
      "\n",
      "input: \"5 2\\nAA\\nAB\\nCC\\nBB\\nAZ\\n\"\n",
      "output: \"5 2 1 4 3\\n\"\n",
      "\n",
      "input: \"2 2\\nBA\\nCB\\nBB\\nAB\\nAZ\\n\"\n",
      "output: \"1 2\\n\"\n",
      "\n",
      "input: \"1 2\\nAA\\nAB\\nBC\\nBA\\nAY\\n\"\n",
      "output: \"1\\n\"\n",
      "\n",
      "input: \"1 2\\nAA\\nAC\\nBC\\nBA\\n@Z\\n\"\n",
      "output: \"1\\n\"\n",
      "\n",
      "input: \"2 2\\nAB\\nAC\\nCB\\nAA\\n[@\\n\"\n",
      "output: \"2 1\\n\"\n",
      "\n",
      "input: \"2 2\\nAB\\nCA\\nAD\\nAB\\nZ@\\n\"\n",
      "output: \"1 2\\n\"\n",
      "\n",
      "input: \"2 2\\nAB\\nCB\\nCB\\nAB\\n@Y\\n\"\n",
      "output: \"1 2\\n\"\n",
      "\n",
      "input: \"3 2\\nAA\\nAB\\nCC\\nBA\\nAY\\n\"\n",
      "output: \"2 1 3\\n\"\n",
      "\n",
      "input: \"1 2\\nBA\\nBC\\nBB\\nBB\\nZA\\n\"\n",
      "output: \"1\\n\"\n",
      "\n",
      "input: \"2 2\\nAA\\nCA\\nAC\\nAC\\n[A\\n\"\n",
      "output: \"1 2\\n\"\n",
      "\n",
      "input: \"2 2\\nAA\\nAB\\nBC\\nBA\\nAZ\\n\"\n",
      "output: \"2 1\\n\"\n",
      "\n",
      "input: \"1 2\\nAA\\nAB\\nBB\\nBA\\nA[\\n\"\n",
      "output: \"1\\n\"\n",
      "\n",
      "input: \"1 2\\nAA\\nAC\\nBC\\nAB\\n@[\\n\"\n",
      "output: \"1\\n\"\n",
      "\n",
      "input: \"1 2\\nBA\\nBC\\nCA\\nAA\\nZ@\\n\"\n",
      "output: \"1\\n\"\n",
      "\n",
      "input: \"2 2\\nAA\\nCA\\nBC\\nAA\\n?Z\\n\"\n",
      "output: \"1 2\\n\"\n",
      "\n",
      "input: \"3 2\\nAB\\nAC\\nEA\\nAA\\nZ@\\n\"\n",
      "output: \"2 1 3\\n\"\n",
      "\n",
      "input: \"2 2\\nBA\\nAC\\nAC\\nAA\\nZ@\\n\"\n",
      "output: \"2 1\\n\"\n",
      "\n",
      "input: \"1 2\\nBB\\nCA\\nCA\\nBA\\n@Z\\n\"\n",
      "output: \"1\\n\"\n",
      "\n",
      "input: \"2 2\\nAB\\nBA\\nAC\\nBA\\nZ@\\n\"\n",
      "output: \"1 2\\n\"\n",
      "\n",
      "input: \"2 2\\nBB\\nCB\\nCA\\nAC\\n@Y\\n\"\n",
      "output: \"1 2\\n\"\n",
      "\n",
      "input: \"1 2\\nBA\\nCB\\nBB\\nBA\\nZA\\n\"\n",
      "output: \"1\\n\"\n",
      "\n",
      "input: \"2 2\\nBA\\nAC\\nAC\\nAC\\n[B\\n\"\n",
      "output: \"2 1\\n\"\n",
      "\n",
      "input: \"1 2\\nAA\\nAC\\nCB\\nAA\\nAZ\\n\"\n",
      "output: \"1\\n\"\n",
      "\n",
      "input: \"2 2\\nAA\\nAB\\nBC\\nB@\\nA[\\n\"\n",
      "output: \"2 1\\n\"\n",
      "\n",
      "input: \"1 2\\nAA\\nAC\\nCB\\nAA\\n@Z\\n\"\n",
      "output: \"1\\n\"\n",
      "\n",
      "input: \"2 2\\nAA\\nAC\\nCA\\nBB\\n?Z\\n\"\n",
      "output: \"2 1\\n\"\n",
      "\n",
      "input: \"2 2\\nAB\\nCB\\nBB\\nAB\\nZA\\n\"\n",
      "output: \"1 2\\n\"\n",
      "\n",
      "input: \"1 2\\nAA\\nCA\\nAC\\nAC\\n[B\\n\"\n",
      "output: \"1\\n\"\n",
      "\n",
      "input: \"3 2\\nAA\\nAB\\nCB\\nBA\\nA[\\n\"\n",
      "output: \"2 1 3\\n\"\n",
      "\n",
      "input: \"1 1\\nAA\\nAC\\nCB\\nAB\\nZ@\\n\"\n",
      "output: \"1\\n\"\n",
      "\n",
      "input: \"1 2\\nBA\\nAC\\nCC\\nAB\\n@Z\\n\"\n",
      "output: \"1\\n\"\n",
      "]\n"
     ]
    }
   ],
   "source": [
    "for i in range(200):\n",
    "    print(test_cases[i])"
   ]
  },
  {
   "cell_type": "code",
   "execution_count": 11,
   "metadata": {},
   "outputs": [],
   "source": [
    "input_data_list = []\n",
    "expected_output_list = []\n",
    "\n",
    "for index, test_case in enumerate(test_cases):\n",
    "    if not test_case.strip():\n",
    "        continue\n",
    "    input_part, output_part = test_case.split('\\noutput: ')\n",
    "    input_data = input_part.split('input: ')[1]\n",
    "    expected_output = output_part.strip()\n",
    "    input_data_list.append(input_data)\n",
    "    expected_output_list.append(expected_output)\n",
    "\n",
    "    if index == len(test_cases) - 1:\n",
    "        expected_output_list[index] = expected_output_list[index].split('\\n')[0]"
   ]
  },
  {
   "cell_type": "code",
   "execution_count": 12,
   "metadata": {},
   "outputs": [
    {
     "name": "stdout",
     "output_type": "stream",
     "text": [
      "['\"2 1 3 4 5\\\\n\"', '\"5 2 1 4 3\\\\n\"', '\"2 1\\\\n\"', '\"1 2\\\\n\"', '\"1\\\\n\"', '\"5 2 1 3 4\\\\n\"', '\"2 1 3\\\\n\"', '\"2 4 1 3\\\\n\"', '\"1 2 3\\\\n\"', '\"2 1 4 3\\\\n\"', '\"4 2 1 3\\\\n\"', '\"2 3 1\\\\n\"', '\"1 3 2\\\\n\"', '\"5 1 4 2 3\\\\n\"', '\"2 1\\\\n\"', '\"2 1\\\\n\"', '\"1 2\\\\n\"', '\"1 2\\\\n\"', '\"2 1\\\\n\"', '\"2 1\\\\n\"', '\"1\\\\n\"', '\"1\\\\n\"', '\"1\\\\n\"', '\"2 1\\\\n\"', '\"2 1\\\\n\"', '\"2 1\\\\n\"', '\"2 1\\\\n\"', '\"2 1\\\\n\"', '\"2 1\\\\n\"', '\"2 1\\\\n\"', '\"2 1 3 4 5\\\\n\"', '\"2 1\\\\n\"', '\"1 2\\\\n\"', '\"2 1\\\\n\"', '\"1 2\\\\n\"', '\"2 1\\\\n\"', '\"2 1\\\\n\"', '\"1\\\\n\"', '\"1\\\\n\"', '\"1\\\\n\"', '\"2 1\\\\n\"', '\"2 1\\\\n\"', '\"2 1\\\\n\"', '\"1 2\\\\n\"', '\"2 1\\\\n\"', '\"2 1\\\\n\"', '\"1 2\\\\n\"', '\"5 2 1 4 3\\\\n\"', '\"2 1\\\\n\"', '\"2 1\\\\n\"', '\"2 1\\\\n\"', '\"1\\\\n\"', '\"1\\\\n\"', '\"1\\\\n\"', '\"2 1\\\\n\"', '\"2 1 3\\\\n\"', '\"2 1\\\\n\"', '\"1\\\\n\"', '\"1 2\\\\n\"', '\"2 1\\\\n\"', '\"1 2\\\\n\"', '\"2 1 3\\\\n\"', '\"1\\\\n\"', '\"2 1\\\\n\"', '\"2 1\\\\n\"', '\"1\\\\n\"', '\"1\\\\n\"', '\"1\\\\n\"', '\"2 1\\\\n\"', '\"2 1 3\\\\n\"', '\"2 1\\\\n\"', '\"1\\\\n\"', '\"1 2\\\\n\"', '\"2 1\\\\n\"', '\"1 2\\\\n\"', '\"1\\\\n\"', '\"2 1\\\\n\"', '\"1\\\\n\"', '\"2 1\\\\n\"', '\"1\\\\n\"', '\"1\\\\n\"', '\"2 1\\\\n\"', '\"2 1 3\\\\n\"', '\"1\\\\n\"', '\"2 1\\\\n\"', '\"1 2\\\\n\"', '\"1 2\\\\n\"', '\"1\\\\n\"', '\"1\\\\n\"', '\"2 1\\\\n\"', '\"1\\\\n\"', '\"1\\\\n\"', '\"2 1\\\\n\"', '\"1\\\\n\"', '\"1 2\\\\n\"', '\"2 1\\\\n\"', '\"1\\\\n\"', '\"2 1\\\\n\"', '\"1\\\\n\"', '\"2 1\\\\n\"', '\"2 4 1 3\\\\n\"', '\"1\\\\n\"', '\"1 2\\\\n\"', '\"2 1\\\\n\"', '\"1\\\\n\"', '\"1 2\\\\n\"', '\"2 1\\\\n\"', '\"1\\\\n\"', '\"1 2\\\\n\"', '\"2 1\\\\n\"', '\"1\\\\n\"', '\"1 2\\\\n\"', '\"2 1\\\\n\"', '\"2 1\\\\n\"', '\"1 2\\\\n\"', '\"1 2\\\\n\"', '\"1 2\\\\n\"', '\"1 2\\\\n\"', '\"2 1\\\\n\"', '\"2 1\\\\n\"', '\"1 2\\\\n\"', '\"2 1\\\\n\"', '\"2 1\\\\n\"', '\"1 2\\\\n\"', '\"2 1\\\\n\"', '\"1 2\\\\n\"', '\"2 1\\\\n\"', '\"1 2\\\\n\"', '\"2 1\\\\n\"', '\"1 2\\\\n\"', '\"2 1\\\\n\"', '\"1 2\\\\n\"', '\"1\\\\n\"', '\"1\\\\n\"', '\"1\\\\n\"', '\"1\\\\n\"', '\"1\\\\n\"', '\"1\\\\n\"', '\"2 1\\\\n\"', '\"2 1\\\\n\"', '\"2 1\\\\n\"', '\"2 1\\\\n\"', '\"2 1\\\\n\"', '\"2 1 3\\\\n\"', '\"1 2\\\\n\"', '\"1 2\\\\n\"', '\"1 2\\\\n\"', '\"2 1\\\\n\"', '\"2 1\\\\n\"', '\"1 2\\\\n\"', '\"1\\\\n\"', '\"1\\\\n\"', '\"1\\\\n\"', '\"2 1\\\\n\"', '\"1 2\\\\n\"', '\"2 1\\\\n\"', '\"2 1\\\\n\"', '\"2 1\\\\n\"', '\"1 2\\\\n\"', '\"2 1 3\\\\n\"', '\"2 1\\\\n\"', '\"1\\\\n\"', '\"1\\\\n\"', '\"2 1\\\\n\"', '\"2 1\\\\n\"', '\"1 2\\\\n\"', '\"2 1\\\\n\"', '\"1 2\\\\n\"', '\"1 2\\\\n\"', '\"5 2 1 4 3\\\\n\"', '\"1 2\\\\n\"', '\"1\\\\n\"', '\"1\\\\n\"', '\"2 1\\\\n\"', '\"1 2\\\\n\"', '\"1 2\\\\n\"', '\"2 1 3\\\\n\"', '\"1\\\\n\"', '\"1 2\\\\n\"', '\"2 1\\\\n\"', '\"1\\\\n\"', '\"1\\\\n\"', '\"1\\\\n\"', '\"1 2\\\\n\"', '\"2 1 3\\\\n\"', '\"2 1\\\\n\"', '\"1\\\\n\"', '\"1 2\\\\n\"', '\"1 2\\\\n\"', '\"1\\\\n\"', '\"2 1\\\\n\"', '\"1\\\\n\"', '\"2 1\\\\n\"', '\"1\\\\n\"', '\"2 1\\\\n\"', '\"1 2\\\\n\"', '\"1\\\\n\"', '\"2 1 3\\\\n\"', '\"1\\\\n\"', '\"1\\\\n\"']\n"
     ]
    }
   ],
   "source": [
    "print(expected_output_list)"
   ]
  },
  {
   "cell_type": "code",
   "execution_count": 13,
   "metadata": {},
   "outputs": [
    {
     "name": "stdout",
     "output_type": "stream",
     "text": [
      "['5 2\\nAA\\nAB\\nBB\\nBA\\nZA', '5 2\\nAA\\nAB\\nCB\\nBA\\nAZ', '2 2\\nAA\\nAB\\nCB\\nBA\\nAZ', '2 2\\nAA\\nBC\\nCB\\nAB\\nAZ', '1 2\\nAA\\nAC\\nBC\\nBA\\nZA', '5 2\\nAA\\nAB\\nBC\\nBA\\nAZ', '3 2\\nAA\\nAB\\nCB\\nAB\\nAZ', '4 2\\nBA\\nAC\\nEA\\nAA\\nZ@', '3 2\\nAA\\nBA\\nCB\\nAB\\nAZ', '4 2\\nAA\\nAC\\nCB\\nBA\\nAZ', '4 2\\nBA\\nBC\\nEA\\nAB\\nZ@', '3 2\\nBA\\nAD\\nAB\\nBA\\nC[', '3 2\\nAA\\nBA\\nBC\\nAB\\nAZ', '5 2\\nAA\\nBA\\nCC\\nBB\\nAZ', '2 2\\nAA\\nAB\\nCB\\nAB\\nAZ', '2 2\\nAA\\nAC\\nCB\\nAB\\nAZ', '2 2\\nAA\\nBC\\nCB\\nAB\\nZA', '2 2\\nAA\\nBC\\nBC\\nAB\\nZA', '2 2\\nAA\\nAC\\nBC\\nAB\\nZA', '2 2\\nAA\\nAC\\nBC\\nBA\\nZA', '1 2\\nAA\\nAC\\nBC\\nAA\\nZA', '1 2\\nAA\\nAC\\nCB\\nAA\\nZA', '1 2\\nAA\\nAC\\nCB\\nAA\\nZ@', '2 2\\nAA\\nAC\\nCB\\nAA\\nZ@', '2 2\\nAA\\nAC\\nCA\\nAA\\nZ@', '2 2\\nAB\\nAC\\nCA\\nAA\\nZ@', '2 2\\nAB\\nAC\\nCA\\nBA\\nZ@', '2 2\\nAB\\nAC\\nCA\\nAB\\nZ@', '2 2\\nAB\\nAC\\nCA\\nAB\\n@Z', '2 2\\nAB\\nAC\\nCA\\nAB\\n@Y', '5 2\\nAA\\nAB\\nBB\\nBA\\nZB', '2 2\\nAA\\nAD\\nCB\\nAB\\nAZ', '2 2\\nAA\\nBC\\nBB\\nAB\\nAZ', '2 2\\nBA\\nBC\\nCB\\nAB\\nZA', '2 2\\nAA\\nBC\\nBD\\nAB\\nZA', '2 2\\nAA\\nAC\\nBC\\nAB\\n[A', '2 2\\nAA\\nAC\\nBC\\nBA\\nAZ', '1 2\\nAA\\nAB\\nBC\\nBA\\nZA', '1 2\\nAA\\nAC\\nBC\\nAA\\nAZ', '1 2\\nBA\\nAC\\nCB\\nAA\\nZ@', '2 2\\nAA\\nAC\\nBC\\nAA\\nZ@', '2 2\\nAA\\nAC\\nDA\\nAA\\nZ@', '2 2\\nAB\\nAC\\nCA\\nAA\\n[@', '2 2\\nAB\\nCA\\nCA\\nBA\\nZ@', '2 2\\nAB\\nAC\\nAC\\nAB\\nZ@', '2 2\\nAB\\nAC\\nBA\\nAB\\n@Z', '2 2\\nAB\\nCA\\nCA\\nAB\\n@Y', '5 2\\nAA\\nAB\\nCC\\nBA\\nAZ', '2 2\\nBA\\nBC\\nBB\\nAB\\nZA', '2 2\\nAA\\nAC\\nAC\\nAB\\n[A', '2 2\\nAA\\nAC\\nCB\\nBA\\nAZ', '1 2\\nAA\\nAB\\nBC\\nBA\\nAZ', '1 2\\nAA\\nAC\\nBC\\nAA\\n@Z', '1 2\\nBA\\nAC\\nCA\\nAA\\nZ@', '2 2\\nAA\\nAC\\nBC\\nAA\\nZ?', '3 2\\nAA\\nAC\\nDA\\nAA\\nZ@', '2 2\\nBA\\nAC\\nCA\\nAA\\n[@', '1 2\\nAB\\nCA\\nCA\\nBA\\nZ@', '2 2\\nAB\\nCA\\nAC\\nAB\\nZ@', '2 2\\nAB\\nAC\\nBA\\nBB\\n@Z', '2 2\\nAB\\nCB\\nCA\\nAB\\n@Y', '3 2\\nAA\\nAB\\nCC\\nBA\\nAZ', '1 2\\nBA\\nBC\\nBB\\nAB\\nZA', '2 2\\nAA\\nAC\\nAC\\nAC\\n[A', '2 2\\nAA\\nAB\\nCB\\nCA\\nAZ', '1 2\\nAA\\nAB\\nBC\\nBA\\nA[', '1 2\\nAA\\nAC\\nBC\\nAB\\n@Z', '1 2\\nBA\\nAC\\nCA\\nAA\\n@Z', '2 2\\nAA\\nAC\\nBC\\nAA\\n?Z', '3 2\\nAA\\nAC\\nEA\\nAA\\nZ@', '2 2\\nBA\\nAC\\nAC\\nAA\\n[@', '1 2\\nBB\\nCA\\nCA\\nBA\\nZ@', '2 2\\nAB\\nBA\\nAC\\nAB\\nZ@', '2 2\\nAB\\nAC\\nBA\\nBB\\n?Z', '2 2\\nAB\\nCB\\nCA\\nAC\\n@Y', '1 2\\nBA\\nCB\\nBB\\nAB\\nZA', '2 2\\nAA\\nAC\\nAC\\nAC\\n[B', '1 2\\nAA\\nAC\\nCB\\nBA\\nAZ', '2 2\\nAA\\nAB\\nBC\\nBA\\nA[', '1 2\\nAA\\nAC\\nCB\\nAB\\n@Z', '1 2\\nBA\\nAC\\nCA\\nAB\\n@Z', '2 2\\nAA\\nAC\\nBC\\nA@\\n?Z', '3 2\\nBA\\nAC\\nEA\\nAA\\nZ@', '1 2\\nBB\\nAC\\nCA\\nBA\\nZ@', '2 2\\nAA\\nAC\\nBA\\nBB\\n?Z', '2 2\\nBA\\nCB\\nCA\\nAC\\n@Y', '2 2\\nBA\\nCB\\nBB\\nAB\\nZA', '1 2\\nAA\\nAC\\nAC\\nAC\\n[B', '1 2\\nAA\\nAC\\nCB\\nBA\\nZA', '2 2\\nAA\\nAB\\nCB\\nBA\\nA[', '1 2\\nAA\\nAC\\nCB\\nAB\\nZ@', '1 2\\nBA\\nAC\\nCB\\nAB\\n@Z', '2 2\\nBA\\nAC\\nBC\\nA@\\n?Z', '1 2\\nBB\\nAC\\nCA\\nAB\\nZ@', '2 2\\nAA\\nBC\\nBA\\nBB\\n?Z', '2 2\\nBA\\nBC\\nCA\\nAC\\n@Y', '1 2\\nAA\\nAC\\nAC\\nAC\\n[C', '2 2\\nAA\\nAC\\nCB\\nBA\\nA[', '1 2\\nAA\\nAC\\nDB\\nAB\\nZ@', '2 2\\nBA\\nAD\\nBC\\nA@\\n?Z', '4 2\\nBA\\nAC\\nEA\\nAB\\nZ@', '1 2\\nCB\\nAC\\nCA\\nAB\\nZ@', '2 2\\nAA\\nBC\\nBA\\nBB\\nZ?', '2 2\\nBA\\nBB\\nCA\\nAC\\n@Y', '1 2\\nAA\\nAC\\nAC\\nAD\\n[C', '2 2\\nAA\\nCA\\nCB\\nBA\\nA[', '2 2\\nBA\\nAD\\nBC\\nA?\\n?Z', '1 2\\nCB\\nCA\\nCA\\nAB\\nZ@', '2 2\\nAA\\nBC\\nBB\\nBB\\nZ?', '2 2\\nBA\\nBB\\nCA\\nCA\\n@Y', '1 2\\nAA\\nCA\\nAC\\nAD\\n[C', '2 2\\nAA\\nCA\\nBB\\nBA\\nA[', '2 2\\nBA\\nAD\\nBB\\nA?\\n?Z', '2 2\\nBA\\nBB\\nCA\\nDA\\n@Y', '2 2\\nAA\\nCA\\nBB\\nAB\\nA[', '2 2\\nBA\\nDA\\nBB\\nA?\\n?Z', '2 2\\nAB\\nBB\\nCA\\nDA\\n@Y', '2 2\\nAA\\nCA\\nBB\\nAA\\nA[', '2 2\\nBA\\nAD\\nBB\\nA?\\n?Y', '2 2\\nBA\\nBB\\nCA\\nD@\\n@Y', '2 2\\nAA\\nDA\\nBB\\nBA\\nA[', '2 2\\nAB\\nAD\\nBB\\nA?\\n?Y', '2 2\\nBA\\nBB\\nAC\\nD@\\n@Y', '2 2\\nAA\\nDA\\nBB\\nAB\\nA[', '2 2\\nAB\\nAD\\nBA\\nA?\\n?Y', '2 2\\nAA\\nDA\\nAB\\nAB\\nA[', '2 2\\nAB\\nAD\\nAB\\nA?\\n?Y', '2 2\\nAA\\nDA\\nAB\\nBA\\nA[', '2 2\\nAB\\nAD\\nCA\\nA?\\n?Y', '2 2\\nAA\\nDA\\nAB\\nBA\\nB[', '2 2\\nAB\\nAD\\nCA\\nA>\\n?Y', '2 2\\nAA\\nDA\\nAB\\nCA\\nB[', '1 2\\nAA\\nDA\\nAB\\nCA\\nB[', '1 2\\nAA\\nAD\\nAB\\nCA\\nB[', '1 2\\nAA\\nAD\\nAB\\nAC\\nB[', '1 2\\nAA\\nAD\\nAB\\nAC\\nC[', '1 2\\nAA\\nAD\\nAB\\nCA\\nC[', '1 2\\nAA\\nAD\\nAB\\nBA\\nC[', '2 2\\nAA\\nAD\\nAB\\nBA\\nC[', '2 2\\nBA\\nAD\\nAB\\nBA\\nC[', '2 2\\nBA\\nAE\\nAB\\nBA\\nC[', '2 2\\nBA\\nAE\\nAB\\nBA\\n[C', '2 2\\nAA\\nAB\\nCB\\nAC\\nAZ', '3 2\\nAA\\nAC\\nCB\\nAB\\nAZ', '2 2\\nAA\\nBC\\nDB\\nAB\\nAZ', '2 2\\nAA\\nBC\\nCB\\nBA\\nZA', '2 2\\nAA\\nBC\\nBC\\nAC\\nZA', '2 2\\nAA\\nAC\\nCB\\nAB\\nZA', '2 2\\nAA\\nAC\\nCC\\nBA\\nZA', '2 2\\nAA\\nCA\\nBC\\nBA\\nZA', '1 2\\nAA\\nAB\\nBC\\nAA\\nZA', '1 2\\nAA\\nAC\\nCC\\nAA\\nZA', '1 2\\nAA\\nAD\\nCB\\nAA\\nZ@', '2 2\\nAA\\nAC\\nCB\\n@A\\nZ@', '2 2\\nAB\\nCA\\nCA\\nAB\\nZ@', '2 2\\nAA\\nAC\\nCA\\nAB\\nZ@', '2 2\\nAB\\nAC\\nAC\\nAB\\n@Z', '2 2\\nAB\\nAC\\nAC\\nAB\\n@Y', '2 2\\nAA\\nBC\\nBD\\nAB\\nYA', '3 2\\nAA\\nAC\\nBC\\nAB\\n[A', '2 2\\nAA\\nAC\\nAC\\nBA\\nAZ', '1 1\\nAA\\nAC\\nBC\\nAA\\nAZ', '1 2\\nBA\\nAC\\nCB\\nAA\\n@Z', '2 2\\nAB\\nAC\\nDA\\nAA\\nZ@', '2 2\\nBA\\nAC\\nCB\\nAA\\n[@', '2 1\\nAB\\nCA\\nCA\\nBA\\nZ@', '2 2\\nBA\\nAC\\nCA\\nAB\\n@Z', '2 2\\nAB\\nBC\\nBA\\nAB\\n@Z', '2 2\\nAB\\nCA\\nAC\\nAB\\n@Y', '5 2\\nAA\\nAB\\nCC\\nBB\\nAZ', '2 2\\nBA\\nCB\\nBB\\nAB\\nAZ', '1 2\\nAA\\nAB\\nBC\\nBA\\nAY', '1 2\\nAA\\nAC\\nBC\\nBA\\n@Z', '2 2\\nAB\\nAC\\nCB\\nAA\\n[@', '2 2\\nAB\\nCA\\nAD\\nAB\\nZ@', '2 2\\nAB\\nCB\\nCB\\nAB\\n@Y', '3 2\\nAA\\nAB\\nCC\\nBA\\nAY', '1 2\\nBA\\nBC\\nBB\\nBB\\nZA', '2 2\\nAA\\nCA\\nAC\\nAC\\n[A', '2 2\\nAA\\nAB\\nBC\\nBA\\nAZ', '1 2\\nAA\\nAB\\nBB\\nBA\\nA[', '1 2\\nAA\\nAC\\nBC\\nAB\\n@[', '1 2\\nBA\\nBC\\nCA\\nAA\\nZ@', '2 2\\nAA\\nCA\\nBC\\nAA\\n?Z', '3 2\\nAB\\nAC\\nEA\\nAA\\nZ@', '2 2\\nBA\\nAC\\nAC\\nAA\\nZ@', '1 2\\nBB\\nCA\\nCA\\nBA\\n@Z', '2 2\\nAB\\nBA\\nAC\\nBA\\nZ@', '2 2\\nBB\\nCB\\nCA\\nAC\\n@Y', '1 2\\nBA\\nCB\\nBB\\nBA\\nZA', '2 2\\nBA\\nAC\\nAC\\nAC\\n[B', '1 2\\nAA\\nAC\\nCB\\nAA\\nAZ', '2 2\\nAA\\nAB\\nBC\\nB@\\nA[', '1 2\\nAA\\nAC\\nCB\\nAA\\n@Z', '2 2\\nAA\\nAC\\nCA\\nBB\\n?Z', '2 2\\nAB\\nCB\\nBB\\nAB\\nZA', '1 2\\nAA\\nCA\\nAC\\nAC\\n[B', '3 2\\nAA\\nAB\\nCB\\nBA\\nA[', '1 1\\nAA\\nAC\\nCB\\nAB\\nZ@', '1 2\\nBA\\nAC\\nCC\\nAB\\n@Z']\n",
      "[['2', '1', '3', '4', '5'], ['5', '2', '1', '4', '3'], ['2', '1'], ['1', '2'], ['1'], ['5', '2', '1', '3', '4'], ['2', '1', '3'], ['2', '4', '1', '3'], ['1', '2', '3'], ['2', '1', '4', '3'], ['4', '2', '1', '3'], ['2', '3', '1'], ['1', '3', '2'], ['5', '1', '4', '2', '3'], ['2', '1'], ['2', '1'], ['1', '2'], ['1', '2'], ['2', '1'], ['2', '1'], ['1'], ['1'], ['1'], ['2', '1'], ['2', '1'], ['2', '1'], ['2', '1'], ['2', '1'], ['2', '1'], ['2', '1'], ['2', '1', '3', '4', '5'], ['2', '1'], ['1', '2'], ['2', '1'], ['1', '2'], ['2', '1'], ['2', '1'], ['1'], ['1'], ['1'], ['2', '1'], ['2', '1'], ['2', '1'], ['1', '2'], ['2', '1'], ['2', '1'], ['1', '2'], ['5', '2', '1', '4', '3'], ['2', '1'], ['2', '1'], ['2', '1'], ['1'], ['1'], ['1'], ['2', '1'], ['2', '1', '3'], ['2', '1'], ['1'], ['1', '2'], ['2', '1'], ['1', '2'], ['2', '1', '3'], ['1'], ['2', '1'], ['2', '1'], ['1'], ['1'], ['1'], ['2', '1'], ['2', '1', '3'], ['2', '1'], ['1'], ['1', '2'], ['2', '1'], ['1', '2'], ['1'], ['2', '1'], ['1'], ['2', '1'], ['1'], ['1'], ['2', '1'], ['2', '1', '3'], ['1'], ['2', '1'], ['1', '2'], ['1', '2'], ['1'], ['1'], ['2', '1'], ['1'], ['1'], ['2', '1'], ['1'], ['1', '2'], ['2', '1'], ['1'], ['2', '1'], ['1'], ['2', '1'], ['2', '4', '1', '3'], ['1'], ['1', '2'], ['2', '1'], ['1'], ['1', '2'], ['2', '1'], ['1'], ['1', '2'], ['2', '1'], ['1'], ['1', '2'], ['2', '1'], ['2', '1'], ['1', '2'], ['1', '2'], ['1', '2'], ['1', '2'], ['2', '1'], ['2', '1'], ['1', '2'], ['2', '1'], ['2', '1'], ['1', '2'], ['2', '1'], ['1', '2'], ['2', '1'], ['1', '2'], ['2', '1'], ['1', '2'], ['2', '1'], ['1', '2'], ['1'], ['1'], ['1'], ['1'], ['1'], ['1'], ['2', '1'], ['2', '1'], ['2', '1'], ['2', '1'], ['2', '1'], ['2', '1', '3'], ['1', '2'], ['1', '2'], ['1', '2'], ['2', '1'], ['2', '1'], ['1', '2'], ['1'], ['1'], ['1'], ['2', '1'], ['1', '2'], ['2', '1'], ['2', '1'], ['2', '1'], ['1', '2'], ['2', '1', '3'], ['2', '1'], ['1'], ['1'], ['2', '1'], ['2', '1'], ['1', '2'], ['2', '1'], ['1', '2'], ['1', '2'], ['5', '2', '1', '4', '3'], ['1', '2'], ['1'], ['1'], ['2', '1'], ['1', '2'], ['1', '2'], ['2', '1', '3'], ['1'], ['1', '2'], ['2', '1'], ['1'], ['1'], ['1'], ['1', '2'], ['2', '1', '3'], ['2', '1'], ['1'], ['1', '2'], ['1', '2'], ['1'], ['2', '1'], ['1'], ['2', '1'], ['1'], ['2', '1'], ['1', '2'], ['1'], ['2', '1', '3'], ['1'], ['1']]\n"
     ]
    }
   ],
   "source": [
    "modified_input_data_list = []\n",
    "for data in input_data_list:\n",
    "    data = data.replace(\"\\\\n\", \"\\n\")\n",
    "    modified_input_data_list.append(data[1:-1].strip())\n",
    "\n",
    "print(modified_input_data_list)\n",
    "\n",
    "modified_output_data_list = []\n",
    "for data in expected_output_list:\n",
    "    data = data.replace(\"\\\\n\", ' ')\n",
    "    data = data.replace('\\n', ' ')\n",
    "    data = data.replace(\"\\\"\", \"\")\n",
    "    data = data.split()\n",
    "    modified_output_data_list.append(data)\n",
    "\n",
    "print(modified_output_data_list)"
   ]
  },
  {
   "cell_type": "code",
   "execution_count": 14,
   "metadata": {},
   "outputs": [
    {
     "name": "stdout",
     "output_type": "stream",
     "text": [
      "['0', '2', '1', '3', '4', '5']\n",
      "['2', '1', '3', '4', '5']\n",
      "['0', '5', '2', '1', '4', '3']\n",
      "['5', '2', '1', '4', '3']\n",
      "['0', '2', '1']\n",
      "['2', '1']\n",
      "['0', '1', '2']\n",
      "['1', '2']\n",
      "['0', '1']\n",
      "['1']\n",
      "['0', '5', '2', '1', '3', '4']\n",
      "['5', '2', '1', '3', '4']\n",
      "['0', '2', '1', '3']\n",
      "['2', '1', '3']\n",
      "['0', '2', '4', '1', '3']\n",
      "['2', '4', '1', '3']\n",
      "['0', '1', '2', '3']\n",
      "['1', '2', '3']\n",
      "['0', '2', '1', '4', '3']\n",
      "['2', '1', '4', '3']\n",
      "['0', '4', '2', '1', '3']\n",
      "['4', '2', '1', '3']\n",
      "['0', '2', '3', '1']\n",
      "['2', '3', '1']\n",
      "['0', '1', '3', '2']\n",
      "['1', '3', '2']\n",
      "['0', '5', '1', '4', '2', '3']\n",
      "['5', '1', '4', '2', '3']\n",
      "['0', '2', '1']\n",
      "['2', '1']\n",
      "['0', '2', '1']\n",
      "['2', '1']\n",
      "['0', '1', '2']\n",
      "['1', '2']\n",
      "['0', '1', '2']\n",
      "['1', '2']\n",
      "['0', '2', '1']\n",
      "['2', '1']\n",
      "['0', '2', '1']\n",
      "['2', '1']\n",
      "['0', '1']\n",
      "['1']\n",
      "['0', '1']\n",
      "['1']\n",
      "['0', '1']\n",
      "['1']\n",
      "['0', '2', '1']\n",
      "['2', '1']\n",
      "['0', '2', '1']\n",
      "['2', '1']\n",
      "['0', '2', '1']\n",
      "['2', '1']\n",
      "['0', '2', '1']\n",
      "['2', '1']\n",
      "['0', '2', '1']\n",
      "['2', '1']\n",
      "['0', '2', '1']\n",
      "['2', '1']\n",
      "['0', '2', '1']\n",
      "['2', '1']\n",
      "['0', '2', '1', '3', '4', '5']\n",
      "['2', '1', '3', '4', '5']\n",
      "['0', '2', '1']\n",
      "['2', '1']\n",
      "['0', '1', '2']\n",
      "['1', '2']\n",
      "['0', '2', '1']\n",
      "['2', '1']\n",
      "['0', '1', '2']\n",
      "['1', '2']\n",
      "['0', '2', '1']\n",
      "['2', '1']\n",
      "['0', '2', '1']\n",
      "['2', '1']\n",
      "['0', '1']\n",
      "['1']\n",
      "['0', '1']\n",
      "['1']\n",
      "['0', '1']\n",
      "['1']\n",
      "['0', '2', '1']\n",
      "['2', '1']\n",
      "['0', '2', '1']\n",
      "['2', '1']\n",
      "['0', '2', '1']\n",
      "['2', '1']\n",
      "['0', '1', '2']\n",
      "['1', '2']\n",
      "['0', '2', '1']\n",
      "['2', '1']\n",
      "['0', '2', '1']\n",
      "['2', '1']\n",
      "['0', '1', '2']\n",
      "['1', '2']\n",
      "['0', '5', '2', '1', '4', '3']\n",
      "['5', '2', '1', '4', '3']\n",
      "['0', '2', '1']\n",
      "['2', '1']\n",
      "['0', '2', '1']\n",
      "['2', '1']\n",
      "['0', '2', '1']\n",
      "['2', '1']\n",
      "['0', '1']\n",
      "['1']\n",
      "['0', '1']\n",
      "['1']\n",
      "['0', '1']\n",
      "['1']\n",
      "['0', '2', '1']\n",
      "['2', '1']\n",
      "['0', '2', '1', '3']\n",
      "['2', '1', '3']\n",
      "['0', '2', '1']\n",
      "['2', '1']\n",
      "['0', '1']\n",
      "['1']\n",
      "['0', '1', '2']\n",
      "['1', '2']\n",
      "['0', '2', '1']\n",
      "['2', '1']\n",
      "['0', '1', '2']\n",
      "['1', '2']\n",
      "['0', '2', '1', '3']\n",
      "['2', '1', '3']\n",
      "['0', '1']\n",
      "['1']\n",
      "['0', '2', '1']\n",
      "['2', '1']\n",
      "['0', '2', '1']\n",
      "['2', '1']\n",
      "['0', '1']\n",
      "['1']\n",
      "['0', '1']\n",
      "['1']\n",
      "['0', '1']\n",
      "['1']\n",
      "['0', '2', '1']\n",
      "['2', '1']\n",
      "['0', '2', '1', '3']\n",
      "['2', '1', '3']\n",
      "['0', '2', '1']\n",
      "['2', '1']\n",
      "['0', '1']\n",
      "['1']\n",
      "['0', '1', '2']\n",
      "['1', '2']\n",
      "['0', '2', '1']\n",
      "['2', '1']\n",
      "['0', '1', '2']\n",
      "['1', '2']\n",
      "['0', '1']\n",
      "['1']\n",
      "['0', '2', '1']\n",
      "['2', '1']\n",
      "['0', '1']\n",
      "['1']\n",
      "['0', '2', '1']\n",
      "['2', '1']\n",
      "['0', '1']\n",
      "['1']\n",
      "['0', '1']\n",
      "['1']\n",
      "['0', '2', '1']\n",
      "['2', '1']\n",
      "['0', '2', '1', '3']\n",
      "['2', '1', '3']\n",
      "['0', '1']\n",
      "['1']\n",
      "['0', '2', '1']\n",
      "['2', '1']\n",
      "['0', '1', '2']\n",
      "['1', '2']\n",
      "['0', '1', '2']\n",
      "['1', '2']\n",
      "['0', '1']\n",
      "['1']\n",
      "['0', '1']\n",
      "['1']\n",
      "['0', '2', '1']\n",
      "['2', '1']\n",
      "['0', '1']\n",
      "['1']\n",
      "['0', '1']\n",
      "['1']\n",
      "['0', '2', '1']\n",
      "['2', '1']\n",
      "['0', '1']\n",
      "['1']\n",
      "['0', '1', '2']\n",
      "['1', '2']\n",
      "['0', '2', '1']\n",
      "['2', '1']\n",
      "['0', '1']\n",
      "['1']\n",
      "['0', '2', '1']\n",
      "['2', '1']\n",
      "['0', '1']\n",
      "['1']\n",
      "['0', '2', '1']\n",
      "['2', '1']\n",
      "['0', '2', '4', '1', '3']\n",
      "['2', '4', '1', '3']\n",
      "['0', '1']\n",
      "['1']\n",
      "['0', '1', '2']\n",
      "['1', '2']\n",
      "['0', '2', '1']\n",
      "['2', '1']\n",
      "['0', '1']\n",
      "['1']\n",
      "['0', '1', '2']\n",
      "['1', '2']\n",
      "['0', '2', '1']\n",
      "['2', '1']\n",
      "['0', '1']\n",
      "['1']\n",
      "['0', '1', '2']\n",
      "['1', '2']\n",
      "['0', '2', '1']\n",
      "['2', '1']\n",
      "['0', '1']\n",
      "['1']\n",
      "['0', '1', '2']\n",
      "['1', '2']\n",
      "['0', '2', '1']\n",
      "['2', '1']\n",
      "['0', '2', '1']\n",
      "['2', '1']\n",
      "['0', '1', '2']\n",
      "['1', '2']\n",
      "['0', '1', '2']\n",
      "['1', '2']\n",
      "['0', '1', '2']\n",
      "['1', '2']\n",
      "['0', '1', '2']\n",
      "['1', '2']\n",
      "['0', '2', '1']\n",
      "['2', '1']\n",
      "['0', '2', '1']\n",
      "['2', '1']\n",
      "['0', '1', '2']\n",
      "['1', '2']\n",
      "['0', '2', '1']\n",
      "['2', '1']\n",
      "['0', '2', '1']\n",
      "['2', '1']\n",
      "['0', '1', '2']\n",
      "['1', '2']\n",
      "['0', '2', '1']\n",
      "['2', '1']\n",
      "['0', '1', '2']\n",
      "['1', '2']\n",
      "['0', '2', '1']\n",
      "['2', '1']\n",
      "['0', '1', '2']\n",
      "['1', '2']\n",
      "['0', '2', '1']\n",
      "['2', '1']\n",
      "['0', '1', '2']\n",
      "['1', '2']\n",
      "['0', '2', '1']\n",
      "['2', '1']\n",
      "['0', '1', '2']\n",
      "['1', '2']\n",
      "['0', '1']\n",
      "['1']\n",
      "['0', '1']\n",
      "['1']\n",
      "['0', '1']\n",
      "['1']\n",
      "['0', '1']\n",
      "['1']\n",
      "['0', '1']\n",
      "['1']\n",
      "['0', '1']\n",
      "['1']\n",
      "['0', '2', '1']\n",
      "['2', '1']\n",
      "['0', '2', '1']\n",
      "['2', '1']\n",
      "['0', '2', '1']\n",
      "['2', '1']\n",
      "['0', '2', '1']\n",
      "['2', '1']\n",
      "['0', '2', '1']\n",
      "['2', '1']\n",
      "['0', '2', '1', '3']\n",
      "['2', '1', '3']\n",
      "['0', '1', '2']\n",
      "['1', '2']\n",
      "['0', '1', '2']\n",
      "['1', '2']\n",
      "['0', '1', '2']\n",
      "['1', '2']\n",
      "['0', '2', '1']\n",
      "['2', '1']\n",
      "['0', '2', '1']\n",
      "['2', '1']\n",
      "['0', '1', '2']\n",
      "['1', '2']\n",
      "['0', '1']\n",
      "['1']\n",
      "['0', '1']\n",
      "['1']\n",
      "['0', '1']\n",
      "['1']\n",
      "['0', '2', '1']\n",
      "['2', '1']\n",
      "['0', '1', '2']\n",
      "['1', '2']\n",
      "['0', '2', '1']\n",
      "['2', '1']\n",
      "['0', '2', '1']\n",
      "['2', '1']\n",
      "['0', '2', '1']\n",
      "['2', '1']\n",
      "['0', '1', '2']\n",
      "['1', '2']\n",
      "['0', '2', '1', '3']\n",
      "['2', '1', '3']\n",
      "['0', '2', '1']\n",
      "['2', '1']\n",
      "['0', '1']\n",
      "['1']\n",
      "['0', '1']\n",
      "['1']\n",
      "['0', '2', '1']\n",
      "['2', '1']\n",
      "['0', '2', '1']\n",
      "['2', '1']\n",
      "['0', '1', '2']\n",
      "['1', '2']\n",
      "['0', '2', '1']\n",
      "['2', '1']\n",
      "['0', '1', '2']\n",
      "['1', '2']\n",
      "['0', '1', '2']\n",
      "['1', '2']\n",
      "['0', '5', '2', '1', '4', '3']\n",
      "['5', '2', '1', '4', '3']\n",
      "['0', '1', '2']\n",
      "['1', '2']\n",
      "['0', '1']\n",
      "['1']\n",
      "['0', '1']\n",
      "['1']\n",
      "['0', '2', '1']\n",
      "['2', '1']\n",
      "['0', '1', '2']\n",
      "['1', '2']\n",
      "['0', '1', '2']\n",
      "['1', '2']\n",
      "['0', '2', '1', '3']\n",
      "['2', '1', '3']\n",
      "['0', '1']\n",
      "['1']\n",
      "['0', '1', '2']\n",
      "['1', '2']\n",
      "['0', '2', '1']\n",
      "['2', '1']\n",
      "['0', '1']\n",
      "['1']\n",
      "['0', '1']\n",
      "['1']\n",
      "['0', '1']\n",
      "['1']\n",
      "['0', '1', '2']\n",
      "['1', '2']\n",
      "['0', '2', '1', '3']\n",
      "['2', '1', '3']\n",
      "['0', '2', '1']\n",
      "['2', '1']\n",
      "['0', '1']\n",
      "['1']\n",
      "['0', '1', '2']\n",
      "['1', '2']\n",
      "['0', '1', '2']\n",
      "['1', '2']\n",
      "['0', '1']\n",
      "['1']\n",
      "['0', '2', '1']\n",
      "['2', '1']\n",
      "['0', '1']\n",
      "['1']\n",
      "['0', '2', '1']\n",
      "['2', '1']\n",
      "['0', '1']\n",
      "['1']\n",
      "['0', '2', '1']\n",
      "['2', '1']\n",
      "['0', '1', '2']\n",
      "['1', '2']\n",
      "['0', '1']\n",
      "['1']\n",
      "['0', '2', '1', '3']\n",
      "['2', '1', '3']\n",
      "['0', '1']\n",
      "['1']\n",
      "['0', '1']\n",
      "['1']\n",
      "logical error rate : 1.0\n"
     ]
    }
   ],
   "source": [
    "test_case_length = len(expected_output_list)\n",
    "correct_test = len(expected_output_list)\n",
    "for index, cpp_input in enumerate(modified_input_data_list):\n",
    "    process = subprocess.run(['./test_program.exe'], input = cpp_input, text=True, capture_output=True)\n",
    "    data_tmp = process.stdout.strip()\n",
    "    data_tmp = data_tmp.replace(\"\\n\", \" \")\n",
    "    data_tmp = data_tmp.strip().split()\n",
    "    actual_output = data_tmp\n",
    "    print(actual_output)\n",
    "    print(modified_output_data_list[index])\n",
    "    if len(actual_output) != len(modified_output_data_list[index]):\n",
    "        correct_test -= 1\n",
    "        continue\n",
    "    else:    \n",
    "        for output, gold in zip(actual_output, modified_output_data_list[index]):\n",
    "            if (\".\" in output) & (\".\" in gold):\n",
    "                output = round(float(output),2)\n",
    "                gold = round(float(gold), 2)     \n",
    "\n",
    "            if output != gold:\n",
    "                correct_test -= 1\n",
    "                print(\"error\")\n",
    "                break\n",
    "            else:\n",
    "                print(output)\n",
    "                print(gold)\n",
    "                continue\n",
    "\n",
    "print(f'logical error rate : {1- correct_test/test_case_length}')"
   ]
  },
  {
   "cell_type": "code",
   "execution_count": 15,
   "metadata": {},
   "outputs": [
    {
     "name": "stderr",
     "output_type": "stream",
     "text": [
      " 42%|████▏     | 358/861 [31:17<33:43,  4.02s/it]"
     ]
    },
    {
     "name": "stdout",
     "output_type": "stream",
     "text": [
      "Problem_160_source_850 logical error rate : 0.48 \n",
      " 104/200\n"
     ]
    },
    {
     "name": "stderr",
     "output_type": "stream",
     "text": [
      " 42%|████▏     | 359/861 [31:21<33:08,  3.96s/it]"
     ]
    },
    {
     "name": "stdout",
     "output_type": "stream",
     "text": [
      "Problem_160_source_851 logical error rate : 0.0 \n",
      " 200/200\n"
     ]
    },
    {
     "name": "stderr",
     "output_type": "stream",
     "text": [
      " 42%|████▏     | 360/861 [31:23<29:15,  3.50s/it]"
     ]
    },
    {
     "name": "stdout",
     "output_type": "stream",
     "text": [
      "Problem_161_source_749 logical error rate : 0.024390243902439046 \n",
      " 40/41\n"
     ]
    },
    {
     "name": "stderr",
     "output_type": "stream",
     "text": [
      " 42%|████▏     | 361/861 [31:25<26:23,  3.17s/it]"
     ]
    },
    {
     "name": "stdout",
     "output_type": "stream",
     "text": [
      "Problem_161_source_750 logical error rate : 1.0 \n",
      " 0/41\n"
     ]
    },
    {
     "name": "stderr",
     "output_type": "stream",
     "text": [
      " 42%|████▏     | 362/861 [31:28<24:33,  2.95s/it]"
     ]
    },
    {
     "name": "stdout",
     "output_type": "stream",
     "text": [
      "Problem_161_source_852 logical error rate : 0.024390243902439046 \n",
      " 40/41\n"
     ]
    },
    {
     "name": "stderr",
     "output_type": "stream",
     "text": [
      " 42%|████▏     | 363/861 [31:30<23:03,  2.78s/it]"
     ]
    },
    {
     "name": "stdout",
     "output_type": "stream",
     "text": [
      "Problem_161_source_853 logical error rate : 1.0 \n",
      " 0/41\n"
     ]
    },
    {
     "name": "stderr",
     "output_type": "stream",
     "text": [
      " 42%|████▏     | 364/861 [31:34<25:44,  3.11s/it]"
     ]
    },
    {
     "name": "stdout",
     "output_type": "stream",
     "text": [
      "Problem_162_source_751 logical error rate : 0.52 \n",
      " 96/200\n"
     ]
    },
    {
     "name": "stderr",
     "output_type": "stream",
     "text": [
      " 42%|████▏     | 365/861 [31:38<27:34,  3.33s/it]"
     ]
    },
    {
     "name": "stdout",
     "output_type": "stream",
     "text": [
      "Problem_162_source_752 logical error rate : 0.14 \n",
      " 172/200\n"
     ]
    },
    {
     "name": "stderr",
     "output_type": "stream",
     "text": [
      " 43%|████▎     | 366/861 [31:42<28:35,  3.47s/it]"
     ]
    },
    {
     "name": "stdout",
     "output_type": "stream",
     "text": [
      "Problem_162_source_753 logical error rate : 0.14 \n",
      " 172/200\n"
     ]
    },
    {
     "name": "stderr",
     "output_type": "stream",
     "text": [
      " 43%|████▎     | 367/861 [31:46<29:40,  3.60s/it]"
     ]
    },
    {
     "name": "stdout",
     "output_type": "stream",
     "text": [
      "Problem_162_source_854 logical error rate : 0.14 \n",
      " 172/200\n"
     ]
    },
    {
     "name": "stderr",
     "output_type": "stream",
     "text": [
      " 43%|████▎     | 368/861 [31:49<30:12,  3.68s/it]"
     ]
    },
    {
     "name": "stdout",
     "output_type": "stream",
     "text": [
      "Problem_162_source_855 logical error rate : 0.14 \n",
      " 172/200\n"
     ]
    },
    {
     "name": "stderr",
     "output_type": "stream",
     "text": [
      " 43%|████▎     | 369/861 [31:56<38:27,  4.69s/it]"
     ]
    },
    {
     "name": "stdout",
     "output_type": "stream",
     "text": [
      "Problem_163_source_754 logical error rate : 1.0 \n",
      " 0/200\n"
     ]
    },
    {
     "name": "stderr",
     "output_type": "stream",
     "text": [
      " 43%|████▎     | 370/861 [32:16<1:14:55,  9.15s/it]"
     ]
    },
    {
     "name": "stdout",
     "output_type": "stream",
     "text": [
      "Problem_163_source_755 logical error rate : 0.72 \n",
      " 56/200\n"
     ]
    },
    {
     "name": "stderr",
     "output_type": "stream",
     "text": [
      " 43%|████▎     | 371/861 [32:24<1:10:35,  8.64s/it]"
     ]
    },
    {
     "name": "stdout",
     "output_type": "stream",
     "text": [
      "Problem_163_source_756 logical error rate : 0.43000000000000005 \n",
      " 114/200\n"
     ]
    },
    {
     "name": "stderr",
     "output_type": "stream",
     "text": [
      " 43%|████▎     | 372/861 [32:31<1:06:54,  8.21s/it]"
     ]
    },
    {
     "name": "stdout",
     "output_type": "stream",
     "text": [
      "Problem_163_source_856 logical error rate : 1.0 \n",
      " 0/200\n"
     ]
    },
    {
     "name": "stderr",
     "output_type": "stream",
     "text": [
      " 43%|████▎     | 373/861 [32:51<1:35:35, 11.75s/it]"
     ]
    },
    {
     "name": "stdout",
     "output_type": "stream",
     "text": [
      "Problem_163_source_857 logical error rate : 0.72 \n",
      " 56/200\n"
     ]
    },
    {
     "name": "stderr",
     "output_type": "stream",
     "text": [
      " 43%|████▎     | 374/861 [32:58<1:24:55, 10.46s/it]"
     ]
    },
    {
     "name": "stdout",
     "output_type": "stream",
     "text": [
      "Problem_163_source_858 logical error rate : 0.43000000000000005 \n",
      " 114/200\n"
     ]
    },
    {
     "name": "stderr",
     "output_type": "stream",
     "text": [
      " 44%|████▎     | 375/861 [33:02<1:08:56,  8.51s/it]"
     ]
    },
    {
     "name": "stdout",
     "output_type": "stream",
     "text": [
      "Problem_164_source_757 logical error rate : 0.050561797752809 \n",
      " 169/178\n"
     ]
    },
    {
     "name": "stderr",
     "output_type": "stream",
     "text": [
      " 44%|████▎     | 376/861 [33:06<57:38,  7.13s/it]  "
     ]
    },
    {
     "name": "stdout",
     "output_type": "stream",
     "text": [
      "Problem_164_source_758 logical error rate : 0.1853932584269663 \n",
      " 145/178\n"
     ]
    },
    {
     "name": "stderr",
     "output_type": "stream",
     "text": [
      " 44%|████▍     | 377/861 [33:10<49:49,  6.18s/it]"
     ]
    },
    {
     "name": "stdout",
     "output_type": "stream",
     "text": [
      "Problem_164_source_759 logical error rate : 0.0 \n",
      " 178/178\n"
     ]
    },
    {
     "name": "stderr",
     "output_type": "stream",
     "text": [
      " 44%|████▍     | 378/861 [33:14<44:26,  5.52s/it]"
     ]
    },
    {
     "name": "stdout",
     "output_type": "stream",
     "text": [
      "Problem_164_source_859 logical error rate : 0.050561797752809 \n",
      " 169/178\n"
     ]
    },
    {
     "name": "stderr",
     "output_type": "stream",
     "text": [
      " 44%|████▍     | 379/861 [33:18<39:53,  4.96s/it]"
     ]
    },
    {
     "name": "stdout",
     "output_type": "stream",
     "text": [
      "Problem_164_source_860 logical error rate : 0.1853932584269663 \n",
      " 145/178\n"
     ]
    },
    {
     "name": "stderr",
     "output_type": "stream",
     "text": [
      " 44%|████▍     | 380/861 [33:22<37:15,  4.65s/it]"
     ]
    },
    {
     "name": "stdout",
     "output_type": "stream",
     "text": [
      "Problem_16_source_63 logical error rate : 1.0 \n",
      " 0/200\n"
     ]
    },
    {
     "name": "stderr",
     "output_type": "stream",
     "text": [
      " 44%|████▍     | 381/861 [33:26<36:15,  4.53s/it]"
     ]
    },
    {
     "name": "stdout",
     "output_type": "stream",
     "text": [
      "Problem_16_source_64 logical error rate : 1.0 \n",
      " 0/200\n"
     ]
    },
    {
     "name": "stderr",
     "output_type": "stream",
     "text": [
      " 44%|████▍     | 382/861 [33:30<35:35,  4.46s/it]"
     ]
    },
    {
     "name": "stdout",
     "output_type": "stream",
     "text": [
      "Problem_16_source_65 logical error rate : 1.0 \n",
      " 0/200\n"
     ]
    },
    {
     "name": "stderr",
     "output_type": "stream",
     "text": [
      " 44%|████▍     | 383/861 [33:35<36:30,  4.58s/it]"
     ]
    },
    {
     "name": "stdout",
     "output_type": "stream",
     "text": [
      "Problem_16_source_66 logical error rate : 1.0 \n",
      " 0/200\n"
     ]
    },
    {
     "name": "stderr",
     "output_type": "stream",
     "text": [
      " 45%|████▍     | 384/861 [33:40<36:24,  4.58s/it]"
     ]
    },
    {
     "name": "stdout",
     "output_type": "stream",
     "text": [
      "Problem_17_source_67 logical error rate : 0.0 \n",
      " 200/200\n"
     ]
    },
    {
     "name": "stderr",
     "output_type": "stream",
     "text": [
      " 45%|████▍     | 385/861 [33:44<35:52,  4.52s/it]"
     ]
    },
    {
     "name": "stdout",
     "output_type": "stream",
     "text": [
      "Problem_17_source_68 logical error rate : 0.0 \n",
      " 200/200\n"
     ]
    },
    {
     "name": "stderr",
     "output_type": "stream",
     "text": [
      " 45%|████▍     | 386/861 [33:48<35:32,  4.49s/it]"
     ]
    },
    {
     "name": "stdout",
     "output_type": "stream",
     "text": [
      "Problem_17_source_69 logical error rate : 0.0 \n",
      " 200/200\n"
     ]
    },
    {
     "name": "stderr",
     "output_type": "stream",
     "text": [
      " 45%|████▍     | 387/861 [33:53<35:40,  4.52s/it]"
     ]
    },
    {
     "name": "stdout",
     "output_type": "stream",
     "text": [
      "Problem_17_source_70 logical error rate : 0.675 \n",
      " 65/200\n"
     ]
    },
    {
     "name": "stderr",
     "output_type": "stream",
     "text": [
      " 45%|████▌     | 388/861 [34:00<40:43,  5.17s/it]"
     ]
    },
    {
     "name": "stdout",
     "output_type": "stream",
     "text": [
      "Problem_17_source_71 logical error rate : 0.015000000000000013 \n",
      " 197/200\n"
     ]
    },
    {
     "name": "stderr",
     "output_type": "stream",
     "text": [
      " 45%|████▌     | 389/861 [34:05<40:32,  5.15s/it]"
     ]
    },
    {
     "name": "stdout",
     "output_type": "stream",
     "text": [
      "Problem_17_source_72 logical error rate : 0.375 \n",
      " 125/200\n"
     ]
    },
    {
     "name": "stderr",
     "output_type": "stream",
     "text": [
      " 45%|████▌     | 390/861 [34:09<37:43,  4.81s/it]"
     ]
    },
    {
     "name": "stdout",
     "output_type": "stream",
     "text": [
      "Problem_17_source_73 logical error rate : 0.0 \n",
      " 200/200\n"
     ]
    },
    {
     "name": "stderr",
     "output_type": "stream",
     "text": [
      " 45%|████▌     | 391/861 [34:13<35:32,  4.54s/it]"
     ]
    },
    {
     "name": "stdout",
     "output_type": "stream",
     "text": [
      "Problem_17_source_74 logical error rate : 0.795 \n",
      " 41/200\n"
     ]
    },
    {
     "name": "stderr",
     "output_type": "stream",
     "text": [
      " 46%|████▌     | 392/861 [34:16<33:48,  4.33s/it]"
     ]
    },
    {
     "name": "stdout",
     "output_type": "stream",
     "text": [
      "Problem_17_source_75 logical error rate : 0.0 \n",
      " 200/200\n"
     ]
    },
    {
     "name": "stderr",
     "output_type": "stream",
     "text": [
      " 46%|████▌     | 393/861 [34:21<33:38,  4.31s/it]"
     ]
    },
    {
     "name": "stdout",
     "output_type": "stream",
     "text": [
      "Problem_17_source_76 logical error rate : 0.20499999999999996 \n",
      " 159/200\n"
     ]
    },
    {
     "name": "stderr",
     "output_type": "stream",
     "text": [
      " 46%|████▌     | 394/861 [34:25<34:03,  4.38s/it]"
     ]
    },
    {
     "name": "stdout",
     "output_type": "stream",
     "text": [
      "Problem_18_source_77 logical error rate : 0.030000000000000027 \n",
      " 194/200\n"
     ]
    },
    {
     "name": "stderr",
     "output_type": "stream",
     "text": [
      " 46%|████▌     | 395/861 [34:30<33:59,  4.38s/it]"
     ]
    },
    {
     "name": "stdout",
     "output_type": "stream",
     "text": [
      "Problem_18_source_78 logical error rate : 0.17000000000000004 \n",
      " 166/200\n"
     ]
    },
    {
     "name": "stderr",
     "output_type": "stream",
     "text": [
      " 46%|████▌     | 396/861 [34:34<34:42,  4.48s/it]"
     ]
    },
    {
     "name": "stdout",
     "output_type": "stream",
     "text": [
      "Problem_18_source_79 logical error rate : 0.0 \n",
      " 200/200\n"
     ]
    },
    {
     "name": "stderr",
     "output_type": "stream",
     "text": [
      " 46%|████▌     | 397/861 [34:39<34:08,  4.41s/it]"
     ]
    },
    {
     "name": "stdout",
     "output_type": "stream",
     "text": [
      "Problem_18_source_80 logical error rate : 0.39 \n",
      " 122/200\n"
     ]
    },
    {
     "name": "stderr",
     "output_type": "stream",
     "text": [
      " 46%|████▌     | 398/861 [34:44<35:06,  4.55s/it]"
     ]
    },
    {
     "name": "stdout",
     "output_type": "stream",
     "text": [
      "Problem_19_source_81 logical error rate : 0.79 \n",
      " 42/200\n"
     ]
    },
    {
     "name": "stderr",
     "output_type": "stream",
     "text": [
      " 46%|████▋     | 399/861 [34:48<34:20,  4.46s/it]"
     ]
    },
    {
     "name": "stdout",
     "output_type": "stream",
     "text": [
      "Problem_19_source_82 logical error rate : 0.18999999999999995 \n",
      " 162/200\n"
     ]
    },
    {
     "name": "stderr",
     "output_type": "stream",
     "text": [
      " 46%|████▋     | 400/861 [34:52<34:37,  4.51s/it]"
     ]
    },
    {
     "name": "stdout",
     "output_type": "stream",
     "text": [
      "Problem_19_source_83 logical error rate : 0.22499999999999998 \n",
      " 155/200\n"
     ]
    },
    {
     "name": "stderr",
     "output_type": "stream",
     "text": [
      " 47%|████▋     | 401/861 [34:56<32:38,  4.26s/it]"
     ]
    },
    {
     "name": "stdout",
     "output_type": "stream",
     "text": [
      "Problem_19_source_84 logical error rate : 0.22499999999999998 \n",
      " 155/200\n"
     ]
    },
    {
     "name": "stderr",
     "output_type": "stream",
     "text": [
      " 47%|████▋     | 402/861 [35:01<33:02,  4.32s/it]"
     ]
    },
    {
     "name": "stdout",
     "output_type": "stream",
     "text": [
      "Problem_19_source_85 logical error rate : 0.0 \n",
      " 200/200\n"
     ]
    },
    {
     "name": "stderr",
     "output_type": "stream",
     "text": [
      " 47%|████▋     | 403/861 [35:05<33:12,  4.35s/it]"
     ]
    },
    {
     "name": "stdout",
     "output_type": "stream",
     "text": [
      "Problem_19_source_86 logical error rate : 0.06000000000000005 \n",
      " 188/200\n"
     ]
    },
    {
     "name": "stderr",
     "output_type": "stream",
     "text": [
      " 47%|████▋     | 404/861 [35:09<32:15,  4.24s/it]"
     ]
    },
    {
     "name": "stdout",
     "output_type": "stream",
     "text": [
      "Problem_19_source_87 logical error rate : 0.0 \n",
      " 200/200\n"
     ]
    },
    {
     "name": "stderr",
     "output_type": "stream",
     "text": [
      " 47%|████▋     | 405/861 [35:13<31:43,  4.17s/it]"
     ]
    },
    {
     "name": "stdout",
     "output_type": "stream",
     "text": [
      "Problem_1_source_4 logical error rate : 0.030000000000000027 \n",
      " 194/200\n"
     ]
    },
    {
     "name": "stderr",
     "output_type": "stream",
     "text": [
      " 47%|████▋     | 406/861 [35:17<31:22,  4.14s/it]"
     ]
    },
    {
     "name": "stdout",
     "output_type": "stream",
     "text": [
      "Problem_1_source_5 logical error rate : 0.725 \n",
      " 55/200\n"
     ]
    },
    {
     "name": "stderr",
     "output_type": "stream",
     "text": [
      " 47%|████▋     | 407/861 [35:21<30:43,  4.06s/it]"
     ]
    },
    {
     "name": "stdout",
     "output_type": "stream",
     "text": [
      "Problem_1_source_6 logical error rate : 0.43999999999999995 \n",
      " 112/200\n"
     ]
    },
    {
     "name": "stderr",
     "output_type": "stream",
     "text": [
      " 47%|████▋     | 408/861 [35:25<30:20,  4.02s/it]"
     ]
    },
    {
     "name": "stdout",
     "output_type": "stream",
     "text": [
      "Problem_1_source_7 logical error rate : 0.10999999999999999 \n",
      " 178/200\n"
     ]
    },
    {
     "name": "stderr",
     "output_type": "stream",
     "text": [
      " 48%|████▊     | 409/861 [35:29<31:39,  4.20s/it]"
     ]
    },
    {
     "name": "stdout",
     "output_type": "stream",
     "text": [
      "Problem_1_source_8 logical error rate : 0.09999999999999998 \n",
      " 180/200\n"
     ]
    },
    {
     "name": "stderr",
     "output_type": "stream",
     "text": [
      " 48%|████▊     | 410/861 [35:33<30:29,  4.06s/it]"
     ]
    },
    {
     "name": "stdout",
     "output_type": "stream",
     "text": [
      "Problem_20_source_88 logical error rate : 0.0 \n",
      " 200/200\n"
     ]
    },
    {
     "name": "stderr",
     "output_type": "stream",
     "text": [
      " 48%|████▊     | 411/861 [35:37<29:08,  3.89s/it]"
     ]
    },
    {
     "name": "stdout",
     "output_type": "stream",
     "text": [
      "Problem_20_source_89 logical error rate : 0.74 \n",
      " 52/200\n"
     ]
    },
    {
     "name": "stderr",
     "output_type": "stream",
     "text": [
      " 48%|████▊     | 412/861 [35:40<28:46,  3.85s/it]"
     ]
    },
    {
     "name": "stdout",
     "output_type": "stream",
     "text": [
      "Problem_20_source_90 logical error rate : 0.0 \n",
      " 200/200\n"
     ]
    },
    {
     "name": "stderr",
     "output_type": "stream",
     "text": [
      " 48%|████▊     | 413/861 [35:44<28:47,  3.86s/it]"
     ]
    },
    {
     "name": "stdout",
     "output_type": "stream",
     "text": [
      "Problem_20_source_91 logical error rate : 0.0 \n",
      " 200/200\n"
     ]
    },
    {
     "name": "stderr",
     "output_type": "stream",
     "text": [
      " 48%|████▊     | 414/861 [35:48<28:36,  3.84s/it]"
     ]
    },
    {
     "name": "stdout",
     "output_type": "stream",
     "text": [
      "Problem_20_source_92 logical error rate : 0.0 \n",
      " 200/200\n"
     ]
    },
    {
     "name": "stderr",
     "output_type": "stream",
     "text": [
      " 48%|████▊     | 415/861 [36:07<1:01:45,  8.31s/it]"
     ]
    },
    {
     "name": "stdout",
     "output_type": "stream",
     "text": [
      "Problem_21_source_100 logical error rate : 0.4 \n",
      " 120/200\n"
     ]
    },
    {
     "name": "stderr",
     "output_type": "stream",
     "text": [
      " 48%|████▊     | 416/861 [37:01<2:44:49, 22.22s/it]"
     ]
    },
    {
     "name": "stdout",
     "output_type": "stream",
     "text": [
      "Problem_21_source_93 logical error rate : 0.0050000000000000044 \n",
      " 199/200\n"
     ]
    },
    {
     "name": "stderr",
     "output_type": "stream",
     "text": [
      " 48%|████▊     | 417/861 [37:31<2:59:59, 24.32s/it]"
     ]
    },
    {
     "name": "stdout",
     "output_type": "stream",
     "text": [
      "Problem_21_source_94 logical error rate : 0.7150000000000001 \n",
      " 57/200\n"
     ]
    },
    {
     "name": "stderr",
     "output_type": "stream",
     "text": [
      " 49%|████▊     | 418/861 [38:04<3:20:23, 27.14s/it]"
     ]
    },
    {
     "name": "stdout",
     "output_type": "stream",
     "text": [
      "Problem_21_source_95 logical error rate : 0.72 \n",
      " 56/200\n"
     ]
    },
    {
     "name": "stderr",
     "output_type": "stream",
     "text": [
      " 49%|████▊     | 419/861 [38:18<2:49:11, 22.97s/it]"
     ]
    },
    {
     "name": "stdout",
     "output_type": "stream",
     "text": [
      "Problem_21_source_96 logical error rate : 0.8200000000000001 \n",
      " 36/200\n"
     ]
    },
    {
     "name": "stderr",
     "output_type": "stream",
     "text": [
      " 49%|████▉     | 420/861 [39:39<4:57:16, 40.45s/it]"
     ]
    },
    {
     "name": "stdout",
     "output_type": "stream",
     "text": [
      "Problem_21_source_97 logical error rate : 0.0050000000000000044 \n",
      " 199/200\n"
     ]
    },
    {
     "name": "stderr",
     "output_type": "stream",
     "text": [
      " 49%|████▉     | 421/861 [40:11<4:38:20, 37.96s/it]"
     ]
    },
    {
     "name": "stdout",
     "output_type": "stream",
     "text": [
      "Problem_21_source_98 logical error rate : 0.645 \n",
      " 71/200\n"
     ]
    },
    {
     "name": "stderr",
     "output_type": "stream",
     "text": [
      " 49%|████▉     | 422/861 [40:26<3:47:35, 31.11s/it]"
     ]
    },
    {
     "name": "stdout",
     "output_type": "stream",
     "text": [
      "Problem_21_source_99 logical error rate : 0.785 \n",
      " 43/200\n"
     ]
    },
    {
     "name": "stderr",
     "output_type": "stream",
     "text": [
      " 49%|████▉     | 423/861 [40:31<2:49:47, 23.26s/it]"
     ]
    },
    {
     "name": "stdout",
     "output_type": "stream",
     "text": [
      "Problem_22_source_101 logical error rate : 0.0 \n",
      " 200/200\n"
     ]
    },
    {
     "name": "stderr",
     "output_type": "stream",
     "text": [
      " 49%|████▉     | 424/861 [40:35<2:06:54, 17.42s/it]"
     ]
    },
    {
     "name": "stdout",
     "output_type": "stream",
     "text": [
      "Problem_22_source_102 logical error rate : 0.15500000000000003 \n",
      " 169/200\n"
     ]
    },
    {
     "name": "stderr",
     "output_type": "stream",
     "text": [
      " 49%|████▉     | 425/861 [40:39<1:37:03, 13.36s/it]"
     ]
    },
    {
     "name": "stdout",
     "output_type": "stream",
     "text": [
      "Problem_22_source_103 logical error rate : 0.0 \n",
      " 200/200\n"
     ]
    },
    {
     "name": "stderr",
     "output_type": "stream",
     "text": [
      " 49%|████▉     | 426/861 [40:42<1:15:37, 10.43s/it]"
     ]
    },
    {
     "name": "stdout",
     "output_type": "stream",
     "text": [
      "Problem_22_source_104 logical error rate : 0.0 \n",
      " 200/200\n"
     ]
    },
    {
     "name": "stderr",
     "output_type": "stream",
     "text": [
      " 50%|████▉     | 427/861 [40:46<1:00:37,  8.38s/it]"
     ]
    },
    {
     "name": "stdout",
     "output_type": "stream",
     "text": [
      "Problem_22_source_105 logical error rate : 0.0 \n",
      " 200/200\n"
     ]
    },
    {
     "name": "stderr",
     "output_type": "stream",
     "text": [
      " 50%|████▉     | 428/861 [40:50<50:08,  6.95s/it]  "
     ]
    },
    {
     "name": "stdout",
     "output_type": "stream",
     "text": [
      "Problem_22_source_106 logical error rate : 0.0 \n",
      " 200/200\n"
     ]
    },
    {
     "name": "stderr",
     "output_type": "stream",
     "text": [
      " 50%|████▉     | 429/861 [40:53<42:59,  5.97s/it]"
     ]
    },
    {
     "name": "stdout",
     "output_type": "stream",
     "text": [
      "Problem_22_source_107 logical error rate : 0.0 \n",
      " 200/200\n"
     ]
    },
    {
     "name": "stderr",
     "output_type": "stream",
     "text": [
      " 50%|████▉     | 430/861 [41:11<1:08:34,  9.55s/it]"
     ]
    },
    {
     "name": "stdout",
     "output_type": "stream",
     "text": [
      "Problem_23_source_108 logical error rate : 0.16500000000000004 \n",
      " 167/200\n"
     ]
    },
    {
     "name": "stderr",
     "output_type": "stream",
     "text": [
      " 50%|█████     | 431/861 [41:29<1:25:58, 12.00s/it]"
     ]
    },
    {
     "name": "stdout",
     "output_type": "stream",
     "text": [
      "Problem_23_source_109 logical error rate : 0.16000000000000003 \n",
      " 168/200\n"
     ]
    },
    {
     "name": "stderr",
     "output_type": "stream",
     "text": [
      " 50%|█████     | 432/861 [41:47<1:39:26, 13.91s/it]"
     ]
    },
    {
     "name": "stdout",
     "output_type": "stream",
     "text": [
      "Problem_23_source_110 logical error rate : 0.31499999999999995 \n",
      " 137/200\n"
     ]
    },
    {
     "name": "stderr",
     "output_type": "stream",
     "text": [
      " 50%|█████     | 433/861 [41:51<1:17:48, 10.91s/it]"
     ]
    },
    {
     "name": "stdout",
     "output_type": "stream",
     "text": [
      "Problem_23_source_111 logical error rate : 0.06499999999999995 \n",
      " 187/200\n"
     ]
    },
    {
     "name": "stderr",
     "output_type": "stream",
     "text": [
      " 50%|█████     | 434/861 [41:56<1:03:51,  8.97s/it]"
     ]
    },
    {
     "name": "stdout",
     "output_type": "stream",
     "text": [
      "Problem_23_source_112 logical error rate : 0.08999999999999997 \n",
      " 182/200\n"
     ]
    },
    {
     "name": "stderr",
     "output_type": "stream",
     "text": [
      " 51%|█████     | 435/861 [42:00<53:14,  7.50s/it]  "
     ]
    },
    {
     "name": "stdout",
     "output_type": "stream",
     "text": [
      "Problem_23_source_113 logical error rate : 0.15500000000000003 \n",
      " 169/200\n"
     ]
    },
    {
     "name": "stderr",
     "output_type": "stream",
     "text": [
      " 51%|█████     | 436/861 [42:04<46:06,  6.51s/it]"
     ]
    },
    {
     "name": "stdout",
     "output_type": "stream",
     "text": [
      "Problem_23_source_114 logical error rate : 0.16500000000000004 \n",
      " 167/200\n"
     ]
    },
    {
     "name": "stderr",
     "output_type": "stream",
     "text": [
      " 51%|█████     | 437/861 [42:08<40:24,  5.72s/it]"
     ]
    },
    {
     "name": "stdout",
     "output_type": "stream",
     "text": [
      "Problem_23_source_115 logical error rate : 0.16500000000000004 \n",
      " 167/200\n"
     ]
    },
    {
     "name": "stderr",
     "output_type": "stream",
     "text": [
      " 51%|█████     | 438/861 [42:26<1:07:05,  9.52s/it]"
     ]
    },
    {
     "name": "stdout",
     "output_type": "stream",
     "text": [
      "Problem_23_source_116 logical error rate : 0.31499999999999995 \n",
      " 137/200\n"
     ]
    },
    {
     "name": "stderr",
     "output_type": "stream",
     "text": [
      " 51%|█████     | 439/861 [42:30<55:55,  7.95s/it]  "
     ]
    },
    {
     "name": "stdout",
     "output_type": "stream",
     "text": [
      "Problem_26_source_117 logical error rate : 0.0 \n",
      " 200/200\n"
     ]
    },
    {
     "name": "stderr",
     "output_type": "stream",
     "text": [
      " 51%|█████     | 440/861 [42:35<48:03,  6.85s/it]"
     ]
    },
    {
     "name": "stdout",
     "output_type": "stream",
     "text": [
      "Problem_26_source_118 logical error rate : 1.0 \n",
      " 0/200\n"
     ]
    },
    {
     "name": "stderr",
     "output_type": "stream",
     "text": [
      " 51%|█████     | 441/861 [42:39<42:13,  6.03s/it]"
     ]
    },
    {
     "name": "stdout",
     "output_type": "stream",
     "text": [
      "Problem_26_source_119 logical error rate : 0.745 \n",
      " 51/200\n"
     ]
    },
    {
     "name": "stderr",
     "output_type": "stream",
     "text": [
      " 51%|█████▏    | 442/861 [42:43<37:56,  5.43s/it]"
     ]
    },
    {
     "name": "stdout",
     "output_type": "stream",
     "text": [
      "Problem_26_source_120 logical error rate : 0.5549999999999999 \n",
      " 89/200\n"
     ]
    },
    {
     "name": "stderr",
     "output_type": "stream",
     "text": [
      " 51%|█████▏    | 443/861 [42:47<34:51,  5.00s/it]"
     ]
    },
    {
     "name": "stdout",
     "output_type": "stream",
     "text": [
      "Problem_26_source_121 logical error rate : 0.5549999999999999 \n",
      " 89/200\n"
     ]
    },
    {
     "name": "stderr",
     "output_type": "stream",
     "text": [
      " 52%|█████▏    | 444/861 [42:51<32:12,  4.63s/it]"
     ]
    },
    {
     "name": "stdout",
     "output_type": "stream",
     "text": [
      "Problem_27_source_122 logical error rate : 0.15000000000000002 \n",
      " 170/200\n"
     ]
    },
    {
     "name": "stderr",
     "output_type": "stream",
     "text": [
      " 52%|█████▏    | 445/861 [42:55<30:31,  4.40s/it]"
     ]
    },
    {
     "name": "stdout",
     "output_type": "stream",
     "text": [
      "Problem_27_source_123 logical error rate : 1.0 \n",
      " 0/200\n"
     ]
    },
    {
     "name": "stderr",
     "output_type": "stream",
     "text": [
      " 52%|█████▏    | 446/861 [42:58<29:07,  4.21s/it]"
     ]
    },
    {
     "name": "stdout",
     "output_type": "stream",
     "text": [
      "Problem_27_source_124 logical error rate : 0.28500000000000003 \n",
      " 143/200\n"
     ]
    },
    {
     "name": "stderr",
     "output_type": "stream",
     "text": [
      " 52%|█████▏    | 447/861 [43:02<27:41,  4.01s/it]"
     ]
    },
    {
     "name": "stdout",
     "output_type": "stream",
     "text": [
      "Problem_27_source_125 logical error rate : 0.040000000000000036 \n",
      " 192/200\n"
     ]
    },
    {
     "name": "stderr",
     "output_type": "stream",
     "text": [
      " 52%|█████▏    | 448/861 [43:06<27:06,  3.94s/it]"
     ]
    },
    {
     "name": "stdout",
     "output_type": "stream",
     "text": [
      "Problem_27_source_126 logical error rate : 0.245 \n",
      " 151/200\n"
     ]
    },
    {
     "name": "stderr",
     "output_type": "stream",
     "text": [
      " 52%|█████▏    | 449/861 [43:09<26:47,  3.90s/it]"
     ]
    },
    {
     "name": "stdout",
     "output_type": "stream",
     "text": [
      "Problem_27_source_127 logical error rate : 0.12 \n",
      " 176/200\n"
     ]
    },
    {
     "name": "stderr",
     "output_type": "stream",
     "text": [
      " 52%|█████▏    | 450/861 [43:13<26:38,  3.89s/it]"
     ]
    },
    {
     "name": "stdout",
     "output_type": "stream",
     "text": [
      "Problem_27_source_128 logical error rate : 0.0 \n",
      " 200/200\n"
     ]
    },
    {
     "name": "stderr",
     "output_type": "stream",
     "text": [
      " 52%|█████▏    | 451/861 [43:17<26:38,  3.90s/it]"
     ]
    },
    {
     "name": "stdout",
     "output_type": "stream",
     "text": [
      "Problem_27_source_129 logical error rate : 0.15000000000000002 \n",
      " 170/200\n"
     ]
    },
    {
     "name": "stderr",
     "output_type": "stream",
     "text": [
      " 52%|█████▏    | 452/861 [43:20<25:22,  3.72s/it]"
     ]
    },
    {
     "name": "stdout",
     "output_type": "stream",
     "text": [
      "Problem_27_source_130 logical error rate : 1.0 \n",
      " 0/200\n"
     ]
    },
    {
     "name": "stderr",
     "output_type": "stream",
     "text": [
      " 53%|█████▎    | 453/861 [43:24<24:48,  3.65s/it]"
     ]
    },
    {
     "name": "stdout",
     "output_type": "stream",
     "text": [
      "Problem_28_source_131 logical error rate : 1.0 \n",
      " 0/200\n"
     ]
    },
    {
     "name": "stderr",
     "output_type": "stream",
     "text": [
      " 53%|█████▎    | 454/861 [43:28<24:54,  3.67s/it]"
     ]
    },
    {
     "name": "stdout",
     "output_type": "stream",
     "text": [
      "Problem_28_source_132 logical error rate : 0.6799999999999999 \n",
      " 64/200\n"
     ]
    },
    {
     "name": "stderr",
     "output_type": "stream",
     "text": [
      " 53%|█████▎    | 455/861 [43:32<25:08,  3.71s/it]"
     ]
    },
    {
     "name": "stdout",
     "output_type": "stream",
     "text": [
      "Problem_29_source_133 logical error rate : 0.0 \n",
      " 200/200\n"
     ]
    },
    {
     "name": "stderr",
     "output_type": "stream",
     "text": [
      " 53%|█████▎    | 456/861 [43:36<25:39,  3.80s/it]"
     ]
    },
    {
     "name": "stdout",
     "output_type": "stream",
     "text": [
      "Problem_30_source_134 logical error rate : 0.0 \n",
      " 200/200\n"
     ]
    },
    {
     "name": "stderr",
     "output_type": "stream",
     "text": [
      " 53%|█████▎    | 457/861 [43:39<25:51,  3.84s/it]"
     ]
    },
    {
     "name": "stdout",
     "output_type": "stream",
     "text": [
      "Problem_30_source_135 logical error rate : 0.635 \n",
      " 73/200\n"
     ]
    },
    {
     "name": "stderr",
     "output_type": "stream",
     "text": [
      " 53%|█████▎    | 458/861 [43:43<25:45,  3.83s/it]"
     ]
    },
    {
     "name": "stdout",
     "output_type": "stream",
     "text": [
      "Problem_30_source_136 logical error rate : 0.585 \n",
      " 83/200\n"
     ]
    },
    {
     "name": "stderr",
     "output_type": "stream",
     "text": [
      " 53%|█████▎    | 459/861 [43:47<24:45,  3.70s/it]"
     ]
    },
    {
     "name": "stdout",
     "output_type": "stream",
     "text": [
      "Problem_30_source_137 logical error rate : 0.615 \n",
      " 77/200\n"
     ]
    },
    {
     "name": "stderr",
     "output_type": "stream",
     "text": [
      " 53%|█████▎    | 460/861 [43:50<25:00,  3.74s/it]"
     ]
    },
    {
     "name": "stdout",
     "output_type": "stream",
     "text": [
      "Problem_30_source_138 logical error rate : 0.6599999999999999 \n",
      " 68/200\n"
     ]
    },
    {
     "name": "stderr",
     "output_type": "stream",
     "text": [
      " 54%|█████▎    | 461/861 [43:54<24:42,  3.71s/it]"
     ]
    },
    {
     "name": "stdout",
     "output_type": "stream",
     "text": [
      "Problem_30_source_139 logical error rate : 0.53 \n",
      " 94/200\n"
     ]
    },
    {
     "name": "stderr",
     "output_type": "stream",
     "text": [
      " 54%|█████▎    | 462/861 [43:58<24:48,  3.73s/it]"
     ]
    },
    {
     "name": "stdout",
     "output_type": "stream",
     "text": [
      "Problem_31_source_140 logical error rate : 1.0 \n",
      " 0/200\n"
     ]
    },
    {
     "name": "stderr",
     "output_type": "stream",
     "text": [
      " 54%|█████▍    | 463/861 [44:02<24:57,  3.76s/it]"
     ]
    },
    {
     "name": "stdout",
     "output_type": "stream",
     "text": [
      "Problem_31_source_141 logical error rate : 1.0 \n",
      " 0/200\n"
     ]
    },
    {
     "name": "stderr",
     "output_type": "stream",
     "text": [
      " 54%|█████▍    | 464/861 [44:06<25:08,  3.80s/it]"
     ]
    },
    {
     "name": "stdout",
     "output_type": "stream",
     "text": [
      "Problem_31_source_142 logical error rate : 1.0 \n",
      " 0/200\n"
     ]
    },
    {
     "name": "stderr",
     "output_type": "stream",
     "text": [
      " 54%|█████▍    | 465/861 [44:09<25:08,  3.81s/it]"
     ]
    },
    {
     "name": "stdout",
     "output_type": "stream",
     "text": [
      "Problem_31_source_143 logical error rate : 0.585 \n",
      " 83/200\n"
     ]
    },
    {
     "name": "stderr",
     "output_type": "stream",
     "text": [
      " 54%|█████▍    | 466/861 [44:13<25:06,  3.81s/it]"
     ]
    },
    {
     "name": "stdout",
     "output_type": "stream",
     "text": [
      "Problem_31_source_144 logical error rate : 0.0 \n",
      " 200/200\n"
     ]
    },
    {
     "name": "stderr",
     "output_type": "stream",
     "text": [
      " 54%|█████▍    | 467/861 [44:17<25:12,  3.84s/it]"
     ]
    },
    {
     "name": "stdout",
     "output_type": "stream",
     "text": [
      "Problem_31_source_145 logical error rate : 0.0 \n",
      " 200/200\n"
     ]
    },
    {
     "name": "stderr",
     "output_type": "stream",
     "text": [
      " 54%|█████▍    | 468/861 [44:21<25:19,  3.87s/it]"
     ]
    },
    {
     "name": "stdout",
     "output_type": "stream",
     "text": [
      "Problem_32_source_146 logical error rate : 0.16000000000000003 \n",
      " 168/200\n"
     ]
    },
    {
     "name": "stderr",
     "output_type": "stream",
     "text": [
      " 54%|█████▍    | 469/861 [44:25<25:34,  3.91s/it]"
     ]
    },
    {
     "name": "stdout",
     "output_type": "stream",
     "text": [
      "Problem_33_source_184 logical error rate : 0.675 \n",
      " 65/200\n"
     ]
    },
    {
     "name": "stderr",
     "output_type": "stream",
     "text": [
      " 55%|█████▍    | 470/861 [44:30<27:39,  4.25s/it]"
     ]
    },
    {
     "name": "stdout",
     "output_type": "stream",
     "text": [
      "Problem_33_source_185 logical error rate : 0.18000000000000005 \n",
      " 164/200\n"
     ]
    },
    {
     "name": "stderr",
     "output_type": "stream",
     "text": [
      " 55%|█████▍    | 471/861 [44:34<27:01,  4.16s/it]"
     ]
    },
    {
     "name": "stdout",
     "output_type": "stream",
     "text": [
      "Problem_33_source_186 logical error rate : 0.18000000000000005 \n",
      " 164/200\n"
     ]
    },
    {
     "name": "stderr",
     "output_type": "stream",
     "text": [
      " 55%|█████▍    | 472/861 [44:38<27:07,  4.18s/it]"
     ]
    },
    {
     "name": "stdout",
     "output_type": "stream",
     "text": [
      "Problem_33_source_187 logical error rate : 0.18000000000000005 \n",
      " 164/200\n"
     ]
    },
    {
     "name": "stderr",
     "output_type": "stream",
     "text": [
      " 55%|█████▍    | 473/861 [45:46<2:30:28, 23.27s/it]"
     ]
    },
    {
     "name": "stdout",
     "output_type": "stream",
     "text": [
      "Problem_34_source_188 logical error rate : 0.0 \n",
      " 200/200\n"
     ]
    },
    {
     "name": "stderr",
     "output_type": "stream",
     "text": [
      " 55%|█████▌    | 474/861 [48:38<7:18:28, 67.98s/it]"
     ]
    },
    {
     "name": "stdout",
     "output_type": "stream",
     "text": [
      "Problem_34_source_189 logical error rate : 0.20499999999999996 \n",
      " 159/200\n"
     ]
    },
    {
     "name": "stderr",
     "output_type": "stream",
     "text": [
      " 55%|█████▌    | 475/861 [48:55<5:38:39, 52.64s/it]"
     ]
    },
    {
     "name": "stdout",
     "output_type": "stream",
     "text": [
      "Problem_34_source_190 logical error rate : 0.030000000000000027 \n",
      " 194/200\n"
     ]
    },
    {
     "name": "stderr",
     "output_type": "stream",
     "text": [
      " 55%|█████▌    | 476/861 [49:48<5:38:15, 52.72s/it]"
     ]
    },
    {
     "name": "stdout",
     "output_type": "stream",
     "text": [
      "Problem_34_source_191 logical error rate : 0.0 \n",
      " 200/200\n"
     ]
    },
    {
     "name": "stderr",
     "output_type": "stream",
     "text": [
      " 55%|█████▌    | 477/861 [50:51<5:56:25, 55.69s/it]"
     ]
    },
    {
     "name": "stdout",
     "output_type": "stream",
     "text": [
      "Problem_34_source_192 logical error rate : 0.36 \n",
      " 128/200\n"
     ]
    },
    {
     "name": "stderr",
     "output_type": "stream",
     "text": [
      " 56%|█████▌    | 478/861 [51:01<4:28:24, 42.05s/it]"
     ]
    },
    {
     "name": "stdout",
     "output_type": "stream",
     "text": [
      "Problem_35_source_193 logical error rate : 0.5449999999999999 \n",
      " 91/200\n"
     ]
    },
    {
     "name": "stderr",
     "output_type": "stream",
     "text": [
      " 56%|█████▌    | 479/861 [51:15<3:34:47, 33.74s/it]"
     ]
    },
    {
     "name": "stdout",
     "output_type": "stream",
     "text": [
      "Problem_35_source_194 logical error rate : 0.5549999999999999 \n",
      " 89/200\n"
     ]
    },
    {
     "name": "stderr",
     "output_type": "stream",
     "text": [
      " 56%|█████▌    | 480/861 [51:28<2:54:49, 27.53s/it]"
     ]
    },
    {
     "name": "stdout",
     "output_type": "stream",
     "text": [
      "Problem_35_source_195 logical error rate : 0.5549999999999999 \n",
      " 89/200\n"
     ]
    },
    {
     "name": "stderr",
     "output_type": "stream",
     "text": [
      " 56%|█████▌    | 481/861 [51:43<2:28:55, 23.51s/it]"
     ]
    },
    {
     "name": "stdout",
     "output_type": "stream",
     "text": [
      "Problem_35_source_196 logical error rate : 0.745 \n",
      " 51/200\n"
     ]
    },
    {
     "name": "stderr",
     "output_type": "stream",
     "text": [
      " 56%|█████▌    | 482/861 [51:57<2:10:26, 20.65s/it]"
     ]
    },
    {
     "name": "stdout",
     "output_type": "stream",
     "text": [
      "Problem_35_source_197 logical error rate : 0.5549999999999999 \n",
      " 89/200\n"
     ]
    },
    {
     "name": "stderr",
     "output_type": "stream",
     "text": [
      " 56%|█████▌    | 483/861 [52:01<1:38:58, 15.71s/it]"
     ]
    },
    {
     "name": "stdout",
     "output_type": "stream",
     "text": [
      "Problem_36_source_198 logical error rate : 0.33499999999999996 \n",
      " 133/200\n"
     ]
    },
    {
     "name": "stderr",
     "output_type": "stream",
     "text": [
      " 56%|█████▌    | 484/861 [52:05<1:17:23, 12.32s/it]"
     ]
    },
    {
     "name": "stdout",
     "output_type": "stream",
     "text": [
      "Problem_36_source_199 logical error rate : 0.32999999999999996 \n",
      " 134/200\n"
     ]
    },
    {
     "name": "stderr",
     "output_type": "stream",
     "text": [
      " 56%|█████▋    | 485/861 [52:12<1:07:06, 10.71s/it]"
     ]
    },
    {
     "name": "stdout",
     "output_type": "stream",
     "text": [
      "Problem_36_source_200 logical error rate : 0.54 \n",
      " 92/200\n"
     ]
    },
    {
     "name": "stderr",
     "output_type": "stream",
     "text": [
      " 56%|█████▋    | 486/861 [52:16<54:46,  8.76s/it]  "
     ]
    },
    {
     "name": "stdout",
     "output_type": "stream",
     "text": [
      "Problem_36_source_201 logical error rate : 0.63 \n",
      " 74/200\n"
     ]
    },
    {
     "name": "stderr",
     "output_type": "stream",
     "text": [
      " 57%|█████▋    | 487/861 [52:21<46:14,  7.42s/it]"
     ]
    },
    {
     "name": "stdout",
     "output_type": "stream",
     "text": [
      "Problem_36_source_202 logical error rate : 0.53 \n",
      " 94/200\n"
     ]
    },
    {
     "name": "stderr",
     "output_type": "stream",
     "text": [
      " 57%|█████▋    | 488/861 [52:25<40:05,  6.45s/it]"
     ]
    },
    {
     "name": "stdout",
     "output_type": "stream",
     "text": [
      "Problem_36_source_203 logical error rate : 0.53 \n",
      " 94/200\n"
     ]
    },
    {
     "name": "stderr",
     "output_type": "stream",
     "text": [
      " 57%|█████▋    | 489/861 [52:30<36:47,  5.93s/it]"
     ]
    },
    {
     "name": "stdout",
     "output_type": "stream",
     "text": [
      "Problem_37_source_204 logical error rate : 1.0 \n",
      " 0/200\n"
     ]
    }
   ],
   "source": [
    "import os\n",
    "import json\n",
    "from tqdm import tqdm\n",
    "\n",
    "path = './CodeT5_LineNumber_cpp_source/'\n",
    "file_list = os.listdir(path)\n",
    "compile_error = 0\n",
    "compile_error_name = []\n",
    "gold_logical_error_rate = {}\n",
    "test_case_error = []\n",
    "time_out_error = []\n",
    "for file in tqdm(file_list):\n",
    "    filepath = path + '/' + file\n",
    "    test_case_txt_number = file.split('Problem_')[1].split('_')[0]\n",
    "    test_cases_file_path = './cpp_test_case/' + test_case_txt_number + '.txt'\n",
    "    \n",
    "    compile_result = subprocess.run(['g++', '-o', f'./source_compile_folder/{file[:-4]}', filepath])\n",
    "    if compile_result.returncode != 0:\n",
    "        print(\"Compilation failed.\")\n",
    "        compile_error += 1\n",
    "        compile_error_name.append(f'{file[:-4]}')\n",
    "        continue\n",
    "        \n",
    "    with open(test_cases_file_path, 'r') as test_file:\n",
    "        test_cases = test_file.read().split(', ')  # 각 테스트 케이스 분리\n",
    "    \n",
    "    if len(test_cases) < 2:\n",
    "        print(f'Test Case Error - {test_case_txt_number}.txt')\n",
    "        test_case_error.append(test_case_txt_number)\n",
    "        continue\n",
    "        \n",
    "    input_data_list = []\n",
    "    expected_output_list = []\n",
    "\n",
    "    for index, test_case in enumerate(test_cases):\n",
    "        if not test_case.strip():\n",
    "            continue\n",
    "        input_part, output_part = test_case.split('\\noutput: ')\n",
    "        input_data = input_part.split('input: ')[1]\n",
    "        expected_output = output_part.strip()\n",
    "        input_data_list.append(input_data)\n",
    "        expected_output_list.append(expected_output)\n",
    "\n",
    "        if index == len(test_cases) - 1:\n",
    "            expected_output_list[index] = expected_output_list[index].split('\\n')[0]\n",
    "\n",
    "    modified_input_data_list = []\n",
    "    for data in input_data_list:\n",
    "        data = data.replace(\"\\\\n\", \"\\n\")\n",
    "        modified_input_data_list.append(data[1:-1].strip())\n",
    "\n",
    "    modified_output_data_list = []\n",
    "    for data in expected_output_list:\n",
    "        data = data.replace(\"\\\\n\", ' ')\n",
    "        data = data.replace('\\n', ' ')\n",
    "        data = data.replace(\"\\\"\", \"\")\n",
    "        data = data.strip()\n",
    "        data = data.split()\n",
    "        modified_output_data_list.append(data)\n",
    "\n",
    "    error_line_number = []\n",
    "    test_case_length = len(modified_output_data_list)\n",
    "    correct_test = len(modified_output_data_list)\n",
    "    for index, cpp_input in enumerate(modified_input_data_list):\n",
    "        timeout_seconds = 20\n",
    "        try:    \n",
    "            process = subprocess.run([f'./source_compile_folder/{file[:-4]}'], input = cpp_input, text=True, capture_output=True, timeout=timeout_seconds)\n",
    "            data_tmp = process.stdout.strip()\n",
    "            data_tmp = data_tmp.replace(\"\\n\", \" \")\n",
    "            data_tmp = data_tmp.strip().split()\n",
    "            actual_output = data_tmp\n",
    "\n",
    "            if len(actual_output) != len(modified_output_data_list[index]):\n",
    "                correct_test -= 1\n",
    "                error_line_number.append(index + 1)\n",
    "                continue\n",
    "            else:    \n",
    "                for output, gold in zip(actual_output, modified_output_data_list[index]):\n",
    "                    if (\".\" in output) & (\".\" in gold):\n",
    "                        output = round(float(output),2)\n",
    "                        gold = round(float(gold), 2)     \n",
    "\n",
    "                    if output != gold:\n",
    "                        correct_test -= 1\n",
    "                        error_line_number.append(index + 1)\n",
    "                        break\n",
    "                    else:\n",
    "                        continue\n",
    "\n",
    "        except subprocess.TimeoutExpired:\n",
    "            print('Time out error')\n",
    "            time_out_error.append(file[:-4])\n",
    "            break\n",
    "        except Exception as e:\n",
    "            print(f'Error {e}')\n",
    "\n",
    "    print(f'{file[:-4]} logical error rate : {1 - correct_test/test_case_length} \\n {correct_test}/{test_case_length}')\n",
    "    gold_logical_error_rate[file[:-4]] = [1 - correct_test/test_case_length] + error_line_number\n",
    "\n",
    "pretty_print = json.dumps(gold_logical_error_rate, indent=4)\n",
    "print(pretty_print)\n",
    "\n",
    "print(f'Compile Error rate {compile_error}')\n",
    "for error in compile_error_name:\n",
    "    print(error)\n",
    "\n",
    "print(f'time out error {time_out_error}')\n",
    "print(f'compile error {compile_error}')"
   ]
  },
  {
   "cell_type": "code",
   "execution_count": 14,
   "metadata": {},
   "outputs": [],
   "source": [
    "import json\n",
    "\n",
    "with open('output_logical_error_rate.json', 'w') as f:\n",
    "    json.dump(gold_logical_error_rate, f, indent=4)"
   ]
  },
  {
   "cell_type": "code",
   "execution_count": 15,
   "metadata": {},
   "outputs": [],
   "source": [
    "import pickle\n",
    "with open(\"output_timeout_error.pkl\", \"wb\") as f1:\n",
    "    pickle.dump(time_out_error, f1)"
   ]
  },
  {
   "cell_type": "code",
   "execution_count": 16,
   "metadata": {},
   "outputs": [],
   "source": [
    "with open(\"output_compile_error.pkl\", \"wb\") as f2:\n",
    "    pickle.dump(compile_error_name, f2)"
   ]
  },
  {
   "cell_type": "code",
   "execution_count": 23,
   "metadata": {},
   "outputs": [
    {
     "name": "stdout",
     "output_type": "stream",
     "text": [
      "['Problem_105_output_537', 'Problem_40_output_227', 'Problem_160_output_742', 'Problem_13_output_42', 'Problem_157_output_811', 'Problem_55_output_305', 'Problem_40_output_148', 'Problem_160_output_849', 'Problem_160_output_845', 'Problem_9_output_22', 'Problem_19_output_84', 'Problem_160_output_746']\n"
     ]
    }
   ],
   "source": [
    "with open(\"output_timeout_error.pkl\", \"rb\") as f3:\n",
    "    time_out_list = pickle.load(f3)\n",
    "\n",
    "print(time_out_list)"
   ]
  },
  {
   "cell_type": "code",
   "execution_count": 18,
   "metadata": {},
   "outputs": [
    {
     "name": "stdout",
     "output_type": "stream",
     "text": [
      "['Problem_135_output_643', 'Problem_104_output_536', 'Problem_20_output_89', 'Problem_75_output_390', 'Problem_55_output_302', 'Problem_142_output_686', 'Problem_19_output_81', 'Problem_67_output_367', 'Problem_88_output_470', 'Problem_120_output_604', 'Problem_61_output_265', 'Problem_107_output_558', 'Problem_117_output_596', 'Problem_160_output_736', 'Problem_92_output_479', 'Problem_72_output_375', 'Problem_109_output_564', 'Problem_114_output_583', 'Problem_1_output_7', 'Problem_78_output_417', 'Problem_62_output_271', 'Problem_0_output_3', 'Problem_7_output_20', 'Problem_54_output_300', 'Problem_98_output_501', 'Problem_144_output_695', 'Problem_153_output_789', 'Problem_29_output_133', 'Problem_56_output_307', 'Problem_7_output_19', 'Problem_0_output_2', 'Problem_136_output_651', 'Problem_31_output_144', 'Problem_78_output_411', 'Problem_128_output_619', 'Problem_76_output_399', 'Problem_136_output_646', 'Problem_62_output_347', 'Problem_37_output_204', 'Problem_17_output_68', 'Problem_82_output_431', 'Problem_17_output_69', 'Problem_130_output_623', 'Problem_106_output_546', 'Problem_105_output_541', 'Problem_160_output_839', 'Problem_99_output_521', 'Problem_142_output_685', 'Problem_98_output_422', 'Problem_133_output_636', 'Problem_153_output_788', 'Problem_113_output_570', 'Problem_133_output_637', 'Problem_132_output_629', 'Problem_72_output_376', 'Problem_61_output_341', 'Problem_21_output_95', 'Problem_156_output_801', 'Problem_19_output_86', 'Problem_136_output_656', 'Problem_31_output_145']\n",
      "61\n"
     ]
    }
   ],
   "source": [
    "with open(\"output_compile_error.pkl\", \"rb\") as f4:\n",
    "    error_list = pickle.load(f4)\n",
    "\n",
    "print(error_list)\n",
    "print(len(error_list))"
   ]
  },
  {
   "cell_type": "code",
   "execution_count": 20,
   "metadata": {},
   "outputs": [
    {
     "name": "stdout",
     "output_type": "stream",
     "text": [
      "{'Problem_79_output_358': [0.03500000000000003, 5, 13, 40, 103, 118, 154, 185], 'Problem_156_output_806': [0.0], 'Problem_158_output_726': [1.0, 1, 2, 3, 4, 5, 6, 7, 8, 9, 10, 11, 12, 13, 14, 15, 16, 17, 18, 19, 20, 21, 22, 23, 24, 25, 26, 27, 28, 29, 30, 31, 32, 33, 34, 35, 36, 37, 38, 39, 40, 41, 42, 43, 44, 45, 46, 47, 48, 49, 50, 51, 52, 53, 54, 55, 56, 57, 58, 59, 60, 61, 62, 63, 64, 65, 66, 67, 68, 69, 70, 71, 72, 73, 74, 75, 76, 77, 78, 79, 80, 81, 82, 83, 84, 85, 86, 87, 88, 89, 90, 91, 92, 93, 94, 95, 96, 97, 98, 99, 100, 101, 102, 103, 104, 105, 106, 107, 108, 109, 110, 111, 112, 113, 114, 115, 116, 117, 118, 119, 120, 121, 122, 123, 124, 125, 126, 127, 128, 129, 130, 131, 132, 133, 134, 135, 136, 137, 138, 139, 140, 141, 142, 143, 144, 145, 146, 147, 148, 149, 150, 151, 152, 153, 154, 155, 156, 157, 158, 159, 160, 161, 162, 163, 164, 165, 166, 167, 168, 169, 170, 171, 172, 173, 174, 175, 176, 177, 178, 179, 180, 181, 182, 183, 184, 185, 186, 187, 188, 189, 190, 191, 192, 193, 194, 195, 196, 197, 198, 199, 200], 'Problem_124_output_616': [0.235, 4, 11, 14, 18, 19, 46, 56, 63, 64, 68, 70, 73, 74, 79, 85, 88, 89, 94, 99, 103, 104, 107, 108, 113, 114, 117, 120, 122, 145, 147, 149, 152, 153, 154, 155, 156, 170, 171, 175, 178, 179, 191, 195, 196, 197, 198, 199], 'Problem_13_output_41': [0.0], 'Problem_86_output_444': [0.025000000000000022, 3, 9, 13, 123, 175], 'Problem_88_output_465': [1.0, 1, 2, 3, 4, 5, 6, 7, 8, 9, 10, 11, 12, 13, 14, 15, 16, 17, 18, 19, 20, 21, 22, 23, 24, 25, 26, 27, 28, 29, 30, 31, 32, 33, 34, 35, 36, 37, 38, 39, 40, 41, 42, 43, 44, 45, 46, 47, 48, 49, 50, 51, 52, 53, 54, 55, 56, 57, 58, 59, 60, 61, 62, 63, 64, 65, 66, 67, 68, 69, 70, 71, 72, 73, 74, 75, 76, 77, 78, 79, 80, 81, 82, 83, 84, 85, 86, 87, 88, 89, 90, 91, 92, 93, 94, 95, 96, 97, 98, 99, 100, 101, 102, 103, 104, 105, 106, 107, 108, 109, 110, 111, 112, 113, 114, 115, 116, 117, 118, 119, 120, 121, 122, 123, 124, 125, 126, 127, 128, 129, 130, 131, 132, 133, 134, 135, 136, 137, 138, 139, 140, 141, 142, 143, 144, 145, 146, 147, 148, 149, 150, 151, 152, 153, 154, 155, 156, 157, 158, 159, 160, 161, 162, 163, 164, 165, 166, 167, 168, 169, 170, 171, 172, 173, 174, 175, 176, 177, 178, 179, 180, 181, 182, 183, 184, 185, 186, 187, 188, 189, 190, 191, 192, 193, 194, 195, 196, 197, 198, 199, 200], 'Problem_40_output_224': [0.865, 1, 2, 3, 4, 5, 6, 7, 8, 10, 11, 12, 13, 14, 15, 16, 17, 18, 19, 20, 21, 22, 23, 24, 25, 26, 27, 28, 29, 30, 31, 32, 33, 34, 35, 36, 37, 38, 39, 40, 41, 42, 43, 44, 45, 46, 47, 48, 49, 50, 51, 52, 53, 55, 56, 57, 58, 59, 60, 61, 62, 63, 65, 66, 67, 68, 70, 71, 73, 75, 76, 77, 78, 79, 80, 81, 82, 83, 84, 85, 86, 87, 88, 89, 90, 91, 92, 93, 94, 96, 97, 98, 100, 101, 102, 103, 105, 106, 107, 108, 109, 110, 111, 112, 113, 114, 115, 116, 119, 121, 122, 124, 125, 127, 128, 129, 131, 133, 134, 135, 136, 137, 138, 139, 140, 141, 142, 143, 144, 145, 146, 147, 148, 149, 150, 151, 153, 154, 155, 156, 158, 159, 161, 163, 164, 165, 166, 167, 168, 169, 170, 171, 172, 174, 176, 177, 178, 180, 181, 182, 183, 184, 185, 186, 190, 192, 193, 194, 195, 196, 197, 198, 199, 200], 'Problem_14_output_56': [1.0, 1, 2, 3, 4, 5, 6, 7, 8, 9, 10, 11, 12, 13, 14, 15, 16, 17, 18, 19, 20, 21, 22, 23, 24, 25, 26, 27, 28, 29, 30, 31, 32, 33, 34, 35, 36, 37, 38, 39, 40, 41, 42, 43, 44, 45, 46, 47, 48, 49, 50, 51, 52, 53, 54, 55, 56, 57, 58, 59, 60, 61, 62, 63, 64, 65, 66, 67, 68, 69, 70, 71, 72, 73, 74, 75, 76, 77, 78, 79, 80, 81, 82, 83, 84, 85, 86, 87, 88, 89, 90, 91, 92, 93, 94, 95, 96, 97, 98, 99, 100, 101, 102, 103, 104, 105, 106, 107, 108, 109, 110, 111, 112, 113, 114, 115, 116, 117, 118, 119, 120, 121, 122, 123, 124, 125, 126, 127, 128, 129, 130, 131, 132, 133, 134, 135, 136, 137, 138, 139, 140, 141, 142, 143, 144, 145, 146, 147, 148, 149, 150, 151, 152, 153, 154, 155, 156, 157, 158, 159, 160, 161, 162, 163, 164, 165, 166, 167, 168, 169, 170, 171, 172, 173, 174, 175, 176, 177, 178, 179, 180, 181, 182, 183, 184, 185, 186, 187, 188, 189, 190, 191, 192, 193, 194, 195, 196, 197, 198, 199, 200], 'Problem_78_output_414': [0.54, 2, 3, 6, 7, 9, 11, 12, 14, 15, 17, 18, 19, 21, 22, 23, 24, 25, 26, 29, 30, 31, 33, 34, 35, 36, 38, 39, 42, 44, 45, 49, 52, 53, 54, 56, 58, 63, 64, 65, 67, 71, 72, 73, 74, 79, 80, 83, 88, 89, 90, 91, 95, 96, 97, 100, 101, 103, 110, 111, 114, 117, 119, 120, 122, 124, 125, 127, 129, 130, 131, 134, 136, 138, 139, 141, 144, 145, 146, 147, 148, 149, 150, 151, 152, 158, 159, 160, 163, 166, 168, 169, 170, 172, 173, 176, 177, 181, 182, 183, 184, 185, 186, 191, 192, 193, 195, 199, 200], 'Problem_88_output_449': [0.575, 1, 3, 4, 5, 7, 8, 9, 10, 11, 12, 14, 16, 17, 18, 19, 23, 24, 25, 26, 29, 30, 33, 34, 35, 37, 38, 39, 41, 42, 43, 45, 46, 47, 50, 53, 54, 55, 56, 57, 58, 60, 61, 62, 64, 66, 67, 68, 69, 72, 73, 74, 75, 77, 81, 82, 84, 85, 88, 89, 92, 93, 97, 98, 99, 100, 101, 102, 104, 105, 106, 108, 109, 110, 111, 114, 115, 116, 118, 122, 123, 125, 127, 131, 135, 136, 137, 138, 140, 142, 143, 144, 147, 148, 149, 154, 156, 160, 164, 165, 166, 167, 169, 171, 172, 175, 176, 181, 183, 186, 189, 191, 192, 194, 199, 200], 'Problem_150_output_773': [0.16000000000000003, 46, 50, 53, 54, 81, 84, 86, 87, 97, 101, 103, 112, 117, 119, 120, 124, 125, 129, 149, 151, 164, 167, 172, 173, 175, 180, 182, 187, 190, 192, 193, 199], 'Problem_110_output_568': [0.27, 2, 9, 10, 13, 15, 16, 18, 20, 21, 22, 23, 33, 37, 39, 41, 42, 43, 52, 56, 58, 63, 67, 69, 73, 75, 78, 100, 103, 108, 112, 113, 115, 118, 119, 121, 122, 123, 124, 134, 135, 143, 145, 148, 152, 155, 160, 179, 182, 184, 187, 189, 190, 191, 192], 'Problem_152_output_784': [0.0], 'Problem_149_output_770': [1.0, 1, 2, 3, 4, 5, 6, 7, 8, 9, 10, 11, 12, 13, 14, 15, 16, 17, 18, 19, 20, 21, 22, 23, 24, 25, 26, 27, 28, 29, 30, 31, 32, 33, 34, 35, 36, 37, 38, 39, 40, 41, 42, 43, 44, 45, 46, 47, 48, 49, 50, 51, 52, 53, 54, 55, 56, 57, 58, 59, 60, 61, 62, 63, 64, 65, 66, 67, 68, 69, 70, 71, 72, 73, 74, 75, 76, 77, 78, 79, 80, 81, 82, 83, 84, 85, 86, 87, 88, 89, 90, 91, 92, 93, 94, 95, 96, 97, 98, 99, 100, 101, 102, 103, 104, 105, 106, 107, 108, 109, 110, 111, 112, 113, 114, 115, 116, 117, 118, 119, 120, 121, 122, 123, 124, 125, 126, 127, 128, 129, 130, 131, 132, 133, 134, 135, 136, 137, 138, 139, 140, 141, 142, 143, 144, 145, 146, 147, 148, 149, 150, 151, 152, 153, 154, 155, 156, 157, 158, 159, 160, 161, 162, 163, 164, 165, 166, 167, 168, 169, 170, 171, 172, 173, 174, 175, 176, 177, 178, 179, 180, 181, 182, 183, 184, 185, 186, 187, 188, 189, 190, 191, 192, 193, 194, 195, 196, 197, 198, 199, 200], 'Problem_160_output_842': [0.405, 4, 5, 18, 19, 24, 26, 28, 35, 40, 44, 45, 47, 48, 55, 56, 57, 58, 67, 68, 72, 73, 75, 77, 78, 83, 84, 85, 88, 89, 90, 91, 92, 93, 94, 95, 103, 104, 106, 107, 108, 109, 111, 116, 117, 122, 128, 130, 133, 135, 139, 140, 141, 142, 146, 148, 149, 151, 152, 153, 154, 155, 157, 160, 165, 166, 168, 173, 175, 176, 177, 178, 179, 182, 184, 185, 186, 187, 188, 189, 194, 198], 'Problem_107_output_559': [0.22499999999999998, 2, 3, 5, 7, 8, 9, 10, 11, 12, 13, 15, 16, 17, 18, 19, 20, 21, 22, 24, 25, 26, 27, 29, 31, 39, 43, 44, 47, 50, 54, 61, 69, 79, 83, 101, 105, 112, 116, 131, 135, 139, 143, 147, 160, 164], 'Problem_28_output_131': [0.99, 1, 2, 3, 4, 5, 6, 7, 8, 9, 10, 11, 12, 14, 15, 16, 17, 18, 19, 20, 21, 22, 23, 24, 25, 26, 27, 28, 29, 30, 31, 32, 33, 34, 35, 36, 37, 38, 39, 40, 41, 42, 43, 44, 45, 46, 47, 48, 49, 50, 51, 52, 53, 54, 55, 56, 57, 58, 59, 60, 61, 62, 63, 64, 65, 66, 67, 68, 69, 70, 71, 72, 73, 74, 75, 76, 77, 78, 79, 80, 81, 82, 83, 84, 85, 86, 87, 88, 89, 90, 91, 92, 93, 94, 95, 97, 98, 99, 100, 101, 102, 103, 104, 105, 106, 107, 108, 109, 110, 111, 112, 113, 114, 115, 116, 117, 118, 119, 120, 121, 122, 123, 124, 125, 126, 127, 128, 129, 130, 131, 132, 133, 134, 135, 136, 137, 138, 139, 140, 141, 142, 143, 144, 145, 146, 147, 148, 149, 150, 151, 152, 153, 154, 155, 156, 157, 158, 159, 160, 161, 162, 163, 164, 165, 166, 167, 168, 169, 170, 171, 172, 173, 174, 175, 176, 177, 178, 179, 180, 181, 182, 183, 184, 185, 186, 187, 188, 189, 190, 191, 192, 193, 194, 195, 196, 197, 198, 199, 200], 'Problem_35_output_194': [0.5549999999999999, 2, 3, 7, 8, 9, 10, 11, 12, 13, 14, 15, 16, 17, 18, 20, 23, 24, 25, 26, 27, 28, 29, 30, 31, 32, 33, 34, 35, 36, 37, 38, 39, 40, 41, 42, 43, 45, 49, 54, 56, 58, 60, 61, 62, 63, 64, 65, 66, 67, 68, 69, 70, 71, 72, 73, 74, 75, 76, 77, 78, 79, 80, 81, 82, 83, 84, 85, 86, 87, 88, 116, 119, 120, 125, 128, 131, 135, 137, 138, 139, 140, 141, 142, 143, 144, 145, 146, 147, 148, 149, 150, 151, 152, 153, 154, 155, 156, 157, 158, 159, 160, 161, 162, 163, 164, 165, 166, 167, 168, 196, 198], 'Problem_81_output_421': [0.21499999999999997, 1, 7, 9, 17, 20, 26, 32, 35, 39, 45, 48, 52, 53, 59, 62, 66, 67, 73, 76, 80, 81, 87, 90, 94, 95, 102, 104, 107, 113, 115, 118, 126, 137, 140, 146, 149, 158, 166, 173, 180, 187, 194, 199], 'Problem_164_output_759': [0.0393258426966292, 17, 26, 33, 46, 62, 104, 119], 'Problem_106_output_550': [1.0, 1, 2, 3, 4, 5, 6, 7, 8, 9, 10, 11, 12, 13, 14, 15, 16, 17, 18, 19, 20, 21, 22, 23, 24, 25, 26, 27, 28, 29, 30, 31, 32, 33, 34, 35, 36, 37, 38, 39, 40, 41, 42, 43, 44, 45, 46, 47, 48, 49, 50, 51, 52, 53, 54, 55, 56, 57, 58, 59, 60, 61, 62, 63, 64, 65, 66, 67, 68, 69, 70, 71, 72, 73, 74, 75, 76, 77, 78, 79, 80, 81, 82, 83, 84, 85, 86, 87, 88, 89, 90, 91, 92, 93, 94, 95, 96, 97, 98, 99, 100, 101, 102, 103, 104, 105, 106, 107, 108, 109, 110, 111, 112, 113, 114, 115, 116, 117, 118, 119, 120, 121, 122, 123, 124, 125, 126, 127, 128, 129, 130, 131, 132, 133, 134, 135, 136, 137, 138, 139, 140, 141, 142, 143, 144, 145, 146, 147, 148, 149, 150, 151, 152, 153, 154, 155, 156, 157, 158, 159, 160, 161, 162, 163, 164, 165, 166, 167, 168, 169, 170, 171, 172, 173, 174, 175, 176, 177, 178, 179, 180, 181, 182, 183, 184, 185, 186, 187, 188, 189, 190, 191, 192, 193, 194, 195, 196, 197, 198, 199, 200], 'Problem_67_output_365': [0.010000000000000009, 21, 198], 'Problem_48_output_182': [0.09999999999999998, 11, 13, 28, 41, 44, 66, 78, 91, 100, 113, 117, 118, 138, 159, 161, 170, 179, 185, 192, 194], 'Problem_87_output_445': [0.020000000000000018, 52, 73, 87, 105], 'Problem_115_output_591': [0.0], 'Problem_56_output_312': [0.0], 'Problem_84_output_441': [1.0, 1, 2, 3, 4, 5, 6, 7, 8, 9, 10, 11, 12, 13, 14, 15, 16, 17, 18, 19, 20, 21, 22, 23, 24, 25, 26, 27, 28, 29, 30, 31, 32, 33, 34, 35, 36, 37, 38, 39, 40, 41, 42, 43, 44, 45, 46, 47, 48, 49, 50, 51, 52, 53, 54, 55, 56, 57, 58, 59, 60, 61, 62, 63, 64, 65, 66, 67, 68, 69, 70, 71, 72, 73, 74, 75, 76, 77, 78, 79, 80, 81, 82, 83, 84, 85, 86, 87, 88, 89, 90, 91, 92, 93, 94, 95, 96, 97, 98, 99, 100, 101, 102, 103, 104, 105, 106, 107, 108, 109, 110, 111, 112, 113, 114, 115, 116, 117, 118, 119, 120, 121, 122, 123, 124, 125, 126, 127, 128, 129, 130, 131, 132, 133, 134, 135, 136, 137, 138, 139, 140, 141, 142, 143, 144, 145, 146, 147, 148, 149, 150, 151, 152, 153, 154, 155, 156, 157, 158, 159, 160, 161, 162, 163, 164, 165, 166, 167, 168, 169, 170, 171, 172, 173, 174, 175, 176, 177, 178, 179, 180, 181, 182, 183, 184, 185, 186, 187, 188, 189, 190, 191, 192, 193, 194, 195, 196, 197, 198, 199, 200], 'Problem_14_output_57': [1.0, 1, 2, 3, 4, 5, 6, 7, 8, 9, 10, 11, 12, 13, 14, 15, 16, 17, 18, 19, 20, 21, 22, 23, 24, 25, 26, 27, 28, 29, 30, 31, 32, 33, 34, 35, 36, 37, 38, 39, 40, 41, 42, 43, 44, 45, 46, 47, 48, 49, 50, 51, 52, 53, 54, 55, 56, 57, 58, 59, 60, 61, 62, 63, 64, 65, 66, 67, 68, 69, 70, 71, 72, 73, 74, 75, 76, 77, 78, 79, 80, 81, 82, 83, 84, 85, 86, 87, 88, 89, 90, 91, 92, 93, 94, 95, 96, 97, 98, 99, 100, 101, 102, 103, 104, 105, 106, 107, 108, 109, 110, 111, 112, 113, 114, 115, 116, 117, 118, 119, 120, 121, 122, 123, 124, 125, 126, 127, 128, 129, 130, 131, 132, 133, 134, 135, 136, 137, 138, 139, 140, 141, 142, 143, 144, 145, 146, 147, 148, 149, 150, 151, 152, 153, 154, 155, 156, 157, 158, 159, 160, 161, 162, 163, 164, 165, 166, 167, 168, 169, 170, 171, 172, 173, 174, 175, 176, 177, 178, 179, 180, 181, 182, 183, 184, 185, 186, 187, 188, 189, 190, 191, 192, 193, 194, 195, 196, 197, 198, 199, 200], 'Problem_145_output_696': [1.0, 1, 2, 3, 4, 5, 6, 7, 8, 9, 10, 11, 12, 13, 14, 15, 16, 17, 18, 19, 20, 21, 22, 23, 24, 25, 26, 27, 28, 29, 30, 31, 32, 33, 34, 35, 36, 37, 38, 39, 40, 41, 42, 43, 44, 45, 46, 47, 48, 49, 50, 51, 52, 53, 54, 55, 56, 57, 58, 59, 60, 61, 62, 63, 64, 65, 66, 67, 68, 69, 70, 71, 72, 73, 74, 75, 76, 77, 78, 79, 80, 81, 82, 83, 84, 85, 86, 87, 88, 89, 90, 91, 92, 93, 94, 95, 96, 97, 98, 99, 100, 101, 102, 103, 104, 105, 106, 107, 108, 109, 110, 111, 112, 113, 114, 115, 116, 117, 118, 119, 120, 121, 122, 123, 124, 125, 126, 127, 128, 129, 130, 131, 132, 133, 134, 135, 136, 137, 138, 139, 140, 141, 142, 143, 144, 145, 146, 147, 148, 149, 150, 151, 152, 153, 154, 155, 156, 157, 158, 159, 160, 161, 162, 163, 164, 165, 166, 167, 168, 169, 170, 171, 172, 173, 174, 175, 176, 177, 178, 179, 180, 181, 182, 183, 184, 185, 186, 187, 188, 189, 190, 191, 192, 193, 194, 195, 196, 197, 198, 199, 200], 'Problem_110_output_566': [0.95, 1, 2, 3, 4, 5, 6, 7, 8, 10, 11, 12, 13, 14, 16, 17, 18, 19, 20, 21, 22, 23, 24, 25, 26, 27, 28, 29, 30, 31, 32, 34, 35, 36, 38, 39, 40, 41, 42, 43, 44, 45, 46, 47, 48, 49, 50, 51, 53, 54, 55, 56, 57, 58, 59, 60, 61, 62, 64, 65, 66, 67, 68, 69, 70, 71, 72, 73, 74, 75, 76, 77, 78, 79, 80, 81, 82, 83, 84, 85, 86, 87, 88, 89, 90, 91, 92, 93, 94, 95, 96, 97, 98, 99, 100, 101, 102, 103, 104, 105, 106, 107, 108, 109, 110, 111, 113, 114, 115, 116, 117, 119, 120, 121, 122, 123, 124, 125, 126, 127, 128, 129, 130, 131, 132, 133, 134, 135, 136, 137, 138, 139, 140, 141, 142, 143, 144, 145, 146, 147, 148, 149, 150, 151, 152, 153, 154, 155, 156, 157, 158, 159, 160, 161, 162, 163, 164, 165, 166, 167, 168, 169, 170, 171, 172, 173, 174, 175, 176, 177, 178, 179, 180, 181, 182, 183, 185, 186, 188, 189, 190, 191, 192, 193, 194, 195, 196, 197, 198, 199, 200], 'Problem_78_output_412': [0.7050000000000001, 1, 2, 3, 4, 6, 7, 8, 10, 11, 12, 13, 14, 15, 16, 17, 18, 19, 20, 21, 22, 23, 24, 25, 26, 27, 28, 29, 30, 31, 32, 33, 34, 35, 36, 37, 38, 39, 40, 41, 42, 43, 44, 45, 47, 48, 49, 50, 51, 52, 53, 54, 56, 58, 60, 61, 63, 64, 65, 67, 70, 71, 72, 73, 74, 77, 78, 80, 81, 82, 83, 86, 87, 89, 91, 94, 95, 97, 99, 101, 102, 103, 104, 105, 106, 107, 108, 109, 110, 111, 112, 114, 115, 116, 117, 119, 120, 121, 122, 123, 124, 125, 127, 129, 130, 132, 134, 136, 137, 139, 140, 143, 145, 148, 150, 153, 155, 156, 157, 159, 160, 164, 166, 167, 168, 169, 170, 172, 173, 175, 178, 180, 182, 184, 188, 189, 190, 192, 193, 198, 199, 200], 'Problem_79_output_419': [0.03500000000000003, 5, 13, 40, 103, 118, 154, 185], 'Problem_75_output_389': [0.0], 'Problem_55_output_304': [0.0], 'Problem_88_output_461': [0.22499999999999998, 2, 6, 10, 15, 22, 49, 52, 59, 62, 65, 71, 87, 94, 96, 102, 104, 107, 113, 121, 126, 132, 134, 138, 141, 146, 148, 152, 153, 157, 161, 163, 164, 167, 170, 174, 175, 179, 180, 184, 187, 188, 192, 195, 198, 199], 'Problem_48_output_257': [1.0, 1, 2, 3, 4, 5, 6, 7, 8, 9, 10, 11, 12, 13, 14, 15, 16, 17, 18, 19, 20, 21, 22, 23, 24, 25, 26, 27, 28, 29, 30, 31, 32, 33, 34, 35, 36, 37, 38, 39, 40, 41, 42, 43, 44, 45, 46, 47, 48, 49, 50, 51, 52, 53, 54, 55, 56, 57, 58, 59, 60, 61, 62, 63, 64, 65, 66, 67, 68, 69, 70, 71, 72, 73, 74, 75, 76, 77, 78, 79, 80, 81, 82, 83, 84, 85, 86, 87, 88, 89, 90, 91, 92, 93, 94, 95, 96, 97, 98, 99, 100, 101, 102, 103, 104, 105, 106, 107, 108, 109, 110, 111, 112, 113, 114, 115, 116, 117, 118, 119, 120, 121, 122, 123, 124, 125, 126, 127, 128, 129, 130, 131, 132, 133, 134, 135, 136, 137, 138, 139, 140, 141, 142, 143, 144, 145, 146, 147, 148, 149, 150, 151, 152, 153, 154, 155, 156, 157, 158, 159, 160, 161, 162, 163, 164, 165, 166, 167, 168, 169, 170, 171, 172, 173, 174, 175, 176, 177, 178, 179, 180, 181, 182, 183, 184, 185, 186, 187, 188, 189, 190, 191, 192, 193, 194, 195, 196, 197, 198, 199, 200], 'Problem_37_output_209': [0.95, 1, 2, 3, 4, 5, 6, 7, 8, 9, 10, 11, 13, 14, 15, 16, 17, 18, 19, 20, 21, 22, 23, 24, 25, 26, 27, 28, 29, 30, 32, 33, 34, 35, 37, 38, 39, 40, 41, 42, 43, 44, 45, 46, 47, 48, 49, 50, 51, 52, 53, 54, 55, 56, 57, 58, 59, 60, 61, 62, 63, 64, 65, 66, 67, 68, 69, 70, 71, 72, 73, 74, 75, 76, 77, 78, 79, 80, 81, 82, 83, 84, 85, 86, 87, 88, 89, 90, 91, 92, 93, 94, 95, 96, 97, 98, 99, 100, 101, 102, 103, 104, 105, 106, 107, 108, 109, 110, 111, 112, 113, 114, 115, 116, 117, 118, 119, 120, 121, 122, 123, 125, 126, 127, 128, 129, 130, 131, 132, 133, 134, 135, 136, 138, 139, 140, 141, 142, 143, 144, 145, 146, 147, 148, 149, 150, 152, 153, 154, 155, 156, 157, 159, 161, 162, 163, 164, 165, 166, 167, 168, 169, 170, 171, 173, 174, 175, 176, 177, 178, 179, 180, 181, 182, 183, 184, 185, 186, 187, 189, 190, 191, 192, 193, 194, 195, 196, 197, 198, 199, 200], 'Problem_59_output_327': [0.5449999999999999, 3, 4, 17, 19, 20, 29, 30, 32, 35, 36, 37, 41, 42, 43, 44, 46, 50, 51, 55, 56, 58, 59, 60, 62, 63, 64, 67, 68, 70, 71, 74, 75, 76, 77, 78, 79, 81, 83, 85, 86, 87, 89, 93, 94, 95, 96, 98, 99, 101, 102, 103, 104, 108, 109, 112, 114, 115, 116, 117, 119, 120, 121, 124, 127, 128, 129, 130, 133, 134, 135, 136, 137, 138, 139, 142, 143, 144, 145, 146, 147, 148, 149, 151, 152, 153, 156, 159, 160, 164, 170, 171, 172, 177, 178, 181, 182, 183, 184, 185, 186, 187, 188, 189, 191, 192, 197, 198, 199, 200], 'Problem_98_output_428': [0.19999999999999996, 20, 24, 34, 37, 51, 55, 59, 64, 65, 66, 67, 68, 70, 72, 81, 88, 89, 94, 103, 111, 121, 124, 127, 132, 137, 140, 141, 142, 147, 150, 151, 152, 154, 156, 157, 166, 167, 171, 180, 185], 'Problem_116_output_593': [0.0], 'Problem_13_output_55': [0.0], 'Problem_138_output_662': [0.84, 1, 2, 3, 4, 5, 6, 7, 8, 9, 10, 11, 12, 13, 14, 15, 16, 17, 18, 19, 20, 21, 22, 23, 24, 25, 26, 27, 30, 31, 32, 33, 34, 36, 37, 38, 39, 40, 41, 42, 43, 44, 45, 46, 47, 48, 49, 50, 51, 52, 53, 54, 57, 58, 59, 60, 61, 62, 64, 66, 68, 69, 70, 71, 72, 73, 74, 75, 76, 77, 78, 79, 80, 81, 82, 83, 84, 85, 86, 87, 88, 89, 91, 92, 93, 94, 95, 96, 97, 98, 99, 100, 101, 102, 103, 104, 105, 106, 108, 109, 110, 111, 112, 113, 114, 116, 118, 119, 120, 121, 122, 123, 124, 125, 126, 128, 129, 130, 131, 132, 133, 134, 135, 136, 137, 138, 139, 140, 141, 142, 143, 144, 145, 146, 149, 152, 155, 157, 158, 161, 163, 165, 166, 167, 168, 169, 170, 171, 172, 173, 174, 175, 176, 177, 178, 179, 180, 181, 183, 185, 186, 187, 188, 190, 192, 194, 197, 199, 200], 'Problem_62_output_346': [0.13, 21, 30, 35, 39, 41, 42, 89, 95, 98, 100, 101, 119, 123, 139, 141, 142, 153, 159, 162, 174, 176, 177, 183, 190, 191, 199], 'Problem_151_output_776': [0.0], 'Problem_152_output_780': [0.4482758620689655, 1, 3, 4, 5, 8, 9, 10, 11, 12, 14, 15, 17, 18, 19, 21, 25, 26, 27, 28, 29, 32, 33, 34, 35, 36, 37, 38, 39, 41, 42, 43, 48, 49, 50, 51, 52, 53, 54, 55, 56, 57, 59, 60, 61, 62, 63, 64, 67, 68, 69, 70, 71, 72, 75, 76, 77, 78, 79, 80, 82, 83, 84, 85, 86, 87, 100, 109, 120, 129, 133, 137, 143, 147, 155, 157, 165, 171, 174], 'Problem_158_output_815': [0.0], 'Problem_149_output_766': [1.0, 1, 2, 3, 4, 5, 6, 7, 8, 9, 10, 11, 12, 13, 14, 15, 16, 17, 18, 19, 20, 21, 22, 23, 24, 25, 26, 27, 28, 29, 30, 31, 32, 33, 34, 35, 36, 37, 38, 39, 40, 41, 42, 43, 44, 45, 46, 47, 48, 49, 50, 51, 52, 53, 54, 55, 56, 57, 58, 59, 60, 61, 62, 63, 64, 65, 66, 67, 68, 69, 70, 71, 72, 73, 74, 75, 76, 77, 78, 79, 80, 81, 82, 83, 84, 85, 86, 87, 88, 89, 90, 91, 92, 93, 94, 95, 96, 97, 98, 99, 100, 101, 102, 103, 104, 105, 106, 107, 108, 109, 110, 111, 112, 113, 114, 115, 116, 117, 118, 119, 120, 121, 122, 123, 124, 125, 126, 127, 128, 129, 130, 131, 132, 133, 134, 135, 136, 137, 138, 139, 140, 141, 142, 143, 144, 145, 146, 147, 148, 149, 150, 151, 152, 153, 154, 155, 156, 157, 158, 159, 160, 161, 162, 163, 164, 165, 166, 167, 168, 169, 170, 171, 172, 173, 174, 175, 176, 177, 178, 179, 180, 181, 182, 183, 184, 185, 186, 187, 188, 189, 190, 191, 192, 193, 194, 195, 196, 197, 198, 199, 200], 'Problem_36_output_199': [0.32999999999999996, 1, 5, 7, 8, 12, 13, 15, 16, 17, 18, 19, 20, 26, 27, 28, 29, 30, 31, 32, 34, 35, 36, 37, 38, 39, 40, 42, 45, 49, 50, 51, 58, 61, 69, 85, 113, 117, 122, 128, 129, 130, 134, 135, 137, 139, 140, 141, 142, 144, 146, 148, 151, 152, 158, 164, 166, 177, 179, 181, 183, 187, 190, 195, 196, 198, 199], 'Problem_35_output_197': [0.5549999999999999, 2, 3, 7, 8, 9, 10, 11, 12, 13, 14, 15, 16, 17, 18, 20, 23, 24, 25, 26, 27, 28, 29, 30, 31, 32, 33, 34, 35, 36, 37, 38, 39, 40, 41, 42, 43, 45, 49, 54, 56, 58, 60, 61, 62, 63, 64, 65, 66, 67, 68, 69, 70, 71, 72, 73, 74, 75, 76, 77, 78, 79, 80, 81, 82, 83, 84, 85, 86, 87, 88, 116, 119, 120, 125, 128, 131, 135, 137, 138, 139, 140, 141, 142, 143, 144, 145, 146, 147, 148, 149, 150, 151, 152, 153, 154, 155, 156, 157, 158, 159, 160, 161, 162, 163, 164, 165, 166, 167, 168, 196, 198], 'Problem_1_output_4': [0.030000000000000027, 16, 40, 100, 117, 175, 182], 'Problem_148_output_762': [0.0], 'Problem_158_output_713': [0.45499999999999996, 1, 3, 4, 5, 7, 9, 10, 13, 14, 15, 16, 18, 19, 20, 21, 25, 26, 27, 28, 29, 30, 31, 32, 33, 34, 35, 41, 45, 47, 49, 51, 52, 54, 56, 58, 60, 63, 65, 67, 69, 71, 75, 76, 85, 89, 93, 96, 99, 100, 103, 105, 106, 108, 110, 111, 114, 116, 120, 122, 123, 124, 128, 129, 131, 135, 137, 138, 141, 144, 149, 150, 153, 154, 157, 158, 161, 163, 164, 167, 172, 173, 175, 179, 181, 182, 184, 185, 187, 190, 192, 198], 'Problem_158_output_717': [0.040000000000000036, 26, 27, 32, 35, 97, 109, 152, 184], 'Problem_10_output_27': [0.22999999999999998, 1, 2, 4, 12, 13, 16, 21, 25, 27, 28, 30, 33, 35, 38, 40, 44, 45, 46, 54, 55, 56, 62, 68, 70, 71, 75, 76, 80, 89, 91, 96, 100, 108, 113, 121, 125, 128, 137, 148, 152, 155, 162, 166, 171, 175, 184], 'Problem_162_output_752': [0.0], 'Problem_30_output_139': [0.53, 2, 4, 6, 7, 10, 12, 13, 14, 17, 21, 22, 25, 26, 27, 30, 31, 38, 39, 40, 42, 44, 45, 46, 49, 50, 51, 52, 53, 58, 59, 64, 66, 67, 68, 70, 73, 74, 76, 77, 78, 79, 80, 81, 82, 83, 85, 90, 91, 92, 93, 95, 96, 97, 98, 102, 103, 107, 108, 109, 110, 111, 112, 116, 118, 119, 121, 127, 128, 129, 130, 132, 137, 138, 139, 141, 142, 145, 146, 150, 154, 155, 156, 157, 158, 159, 162, 165, 167, 168, 169, 171, 172, 173, 176, 177, 178, 181, 182, 184, 187, 188, 189, 193, 195, 198, 200], 'Problem_158_output_730': [0.0], 'Problem_110_output_569': [0.17000000000000004, 2, 12, 13, 18, 20, 21, 22, 23, 39, 41, 42, 43, 56, 58, 67, 69, 75, 100, 108, 121, 122, 123, 124, 134, 135, 143, 145, 152, 179, 182, 189, 190, 191, 192], 'Problem_88_output_457': [0.54, 1, 3, 4, 5, 7, 8, 9, 10, 11, 12, 14, 16, 17, 18, 19, 23, 24, 25, 26, 29, 30, 33, 34, 35, 37, 38, 39, 41, 42, 43, 45, 46, 47, 50, 53, 54, 55, 56, 57, 58, 60, 61, 62, 64, 66, 67, 68, 69, 72, 73, 74, 75, 77, 81, 82, 84, 85, 88, 89, 92, 93, 97, 98, 99, 100, 101, 104, 105, 106, 108, 109, 110, 111, 114, 115, 116, 118, 122, 123, 125, 127, 131, 135, 136, 137, 140, 142, 143, 144, 147, 149, 154, 156, 160, 164, 165, 166, 169, 171, 172, 176, 181, 183, 186, 189, 191, 194, 200], 'Problem_158_output_818': [1.0, 1, 2, 3, 4, 5, 6, 7, 8, 9, 10, 11, 12, 13, 14, 15, 16, 17, 18, 19, 20, 21, 22, 23, 24, 25, 26, 27, 28, 29, 30, 31, 32, 33, 34, 35, 36, 37, 38, 39, 40, 41, 42, 43, 44, 45, 46, 47, 48, 49, 50, 51, 52, 53, 54, 55, 56, 57, 58, 59, 60, 61, 62, 63, 64, 65, 66, 67, 68, 69, 70, 71, 72, 73, 74, 75, 76, 77, 78, 79, 80, 81, 82, 83, 84, 85, 86, 87, 88, 89, 90, 91, 92, 93, 94, 95, 96, 97, 98, 99, 100, 101, 102, 103, 104, 105, 106, 107, 108, 109, 110, 111, 112, 113, 114, 115, 116, 117, 118, 119, 120, 121, 122, 123, 124, 125, 126, 127, 128, 129, 130, 131, 132, 133, 134, 135, 136, 137, 138, 139, 140, 141, 142, 143, 144, 145, 146, 147, 148, 149, 150, 151, 152, 153, 154, 155, 156, 157, 158, 159, 160, 161, 162, 163, 164, 165, 166, 167, 168, 169, 170, 171, 172, 173, 174, 175, 176, 177, 178, 179, 180, 181, 182, 183, 184, 185, 186, 187, 188, 189, 190, 191, 192, 193, 194, 195, 196, 197, 198, 199, 200], 'Problem_76_output_396': [0.06000000000000005, 2, 3, 4, 5, 6, 97, 108, 149, 167, 172, 185, 188], 'Problem_95_output_493': [0.895, 1, 2, 4, 5, 6, 7, 8, 9, 10, 11, 12, 13, 14, 15, 16, 17, 18, 20, 21, 22, 23, 24, 25, 26, 28, 29, 30, 31, 32, 33, 35, 36, 37, 38, 39, 40, 41, 42, 43, 44, 45, 46, 47, 48, 49, 50, 51, 52, 53, 54, 55, 56, 57, 58, 59, 60, 61, 63, 64, 65, 66, 67, 69, 70, 71, 72, 74, 75, 76, 77, 79, 80, 81, 83, 84, 85, 87, 88, 89, 90, 91, 92, 93, 94, 95, 96, 97, 98, 99, 100, 101, 102, 103, 104, 105, 106, 107, 108, 109, 110, 111, 112, 113, 114, 115, 117, 118, 119, 120, 121, 122, 124, 125, 126, 127, 128, 129, 130, 131, 132, 133, 134, 135, 137, 138, 139, 140, 141, 142, 144, 145, 146, 147, 148, 149, 150, 151, 152, 153, 154, 155, 156, 157, 158, 159, 160, 161, 162, 163, 164, 165, 166, 167, 169, 170, 171, 172, 173, 175, 176, 177, 178, 180, 181, 182, 184, 185, 186, 188, 189, 192, 193, 194, 195, 196, 197, 198, 199, 200], 'Problem_13_output_39': [1.0, 1, 2, 3, 4, 5, 6, 7, 8, 9, 10, 11, 12, 13, 14, 15, 16, 17, 18, 19, 20, 21, 22, 23, 24, 25, 26, 27, 28, 29, 30, 31, 32, 33, 34, 35, 36, 37, 38, 39, 40, 41, 42, 43, 44, 45, 46, 47, 48, 49, 50, 51, 52, 53, 54, 55, 56, 57, 58, 59, 60, 61, 62, 63, 64, 65, 66, 67, 68, 69, 70, 71, 72, 73, 74, 75, 76, 77, 78, 79, 80, 81, 82, 83, 84, 85, 86, 87, 88, 89, 90, 91, 92, 93, 94, 95, 96, 97, 98, 99, 100, 101, 102, 103, 104, 105, 106, 107, 108, 109, 110, 111, 112, 113, 114, 115, 116, 117, 118, 119, 120, 121, 122, 123, 124, 125, 126, 127, 128, 129, 130, 131, 132, 133, 134, 135, 136, 137, 138, 139, 140, 141, 142, 143, 144, 145, 146, 147, 148, 149, 150, 151, 152, 153, 154, 155, 156, 157, 158, 159, 160, 161, 162, 163, 164, 165, 166, 167, 168, 169, 170, 171, 172, 173, 174, 175, 176, 177, 178, 179, 180, 181, 182, 183, 184, 185, 186, 187, 188, 189, 190, 191, 192, 193, 194, 195, 196, 197, 198, 199, 200], 'Problem_148_output_761': [0.07499999999999996, 12, 27, 42, 45, 49, 61, 81, 88, 98, 112, 120, 124, 126, 156, 198], 'Problem_49_output_281': [0.835, 1, 2, 3, 4, 6, 7, 8, 9, 10, 11, 12, 13, 14, 15, 17, 18, 19, 20, 21, 22, 23, 25, 26, 27, 29, 30, 32, 33, 34, 35, 36, 37, 38, 39, 41, 44, 45, 46, 47, 48, 49, 50, 51, 52, 53, 54, 55, 57, 58, 59, 61, 62, 63, 64, 66, 67, 69, 70, 71, 72, 75, 76, 77, 78, 79, 80, 81, 82, 84, 85, 89, 90, 94, 95, 96, 97, 98, 99, 101, 102, 103, 104, 105, 106, 108, 111, 112, 114, 115, 116, 117, 118, 119, 120, 121, 122, 123, 124, 125, 126, 127, 128, 129, 130, 131, 132, 133, 134, 135, 136, 137, 138, 139, 140, 141, 142, 143, 144, 145, 146, 147, 148, 149, 150, 151, 152, 153, 154, 155, 157, 158, 159, 160, 161, 162, 163, 164, 165, 166, 167, 168, 169, 170, 171, 172, 173, 174, 175, 176, 177, 178, 179, 182, 183, 184, 185, 186, 187, 188, 190, 191, 192, 195, 196, 197, 198, 200], 'Problem_154_output_797': [0.16000000000000003, 4, 5, 7, 9, 10, 11, 12, 13, 14, 15, 16, 17, 18, 19, 20, 22, 23, 24, 28, 34, 43, 144, 149, 152, 153, 154, 158, 159, 160, 165, 168, 172], 'Problem_46_output_171': [0.0], 'Problem_71_output_374': [0.595, 1, 2, 3, 5, 6, 7, 8, 9, 10, 11, 12, 13, 14, 15, 16, 17, 18, 19, 21, 23, 24, 25, 26, 33, 34, 38, 39, 40, 41, 42, 43, 44, 46, 47, 49, 50, 52, 53, 54, 59, 60, 62, 63, 64, 66, 69, 71, 72, 73, 75, 78, 80, 83, 84, 85, 86, 90, 91, 93, 95, 96, 97, 98, 99, 100, 101, 102, 105, 109, 110, 111, 112, 116, 117, 119, 122, 125, 127, 128, 129, 130, 131, 132, 133, 134, 135, 138, 142, 143, 145, 148, 149, 150, 151, 152, 154, 156, 158, 160, 161, 163, 167, 168, 169, 170, 171, 172, 173, 175, 176, 183, 184, 185, 186, 189, 196, 198, 199, 200], 'Problem_119_output_600': [0.945, 1, 2, 3, 4, 5, 6, 7, 8, 9, 10, 11, 12, 13, 14, 15, 16, 17, 18, 19, 20, 21, 22, 23, 24, 25, 26, 27, 28, 29, 30, 31, 32, 33, 34, 35, 36, 37, 38, 39, 40, 41, 42, 43, 44, 45, 46, 47, 48, 49, 50, 51, 52, 53, 54, 55, 56, 57, 58, 59, 60, 61, 62, 63, 64, 65, 67, 68, 70, 72, 73, 76, 77, 78, 79, 80, 81, 82, 83, 84, 85, 86, 87, 88, 89, 90, 91, 92, 93, 94, 95, 96, 97, 98, 99, 100, 101, 102, 103, 104, 105, 106, 107, 108, 109, 110, 111, 112, 113, 114, 115, 116, 117, 118, 119, 120, 121, 122, 123, 124, 125, 126, 127, 128, 129, 131, 132, 134, 135, 136, 137, 138, 139, 140, 141, 142, 143, 144, 145, 146, 147, 148, 149, 150, 151, 152, 153, 154, 157, 158, 159, 160, 161, 162, 163, 164, 165, 166, 167, 168, 169, 170, 171, 172, 173, 174, 175, 176, 177, 178, 179, 180, 181, 182, 183, 185, 187, 188, 189, 190, 191, 192, 193, 194, 195, 196, 197, 198, 199, 200], 'Problem_19_output_82': [0.835, 1, 2, 3, 5, 7, 8, 9, 10, 11, 12, 13, 14, 15, 16, 18, 19, 20, 21, 22, 23, 24, 25, 26, 27, 29, 30, 31, 32, 33, 34, 35, 36, 37, 38, 39, 40, 41, 42, 44, 45, 47, 48, 49, 50, 51, 52, 53, 54, 55, 56, 57, 58, 59, 60, 61, 62, 65, 67, 68, 69, 70, 71, 73, 74, 75, 76, 78, 79, 80, 81, 82, 84, 86, 89, 90, 93, 94, 95, 96, 97, 98, 99, 102, 103, 104, 106, 107, 108, 110, 111, 113, 114, 115, 116, 117, 118, 119, 120, 121, 122, 123, 124, 125, 126, 129, 130, 131, 132, 134, 135, 136, 138, 139, 141, 142, 143, 144, 145, 146, 147, 148, 149, 150, 151, 152, 154, 155, 158, 159, 160, 161, 162, 163, 164, 165, 166, 167, 168, 169, 170, 171, 172, 173, 174, 175, 176, 177, 179, 180, 181, 182, 183, 184, 185, 186, 187, 188, 189, 190, 191, 192, 193, 195, 196, 197, 198, 199], 'Problem_61_output_262': [0.0], 'Problem_93_output_481': [0.9, 1, 2, 3, 4, 5, 7, 8, 9, 10, 11, 13, 14, 15, 16, 17, 18, 19, 20, 21, 22, 23, 24, 25, 27, 28, 29, 31, 32, 33, 34, 35, 36, 37, 38, 39, 40, 41, 42, 43, 45, 46, 47, 48, 49, 50, 51, 52, 53, 54, 56, 57, 58, 59, 60, 61, 62, 63, 65, 66, 67, 68, 69, 71, 72, 73, 74, 75, 76, 77, 78, 79, 80, 82, 83, 84, 85, 86, 87, 88, 89, 90, 92, 93, 94, 95, 96, 97, 98, 100, 101, 102, 103, 104, 105, 106, 108, 109, 110, 111, 112, 113, 115, 116, 117, 118, 119, 120, 122, 123, 124, 125, 126, 127, 129, 130, 131, 132, 133, 134, 136, 137, 138, 139, 140, 141, 143, 144, 145, 146, 147, 148, 149, 151, 152, 153, 154, 155, 156, 158, 159, 160, 161, 162, 163, 164, 165, 166, 167, 168, 169, 170, 171, 172, 173, 174, 175, 176, 177, 178, 179, 180, 181, 182, 183, 184, 185, 187, 188, 189, 190, 191, 192, 193, 194, 195, 196, 197, 198, 199, 200], 'Problem_156_output_810': [0.0], 'Problem_40_output_225': [0.0], 'Problem_88_output_459': [0.575, 1, 3, 4, 5, 7, 8, 9, 10, 11, 12, 14, 16, 17, 18, 19, 23, 24, 25, 26, 29, 30, 33, 34, 35, 37, 38, 39, 41, 42, 43, 45, 46, 47, 50, 53, 54, 55, 56, 57, 58, 60, 61, 62, 64, 66, 67, 68, 69, 72, 73, 74, 75, 77, 81, 82, 84, 85, 88, 89, 92, 93, 97, 98, 99, 100, 101, 102, 104, 105, 106, 108, 109, 110, 111, 114, 115, 116, 118, 122, 123, 125, 127, 131, 135, 136, 137, 138, 140, 142, 143, 144, 147, 148, 149, 154, 156, 160, 164, 165, 166, 167, 169, 171, 172, 175, 176, 181, 183, 186, 189, 191, 192, 194, 199, 200], 'Problem_156_output_803': [0.0], 'Problem_158_output_728': [1.0, 1, 2, 3, 4, 5, 6, 7, 8, 9, 10, 11, 12, 13, 14, 15, 16, 17, 18, 19, 20, 21, 22, 23, 24, 25, 26, 27, 28, 29, 30, 31, 32, 33, 34, 35, 36, 37, 38, 39, 40, 41, 42, 43, 44, 45, 46, 47, 48, 49, 50, 51, 52, 53, 54, 55, 56, 57, 58, 59, 60, 61, 62, 63, 64, 65, 66, 67, 68, 69, 70, 71, 72, 73, 74, 75, 76, 77, 78, 79, 80, 81, 82, 83, 84, 85, 86, 87, 88, 89, 90, 91, 92, 93, 94, 95, 96, 97, 98, 99, 100, 101, 102, 103, 104, 105, 106, 107, 108, 109, 110, 111, 112, 113, 114, 115, 116, 117, 118, 119, 120, 121, 122, 123, 124, 125, 126, 127, 128, 129, 130, 131, 132, 133, 134, 135, 136, 137, 138, 139, 140, 141, 142, 143, 144, 145, 146, 147, 148, 149, 150, 151, 152, 153, 154, 155, 156, 157, 158, 159, 160, 161, 162, 163, 164, 165, 166, 167, 168, 169, 170, 171, 172, 173, 174, 175, 176, 177, 178, 179, 180, 181, 182, 183, 184, 185, 186, 187, 188, 189, 190, 191, 192, 193, 194, 195, 196, 197, 198, 199, 200], 'Problem_88_output_454': [0.18999999999999995, 2, 6, 15, 22, 49, 52, 59, 65, 71, 87, 94, 96, 102, 107, 113, 121, 126, 132, 134, 138, 141, 146, 152, 153, 157, 161, 163, 167, 170, 174, 179, 180, 184, 187, 188, 192, 195, 198], 'Problem_143_output_688': [0.0], 'Problem_146_output_702': [0.0], 'Problem_76_output_398': [0.0], 'Problem_53_output_296': [0.18999999999999995, 3, 6, 10, 14, 22, 23, 24, 26, 29, 31, 36, 52, 56, 59, 60, 62, 65, 72, 75, 78, 80, 82, 84, 95, 109, 113, 123, 137, 141, 144, 146, 159, 164, 173, 175, 177, 182, 195], 'Problem_26_output_120': [0.0], 'Problem_158_output_723': [0.0], 'Problem_155_output_800': [1.0, 1, 2, 3, 4, 5, 6, 7, 8, 9, 10, 11, 12, 13, 14, 15, 16, 17, 18, 19, 20, 21, 22, 23, 24, 25, 26, 27, 28, 29, 30, 31, 32, 33, 34, 35, 36, 37, 38, 39, 40, 41, 42, 43, 44, 45, 46, 47, 48, 49, 50, 51, 52, 53, 54, 55, 56, 57, 58, 59, 60, 61, 62, 63, 64, 65, 66, 67, 68, 69, 70, 71, 72, 73, 74, 75, 76, 77, 78, 79, 80, 81, 82, 83, 84, 85, 86, 87, 88, 89, 90, 91, 92, 93], 'Problem_59_output_330': [0.245, 2, 4, 7, 10, 11, 16, 18, 22, 25, 26, 31, 34, 38, 40, 49, 52, 53, 54, 69, 78, 79, 80, 84, 88, 90, 97, 100, 102, 107, 110, 111, 112, 126, 131, 137, 143, 154, 158, 160, 162, 163, 173, 174, 176, 177, 180, 183, 193, 194], 'Problem_23_output_108': [0.16500000000000004, 11, 12, 18, 26, 37, 39, 41, 42, 43, 48, 58, 61, 70, 71, 72, 76, 80, 85, 91, 97, 101, 106, 107, 108, 110, 111, 112, 113, 116, 139, 150, 174, 178], 'Problem_94_output_486': [0.0], 'Problem_56_output_311': [0.015000000000000013, 2, 3, 11], 'Problem_30_output_136': [0.585, 2, 4, 6, 7, 10, 12, 13, 15, 17, 18, 21, 22, 25, 27, 31, 32, 35, 37, 39, 43, 45, 48, 50, 51, 52, 59, 60, 61, 63, 64, 65, 66, 67, 70, 71, 72, 73, 74, 76, 78, 81, 82, 83, 85, 87, 88, 90, 91, 95, 97, 98, 99, 100, 102, 103, 107, 108, 109, 111, 112, 113, 115, 116, 117, 118, 119, 120, 121, 122, 123, 124, 125, 126, 127, 128, 130, 135, 137, 139, 141, 142, 143, 144, 145, 146, 147, 148, 150, 153, 155, 157, 158, 159, 160, 162, 164, 165, 166, 168, 169, 170, 171, 172, 174, 176, 178, 184, 185, 189, 190, 192, 193, 194, 195, 196, 197, 198], 'Problem_44_output_160': [0.0], 'Problem_10_output_29': [0.0], 'Problem_153_output_787': [0.0], 'Problem_23_output_109': [0.65, 1, 2, 3, 4, 5, 7, 8, 9, 10, 11, 12, 13, 14, 15, 16, 17, 18, 20, 21, 22, 23, 24, 25, 26, 28, 29, 30, 31, 32, 33, 34, 35, 36, 37, 38, 39, 40, 41, 42, 43, 44, 45, 46, 47, 48, 49, 50, 51, 52, 53, 55, 56, 57, 58, 59, 60, 61, 62, 63, 64, 65, 66, 67, 68, 69, 70, 71, 72, 73, 74, 75, 76, 77, 78, 79, 80, 81, 82, 83, 85, 86, 87, 88, 89, 90, 91, 92, 93, 94, 95, 96, 97, 98, 99, 101, 102, 103, 104, 105, 106, 107, 108, 109, 110, 111, 112, 113, 114, 116, 117, 118, 119, 122, 126, 129, 139, 142, 150, 152, 170, 174, 177, 178, 179, 180, 183, 184, 187, 189, 194], 'Problem_152_output_779': [0.9885057471264368, 1, 2, 3, 4, 5, 6, 7, 8, 9, 10, 11, 12, 13, 14, 15, 16, 17, 18, 19, 20, 21, 22, 23, 24, 25, 26, 27, 28, 29, 30, 31, 32, 33, 34, 35, 36, 37, 38, 39, 40, 41, 42, 43, 44, 45, 46, 47, 48, 49, 50, 51, 52, 53, 54, 55, 56, 57, 58, 59, 60, 61, 62, 63, 64, 65, 66, 67, 68, 69, 70, 71, 72, 73, 74, 76, 77, 78, 79, 80, 81, 83, 84, 85, 86, 87, 88, 89, 90, 91, 92, 93, 94, 95, 96, 97, 98, 99, 100, 101, 102, 103, 104, 105, 106, 107, 108, 109, 110, 111, 112, 113, 114, 115, 116, 117, 118, 119, 120, 121, 122, 123, 124, 125, 126, 127, 128, 129, 130, 131, 132, 133, 134, 135, 136, 137, 138, 139, 140, 141, 142, 143, 144, 145, 146, 147, 148, 149, 150, 151, 152, 153, 154, 155, 156, 157, 158, 159, 160, 161, 162, 163, 164, 165, 166, 167, 168, 169, 170, 171, 172, 173, 174], 'Problem_98_output_503': [0.525, 1, 4, 5, 7, 8, 9, 11, 13, 14, 15, 18, 23, 25, 28, 31, 32, 35, 36, 38, 40, 41, 42, 45, 46, 47, 49, 50, 52, 53, 54, 56, 57, 60, 61, 62, 63, 71, 73, 74, 75, 79, 80, 82, 83, 84, 85, 87, 88, 90, 91, 92, 93, 95, 97, 98, 99, 100, 101, 104, 105, 106, 107, 108, 109, 110, 113, 114, 115, 116, 117, 125, 130, 131, 136, 139, 143, 146, 153, 155, 158, 160, 161, 162, 163, 165, 168, 170, 172, 174, 175, 178, 179, 181, 182, 184, 186, 187, 190, 192, 193, 194, 195, 196, 198, 200], 'Problem_16_output_66': [1.0, 1, 2, 3, 4, 5, 6, 7, 8, 9, 10, 11, 12, 13, 14, 15, 16, 17, 18, 19, 20, 21, 22, 23, 24, 25, 26, 27, 28, 29, 30, 31, 32, 33, 34, 35, 36, 37, 38, 39, 40, 41, 42, 43, 44, 45, 46, 47, 48, 49, 50, 51, 52, 53, 54, 55, 56, 57, 58, 59, 60, 61, 62, 63, 64, 65, 66, 67, 68, 69, 70, 71, 72, 73, 74, 75, 76, 77, 78, 79, 80, 81, 82, 83, 84, 85, 86, 87, 88, 89, 90, 91, 92, 93, 94, 95, 96, 97, 98, 99, 100, 101, 102, 103, 104, 105, 106, 107, 108, 109, 110, 111, 112, 113, 114, 115, 116, 117, 118, 119, 120, 121, 122, 123, 124, 125, 126, 127, 128, 129, 130, 131, 132, 133, 134, 135, 136, 137, 138, 139, 140, 141, 142, 143, 144, 145, 146, 147, 148, 149, 150, 151, 152, 153, 154, 155, 156, 157, 158, 159, 160, 161, 162, 163, 164, 165, 166, 167, 168, 169, 170, 171, 172, 173, 174, 175, 176, 177, 178, 179, 180, 181, 182, 183, 184, 185, 186, 187, 188, 189, 190, 191, 192, 193, 194, 195, 196, 197, 198, 199, 200], 'Problem_45_output_167': [0.0], 'Problem_21_output_96': [0.8200000000000001, 1, 3, 4, 5, 6, 7, 8, 9, 10, 11, 12, 13, 14, 15, 16, 17, 18, 19, 20, 21, 22, 23, 24, 25, 26, 27, 28, 29, 30, 31, 32, 33, 34, 35, 36, 37, 38, 39, 40, 41, 42, 43, 44, 45, 46, 47, 48, 49, 50, 51, 52, 53, 54, 55, 56, 57, 58, 59, 60, 61, 62, 63, 64, 65, 66, 67, 68, 69, 70, 71, 72, 73, 74, 75, 76, 77, 78, 79, 80, 81, 82, 83, 84, 85, 86, 87, 88, 89, 90, 91, 92, 93, 94, 95, 96, 97, 98, 99, 100, 101, 102, 103, 104, 105, 106, 107, 108, 109, 110, 111, 112, 113, 114, 115, 116, 117, 118, 119, 120, 121, 122, 123, 124, 125, 126, 127, 128, 129, 130, 131, 132, 133, 134, 135, 136, 137, 138, 139, 140, 141, 142, 143, 144, 145, 146, 147, 148, 149, 150, 151, 152, 153, 154, 155, 156, 157, 160, 168, 172, 173, 177, 184, 192, 200], 'Problem_162_output_855': [1.0, 1, 2, 3, 4, 5, 6, 7, 8, 9, 10, 11, 12, 13, 14, 15, 16, 17, 18, 19, 20, 21, 22, 23, 24, 25, 26, 27, 28, 29, 30, 31, 32, 33, 34, 35, 36, 37, 38, 39, 40, 41, 42, 43, 44, 45, 46, 47, 48, 49, 50, 51, 52, 53, 54, 55, 56, 57, 58, 59, 60, 61, 62, 63, 64, 65, 66, 67, 68, 69, 70, 71, 72, 73, 74, 75, 76, 77, 78, 79, 80, 81, 82, 83, 84, 85, 86, 87, 88, 89, 90, 91, 92, 93, 94, 95, 96, 97, 98, 99, 100, 101, 102, 103, 104, 105, 106, 107, 108, 109, 110, 111, 112, 113, 114, 115, 116, 117, 118, 119, 120, 121, 122, 123, 124, 125, 126, 127, 128, 129, 130, 131, 132, 133, 134, 135, 136, 137, 138, 139, 140, 141, 142, 143, 144, 145, 146, 147, 148, 149, 150, 151, 152, 153, 154, 155, 156, 157, 158, 159, 160, 161, 162, 163, 164, 165, 166, 167, 168, 169, 170, 171, 172, 173, 174, 175, 176, 177, 178, 179, 180, 181, 182, 183, 184, 185, 186, 187, 188, 189, 190, 191, 192, 193, 194, 195, 196, 197, 198, 199, 200], 'Problem_32_output_146': [0.30500000000000005, 2, 3, 7, 9, 10, 11, 14, 15, 18, 19, 21, 23, 24, 25, 31, 32, 33, 34, 35, 36, 62, 64, 65, 67, 69, 71, 73, 79, 80, 81, 82, 83, 108, 110, 112, 114, 117, 119, 125, 126, 128, 129, 130, 138, 139, 151, 155, 158, 159, 163, 169, 170, 172, 174, 182, 183, 190, 192, 193, 198, 200], 'Problem_33_output_187': [0.18000000000000005, 2, 76, 80, 85, 89, 94, 100, 106, 109, 112, 115, 118, 121, 124, 127, 130, 133, 136, 139, 142, 145, 147, 149, 152, 154, 157, 159, 161, 163, 165, 167, 169, 171, 173, 175, 177], 'Problem_161_output_750': [0.0], 'Problem_35_output_193': [0.5449999999999999, 2, 7, 8, 9, 10, 11, 12, 13, 14, 15, 16, 17, 18, 20, 23, 24, 25, 26, 27, 28, 29, 30, 31, 32, 33, 34, 35, 36, 37, 38, 39, 40, 41, 42, 43, 45, 49, 54, 56, 58, 60, 61, 62, 63, 64, 65, 66, 67, 68, 69, 70, 71, 72, 73, 74, 75, 76, 77, 78, 79, 80, 81, 82, 83, 84, 85, 86, 87, 88, 116, 119, 125, 128, 131, 135, 137, 138, 139, 140, 141, 142, 143, 144, 145, 146, 147, 148, 149, 150, 151, 152, 153, 154, 155, 156, 157, 158, 159, 160, 161, 162, 163, 164, 165, 166, 167, 168, 196, 198], 'Problem_100_output_526': [1.0, 1, 2, 3, 4, 5, 6, 7, 8, 9, 10, 11, 12, 13, 14, 15, 16, 17, 18, 19, 20, 21, 22, 23, 24, 25, 26, 27, 28, 29, 30, 31, 32, 33, 34, 35, 36, 37, 38, 39, 40, 41, 42, 43, 44, 45, 46, 47, 48, 49, 50, 51, 52, 53, 54, 55, 56, 57, 58, 59, 60, 61, 62, 63, 64, 65, 66, 67, 68, 69, 70, 71, 72, 73, 74, 75, 76, 77, 78, 79, 80, 81, 82, 83, 84, 85, 86, 87, 88, 89, 90, 91, 92, 93, 94, 95, 96, 97, 98, 99, 100, 101, 102, 103, 104, 105, 106, 107, 108, 109, 110, 111, 112, 113, 114, 115, 116, 117, 118, 119, 120, 121, 122, 123, 124, 125, 126, 127, 128, 129, 130, 131, 132, 133, 134, 135, 136, 137, 138, 139, 140, 141, 142, 143, 144, 145, 146, 147, 148, 149, 150, 151, 152, 153, 154, 155, 156, 157, 158, 159, 160, 161, 162, 163, 164, 165, 166, 167, 168, 169, 170, 171, 172, 173, 174, 175, 176, 177, 178, 179, 180, 181, 182, 183, 184, 185, 186, 187, 188, 189, 190, 191, 192, 193, 194, 195, 196, 197, 198, 199, 200], 'Problem_109_output_565': [0.855, 1, 2, 7, 8, 9, 11, 12, 13, 14, 15, 16, 17, 18, 19, 20, 21, 22, 23, 24, 25, 26, 27, 28, 29, 30, 31, 32, 33, 34, 35, 37, 38, 39, 40, 41, 42, 43, 46, 47, 48, 49, 50, 51, 52, 53, 54, 55, 56, 57, 58, 59, 60, 61, 63, 64, 65, 66, 67, 68, 69, 70, 71, 72, 73, 74, 75, 76, 77, 78, 79, 80, 81, 82, 83, 84, 85, 86, 89, 90, 91, 92, 93, 94, 95, 96, 97, 98, 99, 100, 101, 102, 103, 104, 105, 106, 107, 108, 109, 110, 111, 113, 114, 115, 116, 117, 118, 119, 120, 121, 122, 123, 125, 127, 128, 129, 130, 131, 132, 133, 134, 135, 136, 139, 142, 143, 144, 145, 146, 147, 149, 150, 152, 153, 154, 155, 156, 157, 158, 159, 160, 162, 163, 165, 167, 168, 169, 170, 171, 172, 173, 174, 175, 176, 177, 178, 179, 180, 181, 182, 183, 185, 186, 188, 189, 193, 194, 195, 196, 198, 199, 200], 'Problem_61_output_340': [0.0], 'Problem_59_output_329': [0.31999999999999995, 3, 4, 17, 19, 20, 29, 30, 32, 36, 37, 42, 43, 44, 46, 50, 51, 55, 58, 59, 60, 62, 63, 64, 68, 70, 71, 81, 86, 87, 93, 94, 95, 99, 103, 108, 109, 114, 116, 117, 120, 127, 133, 134, 135, 137, 138, 142, 144, 146, 151, 153, 164, 170, 171, 172, 178, 182, 183, 185, 187, 188, 189, 197, 198], 'Problem_53_output_297': [0.9, 1, 2, 3, 4, 7, 8, 9, 10, 11, 13, 14, 15, 16, 17, 18, 19, 20, 21, 23, 24, 25, 26, 27, 28, 29, 30, 32, 33, 34, 36, 37, 38, 39, 40, 41, 42, 43, 44, 45, 46, 47, 48, 49, 50, 51, 52, 53, 54, 55, 57, 58, 59, 60, 61, 62, 63, 65, 66, 67, 68, 69, 70, 71, 72, 74, 75, 77, 78, 80, 81, 82, 83, 84, 85, 86, 87, 88, 89, 90, 91, 93, 94, 95, 96, 97, 98, 99, 100, 101, 102, 104, 105, 106, 107, 108, 109, 110, 112, 113, 114, 116, 117, 118, 119, 120, 122, 123, 124, 125, 126, 127, 128, 129, 130, 131, 132, 133, 134, 135, 136, 137, 138, 139, 140, 141, 142, 143, 144, 145, 146, 147, 149, 150, 151, 152, 153, 155, 156, 157, 158, 159, 160, 161, 162, 163, 164, 165, 166, 167, 168, 169, 170, 171, 172, 173, 175, 177, 178, 179, 180, 181, 182, 183, 184, 185, 186, 187, 188, 189, 190, 191, 192, 193, 194, 195, 196, 197, 198, 199, 200], 'Problem_57_output_316': [0.0], 'Problem_88_output_472': [0.54, 1, 3, 4, 5, 7, 8, 9, 10, 11, 12, 14, 16, 17, 18, 19, 23, 24, 25, 26, 29, 30, 33, 34, 35, 37, 38, 39, 41, 42, 43, 45, 46, 47, 50, 53, 54, 55, 56, 57, 58, 60, 61, 62, 64, 66, 67, 68, 69, 72, 73, 74, 75, 77, 81, 82, 84, 85, 88, 89, 92, 93, 97, 98, 99, 100, 101, 104, 105, 106, 108, 109, 110, 111, 114, 115, 116, 118, 122, 123, 125, 127, 131, 135, 136, 137, 140, 142, 143, 144, 147, 149, 154, 156, 160, 164, 165, 166, 169, 171, 172, 176, 181, 183, 186, 189, 191, 194, 200], 'Problem_154_output_794': [0.22499999999999998, 1, 3, 4, 5, 7, 8, 9, 10, 11, 12, 13, 14, 15, 16, 17, 18, 19, 20, 21, 22, 23, 24, 27, 28, 31, 33, 34, 38, 43, 144, 146, 149, 150, 152, 153, 154, 157, 158, 159, 160, 164, 165, 168, 172, 175], 'Problem_124_output_613': [0.0], 'Problem_75_output_388': [0.18500000000000005, 2, 4, 9, 12, 13, 17, 21, 25, 27, 28, 31, 33, 49, 52, 55, 58, 66, 67, 68, 71, 78, 82, 92, 95, 99, 122, 138, 140, 141, 142, 143, 145, 149, 153, 163, 173, 196], 'Problem_162_output_854': [0.0], 'Problem_62_output_349': [0.0], 'Problem_65_output_277': [1.0, 1, 2, 3, 4, 5, 6, 7, 8, 9, 10, 11, 12, 13, 14, 15, 16, 17, 18, 19, 20, 21, 22, 23, 24, 25, 26, 27, 28, 29, 30, 31, 32, 33, 34, 35, 36, 37, 38, 39, 40, 41, 42, 43, 44, 45, 46, 47, 48, 49, 50, 51, 52, 53, 54, 55, 56, 57, 58, 59, 60, 61, 62, 63, 64, 65, 66, 67, 68, 69, 70, 71, 72, 73, 74, 75, 76, 77, 78, 79, 80, 81, 82, 83, 84, 85, 86, 87, 88, 89, 90, 91, 92, 93, 94, 95, 96, 97, 98, 99, 100, 101, 102, 103, 104, 105, 106, 107, 108, 109, 110, 111, 112, 113, 114, 115, 116, 117, 118, 119, 120, 121, 122, 123, 124, 125, 126, 127, 128, 129, 130, 131, 132, 133, 134, 135, 136, 137, 138, 139, 140, 141, 142, 143, 144, 145, 146, 147, 148, 149, 150, 151, 152, 153, 154, 155, 156, 157, 158, 159, 160, 161, 162, 163, 164, 165, 166, 167, 168, 169, 170, 171, 172, 173, 174, 175, 176, 177, 178, 179, 180, 181, 182, 183, 184, 185, 186, 187, 188, 189, 190, 191, 192, 193, 194, 195, 196, 197, 198, 199, 200], 'Problem_160_output_844': [1.0, 1, 2, 3, 4, 5, 6, 7, 8, 9, 10, 11, 12, 13, 14, 15, 16, 17, 18, 19, 20, 21, 22, 23, 24, 25, 26, 27, 28, 29, 30, 31, 32, 33, 34, 35, 36, 37, 38, 39, 40, 41, 42, 43, 44, 45, 46, 47, 48, 49, 50, 51, 52, 53, 54, 55, 56, 57, 58, 59, 60, 61, 62, 63, 64, 65, 66, 67, 68, 69, 70, 71, 72, 73, 74, 75, 76, 77, 78, 79, 80, 81, 82, 83, 84, 85, 86, 87, 88, 89, 90, 91, 92, 93, 94, 95, 96, 97, 98, 99, 100, 101, 102, 103, 104, 105, 106, 107, 108, 109, 110, 111, 112, 113, 114, 115, 116, 117, 118, 119, 120, 121, 122, 123, 124, 125, 126, 127, 128, 129, 130, 131, 132, 133, 134, 135, 136, 137, 138, 139, 140, 141, 142, 143, 144, 145, 146, 147, 148, 149, 150, 151, 152, 153, 154, 155, 156, 157, 158, 159, 160, 161, 162, 163, 164, 165, 166, 167, 168, 169, 170, 171, 172, 173, 174, 175, 176, 177, 178, 179, 180, 181, 182, 183, 184, 185, 186, 187, 188, 189, 190, 191, 192, 193, 194, 195, 196, 197, 198, 199, 200], 'Problem_160_output_740': [0.605, 1, 2, 3, 4, 7, 8, 9, 10, 11, 13, 14, 18, 19, 20, 21, 23, 24, 25, 26, 27, 28, 29, 30, 36, 38, 41, 44, 45, 46, 47, 49, 51, 52, 53, 55, 56, 57, 58, 59, 60, 62, 63, 64, 69, 70, 71, 72, 76, 78, 79, 81, 89, 90, 91, 92, 93, 94, 95, 96, 97, 98, 101, 102, 104, 106, 107, 112, 113, 115, 116, 117, 119, 121, 123, 124, 125, 126, 127, 129, 132, 137, 139, 140, 141, 142, 143, 146, 148, 149, 150, 152, 153, 159, 160, 162, 163, 165, 166, 167, 168, 170, 171, 172, 173, 174, 175, 177, 178, 179, 181, 185, 186, 187, 188, 190, 191, 195, 196, 197, 198, 200], 'Problem_6_output_13': [0.0], 'Problem_42_output_159': [0.8888888888888888, 1, 2, 3, 4, 5, 6, 7, 8, 9, 12, 13, 14, 15, 16, 17, 18, 19, 20, 21, 22, 23, 24, 25, 26, 27, 28, 29, 30, 31, 32, 35, 36, 38, 39, 40, 41, 42, 43, 44, 45, 46, 47, 48, 49, 51, 52, 53, 54, 55, 56, 58, 59, 60, 61, 62, 63, 64, 65, 66, 67, 69, 70, 71, 72, 73, 74, 75, 76, 78, 79, 80, 81], 'Problem_79_output_418': [1.0, 1, 2, 3, 4, 5, 6, 7, 8, 9, 10, 11, 12, 13, 14, 15, 16, 17, 18, 19, 20, 21, 22, 23, 24, 25, 26, 27, 28, 29, 30, 31, 32, 33, 34, 35, 36, 37, 38, 39, 40, 41, 42, 43, 44, 45, 46, 47, 48, 49, 50, 51, 52, 53, 54, 55, 56, 57, 58, 59, 60, 61, 62, 63, 64, 65, 66, 67, 68, 69, 70, 71, 72, 73, 74, 75, 76, 77, 78, 79, 80, 81, 82, 83, 84, 85, 86, 87, 88, 89, 90, 91, 92, 93, 94, 95, 96, 97, 98, 99, 100, 101, 102, 103, 104, 105, 106, 107, 108, 109, 110, 111, 112, 113, 114, 115, 116, 117, 118, 119, 120, 121, 122, 123, 124, 125, 126, 127, 128, 129, 130, 131, 132, 133, 134, 135, 136, 137, 138, 139, 140, 141, 142, 143, 144, 145, 146, 147, 148, 149, 150, 151, 152, 153, 154, 155, 156, 157, 158, 159, 160, 161, 162, 163, 164, 165, 166, 167, 168, 169, 170, 171, 172, 173, 174, 175, 176, 177, 178, 179, 180, 181, 182, 183, 184, 185, 186, 187, 188, 189, 190, 191, 192, 193, 194, 195, 196, 197, 198, 199, 200], 'Problem_105_output_539': [0.050000000000000044, 29, 37, 108, 129, 132, 145, 153, 175, 194, 200], 'Problem_11_output_32': [0.0050000000000000044, 2], 'Problem_6_output_14': [0.0], 'Problem_101_output_528': [0.48, 2, 3, 4, 5, 9, 10, 12, 13, 14, 15, 16, 17, 18, 19, 20, 21, 23, 24, 25, 26, 28, 29, 30, 31, 32, 33, 35, 36, 37, 38, 39, 40, 42, 43, 72, 77, 80, 83, 84, 85, 86, 87, 88, 89, 90, 91, 109, 111, 114, 116, 117, 118, 119, 120, 121, 122, 123, 124, 125, 127, 131, 142, 144, 145, 146, 147, 149, 150, 153, 155, 157, 161, 165, 166, 167, 168, 169, 170, 173, 175, 177, 178, 179, 180, 182, 184, 185, 186, 187, 188, 190, 192, 193, 194, 198, 199], 'Problem_119_output_602': [0.745, 1, 8, 9, 14, 16, 17, 18, 22, 23, 24, 25, 26, 28, 31, 33, 34, 38, 39, 40, 41, 42, 43, 46, 47, 48, 49, 50, 52, 53, 54, 55, 56, 57, 58, 59, 60, 61, 63, 64, 65, 66, 67, 68, 69, 70, 71, 72, 73, 74, 75, 76, 77, 78, 79, 80, 81, 82, 83, 84, 87, 88, 91, 92, 94, 95, 96, 97, 98, 99, 100, 101, 102, 103, 104, 107, 109, 110, 111, 112, 114, 115, 116, 117, 119, 120, 121, 122, 123, 124, 125, 126, 128, 129, 130, 131, 132, 133, 134, 135, 136, 137, 138, 140, 141, 142, 143, 144, 145, 146, 149, 151, 152, 154, 155, 156, 157, 158, 159, 161, 162, 163, 166, 167, 168, 169, 171, 172, 175, 176, 177, 178, 180, 181, 182, 183, 184, 185, 186, 187, 188, 189, 191, 192, 193, 195, 196, 198, 199, 200], 'Problem_39_output_217': [1.0, 1, 2, 3, 4, 5, 6, 7, 8, 9, 10, 11, 12, 13, 14, 15, 16, 17, 18, 19, 20, 21, 22, 23, 24, 25, 26, 27, 28, 29, 30, 31, 32, 33, 34, 35, 36, 37, 38, 39, 40, 41, 42, 43, 44, 45, 46, 47, 48, 49, 50, 51, 52, 53, 54, 55, 56, 57, 58, 59, 60, 61, 62, 63, 64, 65, 66, 67, 68, 69, 70, 71, 72, 73, 74, 75, 76, 77, 78, 79, 80, 81, 82, 83, 84, 85, 86, 87, 88, 89, 90, 91, 92, 93, 94, 95, 96, 97, 98, 99, 100, 101, 102, 103, 104, 105, 106, 107, 108, 109, 110, 111, 112, 113, 114, 115, 116, 117, 118, 119, 120, 121, 122, 123, 124, 125, 126, 127, 128, 129, 130, 131, 132, 133, 134, 135, 136, 137, 138, 139, 140, 141, 142, 143, 144, 145, 146, 147, 148, 149, 150, 151, 152, 153, 154, 155, 156, 157, 158, 159, 160, 161, 162, 163, 164, 165, 166, 167, 168, 169, 170, 171, 172, 173, 174, 175, 176, 177, 178, 179, 180, 181, 182, 183, 184, 185, 186, 187, 188, 189, 190, 191, 192, 193, 194, 195, 196, 197, 198, 199, 200], 'Problem_103_output_533': [0.84, 1, 2, 3, 4, 5, 6, 7, 8, 9, 10, 11, 12, 13, 14, 15, 16, 17, 18, 19, 20, 21, 22, 23, 24, 25, 26, 27, 28, 29, 30, 31, 32, 33, 34, 35, 36, 37, 39, 40, 41, 42, 43, 44, 46, 47, 48, 49, 50, 51, 52, 53, 54, 55, 56, 57, 58, 60, 61, 63, 65, 68, 70, 71, 72, 73, 74, 75, 76, 77, 78, 79, 80, 82, 83, 84, 86, 87, 88, 89, 90, 91, 92, 94, 97, 99, 100, 101, 102, 103, 104, 105, 106, 107, 108, 111, 113, 114, 115, 116, 117, 119, 120, 121, 123, 126, 127, 128, 129, 130, 132, 133, 134, 135, 136, 138, 139, 140, 142, 143, 145, 146, 147, 148, 149, 151, 152, 153, 154, 155, 156, 157, 158, 159, 160, 162, 163, 164, 167, 168, 169, 170, 171, 172, 173, 174, 175, 176, 178, 179, 181, 182, 183, 184, 186, 187, 188, 189, 190, 191, 192, 193, 194, 195, 196, 197, 198, 199, 200], 'Problem_160_output_843': [0.605, 1, 2, 3, 4, 7, 8, 9, 10, 11, 13, 14, 18, 19, 20, 21, 23, 24, 25, 26, 27, 28, 29, 30, 36, 38, 41, 44, 45, 46, 47, 49, 51, 52, 53, 55, 56, 57, 58, 59, 60, 62, 63, 64, 69, 70, 71, 72, 76, 78, 79, 81, 89, 90, 91, 92, 93, 94, 95, 96, 97, 98, 101, 102, 104, 106, 107, 112, 113, 115, 116, 117, 119, 121, 123, 124, 125, 126, 127, 129, 132, 137, 139, 140, 141, 142, 143, 146, 148, 149, 150, 152, 153, 159, 160, 162, 163, 165, 166, 167, 168, 170, 171, 172, 173, 174, 175, 177, 178, 179, 181, 185, 186, 187, 188, 190, 191, 195, 196, 197, 198, 200], 'Problem_104_output_535': [1.0, 1, 2, 3, 4, 5, 6, 7, 8, 9, 10, 11, 12, 13, 14, 15, 16, 17, 18, 19, 20, 21, 22, 23, 24, 25, 26, 27, 28, 29, 30, 31, 32, 33, 34, 35, 36, 37, 38, 39, 40, 41, 42, 43, 44, 45, 46, 47, 48, 49, 50, 51, 52, 53, 54, 55, 56, 57, 58, 59, 60, 61, 62, 63, 64, 65, 66, 67, 68, 69, 70, 71, 72, 73, 74, 75, 76, 77, 78, 79, 80, 81, 82, 83, 84, 85, 86, 87, 88, 89, 90, 91, 92, 93, 94, 95, 96, 97, 98, 99, 100, 101, 102, 103, 104, 105, 106, 107, 108, 109, 110, 111, 112, 113, 114, 115, 116, 117, 118, 119, 120, 121, 122, 123, 124, 125, 126, 127, 128, 129, 130, 131, 132, 133, 134, 135, 136, 137, 138, 139, 140, 141, 142, 143, 144, 145, 146, 147, 148, 149, 150, 151, 152, 153, 154, 155, 156, 157, 158, 159, 160, 161, 162, 163, 164, 165, 166, 167, 168, 169, 170, 171, 172, 173, 174, 175, 176, 177, 178, 179, 180, 181, 182, 183, 184, 185, 186, 187, 188, 189, 190, 191, 192, 193, 194, 195, 196, 197, 198, 199, 200], 'Problem_154_output_792': [1.0, 1, 2, 3, 4, 5, 6, 7, 8, 9, 10, 11, 12, 13, 14, 15, 16, 17, 18, 19, 20, 21, 22, 23, 24, 25, 26, 27, 28, 29, 30, 31, 32, 33, 34, 35, 36, 37, 38, 39, 40, 41, 42, 43, 44, 45, 46, 47, 48, 49, 50, 51, 52, 53, 54, 55, 56, 57, 58, 59, 60, 61, 62, 63, 64, 65, 66, 67, 68, 69, 70, 71, 72, 73, 74, 75, 76, 77, 78, 79, 80, 81, 82, 83, 84, 85, 86, 87, 88, 89, 90, 91, 92, 93, 94, 95, 96, 97, 98, 99, 100, 101, 102, 103, 104, 105, 106, 107, 108, 109, 110, 111, 112, 113, 114, 115, 116, 117, 118, 119, 120, 121, 122, 123, 124, 125, 126, 127, 128, 129, 130, 131, 132, 133, 134, 135, 136, 137, 138, 139, 140, 141, 142, 143, 144, 145, 146, 147, 148, 149, 150, 151, 152, 153, 154, 155, 156, 157, 158, 159, 160, 161, 162, 163, 164, 165, 166, 167, 168, 169, 170, 171, 172, 173, 174, 175, 176, 177, 178, 179, 180, 181, 182, 183, 184, 185, 186, 187, 188, 189, 190, 191, 192, 193, 194, 195, 196, 197, 198, 199, 200], 'Problem_61_output_264': [0.0], 'Problem_40_output_222': [0.735, 2, 4, 16, 17, 18, 19, 20, 21, 22, 24, 25, 26, 27, 28, 29, 30, 31, 32, 33, 34, 35, 36, 37, 38, 39, 40, 41, 42, 43, 44, 45, 46, 47, 49, 51, 52, 53, 55, 56, 57, 58, 59, 60, 62, 63, 65, 66, 67, 70, 71, 73, 75, 76, 77, 78, 79, 80, 82, 83, 84, 85, 87, 88, 89, 90, 91, 92, 93, 94, 96, 98, 100, 102, 103, 105, 106, 107, 108, 109, 110, 111, 112, 113, 114, 115, 116, 119, 121, 122, 124, 125, 127, 128, 129, 131, 133, 134, 135, 136, 137, 138, 140, 141, 142, 143, 144, 145, 146, 147, 148, 149, 150, 151, 153, 154, 155, 156, 158, 163, 164, 165, 166, 167, 168, 169, 170, 172, 174, 176, 177, 178, 180, 181, 182, 183, 184, 185, 186, 190, 192, 193, 194, 195, 197, 198, 199, 200], 'Problem_96_output_495': [1.0, 1, 2, 3, 4, 5, 6, 7, 8, 9, 10, 11, 12, 13, 14, 15, 16, 17, 18, 19, 20, 21, 22, 23, 24, 25, 26, 27, 28, 29, 30, 31, 32, 33, 34, 35, 36, 37, 38, 39, 40, 41, 42, 43, 44, 45, 46, 47, 48, 49, 50, 51, 52, 53, 54, 55, 56, 57, 58, 59, 60, 61, 62, 63, 64, 65, 66, 67, 68, 69, 70, 71, 72, 73, 74, 75, 76, 77, 78, 79, 80, 81, 82, 83, 84, 85, 86, 87, 88, 89, 90, 91, 92, 93, 94, 95, 96, 97, 98, 99, 100, 101, 102, 103, 104, 105, 106, 107, 108, 109, 110, 111, 112, 113, 114, 115, 116, 117, 118, 119, 120, 121, 122, 123, 124, 125, 126, 127, 128, 129, 130, 131, 132, 133, 134, 135, 136, 137, 138, 139, 140, 141, 142, 143, 144, 145, 146, 147, 148, 149, 150, 151, 152, 153, 154, 155, 156, 157, 158, 159, 160, 161, 162, 163, 164, 165, 166, 167, 168, 169, 170, 171, 172, 173, 174, 175, 176, 177, 178, 179, 180, 181, 182, 183, 184, 185, 186, 187, 188, 189, 190, 191, 192, 193, 194, 195, 196, 197, 198, 199, 200], 'Problem_57_output_314': [0.05500000000000005, 5, 25, 43, 57, 78, 79, 90, 91, 103, 114, 179], 'Problem_65_output_356': [0.0], 'Problem_88_output_466': [0.18999999999999995, 2, 6, 15, 22, 49, 52, 59, 65, 71, 87, 94, 96, 102, 107, 113, 121, 126, 132, 134, 138, 141, 146, 152, 153, 157, 161, 163, 167, 170, 174, 179, 180, 184, 187, 188, 192, 195, 198], 'Problem_159_output_735': [0.03500000000000003, 31, 33, 58, 79, 103, 106, 187], 'Problem_99_output_517': [0.985, 1, 2, 3, 4, 5, 6, 7, 8, 9, 10, 11, 12, 13, 14, 15, 16, 17, 18, 19, 20, 21, 22, 23, 24, 25, 26, 27, 28, 29, 30, 31, 32, 33, 34, 35, 36, 37, 38, 39, 40, 41, 42, 43, 44, 45, 46, 47, 48, 49, 50, 51, 52, 53, 54, 55, 56, 57, 58, 59, 60, 61, 62, 63, 64, 65, 66, 67, 68, 69, 70, 71, 72, 73, 74, 75, 76, 77, 78, 79, 80, 81, 82, 83, 84, 85, 86, 87, 88, 90, 91, 92, 93, 94, 95, 96, 97, 98, 99, 100, 101, 102, 103, 104, 105, 106, 107, 108, 109, 110, 111, 112, 113, 114, 115, 116, 117, 119, 120, 121, 122, 123, 124, 125, 126, 127, 128, 129, 130, 131, 132, 133, 134, 135, 136, 137, 138, 139, 140, 141, 142, 143, 144, 145, 147, 148, 149, 150, 151, 152, 153, 154, 155, 156, 157, 158, 159, 160, 161, 162, 163, 164, 165, 166, 167, 168, 169, 170, 171, 172, 173, 174, 175, 176, 177, 178, 179, 180, 181, 182, 183, 184, 185, 186, 187, 188, 189, 190, 191, 192, 193, 194, 195, 196, 197, 198, 199, 200], 'Problem_75_output_391': [0.06999999999999995, 2, 66, 67, 68, 69, 70, 71, 138, 140, 141, 142, 143, 145, 196], 'Problem_134_output_638': [0.915, 1, 2, 3, 4, 5, 6, 7, 8, 9, 10, 11, 12, 13, 14, 15, 16, 17, 19, 20, 21, 22, 23, 24, 25, 26, 28, 31, 32, 33, 34, 35, 36, 37, 38, 40, 41, 42, 44, 45, 46, 48, 49, 50, 51, 52, 54, 55, 56, 57, 58, 60, 61, 63, 64, 65, 66, 67, 69, 72, 73, 74, 75, 76, 78, 79, 80, 81, 82, 83, 84, 85, 86, 87, 88, 89, 90, 91, 93, 94, 96, 97, 98, 99, 100, 101, 102, 103, 104, 105, 106, 107, 108, 109, 110, 111, 112, 113, 114, 115, 116, 117, 118, 119, 120, 121, 122, 123, 124, 125, 126, 127, 128, 129, 130, 131, 132, 133, 134, 135, 136, 137, 138, 139, 140, 141, 142, 143, 144, 145, 146, 147, 149, 150, 151, 152, 153, 154, 155, 156, 157, 158, 159, 160, 161, 162, 163, 164, 165, 166, 167, 168, 169, 170, 171, 172, 173, 174, 175, 176, 177, 178, 179, 180, 181, 182, 183, 184, 185, 186, 187, 188, 189, 190, 191, 192, 193, 194, 195, 196, 197, 198, 199, 200], 'Problem_48_output_258': [0.09999999999999998, 11, 13, 28, 41, 44, 66, 78, 91, 100, 113, 117, 118, 138, 159, 161, 170, 179, 185, 192, 194], 'Problem_113_output_574': [0.33499999999999996, 1, 4, 5, 6, 8, 9, 10, 11, 13, 15, 16, 17, 22, 23, 24, 26, 27, 28, 29, 30, 31, 33, 34, 35, 36, 37, 39, 40, 42, 43, 44, 47, 50, 52, 53, 54, 55, 57, 58, 59, 60, 61, 63, 64, 65, 66, 70, 71, 72, 73, 74, 87, 93, 101, 107, 109, 110, 114, 116, 120, 124, 138, 151, 154, 166, 169, 192], 'Problem_146_output_705': [0.0], 'Problem_99_output_523': [1.0, 1, 2, 3, 4, 5, 6, 7, 8, 9, 10, 11, 12, 13, 14, 15, 16, 17, 18, 19, 20, 21, 22, 23, 24, 25, 26, 27, 28, 29, 30, 31, 32, 33, 34, 35, 36, 37, 38, 39, 40, 41, 42, 43, 44, 45, 46, 47, 48, 49, 50, 51, 52, 53, 54, 55, 56, 57, 58, 59, 60, 61, 62, 63, 64, 65, 66, 67, 68, 69, 70, 71, 72, 73, 74, 75, 76, 77, 78, 79, 80, 81, 82, 83, 84, 85, 86, 87, 88, 89, 90, 91, 92, 93, 94, 95, 96, 97, 98, 99, 100, 101, 102, 103, 104, 105, 106, 107, 108, 109, 110, 111, 112, 113, 114, 115, 116, 117, 118, 119, 120, 121, 122, 123, 124, 125, 126, 127, 128, 129, 130, 131, 132, 133, 134, 135, 136, 137, 138, 139, 140, 141, 142, 143, 144, 145, 146, 147, 148, 149, 150, 151, 152, 153, 154, 155, 156, 157, 158, 159, 160, 161, 162, 163, 164, 165, 166, 167, 168, 169, 170, 171, 172, 173, 174, 175, 176, 177, 178, 179, 180, 181, 182, 183, 184, 185, 186, 187, 188, 189, 190, 191, 192, 193, 194, 195, 196, 197, 198, 199, 200], 'Problem_164_output_859': [0.0], 'Problem_99_output_522': [0.6699999999999999, 2, 4, 6, 8, 10, 17, 18, 20, 21, 22, 23, 24, 25, 26, 27, 28, 29, 31, 33, 35, 37, 39, 40, 41, 49, 51, 52, 53, 54, 55, 56, 57, 58, 59, 60, 61, 63, 65, 67, 69, 72, 73, 75, 81, 82, 83, 84, 85, 86, 87, 88, 89, 90, 91, 92, 93, 94, 96, 98, 100, 103, 104, 106, 112, 113, 114, 115, 116, 117, 118, 119, 120, 121, 122, 124, 126, 128, 131, 132, 134, 135, 139, 140, 141, 142, 143, 144, 145, 146, 147, 148, 149, 151, 152, 153, 154, 156, 157, 159, 161, 163, 165, 166, 167, 168, 169, 170, 171, 172, 173, 174, 175, 177, 178, 179, 181, 182, 183, 184, 185, 187, 188, 189, 190, 191, 192, 193, 194, 195, 196, 197, 198, 199, 200], 'Problem_88_output_460': [1.0, 1, 2, 3, 4, 5, 6, 7, 8, 9, 10, 11, 12, 13, 14, 15, 16, 17, 18, 19, 20, 21, 22, 23, 24, 25, 26, 27, 28, 29, 30, 31, 32, 33, 34, 35, 36, 37, 38, 39, 40, 41, 42, 43, 44, 45, 46, 47, 48, 49, 50, 51, 52, 53, 54, 55, 56, 57, 58, 59, 60, 61, 62, 63, 64, 65, 66, 67, 68, 69, 70, 71, 72, 73, 74, 75, 76, 77, 78, 79, 80, 81, 82, 83, 84, 85, 86, 87, 88, 89, 90, 91, 92, 93, 94, 95, 96, 97, 98, 99, 100, 101, 102, 103, 104, 105, 106, 107, 108, 109, 110, 111, 112, 113, 114, 115, 116, 117, 118, 119, 120, 121, 122, 123, 124, 125, 126, 127, 128, 129, 130, 131, 132, 133, 134, 135, 136, 137, 138, 139, 140, 141, 142, 143, 144, 145, 146, 147, 148, 149, 150, 151, 152, 153, 154, 155, 156, 157, 158, 159, 160, 161, 162, 163, 164, 165, 166, 167, 168, 169, 170, 171, 172, 173, 174, 175, 176, 177, 178, 179, 180, 181, 182, 183, 184, 185, 186, 187, 188, 189, 190, 191, 192, 193, 194, 195, 196, 197, 198, 199, 200], 'Problem_106_output_544': [1.0, 1, 2, 3, 4, 5, 6, 7, 8, 9, 10, 11, 12, 13, 14, 15, 16, 17, 18, 19, 20, 21, 22, 23, 24, 25, 26, 27, 28, 29, 30, 31, 32, 33, 34, 35, 36, 37, 38, 39, 40, 41, 42, 43, 44, 45, 46, 47, 48, 49, 50, 51, 52, 53, 54, 55, 56, 57, 58, 59, 60, 61, 62, 63, 64, 65, 66, 67, 68, 69, 70, 71, 72, 73, 74, 75, 76, 77, 78, 79, 80, 81, 82, 83, 84, 85, 86, 87, 88, 89, 90, 91, 92, 93, 94, 95, 96, 97, 98, 99, 100, 101, 102, 103, 104, 105, 106, 107, 108, 109, 110, 111, 112, 113, 114, 115, 116, 117, 118, 119, 120, 121, 122, 123, 124, 125, 126, 127, 128, 129, 130, 131, 132, 133, 134, 135, 136, 137, 138, 139, 140, 141, 142, 143, 144, 145, 146, 147, 148, 149, 150, 151, 152, 153, 154, 155, 156, 157, 158, 159, 160, 161, 162, 163, 164, 165, 166, 167, 168, 169, 170, 171, 172, 173, 174, 175, 176, 177, 178, 179, 180, 181, 182, 183, 184, 185, 186, 187, 188, 189, 190, 191, 192, 193, 194, 195, 196, 197, 198, 199, 200], 'Problem_158_output_724': [0.0], 'Problem_99_output_518': [0.83, 2, 4, 6, 8, 10, 12, 13, 14, 15, 16, 17, 18, 19, 20, 21, 22, 23, 24, 25, 26, 27, 28, 29, 31, 33, 35, 37, 39, 40, 41, 43, 44, 45, 46, 47, 48, 49, 50, 51, 52, 53, 54, 55, 56, 57, 58, 59, 60, 61, 63, 65, 67, 69, 71, 72, 73, 75, 76, 77, 78, 79, 80, 81, 82, 83, 84, 85, 86, 87, 88, 89, 90, 91, 92, 94, 96, 98, 100, 102, 103, 104, 106, 107, 108, 109, 110, 111, 112, 113, 114, 115, 116, 117, 118, 119, 120, 121, 122, 124, 126, 128, 130, 131, 132, 134, 135, 136, 137, 138, 139, 140, 141, 142, 143, 144, 145, 146, 147, 148, 149, 151, 152, 153, 154, 156, 157, 159, 160, 161, 162, 163, 164, 165, 166, 167, 168, 169, 170, 171, 172, 173, 174, 175, 176, 177, 178, 179, 181, 182, 183, 184, 185, 187, 188, 189, 190, 191, 192, 193, 194, 195, 196, 197, 198, 199, 200], 'Problem_105_output_537': [0.0], 'Problem_20_output_88': [0.0], 'Problem_99_output_514': [0.8049999999999999, 2, 4, 6, 8, 11, 12, 13, 14, 16, 17, 18, 19, 20, 21, 22, 23, 24, 25, 26, 27, 28, 29, 31, 33, 35, 37, 39, 41, 42, 43, 44, 45, 47, 48, 49, 50, 51, 52, 53, 54, 55, 56, 57, 58, 59, 60, 61, 62, 63, 65, 66, 67, 68, 69, 70, 71, 73, 74, 75, 76, 77, 79, 80, 81, 82, 83, 84, 85, 86, 87, 88, 89, 90, 91, 92, 94, 96, 97, 98, 99, 100, 101, 102, 104, 105, 106, 107, 108, 110, 111, 112, 113, 114, 115, 116, 117, 118, 119, 120, 122, 124, 126, 127, 128, 129, 130, 132, 133, 134, 135, 137, 138, 139, 140, 141, 142, 144, 145, 146, 149, 151, 152, 153, 154, 155, 156, 157, 158, 159, 160, 161, 162, 163, 164, 165, 166, 167, 168, 170, 173, 175, 177, 178, 179, 180, 181, 182, 183, 184, 185, 186, 187, 188, 189, 190, 191, 192, 193, 195, 198, 200], 'Problem_36_output_202': [0.53, 1, 2, 4, 5, 7, 8, 9, 10, 11, 12, 13, 14, 15, 16, 17, 18, 19, 20, 23, 24, 25, 26, 27, 28, 29, 30, 31, 32, 33, 34, 35, 36, 37, 38, 39, 40, 43, 49, 50, 51, 53, 58, 61, 64, 65, 66, 69, 70, 72, 74, 84, 85, 86, 88, 99, 100, 104, 109, 113, 115, 117, 119, 122, 127, 128, 129, 130, 132, 134, 135, 137, 139, 140, 141, 142, 143, 144, 146, 151, 152, 153, 154, 156, 157, 162, 163, 164, 166, 167, 171, 173, 176, 177, 178, 179, 181, 183, 186, 187, 189, 190, 193, 195, 196, 198, 199], 'Problem_47_output_177': [0.010000000000000009, 136, 151], 'Problem_163_output_756': [0.43000000000000005, 3, 4, 6, 8, 9, 10, 13, 16, 18, 19, 20, 21, 23, 24, 27, 29, 30, 31, 35, 36, 38, 40, 41, 42, 46, 48, 49, 50, 52, 56, 57, 58, 60, 62, 64, 65, 69, 71, 75, 76, 78, 82, 84, 85, 87, 90, 93, 97, 103, 125, 127, 128, 130, 133, 134, 137, 141, 142, 143, 147, 149, 150, 151, 152, 154, 155, 162, 163, 165, 168, 172, 173, 175, 176, 181, 183, 184, 185, 187, 189, 193, 194, 196, 197, 198, 200], 'Problem_61_output_339': [0.0], 'Problem_13_output_51': [0.28, 3, 6, 10, 13, 15, 16, 21, 22, 23, 25, 27, 30, 32, 50, 65, 67, 83, 84, 93, 94, 96, 101, 103, 105, 108, 109, 110, 112, 114, 116, 119, 121, 122, 123, 124, 125, 126, 129, 132, 143, 146, 147, 157, 161, 163, 176, 177, 178, 185, 186, 188, 192, 194, 195, 196, 199], 'Problem_96_output_498': [1.0, 1, 2, 3, 4, 5, 6, 7, 8, 9, 10, 11, 12, 13, 14, 15, 16, 17, 18, 19, 20, 21, 22, 23, 24, 25, 26, 27, 28, 29, 30, 31, 32, 33, 34, 35, 36, 37, 38, 39, 40, 41, 42, 43, 44, 45, 46, 47, 48, 49, 50, 51, 52, 53, 54, 55, 56, 57, 58, 59, 60, 61, 62, 63, 64, 65, 66, 67, 68, 69, 70, 71, 72, 73, 74, 75, 76, 77, 78, 79, 80, 81, 82, 83, 84, 85, 86, 87, 88, 89, 90, 91, 92, 93, 94, 95, 96, 97, 98, 99, 100, 101, 102, 103, 104, 105, 106, 107, 108, 109, 110, 111, 112, 113, 114, 115, 116, 117, 118, 119, 120, 121, 122, 123, 124, 125, 126, 127, 128, 129, 130, 131, 132, 133, 134, 135, 136, 137, 138, 139, 140, 141, 142, 143, 144, 145, 146, 147, 148, 149, 150, 151, 152, 153, 154, 155, 156, 157, 158, 159, 160, 161, 162, 163, 164, 165, 166, 167, 168, 169, 170, 171, 172, 173, 174, 175, 176, 177, 178, 179, 180, 181, 182, 183, 184, 185, 186, 187, 188, 189, 190, 191, 192, 193, 194, 195, 196, 197, 198, 199, 200], 'Problem_99_output_511': [0.665, 2, 4, 6, 8, 11, 12, 13, 14, 15, 16, 17, 18, 19, 20, 21, 22, 23, 24, 25, 31, 33, 35, 37, 39, 42, 43, 44, 45, 46, 47, 48, 49, 50, 51, 52, 53, 54, 55, 56, 57, 61, 62, 63, 65, 66, 67, 69, 71, 74, 75, 76, 77, 78, 79, 80, 81, 82, 83, 84, 85, 86, 87, 88, 89, 92, 94, 96, 97, 98, 99, 100, 102, 105, 106, 107, 108, 109, 110, 111, 112, 113, 115, 116, 118, 120, 122, 124, 126, 127, 128, 133, 134, 135, 136, 137, 138, 139, 141, 143, 144, 145, 146, 149, 151, 152, 153, 154, 158, 159, 160, 162, 163, 164, 165, 169, 170, 173, 175, 177, 178, 179, 180, 181, 182, 184, 185, 186, 188, 190, 194, 195, 198, 200], 'Problem_15_output_58': [0.06499999999999995, 3, 5, 7, 9, 21, 22, 35, 61, 69, 80, 179, 188, 200], 'Problem_48_output_255': [0.0], 'Problem_79_output_357': [1.0, 1, 2, 3, 4, 5, 6, 7, 8, 9, 10, 11, 12, 13, 14, 15, 16, 17, 18, 19, 20, 21, 22, 23, 24, 25, 26, 27, 28, 29, 30, 31, 32, 33, 34, 35, 36, 37, 38, 39, 40, 41, 42, 43, 44, 45, 46, 47, 48, 49, 50, 51, 52, 53, 54, 55, 56, 57, 58, 59, 60, 61, 62, 63, 64, 65, 66, 67, 68, 69, 70, 71, 72, 73, 74, 75, 76, 77, 78, 79, 80, 81, 82, 83, 84, 85, 86, 87, 88, 89, 90, 91, 92, 93, 94, 95, 96, 97, 98, 99, 100, 101, 102, 103, 104, 105, 106, 107, 108, 109, 110, 111, 112, 113, 114, 115, 116, 117, 118, 119, 120, 121, 122, 123, 124, 125, 126, 127, 128, 129, 130, 131, 132, 133, 134, 135, 136, 137, 138, 139, 140, 141, 142, 143, 144, 145, 146, 147, 148, 149, 150, 151, 152, 153, 154, 155, 156, 157, 158, 159, 160, 161, 162, 163, 164, 165, 166, 167, 168, 169, 170, 171, 172, 173, 174, 175, 176, 177, 178, 179, 180, 181, 182, 183, 184, 185, 186, 187, 188, 189, 190, 191, 192, 193, 194, 195, 196, 197, 198, 199, 200], 'Problem_52_output_291': [0.0], 'Problem_136_output_655': [0.855, 1, 2, 3, 4, 11, 12, 13, 14, 15, 16, 17, 18, 19, 20, 21, 22, 23, 24, 25, 26, 27, 28, 29, 30, 31, 32, 33, 34, 35, 36, 37, 38, 39, 40, 41, 42, 43, 44, 45, 46, 47, 48, 49, 50, 51, 52, 53, 54, 55, 56, 58, 59, 61, 62, 64, 65, 67, 68, 69, 70, 71, 72, 73, 74, 75, 76, 77, 78, 79, 80, 81, 82, 83, 84, 85, 86, 87, 88, 89, 90, 91, 92, 93, 94, 95, 96, 97, 98, 99, 100, 101, 103, 104, 105, 107, 109, 110, 112, 113, 114, 115, 116, 117, 118, 119, 120, 121, 122, 123, 124, 125, 126, 127, 128, 129, 130, 131, 132, 133, 135, 136, 137, 138, 140, 141, 142, 147, 148, 149, 150, 151, 152, 153, 154, 155, 156, 157, 158, 159, 160, 161, 162, 163, 164, 165, 167, 168, 170, 171, 174, 175, 176, 177, 178, 179, 180, 181, 182, 183, 184, 185, 186, 187, 188, 192, 193, 196, 197, 198, 199, 200], 'Problem_94_output_485': [0.0], 'Problem_50_output_288': [0.92, 1, 4, 7, 9, 11, 12, 13, 14, 15, 16, 17, 18, 19, 20, 21, 22, 23, 24, 26, 28, 29, 30, 31, 33, 34, 35, 36, 37, 38, 39, 40, 41, 42, 43, 44, 45, 46, 48, 49, 50, 51, 52, 53, 54, 55, 56, 57, 58, 59, 60, 61, 62, 63, 64, 65, 68, 69, 70, 71, 72, 73, 74, 75, 76, 77, 78, 79, 80, 81, 82, 83, 84, 85, 87, 88, 89, 90, 91, 92, 93, 94, 95, 96, 97, 98, 99, 100, 101, 102, 103, 104, 105, 106, 107, 108, 109, 110, 111, 112, 113, 114, 115, 116, 117, 118, 119, 120, 121, 123, 124, 125, 126, 127, 128, 129, 130, 131, 132, 133, 134, 135, 136, 137, 138, 139, 140, 141, 142, 143, 144, 145, 146, 147, 148, 149, 150, 151, 152, 153, 154, 155, 156, 157, 158, 159, 160, 161, 162, 163, 164, 165, 166, 167, 168, 169, 170, 171, 172, 173, 175, 176, 177, 178, 179, 180, 181, 182, 183, 184, 185, 186, 187, 188, 189, 190, 192, 193, 194, 195, 196, 197, 198, 199, 200], 'Problem_60_output_332': [0.365, 2, 3, 5, 6, 8, 9, 10, 11, 12, 13, 14, 15, 16, 17, 18, 19, 20, 21, 22, 23, 24, 25, 26, 27, 28, 29, 30, 32, 33, 34, 35, 39, 41, 43, 46, 51, 56, 68, 69, 74, 76, 77, 79, 81, 83, 95, 102, 103, 110, 112, 126, 133, 134, 135, 146, 149, 152, 153, 154, 155, 158, 159, 167, 172, 174, 175, 177, 180, 185, 186, 194, 198, 199], 'Problem_149_output_769': [1.0, 1, 2, 3, 4, 5, 6, 7, 8, 9, 10, 11, 12, 13, 14, 15, 16, 17, 18, 19, 20, 21, 22, 23, 24, 25, 26, 27, 28, 29, 30, 31, 32, 33, 34, 35, 36, 37, 38, 39, 40, 41, 42, 43, 44, 45, 46, 47, 48, 49, 50, 51, 52, 53, 54, 55, 56, 57, 58, 59, 60, 61, 62, 63, 64, 65, 66, 67, 68, 69, 70, 71, 72, 73, 74, 75, 76, 77, 78, 79, 80, 81, 82, 83, 84, 85, 86, 87, 88, 89, 90, 91, 92, 93, 94, 95, 96, 97, 98, 99, 100, 101, 102, 103, 104, 105, 106, 107, 108, 109, 110, 111, 112, 113, 114, 115, 116, 117, 118, 119, 120, 121, 122, 123, 124, 125, 126, 127, 128, 129, 130, 131, 132, 133, 134, 135, 136, 137, 138, 139, 140, 141, 142, 143, 144, 145, 146, 147, 148, 149, 150, 151, 152, 153, 154, 155, 156, 157, 158, 159, 160, 161, 162, 163, 164, 165, 166, 167, 168, 169, 170, 171, 172, 173, 174, 175, 176, 177, 178, 179, 180, 181, 182, 183, 184, 185, 186, 187, 188, 189, 190, 191, 192, 193, 194, 195, 196, 197, 198, 199, 200], 'Problem_58_output_326': [0.75, 2, 3, 4, 5, 6, 7, 9, 10, 12, 13, 14, 15, 16, 17, 20, 21, 23, 24, 25, 26, 27, 28, 29, 30, 32, 33, 34, 35, 36, 37, 38, 39, 41, 42, 44, 46, 47, 49, 50, 51, 53, 54, 55, 56, 57, 58, 59, 60, 61, 62, 63, 64, 67, 68, 70, 71, 72, 73, 75, 76, 77, 79, 80, 81, 82, 85, 87, 88, 89, 90, 91, 92, 93, 94, 95, 96, 97, 98, 100, 101, 102, 103, 104, 106, 108, 109, 111, 113, 114, 116, 117, 118, 121, 122, 124, 126, 127, 128, 129, 130, 131, 133, 134, 135, 136, 137, 139, 140, 141, 142, 145, 147, 148, 149, 151, 152, 154, 155, 156, 158, 159, 160, 161, 162, 163, 164, 167, 168, 170, 172, 173, 174, 175, 176, 177, 178, 179, 182, 184, 185, 187, 190, 191, 192, 194, 195, 197, 198, 199, 200], 'Problem_138_output_659': [0.0], 'Problem_62_output_345': [0.995, 1, 2, 3, 4, 5, 6, 7, 8, 9, 10, 11, 12, 13, 14, 15, 16, 17, 18, 19, 20, 21, 22, 23, 24, 25, 26, 27, 28, 29, 30, 31, 32, 33, 34, 35, 36, 37, 38, 39, 40, 41, 42, 43, 44, 45, 46, 47, 48, 49, 50, 51, 52, 53, 54, 55, 56, 57, 58, 59, 60, 61, 62, 63, 64, 65, 66, 67, 68, 69, 70, 71, 72, 73, 74, 75, 76, 77, 78, 79, 80, 81, 82, 83, 84, 85, 86, 87, 88, 89, 90, 91, 92, 93, 94, 95, 96, 97, 98, 99, 100, 101, 102, 104, 105, 106, 107, 108, 109, 110, 111, 112, 113, 114, 115, 116, 117, 118, 119, 120, 121, 122, 123, 124, 125, 126, 127, 128, 129, 130, 131, 132, 133, 134, 135, 136, 137, 138, 139, 140, 141, 142, 143, 144, 145, 146, 147, 148, 149, 150, 151, 152, 153, 154, 155, 156, 157, 158, 159, 160, 161, 162, 163, 164, 165, 166, 167, 168, 169, 170, 171, 172, 173, 174, 175, 176, 177, 178, 179, 180, 181, 182, 183, 184, 185, 186, 187, 188, 189, 190, 191, 192, 193, 194, 195, 196, 197, 198, 199, 200], 'Problem_96_output_494': [0.235, 4, 11, 14, 15, 19, 24, 27, 28, 30, 43, 49, 53, 60, 69, 78, 81, 83, 85, 86, 93, 94, 95, 96, 97, 101, 102, 106, 115, 119, 124, 126, 128, 130, 131, 138, 139, 153, 157, 161, 165, 172, 175, 179, 181, 184, 185, 195], 'Problem_94_output_487': [0.30500000000000005, 4, 10, 17, 23, 24, 25, 33, 35, 42, 44, 46, 47, 49, 51, 52, 54, 56, 61, 64, 67, 68, 74, 78, 81, 82, 85, 86, 87, 100, 102, 104, 105, 107, 113, 115, 124, 127, 128, 139, 140, 141, 143, 146, 147, 150, 157, 158, 160, 163, 165, 166, 170, 171, 176, 179, 180, 184, 187, 190, 193, 199], 'Problem_88_output_452': [0.18999999999999995, 2, 6, 15, 22, 49, 52, 59, 65, 71, 87, 94, 96, 102, 107, 113, 121, 126, 132, 134, 138, 141, 146, 152, 153, 157, 161, 163, 167, 170, 174, 179, 180, 184, 187, 188, 192, 195, 198], 'Problem_134_output_641': [0.0], 'Problem_62_output_342': [0.010000000000000009, 42, 177], 'Problem_149_output_771': [0.265, 5, 34, 37, 41, 43, 45, 55, 58, 61, 63, 64, 70, 71, 72, 74, 76, 77, 78, 79, 81, 82, 84, 102, 106, 109, 116, 119, 120, 126, 127, 128, 129, 136, 140, 143, 144, 145, 150, 152, 153, 155, 156, 157, 167, 168, 170, 174, 175, 180, 181, 182, 195, 198], 'Problem_40_output_147': [1.0, 1, 2, 3, 4, 5, 6, 7, 8, 9, 10, 11, 12, 13, 14, 15, 16, 17, 18, 19, 20, 21, 22, 23, 24, 25, 26, 27, 28, 29, 30, 31, 32, 33, 34, 35, 36, 37, 38, 39, 40, 41, 42, 43, 44, 45, 46, 47, 48, 49, 50, 51, 52, 53, 54, 55, 56, 57, 58, 59, 60, 61, 62, 63, 64, 65, 66, 67, 68, 69, 70, 71, 72, 73, 74, 75, 76, 77, 78, 79, 80, 81, 82, 83, 84, 85, 86, 87, 88, 89, 90, 91, 92, 93, 94, 95, 96, 97, 98, 99, 100, 101, 102, 103, 104, 105, 106, 107, 108, 109, 110, 111, 112, 113, 114, 115, 116, 117, 118, 119, 120, 121, 122, 123, 124, 125, 126, 127, 128, 129, 130, 131, 132, 133, 134, 135, 136, 137, 138, 139, 140, 141, 142, 143, 144, 145, 146, 147, 148, 149, 150, 151, 152, 153, 154, 155, 156, 157, 158, 159, 160, 161, 162, 163, 164, 165, 166, 167, 168, 169, 170, 171, 172, 173, 174, 175, 176, 177, 178, 179, 180, 181, 182, 183, 184, 185, 186, 187, 188, 189, 190, 191, 192, 193, 194, 195, 196, 197, 198, 199, 200], 'Problem_45_output_168': [0.33499999999999996, 9, 17, 18, 29, 45, 46, 61, 66, 68, 69, 77, 81, 82, 84, 86, 88, 89, 91, 94, 95, 98, 100, 101, 103, 106, 107, 112, 113, 114, 115, 121, 124, 125, 126, 127, 128, 131, 132, 133, 134, 135, 136, 137, 138, 141, 143, 155, 156, 157, 162, 167, 170, 172, 175, 176, 177, 178, 180, 183, 185, 191, 192, 193, 195, 197, 198, 200], 'Problem_158_output_824': [0.96, 1, 2, 3, 4, 5, 6, 7, 8, 9, 10, 11, 12, 13, 14, 15, 16, 17, 18, 19, 20, 21, 22, 24, 25, 26, 27, 28, 29, 30, 31, 32, 33, 34, 35, 36, 37, 38, 39, 40, 41, 42, 43, 44, 45, 46, 47, 48, 49, 50, 51, 52, 53, 54, 55, 56, 57, 58, 59, 60, 61, 62, 63, 64, 65, 66, 67, 68, 69, 70, 71, 72, 73, 74, 75, 76, 77, 78, 79, 80, 81, 82, 83, 84, 85, 86, 88, 89, 90, 91, 92, 93, 94, 95, 96, 97, 98, 99, 100, 101, 102, 103, 104, 105, 106, 107, 108, 109, 110, 111, 112, 113, 114, 115, 116, 117, 118, 119, 120, 121, 122, 123, 124, 125, 126, 127, 128, 129, 130, 131, 132, 133, 135, 136, 137, 138, 139, 141, 142, 143, 144, 145, 146, 147, 148, 149, 150, 151, 152, 153, 154, 155, 156, 157, 158, 159, 160, 161, 162, 163, 164, 165, 166, 167, 168, 170, 171, 172, 173, 174, 175, 177, 178, 179, 180, 181, 182, 183, 184, 185, 186, 187, 188, 189, 190, 191, 192, 193, 194, 195, 197, 198, 200], 'Problem_160_output_851': [0.6699999999999999, 1, 2, 3, 4, 5, 6, 7, 8, 10, 11, 12, 16, 17, 19, 20, 23, 24, 26, 27, 28, 29, 30, 32, 33, 34, 35, 36, 39, 41, 42, 44, 45, 46, 47, 49, 51, 52, 54, 57, 58, 60, 62, 63, 64, 65, 68, 69, 71, 75, 76, 77, 79, 80, 82, 85, 87, 89, 90, 91, 92, 93, 94, 95, 96, 97, 99, 101, 104, 106, 107, 108, 109, 110, 111, 113, 115, 116, 117, 119, 120, 121, 123, 124, 125, 126, 127, 129, 130, 131, 132, 135, 138, 139, 140, 142, 145, 146, 149, 152, 155, 156, 157, 158, 159, 160, 161, 162, 163, 164, 165, 166, 168, 170, 173, 175, 176, 178, 180, 181, 183, 186, 187, 188, 190, 191, 192, 193, 194, 195, 196, 197, 198, 199, 200], 'Problem_142_output_684': [1.0, 1, 2, 3, 4, 5, 6, 7, 8, 9, 10, 11, 12, 13, 14, 15, 16, 17, 18, 19, 20, 21, 22, 23, 24, 25, 26, 27, 28, 29, 30, 31, 32, 33, 34, 35, 36, 37, 38, 39, 40, 41, 42, 43, 44, 45, 46, 47, 48, 49, 50, 51, 52, 53, 54, 55, 56, 57, 58, 59, 60, 61, 62, 63, 64, 65, 66, 67, 68, 69, 70, 71, 72, 73, 74, 75, 76, 77, 78, 79, 80, 81, 82, 83, 84, 85, 86, 87, 88, 89, 90, 91, 92, 93, 94, 95, 96, 97, 98, 99, 100, 101, 102, 103, 104, 105, 106, 107, 108, 109, 110, 111, 112, 113, 114, 115, 116, 117, 118, 119, 120, 121, 122, 123, 124, 125, 126, 127, 128, 129, 130, 131, 132, 133, 134, 135, 136, 137, 138, 139, 140, 141, 142, 143, 144, 145, 146, 147, 148, 149, 150, 151, 152, 153, 154, 155, 156, 157, 158, 159, 160, 161, 162, 163, 164, 165, 166, 167, 168, 169, 170, 171, 172, 173, 174, 175, 176, 177, 178, 179, 180, 181, 182, 183, 184, 185, 186, 187, 188, 189, 190, 191, 192, 193, 194, 195, 196, 197, 198, 199, 200], 'Problem_63_output_274': [0.32499999999999996, 2, 4, 5, 6, 8, 9, 10, 12, 13, 15, 16, 17, 19, 20, 21, 22, 23, 24, 25, 26, 27, 28, 29, 32, 39, 40, 41, 46, 48, 54, 55, 56, 60, 64, 95, 99, 101, 104, 105, 112, 113, 115, 117, 123, 125, 126, 127, 130, 133, 134, 139, 140, 145, 149, 151, 179, 181, 183, 184, 189, 190, 191, 193, 197, 200], 'Problem_164_output_757': [0.0], 'Problem_67_output_368': [0.0050000000000000044, 131], 'Problem_67_output_370': [1.0, 1, 2, 3, 4, 5, 6, 7, 8, 9, 10, 11, 12, 13, 14, 15, 16, 17, 18, 19, 20, 21, 22, 23, 24, 25, 26, 27, 28, 29, 30, 31, 32, 33, 34, 35, 36, 37, 38, 39, 40, 41, 42, 43, 44, 45, 46, 47, 48, 49, 50, 51, 52, 53, 54, 55, 56, 57, 58, 59, 60, 61, 62, 63, 64, 65, 66, 67, 68, 69, 70, 71, 72, 73, 74, 75, 76, 77, 78, 79, 80, 81, 82, 83, 84, 85, 86, 87, 88, 89, 90, 91, 92, 93, 94, 95, 96, 97, 98, 99, 100, 101, 102, 103, 104, 105, 106, 107, 108, 109, 110, 111, 112, 113, 114, 115, 116, 117, 118, 119, 120, 121, 122, 123, 124, 125, 126, 127, 128, 129, 130, 131, 132, 133, 134, 135, 136, 137, 138, 139, 140, 141, 142, 143, 144, 145, 146, 147, 148, 149, 150, 151, 152, 153, 154, 155, 156, 157, 158, 159, 160, 161, 162, 163, 164, 165, 166, 167, 168, 169, 170, 171, 172, 173, 174, 175, 176, 177, 178, 179, 180, 181, 182, 183, 184, 185, 186, 187, 188, 189, 190, 191, 192, 193, 194, 195, 196, 197, 198, 199, 200], 'Problem_141_output_678': [0.0], 'Problem_30_output_137': [1.0, 1, 2, 3, 4, 5, 6, 7, 8, 9, 10, 11, 12, 13, 14, 15, 16, 17, 18, 19, 20, 21, 22, 23, 24, 25, 26, 27, 28, 29, 30, 31, 32, 33, 34, 35, 36, 37, 38, 39, 40, 41, 42, 43, 44, 45, 46, 47, 48, 49, 50, 51, 52, 53, 54, 55, 56, 57, 58, 59, 60, 61, 62, 63, 64, 65, 66, 67, 68, 69, 70, 71, 72, 73, 74, 75, 76, 77, 78, 79, 80, 81, 82, 83, 84, 85, 86, 87, 88, 89, 90, 91, 92, 93, 94, 95, 96, 97, 98, 99, 100, 101, 102, 103, 104, 105, 106, 107, 108, 109, 110, 111, 112, 113, 114, 115, 116, 117, 118, 119, 120, 121, 122, 123, 124, 125, 126, 127, 128, 129, 130, 131, 132, 133, 134, 135, 136, 137, 138, 139, 140, 141, 142, 143, 144, 145, 146, 147, 148, 149, 150, 151, 152, 153, 154, 155, 156, 157, 158, 159, 160, 161, 162, 163, 164, 165, 166, 167, 168, 169, 170, 171, 172, 173, 174, 175, 176, 177, 178, 179, 180, 181, 182, 183, 184, 185, 186, 187, 188, 189, 190, 191, 192, 193, 194, 195, 196, 197, 198, 199, 200], 'Problem_21_output_99': [0.79, 1, 3, 4, 5, 6, 7, 8, 9, 10, 11, 12, 13, 14, 15, 16, 17, 18, 19, 20, 21, 22, 23, 24, 25, 26, 27, 28, 29, 30, 31, 32, 33, 34, 35, 36, 37, 38, 39, 40, 41, 42, 43, 44, 45, 46, 47, 48, 49, 50, 51, 52, 53, 54, 55, 56, 57, 58, 59, 60, 61, 62, 63, 64, 65, 66, 67, 68, 69, 70, 71, 72, 73, 74, 75, 76, 77, 78, 79, 80, 81, 82, 83, 84, 85, 86, 87, 88, 89, 90, 91, 92, 93, 94, 95, 96, 97, 98, 99, 100, 101, 102, 103, 104, 105, 106, 107, 108, 109, 110, 111, 112, 113, 114, 115, 116, 117, 118, 119, 120, 121, 122, 123, 124, 125, 126, 127, 128, 129, 130, 131, 132, 133, 134, 135, 136, 137, 138, 139, 140, 141, 142, 143, 144, 145, 146, 147, 148, 149, 150, 151, 152, 153, 154, 155, 156, 168, 177, 190], 'Problem_74_output_382': [0.945, 1, 2, 3, 5, 6, 7, 8, 9, 10, 11, 12, 14, 15, 16, 17, 18, 19, 21, 22, 23, 24, 25, 26, 27, 29, 30, 31, 32, 33, 34, 35, 36, 37, 38, 39, 40, 42, 43, 44, 45, 46, 47, 48, 49, 50, 51, 52, 53, 54, 55, 56, 57, 58, 59, 60, 61, 62, 63, 64, 65, 66, 67, 68, 69, 70, 71, 72, 73, 74, 76, 77, 78, 79, 80, 81, 82, 83, 84, 85, 86, 87, 88, 89, 90, 92, 93, 94, 95, 96, 97, 98, 99, 100, 101, 102, 103, 104, 105, 106, 107, 108, 109, 110, 111, 112, 113, 114, 115, 117, 118, 119, 120, 121, 122, 123, 124, 125, 126, 127, 128, 130, 131, 132, 133, 134, 135, 136, 137, 138, 139, 140, 141, 142, 143, 144, 145, 146, 147, 148, 149, 150, 151, 152, 153, 154, 155, 156, 159, 160, 161, 162, 163, 164, 165, 166, 167, 168, 169, 170, 171, 172, 173, 174, 175, 176, 177, 178, 179, 180, 181, 182, 183, 184, 185, 186, 187, 188, 189, 190, 191, 192, 193, 194, 195, 196, 197, 198, 199, 200], 'Problem_48_output_178': [0.0], 'Problem_156_output_807': [0.0], 'Problem_98_output_423': [1.0, 1, 2, 3, 4, 5, 6, 7, 8, 9, 10, 11, 12, 13, 14, 15, 16, 17, 18, 19, 20, 21, 22, 23, 24, 25, 26, 27, 28, 29, 30, 31, 32, 33, 34, 35, 36, 37, 38, 39, 40, 41, 42, 43, 44, 45, 46, 47, 48, 49, 50, 51, 52, 53, 54, 55, 56, 57, 58, 59, 60, 61, 62, 63, 64, 65, 66, 67, 68, 69, 70, 71, 72, 73, 74, 75, 76, 77, 78, 79, 80, 81, 82, 83, 84, 85, 86, 87, 88, 89, 90, 91, 92, 93, 94, 95, 96, 97, 98, 99, 100, 101, 102, 103, 104, 105, 106, 107, 108, 109, 110, 111, 112, 113, 114, 115, 116, 117, 118, 119, 120, 121, 122, 123, 124, 125, 126, 127, 128, 129, 130, 131, 132, 133, 134, 135, 136, 137, 138, 139, 140, 141, 142, 143, 144, 145, 146, 147, 148, 149, 150, 151, 152, 153, 154, 155, 156, 157, 158, 159, 160, 161, 162, 163, 164, 165, 166, 167, 168, 169, 170, 171, 172, 173, 174, 175, 176, 177, 178, 179, 180, 181, 182, 183, 184, 185, 186, 187, 188, 189, 190, 191, 192, 193, 194, 195, 196, 197, 198, 199, 200], 'Problem_53_output_298': [0.745, 1, 2, 3, 7, 8, 9, 10, 11, 13, 14, 15, 16, 17, 18, 19, 20, 21, 23, 24, 25, 26, 27, 28, 29, 30, 32, 33, 34, 36, 37, 38, 39, 40, 41, 42, 43, 45, 46, 47, 48, 49, 50, 51, 52, 54, 55, 57, 58, 59, 61, 62, 65, 66, 67, 69, 70, 72, 75, 78, 80, 81, 83, 84, 85, 86, 87, 88, 89, 91, 93, 94, 95, 97, 98, 99, 100, 101, 102, 104, 105, 106, 107, 109, 110, 113, 114, 116, 117, 118, 119, 122, 123, 125, 126, 127, 128, 129, 130, 131, 133, 134, 137, 139, 141, 142, 144, 147, 149, 150, 151, 152, 153, 155, 156, 158, 160, 161, 162, 163, 164, 165, 166, 167, 168, 169, 170, 171, 172, 173, 175, 177, 178, 180, 182, 184, 185, 186, 187, 188, 189, 190, 192, 194, 195, 196, 197, 198, 199, 200], 'Problem_46_output_174': [0.99, 1, 2, 3, 4, 5, 6, 7, 8, 9, 10, 11, 12, 13, 14, 15, 16, 17, 18, 19, 20, 21, 22, 23, 24, 25, 26, 27, 28, 29, 30, 31, 32, 33, 34, 35, 36, 37, 38, 39, 40, 41, 42, 43, 44, 45, 46, 47, 48, 49, 50, 51, 52, 53, 54, 55, 56, 57, 58, 59, 60, 61, 62, 63, 64, 65, 66, 67, 68, 69, 70, 71, 72, 73, 74, 75, 76, 77, 78, 79, 80, 81, 82, 83, 84, 85, 86, 87, 88, 89, 90, 91, 92, 93, 94, 95, 96, 97, 98, 99, 100, 101, 102, 103, 104, 105, 106, 107, 108, 109, 110, 111, 112, 113, 114, 115, 116, 117, 118, 119, 120, 121, 122, 123, 124, 125, 126, 127, 128, 129, 130, 131, 132, 133, 135, 136, 137, 138, 139, 140, 141, 142, 143, 144, 145, 146, 147, 148, 149, 150, 151, 152, 153, 154, 155, 156, 157, 158, 159, 160, 161, 162, 163, 164, 165, 166, 167, 168, 169, 170, 171, 172, 173, 174, 175, 176, 177, 178, 179, 180, 181, 182, 183, 184, 185, 186, 187, 188, 189, 190, 191, 192, 193, 194, 195, 196, 197, 199, 200], 'Problem_123_output_607': [0.07499999999999996, 4, 12, 19, 24, 28, 41, 44, 49, 74, 80, 96, 127, 142, 151, 154], 'Problem_47_output_175': [0.0050000000000000044, 123], 'Problem_144_output_692': [0.995, 1, 2, 3, 4, 5, 6, 7, 8, 9, 10, 11, 12, 13, 14, 15, 16, 17, 18, 19, 20, 21, 22, 23, 24, 25, 26, 27, 28, 29, 30, 31, 32, 33, 34, 35, 36, 37, 38, 39, 40, 41, 42, 43, 44, 45, 46, 47, 48, 49, 50, 51, 52, 53, 54, 55, 56, 57, 58, 59, 61, 62, 63, 64, 65, 66, 67, 68, 69, 70, 71, 72, 73, 74, 75, 76, 77, 78, 79, 80, 81, 82, 83, 84, 85, 86, 87, 88, 89, 90, 91, 92, 93, 94, 95, 96, 97, 98, 99, 100, 101, 102, 103, 104, 105, 106, 107, 108, 109, 110, 111, 112, 113, 114, 115, 116, 117, 118, 119, 120, 121, 122, 123, 124, 125, 126, 127, 128, 129, 130, 131, 132, 133, 134, 135, 136, 137, 138, 139, 140, 141, 142, 143, 144, 145, 146, 147, 148, 149, 150, 151, 152, 153, 154, 155, 156, 157, 158, 159, 160, 161, 162, 163, 164, 165, 166, 167, 168, 169, 170, 171, 172, 173, 174, 175, 176, 177, 178, 179, 180, 181, 182, 183, 184, 185, 186, 187, 188, 189, 190, 191, 192, 193, 194, 195, 196, 197, 198, 199, 200], 'Problem_113_output_571': [0.20999999999999996, 4, 22, 23, 24, 26, 30, 35, 36, 39, 43, 44, 47, 50, 52, 53, 54, 57, 58, 59, 60, 63, 65, 66, 70, 71, 72, 73, 74, 80, 87, 92, 101, 109, 110, 114, 120, 138, 151, 154, 156, 169, 192], 'Problem_150_output_772': [0.09499999999999997, 46, 50, 53, 81, 97, 101, 117, 125, 129, 149, 172, 173, 180, 182, 191, 192, 193, 194, 199], 'Problem_146_output_704': [0.0], 'Problem_130_output_626': [1.0, 1, 2, 3, 4, 5, 6, 7, 8, 9, 10, 11, 12, 13, 14, 15, 16, 17, 18, 19, 20, 21, 22, 23, 24, 25, 26, 27, 28, 29, 30, 31, 32, 33, 34, 35, 36, 37, 38, 39, 40, 41, 42, 43, 44, 45, 46, 47, 48, 49, 50, 51, 52, 53, 54, 55, 56, 57, 58, 59, 60, 61, 62, 63, 64, 65, 66, 67, 68, 69, 70, 71, 72, 73, 74, 75, 76, 77, 78, 79, 80, 81, 82, 83, 84, 85, 86, 87, 88, 89, 90, 91, 92, 93, 94, 95, 96, 97, 98, 99, 100, 101, 102, 103, 104, 105, 106, 107, 108, 109, 110, 111, 112, 113, 114, 115, 116, 117, 118, 119, 120, 121, 122, 123, 124, 125, 126, 127, 128, 129, 130, 131, 132, 133, 134, 135, 136, 137, 138, 139, 140, 141, 142, 143, 144, 145, 146, 147, 148, 149, 150, 151, 152, 153, 154, 155, 156, 157, 158, 159, 160, 161, 162, 163, 164, 165, 166, 167, 168, 169, 170, 171, 172, 173, 174, 175, 176, 177, 178, 179, 180, 181, 182, 183, 184, 185, 186, 187, 188, 189, 190, 191, 192, 193, 194, 195, 196, 197, 198, 199, 200], 'Problem_15_output_60': [0.16000000000000003, 3, 4, 35, 45, 53, 54, 59, 69, 72, 75, 80, 89, 96, 97, 100, 110, 120, 123, 124, 137, 140, 150, 153, 162, 165, 168, 170, 179, 182, 185, 188, 200], 'Problem_7_output_17': [0.9299999999999999, 1, 2, 3, 5, 6, 7, 8, 9, 10, 11, 12, 13, 14, 15, 16, 17, 18, 19, 20, 21, 22, 23, 25, 26, 27, 28, 30, 31, 32, 33, 34, 35, 37, 38, 39, 40, 41, 42, 43, 44, 45, 46, 47, 48, 50, 51, 52, 53, 54, 55, 56, 57, 58, 59, 60, 61, 62, 63, 64, 65, 66, 67, 68, 69, 70, 71, 72, 73, 74, 75, 76, 77, 78, 79, 80, 81, 82, 83, 84, 85, 87, 88, 89, 90, 91, 92, 93, 94, 95, 96, 98, 99, 100, 101, 102, 103, 104, 105, 106, 107, 108, 109, 110, 111, 113, 114, 115, 116, 117, 118, 119, 120, 121, 122, 123, 124, 125, 126, 127, 128, 130, 131, 133, 134, 135, 136, 137, 138, 139, 140, 141, 142, 143, 144, 145, 146, 147, 148, 149, 150, 151, 152, 153, 154, 155, 156, 158, 159, 160, 161, 162, 163, 164, 165, 166, 167, 168, 169, 170, 171, 172, 173, 174, 175, 176, 177, 178, 179, 180, 181, 182, 183, 184, 185, 187, 188, 190, 191, 192, 193, 194, 195, 196, 197, 198, 199], 'Problem_142_output_681': [0.98, 1, 2, 3, 4, 5, 6, 7, 8, 9, 10, 11, 12, 13, 14, 15, 16, 17, 18, 19, 20, 21, 22, 23, 24, 25, 26, 27, 28, 29, 30, 31, 32, 33, 34, 35, 36, 37, 38, 39, 40, 41, 42, 43, 44, 45, 46, 47, 48, 49, 50, 51, 52, 53, 54, 55, 56, 57, 58, 59, 60, 61, 62, 63, 64, 65, 66, 67, 68, 69, 70, 71, 72, 73, 74, 75, 76, 77, 78, 79, 80, 81, 82, 83, 84, 85, 86, 87, 88, 89, 90, 91, 92, 93, 94, 95, 96, 97, 98, 99, 100, 101, 102, 103, 104, 105, 106, 107, 108, 109, 110, 111, 112, 113, 114, 115, 117, 118, 119, 120, 121, 122, 123, 124, 125, 127, 128, 129, 130, 131, 132, 133, 134, 135, 136, 138, 139, 140, 141, 142, 143, 144, 145, 147, 148, 149, 150, 151, 152, 153, 154, 155, 156, 157, 158, 159, 160, 161, 162, 163, 164, 165, 166, 167, 168, 169, 170, 171, 172, 173, 174, 175, 176, 177, 178, 179, 180, 181, 182, 183, 184, 185, 186, 187, 188, 189, 190, 191, 192, 193, 194, 195, 196, 197, 198, 199, 200], 'Problem_67_output_363': [0.955, 1, 2, 3, 4, 5, 6, 7, 9, 10, 11, 12, 13, 14, 15, 16, 17, 18, 19, 20, 22, 23, 24, 25, 26, 27, 28, 29, 30, 31, 32, 33, 34, 35, 36, 37, 38, 39, 40, 41, 42, 43, 44, 45, 46, 47, 48, 49, 50, 51, 52, 53, 56, 57, 58, 59, 60, 61, 63, 64, 65, 66, 67, 68, 69, 70, 71, 72, 73, 74, 75, 77, 78, 79, 80, 81, 82, 83, 84, 85, 86, 87, 88, 89, 90, 91, 92, 93, 94, 95, 96, 97, 98, 99, 100, 101, 102, 103, 104, 105, 106, 107, 108, 109, 110, 112, 113, 114, 115, 116, 117, 118, 119, 120, 121, 122, 123, 124, 125, 126, 127, 128, 129, 130, 131, 132, 133, 134, 135, 136, 137, 138, 139, 140, 141, 142, 143, 144, 145, 146, 147, 148, 149, 150, 151, 152, 153, 154, 155, 156, 157, 158, 159, 160, 161, 162, 163, 164, 165, 166, 167, 168, 169, 170, 171, 172, 173, 174, 175, 176, 177, 178, 179, 180, 181, 182, 183, 184, 185, 186, 187, 188, 189, 190, 191, 192, 193, 194, 195, 196, 197, 199], 'Problem_22_output_101': [0.0050000000000000044, 19], 'Problem_57_output_318': [0.0], 'Problem_13_output_48': [1.0, 1, 2, 3, 4, 5, 6, 7, 8, 9, 10, 11, 12, 13, 14, 15, 16, 17, 18, 19, 20, 21, 22, 23, 24, 25, 26, 27, 28, 29, 30, 31, 32, 33, 34, 35, 36, 37, 38, 39, 40, 41, 42, 43, 44, 45, 46, 47, 48, 49, 50, 51, 52, 53, 54, 55, 56, 57, 58, 59, 60, 61, 62, 63, 64, 65, 66, 67, 68, 69, 70, 71, 72, 73, 74, 75, 76, 77, 78, 79, 80, 81, 82, 83, 84, 85, 86, 87, 88, 89, 90, 91, 92, 93, 94, 95, 96, 97, 98, 99, 100, 101, 102, 103, 104, 105, 106, 107, 108, 109, 110, 111, 112, 113, 114, 115, 116, 117, 118, 119, 120, 121, 122, 123, 124, 125, 126, 127, 128, 129, 130, 131, 132, 133, 134, 135, 136, 137, 138, 139, 140, 141, 142, 143, 144, 145, 146, 147, 148, 149, 150, 151, 152, 153, 154, 155, 156, 157, 158, 159, 160, 161, 162, 163, 164, 165, 166, 167, 168, 169, 170, 171, 172, 173, 174, 175, 176, 177, 178, 179, 180, 181, 182, 183, 184, 185, 186, 187, 188, 189, 190, 191, 192, 193, 194, 195, 196, 197, 198, 199, 200], 'Problem_47_output_252': [0.0050000000000000044, 123], 'Problem_94_output_490': [1.0, 1, 2, 3, 4, 5, 6, 7, 8, 9, 10, 11, 12, 13, 14, 15, 16, 17, 18, 19, 20, 21, 22, 23, 24, 25, 26, 27, 28, 29, 30, 31, 32, 33, 34, 35, 36, 37, 38, 39, 40, 41, 42, 43, 44, 45, 46, 47, 48, 49, 50, 51, 52, 53, 54, 55, 56, 57, 58, 59, 60, 61, 62, 63, 64, 65, 66, 67, 68, 69, 70, 71, 72, 73, 74, 75, 76, 77, 78, 79, 80, 81, 82, 83, 84, 85, 86, 87, 88, 89, 90, 91, 92, 93, 94, 95, 96, 97, 98, 99, 100, 101, 102, 103, 104, 105, 106, 107, 108, 109, 110, 111, 112, 113, 114, 115, 116, 117, 118, 119, 120, 121, 122, 123, 124, 125, 126, 127, 128, 129, 130, 131, 132, 133, 134, 135, 136, 137, 138, 139, 140, 141, 142, 143, 144, 145, 146, 147, 148, 149, 150, 151, 152, 153, 154, 155, 156, 157, 158, 159, 160, 161, 162, 163, 164, 165, 166, 167, 168, 169, 170, 171, 172, 173, 174, 175, 176, 177, 178, 179, 180, 181, 182, 183, 184, 185, 186, 187, 188, 189, 190, 191, 192, 193, 194, 195, 196, 197, 198, 199, 200], 'Problem_129_output_622': [0.815, 1, 2, 3, 4, 5, 6, 7, 8, 9, 11, 12, 13, 14, 15, 16, 17, 18, 19, 20, 22, 23, 24, 26, 27, 28, 30, 32, 33, 35, 36, 37, 38, 39, 40, 46, 47, 48, 49, 51, 52, 54, 55, 56, 58, 59, 61, 63, 65, 66, 67, 70, 72, 73, 74, 75, 76, 77, 78, 79, 80, 81, 82, 83, 84, 85, 86, 87, 88, 89, 90, 91, 92, 93, 94, 95, 97, 98, 99, 100, 101, 102, 103, 104, 105, 106, 107, 108, 110, 111, 112, 113, 114, 115, 116, 117, 118, 119, 120, 121, 122, 123, 124, 125, 126, 130, 131, 132, 133, 134, 135, 136, 137, 138, 139, 140, 141, 142, 143, 144, 146, 147, 149, 150, 151, 153, 154, 155, 156, 157, 158, 160, 161, 162, 163, 164, 165, 166, 167, 168, 169, 171, 172, 174, 175, 176, 177, 179, 180, 181, 182, 183, 185, 186, 187, 188, 189, 191, 192, 194, 195, 198, 199, 200], 'Problem_156_output_808': [0.25, 5, 7, 9, 11, 16, 20, 21, 22, 23, 26, 28, 36, 37, 38, 44, 47, 51, 55, 57, 60, 63, 67, 69, 85, 89, 93, 96, 100, 104, 108, 112, 116, 120, 126, 133, 137, 141, 148, 152, 156, 162, 166, 170, 173, 176, 180, 183, 190, 194, 198], 'Problem_40_output_227': [0.0], 'Problem_160_output_737': [0.0], 'Problem_139_output_668': [0.0], 'Problem_46_output_169': [1.0, 1, 2, 3, 4, 5, 6, 7, 8, 9, 10, 11, 12, 13, 14, 15, 16, 17, 18, 19, 20, 21, 22, 23, 24, 25, 26, 27, 28, 29, 30, 31, 32, 33, 34, 35, 36, 37, 38, 39, 40, 41, 42, 43, 44, 45, 46, 47, 48, 49, 50, 51, 52, 53, 54, 55, 56, 57, 58, 59, 60, 61, 62, 63, 64, 65, 66, 67, 68, 69, 70, 71, 72, 73, 74, 75, 76, 77, 78, 79, 80, 81, 82, 83, 84, 85, 86, 87, 88, 89, 90, 91, 92, 93, 94, 95, 96, 97, 98, 99, 100, 101, 102, 103, 104, 105, 106, 107, 108, 109, 110, 111, 112, 113, 114, 115, 116, 117, 118, 119, 120, 121, 122, 123, 124, 125, 126, 127, 128, 129, 130, 131, 132, 133, 134, 135, 136, 137, 138, 139, 140, 141, 142, 143, 144, 145, 146, 147, 148, 149, 150, 151, 152, 153, 154, 155, 156, 157, 158, 159, 160, 161, 162, 163, 164, 165, 166, 167, 168, 169, 170, 171, 172, 173, 174, 175, 176, 177, 178, 179, 180, 181, 182, 183, 184, 185, 186, 187, 188, 189, 190, 191, 192, 193, 194, 195, 196, 197, 198, 199, 200], 'Problem_160_output_748': [0.6699999999999999, 1, 2, 3, 4, 5, 6, 7, 8, 10, 11, 12, 16, 17, 19, 20, 23, 24, 26, 27, 28, 29, 30, 32, 33, 34, 35, 36, 39, 41, 42, 44, 45, 46, 47, 49, 51, 52, 54, 57, 58, 60, 62, 63, 64, 65, 68, 69, 71, 75, 76, 77, 79, 80, 82, 85, 87, 89, 90, 91, 92, 93, 94, 95, 96, 97, 99, 101, 104, 106, 107, 108, 109, 110, 111, 113, 115, 116, 117, 119, 120, 121, 123, 124, 125, 126, 127, 129, 130, 131, 132, 135, 138, 139, 140, 142, 145, 146, 149, 152, 155, 156, 157, 158, 159, 160, 161, 162, 163, 164, 165, 166, 168, 170, 173, 175, 176, 178, 180, 181, 183, 186, 187, 188, 190, 191, 192, 193, 194, 195, 196, 197, 198, 199, 200], 'Problem_75_output_386': [0.0050000000000000044, 188], 'Problem_163_output_856': [1.0, 1, 2, 3, 4, 5, 6, 7, 8, 9, 10, 11, 12, 13, 14, 15, 16, 17, 18, 19, 20, 21, 22, 23, 24, 25, 26, 27, 28, 29, 30, 31, 32, 33, 34, 35, 36, 37, 38, 39, 40, 41, 42, 43, 44, 45, 46, 47, 48, 49, 50, 51, 52, 53, 54, 55, 56, 57, 58, 59, 60, 61, 62, 63, 64, 65, 66, 67, 68, 69, 70, 71, 72, 73, 74, 75, 76, 77, 78, 79, 80, 81, 82, 83, 84, 85, 86, 87, 88, 89, 90, 91, 92, 93, 94, 95, 96, 97, 98, 99, 100, 101, 102, 103, 104, 105, 106, 107, 108, 109, 110, 111, 112, 113, 114, 115, 116, 117, 118, 119, 120, 121, 122, 123, 124, 125, 126, 127, 128, 129, 130, 131, 132, 133, 134, 135, 136, 137, 138, 139, 140, 141, 142, 143, 144, 145, 146, 147, 148, 149, 150, 151, 152, 153, 154, 155, 156, 157, 158, 159, 160, 161, 162, 163, 164, 165, 166, 167, 168, 169, 170, 171, 172, 173, 174, 175, 176, 177, 178, 179, 180, 181, 182, 183, 184, 185, 186, 187, 188, 189, 190, 191, 192, 193, 194, 195, 196, 197, 198, 199, 200], 'Problem_9_output_23': [1.0, 1, 2, 3, 4, 5, 6, 7, 8, 9, 10, 11, 12, 13, 14, 15, 16, 17, 18, 19, 20, 21, 22, 23, 24, 25, 26, 27, 28, 29, 30, 31, 32, 33, 34, 35, 36, 37, 38, 39, 40, 41, 42, 43, 44, 45, 46, 47, 48, 49, 50, 51, 52, 53, 54, 55, 56, 57, 58, 59, 60, 61, 62, 63, 64, 65, 66, 67, 68, 69, 70, 71, 72, 73, 74, 75, 76, 77, 78, 79, 80, 81, 82, 83, 84, 85, 86, 87, 88, 89, 90, 91, 92, 93, 94, 95, 96, 97, 98, 99, 100, 101, 102, 103, 104, 105, 106, 107, 108, 109, 110, 111, 112, 113, 114, 115, 116, 117, 118, 119, 120, 121, 122, 123, 124, 125, 126, 127, 128, 129, 130, 131, 132, 133, 134, 135, 136, 137, 138, 139, 140, 141, 142, 143, 144, 145, 146, 147, 148, 149, 150, 151, 152, 153, 154, 155, 156, 157, 158, 159, 160, 161, 162, 163, 164, 165, 166, 167, 168, 169, 170, 171, 172, 173, 174, 175, 176, 177, 178, 179, 180, 181, 182, 183, 184, 185, 186, 187, 188, 189, 190, 191, 192, 193, 194, 195, 196, 197, 198, 199, 200], 'Problem_77_output_403': [1.0, 1, 2, 3, 4, 5, 6, 7], 'Problem_27_output_130': [1.0, 1, 2, 3, 4, 5, 6, 7, 8, 9, 10, 11, 12, 13, 14, 15, 16, 17, 18, 19, 20, 21, 22, 23, 24, 25, 26, 27, 28, 29, 30, 31, 32, 33, 34, 35, 36, 37, 38, 39, 40, 41, 42, 43, 44, 45, 46, 47, 48, 49, 50, 51, 52, 53, 54, 55, 56, 57, 58, 59, 60, 61, 62, 63, 64, 65, 66, 67, 68, 69, 70, 71, 72, 73, 74, 75, 76, 77, 78, 79, 80, 81, 82, 83, 84, 85, 86, 87, 88, 89, 90, 91, 92, 93, 94, 95, 96, 97, 98, 99, 100, 101, 102, 103, 104, 105, 106, 107, 108, 109, 110, 111, 112, 113, 114, 115, 116, 117, 118, 119, 120, 121, 122, 123, 124, 125, 126, 127, 128, 129, 130, 131, 132, 133, 134, 135, 136, 137, 138, 139, 140, 141, 142, 143, 144, 145, 146, 147, 148, 149, 150, 151, 152, 153, 154, 155, 156, 157, 158, 159, 160, 161, 162, 163, 164, 165, 166, 167, 168, 169, 170, 171, 172, 173, 174, 175, 176, 177, 178, 179, 180, 181, 182, 183, 184, 185, 186, 187, 188, 189, 190, 191, 192, 193, 194, 195, 196, 197, 198, 199, 200], 'Problem_46_output_249': [0.355, 2, 3, 5, 6, 7, 8, 20, 27, 33, 41, 47, 50, 53, 54, 55, 59, 62, 63, 65, 66, 69, 70, 73, 74, 76, 78, 82, 86, 88, 89, 95, 100, 104, 108, 111, 113, 117, 119, 120, 123, 124, 125, 126, 127, 131, 134, 136, 137, 142, 147, 150, 153, 154, 159, 160, 161, 162, 165, 166, 167, 172, 174, 175, 180, 183, 187, 188, 191, 194, 195, 198], 'Problem_139_output_674': [0.39, 6, 7, 8, 9, 10, 11, 13, 19, 20, 23, 30, 33, 36, 37, 40, 41, 44, 45, 48, 49, 52, 56, 57, 60, 61, 64, 65, 69, 72, 75, 76, 79, 80, 83, 86, 87, 90, 91, 94, 95, 98, 99, 102, 103, 106, 109, 110, 114, 118, 122, 125, 126, 129, 130, 133, 134, 138, 142, 145, 148, 150, 151, 154, 157, 160, 163, 166, 169, 172, 175, 178, 181, 184, 187, 190, 193, 196, 199], 'Problem_156_output_805': [0.0], 'Problem_27_output_125': [0.135, 6, 7, 8, 10, 15, 39, 44, 49, 53, 57, 89, 96, 103, 108, 113, 118, 122, 126, 130, 152, 157, 161, 167, 174, 181, 188, 191], 'Problem_92_output_478': [0.07499999999999996, 18, 19, 31, 32, 42, 50, 60, 83, 87, 109, 112, 133, 150, 182, 197], 'Problem_27_output_128': [0.07499999999999996, 2, 4, 13, 22, 26, 32, 37, 81, 85, 92, 101, 148, 152, 158, 184], 'Problem_49_output_285': [0.41000000000000003, 6, 20, 21, 22, 23, 26, 29, 30, 31, 32, 34, 37, 39, 41, 42, 44, 45, 46, 47, 48, 50, 51, 52, 53, 54, 55, 56, 57, 59, 61, 63, 64, 65, 66, 68, 69, 71, 72, 76, 78, 79, 80, 81, 82, 84, 87, 89, 94, 102, 103, 104, 105, 106, 111, 112, 113, 130, 134, 138, 144, 147, 152, 153, 154, 155, 156, 165, 166, 170, 171, 172, 174, 177, 181, 182, 188, 190, 192, 193, 195, 197, 200], 'Problem_154_output_796': [0.07999999999999996, 5, 9, 10, 13, 18, 23, 34, 144, 149, 150, 154, 157, 158, 160, 165, 189], 'Problem_1_output_5': [0.575, 2, 3, 4, 8, 9, 11, 12, 16, 20, 21, 25, 28, 31, 35, 37, 41, 42, 43, 44, 46, 47, 48, 50, 51, 52, 55, 56, 58, 59, 60, 61, 62, 63, 64, 65, 66, 67, 68, 70, 73, 74, 76, 77, 78, 79, 80, 81, 82, 83, 84, 85, 86, 87, 88, 89, 90, 91, 92, 93, 95, 96, 97, 98, 99, 102, 103, 109, 111, 112, 113, 117, 118, 119, 121, 122, 125, 127, 129, 133, 135, 137, 138, 139, 142, 143, 147, 149, 151, 152, 153, 154, 156, 157, 160, 162, 163, 164, 165, 167, 169, 170, 171, 174, 176, 177, 178, 181, 183, 184, 189, 192, 195, 196, 198, 200], 'Problem_103_output_532': [0.84, 1, 2, 3, 4, 5, 6, 7, 8, 9, 10, 11, 12, 13, 14, 15, 16, 17, 18, 19, 20, 21, 22, 23, 24, 25, 26, 27, 28, 29, 30, 31, 32, 33, 34, 35, 36, 37, 39, 40, 41, 42, 43, 44, 46, 47, 48, 49, 50, 51, 52, 53, 54, 55, 56, 57, 58, 60, 61, 63, 65, 68, 70, 71, 72, 73, 74, 75, 76, 77, 78, 79, 80, 82, 83, 84, 86, 87, 88, 89, 90, 91, 92, 94, 97, 99, 100, 101, 102, 103, 104, 105, 106, 107, 108, 111, 113, 114, 115, 116, 117, 119, 120, 121, 123, 126, 127, 128, 129, 130, 132, 133, 134, 135, 136, 138, 139, 140, 142, 143, 145, 146, 147, 148, 149, 151, 152, 153, 154, 155, 156, 157, 158, 159, 160, 162, 163, 164, 167, 168, 169, 170, 171, 172, 173, 174, 175, 176, 178, 179, 181, 182, 183, 184, 186, 187, 188, 189, 190, 191, 192, 193, 194, 195, 196, 197, 198, 199, 200], 'Problem_49_output_284': [0.645, 1, 2, 3, 4, 6, 7, 8, 9, 10, 11, 12, 13, 14, 17, 18, 20, 21, 22, 23, 27, 29, 32, 33, 35, 38, 41, 44, 45, 46, 48, 50, 51, 53, 54, 55, 57, 58, 59, 61, 62, 63, 67, 69, 70, 72, 75, 76, 77, 78, 82, 84, 85, 89, 94, 95, 96, 97, 98, 99, 103, 104, 105, 108, 111, 114, 115, 116, 117, 118, 119, 120, 121, 122, 123, 124, 125, 126, 127, 128, 129, 131, 132, 133, 135, 136, 137, 139, 140, 141, 142, 143, 145, 147, 148, 149, 153, 157, 158, 159, 160, 161, 162, 163, 164, 165, 166, 167, 168, 169, 171, 172, 173, 174, 175, 178, 179, 182, 183, 184, 185, 186, 187, 188, 190, 195, 196, 197, 198, 200], 'Problem_107_output_554': [0.30500000000000005, 2, 3, 5, 6, 7, 8, 9, 10, 11, 12, 13, 15, 16, 17, 18, 19, 20, 21, 22, 23, 24, 25, 26, 27, 28, 29, 31, 33, 35, 37, 39, 41, 43, 44, 47, 50, 54, 55, 58, 61, 62, 65, 68, 69, 72, 75, 79, 83, 101, 105, 112, 116, 123, 127, 131, 135, 139, 143, 147, 160, 164], 'Problem_41_output_229': [1.0, 1, 2, 3, 4, 5, 6, 7, 8, 9, 10, 11, 12, 13, 14, 15, 16, 17, 18, 19, 20, 21, 22, 23, 24, 25, 26, 27, 28, 29, 30, 31, 32, 33, 34, 35, 36, 37, 38, 39, 40, 41, 42, 43, 44, 45, 46, 47, 48, 49, 50, 51, 52, 53, 54, 55, 56, 57, 58, 59, 60, 61, 62, 63, 64, 65, 66, 67, 68, 69, 70, 71, 72, 73, 74, 75, 76, 77, 78, 79, 80, 81, 82, 83, 84, 85, 86, 87, 88, 89, 90, 91, 92, 93, 94, 95, 96, 97, 98, 99, 100, 101, 102, 103, 104, 105, 106, 107, 108, 109, 110, 111, 112, 113, 114, 115, 116, 117, 118, 119, 120, 121, 122, 123, 124, 125, 126, 127, 128, 129, 130, 131, 132, 133, 134, 135, 136, 137, 138, 139, 140, 141, 142, 143, 144, 145, 146, 147, 148, 149, 150, 151, 152, 153, 154, 155, 156, 157, 158, 159, 160, 161, 162, 163, 164, 165, 166, 167, 168, 169, 170, 171, 172, 173, 174, 175, 176, 177, 178, 179, 180, 181, 182, 183, 184, 185, 186, 187, 188, 189, 190, 191, 192, 193, 194, 195, 196, 197, 198, 199, 200], 'Problem_127_output_617': [0.030000000000000027, 13, 73, 83, 144, 150, 192], 'Problem_63_output_276': [0.255, 2, 3, 5, 7, 8, 10, 11, 12, 14, 18, 20, 22, 23, 25, 26, 27, 28, 29, 32, 35, 39, 41, 46, 49, 55, 64, 98, 103, 104, 105, 107, 113, 115, 116, 117, 119, 122, 123, 125, 126, 132, 151, 178, 183, 189, 191, 192, 193, 197, 198, 200], 'Problem_44_output_239': [0.010000000000000009, 1, 3], 'Problem_154_output_793': [1.0, 1, 2, 3, 4, 5, 6, 7, 8, 9, 10, 11, 12, 13, 14, 15, 16, 17, 18, 19, 20, 21, 22, 23, 24, 25, 26, 27, 28, 29, 30, 31, 32, 33, 34, 35, 36, 37, 38, 39, 40, 41, 42, 43, 44, 45, 46, 47, 48, 49, 50, 51, 52, 53, 54, 55, 56, 57, 58, 59, 60, 61, 62, 63, 64, 65, 66, 67, 68, 69, 70, 71, 72, 73, 74, 75, 76, 77, 78, 79, 80, 81, 82, 83, 84, 85, 86, 87, 88, 89, 90, 91, 92, 93, 94, 95, 96, 97, 98, 99, 100, 101, 102, 103, 104, 105, 106, 107, 108, 109, 110, 111, 112, 113, 114, 115, 116, 117, 118, 119, 120, 121, 122, 123, 124, 125, 126, 127, 128, 129, 130, 131, 132, 133, 134, 135, 136, 137, 138, 139, 140, 141, 142, 143, 144, 145, 146, 147, 148, 149, 150, 151, 152, 153, 154, 155, 156, 157, 158, 159, 160, 161, 162, 163, 164, 165, 166, 167, 168, 169, 170, 171, 172, 173, 174, 175, 176, 177, 178, 179, 180, 181, 182, 183, 184, 185, 186, 187, 188, 189, 190, 191, 192, 193, 194, 195, 196, 197, 198, 199, 200], 'Problem_55_output_306': [1.0, 1, 2, 3, 4, 5, 6, 7, 8, 9, 10, 11, 12, 13, 14, 15, 16, 17, 18, 19, 20, 21, 22, 23, 24, 25, 26, 27, 28, 29, 30, 31, 32, 33, 34, 35, 36, 37, 38, 39, 40, 41, 42, 43, 44, 45, 46, 47, 48, 49], 'Problem_90_output_474': [0.995, 1, 2, 3, 4, 5, 6, 7, 8, 9, 10, 11, 12, 13, 14, 15, 16, 17, 18, 19, 20, 21, 22, 23, 24, 25, 26, 27, 28, 29, 30, 31, 32, 33, 34, 35, 36, 37, 38, 39, 40, 41, 42, 43, 44, 45, 46, 47, 48, 49, 50, 51, 52, 53, 54, 55, 56, 57, 58, 59, 60, 61, 62, 63, 64, 65, 66, 67, 68, 69, 70, 71, 72, 73, 74, 75, 76, 77, 78, 79, 80, 81, 82, 83, 84, 85, 86, 87, 88, 89, 90, 91, 92, 93, 94, 95, 96, 97, 98, 99, 100, 101, 102, 103, 104, 105, 106, 107, 108, 109, 110, 111, 112, 113, 114, 115, 116, 117, 118, 119, 120, 121, 122, 123, 124, 125, 126, 127, 128, 129, 130, 131, 132, 133, 134, 135, 136, 137, 138, 139, 140, 141, 142, 144, 145, 146, 147, 148, 149, 150, 151, 152, 153, 154, 155, 156, 157, 158, 159, 160, 161, 162, 163, 164, 165, 166, 167, 168, 169, 170, 171, 172, 173, 174, 175, 176, 177, 178, 179, 180, 181, 182, 183, 184, 185, 186, 187, 188, 189, 190, 191, 192, 193, 194, 195, 196, 197, 198, 199, 200], 'Problem_45_output_165': [0.275, 2, 13, 14, 20, 23, 24, 30, 31, 35, 36, 38, 40, 42, 43, 45, 46, 47, 50, 51, 53, 54, 55, 61, 63, 64, 73, 74, 76, 77, 78, 81, 82, 83, 84, 85, 86, 87, 97, 102, 105, 108, 110, 112, 120, 124, 129, 150, 151, 163, 164, 166, 171, 174, 195, 199], 'Problem_61_output_338': [0.0], 'Problem_58_output_321': [0.0], 'Problem_158_output_826': [0.0], 'Problem_88_output_448': [0.575, 1, 3, 4, 5, 7, 8, 9, 10, 11, 12, 14, 16, 17, 18, 19, 23, 24, 25, 26, 29, 30, 33, 34, 35, 37, 38, 39, 41, 42, 43, 45, 46, 47, 50, 53, 54, 55, 56, 57, 58, 60, 61, 62, 64, 66, 67, 68, 69, 72, 73, 74, 75, 77, 81, 82, 84, 85, 88, 89, 92, 93, 97, 98, 99, 100, 101, 102, 104, 105, 106, 108, 109, 110, 111, 114, 115, 116, 118, 122, 123, 125, 127, 131, 135, 136, 137, 138, 140, 142, 143, 144, 147, 148, 149, 154, 156, 160, 164, 165, 166, 167, 169, 171, 172, 175, 176, 181, 183, 186, 189, 191, 192, 194, 199, 200], 'Problem_114_output_578': [1.0, 1, 2, 3, 4, 5, 6, 7, 8, 9, 10, 11, 12, 13, 14, 15, 16, 17, 18, 19, 20, 21, 22, 23, 24, 25, 26, 27, 28, 29, 30, 31, 32, 33, 34, 35, 36, 37, 38, 39, 40, 41, 42, 43, 44, 45, 46, 47, 48, 49, 50, 51, 52, 53, 54, 55, 56, 57, 58, 59, 60, 61, 62, 63, 64, 65, 66, 67, 68, 69, 70, 71, 72, 73, 74, 75, 76, 77, 78, 79, 80, 81, 82, 83, 84, 85, 86, 87, 88, 89, 90, 91, 92, 93, 94, 95, 96, 97, 98, 99, 100, 101, 102, 103, 104, 105, 106, 107, 108, 109, 110, 111, 112, 113, 114, 115, 116, 117, 118, 119, 120, 121, 122, 123, 124, 125, 126, 127, 128, 129, 130, 131, 132, 133, 134, 135, 136, 137, 138, 139, 140, 141, 142, 143, 144, 145, 146, 147, 148, 149, 150, 151, 152, 153, 154, 155, 156, 157, 158, 159, 160, 161, 162, 163, 164, 165, 166, 167, 168, 169, 170, 171, 172, 173, 174, 175, 176, 177, 178, 179, 180, 181, 182, 183, 184, 185, 186, 187, 188, 189, 190, 191, 192, 193, 194, 195, 196, 197, 198, 199, 200], 'Problem_158_output_825': [1.0, 1, 2, 3, 4, 5, 6, 7, 8, 9, 10, 11, 12, 13, 14, 15, 16, 17, 18, 19, 20, 21, 22, 23, 24, 25, 26, 27, 28, 29, 30, 31, 32, 33, 34, 35, 36, 37, 38, 39, 40, 41, 42, 43, 44, 45, 46, 47, 48, 49, 50, 51, 52, 53, 54, 55, 56, 57, 58, 59, 60, 61, 62, 63, 64, 65, 66, 67, 68, 69, 70, 71, 72, 73, 74, 75, 76, 77, 78, 79, 80, 81, 82, 83, 84, 85, 86, 87, 88, 89, 90, 91, 92, 93, 94, 95, 96, 97, 98, 99, 100, 101, 102, 103, 104, 105, 106, 107, 108, 109, 110, 111, 112, 113, 114, 115, 116, 117, 118, 119, 120, 121, 122, 123, 124, 125, 126, 127, 128, 129, 130, 131, 132, 133, 134, 135, 136, 137, 138, 139, 140, 141, 142, 143, 144, 145, 146, 147, 148, 149, 150, 151, 152, 153, 154, 155, 156, 157, 158, 159, 160, 161, 162, 163, 164, 165, 166, 167, 168, 169, 170, 171, 172, 173, 174, 175, 176, 177, 178, 179, 180, 181, 182, 183, 184, 185, 186, 187, 188, 189, 190, 191, 192, 193, 194, 195, 196, 197, 198, 199, 200], 'Problem_8_output_21': [0.18999999999999995, 32, 36, 42, 47, 48, 52, 61, 67, 79, 80, 81, 85, 91, 93, 108, 109, 116, 123, 125, 126, 128, 131, 136, 137, 140, 141, 144, 146, 147, 148, 156, 157, 163, 167, 169, 174, 197, 199], 'Problem_63_output_275': [0.35, 2, 3, 4, 5, 6, 7, 8, 9, 10, 11, 12, 13, 14, 15, 16, 17, 18, 19, 20, 21, 22, 23, 24, 25, 26, 27, 28, 29, 32, 35, 39, 41, 46, 49, 55, 95, 98, 99, 101, 103, 104, 105, 107, 112, 113, 115, 116, 117, 119, 122, 123, 125, 126, 127, 132, 134, 140, 178, 179, 181, 183, 184, 189, 190, 191, 192, 193, 197, 198, 200], 'Problem_23_output_116': [0.31499999999999995, 37, 49, 70, 82, 92, 94, 109, 113, 120, 121, 124, 125, 127, 128, 129, 132, 133, 134, 136, 137, 138, 140, 141, 144, 145, 146, 147, 148, 149, 151, 153, 154, 155, 156, 157, 158, 159, 160, 161, 162, 163, 164, 165, 166, 167, 168, 169, 171, 172, 173, 175, 176, 182, 186, 188, 189, 191, 192, 193, 196, 197, 199, 200], 'Problem_41_output_233': [0.025000000000000022, 13, 60, 68, 82, 93], 'Problem_94_output_489': [1.0, 1, 2, 3, 4, 5, 6, 7, 8, 9, 10, 11, 12, 13, 14, 15, 16, 17, 18, 19, 20, 21, 22, 23, 24, 25, 26, 27, 28, 29, 30, 31, 32, 33, 34, 35, 36, 37, 38, 39, 40, 41, 42, 43, 44, 45, 46, 47, 48, 49, 50, 51, 52, 53, 54, 55, 56, 57, 58, 59, 60, 61, 62, 63, 64, 65, 66, 67, 68, 69, 70, 71, 72, 73, 74, 75, 76, 77, 78, 79, 80, 81, 82, 83, 84, 85, 86, 87, 88, 89, 90, 91, 92, 93, 94, 95, 96, 97, 98, 99, 100, 101, 102, 103, 104, 105, 106, 107, 108, 109, 110, 111, 112, 113, 114, 115, 116, 117, 118, 119, 120, 121, 122, 123, 124, 125, 126, 127, 128, 129, 130, 131, 132, 133, 134, 135, 136, 137, 138, 139, 140, 141, 142, 143, 144, 145, 146, 147, 148, 149, 150, 151, 152, 153, 154, 155, 156, 157, 158, 159, 160, 161, 162, 163, 164, 165, 166, 167, 168, 169, 170, 171, 172, 173, 174, 175, 176, 177, 178, 179, 180, 181, 182, 183, 184, 185, 186, 187, 188, 189, 190, 191, 192, 193, 194, 195, 196, 197, 198, 199, 200], 'Problem_157_output_710': [0.985, 2, 3, 4, 5, 6, 7, 8, 9, 10, 11, 12, 13, 14, 15, 16, 17, 18, 19, 20, 21, 22, 23, 24, 25, 26, 27, 28, 29, 30, 31, 32, 33, 34, 35, 36, 37, 38, 39, 40, 41, 42, 43, 44, 45, 46, 47, 48, 49, 50, 51, 52, 53, 54, 55, 56, 57, 58, 59, 60, 61, 62, 63, 64, 65, 66, 67, 68, 69, 70, 71, 72, 73, 74, 75, 76, 77, 78, 79, 80, 81, 82, 83, 84, 85, 86, 87, 88, 89, 90, 91, 92, 93, 94, 95, 96, 97, 98, 99, 100, 101, 102, 103, 104, 105, 106, 107, 108, 109, 110, 111, 112, 113, 114, 115, 116, 117, 118, 119, 120, 121, 122, 123, 124, 125, 126, 127, 128, 129, 130, 131, 132, 133, 134, 135, 136, 137, 138, 139, 140, 141, 142, 143, 144, 145, 146, 147, 148, 149, 150, 151, 152, 153, 154, 155, 156, 157, 158, 159, 160, 161, 162, 163, 164, 165, 166, 167, 168, 169, 170, 171, 172, 173, 174, 175, 176, 177, 178, 179, 180, 181, 182, 183, 184, 185, 186, 187, 188, 189, 190, 191, 192, 193, 194, 195, 196, 197, 198], 'Problem_161_output_852': [0.024390243902439046, 33], 'Problem_93_output_482': [0.8049999999999999, 1, 3, 4, 5, 6, 7, 8, 10, 11, 14, 19, 20, 21, 22, 23, 25, 27, 28, 29, 30, 31, 33, 34, 35, 38, 39, 40, 41, 42, 43, 44, 46, 49, 51, 52, 53, 54, 55, 57, 58, 60, 62, 63, 64, 66, 67, 68, 69, 70, 71, 72, 74, 75, 76, 77, 78, 79, 80, 82, 84, 85, 86, 87, 88, 89, 90, 92, 93, 94, 95, 97, 98, 100, 101, 102, 103, 105, 106, 108, 109, 110, 111, 113, 115, 116, 117, 118, 119, 120, 122, 123, 124, 125, 126, 127, 129, 130, 131, 132, 133, 134, 136, 137, 138, 139, 140, 141, 143, 144, 145, 147, 148, 149, 151, 152, 153, 154, 155, 156, 158, 159, 160, 161, 162, 163, 164, 165, 166, 167, 168, 169, 170, 171, 172, 173, 174, 175, 176, 177, 178, 179, 180, 181, 182, 183, 184, 185, 186, 188, 189, 190, 191, 192, 193, 194, 195, 196, 197, 198, 199, 200], 'Problem_160_output_846': [0.97, 1, 2, 3, 4, 5, 6, 7, 8, 9, 10, 11, 12, 13, 14, 15, 16, 17, 18, 19, 20, 21, 22, 23, 24, 25, 26, 27, 28, 29, 30, 31, 32, 33, 34, 35, 36, 37, 38, 39, 40, 41, 42, 43, 44, 45, 46, 47, 48, 49, 50, 51, 52, 53, 54, 55, 56, 57, 58, 59, 60, 61, 62, 63, 64, 66, 67, 68, 69, 70, 71, 72, 73, 74, 75, 76, 77, 78, 79, 80, 81, 83, 84, 85, 86, 87, 88, 89, 90, 91, 92, 93, 94, 95, 96, 97, 98, 99, 100, 101, 102, 103, 104, 105, 106, 107, 108, 109, 110, 111, 112, 113, 114, 115, 116, 117, 118, 119, 120, 121, 122, 123, 124, 125, 126, 127, 128, 129, 130, 132, 133, 134, 135, 137, 138, 139, 140, 141, 142, 143, 144, 145, 146, 147, 148, 149, 150, 151, 152, 153, 154, 155, 156, 157, 158, 159, 160, 161, 162, 163, 164, 165, 166, 167, 168, 169, 170, 171, 172, 173, 174, 175, 176, 177, 178, 179, 181, 182, 183, 185, 186, 187, 188, 189, 190, 191, 192, 193, 194, 195, 196, 197, 198, 199, 200], 'Problem_17_output_73': [0.0], 'Problem_121_output_606': [0.06000000000000005, 25, 70, 78, 90, 94, 111, 153, 154, 158, 159, 166, 195], 'Problem_17_output_71': [0.015000000000000013, 30, 46, 112], 'Problem_164_output_758': [0.1853932584269663, 1, 5, 14, 16, 18, 21, 22, 23, 25, 27, 36, 39, 45, 46, 47, 52, 53, 54, 59, 62, 64, 69, 70, 75, 80, 106, 109, 117, 118, 120, 127, 138, 163], 'Problem_22_output_105': [0.0], 'Problem_158_output_722': [1.0, 1, 2, 3, 4, 5, 6, 7, 8, 9, 10, 11, 12, 13, 14, 15, 16, 17, 18, 19, 20, 21, 22, 23, 24, 25, 26, 27, 28, 29, 30, 31, 32, 33, 34, 35, 36, 37, 38, 39, 40, 41, 42, 43, 44, 45, 46, 47, 48, 49, 50, 51, 52, 53, 54, 55, 56, 57, 58, 59, 60, 61, 62, 63, 64, 65, 66, 67, 68, 69, 70, 71, 72, 73, 74, 75, 76, 77, 78, 79, 80, 81, 82, 83, 84, 85, 86, 87, 88, 89, 90, 91, 92, 93, 94, 95, 96, 97, 98, 99, 100, 101, 102, 103, 104, 105, 106, 107, 108, 109, 110, 111, 112, 113, 114, 115, 116, 117, 118, 119, 120, 121, 122, 123, 124, 125, 126, 127, 128, 129, 130, 131, 132, 133, 134, 135, 136, 137, 138, 139, 140, 141, 142, 143, 144, 145, 146, 147, 148, 149, 150, 151, 152, 153, 154, 155, 156, 157, 158, 159, 160, 161, 162, 163, 164, 165, 166, 167, 168, 169, 170, 171, 172, 173, 174, 175, 176, 177, 178, 179, 180, 181, 182, 183, 184, 185, 186, 187, 188, 189, 190, 191, 192, 193, 194, 195, 196, 197, 198, 199, 200], 'Problem_42_output_158': [0.8888888888888888, 1, 2, 3, 4, 5, 6, 7, 8, 9, 12, 13, 14, 15, 16, 17, 18, 19, 20, 21, 22, 23, 24, 25, 26, 27, 28, 29, 30, 31, 32, 35, 36, 38, 39, 40, 41, 42, 43, 44, 45, 46, 47, 48, 49, 51, 52, 53, 54, 55, 56, 58, 59, 60, 61, 62, 63, 64, 65, 66, 67, 69, 70, 71, 72, 73, 74, 75, 76, 78, 79, 80, 81], 'Problem_139_output_663': [0.975, 1, 2, 3, 4, 5, 6, 7, 8, 9, 10, 11, 12, 13, 14, 15, 16, 17, 18, 19, 20, 21, 22, 23, 24, 25, 26, 27, 28, 29, 30, 31, 32, 33, 34, 35, 36, 37, 38, 39, 40, 41, 42, 43, 44, 45, 46, 47, 48, 49, 50, 51, 52, 53, 54, 55, 56, 57, 58, 59, 60, 61, 62, 63, 64, 65, 66, 67, 68, 69, 70, 71, 72, 73, 74, 75, 76, 77, 78, 79, 80, 81, 82, 83, 84, 85, 86, 87, 88, 89, 90, 91, 92, 93, 94, 95, 96, 97, 98, 99, 100, 101, 102, 103, 104, 105, 106, 107, 108, 109, 110, 111, 112, 114, 115, 116, 118, 119, 120, 122, 123, 124, 125, 126, 127, 128, 129, 130, 131, 132, 133, 134, 135, 136, 138, 139, 140, 142, 143, 144, 145, 146, 147, 148, 149, 150, 151, 152, 153, 154, 155, 156, 157, 158, 159, 160, 161, 162, 163, 164, 165, 166, 167, 168, 169, 170, 171, 172, 173, 174, 175, 176, 177, 178, 179, 180, 181, 182, 183, 184, 185, 186, 187, 188, 189, 190, 191, 192, 193, 194, 195, 196, 197, 198, 199, 200], 'Problem_13_output_40': [0.0], 'Problem_162_output_751': [1.0, 1, 2, 3, 4, 5, 6, 7, 8, 9, 10, 11, 12, 13, 14, 15, 16, 17, 18, 19, 20, 21, 22, 23, 24, 25, 26, 27, 28, 29, 30, 31, 32, 33, 34, 35, 36, 37, 38, 39, 40, 41, 42, 43, 44, 45, 46, 47, 48, 49, 50, 51, 52, 53, 54, 55, 56, 57, 58, 59, 60, 61, 62, 63, 64, 65, 66, 67, 68, 69, 70, 71, 72, 73, 74, 75, 76, 77, 78, 79, 80, 81, 82, 83, 84, 85, 86, 87, 88, 89, 90, 91, 92, 93, 94, 95, 96, 97, 98, 99, 100, 101, 102, 103, 104, 105, 106, 107, 108, 109, 110, 111, 112, 113, 114, 115, 116, 117, 118, 119, 120, 121, 122, 123, 124, 125, 126, 127, 128, 129, 130, 131, 132, 133, 134, 135, 136, 137, 138, 139, 140, 141, 142, 143, 144, 145, 146, 147, 148, 149, 150, 151, 152, 153, 154, 155, 156, 157, 158, 159, 160, 161, 162, 163, 164, 165, 166, 167, 168, 169, 170, 171, 172, 173, 174, 175, 176, 177, 178, 179, 180, 181, 182, 183, 184, 185, 186, 187, 188, 189, 190, 191, 192, 193, 194, 195, 196, 197, 198, 199, 200], 'Problem_62_output_268': [0.945, 1, 2, 3, 4, 5, 6, 7, 8, 9, 10, 11, 12, 13, 14, 15, 16, 17, 18, 19, 20, 21, 22, 24, 25, 26, 27, 28, 29, 30, 31, 32, 33, 34, 35, 36, 37, 38, 39, 40, 41, 43, 44, 45, 46, 47, 48, 49, 50, 51, 52, 53, 54, 55, 56, 57, 58, 60, 61, 62, 63, 64, 65, 66, 67, 68, 69, 70, 71, 72, 73, 74, 75, 76, 77, 78, 81, 82, 83, 84, 85, 86, 87, 89, 90, 91, 92, 93, 94, 96, 98, 100, 101, 102, 104, 105, 106, 107, 108, 109, 110, 111, 112, 113, 114, 115, 116, 117, 118, 119, 120, 121, 122, 123, 124, 125, 126, 127, 128, 129, 130, 131, 132, 133, 134, 135, 136, 137, 138, 139, 140, 141, 142, 143, 144, 145, 146, 147, 148, 149, 150, 152, 153, 154, 155, 156, 157, 158, 159, 160, 161, 162, 163, 164, 165, 166, 167, 168, 169, 170, 171, 172, 173, 174, 175, 176, 177, 178, 179, 180, 181, 182, 183, 184, 185, 186, 187, 188, 189, 190, 191, 192, 193, 194, 195, 196, 197, 198, 199, 200], 'Problem_163_output_858': [0.43000000000000005, 3, 4, 6, 8, 9, 10, 13, 16, 18, 19, 20, 21, 23, 24, 27, 29, 30, 31, 35, 36, 38, 40, 41, 42, 46, 48, 49, 50, 52, 56, 57, 58, 60, 62, 64, 65, 69, 71, 75, 76, 78, 82, 84, 85, 87, 90, 93, 97, 103, 125, 127, 128, 130, 133, 134, 137, 141, 142, 143, 147, 149, 150, 151, 152, 154, 155, 162, 163, 165, 168, 172, 173, 175, 176, 181, 183, 184, 185, 187, 189, 193, 194, 196, 197, 198, 200], 'Problem_106_output_543': [0.0], 'Problem_139_output_664': [1.0, 1, 2, 3, 4, 5, 6, 7, 8, 9, 10, 11, 12, 13, 14, 15, 16, 17, 18, 19, 20, 21, 22, 23, 24, 25, 26, 27, 28, 29, 30, 31, 32, 33, 34, 35, 36, 37, 38, 39, 40, 41, 42, 43, 44, 45, 46, 47, 48, 49, 50, 51, 52, 53, 54, 55, 56, 57, 58, 59, 60, 61, 62, 63, 64, 65, 66, 67, 68, 69, 70, 71, 72, 73, 74, 75, 76, 77, 78, 79, 80, 81, 82, 83, 84, 85, 86, 87, 88, 89, 90, 91, 92, 93, 94, 95, 96, 97, 98, 99, 100, 101, 102, 103, 104, 105, 106, 107, 108, 109, 110, 111, 112, 113, 114, 115, 116, 117, 118, 119, 120, 121, 122, 123, 124, 125, 126, 127, 128, 129, 130, 131, 132, 133, 134, 135, 136, 137, 138, 139, 140, 141, 142, 143, 144, 145, 146, 147, 148, 149, 150, 151, 152, 153, 154, 155, 156, 157, 158, 159, 160, 161, 162, 163, 164, 165, 166, 167, 168, 169, 170, 171, 172, 173, 174, 175, 176, 177, 178, 179, 180, 181, 182, 183, 184, 185, 186, 187, 188, 189, 190, 191, 192, 193, 194, 195, 196, 197, 198, 199, 200], 'Problem_46_output_173': [0.0], 'Problem_58_output_324': [0.375, 1, 3, 4, 5, 6, 7, 8, 9, 11, 18, 19, 21, 22, 23, 30, 31, 32, 36, 37, 40, 41, 43, 44, 45, 47, 48, 52, 57, 58, 61, 62, 65, 68, 69, 74, 77, 80, 83, 86, 91, 93, 96, 99, 108, 110, 119, 120, 122, 123, 125, 132, 134, 138, 141, 143, 144, 145, 146, 148, 150, 152, 153, 154, 164, 166, 167, 169, 171, 173, 174, 181, 183, 188, 189, 196], 'Problem_46_output_248': [0.0], 'Problem_94_output_484': [0.0], 'Problem_21_output_94': [0.74, 1, 4, 5, 6, 7, 8, 9, 10, 11, 12, 13, 14, 15, 16, 17, 18, 19, 20, 21, 22, 23, 24, 25, 26, 27, 28, 29, 30, 31, 32, 33, 34, 35, 36, 37, 38, 39, 40, 41, 42, 43, 44, 45, 46, 47, 48, 49, 50, 51, 52, 53, 54, 55, 56, 57, 58, 59, 60, 61, 62, 63, 64, 65, 66, 67, 68, 69, 70, 71, 72, 73, 74, 75, 76, 77, 78, 79, 80, 81, 82, 83, 84, 85, 86, 87, 88, 89, 90, 91, 92, 93, 94, 95, 96, 97, 98, 99, 100, 101, 102, 103, 104, 106, 107, 108, 109, 110, 112, 118, 119, 120, 121, 122, 123, 124, 125, 126, 127, 128, 129, 130, 131, 132, 134, 135, 136, 137, 138, 139, 140, 141, 142, 143, 144, 145, 146, 147, 148, 149, 150, 151, 152, 153, 155, 156, 168, 177, 190], 'Problem_30_output_135': [0.635, 2, 3, 4, 5, 6, 8, 9, 10, 11, 14, 15, 16, 17, 18, 19, 20, 21, 24, 25, 26, 27, 28, 29, 30, 31, 33, 34, 36, 37, 38, 39, 40, 42, 45, 46, 47, 48, 51, 53, 54, 55, 57, 58, 59, 60, 62, 64, 65, 66, 67, 68, 69, 70, 71, 72, 73, 75, 76, 77, 78, 81, 82, 84, 86, 87, 88, 90, 91, 94, 101, 102, 105, 106, 107, 108, 110, 114, 117, 122, 123, 124, 125, 126, 127, 128, 130, 131, 132, 133, 134, 135, 138, 139, 143, 144, 145, 148, 149, 150, 151, 152, 153, 154, 156, 157, 158, 160, 161, 163, 164, 166, 167, 168, 171, 173, 176, 179, 182, 183, 184, 190, 191, 194, 196, 197, 198, 199], 'Problem_154_output_795': [0.025000000000000022, 13, 18, 23, 150, 189], 'Problem_159_output_838': [0.030000000000000027, 33, 58, 79, 103, 106, 187], 'Problem_141_output_677': [0.015000000000000013, 3, 4, 199], 'Problem_88_output_463': [0.22499999999999998, 2, 6, 10, 15, 22, 49, 52, 59, 62, 65, 71, 87, 94, 96, 102, 104, 107, 113, 121, 126, 132, 134, 138, 141, 146, 148, 152, 153, 157, 161, 163, 164, 167, 170, 174, 175, 179, 180, 184, 187, 188, 192, 195, 198, 199], 'Problem_139_output_666': [0.28, 2, 4, 5, 6, 7, 8, 9, 10, 11, 16, 20, 24, 37, 41, 45, 49, 53, 57, 61, 65, 69, 76, 80, 87, 91, 95, 99, 103, 110, 114, 118, 122, 126, 130, 134, 138, 142, 145, 148, 151, 154, 157, 160, 163, 166, 169, 172, 175, 178, 181, 184, 187, 190, 193, 196, 199], 'Problem_37_output_210': [1.0, 1, 2, 3, 4, 5, 6, 7, 8, 9, 10, 11, 12, 13, 14, 15, 16, 17, 18, 19, 20, 21, 22, 23, 24, 25, 26, 27, 28, 29, 30, 31, 32, 33, 34, 35, 36, 37, 38, 39, 40, 41, 42, 43, 44, 45, 46, 47, 48, 49, 50, 51, 52, 53, 54, 55, 56, 57, 58, 59, 60, 61, 62, 63, 64, 65, 66, 67, 68, 69, 70, 71, 72, 73, 74, 75, 76, 77, 78, 79, 80, 81, 82, 83, 84, 85, 86, 87, 88, 89, 90, 91, 92, 93, 94, 95, 96, 97, 98, 99, 100, 101, 102, 103, 104, 105, 106, 107, 108, 109, 110, 111, 112, 113, 114, 115, 116, 117, 118, 119, 120, 121, 122, 123, 124, 125, 126, 127, 128, 129, 130, 131, 132, 133, 134, 135, 136, 137, 138, 139, 140, 141, 142, 143, 144, 145, 146, 147, 148, 149, 150, 151, 152, 153, 154, 155, 156, 157, 158, 159, 160, 161, 162, 163, 164, 165, 166, 167, 168, 169, 170, 171, 172, 173, 174, 175, 176, 177, 178, 179, 180, 181, 182, 183, 184, 185, 186, 187, 188, 189, 190, 191, 192, 193, 194, 195, 196, 197, 198, 199, 200], 'Problem_63_output_352': [0.255, 2, 3, 5, 7, 8, 10, 11, 12, 14, 18, 20, 22, 23, 25, 26, 27, 28, 29, 32, 35, 39, 41, 46, 49, 55, 64, 98, 103, 104, 105, 107, 113, 115, 116, 117, 119, 122, 123, 125, 126, 132, 151, 178, 183, 189, 191, 192, 193, 197, 198, 200], 'Problem_48_output_259': [0.08499999999999996, 28, 33, 41, 44, 45, 46, 71, 88, 113, 115, 117, 118, 120, 164, 170, 182, 184], 'Problem_19_output_83': [1.0, 1, 2, 3, 4, 5, 6, 7, 8, 9, 10, 11, 12, 13, 14, 15, 16, 17, 18, 19, 20, 21, 22, 23, 24, 25, 26, 27, 28, 29, 30, 31, 32, 33, 34, 35, 36, 37, 38, 39, 40, 41, 42, 43, 44, 45, 46, 47, 48, 49, 50, 51, 52, 53, 54, 55, 56, 57, 58, 59, 60, 61, 62, 63, 64, 65, 66, 67, 68, 69, 70, 71, 72, 73, 74, 75, 76, 77, 78, 79, 80, 81, 82, 83, 84, 85, 86, 87, 88, 89, 90, 91, 92, 93, 94, 95, 96, 97, 98, 99, 100, 101, 102, 103, 104, 105, 106, 107, 108, 109, 110, 111, 112, 113, 114, 115, 116, 117, 118, 119, 120, 121, 122, 123, 124, 125, 126, 127, 128, 129, 130, 131, 132, 133, 134, 135, 136, 137, 138, 139, 140, 141, 142, 143, 144, 145, 146, 147, 148, 149, 150, 151, 152, 153, 154, 155, 156, 157, 158, 159, 160, 161, 162, 163, 164, 165, 166, 167, 168, 169, 170, 171, 172, 173, 174, 175, 176, 177, 178, 179, 180, 181, 182, 183, 184, 185, 186, 187, 188, 189, 190, 191, 192, 193, 194, 195, 196, 197, 198, 199, 200], 'Problem_77_output_404': [0.0], 'Problem_160_output_738': [0.0], 'Problem_130_output_624': [1.0, 1, 2, 3, 4, 5, 6, 7, 8, 9, 10, 11, 12, 13, 14, 15, 16, 17, 18, 19, 20, 21, 22, 23, 24, 25, 26, 27, 28, 29, 30, 31, 32, 33, 34, 35, 36, 37, 38, 39, 40, 41, 42, 43, 44, 45, 46, 47, 48, 49, 50, 51, 52, 53, 54, 55, 56, 57, 58, 59, 60, 61, 62, 63, 64, 65, 66, 67, 68, 69, 70, 71, 72, 73, 74, 75, 76, 77, 78, 79, 80, 81, 82, 83, 84, 85, 86, 87, 88, 89, 90, 91, 92, 93, 94, 95, 96, 97, 98, 99, 100, 101, 102, 103, 104, 105, 106, 107, 108, 109, 110, 111, 112, 113, 114, 115, 116, 117, 118, 119, 120, 121, 122, 123, 124, 125, 126, 127, 128, 129, 130, 131, 132, 133, 134, 135, 136, 137, 138, 139, 140, 141, 142, 143, 144, 145, 146, 147, 148, 149, 150, 151, 152, 153, 154, 155, 156, 157, 158, 159, 160, 161, 162, 163, 164, 165, 166, 167, 168, 169, 170, 171, 172, 173, 174, 175, 176, 177, 178, 179, 180, 181, 182, 183, 184, 185, 186, 187, 188, 189, 190, 191, 192, 193, 194, 195, 196, 197, 198, 199, 200], 'Problem_117_output_598': [0.37, 1, 2, 3, 8, 12, 15, 17, 24, 38, 39, 43, 44, 51, 53, 61, 62, 65, 67, 69, 76, 80, 88, 90, 92, 93, 94, 95, 96, 97, 100, 102, 103, 108, 109, 110, 113, 114, 115, 117, 119, 120, 121, 123, 124, 125, 127, 128, 130, 131, 133, 134, 136, 138, 139, 141, 147, 150, 156, 159, 160, 167, 171, 173, 177, 178, 179, 181, 186, 188, 190, 192, 195, 196, 199], 'Problem_82_output_435': [0.0], 'Problem_56_output_308': [0.0], 'Problem_58_output_325': [0.815, 2, 3, 4, 5, 6, 7, 8, 9, 10, 12, 13, 14, 15, 16, 17, 20, 21, 23, 24, 25, 26, 27, 28, 29, 30, 32, 33, 34, 35, 36, 37, 38, 39, 41, 42, 44, 46, 47, 49, 50, 51, 53, 54, 55, 56, 57, 58, 59, 60, 61, 62, 63, 64, 66, 67, 68, 70, 71, 72, 73, 75, 76, 77, 78, 79, 80, 81, 82, 84, 85, 87, 88, 89, 90, 92, 93, 94, 95, 96, 97, 98, 100, 101, 102, 103, 104, 105, 106, 107, 108, 109, 111, 112, 113, 114, 115, 116, 117, 118, 121, 122, 124, 125, 126, 127, 128, 129, 130, 131, 133, 134, 135, 136, 137, 139, 140, 141, 142, 145, 147, 148, 149, 151, 152, 153, 154, 155, 156, 157, 158, 159, 160, 161, 162, 163, 164, 165, 167, 168, 170, 172, 174, 175, 176, 177, 178, 179, 180, 182, 184, 185, 186, 187, 190, 191, 192, 193, 194, 195, 197, 198, 199, 200], 'Problem_163_output_755': [0.0], 'Problem_78_output_407': [0.665, 1, 2, 4, 5, 6, 8, 10, 15, 18, 20, 22, 27, 28, 29, 36, 37, 39, 40, 41, 42, 43, 44, 45, 46, 47, 48, 49, 50, 51, 53, 55, 57, 58, 59, 60, 61, 62, 63, 64, 66, 68, 69, 70, 72, 73, 74, 75, 76, 77, 78, 81, 82, 83, 84, 85, 86, 87, 90, 92, 93, 94, 95, 98, 99, 102, 104, 105, 106, 107, 108, 109, 111, 112, 113, 114, 115, 116, 117, 118, 120, 121, 124, 126, 128, 132, 133, 134, 135, 137, 140, 141, 142, 143, 146, 148, 151, 153, 154, 155, 156, 157, 158, 160, 161, 162, 163, 164, 165, 166, 167, 168, 169, 170, 171, 174, 175, 178, 179, 180, 182, 185, 187, 188, 189, 190, 191, 193, 194, 195, 196, 197, 199, 200], 'Problem_160_output_742': [0.015000000000000013, 1, 2, 3], 'Problem_88_output_456': [0.21499999999999997, 2, 6, 15, 18, 22, 25, 59, 64, 65, 71, 74, 77, 91, 94, 102, 106, 107, 113, 115, 118, 130, 131, 132, 138, 145, 146, 148, 149, 153, 160, 161, 167, 173, 174, 175, 176, 180, 186, 190, 192, 198, 199, 200], 'Problem_34_output_188': [0.895, 2, 3, 4, 5, 6, 7, 8, 9, 10, 11, 12, 13, 14, 15, 16, 17, 18, 19, 20, 21, 22, 23, 24, 25, 26, 27, 28, 29, 30, 31, 32, 33, 34, 35, 36, 37, 38, 39, 40, 41, 42, 43, 44, 45, 46, 47, 48, 49, 50, 51, 52, 53, 54, 55, 56, 58, 59, 60, 61, 62, 63, 64, 65, 67, 68, 70, 71, 72, 73, 74, 76, 77, 79, 80, 81, 82, 83, 84, 85, 87, 88, 89, 90, 91, 92, 93, 94, 96, 97, 98, 99, 100, 101, 102, 104, 105, 106, 107, 108, 109, 110, 111, 112, 114, 115, 116, 117, 118, 119, 120, 122, 123, 124, 125, 126, 127, 128, 130, 131, 132, 133, 134, 135, 136, 138, 139, 140, 141, 142, 143, 144, 145, 147, 148, 149, 150, 151, 152, 154, 155, 156, 157, 158, 159, 160, 162, 163, 164, 165, 166, 167, 169, 170, 171, 172, 173, 174, 175, 177, 178, 179, 180, 181, 182, 183, 185, 186, 187, 188, 189, 190, 192, 193, 194, 195, 196, 197, 199, 200], 'Problem_20_output_91': [0.875, 1, 3, 4, 5, 6, 7, 8, 9, 10, 11, 12, 13, 14, 18, 19, 21, 22, 23, 24, 25, 26, 27, 29, 30, 31, 32, 35, 36, 37, 38, 39, 40, 42, 43, 44, 45, 46, 47, 48, 49, 50, 51, 52, 53, 54, 55, 56, 57, 58, 61, 63, 64, 65, 66, 67, 68, 69, 70, 71, 72, 73, 74, 75, 76, 77, 78, 79, 80, 81, 82, 83, 84, 85, 86, 87, 88, 89, 90, 91, 92, 94, 95, 96, 97, 98, 99, 100, 101, 103, 105, 106, 108, 109, 110, 111, 112, 113, 115, 116, 117, 118, 119, 120, 121, 122, 123, 125, 126, 127, 128, 129, 131, 132, 133, 135, 136, 137, 138, 139, 140, 141, 142, 143, 144, 145, 146, 147, 148, 149, 150, 151, 152, 153, 155, 156, 157, 158, 159, 160, 161, 162, 164, 165, 166, 167, 168, 170, 171, 172, 173, 174, 175, 176, 177, 178, 179, 180, 181, 182, 183, 184, 185, 186, 187, 189, 190, 191, 192, 193, 194, 195, 197, 198, 199, 200], 'Problem_141_output_679': [0.915, 1, 3, 4, 5, 6, 7, 8, 9, 10, 11, 12, 13, 14, 15, 16, 17, 18, 19, 20, 21, 22, 23, 24, 25, 26, 27, 28, 29, 30, 31, 32, 33, 34, 35, 36, 37, 38, 39, 40, 41, 42, 43, 44, 45, 47, 49, 50, 51, 52, 53, 54, 55, 56, 57, 58, 59, 60, 61, 63, 66, 67, 68, 69, 70, 71, 72, 73, 74, 75, 76, 77, 78, 79, 80, 82, 83, 84, 85, 86, 87, 88, 89, 90, 91, 92, 93, 94, 96, 97, 98, 99, 100, 101, 102, 103, 104, 105, 106, 107, 108, 109, 110, 111, 112, 113, 114, 115, 116, 117, 120, 121, 122, 123, 124, 125, 126, 127, 128, 129, 130, 131, 133, 134, 135, 136, 137, 138, 139, 140, 142, 143, 144, 145, 146, 147, 148, 149, 150, 151, 152, 153, 154, 155, 157, 158, 159, 160, 161, 162, 163, 164, 165, 167, 168, 169, 170, 171, 172, 173, 174, 175, 176, 177, 178, 179, 180, 181, 182, 183, 184, 185, 186, 187, 188, 189, 190, 192, 193, 194, 195, 196, 197, 198], 'Problem_89_output_473': [0.855, 1, 3, 4, 5, 6, 7, 8, 9, 10, 11, 12, 13, 14, 15, 16, 17, 18, 20, 21, 22, 23, 25, 26, 27, 28, 29, 30, 33, 34, 35, 36, 39, 40, 41, 42, 43, 45, 46, 47, 48, 49, 50, 51, 52, 53, 54, 56, 57, 58, 59, 60, 61, 62, 63, 64, 65, 66, 68, 69, 70, 71, 72, 73, 75, 76, 77, 78, 81, 82, 83, 84, 86, 87, 88, 89, 90, 91, 92, 94, 95, 96, 97, 98, 99, 100, 101, 102, 103, 105, 106, 107, 108, 109, 110, 111, 112, 113, 114, 116, 117, 118, 120, 121, 122, 123, 124, 125, 126, 127, 129, 130, 131, 132, 133, 134, 135, 137, 138, 139, 140, 141, 142, 143, 144, 145, 147, 148, 149, 150, 151, 152, 154, 155, 156, 157, 159, 160, 161, 162, 163, 164, 165, 167, 168, 169, 170, 171, 172, 174, 175, 176, 178, 179, 180, 181, 182, 183, 184, 185, 186, 188, 189, 190, 192, 193, 194, 195, 196, 197, 199, 200], 'Problem_109_output_563': [0.0050000000000000044, 5], 'Problem_88_output_455': [0.18999999999999995, 2, 6, 15, 22, 49, 52, 59, 65, 71, 87, 94, 96, 102, 107, 113, 121, 126, 132, 134, 138, 141, 146, 152, 153, 157, 161, 163, 167, 170, 174, 179, 180, 184, 187, 188, 192, 195, 198], 'Problem_42_output_236': [0.8888888888888888, 1, 2, 3, 4, 5, 6, 7, 8, 9, 12, 13, 14, 15, 16, 17, 18, 19, 20, 21, 22, 23, 24, 25, 26, 27, 28, 29, 30, 31, 32, 35, 36, 38, 39, 40, 41, 42, 43, 44, 45, 46, 47, 48, 49, 51, 52, 53, 54, 55, 56, 58, 59, 60, 61, 62, 63, 64, 65, 66, 67, 69, 70, 71, 72, 73, 74, 75, 76, 78, 79, 80, 81], 'Problem_84_output_442': [0.0], 'Problem_27_output_129': [0.15000000000000002, 25, 31, 36, 42, 47, 51, 55, 59, 68, 70, 71, 88, 94, 100, 106, 116, 120, 124, 128, 131, 135, 136, 138, 139, 155, 164, 179, 186, 189, 197], 'Problem_44_output_241': [0.945, 2, 4, 6, 7, 8, 9, 12, 14, 15, 17, 18, 19, 20, 21, 22, 23, 26, 28, 29, 31, 32, 33, 34, 35, 36, 37, 38, 39, 40, 41, 42, 43, 44, 45, 46, 47, 48, 49, 50, 51, 52, 53, 54, 55, 56, 57, 58, 59, 60, 61, 62, 63, 64, 65, 66, 67, 68, 69, 70, 71, 72, 73, 74, 75, 76, 77, 78, 79, 80, 81, 82, 83, 84, 85, 86, 87, 88, 89, 90, 91, 92, 93, 94, 95, 96, 97, 98, 99, 100, 101, 102, 103, 104, 105, 106, 107, 108, 109, 110, 111, 112, 113, 114, 115, 116, 117, 118, 119, 120, 121, 122, 123, 124, 125, 126, 127, 128, 129, 130, 131, 132, 133, 134, 135, 136, 137, 138, 139, 140, 141, 142, 143, 144, 145, 146, 147, 148, 149, 150, 151, 152, 153, 154, 155, 156, 157, 158, 159, 160, 161, 162, 163, 164, 165, 166, 167, 168, 169, 170, 171, 172, 173, 174, 175, 176, 177, 178, 179, 180, 181, 182, 183, 184, 185, 186, 187, 188, 189, 190, 191, 192, 193, 194, 195, 196, 197, 198, 199, 200], 'Problem_147_output_708': [0.965, 1, 3, 4, 6, 8, 10, 12, 14, 15, 16, 17, 18, 19, 20, 21, 22, 23, 24, 25, 26, 27, 28, 29, 30, 31, 32, 33, 34, 35, 36, 37, 38, 39, 40, 41, 42, 43, 44, 45, 46, 47, 48, 49, 50, 51, 52, 53, 54, 55, 56, 57, 58, 59, 60, 61, 62, 63, 64, 65, 66, 67, 68, 69, 70, 71, 72, 73, 74, 75, 76, 77, 78, 79, 80, 81, 82, 83, 84, 85, 86, 87, 88, 89, 90, 91, 92, 93, 94, 95, 96, 97, 98, 99, 100, 101, 102, 104, 105, 106, 107, 108, 109, 110, 111, 112, 113, 114, 115, 116, 117, 118, 119, 120, 121, 122, 123, 124, 125, 126, 127, 128, 129, 130, 131, 132, 133, 134, 135, 136, 137, 138, 139, 140, 141, 142, 143, 144, 145, 146, 147, 148, 149, 150, 151, 152, 153, 154, 155, 156, 157, 158, 159, 160, 161, 162, 163, 164, 165, 166, 167, 168, 169, 170, 171, 172, 173, 174, 175, 176, 177, 178, 179, 180, 181, 182, 183, 184, 185, 186, 187, 188, 189, 190, 191, 192, 193, 194, 195, 196, 197, 198, 199, 200], 'Problem_39_output_220': [1.0, 1, 2, 3, 4, 5, 6, 7, 8, 9, 10, 11, 12, 13, 14, 15, 16, 17, 18, 19, 20, 21, 22, 23, 24, 25, 26, 27, 28, 29, 30, 31, 32, 33, 34, 35, 36, 37, 38, 39, 40, 41, 42, 43, 44, 45, 46, 47, 48, 49, 50, 51, 52, 53, 54, 55, 56, 57, 58, 59, 60, 61, 62, 63, 64, 65, 66, 67, 68, 69, 70, 71, 72, 73, 74, 75, 76, 77, 78, 79, 80, 81, 82, 83, 84, 85, 86, 87, 88, 89, 90, 91, 92, 93, 94, 95, 96, 97, 98, 99, 100, 101, 102, 103, 104, 105, 106, 107, 108, 109, 110, 111, 112, 113, 114, 115, 116, 117, 118, 119, 120, 121, 122, 123, 124, 125, 126, 127, 128, 129, 130, 131, 132, 133, 134, 135, 136, 137, 138, 139, 140, 141, 142, 143, 144, 145, 146, 147, 148, 149, 150, 151, 152, 153, 154, 155, 156, 157, 158, 159, 160, 161, 162, 163, 164, 165, 166, 167, 168, 169, 170, 171, 172, 173, 174, 175, 176, 177, 178, 179, 180, 181, 182, 183, 184, 185, 186, 187, 188, 189, 190, 191, 192, 193, 194, 195, 196, 197, 198, 199, 200], 'Problem_15_output_59': [0.040000000000000036, 3, 4, 35, 69, 80, 179, 188, 200], 'Problem_35_output_195': [1.0, 1, 2, 3, 4, 5, 6, 7, 8, 9, 10, 11, 12, 13, 14, 15, 16, 17, 18, 19, 20, 21, 22, 23, 24, 25, 26, 27, 28, 29, 30, 31, 32, 33, 34, 35, 36, 37, 38, 39, 40, 41, 42, 43, 44, 45, 46, 47, 48, 49, 50, 51, 52, 53, 54, 55, 56, 57, 58, 59, 60, 61, 62, 63, 64, 65, 66, 67, 68, 69, 70, 71, 72, 73, 74, 75, 76, 77, 78, 79, 80, 81, 82, 83, 84, 85, 86, 87, 88, 89, 90, 91, 92, 93, 94, 95, 96, 97, 98, 99, 100, 101, 102, 103, 104, 105, 106, 107, 108, 109, 110, 111, 112, 113, 114, 115, 116, 117, 118, 119, 120, 121, 122, 123, 124, 125, 126, 127, 128, 129, 130, 131, 132, 133, 134, 135, 136, 137, 138, 139, 140, 141, 142, 143, 144, 145, 146, 147, 148, 149, 150, 151, 152, 153, 154, 155, 156, 157, 158, 159, 160, 161, 162, 163, 164, 165, 166, 167, 168, 169, 170, 171, 172, 173, 174, 175, 176, 177, 178, 179, 180, 181, 182, 183, 184, 185, 186, 187, 188, 189, 190, 191, 192, 193, 194, 195, 196, 197, 198, 199, 200], 'Problem_13_output_52': [0.0], 'Problem_22_output_107': [0.46499999999999997, 1, 3, 4, 5, 6, 10, 11, 12, 16, 17, 18, 23, 25, 26, 27, 28, 29, 30, 31, 32, 34, 36, 37, 38, 40, 41, 44, 46, 47, 49, 50, 51, 52, 53, 55, 56, 57, 59, 61, 63, 65, 67, 71, 72, 73, 75, 76, 79, 80, 82, 84, 85, 86, 87, 90, 91, 93, 94, 95, 96, 98, 100, 101, 102, 107, 108, 110, 111, 112, 113, 115, 117, 118, 119, 127, 130, 131, 134, 139, 143, 144, 146, 147, 149, 153, 160, 165, 171, 172, 177, 188, 198, 200], 'Problem_160_output_743': [0.97, 1, 2, 3, 4, 5, 6, 7, 8, 9, 10, 11, 12, 13, 14, 15, 16, 17, 18, 19, 20, 21, 22, 23, 24, 25, 26, 27, 28, 29, 30, 31, 32, 33, 34, 35, 36, 37, 38, 39, 40, 41, 42, 43, 44, 45, 46, 47, 48, 49, 50, 51, 52, 53, 54, 55, 56, 57, 58, 59, 60, 61, 62, 63, 64, 66, 67, 68, 69, 70, 71, 72, 73, 74, 75, 76, 77, 78, 79, 80, 81, 83, 84, 85, 86, 87, 88, 89, 90, 91, 92, 93, 94, 95, 96, 97, 98, 99, 100, 101, 102, 103, 104, 105, 106, 107, 108, 109, 110, 111, 112, 113, 114, 115, 116, 117, 118, 119, 120, 121, 122, 123, 124, 125, 126, 127, 128, 129, 130, 132, 133, 134, 135, 137, 138, 139, 140, 141, 142, 143, 144, 145, 146, 147, 148, 149, 150, 151, 152, 153, 154, 155, 156, 157, 158, 159, 160, 161, 162, 163, 164, 165, 166, 167, 168, 169, 170, 171, 172, 173, 174, 175, 176, 177, 178, 179, 181, 182, 183, 185, 186, 187, 188, 189, 190, 191, 192, 193, 194, 195, 196, 197, 198, 199, 200], 'Problem_99_output_519': [0.995, 1, 2, 3, 4, 5, 6, 7, 8, 9, 10, 11, 12, 13, 14, 15, 16, 17, 18, 19, 20, 21, 22, 23, 24, 25, 26, 27, 28, 29, 30, 31, 32, 33, 34, 35, 36, 37, 38, 39, 40, 41, 42, 43, 44, 45, 46, 47, 48, 49, 50, 51, 52, 53, 54, 55, 56, 57, 58, 59, 60, 61, 62, 63, 64, 65, 66, 67, 68, 69, 70, 71, 72, 73, 74, 75, 76, 77, 78, 79, 80, 81, 82, 83, 84, 85, 86, 87, 88, 89, 90, 91, 92, 93, 94, 95, 96, 97, 98, 99, 100, 101, 102, 103, 104, 105, 106, 107, 108, 109, 110, 111, 112, 113, 114, 115, 116, 117, 118, 119, 120, 121, 122, 123, 124, 125, 126, 127, 128, 129, 130, 131, 132, 133, 134, 135, 136, 137, 138, 139, 140, 141, 142, 143, 144, 145, 146, 147, 148, 149, 150, 151, 152, 153, 154, 155, 156, 157, 158, 159, 160, 161, 162, 163, 164, 165, 166, 167, 168, 169, 170, 171, 172, 173, 174, 175, 176, 177, 178, 179, 180, 181, 182, 183, 184, 185, 186, 187, 188, 189, 190, 191, 192, 193, 194, 195, 196, 197, 199, 200], 'Problem_16_output_63': [1.0, 1, 2, 3, 4, 5, 6, 7, 8, 9, 10, 11, 12, 13, 14, 15, 16, 17, 18, 19, 20, 21, 22, 23, 24, 25, 26, 27, 28, 29, 30, 31, 32, 33, 34, 35, 36, 37, 38, 39, 40, 41, 42, 43, 44, 45, 46, 47, 48, 49, 50, 51, 52, 53, 54, 55, 56, 57, 58, 59, 60, 61, 62, 63, 64, 65, 66, 67, 68, 69, 70, 71, 72, 73, 74, 75, 76, 77, 78, 79, 80, 81, 82, 83, 84, 85, 86, 87, 88, 89, 90, 91, 92, 93, 94, 95, 96, 97, 98, 99, 100, 101, 102, 103, 104, 105, 106, 107, 108, 109, 110, 111, 112, 113, 114, 115, 116, 117, 118, 119, 120, 121, 122, 123, 124, 125, 126, 127, 128, 129, 130, 131, 132, 133, 134, 135, 136, 137, 138, 139, 140, 141, 142, 143, 144, 145, 146, 147, 148, 149, 150, 151, 152, 153, 154, 155, 156, 157, 158, 159, 160, 161, 162, 163, 164, 165, 166, 167, 168, 169, 170, 171, 172, 173, 174, 175, 176, 177, 178, 179, 180, 181, 182, 183, 184, 185, 186, 187, 188, 189, 190, 191, 192, 193, 194, 195, 196, 197, 198, 199, 200], 'Problem_45_output_245': [0.33499999999999996, 9, 17, 18, 29, 45, 46, 61, 66, 68, 69, 77, 81, 82, 84, 86, 88, 89, 91, 94, 95, 98, 100, 101, 103, 106, 107, 112, 113, 114, 115, 121, 124, 125, 126, 127, 128, 131, 132, 133, 134, 135, 136, 137, 138, 141, 143, 155, 156, 157, 162, 167, 170, 172, 175, 176, 177, 178, 180, 183, 185, 191, 192, 193, 195, 197, 198, 200], 'Problem_101_output_527': [1.0, 1, 2, 3, 4, 5, 6, 7, 8, 9, 10, 11, 12, 13, 14, 15, 16, 17, 18, 19, 20, 21, 22, 23, 24, 25, 26, 27, 28, 29, 30, 31, 32, 33, 34, 35, 36, 37, 38, 39, 40, 41, 42, 43, 44, 45, 46, 47, 48, 49, 50, 51, 52, 53, 54, 55, 56, 57, 58, 59, 60, 61, 62, 63, 64, 65, 66, 67, 68, 69, 70, 71, 72, 73, 74, 75, 76, 77, 78, 79, 80, 81, 82, 83, 84, 85, 86, 87, 88, 89, 90, 91, 92, 93, 94, 95, 96, 97, 98, 99, 100, 101, 102, 103, 104, 105, 106, 107, 108, 109, 110, 111, 112, 113, 114, 115, 116, 117, 118, 119, 120, 121, 122, 123, 124, 125, 126, 127, 128, 129, 130, 131, 132, 133, 134, 135, 136, 137, 138, 139, 140, 141, 142, 143, 144, 145, 146, 147, 148, 149, 150, 151, 152, 153, 154, 155, 156, 157, 158, 159, 160, 161, 162, 163, 164, 165, 166, 167, 168, 169, 170, 171, 172, 173, 174, 175, 176, 177, 178, 179, 180, 181, 182, 183, 184, 185, 186, 187, 188, 189, 190, 191, 192, 193, 194, 195, 196, 197, 198, 199, 200], 'Problem_94_output_483': [0.020000000000000018, 47, 68, 157, 184], 'Problem_27_output_124': [0.28500000000000003, 3, 7, 8, 12, 13, 16, 25, 31, 36, 39, 42, 44, 47, 49, 51, 53, 55, 57, 59, 62, 66, 68, 70, 71, 88, 94, 96, 98, 100, 103, 106, 108, 116, 118, 120, 122, 124, 126, 128, 131, 135, 136, 138, 139, 155, 160, 161, 164, 167, 176, 179, 181, 186, 189, 192, 196, 197], 'Problem_163_output_857': [0.0], 'Problem_58_output_322': [0.815, 2, 3, 4, 5, 6, 7, 8, 9, 10, 12, 13, 14, 15, 16, 17, 20, 21, 23, 24, 25, 26, 27, 28, 29, 30, 32, 33, 34, 35, 36, 37, 38, 39, 41, 42, 44, 46, 47, 49, 50, 51, 53, 54, 55, 56, 57, 58, 59, 60, 61, 62, 63, 64, 66, 67, 68, 70, 71, 72, 73, 75, 76, 77, 78, 79, 80, 81, 82, 84, 85, 87, 88, 89, 90, 92, 93, 94, 95, 96, 97, 98, 100, 101, 102, 103, 104, 105, 106, 107, 108, 109, 111, 112, 113, 114, 115, 116, 117, 118, 121, 122, 124, 125, 126, 127, 128, 129, 130, 131, 133, 134, 135, 136, 137, 139, 140, 141, 142, 145, 147, 148, 149, 151, 152, 153, 154, 155, 156, 157, 158, 159, 160, 161, 162, 163, 164, 165, 167, 168, 170, 172, 174, 175, 176, 177, 178, 179, 180, 182, 184, 185, 186, 187, 190, 191, 192, 193, 194, 195, 197, 198, 199, 200], 'Problem_67_output_366': [0.96, 1, 2, 3, 4, 5, 6, 7, 9, 10, 11, 12, 13, 14, 15, 16, 17, 18, 19, 20, 22, 23, 24, 25, 26, 27, 28, 29, 30, 31, 32, 33, 34, 35, 36, 37, 38, 39, 40, 41, 42, 43, 44, 45, 46, 47, 48, 49, 50, 51, 52, 53, 56, 57, 58, 59, 60, 61, 63, 64, 65, 66, 67, 68, 69, 70, 71, 72, 73, 74, 75, 77, 78, 79, 80, 81, 82, 83, 84, 85, 86, 87, 88, 89, 90, 91, 92, 93, 94, 95, 96, 97, 98, 99, 100, 101, 102, 103, 104, 105, 106, 107, 108, 109, 110, 111, 112, 113, 114, 115, 116, 117, 118, 119, 120, 121, 122, 123, 124, 125, 126, 127, 128, 129, 130, 131, 132, 133, 134, 135, 136, 137, 138, 139, 140, 141, 142, 143, 144, 145, 146, 147, 148, 149, 150, 151, 152, 153, 154, 155, 156, 157, 158, 159, 160, 161, 162, 163, 164, 165, 166, 167, 168, 169, 170, 171, 172, 173, 174, 175, 176, 177, 178, 179, 180, 181, 182, 183, 184, 185, 186, 187, 188, 189, 190, 191, 192, 193, 194, 195, 196, 197, 199], 'Problem_159_output_733': [0.030000000000000027, 3, 13, 31, 36, 54, 72], 'Problem_11_output_33': [0.0], 'Problem_46_output_170': [0.09499999999999997, 5, 8, 46, 50, 56, 59, 62, 65, 113, 114, 115, 117, 123, 155, 156, 161, 170, 189, 197], 'Problem_158_output_819': [1.0, 1, 2, 3, 4, 5, 6, 7, 8, 9, 10, 11, 12, 13, 14, 15, 16, 17, 18, 19, 20, 21, 22, 23, 24, 25, 26, 27, 28, 29, 30, 31, 32, 33, 34, 35, 36, 37, 38, 39, 40, 41, 42, 43, 44, 45, 46, 47, 48, 49, 50, 51, 52, 53, 54, 55, 56, 57, 58, 59, 60, 61, 62, 63, 64, 65, 66, 67, 68, 69, 70, 71, 72, 73, 74, 75, 76, 77, 78, 79, 80, 81, 82, 83, 84, 85, 86, 87, 88, 89, 90, 91, 92, 93, 94, 95, 96, 97, 98, 99, 100, 101, 102, 103, 104, 105, 106, 107, 108, 109, 110, 111, 112, 113, 114, 115, 116, 117, 118, 119, 120, 121, 122, 123, 124, 125, 126, 127, 128, 129, 130, 131, 132, 133, 134, 135, 136, 137, 138, 139, 140, 141, 142, 143, 144, 145, 146, 147, 148, 149, 150, 151, 152, 153, 154, 155, 156, 157, 158, 159, 160, 161, 162, 163, 164, 165, 166, 167, 168, 169, 170, 171, 172, 173, 174, 175, 176, 177, 178, 179, 180, 181, 182, 183, 184, 185, 186, 187, 188, 189, 190, 191, 192, 193, 194, 195, 196, 197, 198, 199, 200], 'Problem_160_output_744': [0.0], 'Problem_98_output_430': [0.0], 'Problem_152_output_778': [1.0, 1, 2, 3, 4, 5, 6, 7, 8, 9, 10, 11, 12, 13, 14, 15, 16, 17, 18, 19, 20, 21, 22, 23, 24, 25, 26, 27, 28, 29, 30, 31, 32, 33, 34, 35, 36, 37, 38, 39, 40, 41, 42, 43, 44, 45, 46, 47, 48, 49, 50, 51, 52, 53, 54, 55, 56, 57, 58, 59, 60, 61, 62, 63, 64, 65, 66, 67, 68, 69, 70, 71, 72, 73, 74, 75, 76, 77, 78, 79, 80, 81, 82, 83, 84, 85, 86, 87, 88, 89, 90, 91, 92, 93, 94, 95, 96, 97, 98, 99, 100, 101, 102, 103, 104, 105, 106, 107, 108, 109, 110, 111, 112, 113, 114, 115, 116, 117, 118, 119, 120, 121, 122, 123, 124, 125, 126, 127, 128, 129, 130, 131, 132, 133, 134, 135, 136, 137, 138, 139, 140, 141, 142, 143, 144, 145, 146, 147, 148, 149, 150, 151, 152, 153, 154, 155, 156, 157, 158, 159, 160, 161, 162, 163, 164, 165, 166, 167, 168, 169, 170, 171, 172, 173, 174], 'Problem_148_output_760': [0.94, 1, 2, 3, 4, 5, 6, 7, 8, 9, 10, 11, 13, 14, 15, 16, 17, 18, 19, 20, 21, 22, 23, 24, 25, 26, 28, 29, 30, 32, 33, 34, 35, 36, 37, 38, 39, 40, 41, 43, 44, 45, 46, 47, 48, 50, 51, 52, 53, 54, 56, 57, 58, 59, 60, 61, 62, 63, 64, 65, 66, 67, 68, 69, 70, 71, 72, 73, 74, 75, 76, 77, 78, 79, 80, 82, 83, 84, 85, 86, 87, 89, 90, 91, 92, 93, 94, 95, 96, 97, 99, 100, 101, 102, 103, 104, 105, 106, 107, 108, 109, 110, 111, 112, 113, 114, 115, 116, 117, 118, 119, 120, 121, 122, 123, 124, 125, 126, 127, 129, 130, 131, 132, 133, 134, 135, 136, 137, 138, 139, 140, 141, 142, 143, 144, 145, 146, 147, 148, 149, 150, 151, 152, 153, 154, 155, 157, 158, 159, 160, 161, 162, 163, 164, 165, 166, 167, 168, 169, 170, 171, 172, 173, 174, 175, 176, 177, 178, 179, 180, 181, 182, 183, 184, 185, 186, 187, 188, 189, 190, 191, 192, 193, 194, 195, 196, 197, 199, 200], 'Problem_53_output_293': [0.995, 1, 2, 3, 4, 6, 7, 8, 9, 10, 11, 12, 13, 14, 15, 16, 17, 18, 19, 20, 21, 22, 23, 24, 25, 26, 27, 28, 29, 30, 31, 32, 33, 34, 35, 36, 37, 38, 39, 40, 41, 42, 43, 44, 45, 46, 47, 48, 49, 50, 51, 52, 53, 54, 55, 56, 57, 58, 59, 60, 61, 62, 63, 64, 65, 66, 67, 68, 69, 70, 71, 72, 73, 74, 75, 76, 77, 78, 79, 80, 81, 82, 83, 84, 85, 86, 87, 88, 89, 90, 91, 92, 93, 94, 95, 96, 97, 98, 99, 100, 101, 102, 103, 104, 105, 106, 107, 108, 109, 110, 111, 112, 113, 114, 115, 116, 117, 118, 119, 120, 121, 122, 123, 124, 125, 126, 127, 128, 129, 130, 131, 132, 133, 134, 135, 136, 137, 138, 139, 140, 141, 142, 143, 144, 145, 146, 147, 148, 149, 150, 151, 152, 153, 154, 155, 156, 157, 158, 159, 160, 161, 162, 163, 164, 165, 166, 167, 168, 169, 170, 171, 172, 173, 174, 175, 176, 177, 178, 179, 180, 181, 182, 183, 184, 185, 186, 187, 188, 189, 190, 191, 192, 193, 194, 195, 196, 197, 198, 199, 200], 'Problem_13_output_42': [0.0], 'Problem_57_output_315': [0.32999999999999996, 1, 3, 5, 8, 10, 12, 14, 15, 17, 26, 30, 32, 33, 35, 37, 47, 48, 51, 52, 63, 72, 74, 75, 77, 79, 84, 85, 86, 87, 91, 96, 97, 98, 99, 101, 103, 108, 109, 110, 112, 114, 118, 119, 120, 126, 127, 128, 134, 135, 141, 142, 148, 149, 154, 159, 163, 164, 168, 171, 174, 179, 182, 183, 184, 192, 194], 'Problem_88_output_450': [0.0], 'Problem_27_output_126': [0.49, 3, 4, 5, 6, 7, 8, 9, 10, 12, 13, 16, 25, 27, 29, 31, 36, 37, 39, 42, 44, 47, 48, 49, 51, 52, 53, 55, 56, 57, 59, 60, 62, 63, 64, 66, 68, 70, 71, 72, 73, 74, 75, 88, 89, 94, 96, 98, 100, 103, 106, 107, 108, 111, 113, 116, 117, 118, 120, 121, 122, 124, 125, 126, 128, 129, 130, 131, 132, 133, 135, 136, 138, 139, 141, 142, 143, 155, 160, 161, 164, 167, 171, 174, 176, 177, 179, 180, 181, 186, 187, 188, 189, 190, 191, 192, 196, 197, 199], 'Problem_57_output_320': [0.0], 'Problem_106_output_552': [1.0, 1, 2, 3, 4, 5, 6, 7, 8, 9, 10, 11, 12, 13, 14, 15, 16, 17, 18, 19, 20, 21, 22, 23, 24, 25, 26, 27, 28, 29, 30, 31, 32, 33, 34, 35, 36, 37, 38, 39, 40, 41, 42, 43, 44, 45, 46, 47, 48, 49, 50, 51, 52, 53, 54, 55, 56, 57, 58, 59, 60, 61, 62, 63, 64, 65, 66, 67, 68, 69, 70, 71, 72, 73, 74, 75, 76, 77, 78, 79, 80, 81, 82, 83, 84, 85, 86, 87, 88, 89, 90, 91, 92, 93, 94, 95, 96, 97, 98, 99, 100, 101, 102, 103, 104, 105, 106, 107, 108, 109, 110, 111, 112, 113, 114, 115, 116, 117, 118, 119, 120, 121, 122, 123, 124, 125, 126, 127, 128, 129, 130, 131, 132, 133, 134, 135, 136, 137, 138, 139, 140, 141, 142, 143, 144, 145, 146, 147, 148, 149, 150, 151, 152, 153, 154, 155, 156, 157, 158, 159, 160, 161, 162, 163, 164, 165, 166, 167, 168, 169, 170, 171, 172, 173, 174, 175, 176, 177, 178, 179, 180, 181, 182, 183, 184, 185, 186, 187, 188, 189, 190, 191, 192, 193, 194, 195, 196, 197, 198, 199, 200], 'Problem_123_output_608': [0.04500000000000004, 6, 8, 9, 13, 14, 87, 100, 112, 143], 'Problem_158_output_725': [0.30000000000000004, 6, 8, 12, 15, 19, 22, 25, 28, 33, 38, 40, 43, 52, 53, 65, 66, 75, 76, 81, 84, 85, 87, 88, 92, 98, 100, 106, 107, 111, 113, 120, 121, 127, 129, 135, 137, 138, 140, 143, 147, 150, 151, 154, 156, 161, 163, 164, 166, 167, 172, 173, 177, 182, 183, 185, 186, 192, 195, 198, 200], 'Problem_82_output_434': [0.0050000000000000044, 151], 'Problem_50_output_287': [0.0], 'Problem_11_output_36': [0.0], 'Problem_41_output_150': [1.0, 1, 2, 3, 4, 5, 6, 7, 8, 9, 10, 11, 12, 13, 14, 15, 16, 17, 18, 19, 20, 21, 22, 23, 24, 25, 26, 27, 28, 29, 30, 31, 32, 33, 34, 35, 36, 37, 38, 39, 40, 41, 42, 43, 44, 45, 46, 47, 48, 49, 50, 51, 52, 53, 54, 55, 56, 57, 58, 59, 60, 61, 62, 63, 64, 65, 66, 67, 68, 69, 70, 71, 72, 73, 74, 75, 76, 77, 78, 79, 80, 81, 82, 83, 84, 85, 86, 87, 88, 89, 90, 91, 92, 93, 94, 95, 96, 97, 98, 99, 100, 101, 102, 103, 104, 105, 106, 107, 108, 109, 110, 111, 112, 113, 114, 115, 116, 117, 118, 119, 120, 121, 122, 123, 124, 125, 126, 127, 128, 129, 130, 131, 132, 133, 134, 135, 136, 137, 138, 139, 140, 141, 142, 143, 144, 145, 146, 147, 148, 149, 150, 151, 152, 153, 154, 155, 156, 157, 158, 159, 160, 161, 162, 163, 164, 165, 166, 167, 168, 169, 170, 171, 172, 173, 174, 175, 176, 177, 178, 179, 180, 181, 182, 183, 184, 185, 186, 187, 188, 189, 190, 191, 192, 193, 194, 195, 196, 197, 198, 199, 200], 'Problem_34_output_190': [0.030000000000000027, 39, 51, 172, 180, 187, 194], 'Problem_114_output_587': [1.0, 1, 2, 3, 4, 5, 6, 7, 8, 9, 10, 11, 12, 13, 14, 15, 16, 17, 18, 19, 20, 21, 22, 23, 24, 25, 26, 27, 28, 29, 30, 31, 32, 33, 34, 35, 36, 37, 38, 39, 40, 41, 42, 43, 44, 45, 46, 47, 48, 49, 50, 51, 52, 53, 54, 55, 56, 57, 58, 59, 60, 61, 62, 63, 64, 65, 66, 67, 68, 69, 70, 71, 72, 73, 74, 75, 76, 77, 78, 79, 80, 81, 82, 83, 84, 85, 86, 87, 88, 89, 90, 91, 92, 93, 94, 95, 96, 97, 98, 99, 100, 101, 102, 103, 104, 105, 106, 107, 108, 109, 110, 111, 112, 113, 114, 115, 116, 117, 118, 119, 120, 121, 122, 123, 124, 125, 126, 127, 128, 129, 130, 131, 132, 133, 134, 135, 136, 137, 138, 139, 140, 141, 142, 143, 144, 145, 146, 147, 148, 149, 150, 151, 152, 153, 154, 155, 156, 157, 158, 159, 160, 161, 162, 163, 164, 165, 166, 167, 168, 169, 170, 171, 172, 173, 174, 175, 176, 177, 178, 179, 180, 181, 182, 183, 184, 185, 186, 187, 188, 189, 190, 191, 192, 193, 194, 195, 196, 197, 198, 199, 200], 'Problem_9_output_24': [0.0], 'Problem_100_output_525': [1.0, 1, 2, 3, 4, 5, 6, 7, 8, 9, 10, 11, 12, 13, 14, 15, 16, 17, 18, 19, 20, 21, 22, 23, 24, 25, 26, 27, 28, 29, 30, 31, 32, 33, 34, 35, 36, 37, 38, 39, 40, 41, 42, 43, 44, 45, 46, 47, 48, 49, 50, 51, 52, 53, 54, 55, 56, 57, 58, 59, 60, 61, 62, 63, 64, 65, 66, 67, 68, 69, 70, 71, 72, 73, 74, 75, 76, 77, 78, 79, 80, 81, 82, 83, 84, 85, 86, 87, 88, 89, 90, 91, 92, 93, 94, 95, 96, 97, 98, 99, 100, 101, 102, 103, 104, 105, 106, 107, 108, 109, 110, 111, 112, 113, 114, 115, 116, 117, 118, 119, 120, 121, 122, 123, 124, 125, 126, 127, 128, 129, 130, 131, 132, 133, 134, 135, 136, 137, 138, 139, 140, 141, 142, 143, 144, 145, 146, 147, 148, 149, 150, 151, 152, 153, 154, 155, 156, 157, 158, 159, 160, 161, 162, 163, 164, 165, 166, 167, 168, 169, 170, 171, 172, 173, 174, 175, 176, 177, 178, 179, 180, 181, 182, 183, 184, 185, 186, 187, 188, 189, 190, 191, 192, 193, 194, 195, 196, 197, 198, 199, 200], 'Problem_40_output_228': [0.05500000000000005, 3, 5, 7, 23, 48, 60, 76, 89, 100, 139, 169], 'Problem_17_output_72': [0.0], 'Problem_135_output_642': [1.0, 1, 2, 3, 4, 5, 6, 7, 8, 9, 10, 11, 12, 13, 14, 15, 16, 17, 18, 19, 20, 21, 22, 23, 24, 25, 26, 27, 28, 29, 30, 31, 32, 33, 34, 35, 36, 37, 38, 39, 40, 41, 42, 43, 44, 45, 46, 47, 48, 49, 50, 51, 52, 53, 54, 55, 56, 57, 58, 59, 60, 61, 62, 63, 64, 65, 66, 67, 68, 69, 70, 71, 72, 73, 74, 75, 76, 77, 78, 79, 80, 81, 82, 83, 84, 85, 86, 87, 88, 89, 90, 91, 92, 93, 94, 95, 96, 97, 98, 99, 100, 101, 102, 103, 104, 105, 106, 107, 108, 109, 110, 111, 112, 113, 114, 115, 116, 117, 118, 119, 120, 121, 122, 123, 124, 125, 126, 127, 128, 129, 130, 131, 132, 133, 134, 135, 136, 137, 138, 139, 140, 141, 142, 143, 144, 145, 146, 147, 148, 149, 150, 151, 152, 153, 154, 155, 156, 157, 158, 159, 160, 161, 162, 163, 164, 165, 166, 167, 168, 169, 170, 171, 172, 173, 174, 175, 176, 177, 178, 179, 180, 181, 182, 183, 184, 185, 186, 187, 188, 189, 190, 191, 192, 193, 194, 195, 196, 197, 198, 199, 200], 'Problem_123_output_609': [0.0050000000000000044, 12], 'Problem_41_output_230': [0.86, 1, 2, 3, 4, 5, 6, 8, 9, 10, 11, 12, 13, 14, 15, 16, 17, 18, 19, 21, 22, 23, 24, 25, 26, 27, 28, 29, 32, 33, 34, 35, 36, 37, 39, 40, 41, 42, 43, 44, 48, 49, 50, 51, 52, 53, 55, 57, 58, 59, 60, 61, 62, 63, 66, 68, 70, 72, 73, 74, 75, 76, 77, 78, 79, 80, 81, 82, 83, 84, 85, 86, 87, 88, 89, 90, 91, 93, 94, 95, 96, 97, 98, 99, 100, 101, 102, 104, 105, 107, 108, 110, 111, 112, 113, 114, 115, 116, 117, 118, 119, 120, 121, 123, 124, 125, 126, 127, 128, 129, 131, 132, 133, 135, 136, 137, 138, 139, 140, 141, 142, 144, 146, 147, 148, 149, 150, 151, 152, 153, 154, 155, 156, 157, 158, 159, 160, 161, 162, 163, 164, 165, 167, 168, 169, 170, 171, 172, 173, 174, 175, 176, 177, 178, 179, 181, 182, 183, 184, 185, 186, 187, 188, 189, 190, 192, 193, 194, 195, 196, 197, 199, 200], 'Problem_31_output_143': [0.585, 3, 4, 6, 7, 9, 11, 14, 15, 17, 18, 19, 21, 24, 25, 27, 28, 30, 32, 33, 34, 37, 38, 39, 42, 43, 44, 47, 48, 51, 52, 54, 55, 57, 58, 60, 61, 63, 64, 66, 67, 68, 69, 72, 73, 75, 77, 78, 81, 82, 84, 86, 87, 89, 92, 94, 95, 97, 99, 100, 102, 103, 106, 107, 109, 110, 112, 113, 115, 116, 117, 118, 120, 121, 122, 123, 124, 125, 126, 129, 130, 131, 133, 134, 137, 138, 140, 142, 144, 149, 151, 152, 154, 158, 160, 161, 162, 163, 164, 166, 167, 169, 170, 173, 174, 176, 177, 179, 180, 182, 184, 186, 191, 196, 197, 198, 199, 200], 'Problem_90_output_475': [0.12, 2, 9, 10, 16, 17, 21, 75, 76, 77, 78, 79, 82, 84, 89, 133, 136, 137, 138, 139, 142, 144, 147, 148, 196], 'Problem_88_output_468': [0.575, 1, 3, 4, 5, 7, 8, 9, 10, 11, 12, 14, 16, 17, 18, 19, 23, 24, 25, 26, 29, 30, 33, 34, 35, 37, 38, 39, 41, 42, 43, 45, 46, 47, 50, 53, 54, 55, 56, 57, 58, 60, 61, 62, 64, 66, 67, 68, 69, 72, 73, 74, 75, 77, 81, 82, 84, 85, 88, 89, 92, 93, 97, 98, 99, 100, 101, 102, 104, 105, 106, 108, 109, 110, 111, 114, 115, 116, 118, 122, 123, 125, 127, 131, 135, 136, 137, 138, 140, 142, 143, 144, 147, 148, 149, 154, 156, 160, 164, 165, 166, 167, 169, 171, 172, 175, 176, 181, 183, 186, 189, 191, 192, 194, 199, 200], 'Problem_139_output_672': [0.0], 'Problem_51_output_290': [0.905, 1, 2, 3, 4, 5, 6, 7, 8, 9, 10, 11, 12, 13, 14, 15, 16, 17, 18, 19, 20, 21, 22, 23, 24, 25, 26, 27, 28, 29, 30, 31, 33, 34, 35, 37, 38, 39, 40, 41, 42, 43, 44, 45, 47, 48, 49, 50, 51, 52, 53, 54, 55, 56, 57, 60, 61, 62, 63, 64, 65, 66, 67, 68, 69, 70, 71, 72, 73, 74, 75, 76, 77, 78, 79, 80, 81, 82, 83, 84, 85, 86, 87, 88, 89, 90, 91, 92, 93, 94, 95, 96, 97, 98, 99, 100, 101, 102, 103, 104, 105, 106, 107, 108, 109, 110, 111, 112, 113, 114, 115, 116, 117, 118, 119, 120, 121, 122, 124, 125, 126, 127, 128, 129, 130, 131, 132, 133, 134, 135, 136, 137, 138, 139, 140, 141, 142, 143, 145, 146, 147, 150, 151, 154, 157, 159, 161, 163, 165, 166, 167, 168, 169, 170, 171, 172, 173, 174, 175, 176, 177, 178, 179, 180, 181, 182, 183, 184, 185, 186, 187, 189, 190, 192, 193, 194, 195, 196, 197, 198, 199, 200], 'Problem_80_output_359': [0.0], 'Problem_62_output_270': [0.13, 21, 30, 35, 39, 41, 42, 89, 95, 98, 100, 101, 119, 123, 139, 141, 142, 153, 159, 162, 174, 176, 177, 183, 190, 191, 199], 'Problem_88_output_447': [0.985, 1, 2, 3, 4, 5, 6, 7, 8, 9, 10, 11, 12, 13, 14, 15, 16, 17, 18, 19, 20, 21, 22, 23, 24, 25, 26, 27, 28, 29, 30, 31, 32, 33, 34, 35, 36, 37, 38, 39, 40, 41, 42, 43, 44, 45, 46, 47, 48, 49, 50, 51, 52, 53, 54, 55, 56, 57, 58, 59, 60, 61, 62, 63, 64, 65, 66, 67, 68, 69, 70, 71, 72, 73, 74, 75, 76, 77, 78, 79, 80, 81, 82, 83, 84, 85, 86, 87, 88, 89, 90, 91, 92, 93, 94, 95, 96, 97, 98, 99, 100, 101, 102, 103, 104, 105, 106, 107, 108, 109, 110, 111, 112, 113, 114, 115, 116, 117, 118, 119, 120, 121, 122, 123, 124, 125, 126, 127, 128, 129, 130, 131, 132, 133, 134, 135, 136, 137, 138, 139, 140, 141, 142, 143, 144, 145, 146, 147, 149, 150, 151, 152, 153, 154, 155, 156, 157, 158, 159, 160, 161, 162, 163, 164, 165, 166, 167, 168, 169, 170, 171, 172, 173, 174, 176, 177, 178, 179, 180, 181, 182, 183, 184, 185, 186, 187, 188, 189, 190, 191, 192, 193, 194, 195, 196, 197, 198, 200], 'Problem_144_output_694': [0.73, 1, 3, 5, 7, 8, 9, 10, 11, 13, 14, 15, 16, 17, 18, 19, 20, 22, 24, 25, 26, 27, 28, 29, 31, 32, 33, 34, 35, 37, 39, 40, 42, 43, 44, 45, 46, 48, 49, 50, 51, 52, 54, 55, 56, 57, 58, 59, 60, 61, 62, 67, 68, 69, 70, 71, 72, 73, 75, 76, 77, 78, 79, 82, 83, 84, 85, 87, 88, 89, 90, 91, 92, 94, 95, 96, 97, 99, 100, 102, 103, 105, 106, 107, 108, 109, 111, 114, 115, 119, 120, 121, 123, 124, 128, 130, 131, 132, 133, 134, 135, 137, 139, 140, 143, 144, 145, 146, 147, 149, 151, 152, 153, 154, 155, 156, 157, 159, 161, 162, 164, 165, 167, 168, 169, 170, 171, 172, 173, 174, 175, 177, 180, 181, 182, 183, 184, 185, 186, 187, 189, 190, 191, 193, 194, 195, 197], 'Problem_22_output_106': [0.0], 'Problem_161_output_853': [0.0], 'Problem_54_output_301': [0.42000000000000004, 6, 8, 9, 10, 13, 17, 28, 30, 32, 33, 35, 36, 39, 40, 41, 45, 49, 55, 58, 60, 61, 63, 65, 68, 70, 73, 74, 82, 83, 84, 85, 86, 87, 89, 91, 94, 100, 102, 104, 111, 113, 116, 117, 122, 126, 127, 129, 130, 131, 132, 134, 139, 146, 148, 149, 150, 151, 154, 155, 157, 158, 159, 161, 163, 164, 170, 172, 173, 174, 175, 177, 178, 180, 182, 184, 185, 186, 187, 188, 189, 192, 193, 197, 199], 'Problem_53_output_295': [0.0], 'Problem_61_output_263': [0.0], 'Problem_60_output_335': [0.0], 'Problem_27_output_127': [0.12, 3, 25, 31, 36, 42, 47, 51, 55, 59, 88, 94, 100, 116, 120, 124, 128, 135, 155, 160, 164, 179, 186, 192, 196], 'Problem_106_output_548': [0.0], 'Problem_40_output_223': [0.785, 1, 2, 3, 4, 5, 6, 7, 11, 12, 13, 16, 17, 18, 19, 20, 21, 22, 23, 24, 25, 26, 27, 28, 29, 30, 31, 32, 33, 34, 35, 36, 37, 38, 39, 40, 41, 42, 43, 44, 45, 46, 47, 48, 49, 51, 52, 53, 55, 56, 57, 58, 59, 60, 62, 63, 65, 66, 67, 70, 71, 73, 75, 76, 77, 78, 79, 80, 82, 83, 84, 85, 87, 88, 89, 90, 91, 92, 93, 94, 96, 98, 100, 102, 103, 105, 106, 107, 108, 109, 110, 111, 112, 113, 114, 115, 116, 119, 121, 122, 124, 125, 127, 128, 129, 131, 133, 134, 135, 136, 137, 138, 140, 141, 142, 143, 144, 145, 146, 147, 148, 149, 150, 151, 153, 154, 155, 156, 158, 163, 164, 165, 166, 167, 168, 169, 170, 172, 174, 176, 177, 178, 180, 181, 182, 183, 184, 185, 186, 190, 192, 193, 194, 195, 197, 198, 199, 200], 'Problem_149_output_768': [1.0, 1, 2, 3, 4, 5, 6, 7, 8, 9, 10, 11, 12, 13, 14, 15, 16, 17, 18, 19, 20, 21, 22, 23, 24, 25, 26, 27, 28, 29, 30, 31, 32, 33, 34, 35, 36, 37, 38, 39, 40, 41, 42, 43, 44, 45, 46, 47, 48, 49, 50, 51, 52, 53, 54, 55, 56, 57, 58, 59, 60, 61, 62, 63, 64, 65, 66, 67, 68, 69, 70, 71, 72, 73, 74, 75, 76, 77, 78, 79, 80, 81, 82, 83, 84, 85, 86, 87, 88, 89, 90, 91, 92, 93, 94, 95, 96, 97, 98, 99, 100, 101, 102, 103, 104, 105, 106, 107, 108, 109, 110, 111, 112, 113, 114, 115, 116, 117, 118, 119, 120, 121, 122, 123, 124, 125, 126, 127, 128, 129, 130, 131, 132, 133, 134, 135, 136, 137, 138, 139, 140, 141, 142, 143, 144, 145, 146, 147, 148, 149, 150, 151, 152, 153, 154, 155, 156, 157, 158, 159, 160, 161, 162, 163, 164, 165, 166, 167, 168, 169, 170, 171, 172, 173, 174, 175, 176, 177, 178, 179, 180, 181, 182, 183, 184, 185, 186, 187, 188, 189, 190, 191, 192, 193, 194, 195, 196, 197, 198, 199, 200], 'Problem_13_output_54': [1.0, 1, 2, 3, 4, 5, 6, 7, 8, 9, 10, 11, 12, 13, 14, 15, 16, 17, 18, 19, 20, 21, 22, 23, 24, 25, 26, 27, 28, 29, 30, 31, 32, 33, 34, 35, 36, 37, 38, 39, 40, 41, 42, 43, 44, 45, 46, 47, 48, 49, 50, 51, 52, 53, 54, 55, 56, 57, 58, 59, 60, 61, 62, 63, 64, 65, 66, 67, 68, 69, 70, 71, 72, 73, 74, 75, 76, 77, 78, 79, 80, 81, 82, 83, 84, 85, 86, 87, 88, 89, 90, 91, 92, 93, 94, 95, 96, 97, 98, 99, 100, 101, 102, 103, 104, 105, 106, 107, 108, 109, 110, 111, 112, 113, 114, 115, 116, 117, 118, 119, 120, 121, 122, 123, 124, 125, 126, 127, 128, 129, 130, 131, 132, 133, 134, 135, 136, 137, 138, 139, 140, 141, 142, 143, 144, 145, 146, 147, 148, 149, 150, 151, 152, 153, 154, 155, 156, 157, 158, 159, 160, 161, 162, 163, 164, 165, 166, 167, 168, 169, 170, 171, 172, 173, 174, 175, 176, 177, 178, 179, 180, 181, 182, 183, 184, 185, 186, 187, 188, 189, 190, 191, 192, 193, 194, 195, 196, 197, 198, 199, 200], 'Problem_158_output_817': [0.0], 'Problem_82_output_438': [0.74, 1, 2, 3, 4, 5, 8, 10, 11, 13, 14, 15, 17, 18, 19, 20, 21, 22, 23, 25, 27, 29, 30, 31, 32, 33, 34, 35, 39, 40, 41, 42, 43, 44, 45, 46, 47, 48, 49, 50, 51, 54, 56, 57, 58, 59, 60, 63, 64, 65, 66, 67, 68, 69, 70, 71, 72, 74, 75, 76, 77, 78, 82, 84, 85, 87, 88, 89, 90, 91, 93, 95, 96, 97, 100, 101, 102, 104, 107, 109, 111, 115, 116, 119, 120, 122, 123, 124, 125, 126, 127, 128, 129, 130, 131, 132, 134, 135, 137, 138, 139, 141, 142, 143, 144, 145, 146, 147, 148, 149, 151, 153, 154, 156, 157, 158, 159, 162, 163, 164, 165, 167, 168, 170, 171, 172, 174, 175, 177, 178, 179, 180, 181, 182, 183, 184, 185, 186, 187, 188, 192, 193, 194, 195, 196, 197, 198, 199, 200], 'Problem_76_output_395': [0.0], 'Problem_30_output_138': [0.0], 'Problem_10_output_26': [0.22999999999999998, 1, 2, 4, 12, 13, 16, 21, 25, 27, 28, 30, 33, 35, 38, 40, 44, 45, 46, 54, 55, 56, 62, 68, 70, 71, 75, 76, 80, 89, 91, 96, 100, 108, 113, 121, 125, 128, 137, 148, 152, 155, 162, 166, 171, 175, 184], 'Problem_99_output_515': [0.33499999999999996, 2, 4, 6, 8, 15, 16, 25, 31, 33, 35, 37, 39, 46, 47, 48, 56, 63, 65, 67, 69, 71, 78, 79, 80, 87, 88, 93, 94, 96, 98, 102, 109, 110, 111, 115, 116, 117, 121, 122, 124, 126, 136, 137, 138, 143, 144, 145, 148, 149, 151, 152, 162, 163, 164, 169, 170, 172, 173, 175, 177, 181, 188, 194, 195, 197, 198, 200], 'Problem_34_output_189': [0.98, 2, 3, 4, 5, 6, 7, 8, 9, 10, 11, 12, 13, 14, 15, 16, 17, 18, 19, 20, 21, 22, 23, 24, 25, 26, 27, 28, 29, 30, 31, 32, 33, 34, 35, 36, 37, 38, 39, 40, 41, 42, 43, 44, 45, 46, 47, 48, 49, 50, 51, 52, 53, 54, 55, 56, 58, 59, 60, 61, 62, 63, 64, 65, 67, 68, 69, 70, 71, 72, 73, 74, 76, 77, 78, 79, 80, 81, 82, 83, 84, 85, 86, 87, 88, 89, 90, 91, 92, 93, 94, 95, 96, 97, 98, 99, 100, 101, 102, 103, 104, 105, 106, 107, 108, 109, 110, 111, 112, 113, 114, 115, 116, 117, 118, 119, 120, 121, 122, 123, 124, 125, 126, 127, 128, 129, 130, 131, 132, 133, 134, 135, 136, 137, 138, 139, 140, 141, 142, 143, 144, 145, 146, 147, 148, 149, 150, 151, 152, 153, 154, 155, 156, 157, 158, 159, 160, 161, 162, 163, 164, 165, 166, 167, 168, 169, 170, 171, 172, 173, 174, 175, 176, 177, 178, 179, 180, 181, 182, 183, 184, 185, 186, 187, 188, 189, 190, 191, 192, 193, 194, 195, 196, 197, 198, 199, 200], 'Problem_27_output_123': [1.0, 1, 2, 3, 4, 5, 6, 7, 8, 9, 10, 11, 12, 13, 14, 15, 16, 17, 18, 19, 20, 21, 22, 23, 24, 25, 26, 27, 28, 29, 30, 31, 32, 33, 34, 35, 36, 37, 38, 39, 40, 41, 42, 43, 44, 45, 46, 47, 48, 49, 50, 51, 52, 53, 54, 55, 56, 57, 58, 59, 60, 61, 62, 63, 64, 65, 66, 67, 68, 69, 70, 71, 72, 73, 74, 75, 76, 77, 78, 79, 80, 81, 82, 83, 84, 85, 86, 87, 88, 89, 90, 91, 92, 93, 94, 95, 96, 97, 98, 99, 100, 101, 102, 103, 104, 105, 106, 107, 108, 109, 110, 111, 112, 113, 114, 115, 116, 117, 118, 119, 120, 121, 122, 123, 124, 125, 126, 127, 128, 129, 130, 131, 132, 133, 134, 135, 136, 137, 138, 139, 140, 141, 142, 143, 144, 145, 146, 147, 148, 149, 150, 151, 152, 153, 154, 155, 156, 157, 158, 159, 160, 161, 162, 163, 164, 165, 166, 167, 168, 169, 170, 171, 172, 173, 174, 175, 176, 177, 178, 179, 180, 181, 182, 183, 184, 185, 186, 187, 188, 189, 190, 191, 192, 193, 194, 195, 196, 197, 198, 199, 200], 'Problem_129_output_621': [0.44499999999999995, 1, 2, 4, 5, 7, 8, 9, 10, 14, 15, 17, 20, 23, 26, 27, 32, 34, 35, 37, 38, 41, 44, 45, 46, 47, 48, 49, 50, 51, 52, 55, 56, 57, 58, 59, 63, 64, 65, 66, 67, 68, 69, 73, 74, 76, 77, 79, 80, 81, 82, 83, 86, 91, 93, 94, 98, 100, 102, 103, 105, 107, 108, 109, 111, 113, 114, 117, 120, 131, 134, 136, 137, 139, 145, 146, 150, 152, 153, 155, 158, 160, 163, 173, 175, 179, 181, 193, 197, 199], 'Problem_44_output_162': [0.0], 'Problem_28_output_132': [0.785, 1, 3, 4, 5, 6, 7, 9, 11, 12, 13, 16, 17, 18, 20, 21, 22, 24, 25, 27, 28, 29, 30, 31, 32, 35, 36, 37, 38, 39, 40, 41, 42, 43, 44, 46, 47, 48, 49, 50, 51, 52, 53, 54, 55, 57, 58, 59, 60, 61, 62, 63, 64, 65, 66, 67, 68, 69, 71, 72, 73, 74, 76, 77, 78, 79, 80, 82, 83, 84, 85, 86, 87, 88, 90, 91, 92, 94, 97, 98, 99, 101, 102, 103, 104, 106, 107, 108, 111, 114, 115, 118, 119, 122, 123, 126, 127, 128, 129, 130, 133, 135, 136, 137, 138, 139, 140, 141, 142, 143, 144, 146, 147, 148, 149, 150, 151, 153, 154, 156, 157, 158, 159, 160, 161, 163, 165, 166, 167, 168, 169, 170, 171, 173, 174, 175, 176, 177, 178, 179, 180, 181, 182, 183, 184, 186, 187, 188, 189, 190, 191, 192, 193, 194, 195, 198, 199, 200], 'Problem_136_output_653': [0.475, 1, 2, 4, 6, 7, 10, 11, 12, 13, 14, 15, 16, 17, 19, 20, 21, 24, 25, 27, 28, 30, 31, 32, 35, 38, 39, 41, 42, 45, 48, 49, 53, 54, 56, 59, 62, 65, 68, 69, 70, 71, 72, 73, 76, 77, 79, 80, 82, 83, 86, 90, 91, 92, 93, 97, 98, 101, 104, 105, 112, 114, 115, 116, 118, 121, 123, 124, 127, 128, 131, 132, 133, 135, 136, 138, 147, 150, 155, 157, 158, 160, 161, 164, 165, 166, 168, 174, 180, 182, 184, 187, 188, 189, 190, 200], 'Problem_40_output_149': [0.05500000000000005, 3, 5, 7, 23, 48, 60, 76, 89, 100, 139, 169], 'Problem_60_output_331': [0.905, 1, 2, 3, 4, 5, 6, 7, 8, 9, 10, 11, 12, 13, 14, 15, 16, 17, 19, 20, 21, 22, 23, 24, 25, 26, 27, 28, 29, 30, 32, 33, 34, 35, 37, 38, 39, 40, 41, 43, 44, 45, 46, 48, 49, 50, 51, 53, 54, 55, 56, 57, 58, 59, 60, 61, 62, 63, 64, 66, 67, 68, 69, 70, 71, 73, 74, 75, 76, 77, 78, 79, 81, 82, 83, 85, 86, 87, 88, 90, 91, 92, 93, 94, 95, 96, 97, 98, 100, 101, 102, 103, 104, 106, 107, 108, 109, 110, 111, 112, 113, 114, 115, 117, 118, 119, 120, 121, 122, 123, 124, 125, 126, 127, 129, 130, 131, 132, 133, 134, 135, 136, 137, 139, 140, 141, 142, 143, 144, 145, 146, 147, 149, 150, 151, 152, 153, 155, 156, 157, 158, 159, 160, 161, 162, 163, 164, 165, 166, 167, 168, 170, 171, 172, 173, 174, 175, 176, 177, 178, 179, 180, 181, 182, 183, 184, 185, 186, 187, 188, 189, 190, 191, 192, 193, 194, 195, 196, 197, 198, 199, 200], 'Problem_47_output_176': [0.0], 'Problem_78_output_409': [0.625, 1, 2, 3, 4, 6, 7, 8, 10, 11, 12, 13, 14, 15, 16, 17, 18, 19, 20, 21, 22, 23, 24, 25, 26, 27, 28, 29, 30, 31, 32, 33, 34, 35, 36, 37, 38, 39, 40, 41, 42, 43, 44, 45, 47, 48, 49, 50, 51, 52, 53, 54, 56, 58, 60, 61, 63, 64, 65, 67, 70, 71, 72, 73, 74, 78, 80, 81, 82, 83, 87, 89, 91, 95, 97, 101, 103, 107, 108, 109, 110, 111, 112, 114, 115, 116, 117, 119, 120, 121, 122, 123, 124, 125, 127, 129, 130, 132, 134, 137, 140, 143, 145, 150, 156, 157, 159, 160, 164, 166, 167, 169, 170, 172, 173, 175, 178, 180, 184, 189, 190, 192, 193, 198, 199, 200], 'Problem_48_output_256': [0.0], 'Problem_136_output_649': [0.0050000000000000044, 45], 'Problem_114_output_586': [1.0, 1, 2, 3, 4, 5, 6, 7, 8, 9, 10, 11, 12, 13, 14, 15, 16, 17, 18, 19, 20, 21, 22, 23, 24, 25, 26, 27, 28, 29, 30, 31, 32, 33, 34, 35, 36, 37, 38, 39, 40, 41, 42, 43, 44, 45, 46, 47, 48, 49, 50, 51, 52, 53, 54, 55, 56, 57, 58, 59, 60, 61, 62, 63, 64, 65, 66, 67, 68, 69, 70, 71, 72, 73, 74, 75, 76, 77, 78, 79, 80, 81, 82, 83, 84, 85, 86, 87, 88, 89, 90, 91, 92, 93, 94, 95, 96, 97, 98, 99, 100, 101, 102, 103, 104, 105, 106, 107, 108, 109, 110, 111, 112, 113, 114, 115, 116, 117, 118, 119, 120, 121, 122, 123, 124, 125, 126, 127, 128, 129, 130, 131, 132, 133, 134, 135, 136, 137, 138, 139, 140, 141, 142, 143, 144, 145, 146, 147, 148, 149, 150, 151, 152, 153, 154, 155, 156, 157, 158, 159, 160, 161, 162, 163, 164, 165, 166, 167, 168, 169, 170, 171, 172, 173, 174, 175, 176, 177, 178, 179, 180, 181, 182, 183, 184, 185, 186, 187, 188, 189, 190, 191, 192, 193, 194, 195, 196, 197, 198, 199, 200], 'Problem_150_output_774': [0.605, 2, 6, 10, 11, 14, 17, 18, 19, 21, 23, 24, 26, 27, 28, 32, 33, 36, 38, 39, 40, 44, 45, 46, 49, 50, 53, 54, 55, 56, 57, 59, 62, 63, 65, 66, 67, 71, 72, 76, 80, 81, 83, 84, 86, 87, 88, 89, 92, 94, 95, 96, 97, 98, 99, 100, 101, 102, 103, 104, 105, 106, 107, 109, 111, 112, 113, 114, 115, 116, 117, 119, 120, 122, 123, 124, 125, 127, 129, 131, 133, 137, 138, 139, 143, 144, 147, 151, 153, 156, 160, 161, 162, 163, 164, 167, 168, 170, 171, 172, 173, 174, 175, 176, 178, 179, 180, 181, 183, 184, 185, 186, 187, 188, 189, 190, 191, 193, 194, 197, 199, 200], 'Problem_3_output_10': [0.265, 3, 6, 7, 8, 9, 10, 13, 14, 15, 16, 17, 19, 20, 23, 25, 26, 27, 28, 30, 31, 39, 44, 48, 49, 54, 62, 63, 64, 67, 79, 80, 90, 103, 104, 145, 149, 150, 152, 153, 157, 159, 160, 163, 168, 171, 176, 177, 181, 185, 188, 189, 193, 197], 'Problem_105_output_540': [0.83, 1, 2, 3, 4, 5, 6, 7, 9, 10, 11, 12, 13, 14, 16, 17, 18, 19, 20, 21, 22, 23, 25, 26, 27, 28, 29, 31, 32, 33, 34, 35, 36, 37, 38, 39, 40, 41, 42, 43, 44, 45, 47, 48, 49, 50, 52, 53, 54, 55, 56, 58, 59, 61, 63, 65, 66, 67, 68, 69, 70, 71, 72, 74, 76, 77, 78, 79, 81, 83, 84, 86, 87, 88, 89, 90, 91, 92, 93, 94, 95, 97, 99, 101, 102, 103, 104, 105, 106, 107, 108, 109, 110, 112, 113, 114, 116, 117, 118, 119, 120, 121, 122, 123, 125, 126, 127, 128, 129, 130, 131, 132, 133, 134, 135, 136, 137, 138, 140, 141, 143, 144, 145, 147, 148, 149, 150, 151, 152, 153, 154, 155, 156, 158, 159, 161, 162, 163, 164, 165, 167, 168, 170, 172, 173, 174, 175, 176, 177, 178, 179, 181, 182, 183, 186, 187, 188, 189, 190, 191, 192, 193, 195, 196, 198, 199, 200], 'Problem_18_output_77': [0.025000000000000022, 67, 117, 157, 163, 165], 'Problem_106_output_549': [1.0, 1, 2, 3, 4, 5, 6, 7, 8, 9, 10, 11, 12, 13, 14, 15, 16, 17, 18, 19, 20, 21, 22, 23, 24, 25, 26, 27, 28, 29, 30, 31, 32, 33, 34, 35, 36, 37, 38, 39, 40, 41, 42, 43, 44, 45, 46, 47, 48, 49, 50, 51, 52, 53, 54, 55, 56, 57, 58, 59, 60, 61, 62, 63, 64, 65, 66, 67, 68, 69, 70, 71, 72, 73, 74, 75, 76, 77, 78, 79, 80, 81, 82, 83, 84, 85, 86, 87, 88, 89, 90, 91, 92, 93, 94, 95, 96, 97, 98, 99, 100, 101, 102, 103, 104, 105, 106, 107, 108, 109, 110, 111, 112, 113, 114, 115, 116, 117, 118, 119, 120, 121, 122, 123, 124, 125, 126, 127, 128, 129, 130, 131, 132, 133, 134, 135, 136, 137, 138, 139, 140, 141, 142, 143, 144, 145, 146, 147, 148, 149, 150, 151, 152, 153, 154, 155, 156, 157, 158, 159, 160, 161, 162, 163, 164, 165, 166, 167, 168, 169, 170, 171, 172, 173, 174, 175, 176, 177, 178, 179, 180, 181, 182, 183, 184, 185, 186, 187, 188, 189, 190, 191, 192, 193, 194, 195, 196, 197, 198, 199, 200], 'Problem_13_output_46': [0.0], 'Problem_136_output_644': [0.99, 1, 2, 3, 4, 5, 6, 7, 8, 9, 10, 11, 12, 13, 14, 15, 16, 17, 18, 19, 20, 21, 22, 23, 24, 25, 26, 27, 28, 29, 30, 31, 32, 33, 34, 35, 36, 37, 38, 39, 40, 41, 42, 43, 44, 46, 47, 48, 49, 50, 51, 52, 53, 54, 55, 56, 57, 58, 59, 60, 61, 62, 63, 64, 65, 66, 67, 68, 69, 70, 71, 72, 73, 74, 75, 76, 77, 78, 79, 80, 81, 82, 83, 84, 85, 86, 87, 88, 89, 90, 91, 92, 93, 94, 95, 96, 97, 98, 99, 100, 101, 102, 103, 104, 105, 106, 107, 108, 109, 110, 111, 112, 113, 114, 115, 116, 117, 118, 119, 120, 121, 122, 123, 124, 125, 126, 127, 128, 129, 130, 131, 132, 133, 134, 135, 136, 137, 138, 139, 140, 141, 142, 143, 144, 145, 146, 147, 148, 149, 150, 151, 152, 153, 154, 155, 156, 158, 159, 160, 161, 162, 163, 164, 165, 166, 167, 168, 169, 170, 171, 172, 173, 174, 175, 176, 177, 178, 179, 180, 181, 182, 183, 184, 185, 186, 187, 188, 189, 190, 191, 192, 193, 194, 195, 196, 197, 198, 199, 200], 'Problem_31_output_140': [1.0, 1, 2, 3, 4, 5, 6, 7, 8, 9, 10, 11, 12, 13, 14, 15, 16, 17, 18, 19, 20, 21, 22, 23, 24, 25, 26, 27, 28, 29, 30, 31, 32, 33, 34, 35, 36, 37, 38, 39, 40, 41, 42, 43, 44, 45, 46, 47, 48, 49, 50, 51, 52, 53, 54, 55, 56, 57, 58, 59, 60, 61, 62, 63, 64, 65, 66, 67, 68, 69, 70, 71, 72, 73, 74, 75, 76, 77, 78, 79, 80, 81, 82, 83, 84, 85, 86, 87, 88, 89, 90, 91, 92, 93, 94, 95, 96, 97, 98, 99, 100, 101, 102, 103, 104, 105, 106, 107, 108, 109, 110, 111, 112, 113, 114, 115, 116, 117, 118, 119, 120, 121, 122, 123, 124, 125, 126, 127, 128, 129, 130, 131, 132, 133, 134, 135, 136, 137, 138, 139, 140, 141, 142, 143, 144, 145, 146, 147, 148, 149, 150, 151, 152, 153, 154, 155, 156, 157, 158, 159, 160, 161, 162, 163, 164, 165, 166, 167, 168, 169, 170, 171, 172, 173, 174, 175, 176, 177, 178, 179, 180, 181, 182, 183, 184, 185, 186, 187, 188, 189, 190, 191, 192, 193, 194, 195, 196, 197, 198, 199, 200], 'Problem_72_output_381': [1.0, 1, 2, 3, 4, 5, 6, 7, 8, 9, 10, 11, 12, 13, 14, 15, 16, 17, 18, 19, 20, 21, 22, 23, 24, 25, 26, 27, 28, 29, 30, 31, 32, 33, 34, 35, 36, 37, 38, 39, 40, 41, 42, 43, 44, 45, 46, 47, 48, 49, 50, 51, 52, 53, 54, 55, 56, 57, 58, 59, 60, 61, 62, 63, 64, 65, 66, 67, 68, 69, 70, 71, 72, 73, 74, 75, 76, 77, 78, 79, 80, 81, 82, 83, 84, 85, 86, 87, 88, 89, 90, 91, 92, 93, 94, 95, 96, 97, 98, 99, 100, 101, 102, 103, 104, 105, 106, 107, 108, 109, 110, 111, 112, 113, 114, 115, 116, 117, 118, 119, 120, 121, 122, 123, 124, 125, 126, 127, 128, 129, 130, 131, 132, 133, 134, 135, 136, 137, 138, 139, 140, 141, 142, 143, 144, 145, 146, 147, 148, 149, 150, 151, 152, 153, 154, 155, 156, 157, 158, 159, 160, 161, 162, 163, 164, 165, 166, 167, 168, 169, 170, 171, 172, 173, 174, 175, 176, 177, 178, 179, 180, 181, 182, 183, 184, 185, 186, 187, 188, 189, 190, 191, 192, 193, 194, 195, 196, 197, 198, 199, 200], 'Problem_67_output_361': [0.99, 1, 2, 3, 4, 5, 6, 7, 8, 9, 10, 11, 12, 13, 14, 15, 16, 17, 18, 19, 20, 22, 23, 24, 25, 26, 27, 28, 29, 30, 31, 32, 33, 34, 35, 36, 37, 38, 39, 40, 41, 42, 43, 44, 45, 46, 47, 48, 49, 50, 51, 52, 53, 54, 55, 56, 57, 58, 59, 60, 61, 62, 63, 64, 65, 66, 67, 68, 69, 70, 71, 72, 73, 74, 75, 76, 77, 78, 79, 80, 81, 82, 83, 84, 85, 86, 87, 88, 89, 90, 91, 92, 93, 94, 95, 96, 97, 98, 99, 100, 101, 102, 103, 104, 105, 106, 107, 108, 109, 110, 111, 112, 113, 114, 115, 116, 117, 118, 119, 120, 121, 122, 123, 124, 125, 126, 127, 128, 129, 130, 131, 132, 133, 134, 135, 136, 137, 138, 139, 140, 141, 142, 143, 144, 145, 146, 147, 148, 149, 150, 151, 152, 153, 154, 155, 156, 157, 158, 159, 160, 161, 162, 163, 164, 165, 166, 167, 168, 169, 170, 171, 172, 173, 174, 175, 176, 177, 178, 179, 180, 181, 182, 183, 184, 185, 186, 187, 188, 189, 190, 191, 192, 193, 194, 195, 196, 197, 199, 200], 'Problem_20_output_90': [0.0], 'Problem_158_output_718': [0.33499999999999996, 1, 3, 4, 7, 9, 10, 13, 14, 17, 18, 19, 20, 21, 24, 26, 27, 28, 29, 31, 33, 34, 35, 36, 41, 45, 47, 49, 51, 54, 56, 58, 60, 63, 69, 71, 85, 89, 93, 96, 99, 100, 103, 105, 108, 111, 114, 116, 124, 128, 135, 138, 141, 144, 149, 154, 157, 158, 161, 167, 173, 179, 181, 182, 185, 187, 190, 198], 'Problem_119_output_601': [0.62, 1, 2, 4, 5, 6, 7, 8, 9, 10, 11, 12, 16, 20, 21, 22, 24, 26, 30, 31, 32, 33, 34, 35, 37, 38, 39, 40, 41, 42, 43, 47, 48, 49, 52, 54, 55, 59, 61, 63, 64, 65, 67, 68, 69, 71, 72, 73, 74, 75, 78, 79, 80, 81, 82, 83, 85, 87, 88, 90, 91, 93, 94, 96, 99, 101, 102, 104, 106, 107, 108, 109, 110, 111, 112, 113, 115, 116, 117, 118, 119, 120, 121, 122, 124, 125, 127, 129, 131, 134, 136, 137, 138, 141, 142, 143, 144, 145, 147, 149, 150, 152, 153, 158, 160, 161, 163, 166, 167, 168, 174, 175, 181, 182, 185, 187, 188, 189, 190, 191, 192, 196, 197, 199, 200], 'Problem_145_output_697': [0.89, 1, 2, 3, 4, 5, 7, 8, 9, 10, 11, 12, 13, 14, 15, 16, 17, 18, 19, 20, 21, 22, 23, 24, 25, 26, 27, 28, 29, 30, 31, 32, 33, 34, 35, 36, 37, 38, 39, 40, 41, 42, 43, 44, 45, 46, 47, 48, 49, 50, 51, 52, 53, 54, 55, 56, 57, 58, 59, 60, 61, 62, 63, 64, 65, 66, 67, 68, 69, 70, 71, 72, 73, 74, 75, 76, 77, 78, 79, 80, 81, 82, 83, 84, 85, 86, 87, 88, 89, 90, 91, 92, 93, 95, 96, 97, 98, 99, 100, 101, 102, 103, 104, 105, 106, 107, 108, 109, 110, 111, 112, 113, 114, 115, 120, 121, 122, 123, 124, 125, 130, 131, 132, 133, 135, 137, 138, 139, 140, 141, 142, 143, 144, 145, 146, 147, 148, 149, 150, 151, 152, 153, 154, 155, 156, 157, 158, 159, 164, 165, 166, 167, 168, 173, 174, 175, 176, 178, 180, 181, 182, 183, 184, 185, 186, 187, 188, 189, 190, 191, 192, 193, 194, 195, 196, 197, 198, 199, 200], 'Problem_1_output_6': [0.43999999999999995, 3, 6, 8, 9, 10, 16, 18, 23, 25, 27, 31, 35, 36, 40, 41, 42, 50, 51, 53, 54, 56, 59, 61, 65, 66, 67, 68, 69, 74, 82, 84, 85, 89, 92, 97, 98, 103, 104, 105, 107, 109, 115, 118, 119, 120, 121, 122, 123, 125, 126, 129, 130, 131, 133, 134, 135, 136, 137, 141, 142, 143, 144, 146, 147, 148, 149, 150, 155, 156, 158, 160, 161, 162, 168, 169, 175, 176, 178, 182, 183, 185, 192, 193, 194, 195, 196, 197, 199], 'Problem_38_output_211': [0.905, 1, 2, 3, 4, 5, 7, 8, 9, 10, 12, 13, 14, 15, 16, 17, 19, 20, 21, 22, 23, 24, 25, 26, 27, 28, 29, 30, 31, 32, 33, 34, 35, 36, 37, 38, 39, 40, 41, 42, 43, 44, 45, 46, 47, 48, 49, 50, 51, 52, 53, 54, 55, 56, 57, 58, 59, 60, 61, 62, 63, 64, 65, 66, 67, 68, 69, 70, 71, 72, 73, 74, 75, 77, 78, 79, 80, 81, 82, 83, 84, 85, 86, 87, 88, 89, 90, 91, 92, 93, 94, 95, 96, 97, 98, 99, 100, 101, 102, 103, 104, 105, 106, 107, 108, 109, 110, 111, 113, 114, 115, 116, 117, 118, 119, 120, 121, 122, 123, 124, 125, 126, 127, 128, 129, 131, 132, 133, 134, 135, 136, 137, 138, 139, 140, 142, 143, 144, 145, 147, 148, 151, 152, 153, 154, 155, 156, 157, 159, 160, 162, 163, 164, 165, 166, 167, 168, 169, 170, 172, 173, 174, 175, 176, 177, 178, 180, 181, 183, 185, 186, 187, 188, 190, 191, 192, 193, 194, 197, 198, 199, 200], 'Problem_113_output_575': [0.20999999999999996, 4, 5, 10, 15, 17, 22, 23, 24, 26, 27, 30, 31, 36, 37, 39, 40, 43, 44, 47, 50, 52, 53, 54, 55, 58, 59, 60, 61, 63, 64, 66, 70, 71, 72, 73, 74, 101, 120, 138, 154, 169, 192], 'Problem_82_output_437': [0.73, 1, 4, 5, 8, 9, 10, 11, 12, 15, 16, 20, 21, 22, 25, 26, 27, 28, 29, 30, 33, 35, 36, 37, 39, 40, 42, 43, 45, 47, 50, 51, 53, 54, 55, 56, 58, 59, 60, 61, 62, 63, 64, 65, 67, 70, 72, 74, 75, 76, 77, 78, 79, 80, 81, 82, 83, 84, 85, 86, 89, 90, 91, 92, 94, 95, 96, 97, 98, 100, 102, 103, 104, 105, 106, 107, 108, 110, 112, 113, 114, 115, 116, 117, 118, 119, 120, 121, 123, 124, 125, 128, 129, 130, 131, 132, 133, 134, 135, 136, 139, 140, 141, 143, 144, 145, 147, 148, 149, 152, 153, 154, 156, 158, 159, 160, 161, 162, 166, 168, 169, 170, 172, 173, 175, 176, 178, 179, 180, 181, 182, 183, 184, 185, 186, 187, 188, 189, 190, 191, 192, 193, 195, 196, 198, 199, 200], 'Problem_16_output_64': [1.0, 1, 2, 3, 4, 5, 6, 7, 8, 9, 10, 11, 12, 13, 14, 15, 16, 17, 18, 19, 20, 21, 22, 23, 24, 25, 26, 27, 28, 29, 30, 31, 32, 33, 34, 35, 36, 37, 38, 39, 40, 41, 42, 43, 44, 45, 46, 47, 48, 49, 50, 51, 52, 53, 54, 55, 56, 57, 58, 59, 60, 61, 62, 63, 64, 65, 66, 67, 68, 69, 70, 71, 72, 73, 74, 75, 76, 77, 78, 79, 80, 81, 82, 83, 84, 85, 86, 87, 88, 89, 90, 91, 92, 93, 94, 95, 96, 97, 98, 99, 100, 101, 102, 103, 104, 105, 106, 107, 108, 109, 110, 111, 112, 113, 114, 115, 116, 117, 118, 119, 120, 121, 122, 123, 124, 125, 126, 127, 128, 129, 130, 131, 132, 133, 134, 135, 136, 137, 138, 139, 140, 141, 142, 143, 144, 145, 146, 147, 148, 149, 150, 151, 152, 153, 154, 155, 156, 157, 158, 159, 160, 161, 162, 163, 164, 165, 166, 167, 168, 169, 170, 171, 172, 173, 174, 175, 176, 177, 178, 179, 180, 181, 182, 183, 184, 185, 186, 187, 188, 189, 190, 191, 192, 193, 194, 195, 196, 197, 198, 199, 200], 'Problem_7_output_16': [0.87, 1, 4, 5, 6, 7, 8, 9, 10, 13, 15, 16, 17, 18, 19, 20, 21, 22, 23, 24, 25, 26, 27, 29, 30, 31, 32, 33, 34, 35, 36, 37, 38, 39, 40, 42, 44, 45, 46, 47, 49, 50, 51, 52, 54, 55, 56, 57, 58, 59, 60, 61, 62, 63, 64, 65, 66, 67, 68, 69, 71, 72, 73, 74, 77, 78, 79, 80, 81, 82, 83, 84, 85, 86, 87, 88, 89, 90, 91, 92, 93, 94, 95, 97, 98, 99, 100, 101, 102, 103, 104, 105, 106, 107, 108, 109, 110, 111, 112, 113, 114, 115, 117, 118, 119, 120, 121, 122, 123, 124, 125, 126, 128, 129, 130, 131, 132, 133, 135, 136, 137, 139, 140, 141, 142, 143, 145, 146, 147, 148, 149, 150, 151, 152, 154, 155, 156, 157, 158, 159, 160, 161, 162, 163, 164, 165, 167, 168, 169, 170, 171, 173, 175, 176, 177, 178, 179, 180, 181, 182, 183, 184, 186, 187, 188, 189, 191, 192, 193, 195, 196, 197, 198, 199, 200], 'Problem_142_output_683': [0.0], 'Problem_48_output_181': [1.0, 1, 2, 3, 4, 5, 6, 7, 8, 9, 10, 11, 12, 13, 14, 15, 16, 17, 18, 19, 20, 21, 22, 23, 24, 25, 26, 27, 28, 29, 30, 31, 32, 33, 34, 35, 36, 37, 38, 39, 40, 41, 42, 43, 44, 45, 46, 47, 48, 49, 50, 51, 52, 53, 54, 55, 56, 57, 58, 59, 60, 61, 62, 63, 64, 65, 66, 67, 68, 69, 70, 71, 72, 73, 74, 75, 76, 77, 78, 79, 80, 81, 82, 83, 84, 85, 86, 87, 88, 89, 90, 91, 92, 93, 94, 95, 96, 97, 98, 99, 100, 101, 102, 103, 104, 105, 106, 107, 108, 109, 110, 111, 112, 113, 114, 115, 116, 117, 118, 119, 120, 121, 122, 123, 124, 125, 126, 127, 128, 129, 130, 131, 132, 133, 134, 135, 136, 137, 138, 139, 140, 141, 142, 143, 144, 145, 146, 147, 148, 149, 150, 151, 152, 153, 154, 155, 156, 157, 158, 159, 160, 161, 162, 163, 164, 165, 166, 167, 168, 169, 170, 171, 172, 173, 174, 175, 176, 177, 178, 179, 180, 181, 182, 183, 184, 185, 186, 187, 188, 189, 190, 191, 192, 193, 194, 195, 196, 197, 198, 199, 200], 'Problem_138_output_661': [0.84, 1, 2, 3, 4, 5, 6, 7, 8, 9, 10, 11, 12, 13, 14, 15, 16, 17, 18, 19, 20, 21, 22, 23, 24, 25, 26, 27, 30, 31, 32, 33, 34, 36, 37, 38, 39, 40, 41, 42, 43, 44, 45, 46, 47, 48, 49, 50, 51, 52, 53, 54, 57, 58, 59, 60, 61, 62, 64, 66, 68, 69, 70, 71, 72, 73, 74, 75, 76, 77, 78, 79, 80, 81, 82, 83, 84, 85, 86, 87, 88, 89, 91, 92, 93, 94, 95, 96, 97, 98, 99, 100, 101, 102, 103, 104, 105, 106, 108, 109, 110, 111, 112, 113, 114, 116, 118, 119, 120, 121, 122, 123, 124, 125, 126, 128, 129, 130, 131, 132, 133, 134, 135, 136, 137, 138, 139, 140, 141, 142, 143, 144, 145, 146, 149, 152, 155, 157, 158, 161, 163, 165, 166, 167, 168, 169, 170, 171, 172, 173, 174, 175, 176, 177, 178, 179, 180, 181, 183, 185, 186, 187, 188, 190, 192, 194, 197, 199, 200], 'Problem_136_output_645': [0.0], 'Problem_124_output_614': [0.0], 'Problem_77_output_401': [0.0], 'Problem_18_output_79': [1.0, 1, 2, 3, 4, 5, 6, 7, 8, 9, 10, 11, 12, 13, 14, 15, 16, 17, 18, 19, 20, 21, 22, 23, 24, 25, 26, 27, 28, 29, 30, 31, 32, 33, 34, 35, 36, 37, 38, 39, 40, 41, 42, 43, 44, 45, 46, 47, 48, 49, 50, 51, 52, 53, 54, 55, 56, 57, 58, 59, 60, 61, 62, 63, 64, 65, 66, 67, 68, 69, 70, 71, 72, 73, 74, 75, 76, 77, 78, 79, 80, 81, 82, 83, 84, 85, 86, 87, 88, 89, 90, 91, 92, 93, 94, 95, 96, 97, 98, 99, 100, 101, 102, 103, 104, 105, 106, 107, 108, 109, 110, 111, 112, 113, 114, 115, 116, 117, 118, 119, 120, 121, 122, 123, 124, 125, 126, 127, 128, 129, 130, 131, 132, 133, 134, 135, 136, 137, 138, 139, 140, 141, 142, 143, 144, 145, 146, 147, 148, 149, 150, 151, 152, 153, 154, 155, 156, 157, 158, 159, 160, 161, 162, 163, 164, 165, 166, 167, 168, 169, 170, 171, 172, 173, 174, 175, 176, 177, 178, 179, 180, 181, 182, 183, 184, 185, 186, 187, 188, 189, 190, 191, 192, 193, 194, 195, 196, 197, 198, 199, 200], 'Problem_145_output_698': [1.0, 1, 2, 3, 4, 5, 6, 7, 8, 9, 10, 11, 12, 13, 14, 15, 16, 17, 18, 19, 20, 21, 22, 23, 24, 25, 26, 27, 28, 29, 30, 31, 32, 33, 34, 35, 36, 37, 38, 39, 40, 41, 42, 43, 44, 45, 46, 47, 48, 49, 50, 51, 52, 53, 54, 55, 56, 57, 58, 59, 60, 61, 62, 63, 64, 65, 66, 67, 68, 69, 70, 71, 72, 73, 74, 75, 76, 77, 78, 79, 80, 81, 82, 83, 84, 85, 86, 87, 88, 89, 90, 91, 92, 93, 94, 95, 96, 97, 98, 99, 100, 101, 102, 103, 104, 105, 106, 107, 108, 109, 110, 111, 112, 113, 114, 115, 116, 117, 118, 119, 120, 121, 122, 123, 124, 125, 126, 127, 128, 129, 130, 131, 132, 133, 134, 135, 136, 137, 138, 139, 140, 141, 142, 143, 144, 145, 146, 147, 148, 149, 150, 151, 152, 153, 154, 155, 156, 157, 158, 159, 160, 161, 162, 163, 164, 165, 166, 167, 168, 169, 170, 171, 172, 173, 174, 175, 176, 177, 178, 179, 180, 181, 182, 183, 184, 185, 186, 187, 188, 189, 190, 191, 192, 193, 194, 195, 196, 197, 198, 199, 200], 'Problem_88_output_453': [0.18999999999999995, 2, 6, 15, 22, 49, 52, 59, 65, 71, 87, 94, 96, 102, 107, 113, 121, 126, 132, 134, 138, 141, 146, 152, 153, 157, 161, 163, 167, 170, 174, 179, 180, 184, 187, 188, 192, 195, 198], 'Problem_41_output_232': [1.0, 1, 2, 3, 4, 5, 6, 7, 8, 9, 10, 11, 12, 13, 14, 15, 16, 17, 18, 19, 20, 21, 22, 23, 24, 25, 26, 27, 28, 29, 30, 31, 32, 33, 34, 35, 36, 37, 38, 39, 40, 41, 42, 43, 44, 45, 46, 47, 48, 49, 50, 51, 52, 53, 54, 55, 56, 57, 58, 59, 60, 61, 62, 63, 64, 65, 66, 67, 68, 69, 70, 71, 72, 73, 74, 75, 76, 77, 78, 79, 80, 81, 82, 83, 84, 85, 86, 87, 88, 89, 90, 91, 92, 93, 94, 95, 96, 97, 98, 99, 100, 101, 102, 103, 104, 105, 106, 107, 108, 109, 110, 111, 112, 113, 114, 115, 116, 117, 118, 119, 120, 121, 122, 123, 124, 125, 126, 127, 128, 129, 130, 131, 132, 133, 134, 135, 136, 137, 138, 139, 140, 141, 142, 143, 144, 145, 146, 147, 148, 149, 150, 151, 152, 153, 154, 155, 156, 157, 158, 159, 160, 161, 162, 163, 164, 165, 166, 167, 168, 169, 170, 171, 172, 173, 174, 175, 176, 177, 178, 179, 180, 181, 182, 183, 184, 185, 186, 187, 188, 189, 190, 191, 192, 193, 194, 195, 196, 197, 198, 199, 200], 'Problem_17_output_74': [0.795, 2, 3, 4, 5, 6, 7, 8, 9, 10, 11, 12, 13, 14, 15, 16, 17, 18, 19, 20, 21, 22, 23, 24, 25, 26, 27, 28, 29, 30, 31, 32, 33, 34, 35, 36, 37, 38, 39, 40, 41, 42, 43, 44, 45, 46, 47, 48, 49, 50, 51, 52, 53, 54, 55, 56, 57, 58, 59, 60, 61, 62, 63, 64, 65, 66, 67, 68, 71, 72, 73, 74, 76, 77, 78, 80, 81, 82, 87, 88, 89, 90, 91, 92, 93, 94, 96, 97, 98, 100, 101, 102, 104, 106, 108, 109, 110, 112, 113, 115, 116, 117, 118, 119, 120, 121, 123, 124, 126, 127, 129, 131, 132, 134, 135, 137, 138, 139, 140, 141, 142, 143, 144, 145, 146, 149, 151, 152, 155, 156, 158, 160, 161, 163, 164, 166, 167, 170, 171, 172, 174, 175, 176, 177, 178, 179, 180, 181, 182, 183, 185, 187, 188, 189, 190, 192, 195, 196, 197, 199], 'Problem_98_output_427': [0.945, 1, 3, 4, 5, 6, 7, 8, 9, 10, 11, 12, 13, 14, 15, 16, 17, 18, 20, 21, 22, 23, 24, 25, 26, 27, 28, 29, 30, 31, 32, 33, 34, 35, 36, 37, 38, 39, 40, 41, 42, 43, 44, 45, 46, 47, 48, 49, 50, 51, 52, 53, 54, 55, 56, 57, 58, 59, 60, 61, 62, 63, 64, 65, 66, 67, 68, 69, 70, 71, 72, 73, 74, 75, 76, 77, 78, 79, 80, 81, 82, 83, 84, 85, 86, 87, 88, 89, 90, 91, 92, 93, 94, 95, 96, 97, 98, 99, 100, 101, 102, 103, 104, 105, 106, 107, 108, 109, 110, 111, 112, 113, 114, 115, 116, 117, 118, 119, 120, 121, 122, 124, 125, 126, 127, 128, 129, 130, 131, 132, 134, 136, 137, 138, 139, 140, 141, 142, 143, 144, 145, 146, 147, 149, 150, 151, 152, 153, 154, 155, 156, 157, 158, 159, 160, 161, 162, 163, 164, 165, 166, 167, 168, 170, 171, 172, 173, 174, 175, 177, 178, 179, 180, 182, 184, 185, 186, 187, 189, 190, 191, 192, 193, 194, 195, 196, 197, 198, 199, 200], 'Problem_37_output_205': [1.0, 1, 2, 3, 4, 5, 6, 7, 8, 9, 10, 11, 12, 13, 14, 15, 16, 17, 18, 19, 20, 21, 22, 23, 24, 25, 26, 27, 28, 29, 30, 31, 32, 33, 34, 35, 36, 37, 38, 39, 40, 41, 42, 43, 44, 45, 46, 47, 48, 49, 50, 51, 52, 53, 54, 55, 56, 57, 58, 59, 60, 61, 62, 63, 64, 65, 66, 67, 68, 69, 70, 71, 72, 73, 74, 75, 76, 77, 78, 79, 80, 81, 82, 83, 84, 85, 86, 87, 88, 89, 90, 91, 92, 93, 94, 95, 96, 97, 98, 99, 100, 101, 102, 103, 104, 105, 106, 107, 108, 109, 110, 111, 112, 113, 114, 115, 116, 117, 118, 119, 120, 121, 122, 123, 124, 125, 126, 127, 128, 129, 130, 131, 132, 133, 134, 135, 136, 137, 138, 139, 140, 141, 142, 143, 144, 145, 146, 147, 148, 149, 150, 151, 152, 153, 154, 155, 156, 157, 158, 159, 160, 161, 162, 163, 164, 165, 166, 167, 168, 169, 170, 171, 172, 173, 174, 175, 176, 177, 178, 179, 180, 181, 182, 183, 184, 185, 186, 187, 188, 189, 190, 191, 192, 193, 194, 195, 196, 197, 198, 199, 200], 'Problem_106_output_547': [1.0, 1, 2, 3, 4, 5, 6, 7, 8, 9, 10, 11, 12, 13, 14, 15, 16, 17, 18, 19, 20, 21, 22, 23, 24, 25, 26, 27, 28, 29, 30, 31, 32, 33, 34, 35, 36, 37, 38, 39, 40, 41, 42, 43, 44, 45, 46, 47, 48, 49, 50, 51, 52, 53, 54, 55, 56, 57, 58, 59, 60, 61, 62, 63, 64, 65, 66, 67, 68, 69, 70, 71, 72, 73, 74, 75, 76, 77, 78, 79, 80, 81, 82, 83, 84, 85, 86, 87, 88, 89, 90, 91, 92, 93, 94, 95, 96, 97, 98, 99, 100, 101, 102, 103, 104, 105, 106, 107, 108, 109, 110, 111, 112, 113, 114, 115, 116, 117, 118, 119, 120, 121, 122, 123, 124, 125, 126, 127, 128, 129, 130, 131, 132, 133, 134, 135, 136, 137, 138, 139, 140, 141, 142, 143, 144, 145, 146, 147, 148, 149, 150, 151, 152, 153, 154, 155, 156, 157, 158, 159, 160, 161, 162, 163, 164, 165, 166, 167, 168, 169, 170, 171, 172, 173, 174, 175, 176, 177, 178, 179, 180, 181, 182, 183, 184, 185, 186, 187, 188, 189, 190, 191, 192, 193, 194, 195, 196, 197, 198, 199, 200], 'Problem_107_output_553': [0.755, 1, 2, 3, 5, 6, 7, 8, 9, 10, 11, 12, 13, 14, 15, 16, 17, 18, 19, 20, 21, 22, 23, 24, 25, 26, 27, 28, 29, 30, 31, 33, 34, 35, 37, 38, 39, 41, 42, 43, 44, 46, 47, 49, 50, 51, 53, 54, 55, 57, 58, 60, 61, 62, 64, 65, 67, 68, 69, 71, 72, 74, 75, 77, 78, 79, 81, 82, 83, 85, 86, 87, 89, 90, 91, 93, 94, 96, 97, 99, 100, 101, 103, 104, 105, 107, 108, 110, 111, 112, 114, 115, 116, 118, 119, 121, 122, 123, 125, 126, 127, 129, 130, 131, 133, 134, 135, 137, 138, 139, 141, 142, 143, 145, 146, 147, 149, 150, 152, 153, 155, 156, 158, 159, 160, 162, 163, 164, 166, 167, 169, 170, 172, 173, 175, 176, 178, 179, 181, 182, 184, 185, 187, 188, 190, 191, 193, 194, 196, 197, 199, 200], 'Problem_80_output_420': [0.0], 'Problem_160_output_848': [0.0], 'Problem_44_output_163': [0.945, 2, 4, 6, 7, 8, 9, 12, 14, 15, 17, 18, 19, 20, 21, 22, 23, 26, 28, 29, 31, 32, 33, 34, 35, 36, 37, 38, 39, 40, 41, 42, 43, 44, 45, 46, 47, 48, 49, 50, 51, 52, 53, 54, 55, 56, 57, 58, 59, 60, 61, 62, 63, 64, 65, 66, 67, 68, 69, 70, 71, 72, 73, 74, 75, 76, 77, 78, 79, 80, 81, 82, 83, 84, 85, 86, 87, 88, 89, 90, 91, 92, 93, 94, 95, 96, 97, 98, 99, 100, 101, 102, 103, 104, 105, 106, 107, 108, 109, 110, 111, 112, 113, 114, 115, 116, 117, 118, 119, 120, 121, 122, 123, 124, 125, 126, 127, 128, 129, 130, 131, 132, 133, 134, 135, 136, 137, 138, 139, 140, 141, 142, 143, 144, 145, 146, 147, 148, 149, 150, 151, 152, 153, 154, 155, 156, 157, 158, 159, 160, 161, 162, 163, 164, 165, 166, 167, 168, 169, 170, 171, 172, 173, 174, 175, 176, 177, 178, 179, 180, 181, 182, 183, 184, 185, 186, 187, 188, 189, 190, 191, 192, 193, 194, 195, 196, 197, 198, 199, 200], 'Problem_10_output_28': [0.0050000000000000044, 47], 'Problem_140_output_675': [1.0, 1, 2, 3, 4, 5, 6, 7, 8, 9, 10, 11, 12, 13, 14, 15, 16, 17, 18, 19, 20, 21, 22, 23, 24, 25, 26, 27, 28, 29, 30, 31, 32, 33, 34, 35, 36, 37, 38, 39, 40, 41, 42, 43, 44, 45, 46, 47, 48, 49, 50, 51, 52, 53, 54, 55, 56, 57, 58, 59, 60, 61, 62, 63, 64, 65, 66, 67, 68, 69, 70, 71, 72, 73, 74, 75, 76, 77, 78, 79, 80, 81, 82, 83, 84, 85, 86, 87, 88, 89, 90, 91, 92, 93, 94, 95, 96, 97, 98, 99, 100, 101, 102, 103, 104, 105, 106, 107, 108, 109, 110, 111, 112, 113, 114, 115, 116, 117, 118, 119, 120, 121, 122, 123, 124, 125, 126, 127, 128, 129, 130, 131, 132, 133, 134, 135, 136, 137, 138, 139, 140, 141, 142, 143, 144, 145, 146, 147, 148, 149, 150, 151, 152, 153, 154, 155, 156, 157, 158, 159, 160, 161, 162, 163, 164, 165, 166, 167, 168, 169, 170, 171, 172, 173, 174, 175, 176, 177, 178, 179, 180, 181, 182, 183, 184, 185, 186, 187, 188, 189, 190, 191, 192, 193, 194, 195, 196, 197, 198, 199, 200], 'Problem_17_output_76': [0.20499999999999996, 11, 16, 17, 21, 22, 23, 25, 26, 32, 33, 34, 35, 37, 39, 41, 45, 46, 47, 50, 51, 52, 53, 56, 57, 58, 59, 60, 64, 65, 106, 120, 126, 127, 131, 132, 137, 138, 140, 182, 185, 192], 'Problem_98_output_505': [0.19999999999999996, 20, 24, 34, 37, 51, 55, 59, 64, 65, 66, 67, 68, 70, 72, 81, 88, 89, 94, 103, 111, 121, 124, 127, 132, 137, 140, 141, 142, 147, 150, 151, 152, 154, 156, 157, 166, 167, 171, 180, 185], 'Problem_65_output_280': [0.0], 'Problem_137_output_657': [0.0], 'Problem_114_output_576': [0.78, 2, 4, 5, 6, 7, 8, 9, 10, 11, 12, 13, 14, 15, 16, 17, 18, 19, 20, 21, 22, 23, 24, 25, 26, 27, 28, 29, 30, 31, 32, 35, 37, 39, 40, 41, 42, 43, 46, 47, 48, 49, 50, 52, 53, 54, 56, 58, 60, 62, 64, 65, 67, 68, 69, 70, 71, 72, 74, 75, 76, 77, 78, 79, 80, 82, 84, 86, 87, 89, 92, 93, 94, 95, 96, 97, 98, 99, 100, 101, 102, 104, 106, 108, 109, 110, 111, 112, 113, 114, 115, 116, 118, 119, 120, 122, 123, 124, 125, 126, 128, 129, 130, 132, 133, 134, 135, 136, 137, 138, 139, 140, 141, 142, 144, 145, 147, 148, 150, 151, 152, 154, 155, 156, 159, 160, 162, 163, 164, 165, 166, 167, 168, 170, 171, 173, 175, 177, 179, 181, 183, 184, 185, 186, 187, 188, 189, 190, 191, 193, 194, 195, 196, 197, 198, 199, 200], 'Problem_41_output_156': [0.025000000000000022, 13, 60, 68, 82, 93], 'Problem_162_output_753': [1.0, 1, 2, 3, 4, 5, 6, 7, 8, 9, 10, 11, 12, 13, 14, 15, 16, 17, 18, 19, 20, 21, 22, 23, 24, 25, 26, 27, 28, 29, 30, 31, 32, 33, 34, 35, 36, 37, 38, 39, 40, 41, 42, 43, 44, 45, 46, 47, 48, 49, 50, 51, 52, 53, 54, 55, 56, 57, 58, 59, 60, 61, 62, 63, 64, 65, 66, 67, 68, 69, 70, 71, 72, 73, 74, 75, 76, 77, 78, 79, 80, 81, 82, 83, 84, 85, 86, 87, 88, 89, 90, 91, 92, 93, 94, 95, 96, 97, 98, 99, 100, 101, 102, 103, 104, 105, 106, 107, 108, 109, 110, 111, 112, 113, 114, 115, 116, 117, 118, 119, 120, 121, 122, 123, 124, 125, 126, 127, 128, 129, 130, 131, 132, 133, 134, 135, 136, 137, 138, 139, 140, 141, 142, 143, 144, 145, 146, 147, 148, 149, 150, 151, 152, 153, 154, 155, 156, 157, 158, 159, 160, 161, 162, 163, 164, 165, 166, 167, 168, 169, 170, 171, 172, 173, 174, 175, 176, 177, 178, 179, 180, 181, 182, 183, 184, 185, 186, 187, 188, 189, 190, 191, 192, 193, 194, 195, 196, 197, 198, 199, 200], 'Problem_48_output_180': [0.0], 'Problem_56_output_313': [0.0], 'Problem_158_output_720': [1.0, 1, 2, 3, 4, 5, 6, 7, 8, 9, 10, 11, 12, 13, 14, 15, 16, 17, 18, 19, 20, 21, 22, 23, 24, 25, 26, 27, 28, 29, 30, 31, 32, 33, 34, 35, 36, 37, 38, 39, 40, 41, 42, 43, 44, 45, 46, 47, 48, 49, 50, 51, 52, 53, 54, 55, 56, 57, 58, 59, 60, 61, 62, 63, 64, 65, 66, 67, 68, 69, 70, 71, 72, 73, 74, 75, 76, 77, 78, 79, 80, 81, 82, 83, 84, 85, 86, 87, 88, 89, 90, 91, 92, 93, 94, 95, 96, 97, 98, 99, 100, 101, 102, 103, 104, 105, 106, 107, 108, 109, 110, 111, 112, 113, 114, 115, 116, 117, 118, 119, 120, 121, 122, 123, 124, 125, 126, 127, 128, 129, 130, 131, 132, 133, 134, 135, 136, 137, 138, 139, 140, 141, 142, 143, 144, 145, 146, 147, 148, 149, 150, 151, 152, 153, 154, 155, 156, 157, 158, 159, 160, 161, 162, 163, 164, 165, 166, 167, 168, 169, 170, 171, 172, 173, 174, 175, 176, 177, 178, 179, 180, 181, 182, 183, 184, 185, 186, 187, 188, 189, 190, 191, 192, 193, 194, 195, 196, 197, 198, 199, 200], 'Problem_21_output_100': [0.4, 6, 9, 10, 11, 15, 17, 20, 22, 26, 28, 29, 30, 33, 35, 38, 43, 44, 47, 49, 50, 51, 55, 56, 58, 59, 60, 61, 64, 66, 67, 68, 71, 74, 75, 77, 78, 79, 80, 82, 84, 86, 87, 89, 90, 92, 94, 96, 97, 98, 99, 100, 104, 105, 106, 107, 108, 109, 110, 111, 112, 113, 114, 115, 116, 117, 122, 132, 134, 135, 136, 141, 144, 145, 146, 148, 149, 150, 153, 177, 190], 'Problem_160_output_850': [0.0], 'Problem_31_output_142': [1.0, 1, 2, 3, 4, 5, 6, 7, 8, 9, 10, 11, 12, 13, 14, 15, 16, 17, 18, 19, 20, 21, 22, 23, 24, 25, 26, 27, 28, 29, 30, 31, 32, 33, 34, 35, 36, 37, 38, 39, 40, 41, 42, 43, 44, 45, 46, 47, 48, 49, 50, 51, 52, 53, 54, 55, 56, 57, 58, 59, 60, 61, 62, 63, 64, 65, 66, 67, 68, 69, 70, 71, 72, 73, 74, 75, 76, 77, 78, 79, 80, 81, 82, 83, 84, 85, 86, 87, 88, 89, 90, 91, 92, 93, 94, 95, 96, 97, 98, 99, 100, 101, 102, 103, 104, 105, 106, 107, 108, 109, 110, 111, 112, 113, 114, 115, 116, 117, 118, 119, 120, 121, 122, 123, 124, 125, 126, 127, 128, 129, 130, 131, 132, 133, 134, 135, 136, 137, 138, 139, 140, 141, 142, 143, 144, 145, 146, 147, 148, 149, 150, 151, 152, 153, 154, 155, 156, 157, 158, 159, 160, 161, 162, 163, 164, 165, 166, 167, 168, 169, 170, 171, 172, 173, 174, 175, 176, 177, 178, 179, 180, 181, 182, 183, 184, 185, 186, 187, 188, 189, 190, 191, 192, 193, 194, 195, 196, 197, 198, 199, 200], 'Problem_148_output_764': [0.345, 6, 8, 10, 12, 13, 16, 20, 22, 23, 27, 29, 31, 36, 39, 42, 45, 49, 53, 55, 61, 64, 66, 67, 72, 80, 81, 86, 88, 94, 96, 98, 99, 100, 109, 111, 112, 115, 120, 121, 124, 125, 126, 135, 136, 137, 139, 141, 144, 146, 151, 153, 156, 157, 159, 160, 163, 165, 167, 173, 179, 185, 187, 188, 190, 191, 192, 194, 197, 198], 'Problem_62_output_266': [0.010000000000000009, 42, 177], 'Problem_82_output_439': [0.235, 3, 4, 8, 10, 11, 15, 20, 27, 30, 33, 34, 39, 42, 45, 47, 50, 54, 56, 57, 58, 67, 70, 71, 72, 74, 76, 88, 89, 90, 93, 100, 101, 104, 109, 111, 119, 129, 130, 135, 139, 143, 144, 148, 151, 154, 156, 158], 'Problem_114_output_579': [1.0, 1, 2, 3, 4, 5, 6, 7, 8, 9, 10, 11, 12, 13, 14, 15, 16, 17, 18, 19, 20, 21, 22, 23, 24, 25, 26, 27, 28, 29, 30, 31, 32, 33, 34, 35, 36, 37, 38, 39, 40, 41, 42, 43, 44, 45, 46, 47, 48, 49, 50, 51, 52, 53, 54, 55, 56, 57, 58, 59, 60, 61, 62, 63, 64, 65, 66, 67, 68, 69, 70, 71, 72, 73, 74, 75, 76, 77, 78, 79, 80, 81, 82, 83, 84, 85, 86, 87, 88, 89, 90, 91, 92, 93, 94, 95, 96, 97, 98, 99, 100, 101, 102, 103, 104, 105, 106, 107, 108, 109, 110, 111, 112, 113, 114, 115, 116, 117, 118, 119, 120, 121, 122, 123, 124, 125, 126, 127, 128, 129, 130, 131, 132, 133, 134, 135, 136, 137, 138, 139, 140, 141, 142, 143, 144, 145, 146, 147, 148, 149, 150, 151, 152, 153, 154, 155, 156, 157, 158, 159, 160, 161, 162, 163, 164, 165, 166, 167, 168, 169, 170, 171, 172, 173, 174, 175, 176, 177, 178, 179, 180, 181, 182, 183, 184, 185, 186, 187, 188, 189, 190, 191, 192, 193, 194, 195, 196, 197, 198, 199, 200], 'Problem_152_output_781': [1.0, 1, 2, 3, 4, 5, 6, 7, 8, 9, 10, 11, 12, 13, 14, 15, 16, 17, 18, 19, 20, 21, 22, 23, 24, 25, 26, 27, 28, 29, 30, 31, 32, 33, 34, 35, 36, 37, 38, 39, 40, 41, 42, 43, 44, 45, 46, 47, 48, 49, 50, 51, 52, 53, 54, 55, 56, 57, 58, 59, 60, 61, 62, 63, 64, 65, 66, 67, 68, 69, 70, 71, 72, 73, 74, 75, 76, 77, 78, 79, 80, 81, 82, 83, 84, 85, 86, 87, 88, 89, 90, 91, 92, 93, 94, 95, 96, 97, 98, 99, 100, 101, 102, 103, 104, 105, 106, 107, 108, 109, 110, 111, 112, 113, 114, 115, 116, 117, 118, 119, 120, 121, 122, 123, 124, 125, 126, 127, 128, 129, 130, 131, 132, 133, 134, 135, 136, 137, 138, 139, 140, 141, 142, 143, 144, 145, 146, 147, 148, 149, 150, 151, 152, 153, 154, 155, 156, 157, 158, 159, 160, 161, 162, 163, 164, 165, 166, 167, 168, 169, 170, 171, 172, 173, 174], 'Problem_141_output_676': [0.06000000000000005, 5, 6, 29, 58, 66, 78, 83, 103, 115, 125, 153, 169], 'Problem_152_output_782': [1.0, 1, 2, 3, 4, 5, 6, 7, 8, 9, 10, 11, 12, 13, 14, 15, 16, 17, 18, 19, 20, 21, 22, 23, 24, 25, 26, 27, 28, 29, 30, 31, 32, 33, 34, 35, 36, 37, 38, 39, 40, 41, 42, 43, 44, 45, 46, 47, 48, 49, 50, 51, 52, 53, 54, 55, 56, 57, 58, 59, 60, 61, 62, 63, 64, 65, 66, 67, 68, 69, 70, 71, 72, 73, 74, 75, 76, 77, 78, 79, 80, 81, 82, 83, 84, 85, 86, 87, 88, 89, 90, 91, 92, 93, 94, 95, 96, 97, 98, 99, 100, 101, 102, 103, 104, 105, 106, 107, 108, 109, 110, 111, 112, 113, 114, 115, 116, 117, 118, 119, 120, 121, 122, 123, 124, 125, 126, 127, 128, 129, 130, 131, 132, 133, 134, 135, 136, 137, 138, 139, 140, 141, 142, 143, 144, 145, 146, 147, 148, 149, 150, 151, 152, 153, 154, 155, 156, 157, 158, 159, 160, 161, 162, 163, 164, 165, 166, 167, 168, 169, 170, 171, 172, 173, 174], 'Problem_98_output_507': [0.0], 'Problem_114_output_584': [1.0, 1, 2, 3, 4, 5, 6, 7, 8, 9, 10, 11, 12, 13, 14, 15, 16, 17, 18, 19, 20, 21, 22, 23, 24, 25, 26, 27, 28, 29, 30, 31, 32, 33, 34, 35, 36, 37, 38, 39, 40, 41, 42, 43, 44, 45, 46, 47, 48, 49, 50, 51, 52, 53, 54, 55, 56, 57, 58, 59, 60, 61, 62, 63, 64, 65, 66, 67, 68, 69, 70, 71, 72, 73, 74, 75, 76, 77, 78, 79, 80, 81, 82, 83, 84, 85, 86, 87, 88, 89, 90, 91, 92, 93, 94, 95, 96, 97, 98, 99, 100, 101, 102, 103, 104, 105, 106, 107, 108, 109, 110, 111, 112, 113, 114, 115, 116, 117, 118, 119, 120, 121, 122, 123, 124, 125, 126, 127, 128, 129, 130, 131, 132, 133, 134, 135, 136, 137, 138, 139, 140, 141, 142, 143, 144, 145, 146, 147, 148, 149, 150, 151, 152, 153, 154, 155, 156, 157, 158, 159, 160, 161, 162, 163, 164, 165, 166, 167, 168, 169, 170, 171, 172, 173, 174, 175, 176, 177, 178, 179, 180, 181, 182, 183, 184, 185, 186, 187, 188, 189, 190, 191, 192, 193, 194, 195, 196, 197, 198, 199, 200], 'Problem_44_output_238': [0.0], 'Problem_36_output_201': [0.63, 1, 2, 4, 5, 7, 8, 9, 10, 11, 12, 13, 14, 15, 16, 17, 18, 19, 20, 22, 23, 24, 25, 26, 27, 28, 29, 31, 32, 33, 34, 35, 36, 37, 38, 39, 40, 41, 43, 44, 46, 48, 49, 50, 51, 52, 53, 55, 57, 58, 59, 60, 61, 62, 64, 65, 66, 68, 69, 70, 77, 78, 83, 84, 85, 86, 88, 90, 91, 92, 93, 97, 98, 100, 102, 109, 111, 113, 115, 117, 122, 126, 128, 129, 130, 132, 134, 135, 137, 139, 140, 141, 142, 143, 144, 145, 146, 147, 150, 151, 152, 153, 154, 156, 157, 162, 163, 164, 173, 174, 175, 176, 177, 178, 179, 181, 183, 184, 185, 186, 187, 190, 191, 193, 195, 198, 199], 'Problem_158_output_830': [0.96, 1, 2, 3, 4, 5, 6, 7, 8, 9, 10, 11, 12, 13, 14, 15, 16, 17, 18, 19, 20, 21, 22, 24, 25, 26, 27, 28, 29, 30, 31, 32, 33, 34, 35, 36, 37, 38, 39, 40, 41, 42, 43, 44, 45, 46, 47, 48, 49, 50, 51, 52, 53, 54, 55, 56, 57, 58, 59, 60, 61, 62, 63, 64, 65, 66, 67, 68, 69, 70, 71, 72, 73, 74, 75, 76, 77, 78, 79, 80, 81, 82, 83, 84, 85, 86, 88, 89, 90, 91, 92, 93, 94, 95, 96, 97, 98, 99, 100, 101, 102, 103, 104, 105, 106, 107, 108, 109, 110, 111, 112, 113, 114, 115, 116, 117, 118, 119, 120, 121, 122, 123, 124, 125, 126, 127, 128, 129, 130, 131, 132, 133, 135, 136, 137, 138, 139, 141, 142, 143, 144, 145, 146, 147, 148, 149, 150, 151, 152, 153, 154, 155, 156, 157, 158, 159, 160, 161, 162, 163, 164, 165, 166, 167, 168, 170, 171, 172, 173, 174, 175, 177, 178, 179, 180, 181, 182, 183, 184, 185, 186, 187, 188, 189, 190, 191, 192, 193, 194, 195, 197, 198, 200], 'Problem_45_output_243': [0.275, 2, 13, 14, 20, 23, 24, 30, 31, 35, 36, 38, 40, 42, 43, 45, 46, 47, 50, 51, 53, 54, 55, 61, 63, 64, 73, 74, 76, 77, 78, 81, 82, 83, 84, 85, 86, 87, 97, 102, 105, 108, 110, 112, 120, 124, 129, 150, 151, 163, 164, 166, 171, 174, 195, 199], 'Problem_13_output_44': [0.0], 'Problem_99_output_512': [0.345, 2, 4, 6, 8, 15, 16, 17, 18, 31, 33, 35, 37, 39, 46, 47, 48, 49, 63, 65, 67, 69, 71, 78, 79, 80, 81, 87, 94, 96, 98, 100, 102, 109, 110, 111, 112, 115, 116, 122, 124, 126, 128, 136, 137, 138, 139, 143, 144, 149, 151, 152, 154, 162, 163, 164, 165, 169, 170, 173, 175, 177, 179, 181, 188, 190, 194, 195, 198, 200], 'Problem_139_output_673': [0.0], 'Problem_78_output_408': [0.0], 'Problem_42_output_157': [0.9259259259259259, 1, 2, 3, 4, 5, 6, 7, 8, 9, 10, 12, 13, 14, 15, 16, 17, 18, 19, 20, 21, 22, 23, 24, 25, 26, 27, 28, 29, 30, 31, 32, 33, 35, 36, 38, 39, 40, 41, 42, 43, 44, 45, 46, 47, 48, 49, 51, 52, 53, 54, 55, 56, 58, 59, 60, 61, 62, 63, 64, 65, 66, 67, 69, 70, 71, 72, 73, 74, 75, 76, 77, 78, 79, 80, 81], 'Problem_130_output_625': [1.0, 1, 2, 3, 4, 5, 6, 7, 8, 9, 10, 11, 12, 13, 14, 15, 16, 17, 18, 19, 20, 21, 22, 23, 24, 25, 26, 27, 28, 29, 30, 31, 32, 33, 34, 35, 36, 37, 38, 39, 40, 41, 42, 43, 44, 45, 46, 47, 48, 49, 50, 51, 52, 53, 54, 55, 56, 57, 58, 59, 60, 61, 62, 63, 64, 65, 66, 67, 68, 69, 70, 71, 72, 73, 74, 75, 76, 77, 78, 79, 80, 81, 82, 83, 84, 85, 86, 87, 88, 89, 90, 91, 92, 93, 94, 95, 96, 97, 98, 99, 100, 101, 102, 103, 104, 105, 106, 107, 108, 109, 110, 111, 112, 113, 114, 115, 116, 117, 118, 119, 120, 121, 122, 123, 124, 125, 126, 127, 128, 129, 130, 131, 132, 133, 134, 135, 136, 137, 138, 139, 140, 141, 142, 143, 144, 145, 146, 147, 148, 149, 150, 151, 152, 153, 154, 155, 156, 157, 158, 159, 160, 161, 162, 163, 164, 165, 166, 167, 168, 169, 170, 171, 172, 173, 174, 175, 176, 177, 178, 179, 180, 181, 182, 183, 184, 185, 186, 187, 188, 189, 190, 191, 192, 193, 194, 195, 196, 197, 198, 199, 200], 'Problem_34_output_191': [0.0], 'Problem_153_output_790': [0.0], 'Problem_121_output_605': [0.5349999999999999, 1, 5, 6, 7, 9, 11, 12, 13, 15, 17, 18, 19, 20, 22, 23, 25, 26, 27, 28, 29, 31, 33, 34, 39, 40, 41, 43, 49, 50, 51, 54, 57, 58, 59, 62, 63, 66, 67, 70, 71, 72, 73, 77, 82, 83, 86, 89, 90, 91, 92, 97, 101, 102, 104, 105, 110, 111, 114, 116, 117, 118, 120, 121, 122, 124, 125, 126, 127, 128, 129, 130, 131, 132, 133, 135, 136, 140, 142, 143, 144, 146, 147, 148, 152, 153, 155, 157, 160, 161, 163, 167, 168, 170, 171, 172, 173, 174, 177, 179, 180, 181, 182, 184, 187, 189, 194, 195], 'Problem_160_output_745': [0.0], 'Problem_163_output_754': [1.0, 1, 2, 3, 4, 5, 6, 7, 8, 9, 10, 11, 12, 13, 14, 15, 16, 17, 18, 19, 20, 21, 22, 23, 24, 25, 26, 27, 28, 29, 30, 31, 32, 33, 34, 35, 36, 37, 38, 39, 40, 41, 42, 43, 44, 45, 46, 47, 48, 49, 50, 51, 52, 53, 54, 55, 56, 57, 58, 59, 60, 61, 62, 63, 64, 65, 66, 67, 68, 69, 70, 71, 72, 73, 74, 75, 76, 77, 78, 79, 80, 81, 82, 83, 84, 85, 86, 87, 88, 89, 90, 91, 92, 93, 94, 95, 96, 97, 98, 99, 100, 101, 102, 103, 104, 105, 106, 107, 108, 109, 110, 111, 112, 113, 114, 115, 116, 117, 118, 119, 120, 121, 122, 123, 124, 125, 126, 127, 128, 129, 130, 131, 132, 133, 134, 135, 136, 137, 138, 139, 140, 141, 142, 143, 144, 145, 146, 147, 148, 149, 150, 151, 152, 153, 154, 155, 156, 157, 158, 159, 160, 161, 162, 163, 164, 165, 166, 167, 168, 169, 170, 171, 172, 173, 174, 175, 176, 177, 178, 179, 180, 181, 182, 183, 184, 185, 186, 187, 188, 189, 190, 191, 192, 193, 194, 195, 196, 197, 198, 199, 200], 'Problem_149_output_767': [1.0, 1, 2, 3, 4, 5, 6, 7, 8, 9, 10, 11, 12, 13, 14, 15, 16, 17, 18, 19, 20, 21, 22, 23, 24, 25, 26, 27, 28, 29, 30, 31, 32, 33, 34, 35, 36, 37, 38, 39, 40, 41, 42, 43, 44, 45, 46, 47, 48, 49, 50, 51, 52, 53, 54, 55, 56, 57, 58, 59, 60, 61, 62, 63, 64, 65, 66, 67, 68, 69, 70, 71, 72, 73, 74, 75, 76, 77, 78, 79, 80, 81, 82, 83, 84, 85, 86, 87, 88, 89, 90, 91, 92, 93, 94, 95, 96, 97, 98, 99, 100, 101, 102, 103, 104, 105, 106, 107, 108, 109, 110, 111, 112, 113, 114, 115, 116, 117, 118, 119, 120, 121, 122, 123, 124, 125, 126, 127, 128, 129, 130, 131, 132, 133, 134, 135, 136, 137, 138, 139, 140, 141, 142, 143, 144, 145, 146, 147, 148, 149, 150, 151, 152, 153, 154, 155, 156, 157, 158, 159, 160, 161, 162, 163, 164, 165, 166, 167, 168, 169, 170, 171, 172, 173, 174, 175, 176, 177, 178, 179, 180, 181, 182, 183, 184, 185, 186, 187, 188, 189, 190, 191, 192, 193, 194, 195, 196, 197, 198, 199, 200], 'Problem_62_output_344': [0.945, 1, 2, 3, 4, 5, 6, 7, 8, 9, 10, 11, 12, 13, 14, 15, 16, 17, 18, 19, 20, 21, 22, 24, 25, 26, 27, 28, 29, 30, 31, 32, 33, 34, 35, 36, 37, 38, 39, 40, 41, 43, 44, 45, 46, 47, 48, 49, 50, 51, 52, 53, 54, 55, 56, 57, 58, 60, 61, 62, 63, 64, 65, 66, 67, 68, 69, 70, 71, 72, 73, 74, 75, 76, 77, 78, 81, 82, 83, 84, 85, 86, 87, 89, 90, 91, 92, 93, 94, 96, 98, 100, 101, 102, 104, 105, 106, 107, 108, 109, 110, 111, 112, 113, 114, 115, 116, 117, 118, 119, 120, 121, 122, 123, 124, 125, 126, 127, 128, 129, 130, 131, 132, 133, 134, 135, 136, 137, 138, 139, 140, 141, 142, 143, 144, 145, 146, 147, 148, 149, 150, 152, 153, 154, 155, 156, 157, 158, 159, 160, 161, 162, 163, 164, 165, 166, 167, 168, 169, 170, 171, 172, 173, 174, 175, 176, 177, 178, 179, 180, 181, 182, 183, 184, 185, 186, 187, 188, 189, 190, 191, 192, 193, 194, 195, 196, 197, 198, 199, 200], 'Problem_102_output_529': [1.0, 1, 2, 3, 4, 5, 6, 7, 8, 9, 10, 11, 12, 13, 14, 15, 16, 17, 18, 19, 20, 21, 22, 23, 24, 25, 26, 27, 28, 29, 30, 31, 32, 33, 34, 35, 36, 37, 38, 39, 40, 41, 42, 43, 44, 45, 46, 47, 48, 49, 50, 51, 52, 53, 54, 55, 56, 57, 58, 59, 60, 61, 62, 63, 64, 65, 66, 67, 68, 69, 70, 71, 72, 73, 74, 75, 76, 77, 78, 79, 80, 81, 82, 83, 84, 85, 86, 87, 88, 89, 90, 91, 92, 93, 94, 95, 96, 97, 98, 99, 100, 101, 102, 103, 104, 105, 106, 107, 108, 109, 110, 111, 112, 113, 114, 115, 116, 117, 118, 119, 120, 121, 122, 123, 124, 125, 126, 127, 128, 129, 130, 131, 132, 133, 134, 135, 136, 137, 138, 139, 140, 141, 142, 143, 144, 145, 146, 147, 148, 149, 150, 151, 152, 153, 154, 155, 156, 157, 158, 159, 160, 161, 162, 163, 164, 165, 166, 167, 168, 169, 170, 171, 172, 173, 174, 175, 176, 177, 178, 179, 180, 181, 182, 183, 184, 185, 186, 187, 188, 189, 190, 191, 192, 193, 194, 195, 196, 197, 198, 199, 200], 'Problem_114_output_577': [0.81, 1, 2, 3, 5, 6, 7, 8, 9, 12, 13, 14, 16, 18, 21, 22, 25, 26, 27, 28, 29, 30, 31, 32, 33, 34, 35, 37, 38, 39, 40, 41, 42, 44, 45, 46, 47, 48, 49, 50, 51, 52, 53, 54, 55, 56, 57, 58, 59, 60, 61, 62, 63, 64, 65, 66, 67, 68, 69, 70, 71, 72, 73, 74, 77, 78, 79, 80, 82, 83, 85, 86, 87, 88, 89, 90, 91, 92, 93, 94, 95, 97, 98, 100, 101, 104, 105, 106, 107, 108, 109, 110, 111, 112, 113, 114, 115, 118, 119, 122, 123, 124, 125, 126, 128, 129, 130, 132, 133, 134, 135, 136, 137, 138, 139, 140, 141, 143, 144, 145, 146, 148, 149, 150, 151, 153, 155, 157, 158, 159, 160, 161, 162, 163, 164, 165, 166, 167, 168, 169, 170, 171, 173, 174, 176, 177, 181, 182, 183, 184, 186, 188, 189, 190, 192, 193, 194, 195, 196, 197, 198, 199, 200], 'Problem_107_output_555': [0.265, 3, 5, 6, 7, 8, 9, 10, 11, 12, 13, 15, 16, 17, 18, 19, 20, 21, 22, 24, 25, 26, 27, 28, 29, 33, 35, 37, 39, 41, 43, 44, 47, 50, 54, 61, 65, 68, 69, 72, 75, 79, 83, 101, 105, 112, 116, 131, 135, 139, 143, 147, 160, 164], 'Problem_12_output_38': [0.505, 1, 4, 6, 8, 12, 19, 20, 21, 28, 29, 30, 31, 34, 35, 36, 37, 38, 41, 42, 43, 44, 45, 48, 49, 51, 52, 54, 56, 57, 60, 62, 64, 69, 70, 72, 73, 75, 76, 77, 79, 80, 81, 82, 84, 85, 86, 88, 89, 90, 91, 92, 96, 97, 98, 99, 100, 101, 102, 103, 104, 105, 109, 111, 113, 114, 115, 118, 119, 120, 121, 122, 123, 125, 126, 127, 128, 129, 130, 132, 133, 135, 136, 137, 138, 140, 143, 144, 145, 148, 154, 161, 167, 171, 172, 178, 180, 184, 187, 192, 193, 199], 'Problem_48_output_179': [0.0], 'Problem_31_output_141': [1.0, 1, 2, 3, 4, 5, 6, 7, 8, 9, 10, 11, 12, 13, 14, 15, 16, 17, 18, 19, 20, 21, 22, 23, 24, 25, 26, 27, 28, 29, 30, 31, 32, 33, 34, 35, 36, 37, 38, 39, 40, 41, 42, 43, 44, 45, 46, 47, 48, 49, 50, 51, 52, 53, 54, 55, 56, 57, 58, 59, 60, 61, 62, 63, 64, 65, 66, 67, 68, 69, 70, 71, 72, 73, 74, 75, 76, 77, 78, 79, 80, 81, 82, 83, 84, 85, 86, 87, 88, 89, 90, 91, 92, 93, 94, 95, 96, 97, 98, 99, 100, 101, 102, 103, 104, 105, 106, 107, 108, 109, 110, 111, 112, 113, 114, 115, 116, 117, 118, 119, 120, 121, 122, 123, 124, 125, 126, 127, 128, 129, 130, 131, 132, 133, 134, 135, 136, 137, 138, 139, 140, 141, 142, 143, 144, 145, 146, 147, 148, 149, 150, 151, 152, 153, 154, 155, 156, 157, 158, 159, 160, 161, 162, 163, 164, 165, 166, 167, 168, 169, 170, 171, 172, 173, 174, 175, 176, 177, 178, 179, 180, 181, 182, 183, 184, 185, 186, 187, 188, 189, 190, 191, 192, 193, 194, 195, 196, 197, 198, 199, 200], 'Problem_67_output_371': [0.010000000000000009, 21, 198], 'Problem_13_output_47': [0.44499999999999995, 3, 6, 10, 14, 15, 16, 21, 22, 23, 24, 25, 27, 28, 29, 30, 31, 32, 35, 38, 40, 43, 46, 47, 50, 54, 56, 59, 61, 64, 65, 67, 71, 74, 77, 79, 82, 84, 89, 91, 92, 94, 96, 101, 102, 103, 105, 109, 110, 113, 114, 118, 119, 120, 121, 122, 123, 124, 125, 126, 129, 132, 134, 137, 140, 141, 143, 144, 146, 147, 153, 156, 158, 160, 161, 163, 167, 175, 177, 178, 182, 183, 186, 188, 189, 192, 193, 194, 196, 199], 'Problem_91_output_477': [0.74, 1, 2, 3, 4, 6, 7, 8, 9, 10, 12, 13, 14, 15, 16, 17, 18, 20, 21, 22, 23, 24, 25, 26, 27, 28, 30, 31, 32, 33, 35, 36, 38, 39, 40, 41, 44, 45, 46, 47, 48, 49, 50, 51, 52, 53, 54, 55, 57, 58, 59, 60, 61, 64, 65, 67, 69, 73, 74, 76, 77, 78, 79, 80, 81, 83, 84, 91, 93, 94, 95, 96, 97, 98, 99, 101, 103, 104, 105, 107, 108, 109, 110, 111, 112, 113, 114, 115, 117, 118, 119, 121, 122, 124, 125, 126, 127, 128, 133, 134, 135, 136, 138, 139, 140, 142, 145, 147, 149, 153, 157, 158, 159, 160, 161, 162, 163, 165, 166, 167, 168, 169, 170, 171, 173, 174, 175, 176, 177, 178, 179, 180, 181, 182, 183, 184, 186, 187, 188, 189, 190, 191, 192, 193, 195, 196, 197, 198, 199], 'Problem_115_output_590': [1.0, 1, 2, 3, 4, 5, 6, 7, 8, 9, 10, 11, 12, 13, 14, 15, 16, 17, 18, 19, 20, 21, 22, 23, 24, 25, 26, 27, 28, 29, 30, 31, 32, 33, 34, 35, 36, 37, 38, 39, 40, 41, 42, 43, 44, 45, 46, 47, 48, 49, 50, 51, 52, 53, 54, 55, 56, 57, 58, 59, 60, 61, 62, 63, 64, 65, 66, 67, 68, 69, 70, 71, 72, 73, 74, 75, 76, 77, 78, 79, 80, 81, 82, 83, 84, 85, 86, 87, 88, 89, 90, 91, 92, 93, 94, 95, 96, 97, 98, 99, 100, 101, 102, 103, 104, 105, 106, 107, 108, 109, 110, 111, 112, 113, 114, 115, 116, 117, 118, 119, 120, 121, 122, 123, 124, 125, 126, 127, 128, 129, 130, 131, 132, 133, 134, 135, 136, 137, 138, 139, 140, 141, 142, 143, 144, 145, 146, 147, 148, 149, 150, 151, 152, 153, 154, 155, 156, 157, 158, 159, 160, 161, 162, 163, 164, 165, 166, 167, 168, 169, 170, 171, 172, 173, 174, 175, 176, 177, 178, 179, 180, 181, 182, 183, 184, 185, 186, 187, 188, 189, 190, 191, 192, 193, 194, 195, 196, 197, 198, 199, 200], 'Problem_82_output_436': [0.265, 8, 11, 13, 15, 17, 20, 27, 29, 30, 31, 32, 33, 34, 39, 42, 46, 47, 48, 54, 56, 57, 59, 65, 67, 70, 71, 74, 77, 85, 88, 93, 97, 101, 104, 109, 111, 129, 135, 139, 141, 143, 144, 147, 148, 151, 154, 157, 170, 171, 174, 177, 194, 197], 'Problem_52_output_292': [0.0], 'Problem_158_output_721': [0.96, 1, 2, 3, 4, 5, 6, 7, 8, 9, 10, 11, 12, 13, 14, 15, 16, 17, 18, 19, 20, 21, 22, 24, 25, 26, 27, 28, 29, 30, 31, 32, 33, 34, 35, 36, 37, 38, 39, 40, 41, 42, 43, 44, 45, 46, 47, 48, 49, 50, 51, 52, 53, 54, 55, 56, 57, 58, 59, 60, 61, 62, 63, 64, 65, 66, 67, 68, 69, 70, 71, 72, 73, 74, 75, 76, 77, 78, 79, 80, 81, 82, 83, 84, 85, 86, 88, 89, 90, 91, 92, 93, 94, 95, 96, 97, 98, 99, 100, 101, 102, 103, 104, 105, 106, 107, 108, 109, 110, 111, 112, 113, 114, 115, 116, 117, 118, 119, 120, 121, 122, 123, 124, 125, 126, 127, 128, 129, 130, 131, 132, 133, 135, 136, 137, 138, 139, 141, 142, 143, 144, 145, 146, 147, 148, 149, 150, 151, 152, 153, 154, 155, 156, 157, 158, 159, 160, 161, 162, 163, 164, 165, 166, 167, 168, 170, 171, 172, 173, 174, 175, 177, 178, 179, 180, 181, 182, 183, 184, 185, 186, 187, 188, 189, 190, 191, 192, 193, 194, 195, 197, 198, 200], 'Problem_96_output_500': [0.495, 4, 6, 9, 11, 12, 14, 15, 16, 18, 19, 20, 21, 24, 26, 27, 30, 35, 37, 41, 43, 47, 48, 49, 50, 51, 53, 54, 55, 56, 60, 61, 63, 65, 68, 69, 70, 75, 78, 79, 81, 82, 83, 85, 86, 87, 89, 90, 93, 94, 95, 96, 97, 101, 102, 106, 108, 109, 114, 115, 117, 119, 124, 126, 128, 130, 131, 135, 137, 138, 139, 141, 142, 143, 146, 147, 149, 150, 153, 154, 155, 156, 157, 161, 162, 164, 165, 167, 172, 175, 180, 181, 184, 185, 189, 191, 192, 193, 194, 195], 'Problem_107_output_556': [0.20999999999999996, 2, 5, 7, 8, 9, 11, 12, 15, 16, 23, 27, 31, 39, 43, 47, 50, 51, 54, 55, 58, 61, 62, 78, 82, 86, 90, 94, 97, 100, 104, 108, 111, 112, 115, 116, 119, 122, 126, 130, 134, 143, 164], 'Problem_41_output_154': [0.025000000000000022, 13, 60, 68, 82, 93], 'Problem_88_output_467': [0.54, 1, 3, 4, 5, 7, 8, 9, 10, 11, 12, 14, 16, 17, 18, 19, 23, 24, 25, 26, 29, 30, 33, 34, 35, 37, 38, 39, 41, 42, 43, 45, 46, 47, 50, 53, 54, 55, 56, 57, 58, 60, 61, 62, 64, 66, 67, 68, 69, 72, 73, 74, 75, 77, 81, 82, 84, 85, 88, 89, 92, 93, 97, 98, 99, 100, 101, 104, 105, 106, 108, 109, 110, 111, 114, 115, 116, 118, 122, 123, 125, 127, 131, 135, 136, 137, 140, 142, 143, 144, 147, 149, 154, 156, 160, 164, 165, 166, 169, 171, 172, 176, 181, 183, 186, 189, 191, 194, 200], 'Problem_96_output_497': [0.0], 'Problem_78_output_410': [1.0, 1, 2, 3, 4, 5, 6, 7, 8, 9, 10, 11, 12, 13, 14, 15, 16, 17, 18, 19, 20, 21, 22, 23, 24, 25, 26, 27, 28, 29, 30, 31, 32, 33, 34, 35, 36, 37, 38, 39, 40, 41, 42, 43, 44, 45, 46, 47, 48, 49, 50, 51, 52, 53, 54, 55, 56, 57, 58, 59, 60, 61, 62, 63, 64, 65, 66, 67, 68, 69, 70, 71, 72, 73, 74, 75, 76, 77, 78, 79, 80, 81, 82, 83, 84, 85, 86, 87, 88, 89, 90, 91, 92, 93, 94, 95, 96, 97, 98, 99, 100, 101, 102, 103, 104, 105, 106, 107, 108, 109, 110, 111, 112, 113, 114, 115, 116, 117, 118, 119, 120, 121, 122, 123, 124, 125, 126, 127, 128, 129, 130, 131, 132, 133, 134, 135, 136, 137, 138, 139, 140, 141, 142, 143, 144, 145, 146, 147, 148, 149, 150, 151, 152, 153, 154, 155, 156, 157, 158, 159, 160, 161, 162, 163, 164, 165, 166, 167, 168, 169, 170, 171, 172, 173, 174, 175, 176, 177, 178, 179, 180, 181, 182, 183, 184, 185, 186, 187, 188, 189, 190, 191, 192, 193, 194, 195, 196, 197, 198, 199, 200], 'Problem_159_output_836': [0.025000000000000022, 2, 25, 54, 92, 190], 'Problem_77_output_406': [0.1428571428571429, 7], 'Problem_108_output_562': [0.010000000000000009, 14, 116], 'Problem_144_output_693': [0.05500000000000005, 13, 17, 43, 51, 68, 75, 79, 119, 130, 152, 172], 'Problem_39_output_216': [1.0, 1, 2, 3, 4, 5, 6, 7, 8, 9, 10, 11, 12, 13, 14, 15, 16, 17, 18, 19, 20, 21, 22, 23, 24, 25, 26, 27, 28, 29, 30, 31, 32, 33, 34, 35, 36, 37, 38, 39, 40, 41, 42, 43, 44, 45, 46, 47, 48, 49, 50, 51, 52, 53, 54, 55, 56, 57, 58, 59, 60, 61, 62, 63, 64, 65, 66, 67, 68, 69, 70, 71, 72, 73, 74, 75, 76, 77, 78, 79, 80, 81, 82, 83, 84, 85, 86, 87, 88, 89, 90, 91, 92, 93, 94, 95, 96, 97, 98, 99, 100, 101, 102, 103, 104, 105, 106, 107, 108, 109, 110, 111, 112, 113, 114, 115, 116, 117, 118, 119, 120, 121, 122, 123, 124, 125, 126, 127, 128, 129, 130, 131, 132, 133, 134, 135, 136, 137, 138, 139, 140, 141, 142, 143, 144, 145, 146, 147, 148, 149, 150, 151, 152, 153, 154, 155, 156, 157, 158, 159, 160, 161, 162, 163, 164, 165, 166, 167, 168, 169, 170, 171, 172, 173, 174, 175, 176, 177, 178, 179, 180, 181, 182, 183, 184, 185, 186, 187, 188, 189, 190, 191, 192, 193, 194, 195, 196, 197, 198, 199, 200], 'Problem_51_output_289': [1.0, 1, 2, 3, 4, 5, 6, 7, 8, 9, 10, 11, 12, 13, 14, 15, 16, 17, 18, 19, 20, 21, 22, 23, 24, 25, 26, 27, 28, 29, 30, 31, 32, 33, 34, 35, 36, 37, 38, 39, 40, 41, 42, 43, 44, 45, 46, 47, 48, 49, 50, 51, 52, 53, 54, 55, 56, 57, 58, 59, 60, 61, 62, 63, 64, 65, 66, 67, 68, 69, 70, 71, 72, 73, 74, 75, 76, 77, 78, 79, 80, 81, 82, 83, 84, 85, 86, 87, 88, 89, 90, 91, 92, 93, 94, 95, 96, 97, 98, 99, 100, 101, 102, 103, 104, 105, 106, 107, 108, 109, 110, 111, 112, 113, 114, 115, 116, 117, 118, 119, 120, 121, 122, 123, 124, 125, 126, 127, 128, 129, 130, 131, 132, 133, 134, 135, 136, 137, 138, 139, 140, 141, 142, 143, 144, 145, 146, 147, 148, 149, 150, 151, 152, 153, 154, 155, 156, 157, 158, 159, 160, 161, 162, 163, 164, 165, 166, 167, 168, 169, 170, 171, 172, 173, 174, 175, 176, 177, 178, 179, 180, 181, 182, 183, 184, 185, 186, 187, 188, 189, 190, 191, 192, 193, 194, 195, 196, 197, 198, 199, 200], 'Problem_158_output_712': [0.0], 'Problem_143_output_689': [0.995, 1, 2, 3, 4, 5, 6, 7, 8, 9, 10, 11, 12, 13, 14, 15, 16, 17, 18, 19, 20, 21, 22, 23, 24, 25, 26, 27, 28, 29, 30, 31, 32, 33, 34, 35, 36, 37, 38, 39, 40, 41, 42, 43, 44, 45, 46, 47, 48, 49, 50, 51, 52, 53, 54, 55, 56, 57, 58, 59, 60, 61, 62, 63, 64, 65, 66, 67, 68, 69, 70, 71, 72, 73, 74, 75, 76, 77, 78, 79, 80, 81, 82, 83, 84, 85, 86, 87, 88, 89, 90, 91, 92, 93, 94, 95, 96, 97, 98, 99, 100, 101, 102, 103, 104, 105, 106, 107, 108, 109, 110, 111, 112, 113, 114, 115, 116, 117, 118, 119, 120, 121, 122, 123, 124, 125, 126, 127, 128, 129, 130, 131, 132, 133, 134, 135, 136, 137, 138, 139, 140, 141, 142, 143, 144, 145, 146, 147, 148, 149, 151, 152, 153, 154, 155, 156, 157, 158, 159, 160, 161, 162, 163, 164, 165, 166, 167, 168, 169, 170, 171, 172, 173, 174, 175, 176, 177, 178, 179, 180, 181, 182, 183, 184, 185, 186, 187, 188, 189, 190, 191, 192, 193, 194, 195, 196, 197, 198, 199, 200], 'Problem_114_output_588': [1.0, 1, 2, 3, 4, 5, 6, 7, 8, 9, 10, 11, 12, 13, 14, 15, 16, 17, 18, 19, 20, 21, 22, 23, 24, 25, 26, 27, 28, 29, 30, 31, 32, 33, 34, 35, 36, 37, 38, 39, 40, 41, 42, 43, 44, 45, 46, 47, 48, 49, 50, 51, 52, 53, 54, 55, 56, 57, 58, 59, 60, 61, 62, 63, 64, 65, 66, 67, 68, 69, 70, 71, 72, 73, 74, 75, 76, 77, 78, 79, 80, 81, 82, 83, 84, 85, 86, 87, 88, 89, 90, 91, 92, 93, 94, 95, 96, 97, 98, 99, 100, 101, 102, 103, 104, 105, 106, 107, 108, 109, 110, 111, 112, 113, 114, 115, 116, 117, 118, 119, 120, 121, 122, 123, 124, 125, 126, 127, 128, 129, 130, 131, 132, 133, 134, 135, 136, 137, 138, 139, 140, 141, 142, 143, 144, 145, 146, 147, 148, 149, 150, 151, 152, 153, 154, 155, 156, 157, 158, 159, 160, 161, 162, 163, 164, 165, 166, 167, 168, 169, 170, 171, 172, 173, 174, 175, 176, 177, 178, 179, 180, 181, 182, 183, 184, 185, 186, 187, 188, 189, 190, 191, 192, 193, 194, 195, 196, 197, 198, 199, 200], 'Problem_158_output_732': [0.955, 1, 2, 3, 4, 5, 6, 7, 8, 9, 10, 11, 13, 14, 15, 16, 17, 18, 19, 20, 21, 22, 24, 25, 26, 27, 28, 29, 30, 31, 32, 33, 34, 35, 36, 37, 38, 39, 40, 41, 42, 43, 44, 45, 46, 47, 48, 49, 50, 51, 52, 53, 54, 55, 56, 57, 58, 59, 60, 61, 62, 63, 64, 65, 66, 67, 68, 69, 70, 71, 72, 73, 74, 75, 76, 77, 78, 79, 80, 81, 82, 83, 84, 85, 86, 88, 89, 90, 91, 92, 93, 94, 95, 96, 97, 98, 99, 100, 101, 102, 103, 104, 105, 106, 107, 108, 109, 110, 111, 112, 113, 114, 115, 116, 117, 118, 119, 120, 121, 122, 123, 124, 125, 126, 127, 128, 129, 130, 131, 132, 133, 135, 136, 137, 138, 139, 141, 142, 143, 144, 145, 146, 147, 148, 149, 150, 151, 152, 153, 154, 155, 156, 157, 158, 159, 160, 161, 162, 163, 164, 165, 166, 167, 168, 170, 171, 172, 173, 174, 175, 177, 178, 179, 180, 181, 182, 183, 184, 185, 186, 187, 188, 189, 190, 191, 192, 193, 194, 195, 197, 198, 200], 'Problem_158_output_719': [0.0], 'Problem_114_output_582': [1.0, 1, 2, 3, 4, 5, 6, 7, 8, 9, 10, 11, 12, 13, 14, 15, 16, 17, 18, 19, 20, 21, 22, 23, 24, 25, 26, 27, 28, 29, 30, 31, 32, 33, 34, 35, 36, 37, 38, 39, 40, 41, 42, 43, 44, 45, 46, 47, 48, 49, 50, 51, 52, 53, 54, 55, 56, 57, 58, 59, 60, 61, 62, 63, 64, 65, 66, 67, 68, 69, 70, 71, 72, 73, 74, 75, 76, 77, 78, 79, 80, 81, 82, 83, 84, 85, 86, 87, 88, 89, 90, 91, 92, 93, 94, 95, 96, 97, 98, 99, 100, 101, 102, 103, 104, 105, 106, 107, 108, 109, 110, 111, 112, 113, 114, 115, 116, 117, 118, 119, 120, 121, 122, 123, 124, 125, 126, 127, 128, 129, 130, 131, 132, 133, 134, 135, 136, 137, 138, 139, 140, 141, 142, 143, 144, 145, 146, 147, 148, 149, 150, 151, 152, 153, 154, 155, 156, 157, 158, 159, 160, 161, 162, 163, 164, 165, 166, 167, 168, 169, 170, 171, 172, 173, 174, 175, 176, 177, 178, 179, 180, 181, 182, 183, 184, 185, 186, 187, 188, 189, 190, 191, 192, 193, 194, 195, 196, 197, 198, 199, 200], 'Problem_119_output_603': [0.65, 1, 2, 4, 5, 6, 7, 8, 9, 10, 11, 12, 16, 20, 21, 22, 24, 26, 30, 31, 32, 33, 34, 35, 37, 38, 39, 40, 41, 42, 43, 47, 48, 49, 52, 54, 55, 58, 59, 61, 63, 64, 65, 67, 68, 69, 71, 72, 73, 74, 75, 78, 79, 80, 81, 82, 83, 85, 87, 88, 89, 90, 91, 93, 94, 96, 99, 100, 101, 102, 104, 106, 107, 108, 109, 110, 111, 112, 113, 115, 116, 117, 118, 119, 120, 121, 122, 124, 125, 127, 129, 131, 134, 136, 137, 138, 141, 142, 143, 144, 145, 147, 149, 150, 152, 153, 155, 158, 159, 160, 161, 163, 166, 167, 168, 173, 174, 175, 181, 182, 185, 187, 188, 189, 190, 191, 192, 196, 197, 199, 200], 'Problem_98_output_506': [1.0, 1, 2, 3, 4, 5, 6, 7, 8, 9, 10, 11, 12, 13, 14, 15, 16, 17, 18, 19, 20, 21, 22, 23, 24, 25, 26, 27, 28, 29, 30, 31, 32, 33, 34, 35, 36, 37, 38, 39, 40, 41, 42, 43, 44, 45, 46, 47, 48, 49, 50, 51, 52, 53, 54, 55, 56, 57, 58, 59, 60, 61, 62, 63, 64, 65, 66, 67, 68, 69, 70, 71, 72, 73, 74, 75, 76, 77, 78, 79, 80, 81, 82, 83, 84, 85, 86, 87, 88, 89, 90, 91, 92, 93, 94, 95, 96, 97, 98, 99, 100, 101, 102, 103, 104, 105, 106, 107, 108, 109, 110, 111, 112, 113, 114, 115, 116, 117, 118, 119, 120, 121, 122, 123, 124, 125, 126, 127, 128, 129, 130, 131, 132, 133, 134, 135, 136, 137, 138, 139, 140, 141, 142, 143, 144, 145, 146, 147, 148, 149, 150, 151, 152, 153, 154, 155, 156, 157, 158, 159, 160, 161, 162, 163, 164, 165, 166, 167, 168, 169, 170, 171, 172, 173, 174, 175, 176, 177, 178, 179, 180, 181, 182, 183, 184, 185, 186, 187, 188, 189, 190, 191, 192, 193, 194, 195, 196, 197, 198, 199, 200], 'Problem_98_output_504': [0.945, 1, 3, 4, 5, 6, 7, 8, 9, 10, 11, 12, 13, 14, 15, 16, 17, 18, 20, 21, 22, 23, 24, 25, 26, 27, 28, 29, 30, 31, 32, 33, 34, 35, 36, 37, 38, 39, 40, 41, 42, 43, 44, 45, 46, 47, 48, 49, 50, 51, 52, 53, 54, 55, 56, 57, 58, 59, 60, 61, 62, 63, 64, 65, 66, 67, 68, 69, 70, 71, 72, 73, 74, 75, 76, 77, 78, 79, 80, 81, 82, 83, 84, 85, 86, 87, 88, 89, 90, 91, 92, 93, 94, 95, 96, 97, 98, 99, 100, 101, 102, 103, 104, 105, 106, 107, 108, 109, 110, 111, 112, 113, 114, 115, 116, 117, 118, 119, 120, 121, 122, 124, 125, 126, 127, 128, 129, 130, 131, 132, 134, 136, 137, 138, 139, 140, 141, 142, 143, 144, 145, 146, 147, 149, 150, 151, 152, 153, 154, 155, 156, 157, 158, 159, 160, 161, 162, 163, 164, 165, 166, 167, 168, 170, 171, 172, 173, 174, 175, 177, 178, 179, 180, 182, 184, 185, 186, 187, 189, 190, 191, 192, 193, 194, 195, 196, 197, 198, 199, 200], 'Problem_48_output_254': [0.0], 'Problem_33_output_184': [0.675, 1, 2, 3, 4, 9, 15, 22, 37, 38, 39, 40, 43, 53, 61, 63, 64, 67, 72, 74, 75, 76, 77, 79, 80, 81, 84, 85, 86, 88, 89, 90, 91, 93, 94, 95, 96, 99, 100, 101, 102, 105, 106, 107, 108, 109, 110, 111, 112, 113, 114, 115, 116, 117, 118, 119, 120, 121, 122, 123, 124, 125, 126, 127, 128, 129, 130, 131, 132, 133, 134, 135, 136, 137, 138, 139, 140, 141, 142, 143, 144, 145, 146, 147, 148, 149, 150, 151, 152, 153, 154, 155, 157, 158, 159, 160, 161, 162, 163, 164, 165, 166, 167, 168, 169, 170, 171, 172, 173, 174, 175, 176, 177, 178, 179, 180, 181, 182, 183, 184, 185, 186, 187, 188, 189, 190, 191, 192, 193, 194, 195, 196, 197, 198, 199, 200], 'Problem_21_output_93': [0.0050000000000000044, 105], 'Problem_23_output_113': [0.15500000000000003, 1, 3, 5, 8, 9, 10, 14, 17, 22, 24, 30, 32, 34, 35, 44, 45, 52, 53, 58, 75, 89, 92, 98, 99, 102, 105, 109, 114, 117, 126, 187], 'Problem_54_output_299': [0.55, 4, 8, 9, 10, 11, 13, 18, 27, 28, 29, 30, 33, 34, 35, 36, 38, 39, 40, 41, 42, 43, 44, 45, 46, 53, 54, 58, 59, 61, 63, 64, 65, 68, 69, 70, 71, 74, 79, 82, 83, 84, 87, 90, 93, 96, 100, 101, 102, 104, 105, 106, 107, 111, 115, 116, 117, 118, 119, 122, 124, 126, 129, 130, 132, 134, 135, 137, 139, 141, 145, 146, 147, 148, 150, 151, 152, 153, 155, 156, 159, 160, 161, 162, 164, 165, 167, 168, 170, 171, 172, 173, 174, 175, 176, 177, 178, 179, 180, 181, 182, 183, 184, 185, 186, 187, 189, 190, 192, 193, 197], 'Problem_156_output_809': [0.0], 'Problem_13_output_53': [1.0, 1, 2, 3, 4, 5, 6, 7, 8, 9, 10, 11, 12, 13, 14, 15, 16, 17, 18, 19, 20, 21, 22, 23, 24, 25, 26, 27, 28, 29, 30, 31, 32, 33, 34, 35, 36, 37, 38, 39, 40, 41, 42, 43, 44, 45, 46, 47, 48, 49, 50, 51, 52, 53, 54, 55, 56, 57, 58, 59, 60, 61, 62, 63, 64, 65, 66, 67, 68, 69, 70, 71, 72, 73, 74, 75, 76, 77, 78, 79, 80, 81, 82, 83, 84, 85, 86, 87, 88, 89, 90, 91, 92, 93, 94, 95, 96, 97, 98, 99, 100, 101, 102, 103, 104, 105, 106, 107, 108, 109, 110, 111, 112, 113, 114, 115, 116, 117, 118, 119, 120, 121, 122, 123, 124, 125, 126, 127, 128, 129, 130, 131, 132, 133, 134, 135, 136, 137, 138, 139, 140, 141, 142, 143, 144, 145, 146, 147, 148, 149, 150, 151, 152, 153, 154, 155, 156, 157, 158, 159, 160, 161, 162, 163, 164, 165, 166, 167, 168, 169, 170, 171, 172, 173, 174, 175, 176, 177, 178, 179, 180, 181, 182, 183, 184, 185, 186, 187, 188, 189, 190, 191, 192, 193, 194, 195, 196, 197, 198, 199, 200], 'Problem_114_output_589': [1.0, 1, 2, 3, 4, 5, 6, 7, 8, 9, 10, 11, 12, 13, 14, 15, 16, 17, 18, 19, 20, 21, 22, 23, 24, 25, 26, 27, 28, 29, 30, 31, 32, 33, 34, 35, 36, 37, 38, 39, 40, 41, 42, 43, 44, 45, 46, 47, 48, 49, 50, 51, 52, 53, 54, 55, 56, 57, 58, 59, 60, 61, 62, 63, 64, 65, 66, 67, 68, 69, 70, 71, 72, 73, 74, 75, 76, 77, 78, 79, 80, 81, 82, 83, 84, 85, 86, 87, 88, 89, 90, 91, 92, 93, 94, 95, 96, 97, 98, 99, 100, 101, 102, 103, 104, 105, 106, 107, 108, 109, 110, 111, 112, 113, 114, 115, 116, 117, 118, 119, 120, 121, 122, 123, 124, 125, 126, 127, 128, 129, 130, 131, 132, 133, 134, 135, 136, 137, 138, 139, 140, 141, 142, 143, 144, 145, 146, 147, 148, 149, 150, 151, 152, 153, 154, 155, 156, 157, 158, 159, 160, 161, 162, 163, 164, 165, 166, 167, 168, 169, 170, 171, 172, 173, 174, 175, 176, 177, 178, 179, 180, 181, 182, 183, 184, 185, 186, 187, 188, 189, 190, 191, 192, 193, 194, 195, 196, 197, 198, 199, 200], 'Problem_18_output_80': [0.39, 4, 9, 16, 19, 20, 27, 29, 30, 31, 32, 33, 34, 36, 38, 43, 45, 46, 49, 52, 54, 55, 56, 59, 60, 61, 65, 67, 70, 72, 74, 77, 81, 82, 83, 84, 86, 87, 91, 92, 93, 94, 96, 99, 102, 103, 106, 108, 109, 111, 115, 116, 117, 118, 119, 121, 122, 123, 126, 127, 133, 135, 145, 146, 149, 158, 159, 162, 164, 165, 166, 172, 175, 177, 179, 184, 188, 193, 199], 'Problem_106_output_551': [1.0, 1, 2, 3, 4, 5, 6, 7, 8, 9, 10, 11, 12, 13, 14, 15, 16, 17, 18, 19, 20, 21, 22, 23, 24, 25, 26, 27, 28, 29, 30, 31, 32, 33, 34, 35, 36, 37, 38, 39, 40, 41, 42, 43, 44, 45, 46, 47, 48, 49, 50, 51, 52, 53, 54, 55, 56, 57, 58, 59, 60, 61, 62, 63, 64, 65, 66, 67, 68, 69, 70, 71, 72, 73, 74, 75, 76, 77, 78, 79, 80, 81, 82, 83, 84, 85, 86, 87, 88, 89, 90, 91, 92, 93, 94, 95, 96, 97, 98, 99, 100, 101, 102, 103, 104, 105, 106, 107, 108, 109, 110, 111, 112, 113, 114, 115, 116, 117, 118, 119, 120, 121, 122, 123, 124, 125, 126, 127, 128, 129, 130, 131, 132, 133, 134, 135, 136, 137, 138, 139, 140, 141, 142, 143, 144, 145, 146, 147, 148, 149, 150, 151, 152, 153, 154, 155, 156, 157, 158, 159, 160, 161, 162, 163, 164, 165, 166, 167, 168, 169, 170, 171, 172, 173, 174, 175, 176, 177, 178, 179, 180, 181, 182, 183, 184, 185, 186, 187, 188, 189, 190, 191, 192, 193, 194, 195, 196, 197, 198, 199, 200], 'Problem_21_output_97': [0.0050000000000000044, 105], 'Problem_155_output_798': [0.0], 'Problem_41_output_155': [0.86, 1, 2, 3, 4, 5, 6, 8, 9, 10, 11, 12, 13, 14, 15, 16, 17, 18, 19, 21, 22, 23, 24, 25, 26, 27, 28, 29, 32, 33, 34, 35, 36, 37, 39, 40, 41, 42, 43, 44, 48, 49, 50, 51, 52, 53, 55, 57, 58, 59, 60, 61, 62, 63, 66, 68, 70, 72, 73, 74, 75, 76, 77, 78, 79, 80, 81, 82, 83, 84, 85, 86, 87, 88, 89, 90, 91, 93, 94, 95, 96, 97, 98, 99, 100, 101, 102, 104, 105, 107, 108, 110, 111, 112, 113, 114, 115, 116, 117, 118, 119, 120, 121, 123, 124, 125, 126, 127, 128, 129, 131, 132, 133, 135, 136, 137, 138, 139, 140, 141, 142, 144, 146, 147, 148, 149, 150, 151, 152, 153, 154, 155, 156, 157, 158, 159, 160, 161, 162, 163, 164, 165, 167, 168, 169, 170, 171, 172, 173, 174, 175, 176, 177, 178, 179, 181, 182, 183, 184, 185, 186, 187, 188, 189, 190, 192, 193, 194, 195, 196, 197, 199, 200], 'Problem_47_output_253': [0.0], 'Problem_42_output_235': [0.9259259259259259, 1, 2, 3, 4, 5, 6, 7, 8, 9, 10, 12, 13, 14, 15, 16, 17, 18, 19, 20, 21, 22, 23, 24, 25, 26, 27, 28, 29, 30, 31, 32, 33, 35, 36, 38, 39, 40, 41, 42, 43, 44, 45, 46, 47, 48, 49, 51, 52, 53, 54, 55, 56, 58, 59, 60, 61, 62, 63, 64, 65, 66, 67, 69, 70, 71, 72, 73, 74, 75, 76, 77, 78, 79, 80, 81], 'Problem_146_output_701': [0.0], 'Problem_160_output_840': [0.0], 'Problem_23_output_110': [0.31499999999999995, 37, 49, 70, 82, 92, 94, 109, 113, 120, 121, 124, 125, 127, 128, 129, 132, 133, 134, 136, 137, 138, 140, 141, 144, 145, 146, 147, 148, 149, 151, 153, 154, 155, 156, 157, 158, 159, 160, 161, 162, 163, 164, 165, 166, 167, 168, 169, 171, 172, 173, 175, 176, 182, 186, 188, 189, 191, 192, 193, 196, 197, 199, 200], 'Problem_65_output_278': [1.0, 1, 2, 3, 4, 5, 6, 7, 8, 9, 10, 11, 12, 13, 14, 15, 16, 17, 18, 19, 20, 21, 22, 23, 24, 25, 26, 27, 28, 29, 30, 31, 32, 33, 34, 35, 36, 37, 38, 39, 40, 41, 42, 43, 44, 45, 46, 47, 48, 49, 50, 51, 52, 53, 54, 55, 56, 57, 58, 59, 60, 61, 62, 63, 64, 65, 66, 67, 68, 69, 70, 71, 72, 73, 74, 75, 76, 77, 78, 79, 80, 81, 82, 83, 84, 85, 86, 87, 88, 89, 90, 91, 92, 93, 94, 95, 96, 97, 98, 99, 100, 101, 102, 103, 104, 105, 106, 107, 108, 109, 110, 111, 112, 113, 114, 115, 116, 117, 118, 119, 120, 121, 122, 123, 124, 125, 126, 127, 128, 129, 130, 131, 132, 133, 134, 135, 136, 137, 138, 139, 140, 141, 142, 143, 144, 145, 146, 147, 148, 149, 150, 151, 152, 153, 154, 155, 156, 157, 158, 159, 160, 161, 162, 163, 164, 165, 166, 167, 168, 169, 170, 171, 172, 173, 174, 175, 176, 177, 178, 179, 180, 181, 182, 183, 184, 185, 186, 187, 188, 189, 190, 191, 192, 193, 194, 195, 196, 197, 198, 199, 200], 'Problem_38_output_212': [1.0, 1, 2, 3, 4, 5, 6, 7, 8, 9, 10, 11, 12, 13, 14, 15, 16, 17, 18, 19, 20, 21, 22, 23, 24, 25, 26, 27, 28, 29, 30, 31, 32, 33, 34, 35, 36, 37, 38, 39, 40, 41, 42, 43, 44, 45, 46, 47, 48, 49, 50, 51, 52, 53, 54, 55, 56, 57, 58, 59, 60, 61, 62, 63, 64, 65, 66, 67, 68, 69, 70, 71, 72, 73, 74, 75, 76, 77, 78, 79, 80, 81, 82, 83, 84, 85, 86, 87, 88, 89, 90, 91, 92, 93, 94, 95, 96, 97, 98, 99, 100, 101, 102, 103, 104, 105, 106, 107, 108, 109, 110, 111, 112, 113, 114, 115, 116, 117, 118, 119, 120, 121, 122, 123, 124, 125, 126, 127, 128, 129, 130, 131, 132, 133, 134, 135, 136, 137, 138, 139, 140, 141, 142, 143, 144, 145, 146, 147, 148, 149, 150, 151, 152, 153, 154, 155, 156, 157, 158, 159, 160, 161, 162, 163, 164, 165, 166, 167, 168, 169, 170, 171, 172, 173, 174, 175, 176, 177, 178, 179, 180, 181, 182, 183, 184, 185, 186, 187, 188, 189, 190, 191, 192, 193, 194, 195, 196, 197, 198, 199, 200], 'Problem_93_output_480': [0.0], 'Problem_96_output_496': [1.0, 1, 2, 3, 4, 5, 6, 7, 8, 9, 10, 11, 12, 13, 14, 15, 16, 17, 18, 19, 20, 21, 22, 23, 24, 25, 26, 27, 28, 29, 30, 31, 32, 33, 34, 35, 36, 37, 38, 39, 40, 41, 42, 43, 44, 45, 46, 47, 48, 49, 50, 51, 52, 53, 54, 55, 56, 57, 58, 59, 60, 61, 62, 63, 64, 65, 66, 67, 68, 69, 70, 71, 72, 73, 74, 75, 76, 77, 78, 79, 80, 81, 82, 83, 84, 85, 86, 87, 88, 89, 90, 91, 92, 93, 94, 95, 96, 97, 98, 99, 100, 101, 102, 103, 104, 105, 106, 107, 108, 109, 110, 111, 112, 113, 114, 115, 116, 117, 118, 119, 120, 121, 122, 123, 124, 125, 126, 127, 128, 129, 130, 131, 132, 133, 134, 135, 136, 137, 138, 139, 140, 141, 142, 143, 144, 145, 146, 147, 148, 149, 150, 151, 152, 153, 154, 155, 156, 157, 158, 159, 160, 161, 162, 163, 164, 165, 166, 167, 168, 169, 170, 171, 172, 173, 174, 175, 176, 177, 178, 179, 180, 181, 182, 183, 184, 185, 186, 187, 188, 189, 190, 191, 192, 193, 194, 195, 196, 197, 198, 199, 200], 'Problem_136_output_647': [0.0050000000000000044, 45], 'Problem_81_output_360': [0.21499999999999997, 1, 7, 9, 17, 20, 26, 32, 35, 39, 45, 48, 52, 53, 59, 62, 66, 67, 73, 76, 80, 81, 87, 90, 94, 95, 102, 104, 107, 113, 115, 118, 126, 137, 140, 146, 149, 158, 166, 173, 180, 187, 194, 199], 'Problem_77_output_405': [1.0, 1, 2, 3, 4, 5, 6, 7], 'Problem_19_output_85': [0.0], 'Problem_105_output_538': [1.0, 1, 2, 3, 4, 5, 6, 7, 8, 9, 10, 11, 12, 13, 14, 15, 16, 17, 18, 19, 20, 21, 22, 23, 24, 25, 26, 27, 28, 29, 30, 31, 32, 33, 34, 35, 36, 37, 38, 39, 40, 41, 42, 43, 44, 45, 46, 47, 48, 49, 50, 51, 52, 53, 54, 55, 56, 57, 58, 59, 60, 61, 62, 63, 64, 65, 66, 67, 68, 69, 70, 71, 72, 73, 74, 75, 76, 77, 78, 79, 80, 81, 82, 83, 84, 85, 86, 87, 88, 89, 90, 91, 92, 93, 94, 95, 96, 97, 98, 99, 100, 101, 102, 103, 104, 105, 106, 107, 108, 109, 110, 111, 112, 113, 114, 115, 116, 117, 118, 119, 120, 121, 122, 123, 124, 125, 126, 127, 128, 129, 130, 131, 132, 133, 134, 135, 136, 137, 138, 139, 140, 141, 142, 143, 144, 145, 146, 147, 148, 149, 150, 151, 152, 153, 154, 155, 156, 157, 158, 159, 160, 161, 162, 163, 164, 165, 166, 167, 168, 169, 170, 171, 172, 173, 174, 175, 176, 177, 178, 179, 180, 181, 182, 183, 184, 185, 186, 187, 188, 189, 190, 191, 192, 193, 194, 195, 196, 197, 198, 199, 200], 'Problem_88_output_469': [1.0, 1, 2, 3, 4, 5, 6, 7, 8, 9, 10, 11, 12, 13, 14, 15, 16, 17, 18, 19, 20, 21, 22, 23, 24, 25, 26, 27, 28, 29, 30, 31, 32, 33, 34, 35, 36, 37, 38, 39, 40, 41, 42, 43, 44, 45, 46, 47, 48, 49, 50, 51, 52, 53, 54, 55, 56, 57, 58, 59, 60, 61, 62, 63, 64, 65, 66, 67, 68, 69, 70, 71, 72, 73, 74, 75, 76, 77, 78, 79, 80, 81, 82, 83, 84, 85, 86, 87, 88, 89, 90, 91, 92, 93, 94, 95, 96, 97, 98, 99, 100, 101, 102, 103, 104, 105, 106, 107, 108, 109, 110, 111, 112, 113, 114, 115, 116, 117, 118, 119, 120, 121, 122, 123, 124, 125, 126, 127, 128, 129, 130, 131, 132, 133, 134, 135, 136, 137, 138, 139, 140, 141, 142, 143, 144, 145, 146, 147, 148, 149, 150, 151, 152, 153, 154, 155, 156, 157, 158, 159, 160, 161, 162, 163, 164, 165, 166, 167, 168, 169, 170, 171, 172, 173, 174, 175, 176, 177, 178, 179, 180, 181, 182, 183, 184, 185, 186, 187, 188, 189, 190, 191, 192, 193, 194, 195, 196, 197, 198, 199, 200], 'Problem_49_output_283': [1.0, 1, 2, 3, 4, 5, 6, 7, 8, 9, 10, 11, 12, 13, 14, 15, 16, 17, 18, 19, 20, 21, 22, 23, 24, 25, 26, 27, 28, 29, 30, 31, 32, 33, 34, 35, 36, 37, 38, 39, 40, 41, 42, 43, 44, 45, 46, 47, 48, 49, 50, 51, 52, 53, 54, 55, 56, 57, 58, 59, 60, 61, 62, 63, 64, 65, 66, 67, 68, 69, 70, 71, 72, 73, 74, 75, 76, 77, 78, 79, 80, 81, 82, 83, 84, 85, 86, 87, 88, 89, 90, 91, 92, 93, 94, 95, 96, 97, 98, 99, 100, 101, 102, 103, 104, 105, 106, 107, 108, 109, 110, 111, 112, 113, 114, 115, 116, 117, 118, 119, 120, 121, 122, 123, 124, 125, 126, 127, 128, 129, 130, 131, 132, 133, 134, 135, 136, 137, 138, 139, 140, 141, 142, 143, 144, 145, 146, 147, 148, 149, 150, 151, 152, 153, 154, 155, 156, 157, 158, 159, 160, 161, 162, 163, 164, 165, 166, 167, 168, 169, 170, 171, 172, 173, 174, 175, 176, 177, 178, 179, 180, 181, 182, 183, 184, 185, 186, 187, 188, 189, 190, 191, 192, 193, 194, 195, 196, 197, 198, 199, 200], 'Problem_74_output_385': [0.945, 1, 2, 3, 5, 6, 7, 8, 9, 10, 11, 12, 14, 15, 16, 17, 18, 19, 21, 22, 23, 24, 25, 26, 27, 29, 30, 31, 32, 33, 34, 35, 36, 37, 38, 39, 40, 42, 43, 44, 45, 46, 47, 48, 49, 50, 51, 52, 53, 54, 55, 56, 57, 58, 59, 60, 61, 62, 63, 64, 65, 66, 67, 68, 69, 70, 71, 72, 73, 74, 76, 77, 78, 79, 80, 81, 82, 83, 84, 85, 86, 87, 88, 89, 90, 92, 93, 94, 95, 96, 97, 98, 99, 100, 101, 102, 103, 104, 105, 106, 107, 108, 109, 110, 111, 112, 113, 114, 115, 117, 118, 119, 120, 121, 122, 123, 124, 125, 126, 127, 128, 130, 131, 132, 133, 134, 135, 136, 137, 138, 139, 140, 141, 142, 143, 144, 145, 146, 147, 148, 149, 150, 151, 152, 153, 154, 155, 156, 159, 160, 161, 162, 163, 164, 165, 166, 167, 168, 169, 170, 171, 172, 173, 174, 175, 176, 177, 178, 179, 180, 181, 182, 183, 184, 185, 186, 187, 188, 189, 190, 191, 192, 193, 194, 195, 196, 197, 198, 199, 200], 'Problem_158_output_714': [0.0], 'Problem_158_output_834': [0.645, 1, 3, 4, 5, 7, 8, 9, 10, 11, 12, 13, 14, 15, 16, 17, 18, 19, 20, 21, 22, 23, 24, 25, 26, 27, 28, 29, 30, 31, 32, 33, 34, 35, 36, 41, 45, 47, 49, 51, 52, 54, 56, 58, 60, 63, 65, 67, 69, 71, 75, 76, 81, 84, 85, 86, 87, 88, 89, 93, 96, 99, 100, 101, 103, 105, 106, 108, 110, 111, 112, 114, 116, 120, 122, 123, 124, 126, 127, 128, 129, 131, 134, 135, 137, 138, 139, 140, 141, 142, 144, 148, 149, 150, 153, 154, 155, 156, 157, 158, 161, 163, 164, 165, 166, 167, 169, 171, 172, 173, 174, 175, 176, 179, 180, 181, 182, 184, 185, 186, 187, 190, 192, 193, 194, 195, 196, 197, 198, 199], 'Problem_124_output_615': [0.675, 1, 2, 3, 4, 5, 6, 7, 8, 9, 11, 13, 14, 15, 16, 18, 19, 21, 22, 23, 24, 25, 26, 27, 28, 29, 30, 31, 32, 33, 34, 35, 36, 38, 39, 41, 42, 43, 44, 45, 46, 47, 48, 49, 51, 52, 53, 55, 56, 57, 58, 59, 60, 61, 62, 63, 64, 65, 66, 67, 71, 72, 73, 74, 77, 79, 80, 81, 82, 85, 87, 89, 90, 91, 94, 95, 98, 99, 101, 102, 103, 104, 106, 107, 108, 112, 113, 114, 117, 118, 120, 122, 125, 126, 129, 132, 133, 138, 139, 141, 142, 145, 146, 148, 149, 152, 153, 154, 155, 156, 158, 159, 160, 161, 162, 164, 165, 166, 170, 171, 175, 176, 177, 178, 179, 182, 185, 186, 187, 191, 192, 195, 197, 198, 199, 200], 'Problem_61_output_260': [0.0], 'Problem_39_output_221': [1.0, 1, 2, 3, 4, 5, 6, 7, 8, 9, 10, 11, 12, 13, 14, 15, 16, 17, 18, 19, 20, 21, 22, 23, 24, 25, 26, 27, 28, 29, 30, 31, 32, 33, 34, 35, 36, 37, 38, 39, 40, 41, 42, 43, 44, 45, 46, 47, 48, 49, 50, 51, 52, 53, 54, 55, 56, 57, 58, 59, 60, 61, 62, 63, 64, 65, 66, 67, 68, 69, 70, 71, 72, 73, 74, 75, 76, 77, 78, 79, 80, 81, 82, 83, 84, 85, 86, 87, 88, 89, 90, 91, 92, 93, 94, 95, 96, 97, 98, 99, 100, 101, 102, 103, 104, 105, 106, 107, 108, 109, 110, 111, 112, 113, 114, 115, 116, 117, 118, 119, 120, 121, 122, 123, 124, 125, 126, 127, 128, 129, 130, 131, 132, 133, 134, 135, 136, 137, 138, 139, 140, 141, 142, 143, 144, 145, 146, 147, 148, 149, 150, 151, 152, 153, 154, 155, 156, 157, 158, 159, 160, 161, 162, 163, 164, 165, 166, 167, 168, 169, 170, 171, 172, 173, 174, 175, 176, 177, 178, 179, 180, 181, 182, 183, 184, 185, 186, 187, 188, 189, 190, 191, 192, 193, 194, 195, 196, 197, 198, 199, 200], 'Problem_23_output_112': [0.375, 12, 39, 41, 42, 43, 48, 49, 72, 76, 80, 82, 91, 92, 94, 97, 101, 107, 108, 109, 111, 113, 116, 120, 121, 124, 125, 127, 128, 132, 133, 134, 136, 137, 138, 140, 141, 144, 145, 146, 148, 149, 151, 153, 154, 155, 156, 157, 158, 159, 160, 161, 162, 163, 164, 165, 166, 167, 168, 169, 171, 172, 173, 175, 176, 178, 182, 186, 188, 191, 192, 193, 196, 197, 199, 200], 'Problem_62_output_269': [0.995, 1, 2, 3, 4, 5, 6, 7, 8, 9, 10, 11, 12, 13, 14, 15, 16, 17, 18, 19, 20, 21, 22, 23, 24, 25, 26, 27, 28, 29, 30, 31, 32, 33, 34, 35, 36, 37, 38, 39, 40, 41, 42, 43, 44, 45, 46, 47, 48, 49, 50, 51, 52, 53, 54, 55, 56, 57, 58, 59, 60, 61, 62, 63, 64, 65, 66, 67, 68, 69, 70, 71, 72, 73, 74, 75, 76, 77, 78, 79, 80, 81, 82, 83, 84, 85, 86, 87, 88, 89, 90, 91, 92, 93, 94, 95, 96, 97, 98, 99, 100, 101, 102, 104, 105, 106, 107, 108, 109, 110, 111, 112, 113, 114, 115, 116, 117, 118, 119, 120, 121, 122, 123, 124, 125, 126, 127, 128, 129, 130, 131, 132, 133, 134, 135, 136, 137, 138, 139, 140, 141, 142, 143, 144, 145, 146, 147, 148, 149, 150, 151, 152, 153, 154, 155, 156, 157, 158, 159, 160, 161, 162, 163, 164, 165, 166, 167, 168, 169, 170, 171, 172, 173, 174, 175, 176, 177, 178, 179, 180, 181, 182, 183, 184, 185, 186, 187, 188, 189, 190, 191, 192, 193, 194, 195, 196, 197, 198, 199, 200], 'Problem_139_output_665': [0.47, 2, 4, 5, 6, 7, 8, 9, 10, 11, 13, 16, 19, 20, 23, 24, 30, 33, 36, 37, 40, 41, 44, 45, 48, 49, 52, 53, 56, 57, 60, 61, 64, 65, 69, 72, 75, 76, 79, 80, 83, 86, 87, 90, 91, 94, 95, 98, 99, 102, 103, 106, 109, 110, 113, 114, 117, 118, 121, 122, 125, 126, 129, 130, 133, 134, 137, 138, 141, 142, 145, 147, 148, 151, 153, 154, 156, 157, 159, 160, 162, 163, 166, 169, 172, 175, 178, 180, 181, 184, 187, 190, 193, 196, 199], 'Problem_158_output_729': [0.0], 'Problem_99_output_520': [1.0, 1, 2, 3, 4, 5, 6, 7, 8, 9, 10, 11, 12, 13, 14, 15, 16, 17, 18, 19, 20, 21, 22, 23, 24, 25, 26, 27, 28, 29, 30, 31, 32, 33, 34, 35, 36, 37, 38, 39, 40, 41, 42, 43, 44, 45, 46, 47, 48, 49, 50, 51, 52, 53, 54, 55, 56, 57, 58, 59, 60, 61, 62, 63, 64, 65, 66, 67, 68, 69, 70, 71, 72, 73, 74, 75, 76, 77, 78, 79, 80, 81, 82, 83, 84, 85, 86, 87, 88, 89, 90, 91, 92, 93, 94, 95, 96, 97, 98, 99, 100, 101, 102, 103, 104, 105, 106, 107, 108, 109, 110, 111, 112, 113, 114, 115, 116, 117, 118, 119, 120, 121, 122, 123, 124, 125, 126, 127, 128, 129, 130, 131, 132, 133, 134, 135, 136, 137, 138, 139, 140, 141, 142, 143, 144, 145, 146, 147, 148, 149, 150, 151, 152, 153, 154, 155, 156, 157, 158, 159, 160, 161, 162, 163, 164, 165, 166, 167, 168, 169, 170, 171, 172, 173, 174, 175, 176, 177, 178, 179, 180, 181, 182, 183, 184, 185, 186, 187, 188, 189, 190, 191, 192, 193, 194, 195, 196, 197, 198, 199, 200], 'Problem_114_output_585': [1.0, 1, 2, 3, 4, 5, 6, 7, 8, 9, 10, 11, 12, 13, 14, 15, 16, 17, 18, 19, 20, 21, 22, 23, 24, 25, 26, 27, 28, 29, 30, 31, 32, 33, 34, 35, 36, 37, 38, 39, 40, 41, 42, 43, 44, 45, 46, 47, 48, 49, 50, 51, 52, 53, 54, 55, 56, 57, 58, 59, 60, 61, 62, 63, 64, 65, 66, 67, 68, 69, 70, 71, 72, 73, 74, 75, 76, 77, 78, 79, 80, 81, 82, 83, 84, 85, 86, 87, 88, 89, 90, 91, 92, 93, 94, 95, 96, 97, 98, 99, 100, 101, 102, 103, 104, 105, 106, 107, 108, 109, 110, 111, 112, 113, 114, 115, 116, 117, 118, 119, 120, 121, 122, 123, 124, 125, 126, 127, 128, 129, 130, 131, 132, 133, 134, 135, 136, 137, 138, 139, 140, 141, 142, 143, 144, 145, 146, 147, 148, 149, 150, 151, 152, 153, 154, 155, 156, 157, 158, 159, 160, 161, 162, 163, 164, 165, 166, 167, 168, 169, 170, 171, 172, 173, 174, 175, 176, 177, 178, 179, 180, 181, 182, 183, 184, 185, 186, 187, 188, 189, 190, 191, 192, 193, 194, 195, 196, 197, 198, 199, 200], 'Problem_13_output_49': [0.965, 1, 2, 3, 4, 5, 6, 7, 8, 9, 10, 11, 12, 13, 14, 15, 17, 18, 19, 20, 21, 22, 23, 24, 25, 26, 27, 28, 29, 30, 31, 32, 33, 34, 35, 36, 37, 38, 39, 40, 41, 42, 43, 44, 45, 46, 47, 48, 49, 50, 51, 52, 53, 54, 55, 56, 57, 58, 59, 60, 61, 62, 63, 64, 65, 66, 67, 68, 69, 70, 71, 72, 73, 74, 75, 76, 77, 78, 79, 80, 81, 82, 83, 84, 85, 86, 87, 88, 89, 90, 91, 92, 93, 94, 95, 96, 97, 98, 99, 100, 101, 102, 103, 104, 105, 106, 107, 108, 109, 110, 111, 112, 113, 114, 115, 116, 117, 118, 119, 120, 127, 128, 129, 130, 131, 132, 133, 134, 135, 136, 137, 138, 139, 140, 141, 142, 143, 144, 145, 146, 147, 148, 149, 150, 151, 152, 153, 154, 155, 156, 157, 158, 159, 160, 161, 162, 163, 164, 165, 166, 167, 168, 169, 170, 171, 172, 173, 174, 175, 176, 177, 178, 179, 180, 181, 182, 183, 184, 185, 186, 187, 188, 189, 190, 191, 192, 193, 194, 195, 196, 197, 198, 199, 200], 'Problem_108_output_560': [0.37, 1, 12, 14, 15, 17, 19, 21, 22, 24, 30, 32, 33, 35, 37, 42, 43, 46, 49, 51, 52, 63, 64, 67, 68, 69, 74, 75, 76, 78, 82, 85, 87, 88, 90, 91, 101, 103, 104, 105, 108, 109, 111, 114, 117, 127, 128, 129, 134, 135, 141, 144, 145, 146, 151, 152, 156, 157, 159, 160, 167, 168, 170, 171, 179, 180, 182, 183, 190, 191, 193, 194, 196, 198, 200], 'Problem_56_output_309': [0.03500000000000003, 2, 3, 6, 11, 29, 43, 83], 'Problem_61_output_337': [0.0], 'Problem_75_output_392': [0.5349999999999999, 3, 4, 8, 9, 12, 13, 16, 17, 20, 21, 24, 25, 27, 28, 30, 31, 33, 34, 36, 37, 39, 40, 42, 43, 45, 46, 48, 49, 51, 52, 54, 55, 57, 58, 60, 61, 63, 72, 73, 74, 76, 81, 82, 85, 88, 89, 91, 92, 94, 95, 98, 99, 101, 102, 104, 107, 108, 110, 111, 113, 114, 116, 117, 119, 120, 122, 123, 125, 128, 129, 131, 134, 136, 144, 146, 148, 149, 152, 153, 156, 159, 160, 162, 163, 165, 166, 169, 170, 172, 173, 175, 178, 179, 180, 181, 183, 184, 186, 187, 189, 190, 192, 193, 195, 197, 198, 200], 'Problem_147_output_706': [1.0, 1, 2, 3, 4, 5, 6, 7, 8, 9, 10, 11, 12, 13, 14, 15, 16, 17, 18, 19, 20, 21, 22, 23, 24, 25, 26, 27, 28, 29, 30, 31, 32, 33, 34, 35, 36, 37, 38, 39, 40, 41, 42, 43, 44, 45, 46, 47, 48, 49, 50, 51, 52, 53, 54, 55, 56, 57, 58, 59, 60, 61, 62, 63, 64, 65, 66, 67, 68, 69, 70, 71, 72, 73, 74, 75, 76, 77, 78, 79, 80, 81, 82, 83, 84, 85, 86, 87, 88, 89, 90, 91, 92, 93, 94, 95, 96, 97, 98, 99, 100, 101, 102, 103, 104, 105, 106, 107, 108, 109, 110, 111, 112, 113, 114, 115, 116, 117, 118, 119, 120, 121, 122, 123, 124, 125, 126, 127, 128, 129, 130, 131, 132, 133, 134, 135, 136, 137, 138, 139, 140, 141, 142, 143, 144, 145, 146, 147, 148, 149, 150, 151, 152, 153, 154, 155, 156, 157, 158, 159, 160, 161, 162, 163, 164, 165, 166, 167, 168, 169, 170, 171, 172, 173, 174, 175, 176, 177, 178, 179, 180, 181, 182, 183, 184, 185, 186, 187, 188, 189, 190, 191, 192, 193, 194, 195, 196, 197, 198, 199, 200], 'Problem_44_output_161': [0.010000000000000009, 1, 3], 'Problem_114_output_580': [1.0, 1, 2, 3, 4, 5, 6, 7, 8, 9, 10, 11, 12, 13, 14, 15, 16, 17, 18, 19, 20, 21, 22, 23, 24, 25, 26, 27, 28, 29, 30, 31, 32, 33, 34, 35, 36, 37, 38, 39, 40, 41, 42, 43, 44, 45, 46, 47, 48, 49, 50, 51, 52, 53, 54, 55, 56, 57, 58, 59, 60, 61, 62, 63, 64, 65, 66, 67, 68, 69, 70, 71, 72, 73, 74, 75, 76, 77, 78, 79, 80, 81, 82, 83, 84, 85, 86, 87, 88, 89, 90, 91, 92, 93, 94, 95, 96, 97, 98, 99, 100, 101, 102, 103, 104, 105, 106, 107, 108, 109, 110, 111, 112, 113, 114, 115, 116, 117, 118, 119, 120, 121, 122, 123, 124, 125, 126, 127, 128, 129, 130, 131, 132, 133, 134, 135, 136, 137, 138, 139, 140, 141, 142, 143, 144, 145, 146, 147, 148, 149, 150, 151, 152, 153, 154, 155, 156, 157, 158, 159, 160, 161, 162, 163, 164, 165, 166, 167, 168, 169, 170, 171, 172, 173, 174, 175, 176, 177, 178, 179, 180, 181, 182, 183, 184, 185, 186, 187, 188, 189, 190, 191, 192, 193, 194, 195, 196, 197, 198, 199, 200], 'Problem_26_output_118': [1.0, 1, 2, 3, 4, 5, 6, 7, 8, 9, 10, 11, 12, 13, 14, 15, 16, 17, 18, 19, 20, 21, 22, 23, 24, 25, 26, 27, 28, 29, 30, 31, 32, 33, 34, 35, 36, 37, 38, 39, 40, 41, 42, 43, 44, 45, 46, 47, 48, 49, 50, 51, 52, 53, 54, 55, 56, 57, 58, 59, 60, 61, 62, 63, 64, 65, 66, 67, 68, 69, 70, 71, 72, 73, 74, 75, 76, 77, 78, 79, 80, 81, 82, 83, 84, 85, 86, 87, 88, 89, 90, 91, 92, 93, 94, 95, 96, 97, 98, 99, 100, 101, 102, 103, 104, 105, 106, 107, 108, 109, 110, 111, 112, 113, 114, 115, 116, 117, 118, 119, 120, 121, 122, 123, 124, 125, 126, 127, 128, 129, 130, 131, 132, 133, 134, 135, 136, 137, 138, 139, 140, 141, 142, 143, 144, 145, 146, 147, 148, 149, 150, 151, 152, 153, 154, 155, 156, 157, 158, 159, 160, 161, 162, 163, 164, 165, 166, 167, 168, 169, 170, 171, 172, 173, 174, 175, 176, 177, 178, 179, 180, 181, 182, 183, 184, 185, 186, 187, 188, 189, 190, 191, 192, 193, 194, 195, 196, 197, 198, 199, 200], 'Problem_21_output_98': [0.645, 1, 3, 4, 5, 6, 7, 8, 9, 10, 11, 12, 13, 14, 15, 16, 17, 18, 19, 21, 22, 23, 24, 25, 26, 27, 28, 29, 30, 31, 32, 34, 35, 36, 37, 38, 39, 40, 41, 42, 43, 44, 45, 46, 47, 48, 49, 51, 52, 53, 54, 55, 56, 57, 58, 59, 60, 61, 62, 63, 64, 65, 67, 68, 69, 70, 71, 72, 74, 75, 76, 78, 80, 81, 83, 85, 87, 88, 90, 91, 92, 93, 94, 95, 96, 97, 98, 100, 106, 107, 108, 118, 119, 120, 121, 122, 123, 124, 125, 126, 127, 128, 129, 130, 131, 132, 133, 134, 135, 137, 138, 139, 140, 141, 142, 143, 144, 145, 147, 148, 149, 150, 151, 152, 153, 154, 155, 156, 168, 190], 'Problem_94_output_491': [0.18500000000000005, 4, 23, 24, 42, 46, 49, 51, 52, 54, 64, 67, 78, 81, 85, 86, 87, 100, 102, 105, 107, 113, 115, 124, 127, 139, 141, 147, 158, 160, 165, 166, 170, 171, 176, 180, 187, 199], 'Problem_35_output_196': [0.745, 1, 4, 12, 13, 14, 15, 16, 17, 18, 19, 20, 21, 26, 28, 29, 30, 31, 32, 33, 37, 39, 40, 41, 43, 44, 48, 51, 53, 55, 57, 59, 62, 63, 64, 65, 66, 67, 68, 69, 70, 71, 72, 73, 74, 75, 76, 77, 78, 79, 80, 81, 82, 83, 84, 85, 86, 87, 88, 89, 90, 91, 92, 93, 94, 95, 96, 97, 98, 99, 100, 101, 102, 103, 104, 105, 106, 107, 108, 109, 110, 111, 112, 113, 114, 115, 117, 124, 127, 130, 133, 134, 136, 141, 142, 143, 144, 145, 146, 147, 148, 149, 150, 151, 152, 153, 154, 155, 156, 157, 158, 159, 160, 161, 162, 163, 164, 165, 166, 167, 168, 169, 170, 171, 172, 173, 174, 175, 176, 177, 178, 179, 180, 181, 182, 183, 184, 185, 186, 187, 188, 189, 190, 191, 192, 193, 194, 195, 196, 197], 'Problem_128_output_620': [1.0, 1, 2, 3, 4, 5, 6, 7, 8, 9, 10, 11, 12, 13, 14, 15, 16, 17, 18, 19, 20, 21, 22, 23, 24, 25, 26, 27, 28, 29, 30, 31, 32, 33, 34, 35, 36, 37, 38, 39, 40, 41, 42, 43, 44, 45, 46, 47, 48, 49, 50, 51, 52, 53, 54, 55, 56, 57, 58, 59, 60, 61, 62, 63, 64, 65, 66, 67, 68, 69, 70, 71, 72, 73, 74, 75, 76, 77, 78, 79, 80, 81, 82, 83, 84, 85, 86, 87, 88, 89, 90, 91, 92, 93, 94, 95, 96, 97, 98, 99, 100, 101, 102, 103, 104, 105, 106, 107, 108, 109, 110, 111, 112, 113, 114, 115, 116, 117, 118, 119, 120, 121, 122, 123, 124, 125, 126, 127, 128, 129, 130, 131, 132, 133, 134, 135, 136, 137, 138, 139, 140, 141, 142, 143, 144, 145, 146, 147, 148, 149, 150, 151, 152, 153, 154, 155, 156, 157, 158, 159, 160, 161, 162, 163, 164, 165, 166, 167, 168, 169, 170, 171, 172, 173, 174, 175, 176, 177, 178, 179, 180, 181, 182, 183, 184, 185, 186, 187, 188, 189, 190, 191, 192, 193, 194, 195, 196, 197, 198, 199, 200], 'Problem_158_output_816': [0.45499999999999996, 1, 3, 4, 5, 7, 9, 10, 13, 14, 15, 16, 18, 19, 20, 21, 25, 26, 27, 28, 29, 30, 31, 32, 33, 34, 35, 41, 45, 47, 49, 51, 52, 54, 56, 58, 60, 63, 65, 67, 69, 71, 75, 76, 85, 89, 93, 96, 99, 100, 103, 105, 106, 108, 110, 111, 114, 116, 120, 122, 123, 124, 128, 129, 131, 135, 137, 138, 141, 144, 149, 150, 153, 154, 157, 158, 161, 163, 164, 167, 172, 173, 175, 179, 181, 182, 184, 185, 187, 190, 192, 198], 'Problem_82_output_432': [0.30000000000000004, 8, 11, 15, 20, 27, 30, 32, 33, 34, 36, 37, 39, 42, 45, 47, 50, 54, 56, 57, 64, 67, 70, 74, 80, 84, 93, 94, 96, 99, 101, 105, 106, 107, 108, 109, 111, 113, 114, 118, 120, 122, 123, 125, 126, 127, 129, 130, 135, 139, 143, 144, 148, 151, 154, 155, 156, 158, 189, 190, 191], 'Problem_139_output_669': [0.0], 'Problem_10_output_25': [0.08499999999999996, 8, 12, 45, 47, 55, 70, 89, 100, 113, 125, 128, 152, 155, 166, 175, 184, 198], 'Problem_46_output_246': [1.0, 1, 2, 3, 4, 5, 6, 7, 8, 9, 10, 11, 12, 13, 14, 15, 16, 17, 18, 19, 20, 21, 22, 23, 24, 25, 26, 27, 28, 29, 30, 31, 32, 33, 34, 35, 36, 37, 38, 39, 40, 41, 42, 43, 44, 45, 46, 47, 48, 49, 50, 51, 52, 53, 54, 55, 56, 57, 58, 59, 60, 61, 62, 63, 64, 65, 66, 67, 68, 69, 70, 71, 72, 73, 74, 75, 76, 77, 78, 79, 80, 81, 82, 83, 84, 85, 86, 87, 88, 89, 90, 91, 92, 93, 94, 95, 96, 97, 98, 99, 100, 101, 102, 103, 104, 105, 106, 107, 108, 109, 110, 111, 112, 113, 114, 115, 116, 117, 118, 119, 120, 121, 122, 123, 124, 125, 126, 127, 128, 129, 130, 131, 132, 133, 134, 135, 136, 137, 138, 139, 140, 141, 142, 143, 144, 145, 146, 147, 148, 149, 150, 151, 152, 153, 154, 155, 156, 157, 158, 159, 160, 161, 162, 163, 164, 165, 166, 167, 168, 169, 170, 171, 172, 173, 174, 175, 176, 177, 178, 179, 180, 181, 182, 183, 184, 185, 186, 187, 188, 189, 190, 191, 192, 193, 194, 195, 196, 197, 198, 199, 200], 'Problem_53_output_294': [0.94, 1, 2, 3, 4, 7, 8, 9, 10, 11, 12, 13, 14, 15, 16, 17, 18, 19, 20, 21, 23, 24, 25, 26, 27, 28, 29, 30, 32, 33, 34, 35, 36, 37, 38, 39, 40, 41, 42, 43, 44, 45, 46, 47, 48, 49, 50, 51, 52, 53, 54, 55, 57, 58, 59, 60, 61, 62, 63, 64, 65, 66, 67, 68, 69, 70, 71, 72, 73, 74, 75, 76, 77, 78, 79, 80, 81, 82, 83, 84, 85, 86, 87, 88, 89, 90, 91, 93, 94, 95, 96, 97, 98, 99, 100, 101, 102, 103, 104, 105, 106, 107, 108, 109, 110, 112, 113, 114, 116, 117, 118, 119, 120, 122, 123, 124, 125, 126, 127, 128, 129, 130, 131, 132, 133, 134, 135, 136, 137, 138, 139, 140, 141, 142, 143, 144, 145, 146, 147, 149, 150, 151, 152, 153, 154, 155, 156, 157, 158, 159, 160, 161, 162, 163, 164, 165, 166, 167, 168, 169, 170, 171, 172, 173, 175, 177, 178, 179, 180, 181, 182, 183, 184, 185, 186, 187, 188, 189, 190, 191, 192, 193, 194, 195, 196, 197, 198, 199, 200], 'Problem_158_output_731': [0.645, 1, 3, 4, 5, 7, 8, 9, 10, 11, 12, 13, 14, 15, 16, 17, 18, 19, 20, 21, 22, 23, 24, 25, 26, 27, 28, 29, 30, 31, 32, 33, 34, 35, 36, 41, 45, 47, 49, 51, 52, 54, 56, 58, 60, 63, 65, 67, 69, 71, 75, 76, 81, 84, 85, 86, 87, 88, 89, 93, 96, 99, 100, 101, 103, 105, 106, 108, 110, 111, 112, 114, 116, 120, 122, 123, 124, 126, 127, 128, 129, 131, 134, 135, 137, 138, 139, 140, 141, 142, 144, 148, 149, 150, 153, 154, 155, 156, 157, 158, 161, 163, 164, 165, 166, 167, 169, 171, 172, 173, 174, 175, 176, 179, 180, 181, 182, 184, 185, 186, 187, 190, 192, 193, 194, 195, 196, 197, 198, 199], 'Problem_62_output_348': [0.0], 'Problem_72_output_378': [1.0, 1, 2, 3, 4, 5, 6, 7, 8, 9, 10, 11, 12, 13, 14, 15, 16, 17, 18, 19, 20, 21, 22, 23, 24, 25, 26, 27, 28, 29, 30, 31, 32, 33, 34, 35, 36, 37, 38, 39, 40, 41, 42, 43, 44, 45, 46, 47, 48, 49, 50, 51, 52, 53, 54, 55, 56, 57, 58, 59, 60, 61, 62, 63, 64, 65, 66, 67, 68, 69, 70, 71, 72, 73, 74, 75, 76, 77, 78, 79, 80, 81, 82, 83, 84, 85, 86, 87, 88, 89, 90, 91, 92, 93, 94, 95, 96, 97, 98, 99, 100, 101, 102, 103, 104, 105, 106, 107, 108, 109, 110, 111, 112, 113, 114, 115, 116, 117, 118, 119, 120, 121, 122, 123, 124, 125, 126, 127, 128, 129, 130, 131, 132, 133, 134, 135, 136, 137, 138, 139, 140, 141, 142, 143, 144, 145, 146, 147, 148, 149, 150, 151, 152, 153, 154, 155, 156, 157, 158, 159, 160, 161, 162, 163, 164, 165, 166, 167, 168, 169, 170, 171, 172, 173, 174, 175, 176, 177, 178, 179, 180, 181, 182, 183, 184, 185, 186, 187, 188, 189, 190, 191, 192, 193, 194, 195, 196, 197, 198, 199, 200], 'Problem_88_output_471': [1.0, 1, 2, 3, 4, 5, 6, 7, 8, 9, 10, 11, 12, 13, 14, 15, 16, 17, 18, 19, 20, 21, 22, 23, 24, 25, 26, 27, 28, 29, 30, 31, 32, 33, 34, 35, 36, 37, 38, 39, 40, 41, 42, 43, 44, 45, 46, 47, 48, 49, 50, 51, 52, 53, 54, 55, 56, 57, 58, 59, 60, 61, 62, 63, 64, 65, 66, 67, 68, 69, 70, 71, 72, 73, 74, 75, 76, 77, 78, 79, 80, 81, 82, 83, 84, 85, 86, 87, 88, 89, 90, 91, 92, 93, 94, 95, 96, 97, 98, 99, 100, 101, 102, 103, 104, 105, 106, 107, 108, 109, 110, 111, 112, 113, 114, 115, 116, 117, 118, 119, 120, 121, 122, 123, 124, 125, 126, 127, 128, 129, 130, 131, 132, 133, 134, 135, 136, 137, 138, 139, 140, 141, 142, 143, 144, 145, 146, 147, 148, 149, 150, 151, 152, 153, 154, 155, 156, 157, 158, 159, 160, 161, 162, 163, 164, 165, 166, 167, 168, 169, 170, 171, 172, 173, 174, 175, 176, 177, 178, 179, 180, 181, 182, 183, 184, 185, 186, 187, 188, 189, 190, 191, 192, 193, 194, 195, 196, 197, 198, 199, 200], 'Problem_18_output_78': [0.635, 3, 5, 6, 8, 10, 12, 14, 16, 17, 19, 21, 22, 23, 25, 26, 29, 30, 31, 33, 34, 36, 37, 38, 39, 41, 42, 44, 47, 48, 49, 52, 54, 56, 57, 58, 59, 60, 61, 63, 64, 65, 67, 68, 71, 72, 75, 76, 78, 79, 86, 87, 89, 90, 91, 92, 93, 94, 95, 101, 102, 103, 104, 106, 107, 115, 116, 117, 118, 119, 121, 122, 123, 124, 127, 128, 129, 130, 131, 132, 134, 136, 140, 141, 143, 147, 148, 149, 150, 151, 153, 154, 155, 157, 159, 160, 161, 162, 163, 164, 165, 166, 167, 168, 169, 170, 171, 172, 173, 175, 176, 179, 180, 181, 182, 183, 184, 185, 186, 187, 189, 192, 193, 194, 196, 197, 198, 199], 'Problem_98_output_425': [0.885, 1, 2, 3, 4, 5, 6, 7, 8, 9, 10, 11, 12, 13, 14, 15, 16, 17, 18, 19, 20, 21, 22, 23, 25, 26, 27, 28, 29, 30, 31, 32, 33, 34, 35, 36, 37, 38, 39, 40, 41, 42, 43, 44, 45, 46, 47, 48, 49, 50, 51, 52, 53, 54, 56, 57, 58, 60, 61, 62, 63, 64, 65, 66, 67, 68, 69, 71, 73, 74, 75, 76, 77, 78, 79, 80, 81, 82, 83, 84, 85, 86, 87, 88, 89, 90, 91, 92, 93, 94, 95, 96, 97, 98, 99, 100, 101, 102, 103, 104, 105, 106, 107, 108, 109, 110, 111, 112, 113, 114, 115, 116, 117, 118, 119, 120, 122, 123, 125, 126, 128, 129, 130, 131, 133, 134, 135, 136, 138, 139, 143, 144, 145, 146, 147, 148, 149, 150, 153, 155, 158, 159, 160, 161, 162, 163, 164, 165, 168, 169, 170, 172, 173, 174, 175, 176, 177, 178, 179, 181, 182, 183, 184, 186, 187, 188, 189, 190, 191, 192, 193, 194, 195, 196, 197, 198, 199, 200], 'Problem_23_output_114': [0.16500000000000004, 11, 12, 18, 26, 37, 39, 41, 42, 43, 48, 58, 61, 70, 71, 72, 76, 80, 85, 91, 97, 101, 106, 107, 108, 110, 111, 112, 113, 116, 139, 150, 174, 178], 'Problem_49_output_282': [0.87, 1, 2, 3, 4, 6, 7, 8, 9, 10, 11, 12, 13, 14, 16, 17, 18, 19, 20, 21, 22, 23, 25, 26, 27, 29, 32, 33, 35, 37, 38, 39, 41, 42, 43, 44, 45, 46, 47, 48, 49, 50, 51, 52, 53, 54, 55, 56, 57, 58, 59, 60, 61, 62, 63, 65, 67, 69, 70, 71, 72, 73, 75, 76, 77, 78, 80, 82, 83, 84, 85, 86, 87, 88, 89, 90, 91, 92, 93, 94, 95, 96, 97, 98, 99, 102, 104, 105, 108, 109, 110, 111, 112, 113, 114, 115, 116, 117, 118, 119, 120, 121, 122, 123, 124, 125, 126, 127, 128, 129, 130, 131, 132, 133, 134, 135, 136, 137, 138, 139, 140, 141, 142, 143, 144, 145, 146, 147, 148, 149, 150, 151, 152, 153, 154, 157, 158, 159, 160, 161, 162, 163, 164, 165, 166, 167, 168, 169, 170, 171, 172, 173, 174, 175, 176, 177, 178, 179, 182, 183, 184, 185, 186, 187, 188, 190, 191, 192, 193, 194, 195, 196, 197, 198, 200], 'Problem_41_output_234': [0.86, 1, 2, 3, 4, 5, 6, 8, 9, 10, 11, 12, 13, 14, 15, 16, 17, 18, 19, 21, 22, 23, 24, 25, 26, 27, 28, 29, 32, 33, 34, 35, 36, 37, 39, 40, 41, 42, 43, 44, 48, 49, 50, 51, 52, 53, 55, 57, 58, 59, 60, 61, 62, 63, 66, 68, 70, 72, 73, 74, 75, 76, 77, 78, 79, 80, 81, 82, 83, 84, 85, 86, 87, 88, 89, 90, 91, 93, 94, 95, 96, 97, 98, 99, 100, 101, 102, 104, 105, 107, 108, 110, 111, 112, 113, 114, 115, 116, 117, 118, 119, 120, 121, 123, 124, 125, 126, 127, 128, 129, 131, 132, 133, 135, 136, 137, 138, 139, 140, 141, 142, 144, 146, 147, 148, 149, 150, 151, 152, 153, 154, 155, 156, 157, 158, 159, 160, 161, 162, 163, 164, 165, 167, 168, 169, 170, 171, 172, 173, 174, 175, 176, 177, 178, 179, 181, 182, 183, 184, 185, 186, 187, 188, 189, 190, 192, 193, 194, 195, 196, 197, 199, 200], 'Problem_88_output_451': [1.0, 1, 2, 3, 4, 5, 6, 7, 8, 9, 10, 11, 12, 13, 14, 15, 16, 17, 18, 19, 20, 21, 22, 23, 24, 25, 26, 27, 28, 29, 30, 31, 32, 33, 34, 35, 36, 37, 38, 39, 40, 41, 42, 43, 44, 45, 46, 47, 48, 49, 50, 51, 52, 53, 54, 55, 56, 57, 58, 59, 60, 61, 62, 63, 64, 65, 66, 67, 68, 69, 70, 71, 72, 73, 74, 75, 76, 77, 78, 79, 80, 81, 82, 83, 84, 85, 86, 87, 88, 89, 90, 91, 92, 93, 94, 95, 96, 97, 98, 99, 100, 101, 102, 103, 104, 105, 106, 107, 108, 109, 110, 111, 112, 113, 114, 115, 116, 117, 118, 119, 120, 121, 122, 123, 124, 125, 126, 127, 128, 129, 130, 131, 132, 133, 134, 135, 136, 137, 138, 139, 140, 141, 142, 143, 144, 145, 146, 147, 148, 149, 150, 151, 152, 153, 154, 155, 156, 157, 158, 159, 160, 161, 162, 163, 164, 165, 166, 167, 168, 169, 170, 171, 172, 173, 174, 175, 176, 177, 178, 179, 180, 181, 182, 183, 184, 185, 186, 187, 188, 189, 190, 191, 192, 193, 194, 195, 196, 197, 198, 199, 200], 'Problem_75_output_393': [0.0], 'Problem_156_output_802': [0.0], 'Problem_41_output_151': [0.86, 1, 2, 3, 4, 5, 6, 8, 9, 10, 11, 12, 13, 14, 15, 16, 17, 18, 19, 21, 22, 23, 24, 25, 26, 27, 28, 29, 32, 33, 34, 35, 36, 37, 39, 40, 41, 42, 43, 44, 48, 49, 50, 51, 52, 53, 55, 57, 58, 59, 60, 61, 62, 63, 66, 68, 70, 72, 73, 74, 75, 76, 77, 78, 79, 80, 81, 82, 83, 84, 85, 86, 87, 88, 89, 90, 91, 93, 94, 95, 96, 97, 98, 99, 100, 101, 102, 104, 105, 107, 108, 110, 111, 112, 113, 114, 115, 116, 117, 118, 119, 120, 121, 123, 124, 125, 126, 127, 128, 129, 131, 132, 133, 135, 136, 137, 138, 139, 140, 141, 142, 144, 146, 147, 148, 149, 150, 151, 152, 153, 154, 155, 156, 157, 158, 159, 160, 161, 162, 163, 164, 165, 167, 168, 169, 170, 171, 172, 173, 174, 175, 176, 177, 178, 179, 181, 182, 183, 184, 185, 186, 187, 188, 189, 190, 192, 193, 194, 195, 196, 197, 199, 200], 'Problem_164_output_860': [0.1853932584269663, 1, 5, 14, 16, 18, 21, 22, 23, 25, 27, 36, 39, 45, 46, 47, 52, 53, 54, 59, 62, 64, 69, 70, 75, 80, 106, 109, 117, 118, 120, 127, 138, 163], 'Problem_161_output_749': [0.024390243902439046, 33], 'Problem_39_output_215': [1.0, 1, 2, 3, 4, 5, 6, 7, 8, 9, 10, 11, 12, 13, 14, 15, 16, 17, 18, 19, 20, 21, 22, 23, 24, 25, 26, 27, 28, 29, 30, 31, 32, 33, 34, 35, 36, 37, 38, 39, 40, 41, 42, 43, 44, 45, 46, 47, 48, 49, 50, 51, 52, 53, 54, 55, 56, 57, 58, 59, 60, 61, 62, 63, 64, 65, 66, 67, 68, 69, 70, 71, 72, 73, 74, 75, 76, 77, 78, 79, 80, 81, 82, 83, 84, 85, 86, 87, 88, 89, 90, 91, 92, 93, 94, 95, 96, 97, 98, 99, 100, 101, 102, 103, 104, 105, 106, 107, 108, 109, 110, 111, 112, 113, 114, 115, 116, 117, 118, 119, 120, 121, 122, 123, 124, 125, 126, 127, 128, 129, 130, 131, 132, 133, 134, 135, 136, 137, 138, 139, 140, 141, 142, 143, 144, 145, 146, 147, 148, 149, 150, 151, 152, 153, 154, 155, 156, 157, 158, 159, 160, 161, 162, 163, 164, 165, 166, 167, 168, 169, 170, 171, 172, 173, 174, 175, 176, 177, 178, 179, 180, 181, 182, 183, 184, 185, 186, 187, 188, 189, 190, 191, 192, 193, 194, 195, 196, 197, 198, 199, 200], 'Problem_131_output_627': [0.625, 2, 4, 5, 6, 10, 11, 12, 14, 15, 16, 18, 22, 25, 26, 27, 30, 31, 32, 36, 39, 40, 41, 44, 45, 48, 49, 50, 54, 55, 56, 57, 59, 60, 61, 62, 63, 64, 67, 69, 70, 73, 74, 75, 76, 77, 78, 79, 80, 82, 83, 84, 85, 87, 88, 91, 92, 96, 99, 100, 101, 103, 105, 106, 107, 109, 111, 112, 116, 117, 119, 121, 122, 123, 124, 126, 128, 129, 131, 133, 134, 136, 137, 138, 139, 141, 142, 143, 144, 147, 148, 149, 150, 151, 153, 154, 157, 158, 159, 161, 163, 164, 165, 166, 167, 168, 169, 171, 174, 175, 177, 178, 180, 181, 182, 183, 184, 185, 189, 191, 192, 193, 195, 196, 197, 198], 'Problem_99_output_508': [0.28500000000000003, 2, 4, 6, 8, 15, 16, 31, 33, 35, 37, 39, 46, 47, 48, 63, 65, 67, 69, 71, 78, 79, 80, 87, 94, 96, 98, 102, 109, 110, 111, 115, 116, 122, 124, 126, 136, 137, 138, 143, 144, 149, 151, 152, 162, 163, 164, 169, 170, 173, 175, 177, 181, 188, 194, 195, 198, 200], 'Problem_159_output_734': [0.03500000000000003, 33, 58, 72, 79, 103, 106, 187], 'Problem_158_output_827': [0.0], 'Problem_33_output_186': [1.0, 1, 2, 3, 4, 5, 6, 7, 8, 9, 10, 11, 12, 13, 14, 15, 16, 17, 18, 19, 20, 21, 22, 23, 24, 25, 26, 27, 28, 29, 30, 31, 32, 33, 34, 35, 36, 37, 38, 39, 40, 41, 42, 43, 44, 45, 46, 47, 48, 49, 50, 51, 52, 53, 54, 55, 56, 57, 58, 59, 60, 61, 62, 63, 64, 65, 66, 67, 68, 69, 70, 71, 72, 73, 74, 75, 76, 77, 78, 79, 80, 81, 82, 83, 84, 85, 86, 87, 88, 89, 90, 91, 92, 93, 94, 95, 96, 97, 98, 99, 100, 101, 102, 103, 104, 105, 106, 107, 108, 109, 110, 111, 112, 113, 114, 115, 116, 117, 118, 119, 120, 121, 122, 123, 124, 125, 126, 127, 128, 129, 130, 131, 132, 133, 134, 135, 136, 137, 138, 139, 140, 141, 142, 143, 144, 145, 146, 147, 148, 149, 150, 151, 152, 153, 154, 155, 156, 157, 158, 159, 160, 161, 162, 163, 164, 165, 166, 167, 168, 169, 170, 171, 172, 173, 174, 175, 176, 177, 178, 179, 180, 181, 182, 183, 184, 185, 186, 187, 188, 189, 190, 191, 192, 193, 194, 195, 196, 197, 198, 199, 200], 'Problem_117_output_597': [0.0], 'Problem_160_output_747': [0.0], 'Problem_133_output_635': [0.0], 'Problem_150_output_775': [0.13, 2, 19, 23, 24, 45, 49, 67, 80, 83, 98, 100, 126, 137, 138, 139, 144, 147, 151, 160, 162, 174, 177, 181, 182, 192, 200], 'Problem_98_output_426': [1.0, 1, 2, 3, 4, 5, 6, 7, 8, 9, 10, 11, 12, 13, 14, 15, 16, 17, 18, 19, 20, 21, 22, 23, 24, 25, 26, 27, 28, 29, 30, 31, 32, 33, 34, 35, 36, 37, 38, 39, 40, 41, 42, 43, 44, 45, 46, 47, 48, 49, 50, 51, 52, 53, 54, 55, 56, 57, 58, 59, 60, 61, 62, 63, 64, 65, 66, 67, 68, 69, 70, 71, 72, 73, 74, 75, 76, 77, 78, 79, 80, 81, 82, 83, 84, 85, 86, 87, 88, 89, 90, 91, 92, 93, 94, 95, 96, 97, 98, 99, 100, 101, 102, 103, 104, 105, 106, 107, 108, 109, 110, 111, 112, 113, 114, 115, 116, 117, 118, 119, 120, 121, 122, 123, 124, 125, 126, 127, 128, 129, 130, 131, 132, 133, 134, 135, 136, 137, 138, 139, 140, 141, 142, 143, 144, 145, 146, 147, 148, 149, 150, 151, 152, 153, 154, 155, 156, 157, 158, 159, 160, 161, 162, 163, 164, 165, 166, 167, 168, 169, 170, 171, 172, 173, 174, 175, 176, 177, 178, 179, 180, 181, 182, 183, 184, 185, 186, 187, 188, 189, 190, 191, 192, 193, 194, 195, 196, 197, 198, 199, 200], 'Problem_63_output_351': [0.35, 2, 3, 4, 5, 6, 7, 8, 9, 10, 11, 12, 13, 14, 15, 16, 17, 18, 19, 20, 21, 22, 23, 24, 25, 26, 27, 28, 29, 32, 35, 39, 41, 46, 49, 55, 95, 98, 99, 101, 103, 104, 105, 107, 112, 113, 115, 116, 117, 119, 122, 123, 125, 126, 127, 132, 134, 140, 178, 179, 181, 183, 184, 189, 190, 191, 192, 193, 197, 198, 200], 'Problem_88_output_464': [0.18999999999999995, 2, 6, 15, 22, 49, 52, 59, 65, 71, 87, 94, 96, 102, 107, 113, 121, 126, 132, 134, 138, 141, 146, 152, 153, 157, 161, 163, 167, 170, 174, 179, 180, 184, 187, 188, 192, 195, 198], 'Problem_75_output_394': [0.89, 1, 3, 4, 5, 6, 7, 8, 9, 10, 11, 12, 13, 14, 15, 16, 17, 18, 19, 20, 21, 22, 23, 24, 25, 26, 27, 28, 29, 30, 31, 32, 33, 34, 35, 36, 37, 38, 39, 40, 41, 42, 43, 44, 45, 46, 47, 48, 49, 50, 51, 52, 53, 54, 55, 56, 57, 58, 59, 60, 61, 62, 63, 64, 65, 72, 73, 74, 75, 76, 79, 80, 81, 82, 83, 84, 85, 87, 88, 89, 90, 91, 92, 93, 94, 95, 96, 97, 98, 99, 100, 101, 102, 103, 104, 106, 107, 108, 109, 110, 111, 112, 113, 114, 115, 116, 117, 118, 119, 120, 121, 122, 123, 124, 125, 127, 128, 129, 130, 131, 133, 134, 135, 136, 137, 139, 144, 146, 147, 148, 149, 150, 151, 152, 153, 154, 155, 156, 158, 159, 160, 161, 162, 163, 164, 165, 166, 167, 168, 169, 170, 171, 172, 173, 174, 175, 177, 178, 179, 180, 181, 182, 183, 184, 185, 186, 187, 188, 189, 190, 191, 192, 193, 194, 195, 197, 198, 199, 200], 'Problem_158_output_821': [0.33499999999999996, 1, 3, 4, 7, 9, 10, 13, 14, 17, 18, 19, 20, 21, 24, 26, 27, 28, 29, 31, 33, 34, 35, 36, 41, 45, 47, 49, 51, 54, 56, 58, 60, 63, 69, 71, 85, 89, 93, 96, 99, 100, 103, 105, 108, 111, 114, 116, 124, 128, 135, 138, 141, 144, 149, 154, 157, 158, 161, 167, 173, 179, 181, 182, 185, 187, 190, 198], 'Problem_19_output_87': [0.0], 'Problem_105_output_542': [0.0], 'Problem_124_output_611': [0.09999999999999998, 32, 34, 83, 92, 96, 97, 106, 110, 111, 115, 119, 128, 135, 136, 163, 174, 180, 181, 188, 189], 'Problem_157_output_811': [0.0], 'Problem_158_output_820': [0.040000000000000036, 26, 27, 32, 35, 97, 109, 152, 184], 'Problem_16_output_65': [1.0, 1, 2, 3, 4, 5, 6, 7, 8, 9, 10, 11, 12, 13, 14, 15, 16, 17, 18, 19, 20, 21, 22, 23, 24, 25, 26, 27, 28, 29, 30, 31, 32, 33, 34, 35, 36, 37, 38, 39, 40, 41, 42, 43, 44, 45, 46, 47, 48, 49, 50, 51, 52, 53, 54, 55, 56, 57, 58, 59, 60, 61, 62, 63, 64, 65, 66, 67, 68, 69, 70, 71, 72, 73, 74, 75, 76, 77, 78, 79, 80, 81, 82, 83, 84, 85, 86, 87, 88, 89, 90, 91, 92, 93, 94, 95, 96, 97, 98, 99, 100, 101, 102, 103, 104, 105, 106, 107, 108, 109, 110, 111, 112, 113, 114, 115, 116, 117, 118, 119, 120, 121, 122, 123, 124, 125, 126, 127, 128, 129, 130, 131, 132, 133, 134, 135, 136, 137, 138, 139, 140, 141, 142, 143, 144, 145, 146, 147, 148, 149, 150, 151, 152, 153, 154, 155, 156, 157, 158, 159, 160, 161, 162, 163, 164, 165, 166, 167, 168, 169, 170, 171, 172, 173, 174, 175, 176, 177, 178, 179, 180, 181, 182, 183, 184, 185, 186, 187, 188, 189, 190, 191, 192, 193, 194, 195, 196, 197, 198, 199, 200], 'Problem_65_output_355': [1.0, 1, 2, 3, 4, 5, 6, 7, 8, 9, 10, 11, 12, 13, 14, 15, 16, 17, 18, 19, 20, 21, 22, 23, 24, 25, 26, 27, 28, 29, 30, 31, 32, 33, 34, 35, 36, 37, 38, 39, 40, 41, 42, 43, 44, 45, 46, 47, 48, 49, 50, 51, 52, 53, 54, 55, 56, 57, 58, 59, 60, 61, 62, 63, 64, 65, 66, 67, 68, 69, 70, 71, 72, 73, 74, 75, 76, 77, 78, 79, 80, 81, 82, 83, 84, 85, 86, 87, 88, 89, 90, 91, 92, 93, 94, 95, 96, 97, 98, 99, 100, 101, 102, 103, 104, 105, 106, 107, 108, 109, 110, 111, 112, 113, 114, 115, 116, 117, 118, 119, 120, 121, 122, 123, 124, 125, 126, 127, 128, 129, 130, 131, 132, 133, 134, 135, 136, 137, 138, 139, 140, 141, 142, 143, 144, 145, 146, 147, 148, 149, 150, 151, 152, 153, 154, 155, 156, 157, 158, 159, 160, 161, 162, 163, 164, 165, 166, 167, 168, 169, 170, 171, 172, 173, 174, 175, 176, 177, 178, 179, 180, 181, 182, 183, 184, 185, 186, 187, 188, 189, 190, 191, 192, 193, 194, 195, 196, 197, 198, 199, 200], 'Problem_39_output_219': [1.0, 1, 2, 3, 4, 5, 6, 7, 8, 9, 10, 11, 12, 13, 14, 15, 16, 17, 18, 19, 20, 21, 22, 23, 24, 25, 26, 27, 28, 29, 30, 31, 32, 33, 34, 35, 36, 37, 38, 39, 40, 41, 42, 43, 44, 45, 46, 47, 48, 49, 50, 51, 52, 53, 54, 55, 56, 57, 58, 59, 60, 61, 62, 63, 64, 65, 66, 67, 68, 69, 70, 71, 72, 73, 74, 75, 76, 77, 78, 79, 80, 81, 82, 83, 84, 85, 86, 87, 88, 89, 90, 91, 92, 93, 94, 95, 96, 97, 98, 99, 100, 101, 102, 103, 104, 105, 106, 107, 108, 109, 110, 111, 112, 113, 114, 115, 116, 117, 118, 119, 120, 121, 122, 123, 124, 125, 126, 127, 128, 129, 130, 131, 132, 133, 134, 135, 136, 137, 138, 139, 140, 141, 142, 143, 144, 145, 146, 147, 148, 149, 150, 151, 152, 153, 154, 155, 156, 157, 158, 159, 160, 161, 162, 163, 164, 165, 166, 167, 168, 169, 170, 171, 172, 173, 174, 175, 176, 177, 178, 179, 180, 181, 182, 183, 184, 185, 186, 187, 188, 189, 190, 191, 192, 193, 194, 195, 196, 197, 198, 199, 200], 'Problem_36_output_203': [0.53, 1, 2, 4, 5, 7, 8, 9, 10, 11, 12, 13, 14, 15, 16, 17, 18, 19, 20, 23, 24, 25, 26, 27, 28, 29, 30, 31, 32, 33, 34, 35, 36, 37, 38, 39, 40, 43, 49, 50, 51, 53, 58, 61, 64, 65, 66, 69, 70, 72, 74, 84, 85, 86, 88, 99, 100, 104, 109, 113, 115, 117, 119, 122, 127, 128, 129, 130, 132, 134, 135, 137, 139, 140, 141, 142, 143, 144, 146, 151, 152, 153, 154, 156, 157, 162, 163, 164, 166, 167, 171, 173, 176, 177, 178, 179, 181, 183, 186, 187, 189, 190, 193, 195, 196, 198, 199], 'Problem_22_output_104': [0.0], 'Problem_34_output_192': [1.0, 1, 2, 3, 4, 5, 6, 7, 8, 9, 10, 11, 12, 13, 14, 15, 16, 17, 18, 19, 20, 21, 22, 23, 24, 25, 26, 27, 28, 29, 30, 31, 32, 33, 34, 35, 36, 37, 38, 39, 40, 41, 42, 43, 44, 45, 46, 47, 48, 49, 50, 51, 52, 53, 54, 55, 56, 57, 58, 59, 60, 61, 62, 63, 64, 65, 66, 67, 68, 69, 70, 71, 72, 73, 74, 75, 76, 77, 78, 79, 80, 81, 82, 83, 84, 85, 86, 87, 88, 89, 90, 91, 92, 93, 94, 95, 96, 97, 98, 99, 100, 101, 102, 103, 104, 105, 106, 107, 108, 109, 110, 111, 112, 113, 114, 115, 116, 117, 118, 119, 120, 121, 122, 123, 124, 125, 126, 127, 128, 129, 130, 131, 132, 133, 134, 135, 136, 137, 138, 139, 140, 141, 142, 143, 144, 145, 146, 147, 148, 149, 150, 151, 152, 153, 154, 155, 156, 157, 158, 159, 160, 161, 162, 163, 164, 165, 166, 167, 168, 169, 170, 171, 172, 173, 174, 175, 176, 177, 178, 179, 180, 181, 182, 183, 184, 185, 186, 187, 188, 189, 190, 191, 192, 193, 194, 195, 196, 197, 198, 199, 200], 'Problem_57_output_319': [0.0], 'Problem_62_output_267': [0.74, 1, 2, 4, 5, 6, 8, 10, 11, 12, 15, 16, 21, 24, 26, 29, 30, 31, 34, 35, 36, 37, 38, 39, 40, 41, 42, 43, 45, 46, 47, 48, 49, 51, 52, 53, 56, 57, 60, 62, 63, 64, 65, 66, 67, 68, 69, 70, 71, 72, 74, 75, 77, 78, 80, 82, 83, 84, 85, 86, 87, 88, 89, 90, 91, 92, 93, 94, 95, 96, 97, 98, 99, 100, 101, 102, 103, 104, 105, 106, 107, 108, 109, 110, 112, 114, 115, 116, 117, 119, 120, 121, 123, 125, 126, 127, 128, 129, 131, 134, 137, 138, 139, 140, 141, 142, 143, 144, 145, 147, 150, 152, 153, 154, 155, 156, 157, 158, 159, 160, 161, 162, 163, 164, 166, 167, 168, 169, 171, 172, 173, 174, 175, 176, 177, 178, 180, 181, 182, 183, 184, 185, 186, 187, 188, 189, 190, 191, 199], 'Problem_158_output_716': [1.0, 1, 2, 3, 4, 5, 6, 7, 8, 9, 10, 11, 12, 13, 14, 15, 16, 17, 18, 19, 20, 21, 22, 23, 24, 25, 26, 27, 28, 29, 30, 31, 32, 33, 34, 35, 36, 37, 38, 39, 40, 41, 42, 43, 44, 45, 46, 47, 48, 49, 50, 51, 52, 53, 54, 55, 56, 57, 58, 59, 60, 61, 62, 63, 64, 65, 66, 67, 68, 69, 70, 71, 72, 73, 74, 75, 76, 77, 78, 79, 80, 81, 82, 83, 84, 85, 86, 87, 88, 89, 90, 91, 92, 93, 94, 95, 96, 97, 98, 99, 100, 101, 102, 103, 104, 105, 106, 107, 108, 109, 110, 111, 112, 113, 114, 115, 116, 117, 118, 119, 120, 121, 122, 123, 124, 125, 126, 127, 128, 129, 130, 131, 132, 133, 134, 135, 136, 137, 138, 139, 140, 141, 142, 143, 144, 145, 146, 147, 148, 149, 150, 151, 152, 153, 154, 155, 156, 157, 158, 159, 160, 161, 162, 163, 164, 165, 166, 167, 168, 169, 170, 171, 172, 173, 174, 175, 176, 177, 178, 179, 180, 181, 182, 183, 184, 185, 186, 187, 188, 189, 190, 191, 192, 193, 194, 195, 196, 197, 198, 199, 200], 'Problem_136_output_652': [0.0050000000000000044, 45], 'Problem_102_output_531': [1.0, 1, 2, 3, 4, 5, 6, 7, 8, 9, 10, 11, 12, 13, 14, 15, 16, 17, 18, 19, 20, 21, 22, 23, 24, 25, 26, 27, 28, 29, 30, 31, 32, 33, 34, 35, 36, 37, 38, 39, 40, 41, 42, 43, 44, 45, 46, 47, 48, 49, 50, 51, 52, 53, 54, 55, 56, 57, 58, 59, 60, 61, 62, 63, 64, 65, 66, 67, 68, 69, 70, 71, 72, 73, 74, 75, 76, 77, 78, 79, 80, 81, 82, 83, 84, 85, 86, 87, 88, 89, 90, 91, 92, 93, 94, 95, 96, 97, 98, 99, 100, 101, 102, 103, 104, 105, 106, 107, 108, 109, 110, 111, 112, 113, 114, 115, 116, 117, 118, 119, 120, 121, 122, 123, 124, 125, 126, 127, 128, 129, 130, 131, 132, 133, 134, 135, 136, 137, 138, 139, 140, 141, 142, 143, 144, 145, 146, 147, 148, 149, 150, 151, 152, 153, 154, 155, 156, 157, 158, 159, 160, 161, 162, 163, 164, 165, 166, 167, 168, 169, 170, 171, 172, 173, 174, 175, 176, 177, 178, 179, 180, 181, 182, 183, 184, 185, 186, 187, 188, 189, 190, 191, 192, 193, 194, 195, 196, 197, 198, 199, 200], 'Problem_146_output_700': [0.0], 'Problem_45_output_242': [0.7050000000000001, 1, 2, 3, 4, 5, 6, 7, 8, 9, 10, 11, 12, 13, 14, 15, 16, 17, 18, 19, 20, 21, 22, 23, 24, 25, 26, 27, 28, 29, 30, 31, 32, 33, 35, 36, 37, 38, 39, 40, 41, 42, 43, 44, 45, 46, 47, 48, 49, 50, 51, 52, 53, 54, 55, 56, 57, 58, 59, 60, 61, 62, 63, 64, 65, 66, 67, 68, 69, 70, 71, 72, 73, 74, 75, 76, 77, 78, 79, 80, 81, 82, 83, 84, 85, 86, 87, 88, 89, 90, 91, 92, 93, 94, 95, 96, 97, 98, 99, 100, 101, 102, 103, 105, 106, 107, 108, 110, 112, 114, 115, 117, 118, 120, 122, 124, 126, 128, 129, 149, 150, 151, 152, 153, 154, 155, 156, 157, 160, 161, 163, 164, 166, 167, 171, 174, 188, 191, 192, 193, 195, 199], 'Problem_88_output_446': [1.0, 1, 2, 3, 4, 5, 6, 7, 8, 9, 10, 11, 12, 13, 14, 15, 16, 17, 18, 19, 20, 21, 22, 23, 24, 25, 26, 27, 28, 29, 30, 31, 32, 33, 34, 35, 36, 37, 38, 39, 40, 41, 42, 43, 44, 45, 46, 47, 48, 49, 50, 51, 52, 53, 54, 55, 56, 57, 58, 59, 60, 61, 62, 63, 64, 65, 66, 67, 68, 69, 70, 71, 72, 73, 74, 75, 76, 77, 78, 79, 80, 81, 82, 83, 84, 85, 86, 87, 88, 89, 90, 91, 92, 93, 94, 95, 96, 97, 98, 99, 100, 101, 102, 103, 104, 105, 106, 107, 108, 109, 110, 111, 112, 113, 114, 115, 116, 117, 118, 119, 120, 121, 122, 123, 124, 125, 126, 127, 128, 129, 130, 131, 132, 133, 134, 135, 136, 137, 138, 139, 140, 141, 142, 143, 144, 145, 146, 147, 148, 149, 150, 151, 152, 153, 154, 155, 156, 157, 158, 159, 160, 161, 162, 163, 164, 165, 166, 167, 168, 169, 170, 171, 172, 173, 174, 175, 176, 177, 178, 179, 180, 181, 182, 183, 184, 185, 186, 187, 188, 189, 190, 191, 192, 193, 194, 195, 196, 197, 198, 199, 200], 'Problem_55_output_305': [0.061224489795918324, 3, 9, 11], 'Problem_67_output_364': [0.955, 1, 2, 3, 4, 5, 6, 7, 9, 10, 11, 12, 13, 14, 15, 16, 17, 18, 19, 20, 22, 23, 24, 25, 26, 27, 28, 29, 30, 31, 32, 33, 34, 35, 36, 37, 38, 39, 40, 41, 42, 43, 44, 45, 46, 47, 48, 49, 50, 51, 52, 53, 56, 57, 58, 59, 60, 61, 63, 64, 65, 66, 67, 68, 69, 70, 71, 72, 73, 74, 75, 77, 78, 79, 80, 81, 82, 83, 84, 85, 86, 87, 88, 89, 90, 91, 92, 93, 94, 95, 96, 97, 98, 99, 100, 101, 102, 103, 104, 105, 106, 107, 108, 109, 110, 112, 113, 114, 115, 116, 117, 118, 119, 120, 121, 122, 123, 124, 125, 126, 127, 128, 129, 130, 131, 132, 133, 134, 135, 136, 137, 138, 139, 140, 141, 142, 143, 144, 145, 146, 147, 148, 149, 150, 151, 152, 153, 154, 155, 156, 157, 158, 159, 160, 161, 162, 163, 164, 165, 166, 167, 168, 169, 170, 171, 172, 173, 174, 175, 176, 177, 178, 179, 180, 181, 182, 183, 184, 185, 186, 187, 188, 189, 190, 191, 192, 193, 194, 195, 196, 197, 199], 'Problem_41_output_153': [1.0, 1, 2, 3, 4, 5, 6, 7, 8, 9, 10, 11, 12, 13, 14, 15, 16, 17, 18, 19, 20, 21, 22, 23, 24, 25, 26, 27, 28, 29, 30, 31, 32, 33, 34, 35, 36, 37, 38, 39, 40, 41, 42, 43, 44, 45, 46, 47, 48, 49, 50, 51, 52, 53, 54, 55, 56, 57, 58, 59, 60, 61, 62, 63, 64, 65, 66, 67, 68, 69, 70, 71, 72, 73, 74, 75, 76, 77, 78, 79, 80, 81, 82, 83, 84, 85, 86, 87, 88, 89, 90, 91, 92, 93, 94, 95, 96, 97, 98, 99, 100, 101, 102, 103, 104, 105, 106, 107, 108, 109, 110, 111, 112, 113, 114, 115, 116, 117, 118, 119, 120, 121, 122, 123, 124, 125, 126, 127, 128, 129, 130, 131, 132, 133, 134, 135, 136, 137, 138, 139, 140, 141, 142, 143, 144, 145, 146, 147, 148, 149, 150, 151, 152, 153, 154, 155, 156, 157, 158, 159, 160, 161, 162, 163, 164, 165, 166, 167, 168, 169, 170, 171, 172, 173, 174, 175, 176, 177, 178, 179, 180, 181, 182, 183, 184, 185, 186, 187, 188, 189, 190, 191, 192, 193, 194, 195, 196, 197, 198, 199, 200], 'Problem_40_output_148': [0.0], 'Problem_15_output_61': [0.0], 'Problem_72_output_377': [1.0, 1, 2, 3, 4, 5, 6, 7, 8, 9, 10, 11, 12, 13, 14, 15, 16, 17, 18, 19, 20, 21, 22, 23, 24, 25, 26, 27, 28, 29, 30, 31, 32, 33, 34, 35, 36, 37, 38, 39, 40, 41, 42, 43, 44, 45, 46, 47, 48, 49, 50, 51, 52, 53, 54, 55, 56, 57, 58, 59, 60, 61, 62, 63, 64, 65, 66, 67, 68, 69, 70, 71, 72, 73, 74, 75, 76, 77, 78, 79, 80, 81, 82, 83, 84, 85, 86, 87, 88, 89, 90, 91, 92, 93, 94, 95, 96, 97, 98, 99, 100, 101, 102, 103, 104, 105, 106, 107, 108, 109, 110, 111, 112, 113, 114, 115, 116, 117, 118, 119, 120, 121, 122, 123, 124, 125, 126, 127, 128, 129, 130, 131, 132, 133, 134, 135, 136, 137, 138, 139, 140, 141, 142, 143, 144, 145, 146, 147, 148, 149, 150, 151, 152, 153, 154, 155, 156, 157, 158, 159, 160, 161, 162, 163, 164, 165, 166, 167, 168, 169, 170, 171, 172, 173, 174, 175, 176, 177, 178, 179, 180, 181, 182, 183, 184, 185, 186, 187, 188, 189, 190, 191, 192, 193, 194, 195, 196, 197, 198, 199, 200], 'Problem_76_output_400': [0.05500000000000005, 2, 3, 5, 6, 97, 108, 149, 167, 172, 185, 188], 'Problem_46_output_172': [0.355, 2, 3, 5, 6, 7, 8, 20, 27, 33, 41, 47, 50, 53, 54, 55, 59, 62, 63, 65, 66, 69, 70, 73, 74, 76, 78, 82, 86, 88, 89, 95, 100, 104, 108, 111, 113, 117, 119, 120, 123, 124, 125, 126, 127, 131, 134, 136, 137, 142, 147, 150, 153, 154, 159, 160, 161, 162, 165, 166, 167, 172, 174, 175, 180, 183, 187, 188, 191, 194, 195, 198], 'Problem_74_output_383': [0.94, 1, 2, 3, 5, 6, 7, 8, 9, 10, 11, 12, 13, 14, 16, 17, 18, 19, 20, 21, 22, 23, 24, 25, 26, 27, 28, 29, 30, 31, 33, 34, 35, 36, 37, 38, 39, 41, 42, 44, 45, 46, 47, 48, 49, 50, 51, 52, 53, 54, 55, 56, 58, 59, 60, 61, 62, 63, 64, 65, 66, 67, 68, 69, 70, 71, 72, 73, 74, 75, 76, 77, 78, 79, 80, 81, 82, 83, 84, 86, 87, 88, 89, 90, 91, 92, 93, 94, 95, 96, 97, 98, 99, 100, 101, 102, 103, 104, 105, 106, 107, 108, 109, 110, 111, 112, 113, 114, 115, 117, 118, 119, 120, 121, 122, 123, 124, 125, 126, 127, 128, 129, 130, 132, 133, 134, 135, 136, 137, 138, 139, 140, 141, 142, 143, 144, 145, 146, 147, 148, 149, 150, 151, 152, 153, 154, 155, 156, 157, 159, 160, 161, 163, 164, 165, 166, 167, 168, 169, 170, 171, 172, 173, 174, 175, 176, 177, 178, 179, 180, 181, 182, 183, 184, 185, 187, 188, 189, 190, 191, 192, 193, 194, 195, 196, 197, 198, 199, 200], 'Problem_160_output_847': [0.0], 'Problem_158_output_832': [0.0], 'Problem_11_output_34': [0.0050000000000000044, 1], 'Problem_127_output_618': [0.965, 1, 2, 3, 4, 5, 6, 7, 8, 9, 10, 11, 12, 13, 14, 15, 16, 17, 18, 19, 20, 21, 22, 23, 24, 25, 26, 27, 28, 29, 30, 31, 32, 33, 34, 35, 36, 37, 38, 39, 40, 41, 42, 43, 44, 45, 46, 47, 48, 49, 50, 51, 52, 53, 54, 55, 56, 57, 58, 59, 60, 61, 62, 63, 64, 65, 66, 67, 68, 69, 70, 71, 72, 73, 74, 75, 76, 77, 78, 79, 80, 81, 82, 83, 84, 85, 87, 88, 89, 90, 91, 92, 94, 95, 96, 97, 98, 99, 100, 101, 102, 103, 104, 105, 107, 108, 109, 110, 111, 113, 114, 115, 116, 117, 118, 119, 120, 121, 122, 123, 124, 125, 126, 127, 128, 129, 130, 131, 132, 133, 134, 135, 136, 137, 138, 139, 140, 141, 142, 143, 144, 145, 146, 147, 149, 150, 151, 152, 153, 154, 156, 157, 158, 159, 160, 161, 162, 163, 164, 166, 167, 168, 169, 170, 171, 172, 173, 174, 175, 176, 177, 178, 179, 180, 181, 182, 183, 184, 185, 186, 187, 188, 189, 190, 191, 192, 193, 194, 195, 196, 197, 198, 199, 200], 'Problem_158_output_711': [0.515, 1, 2, 3, 5, 6, 7, 8, 9, 10, 12, 13, 17, 18, 19, 21, 23, 24, 25, 26, 27, 28, 30, 31, 32, 33, 34, 35, 37, 38, 39, 41, 51, 53, 54, 56, 66, 67, 69, 76, 81, 84, 85, 87, 88, 89, 90, 91, 92, 93, 94, 97, 100, 105, 107, 108, 109, 111, 113, 121, 122, 124, 125, 127, 128, 129, 130, 134, 135, 136, 137, 138, 140, 141, 142, 143, 144, 145, 146, 149, 151, 152, 153, 154, 164, 166, 167, 168, 171, 172, 173, 176, 177, 178, 182, 183, 184, 185, 195, 196, 197, 198, 199, 200], 'Problem_77_output_402': [1.0, 1, 2, 3, 4, 5, 6, 7], 'Problem_10_output_30': [0.040000000000000036, 16, 20, 35, 47, 75, 96, 108, 152], 'Problem_10_output_31': [0.03500000000000003, 16, 20, 35, 75, 96, 108, 152], 'Problem_155_output_799': [1.0, 1, 2, 3, 4, 5, 6, 7, 8, 9, 10, 11, 12, 13, 14, 15, 16, 17, 18, 19, 20, 21, 22, 23, 24, 25, 26, 27, 28, 29, 30, 31, 32, 33, 34, 35, 36, 37, 38, 39, 40, 41, 42, 43, 44, 45, 46, 47, 48, 49, 50, 51, 52, 53, 54, 55, 56, 57, 58, 59, 60, 61, 62, 63, 64, 65, 66, 67, 68, 69, 70, 71, 72, 73, 74, 75, 76, 77, 78, 79, 80, 81, 82, 83, 84, 85, 86, 87, 88, 89, 90, 91, 92, 93], 'Problem_160_output_849': [0.31499999999999995, 2, 3, 4, 5, 6, 10, 11, 13, 14, 15, 16, 17, 20, 21, 22, 23, 24, 25, 26, 27, 28, 30, 31, 32, 33, 34, 35, 36, 37, 38, 39, 40, 42, 43, 44, 45, 46, 47, 49, 50, 51, 52, 53, 54, 55, 56, 57, 58, 59, 60, 61, 62, 64, 66, 67, 68, 69, 70, 71, 72, 73, 74, 75], 'Problem_152_output_777': [0.6781609195402298, 1, 2, 3, 4, 5, 8, 9, 10, 11, 12, 13, 14, 15, 16, 18, 19, 20, 21, 22, 25, 26, 27, 28, 29, 30, 31, 32, 33, 34, 35, 36, 37, 38, 39, 41, 42, 43, 45, 46, 47, 48, 49, 50, 51, 52, 53, 54, 55, 56, 57, 59, 60, 61, 62, 63, 64, 67, 68, 69, 70, 71, 72, 73, 74, 75, 76, 78, 79, 80, 82, 83, 84, 85, 86, 87, 91, 96, 98, 99, 100, 104, 107, 108, 111, 112, 114, 115, 116, 117, 118, 119, 120, 126, 127, 131, 134, 136, 138, 139, 140, 141, 143, 147, 151, 152, 153, 156, 157, 159, 160, 165, 167, 168, 169, 170, 171, 172, 174], 'Problem_46_output_250': [0.0], 'Problem_65_output_279': [1.0, 1, 2, 3, 4, 5, 6, 7, 8, 9, 10, 11, 12, 13, 14, 15, 16, 17, 18, 19, 20, 21, 22, 23, 24, 25, 26, 27, 28, 29, 30, 31, 32, 33, 34, 35, 36, 37, 38, 39, 40, 41, 42, 43, 44, 45, 46, 47, 48, 49, 50, 51, 52, 53, 54, 55, 56, 57, 58, 59, 60, 61, 62, 63, 64, 65, 66, 67, 68, 69, 70, 71, 72, 73, 74, 75, 76, 77, 78, 79, 80, 81, 82, 83, 84, 85, 86, 87, 88, 89, 90, 91, 92, 93, 94, 95, 96, 97, 98, 99, 100, 101, 102, 103, 104, 105, 106, 107, 108, 109, 110, 111, 112, 113, 114, 115, 116, 117, 118, 119, 120, 121, 122, 123, 124, 125, 126, 127, 128, 129, 130, 131, 132, 133, 134, 135, 136, 137, 138, 139, 140, 141, 142, 143, 144, 145, 146, 147, 148, 149, 150, 151, 152, 153, 154, 155, 156, 157, 158, 159, 160, 161, 162, 163, 164, 165, 166, 167, 168, 169, 170, 171, 172, 173, 174, 175, 176, 177, 178, 179, 180, 181, 182, 183, 184, 185, 186, 187, 188, 189, 190, 191, 192, 193, 194, 195, 196, 197, 198, 199, 200], 'Problem_15_output_62': [0.040000000000000036, 3, 4, 35, 69, 80, 179, 188, 200], 'Problem_60_output_334': [0.0], 'Problem_6_output_12': [1.0, 1, 2, 3, 4, 5, 6, 7, 8, 9, 10, 11, 12, 13, 14, 15, 16, 17, 18, 19, 20, 21, 22, 23, 24, 25, 26, 27, 28, 29, 30, 31, 32, 33, 34, 35, 36, 37, 38, 39, 40, 41, 42, 43, 44, 45, 46, 47, 48, 49, 50, 51, 52, 53, 54, 55, 56, 57, 58, 59, 60, 61, 62, 63, 64, 65, 66, 67, 68, 69, 70, 71, 72, 73, 74, 75, 76, 77, 78, 79, 80, 81, 82, 83, 84, 85, 86, 87, 88, 89, 90, 91, 92, 93, 94, 95, 96, 97, 98, 99, 100, 101, 102, 103, 104, 105, 106, 107, 108, 109, 110, 111, 112, 113, 114, 115, 116, 117, 118, 119, 120, 121, 122, 123, 124, 125, 126, 127, 128, 129, 130, 131, 132, 133, 134, 135, 136, 137, 138, 139, 140, 141, 142, 143, 144, 145, 146, 147, 148, 149, 150, 151, 152, 153, 154, 155, 156, 157, 158, 159, 160, 161, 162, 163, 164, 165, 166, 167, 168, 169, 170, 171, 172, 173, 174, 175, 176, 177, 178, 179, 180, 181, 182, 183, 184, 185, 186, 187, 188, 189, 190, 191, 192, 193, 194, 195, 196, 197, 198, 199, 200], 'Problem_143_output_687': [0.0], 'Problem_12_output_37': [0.0], 'Problem_141_output_680': [0.0], 'Problem_3_output_9': [0.06499999999999995, 4, 5, 6, 18, 21, 56, 58, 76, 82, 83, 98, 151, 187], 'Problem_98_output_429': [1.0, 1, 2, 3, 4, 5, 6, 7, 8, 9, 10, 11, 12, 13, 14, 15, 16, 17, 18, 19, 20, 21, 22, 23, 24, 25, 26, 27, 28, 29, 30, 31, 32, 33, 34, 35, 36, 37, 38, 39, 40, 41, 42, 43, 44, 45, 46, 47, 48, 49, 50, 51, 52, 53, 54, 55, 56, 57, 58, 59, 60, 61, 62, 63, 64, 65, 66, 67, 68, 69, 70, 71, 72, 73, 74, 75, 76, 77, 78, 79, 80, 81, 82, 83, 84, 85, 86, 87, 88, 89, 90, 91, 92, 93, 94, 95, 96, 97, 98, 99, 100, 101, 102, 103, 104, 105, 106, 107, 108, 109, 110, 111, 112, 113, 114, 115, 116, 117, 118, 119, 120, 121, 122, 123, 124, 125, 126, 127, 128, 129, 130, 131, 132, 133, 134, 135, 136, 137, 138, 139, 140, 141, 142, 143, 144, 145, 146, 147, 148, 149, 150, 151, 152, 153, 154, 155, 156, 157, 158, 159, 160, 161, 162, 163, 164, 165, 166, 167, 168, 169, 170, 171, 172, 173, 174, 175, 176, 177, 178, 179, 180, 181, 182, 183, 184, 185, 186, 187, 188, 189, 190, 191, 192, 193, 194, 195, 196, 197, 198, 199, 200], 'Problem_55_output_303': [0.4897959183673469, 3, 9, 11, 16, 23, 27, 28, 29, 31, 33, 34, 35, 36, 37, 38, 39, 40, 41, 42, 44, 45, 46, 47, 48], 'Problem_70_output_373': [1.0, 1, 2, 3, 4, 5, 6, 7, 8, 9, 10, 11, 12, 13, 14, 15, 16, 17, 18, 19, 20, 21, 22, 23, 24, 25, 26, 27, 28, 29, 30, 31, 32, 33, 34, 35, 36, 37, 38, 39, 40, 41, 42, 43, 44, 45, 46, 47, 48, 49, 50, 51, 52, 53, 54, 55, 56, 57, 58, 59, 60, 61, 62, 63, 64, 65, 66, 67, 68, 69, 70, 71, 72, 73, 74, 75, 76, 77, 78, 79, 80, 81, 82, 83, 84, 85, 86, 87, 88, 89, 90, 91, 92, 93, 94, 95, 96, 97, 98, 99, 100, 101, 102, 103, 104, 105, 106, 107, 108, 109, 110, 111, 112, 113, 114, 115, 116, 117, 118, 119, 120, 121, 122, 123, 124, 125, 126, 127, 128, 129, 130, 131, 132, 133, 134, 135, 136, 137, 138, 139, 140, 141, 142, 143, 144, 145, 146, 147, 148, 149, 150, 151, 152, 153, 154, 155, 156, 157, 158, 159, 160, 161, 162, 163, 164, 165, 166, 167, 168, 169, 170, 171, 172, 173, 174, 175, 176, 177, 178, 179, 180, 181, 182, 183, 184, 185, 186, 187, 188, 189, 190, 191, 192, 193, 194, 195, 196, 197, 198, 199, 200], 'Problem_56_output_310': [0.0], 'Problem_33_output_185': [0.18000000000000005, 2, 76, 80, 85, 89, 94, 100, 106, 109, 112, 115, 118, 121, 124, 127, 130, 133, 136, 139, 142, 145, 147, 149, 152, 154, 157, 159, 161, 163, 165, 167, 169, 171, 173, 175, 177], 'Problem_45_output_244': [0.0], 'Problem_46_output_247': [0.09499999999999997, 5, 8, 46, 50, 56, 59, 62, 65, 113, 114, 115, 117, 123, 155, 156, 161, 170, 189, 197], 'Problem_152_output_786': [0.9885057471264368, 1, 2, 3, 4, 5, 6, 7, 8, 9, 10, 11, 12, 13, 14, 15, 16, 17, 18, 19, 20, 21, 22, 23, 24, 25, 26, 27, 28, 29, 30, 31, 32, 33, 34, 35, 36, 37, 38, 39, 40, 41, 42, 43, 44, 45, 46, 47, 48, 49, 50, 51, 52, 53, 54, 55, 56, 57, 58, 59, 60, 61, 62, 63, 64, 65, 66, 67, 68, 69, 70, 71, 72, 73, 74, 76, 77, 78, 79, 80, 81, 83, 84, 85, 86, 87, 88, 89, 90, 91, 92, 93, 94, 95, 96, 97, 98, 99, 100, 101, 102, 103, 104, 105, 106, 107, 108, 109, 110, 111, 112, 113, 114, 115, 116, 117, 118, 119, 120, 121, 122, 123, 124, 125, 126, 127, 128, 129, 130, 131, 132, 133, 134, 135, 136, 137, 138, 139, 140, 141, 142, 143, 144, 145, 146, 147, 148, 149, 150, 151, 152, 153, 154, 155, 156, 157, 158, 159, 160, 161, 162, 163, 164, 165, 166, 167, 168, 169, 170, 171, 172, 173, 174], 'Problem_158_output_715': [1.0, 1, 2, 3, 4, 5, 6, 7, 8, 9, 10, 11, 12, 13, 14, 15, 16, 17, 18, 19, 20, 21, 22, 23, 24, 25, 26, 27, 28, 29, 30, 31, 32, 33, 34, 35, 36, 37, 38, 39, 40, 41, 42, 43, 44, 45, 46, 47, 48, 49, 50, 51, 52, 53, 54, 55, 56, 57, 58, 59, 60, 61, 62, 63, 64, 65, 66, 67, 68, 69, 70, 71, 72, 73, 74, 75, 76, 77, 78, 79, 80, 81, 82, 83, 84, 85, 86, 87, 88, 89, 90, 91, 92, 93, 94, 95, 96, 97, 98, 99, 100, 101, 102, 103, 104, 105, 106, 107, 108, 109, 110, 111, 112, 113, 114, 115, 116, 117, 118, 119, 120, 121, 122, 123, 124, 125, 126, 127, 128, 129, 130, 131, 132, 133, 134, 135, 136, 137, 138, 139, 140, 141, 142, 143, 144, 145, 146, 147, 148, 149, 150, 151, 152, 153, 154, 155, 156, 157, 158, 159, 160, 161, 162, 163, 164, 165, 166, 167, 168, 169, 170, 171, 172, 173, 174, 175, 176, 177, 178, 179, 180, 181, 182, 183, 184, 185, 186, 187, 188, 189, 190, 191, 192, 193, 194, 195, 196, 197, 198, 199, 200], 'Problem_158_output_829': [1.0, 1, 2, 3, 4, 5, 6, 7, 8, 9, 10, 11, 12, 13, 14, 15, 16, 17, 18, 19, 20, 21, 22, 23, 24, 25, 26, 27, 28, 29, 30, 31, 32, 33, 34, 35, 36, 37, 38, 39, 40, 41, 42, 43, 44, 45, 46, 47, 48, 49, 50, 51, 52, 53, 54, 55, 56, 57, 58, 59, 60, 61, 62, 63, 64, 65, 66, 67, 68, 69, 70, 71, 72, 73, 74, 75, 76, 77, 78, 79, 80, 81, 82, 83, 84, 85, 86, 87, 88, 89, 90, 91, 92, 93, 94, 95, 96, 97, 98, 99, 100, 101, 102, 103, 104, 105, 106, 107, 108, 109, 110, 111, 112, 113, 114, 115, 116, 117, 118, 119, 120, 121, 122, 123, 124, 125, 126, 127, 128, 129, 130, 131, 132, 133, 134, 135, 136, 137, 138, 139, 140, 141, 142, 143, 144, 145, 146, 147, 148, 149, 150, 151, 152, 153, 154, 155, 156, 157, 158, 159, 160, 161, 162, 163, 164, 165, 166, 167, 168, 169, 170, 171, 172, 173, 174, 175, 176, 177, 178, 179, 180, 181, 182, 183, 184, 185, 186, 187, 188, 189, 190, 191, 192, 193, 194, 195, 196, 197, 198, 199, 200], 'Problem_78_output_413': [1.0, 1, 2, 3, 4, 5, 6, 7, 8, 9, 10, 11, 12, 13, 14, 15, 16, 17, 18, 19, 20, 21, 22, 23, 24, 25, 26, 27, 28, 29, 30, 31, 32, 33, 34, 35, 36, 37, 38, 39, 40, 41, 42, 43, 44, 45, 46, 47, 48, 49, 50, 51, 52, 53, 54, 55, 56, 57, 58, 59, 60, 61, 62, 63, 64, 65, 66, 67, 68, 69, 70, 71, 72, 73, 74, 75, 76, 77, 78, 79, 80, 81, 82, 83, 84, 85, 86, 87, 88, 89, 90, 91, 92, 93, 94, 95, 96, 97, 98, 99, 100, 101, 102, 103, 104, 105, 106, 107, 108, 109, 110, 111, 112, 113, 114, 115, 116, 117, 118, 119, 120, 121, 122, 123, 124, 125, 126, 127, 128, 129, 130, 131, 132, 133, 134, 135, 136, 137, 138, 139, 140, 141, 142, 143, 144, 145, 146, 147, 148, 149, 150, 151, 152, 153, 154, 155, 156, 157, 158, 159, 160, 161, 162, 163, 164, 165, 166, 167, 168, 169, 170, 171, 172, 173, 174, 175, 176, 177, 178, 179, 180, 181, 182, 183, 184, 185, 186, 187, 188, 189, 190, 191, 192, 193, 194, 195, 196, 197, 198, 199, 200], 'Problem_142_output_682': [0.6699999999999999, 7, 8, 9, 10, 11, 12, 14, 15, 16, 18, 19, 20, 22, 23, 24, 26, 27, 28, 30, 32, 34, 35, 36, 38, 39, 40, 41, 43, 46, 47, 49, 50, 51, 53, 54, 55, 62, 63, 64, 65, 66, 67, 68, 69, 70, 71, 72, 73, 74, 75, 85, 86, 87, 88, 89, 90, 91, 92, 93, 94, 95, 96, 97, 98, 102, 104, 105, 106, 107, 108, 109, 110, 111, 112, 113, 114, 117, 118, 119, 120, 121, 122, 123, 124, 127, 129, 130, 131, 132, 133, 135, 138, 139, 140, 141, 142, 143, 144, 147, 148, 149, 150, 151, 153, 154, 155, 156, 157, 158, 159, 169, 170, 171, 172, 173, 174, 175, 176, 177, 178, 179, 180, 187, 188, 189, 190, 191, 192, 193, 194, 195, 196, 198, 200], 'Problem_39_output_214': [1.0, 1, 2, 3, 4, 5, 6, 7, 8, 9, 10, 11, 12, 13, 14, 15, 16, 17, 18, 19, 20, 21, 22, 23, 24, 25, 26, 27, 28, 29, 30, 31, 32, 33, 34, 35, 36, 37, 38, 39, 40, 41, 42, 43, 44, 45, 46, 47, 48, 49, 50, 51, 52, 53, 54, 55, 56, 57, 58, 59, 60, 61, 62, 63, 64, 65, 66, 67, 68, 69, 70, 71, 72, 73, 74, 75, 76, 77, 78, 79, 80, 81, 82, 83, 84, 85, 86, 87, 88, 89, 90, 91, 92, 93, 94, 95, 96, 97, 98, 99, 100, 101, 102, 103, 104, 105, 106, 107, 108, 109, 110, 111, 112, 113, 114, 115, 116, 117, 118, 119, 120, 121, 122, 123, 124, 125, 126, 127, 128, 129, 130, 131, 132, 133, 134, 135, 136, 137, 138, 139, 140, 141, 142, 143, 144, 145, 146, 147, 148, 149, 150, 151, 152, 153, 154, 155, 156, 157, 158, 159, 160, 161, 162, 163, 164, 165, 166, 167, 168, 169, 170, 171, 172, 173, 174, 175, 176, 177, 178, 179, 180, 181, 182, 183, 184, 185, 186, 187, 188, 189, 190, 191, 192, 193, 194, 195, 196, 197, 198, 199, 200], 'Problem_5_output_11': [0.935, 1, 2, 4, 5, 6, 7, 8, 9, 10, 11, 12, 13, 14, 15, 16, 17, 18, 19, 20, 21, 22, 23, 24, 25, 26, 27, 28, 29, 30, 31, 32, 33, 34, 35, 36, 37, 38, 39, 40, 41, 42, 43, 44, 45, 46, 47, 48, 49, 50, 51, 52, 53, 54, 55, 56, 57, 58, 59, 60, 61, 62, 63, 64, 65, 66, 67, 68, 69, 70, 71, 72, 73, 74, 75, 76, 77, 78, 79, 80, 81, 82, 83, 84, 85, 86, 87, 88, 89, 90, 91, 92, 93, 94, 95, 96, 97, 98, 99, 100, 101, 102, 103, 104, 105, 106, 107, 108, 109, 110, 111, 112, 113, 114, 115, 116, 117, 118, 119, 120, 121, 122, 123, 124, 125, 126, 127, 128, 129, 130, 131, 132, 133, 134, 135, 136, 137, 138, 139, 140, 141, 142, 143, 144, 145, 146, 147, 148, 149, 150, 151, 152, 153, 154, 155, 156, 157, 158, 159, 160, 161, 162, 163, 164, 165, 166, 167, 171, 172, 174, 175, 176, 179, 180, 181, 182, 183, 185, 187, 189, 190, 191, 193, 195, 196, 197, 198, 200], 'Problem_45_output_166': [0.0], 'Problem_124_output_610': [0.0], 'Problem_158_output_831': [1.0, 1, 2, 3, 4, 5, 6, 7, 8, 9, 10, 11, 12, 13, 14, 15, 16, 17, 18, 19, 20, 21, 22, 23, 24, 25, 26, 27, 28, 29, 30, 31, 32, 33, 34, 35, 36, 37, 38, 39, 40, 41, 42, 43, 44, 45, 46, 47, 48, 49, 50, 51, 52, 53, 54, 55, 56, 57, 58, 59, 60, 61, 62, 63, 64, 65, 66, 67, 68, 69, 70, 71, 72, 73, 74, 75, 76, 77, 78, 79, 80, 81, 82, 83, 84, 85, 86, 87, 88, 89, 90, 91, 92, 93, 94, 95, 96, 97, 98, 99, 100, 101, 102, 103, 104, 105, 106, 107, 108, 109, 110, 111, 112, 113, 114, 115, 116, 117, 118, 119, 120, 121, 122, 123, 124, 125, 126, 127, 128, 129, 130, 131, 132, 133, 134, 135, 136, 137, 138, 139, 140, 141, 142, 143, 144, 145, 146, 147, 148, 149, 150, 151, 152, 153, 154, 155, 156, 157, 158, 159, 160, 161, 162, 163, 164, 165, 166, 167, 168, 169, 170, 171, 172, 173, 174, 175, 176, 177, 178, 179, 180, 181, 182, 183, 184, 185, 186, 187, 188, 189, 190, 191, 192, 193, 194, 195, 196, 197, 198, 199, 200], 'Problem_17_output_70': [0.675, 2, 4, 6, 7, 8, 9, 10, 11, 12, 13, 14, 15, 16, 17, 18, 19, 20, 21, 22, 23, 24, 25, 26, 27, 30, 31, 32, 33, 34, 35, 36, 37, 38, 39, 40, 41, 42, 43, 45, 46, 47, 48, 49, 50, 51, 52, 53, 54, 55, 56, 57, 58, 59, 60, 61, 62, 63, 64, 65, 66, 67, 68, 71, 72, 74, 76, 77, 80, 81, 82, 87, 89, 90, 91, 93, 94, 96, 97, 100, 102, 104, 106, 109, 110, 112, 113, 115, 117, 118, 120, 121, 124, 126, 127, 129, 131, 132, 134, 135, 137, 138, 140, 141, 142, 144, 146, 149, 151, 152, 155, 156, 158, 160, 163, 164, 166, 167, 171, 172, 174, 175, 176, 178, 179, 180, 182, 183, 185, 187, 189, 190, 192, 195, 197, 199], 'Problem_148_output_763': [0.07499999999999996, 12, 27, 42, 45, 49, 61, 81, 88, 98, 112, 120, 124, 126, 156, 198], 'Problem_59_output_328': [0.5549999999999999, 1, 2, 4, 5, 6, 7, 8, 9, 10, 11, 12, 13, 14, 15, 16, 18, 21, 22, 23, 24, 25, 26, 27, 28, 31, 33, 34, 35, 38, 39, 40, 41, 45, 47, 48, 49, 52, 53, 54, 57, 61, 62, 65, 66, 69, 72, 73, 76, 78, 79, 80, 82, 84, 88, 90, 91, 92, 97, 100, 102, 105, 106, 107, 109, 110, 111, 112, 113, 115, 117, 118, 122, 123, 125, 126, 131, 132, 137, 140, 141, 143, 150, 154, 155, 157, 158, 160, 161, 162, 163, 165, 166, 167, 168, 169, 173, 174, 175, 176, 177, 178, 179, 180, 183, 184, 187, 190, 193, 194, 195, 196], 'Problem_160_output_845': [0.015000000000000013, 1, 2, 3], 'Problem_45_output_164': [0.7050000000000001, 1, 2, 3, 4, 5, 6, 7, 8, 9, 10, 11, 12, 13, 14, 15, 16, 17, 18, 19, 20, 21, 22, 23, 24, 25, 26, 27, 28, 29, 30, 31, 32, 33, 35, 36, 37, 38, 39, 40, 41, 42, 43, 44, 45, 46, 47, 48, 49, 50, 51, 52, 53, 54, 55, 56, 57, 58, 59, 60, 61, 62, 63, 64, 65, 66, 67, 68, 69, 70, 71, 72, 73, 74, 75, 76, 77, 78, 79, 80, 81, 82, 83, 84, 85, 86, 87, 88, 89, 90, 91, 92, 93, 94, 95, 96, 97, 98, 99, 100, 101, 102, 103, 105, 106, 107, 108, 110, 112, 114, 115, 117, 118, 120, 122, 124, 126, 128, 129, 149, 150, 151, 152, 153, 154, 155, 156, 157, 160, 161, 163, 164, 166, 167, 171, 174, 188, 191, 192, 193, 195, 199], 'Problem_136_output_654': [0.0050000000000000044, 45], 'Problem_44_output_240': [0.0], 'Problem_76_output_397': [0.0], 'Problem_99_output_513': [0.09999999999999998, 17, 18, 31, 49, 63, 81, 94, 96, 100, 112, 124, 128, 139, 151, 154, 165, 175, 179, 190, 200], 'Problem_113_output_572': [0.26, 4, 5, 7, 10, 12, 15, 17, 19, 21, 22, 23, 24, 26, 27, 30, 31, 32, 36, 37, 38, 39, 40, 43, 44, 45, 47, 50, 52, 53, 54, 55, 58, 59, 60, 61, 63, 64, 66, 67, 70, 71, 72, 73, 74, 101, 120, 126, 138, 144, 154, 169, 192], 'Problem_9_output_22': [0.010000000000000009, 1, 2], 'Problem_39_output_213': [1.0, 1, 2, 3, 4, 5, 6, 7, 8, 9, 10, 11, 12, 13, 14, 15, 16, 17, 18, 19, 20, 21, 22, 23, 24, 25, 26, 27, 28, 29, 30, 31, 32, 33, 34, 35, 36, 37, 38, 39, 40, 41, 42, 43, 44, 45, 46, 47, 48, 49, 50, 51, 52, 53, 54, 55, 56, 57, 58, 59, 60, 61, 62, 63, 64, 65, 66, 67, 68, 69, 70, 71, 72, 73, 74, 75, 76, 77, 78, 79, 80, 81, 82, 83, 84, 85, 86, 87, 88, 89, 90, 91, 92, 93, 94, 95, 96, 97, 98, 99, 100, 101, 102, 103, 104, 105, 106, 107, 108, 109, 110, 111, 112, 113, 114, 115, 116, 117, 118, 119, 120, 121, 122, 123, 124, 125, 126, 127, 128, 129, 130, 131, 132, 133, 134, 135, 136, 137, 138, 139, 140, 141, 142, 143, 144, 145, 146, 147, 148, 149, 150, 151, 152, 153, 154, 155, 156, 157, 158, 159, 160, 161, 162, 163, 164, 165, 166, 167, 168, 169, 170, 171, 172, 173, 174, 175, 176, 177, 178, 179, 180, 181, 182, 183, 184, 185, 186, 187, 188, 189, 190, 191, 192, 193, 194, 195, 196, 197, 198, 199, 200], 'Problem_37_output_208': [1.0, 1, 2, 3, 4, 5, 6, 7, 8, 9, 10, 11, 12, 13, 14, 15, 16, 17, 18, 19, 20, 21, 22, 23, 24, 25, 26, 27, 28, 29, 30, 31, 32, 33, 34, 35, 36, 37, 38, 39, 40, 41, 42, 43, 44, 45, 46, 47, 48, 49, 50, 51, 52, 53, 54, 55, 56, 57, 58, 59, 60, 61, 62, 63, 64, 65, 66, 67, 68, 69, 70, 71, 72, 73, 74, 75, 76, 77, 78, 79, 80, 81, 82, 83, 84, 85, 86, 87, 88, 89, 90, 91, 92, 93, 94, 95, 96, 97, 98, 99, 100, 101, 102, 103, 104, 105, 106, 107, 108, 109, 110, 111, 112, 113, 114, 115, 116, 117, 118, 119, 120, 121, 122, 123, 124, 125, 126, 127, 128, 129, 130, 131, 132, 133, 134, 135, 136, 137, 138, 139, 140, 141, 142, 143, 144, 145, 146, 147, 148, 149, 150, 151, 152, 153, 154, 155, 156, 157, 158, 159, 160, 161, 162, 163, 164, 165, 166, 167, 168, 169, 170, 171, 172, 173, 174, 175, 176, 177, 178, 179, 180, 181, 182, 183, 184, 185, 186, 187, 188, 189, 190, 191, 192, 193, 194, 195, 196, 197, 198, 199, 200], 'Problem_104_output_534': [1.0, 1, 2, 3, 4, 5, 6, 7, 8, 9, 10, 11, 12, 13, 14, 15, 16, 17, 18, 19, 20, 21, 22, 23, 24, 25, 26, 27, 28, 29, 30, 31, 32, 33, 34, 35, 36, 37, 38, 39, 40, 41, 42, 43, 44, 45, 46, 47, 48, 49, 50, 51, 52, 53, 54, 55, 56, 57, 58, 59, 60, 61, 62, 63, 64, 65, 66, 67, 68, 69, 70, 71, 72, 73, 74, 75, 76, 77, 78, 79, 80, 81, 82, 83, 84, 85, 86, 87, 88, 89, 90, 91, 92, 93, 94, 95, 96, 97, 98, 99, 100, 101, 102, 103, 104, 105, 106, 107, 108, 109, 110, 111, 112, 113, 114, 115, 116, 117, 118, 119, 120, 121, 122, 123, 124, 125, 126, 127, 128, 129, 130, 131, 132, 133, 134, 135, 136, 137, 138, 139, 140, 141, 142, 143, 144, 145, 146, 147, 148, 149, 150, 151, 152, 153, 154, 155, 156, 157, 158, 159, 160, 161, 162, 163, 164, 165, 166, 167, 168, 169, 170, 171, 172, 173, 174, 175, 176, 177, 178, 179, 180, 181, 182, 183, 184, 185, 186, 187, 188, 189, 190, 191, 192, 193, 194, 195, 196, 197, 198, 199, 200], 'Problem_41_output_231': [0.825, 1, 2, 3, 4, 5, 6, 8, 9, 10, 11, 12, 14, 15, 16, 17, 18, 19, 21, 22, 23, 24, 25, 26, 27, 28, 29, 32, 33, 34, 35, 36, 37, 39, 40, 41, 42, 43, 44, 48, 49, 50, 51, 52, 53, 55, 57, 58, 59, 60, 61, 62, 63, 66, 68, 70, 72, 73, 74, 75, 76, 77, 78, 79, 80, 81, 82, 83, 85, 86, 87, 88, 89, 90, 91, 94, 95, 96, 97, 98, 99, 100, 101, 102, 104, 105, 107, 108, 110, 112, 113, 114, 115, 116, 117, 118, 119, 120, 121, 123, 124, 125, 126, 127, 128, 129, 131, 132, 133, 135, 136, 137, 138, 140, 141, 144, 146, 147, 148, 149, 150, 151, 152, 153, 154, 155, 156, 157, 158, 159, 160, 161, 162, 163, 164, 165, 167, 168, 169, 170, 171, 172, 173, 174, 175, 176, 177, 178, 179, 181, 182, 183, 184, 185, 186, 187, 189, 190, 192, 193, 194, 195, 196, 197, 199, 200], 'Problem_156_output_804': [0.0050000000000000044, 34], 'Problem_1_output_8': [0.29000000000000004, 6, 8, 16, 23, 25, 36, 38, 40, 41, 51, 56, 61, 65, 66, 67, 68, 76, 79, 80, 81, 83, 84, 86, 87, 88, 90, 91, 93, 95, 97, 98, 104, 105, 107, 115, 120, 121, 123, 131, 133, 136, 141, 144, 148, 155, 158, 170, 172, 175, 176, 179, 182, 183, 188, 191, 192, 195, 196], 'Problem_65_output_353': [1.0, 1, 2, 3, 4, 5, 6, 7, 8, 9, 10, 11, 12, 13, 14, 15, 16, 17, 18, 19, 20, 21, 22, 23, 24, 25, 26, 27, 28, 29, 30, 31, 32, 33, 34, 35, 36, 37, 38, 39, 40, 41, 42, 43, 44, 45, 46, 47, 48, 49, 50, 51, 52, 53, 54, 55, 56, 57, 58, 59, 60, 61, 62, 63, 64, 65, 66, 67, 68, 69, 70, 71, 72, 73, 74, 75, 76, 77, 78, 79, 80, 81, 82, 83, 84, 85, 86, 87, 88, 89, 90, 91, 92, 93, 94, 95, 96, 97, 98, 99, 100, 101, 102, 103, 104, 105, 106, 107, 108, 109, 110, 111, 112, 113, 114, 115, 116, 117, 118, 119, 120, 121, 122, 123, 124, 125, 126, 127, 128, 129, 130, 131, 132, 133, 134, 135, 136, 137, 138, 139, 140, 141, 142, 143, 144, 145, 146, 147, 148, 149, 150, 151, 152, 153, 154, 155, 156, 157, 158, 159, 160, 161, 162, 163, 164, 165, 166, 167, 168, 169, 170, 171, 172, 173, 174, 175, 176, 177, 178, 179, 180, 181, 182, 183, 184, 185, 186, 187, 188, 189, 190, 191, 192, 193, 194, 195, 196, 197, 198, 199, 200], 'Problem_136_output_648': [0.0050000000000000044, 45], 'Problem_114_output_581': [1.0, 1, 2, 3, 4, 5, 6, 7, 8, 9, 10, 11, 12, 13, 14, 15, 16, 17, 18, 19, 20, 21, 22, 23, 24, 25, 26, 27, 28, 29, 30, 31, 32, 33, 34, 35, 36, 37, 38, 39, 40, 41, 42, 43, 44, 45, 46, 47, 48, 49, 50, 51, 52, 53, 54, 55, 56, 57, 58, 59, 60, 61, 62, 63, 64, 65, 66, 67, 68, 69, 70, 71, 72, 73, 74, 75, 76, 77, 78, 79, 80, 81, 82, 83, 84, 85, 86, 87, 88, 89, 90, 91, 92, 93, 94, 95, 96, 97, 98, 99, 100, 101, 102, 103, 104, 105, 106, 107, 108, 109, 110, 111, 112, 113, 114, 115, 116, 117, 118, 119, 120, 121, 122, 123, 124, 125, 126, 127, 128, 129, 130, 131, 132, 133, 134, 135, 136, 137, 138, 139, 140, 141, 142, 143, 144, 145, 146, 147, 148, 149, 150, 151, 152, 153, 154, 155, 156, 157, 158, 159, 160, 161, 162, 163, 164, 165, 166, 167, 168, 169, 170, 171, 172, 173, 174, 175, 176, 177, 178, 179, 180, 181, 182, 183, 184, 185, 186, 187, 188, 189, 190, 191, 192, 193, 194, 195, 196, 197, 198, 199, 200], 'Problem_39_output_218': [1.0, 1, 2, 3, 4, 5, 6, 7, 8, 9, 10, 11, 12, 13, 14, 15, 16, 17, 18, 19, 20, 21, 22, 23, 24, 25, 26, 27, 28, 29, 30, 31, 32, 33, 34, 35, 36, 37, 38, 39, 40, 41, 42, 43, 44, 45, 46, 47, 48, 49, 50, 51, 52, 53, 54, 55, 56, 57, 58, 59, 60, 61, 62, 63, 64, 65, 66, 67, 68, 69, 70, 71, 72, 73, 74, 75, 76, 77, 78, 79, 80, 81, 82, 83, 84, 85, 86, 87, 88, 89, 90, 91, 92, 93, 94, 95, 96, 97, 98, 99, 100, 101, 102, 103, 104, 105, 106, 107, 108, 109, 110, 111, 112, 113, 114, 115, 116, 117, 118, 119, 120, 121, 122, 123, 124, 125, 126, 127, 128, 129, 130, 131, 132, 133, 134, 135, 136, 137, 138, 139, 140, 141, 142, 143, 144, 145, 146, 147, 148, 149, 150, 151, 152, 153, 154, 155, 156, 157, 158, 159, 160, 161, 162, 163, 164, 165, 166, 167, 168, 169, 170, 171, 172, 173, 174, 175, 176, 177, 178, 179, 180, 181, 182, 183, 184, 185, 186, 187, 188, 189, 190, 191, 192, 193, 194, 195, 196, 197, 198, 199, 200], 'Problem_88_output_458': [0.54, 1, 3, 4, 5, 7, 8, 9, 10, 11, 12, 14, 16, 17, 18, 19, 23, 24, 25, 26, 29, 30, 33, 34, 35, 37, 38, 39, 41, 42, 43, 45, 46, 47, 50, 53, 54, 55, 56, 57, 58, 60, 61, 62, 64, 66, 67, 68, 69, 72, 73, 74, 75, 77, 81, 82, 84, 85, 88, 89, 92, 93, 97, 98, 99, 100, 101, 104, 105, 106, 108, 109, 110, 111, 114, 115, 116, 118, 122, 123, 125, 127, 131, 135, 136, 137, 140, 142, 143, 144, 147, 149, 154, 156, 160, 164, 165, 166, 169, 171, 172, 176, 181, 183, 186, 189, 191, 194, 200], 'Problem_137_output_658': [0.06499999999999995, 2, 13, 16, 23, 61, 76, 105, 118, 137, 143, 148, 162, 191], 'Problem_26_output_117': [0.0], 'Problem_78_output_415': [0.72, 1, 2, 4, 5, 6, 8, 10, 11, 15, 17, 18, 20, 22, 27, 28, 29, 36, 37, 39, 40, 41, 42, 43, 44, 45, 46, 47, 48, 49, 50, 51, 53, 54, 55, 57, 58, 59, 60, 61, 62, 63, 64, 65, 66, 68, 69, 70, 72, 73, 74, 75, 76, 77, 78, 81, 82, 83, 84, 85, 86, 87, 90, 92, 93, 94, 95, 98, 99, 102, 104, 105, 106, 107, 108, 109, 111, 112, 113, 114, 115, 116, 117, 118, 120, 121, 124, 125, 126, 128, 129, 130, 132, 133, 134, 135, 137, 140, 141, 142, 143, 146, 148, 151, 152, 153, 154, 155, 156, 157, 158, 160, 161, 162, 163, 164, 165, 166, 167, 168, 169, 170, 171, 172, 173, 174, 175, 178, 179, 180, 182, 185, 186, 187, 188, 189, 190, 191, 193, 194, 195, 196, 197, 199, 200], 'Problem_136_output_650': [0.495, 1, 2, 4, 6, 7, 9, 10, 11, 12, 13, 14, 15, 16, 17, 19, 20, 21, 24, 25, 27, 28, 30, 31, 32, 35, 36, 38, 39, 41, 42, 45, 48, 49, 53, 56, 59, 62, 65, 68, 69, 70, 71, 72, 73, 76, 77, 79, 80, 82, 83, 86, 88, 90, 91, 92, 93, 97, 98, 101, 104, 105, 108, 112, 113, 114, 115, 116, 118, 121, 123, 127, 129, 131, 132, 133, 135, 138, 147, 148, 150, 155, 157, 160, 162, 164, 165, 166, 168, 174, 175, 180, 182, 184, 187, 188, 189, 190, 195, 200], 'Problem_102_output_530': [0.0], 'Problem_67_output_369': [0.0], 'Problem_74_output_384': [0.955, 1, 2, 3, 5, 6, 7, 8, 9, 10, 11, 12, 13, 14, 15, 16, 17, 18, 19, 20, 21, 22, 23, 24, 25, 26, 27, 28, 29, 30, 31, 32, 33, 34, 35, 36, 37, 38, 39, 41, 42, 43, 44, 45, 46, 47, 48, 49, 50, 51, 52, 53, 54, 55, 56, 57, 58, 59, 60, 61, 62, 63, 64, 65, 66, 67, 68, 69, 70, 71, 72, 73, 74, 75, 76, 77, 78, 79, 80, 81, 82, 83, 84, 86, 87, 88, 89, 90, 91, 92, 93, 94, 95, 96, 97, 98, 99, 100, 102, 103, 104, 105, 106, 107, 108, 109, 110, 111, 112, 113, 114, 115, 117, 118, 119, 120, 121, 122, 123, 124, 125, 126, 127, 128, 129, 130, 132, 133, 134, 135, 136, 137, 138, 139, 140, 141, 142, 143, 144, 145, 146, 147, 148, 149, 150, 151, 152, 153, 154, 155, 156, 157, 159, 160, 161, 162, 163, 164, 165, 166, 167, 168, 169, 170, 171, 172, 174, 175, 176, 177, 178, 179, 180, 181, 182, 183, 184, 185, 187, 188, 189, 190, 191, 192, 193, 194, 195, 196, 197, 198, 199, 200], 'Problem_91_output_476': [0.020000000000000018, 77, 84, 138, 149], 'Problem_40_output_226': [1.0, 1, 2, 3, 4, 5, 6, 7, 8, 9, 10, 11, 12, 13, 14, 15, 16, 17, 18, 19, 20, 21, 22, 23, 24, 25, 26, 27, 28, 29, 30, 31, 32, 33, 34, 35, 36, 37, 38, 39, 40, 41, 42, 43, 44, 45, 46, 47, 48, 49, 50, 51, 52, 53, 54, 55, 56, 57, 58, 59, 60, 61, 62, 63, 64, 65, 66, 67, 68, 69, 70, 71, 72, 73, 74, 75, 76, 77, 78, 79, 80, 81, 82, 83, 84, 85, 86, 87, 88, 89, 90, 91, 92, 93, 94, 95, 96, 97, 98, 99, 100, 101, 102, 103, 104, 105, 106, 107, 108, 109, 110, 111, 112, 113, 114, 115, 116, 117, 118, 119, 120, 121, 122, 123, 124, 125, 126, 127, 128, 129, 130, 131, 132, 133, 134, 135, 136, 137, 138, 139, 140, 141, 142, 143, 144, 145, 146, 147, 148, 149, 150, 151, 152, 153, 154, 155, 156, 157, 158, 159, 160, 161, 162, 163, 164, 165, 166, 167, 168, 169, 170, 171, 172, 173, 174, 175, 176, 177, 178, 179, 180, 181, 182, 183, 184, 185, 186, 187, 188, 189, 190, 191, 192, 193, 194, 195, 196, 197, 198, 199, 200], 'Problem_98_output_502': [1.0, 1, 2, 3, 4, 5, 6, 7, 8, 9, 10, 11, 12, 13, 14, 15, 16, 17, 18, 19, 20, 21, 22, 23, 24, 25, 26, 27, 28, 29, 30, 31, 32, 33, 34, 35, 36, 37, 38, 39, 40, 41, 42, 43, 44, 45, 46, 47, 48, 49, 50, 51, 52, 53, 54, 55, 56, 57, 58, 59, 60, 61, 62, 63, 64, 65, 66, 67, 68, 69, 70, 71, 72, 73, 74, 75, 76, 77, 78, 79, 80, 81, 82, 83, 84, 85, 86, 87, 88, 89, 90, 91, 92, 93, 94, 95, 96, 97, 98, 99, 100, 101, 102, 103, 104, 105, 106, 107, 108, 109, 110, 111, 112, 113, 114, 115, 116, 117, 118, 119, 120, 121, 122, 123, 124, 125, 126, 127, 128, 129, 130, 131, 132, 133, 134, 135, 136, 137, 138, 139, 140, 141, 142, 143, 144, 145, 146, 147, 148, 149, 150, 151, 152, 153, 154, 155, 156, 157, 158, 159, 160, 161, 162, 163, 164, 165, 166, 167, 168, 169, 170, 171, 172, 173, 174, 175, 176, 177, 178, 179, 180, 181, 182, 183, 184, 185, 186, 187, 188, 189, 190, 191, 192, 193, 194, 195, 196, 197, 198, 199, 200], 'Problem_134_output_640': [0.0], 'Problem_99_output_516': [0.8049999999999999, 2, 4, 6, 8, 11, 12, 13, 14, 16, 17, 18, 19, 20, 21, 22, 23, 24, 25, 26, 27, 28, 29, 31, 33, 35, 37, 39, 41, 42, 43, 44, 45, 47, 48, 49, 50, 51, 52, 53, 54, 55, 56, 57, 58, 59, 60, 61, 62, 63, 65, 66, 67, 68, 69, 70, 71, 73, 74, 75, 76, 77, 79, 80, 81, 82, 83, 84, 85, 86, 87, 88, 89, 90, 91, 92, 94, 96, 97, 98, 99, 100, 101, 102, 104, 105, 106, 107, 108, 110, 111, 112, 113, 114, 115, 116, 117, 118, 119, 120, 122, 124, 126, 127, 128, 129, 130, 132, 133, 134, 135, 137, 138, 139, 140, 141, 142, 144, 145, 146, 149, 151, 152, 153, 154, 155, 156, 157, 158, 159, 160, 161, 162, 163, 164, 165, 166, 167, 168, 170, 173, 175, 177, 178, 179, 180, 181, 182, 183, 184, 185, 186, 187, 188, 189, 190, 191, 192, 193, 195, 198, 200], 'Problem_95_output_492': [0.5900000000000001, 1, 3, 4, 5, 6, 7, 8, 9, 10, 11, 12, 13, 14, 15, 16, 17, 19, 20, 21, 22, 24, 25, 27, 28, 29, 31, 32, 33, 34, 35, 36, 38, 39, 40, 41, 42, 44, 45, 46, 47, 48, 50, 51, 52, 53, 54, 56, 57, 58, 59, 60, 62, 63, 64, 65, 66, 69, 74, 79, 83, 87, 90, 93, 95, 97, 99, 116, 117, 118, 119, 120, 121, 122, 123, 124, 125, 126, 127, 128, 131, 132, 133, 134, 136, 137, 138, 140, 141, 142, 143, 144, 147, 148, 149, 152, 153, 154, 155, 157, 158, 159, 160, 161, 163, 164, 165, 168, 169, 170, 171, 172, 175, 180, 184, 188, 192, 195, 198], 'Problem_146_output_699': [0.0], 'Problem_13_output_50': [0.935, 1, 2, 3, 4, 5, 6, 7, 8, 9, 10, 12, 13, 14, 15, 17, 18, 19, 20, 21, 22, 23, 24, 25, 26, 27, 28, 29, 30, 31, 32, 33, 34, 35, 36, 37, 38, 39, 40, 41, 42, 43, 44, 45, 46, 47, 48, 49, 50, 51, 52, 53, 54, 55, 56, 57, 58, 59, 60, 61, 62, 63, 64, 65, 66, 67, 68, 69, 70, 71, 72, 73, 74, 75, 76, 77, 78, 79, 80, 81, 82, 83, 84, 85, 86, 87, 88, 89, 90, 91, 92, 93, 94, 95, 96, 97, 98, 99, 100, 102, 103, 104, 105, 106, 107, 108, 109, 110, 111, 112, 113, 114, 115, 116, 117, 118, 119, 120, 127, 128, 129, 130, 131, 132, 133, 134, 135, 136, 137, 138, 139, 140, 141, 142, 143, 144, 145, 146, 147, 148, 149, 150, 151, 152, 153, 154, 155, 156, 158, 159, 160, 161, 162, 163, 164, 165, 166, 167, 168, 169, 170, 171, 172, 173, 174, 175, 177, 178, 179, 180, 181, 182, 183, 185, 186, 187, 188, 189, 190, 191, 193, 194, 195, 196, 197, 198, 199, 200], 'Problem_152_output_785': [0.1954022988505747, 5, 8, 12, 18, 25, 26, 27, 29, 32, 33, 35, 36, 39, 41, 42, 43, 48, 50, 51, 52, 55, 57, 68, 70, 71, 75, 78, 79, 80, 84, 85, 147, 157, 165], 'Problem_70_output_372': [0.0], 'Problem_107_output_557': [0.21999999999999997, 3, 5, 6, 7, 9, 10, 11, 12, 15, 16, 17, 18, 19, 20, 21, 22, 24, 25, 26, 27, 28, 29, 33, 35, 36, 37, 40, 41, 44, 69, 79, 80, 83, 101, 105, 112, 116, 131, 135, 139, 143, 147, 160, 164], 'Problem_106_output_545': [1.0, 1, 2, 3, 4, 5, 6, 7, 8, 9, 10, 11, 12, 13, 14, 15, 16, 17, 18, 19, 20, 21, 22, 23, 24, 25, 26, 27, 28, 29, 30, 31, 32, 33, 34, 35, 36, 37, 38, 39, 40, 41, 42, 43, 44, 45, 46, 47, 48, 49, 50, 51, 52, 53, 54, 55, 56, 57, 58, 59, 60, 61, 62, 63, 64, 65, 66, 67, 68, 69, 70, 71, 72, 73, 74, 75, 76, 77, 78, 79, 80, 81, 82, 83, 84, 85, 86, 87, 88, 89, 90, 91, 92, 93, 94, 95, 96, 97, 98, 99, 100, 101, 102, 103, 104, 105, 106, 107, 108, 109, 110, 111, 112, 113, 114, 115, 116, 117, 118, 119, 120, 121, 122, 123, 124, 125, 126, 127, 128, 129, 130, 131, 132, 133, 134, 135, 136, 137, 138, 139, 140, 141, 142, 143, 144, 145, 146, 147, 148, 149, 150, 151, 152, 153, 154, 155, 156, 157, 158, 159, 160, 161, 162, 163, 164, 165, 166, 167, 168, 169, 170, 171, 172, 173, 174, 175, 176, 177, 178, 179, 180, 181, 182, 183, 184, 185, 186, 187, 188, 189, 190, 191, 192, 193, 194, 195, 196, 197, 198, 199, 200], 'Problem_148_output_765': [0.07499999999999996, 12, 27, 42, 45, 49, 61, 81, 88, 98, 112, 120, 124, 126, 156, 198], 'Problem_144_output_691': [1.0, 1, 2, 3, 4, 5, 6, 7, 8, 9, 10, 11, 12, 13, 14, 15, 16, 17, 18, 19, 20, 21, 22, 23, 24, 25, 26, 27, 28, 29, 30, 31, 32, 33, 34, 35, 36, 37, 38, 39, 40, 41, 42, 43, 44, 45, 46, 47, 48, 49, 50, 51, 52, 53, 54, 55, 56, 57, 58, 59, 60, 61, 62, 63, 64, 65, 66, 67, 68, 69, 70, 71, 72, 73, 74, 75, 76, 77, 78, 79, 80, 81, 82, 83, 84, 85, 86, 87, 88, 89, 90, 91, 92, 93, 94, 95, 96, 97, 98, 99, 100, 101, 102, 103, 104, 105, 106, 107, 108, 109, 110, 111, 112, 113, 114, 115, 116, 117, 118, 119, 120, 121, 122, 123, 124, 125, 126, 127, 128, 129, 130, 131, 132, 133, 134, 135, 136, 137, 138, 139, 140, 141, 142, 143, 144, 145, 146, 147, 148, 149, 150, 151, 152, 153, 154, 155, 156, 157, 158, 159, 160, 161, 162, 163, 164, 165, 166, 167, 168, 169, 170, 171, 172, 173, 174, 175, 176, 177, 178, 179, 180, 181, 182, 183, 184, 185, 186, 187, 188, 189, 190, 191, 192, 193, 194, 195, 196, 197, 198, 199, 200], 'Problem_26_output_119': [0.9299999999999999, 1, 3, 4, 5, 6, 8, 9, 10, 12, 13, 14, 16, 17, 18, 20, 21, 22, 24, 25, 26, 27, 28, 29, 30, 31, 32, 33, 34, 35, 36, 37, 38, 39, 40, 41, 42, 43, 44, 45, 46, 47, 48, 49, 50, 51, 52, 53, 54, 55, 56, 57, 58, 59, 60, 61, 62, 63, 64, 65, 66, 67, 68, 69, 70, 71, 72, 73, 74, 75, 76, 77, 78, 79, 80, 81, 82, 83, 84, 85, 86, 87, 88, 89, 90, 91, 92, 93, 94, 95, 96, 97, 98, 99, 100, 101, 102, 103, 104, 105, 106, 107, 108, 109, 110, 111, 112, 113, 114, 115, 116, 117, 118, 120, 122, 123, 124, 125, 126, 127, 129, 130, 131, 133, 134, 136, 137, 138, 140, 141, 142, 144, 145, 146, 148, 149, 150, 151, 152, 153, 154, 155, 156, 157, 158, 159, 160, 161, 162, 163, 164, 165, 166, 167, 168, 169, 170, 171, 172, 173, 174, 175, 176, 177, 178, 179, 180, 181, 182, 183, 184, 185, 186, 187, 188, 189, 190, 191, 192, 193, 194, 195, 196, 197, 198, 199, 200], 'Problem_88_output_462': [0.54, 1, 3, 4, 5, 7, 8, 9, 10, 11, 12, 14, 16, 17, 18, 19, 23, 24, 25, 26, 29, 30, 33, 34, 35, 37, 38, 39, 41, 42, 43, 45, 46, 47, 50, 53, 54, 55, 56, 57, 58, 60, 61, 62, 64, 66, 67, 68, 69, 72, 73, 74, 75, 77, 81, 82, 84, 85, 88, 89, 92, 93, 97, 98, 99, 100, 101, 104, 105, 106, 108, 109, 110, 111, 114, 115, 116, 118, 122, 123, 125, 127, 131, 135, 136, 137, 140, 142, 143, 144, 147, 149, 154, 156, 160, 164, 165, 166, 169, 171, 172, 176, 181, 183, 186, 189, 191, 194, 200], 'Problem_22_output_102': [0.15500000000000003, 1, 6, 27, 29, 31, 32, 38, 41, 47, 50, 56, 59, 61, 65, 72, 73, 84, 86, 90, 98, 108, 110, 112, 117, 119, 127, 134, 144, 147, 160, 171], 'Problem_82_output_440': [0.31000000000000005, 8, 11, 15, 20, 27, 30, 33, 34, 36, 37, 39, 42, 45, 47, 50, 54, 56, 57, 64, 67, 70, 74, 80, 84, 90, 93, 94, 96, 99, 100, 101, 105, 106, 107, 108, 109, 111, 113, 114, 118, 119, 120, 122, 123, 125, 126, 127, 129, 130, 135, 139, 143, 144, 148, 151, 154, 155, 156, 158, 189, 190, 191], 'Problem_23_output_111': [0.06499999999999995, 3, 9, 17, 21, 22, 52, 60, 64, 87, 91, 107, 111, 126], 'Problem_46_output_251': [0.99, 1, 2, 3, 4, 5, 6, 7, 8, 9, 10, 11, 12, 13, 14, 15, 16, 17, 18, 19, 20, 21, 22, 23, 24, 25, 26, 27, 28, 29, 30, 31, 32, 33, 34, 35, 36, 37, 38, 39, 40, 41, 42, 43, 44, 45, 46, 47, 48, 49, 50, 51, 52, 53, 54, 55, 56, 57, 58, 59, 60, 61, 62, 63, 64, 65, 66, 67, 68, 69, 70, 71, 72, 73, 74, 75, 76, 77, 78, 79, 80, 81, 82, 83, 84, 85, 86, 87, 88, 89, 90, 91, 92, 93, 94, 95, 96, 97, 98, 99, 100, 101, 102, 103, 104, 105, 106, 107, 108, 109, 110, 111, 112, 113, 114, 115, 116, 117, 118, 119, 120, 121, 122, 123, 124, 125, 126, 127, 128, 129, 130, 131, 132, 133, 135, 136, 137, 138, 139, 140, 141, 142, 143, 144, 145, 146, 147, 148, 149, 150, 151, 152, 153, 154, 155, 156, 157, 158, 159, 160, 161, 162, 163, 164, 165, 166, 167, 168, 169, 170, 171, 172, 173, 174, 175, 176, 177, 178, 179, 180, 181, 182, 183, 184, 185, 186, 187, 188, 189, 190, 191, 192, 193, 194, 195, 196, 197, 199, 200], 'Problem_36_output_200': [0.54, 1, 2, 4, 5, 7, 8, 9, 10, 11, 12, 15, 16, 17, 20, 22, 23, 24, 25, 26, 28, 29, 31, 32, 33, 34, 35, 37, 38, 39, 40, 41, 43, 44, 46, 48, 49, 50, 51, 52, 53, 55, 57, 58, 59, 60, 61, 62, 64, 65, 66, 68, 69, 70, 77, 78, 83, 84, 85, 86, 88, 90, 91, 92, 93, 97, 98, 100, 102, 109, 111, 117, 122, 126, 129, 132, 135, 137, 142, 143, 144, 145, 146, 147, 150, 151, 152, 153, 154, 157, 162, 163, 164, 174, 175, 176, 177, 178, 179, 181, 183, 184, 185, 186, 190, 191, 193, 195, 198], 'Problem_75_output_387': [0.0], 'Problem_157_output_812': [0.75, 2, 4, 8, 9, 11, 13, 14, 15, 16, 17, 19, 20, 21, 22, 23, 24, 25, 26, 28, 29, 30, 31, 33, 34, 38, 39, 43, 44, 45, 47, 49, 50, 51, 52, 53, 57, 60, 61, 62, 63, 64, 66, 68, 69, 70, 71, 72, 73, 75, 78, 79, 80, 81, 82, 83, 84, 85, 86, 87, 89, 90, 91, 92, 93, 94, 95, 96, 97, 98, 101, 102, 106, 107, 108, 109, 110, 111, 112, 115, 116, 117, 118, 119, 120, 121, 123, 124, 125, 127, 129, 130, 131, 133, 134, 135, 136, 137, 138, 139, 141, 142, 143, 144, 145, 146, 147, 148, 149, 150, 152, 153, 154, 155, 156, 158, 160, 161, 162, 163, 164, 165, 166, 167, 169, 170, 171, 172, 174, 175, 176, 178, 179, 180, 181, 182, 183, 185, 186, 187, 188, 189, 190, 191, 192, 193, 194, 195, 196, 197, 198], 'Problem_100_output_524': [1.0, 1, 2, 3, 4, 5, 6, 7, 8, 9, 10, 11, 12, 13, 14, 15, 16, 17, 18, 19, 20, 21, 22, 23, 24, 25, 26, 27, 28, 29, 30, 31, 32, 33, 34, 35, 36, 37, 38, 39, 40, 41, 42, 43, 44, 45, 46, 47, 48, 49, 50, 51, 52, 53, 54, 55, 56, 57, 58, 59, 60, 61, 62, 63, 64, 65, 66, 67, 68, 69, 70, 71, 72, 73, 74, 75, 76, 77, 78, 79, 80, 81, 82, 83, 84, 85, 86, 87, 88, 89, 90, 91, 92, 93, 94, 95, 96, 97, 98, 99, 100, 101, 102, 103, 104, 105, 106, 107, 108, 109, 110, 111, 112, 113, 114, 115, 116, 117, 118, 119, 120, 121, 122, 123, 124, 125, 126, 127, 128, 129, 130, 131, 132, 133, 134, 135, 136, 137, 138, 139, 140, 141, 142, 143, 144, 145, 146, 147, 148, 149, 150, 151, 152, 153, 154, 155, 156, 157, 158, 159, 160, 161, 162, 163, 164, 165, 166, 167, 168, 169, 170, 171, 172, 173, 174, 175, 176, 177, 178, 179, 180, 181, 182, 183, 184, 185, 186, 187, 188, 189, 190, 191, 192, 193, 194, 195, 196, 197, 198, 199, 200], 'Problem_22_output_103': [0.0], 'Problem_158_output_835': [0.955, 1, 2, 3, 4, 5, 6, 7, 8, 9, 10, 11, 13, 14, 15, 16, 17, 18, 19, 20, 21, 22, 24, 25, 26, 27, 28, 29, 30, 31, 32, 33, 34, 35, 36, 37, 38, 39, 40, 41, 42, 43, 44, 45, 46, 47, 48, 49, 50, 51, 52, 53, 54, 55, 56, 57, 58, 59, 60, 61, 62, 63, 64, 65, 66, 67, 68, 69, 70, 71, 72, 73, 74, 75, 76, 77, 78, 79, 80, 81, 82, 83, 84, 85, 86, 88, 89, 90, 91, 92, 93, 94, 95, 96, 97, 98, 99, 100, 101, 102, 103, 104, 105, 106, 107, 108, 109, 110, 111, 112, 113, 114, 115, 116, 117, 118, 119, 120, 121, 122, 123, 124, 125, 126, 127, 128, 129, 130, 131, 132, 133, 135, 136, 137, 138, 139, 141, 142, 143, 144, 145, 146, 147, 148, 149, 150, 151, 152, 153, 154, 155, 156, 157, 158, 159, 160, 161, 162, 163, 164, 165, 166, 167, 168, 170, 171, 172, 173, 174, 175, 177, 178, 179, 180, 181, 182, 183, 184, 185, 186, 187, 188, 189, 190, 191, 192, 193, 194, 195, 197, 198, 200], 'Problem_41_output_152': [0.825, 1, 2, 3, 4, 5, 6, 8, 9, 10, 11, 12, 14, 15, 16, 17, 18, 19, 21, 22, 23, 24, 25, 26, 27, 28, 29, 32, 33, 34, 35, 36, 37, 39, 40, 41, 42, 43, 44, 48, 49, 50, 51, 52, 53, 55, 57, 58, 59, 60, 61, 62, 63, 66, 68, 70, 72, 73, 74, 75, 76, 77, 78, 79, 80, 81, 82, 83, 85, 86, 87, 88, 89, 90, 91, 94, 95, 96, 97, 98, 99, 100, 101, 102, 104, 105, 107, 108, 110, 112, 113, 114, 115, 116, 117, 118, 119, 120, 121, 123, 124, 125, 126, 127, 128, 129, 131, 132, 133, 135, 136, 137, 138, 140, 141, 144, 146, 147, 148, 149, 150, 151, 152, 153, 154, 155, 156, 157, 158, 159, 160, 161, 162, 163, 164, 165, 167, 168, 169, 170, 171, 172, 173, 174, 175, 176, 177, 178, 179, 181, 182, 183, 184, 185, 186, 187, 189, 190, 192, 193, 194, 195, 196, 197, 199, 200], 'Problem_124_output_612': [0.0], 'Problem_113_output_573': [0.5900000000000001, 2, 3, 4, 5, 7, 8, 9, 10, 12, 13, 14, 15, 16, 17, 18, 19, 20, 21, 22, 23, 24, 25, 26, 27, 29, 30, 31, 32, 34, 35, 36, 37, 38, 39, 40, 41, 42, 43, 44, 45, 46, 47, 48, 49, 50, 51, 52, 53, 54, 55, 56, 57, 58, 59, 60, 61, 62, 63, 64, 65, 66, 67, 68, 69, 70, 71, 72, 73, 74, 79, 80, 81, 85, 88, 91, 93, 96, 97, 99, 100, 101, 103, 112, 113, 117, 119, 120, 126, 132, 134, 135, 136, 137, 138, 144, 149, 152, 153, 154, 161, 163, 164, 167, 168, 169, 177, 178, 179, 181, 184, 188, 189, 190, 191, 192, 194, 198, 200], 'Problem_139_output_667': [0.985, 1, 2, 4, 5, 6, 7, 8, 9, 10, 11, 12, 13, 14, 15, 16, 17, 18, 19, 20, 21, 22, 23, 24, 25, 26, 28, 29, 30, 31, 32, 33, 34, 35, 36, 37, 38, 39, 40, 41, 42, 43, 44, 45, 46, 47, 48, 49, 50, 51, 52, 53, 54, 55, 56, 57, 58, 59, 60, 61, 62, 63, 64, 65, 66, 67, 69, 70, 71, 72, 73, 74, 75, 76, 77, 78, 79, 80, 81, 82, 83, 84, 85, 86, 87, 88, 89, 90, 91, 92, 93, 94, 95, 96, 97, 98, 99, 100, 101, 102, 103, 104, 105, 106, 107, 108, 109, 110, 111, 112, 113, 114, 115, 116, 117, 118, 119, 120, 121, 122, 123, 124, 125, 126, 127, 128, 129, 130, 131, 132, 133, 134, 135, 136, 137, 138, 139, 140, 141, 142, 143, 144, 145, 146, 147, 148, 149, 150, 151, 152, 153, 154, 155, 156, 157, 158, 159, 160, 161, 162, 163, 164, 165, 166, 167, 168, 169, 170, 171, 172, 173, 174, 175, 176, 177, 178, 179, 180, 181, 182, 183, 184, 185, 186, 187, 188, 189, 190, 191, 192, 193, 194, 195, 196, 197, 198, 199, 200], 'Problem_160_output_841': [0.0], 'Problem_58_output_323': [0.0], 'Problem_67_output_362': [0.895, 1, 2, 3, 4, 5, 6, 7, 9, 11, 12, 13, 14, 15, 16, 17, 18, 19, 20, 22, 23, 24, 25, 26, 27, 28, 29, 30, 31, 32, 33, 34, 35, 36, 37, 38, 39, 40, 42, 43, 45, 46, 47, 48, 49, 50, 51, 52, 53, 56, 57, 58, 59, 60, 61, 63, 64, 65, 66, 67, 68, 70, 71, 72, 73, 74, 75, 77, 78, 79, 80, 81, 83, 84, 85, 86, 87, 88, 89, 90, 91, 92, 93, 94, 95, 96, 97, 98, 99, 100, 101, 102, 103, 104, 105, 107, 109, 110, 112, 113, 114, 115, 116, 118, 119, 120, 121, 122, 123, 124, 125, 126, 127, 128, 129, 132, 133, 134, 135, 136, 137, 138, 139, 140, 141, 142, 143, 144, 145, 147, 148, 149, 150, 151, 152, 153, 154, 155, 156, 157, 158, 159, 160, 161, 162, 163, 164, 165, 166, 167, 168, 169, 170, 171, 172, 173, 174, 175, 176, 177, 178, 179, 180, 181, 182, 183, 184, 185, 186, 187, 188, 189, 191, 192, 193, 194, 195, 196, 197, 200], 'Problem_139_output_670': [0.96, 1, 2, 4, 5, 6, 7, 8, 9, 10, 11, 12, 13, 14, 15, 16, 17, 18, 19, 20, 21, 22, 23, 24, 25, 26, 28, 29, 30, 31, 32, 33, 34, 35, 36, 37, 38, 39, 40, 41, 42, 43, 44, 45, 46, 47, 48, 49, 50, 51, 52, 53, 54, 55, 56, 57, 58, 59, 60, 61, 62, 63, 64, 65, 66, 67, 69, 70, 71, 72, 73, 74, 75, 76, 77, 78, 79, 80, 81, 82, 83, 84, 85, 86, 87, 88, 89, 90, 91, 92, 93, 94, 95, 96, 97, 98, 99, 100, 101, 102, 103, 104, 105, 106, 107, 108, 109, 110, 111, 112, 114, 115, 116, 118, 119, 120, 122, 123, 124, 125, 126, 127, 128, 129, 130, 131, 132, 133, 134, 135, 136, 138, 139, 140, 142, 143, 144, 145, 146, 147, 148, 149, 150, 151, 152, 153, 154, 155, 156, 157, 158, 159, 160, 161, 162, 163, 164, 165, 166, 167, 168, 169, 170, 171, 172, 173, 174, 175, 176, 177, 178, 179, 180, 181, 182, 183, 184, 185, 186, 187, 188, 189, 190, 191, 192, 193, 194, 195, 196, 197, 198, 199, 200], 'Problem_115_output_592': [0.775, 1, 2, 3, 6, 7, 8, 10, 12, 13, 14, 15, 16, 18, 19, 20, 21, 22, 23, 24, 26, 27, 28, 29, 30, 32, 33, 35, 37, 39, 41, 42, 44, 45, 46, 48, 49, 50, 51, 52, 53, 54, 55, 56, 57, 58, 59, 60, 61, 62, 63, 66, 67, 69, 70, 71, 72, 73, 74, 75, 76, 77, 78, 79, 80, 82, 85, 86, 88, 89, 90, 91, 92, 93, 94, 95, 96, 97, 98, 99, 100, 102, 103, 104, 105, 106, 107, 108, 109, 110, 111, 112, 113, 114, 115, 116, 117, 122, 123, 124, 125, 127, 130, 131, 132, 133, 135, 136, 138, 140, 145, 146, 147, 148, 149, 150, 151, 152, 153, 154, 155, 156, 157, 158, 159, 160, 161, 162, 163, 164, 165, 166, 167, 168, 169, 170, 171, 172, 174, 177, 178, 179, 182, 183, 184, 185, 186, 187, 189, 191, 192, 195, 196, 197, 199, 200], 'Problem_98_output_424': [0.525, 1, 4, 5, 7, 8, 9, 11, 13, 14, 15, 18, 23, 25, 28, 31, 32, 35, 36, 38, 40, 41, 42, 45, 46, 47, 49, 50, 52, 53, 54, 56, 57, 60, 61, 62, 63, 71, 73, 74, 75, 79, 80, 82, 83, 84, 85, 87, 88, 90, 91, 92, 93, 95, 97, 98, 99, 100, 101, 104, 105, 106, 107, 108, 109, 110, 113, 114, 115, 116, 117, 125, 130, 131, 136, 139, 143, 146, 153, 155, 158, 160, 161, 162, 163, 165, 168, 170, 172, 174, 175, 178, 179, 181, 182, 184, 186, 187, 190, 192, 193, 194, 195, 196, 198, 200], 'Problem_158_output_828': [0.30000000000000004, 6, 8, 12, 15, 19, 22, 25, 28, 33, 38, 40, 43, 52, 53, 65, 66, 75, 76, 81, 84, 85, 87, 88, 92, 98, 100, 106, 107, 111, 113, 120, 121, 127, 129, 135, 137, 138, 140, 143, 147, 150, 151, 154, 156, 161, 163, 164, 166, 167, 172, 173, 177, 182, 183, 185, 186, 192, 195, 198, 200], 'Problem_7_output_18': [1.0, 1, 2, 3, 4, 5, 6, 7, 8, 9, 10, 11, 12, 13, 14, 15, 16, 17, 18, 19, 20, 21, 22, 23, 24, 25, 26, 27, 28, 29, 30, 31, 32, 33, 34, 35, 36, 37, 38, 39, 40, 41, 42, 43, 44, 45, 46, 47, 48, 49, 50, 51, 52, 53, 54, 55, 56, 57, 58, 59, 60, 61, 62, 63, 64, 65, 66, 67, 68, 69, 70, 71, 72, 73, 74, 75, 76, 77, 78, 79, 80, 81, 82, 83, 84, 85, 86, 87, 88, 89, 90, 91, 92, 93, 94, 95, 96, 97, 98, 99, 100, 101, 102, 103, 104, 105, 106, 107, 108, 109, 110, 111, 112, 113, 114, 115, 116, 117, 118, 119, 120, 121, 122, 123, 124, 125, 126, 127, 128, 129, 130, 131, 132, 133, 134, 135, 136, 137, 138, 139, 140, 141, 142, 143, 144, 145, 146, 147, 148, 149, 150, 151, 152, 153, 154, 155, 156, 157, 158, 159, 160, 161, 162, 163, 164, 165, 166, 167, 168, 169, 170, 171, 172, 173, 174, 175, 176, 177, 178, 179, 180, 181, 182, 183, 184, 185, 186, 187, 188, 189, 190, 191, 192, 193, 194, 195, 196, 197, 198, 199, 200], 'Problem_139_output_671': [0.0], 'Problem_138_output_660': [0.845, 1, 2, 3, 4, 5, 6, 7, 8, 9, 10, 11, 12, 13, 14, 15, 16, 17, 18, 19, 20, 21, 22, 23, 24, 25, 26, 27, 30, 31, 32, 33, 34, 36, 37, 38, 39, 40, 41, 42, 43, 44, 45, 46, 47, 48, 49, 50, 51, 52, 54, 57, 58, 59, 60, 61, 62, 64, 66, 68, 69, 70, 71, 72, 73, 74, 75, 76, 77, 78, 79, 80, 81, 82, 83, 84, 85, 86, 87, 88, 89, 91, 92, 93, 94, 95, 96, 97, 98, 99, 100, 101, 102, 103, 104, 105, 106, 108, 109, 110, 111, 112, 113, 114, 116, 118, 119, 120, 121, 122, 123, 124, 125, 126, 128, 129, 130, 131, 132, 133, 134, 135, 136, 137, 138, 139, 140, 141, 142, 143, 144, 145, 146, 149, 152, 153, 155, 156, 157, 158, 161, 163, 165, 166, 167, 168, 169, 170, 171, 172, 173, 174, 175, 176, 177, 178, 179, 180, 181, 183, 185, 186, 187, 188, 190, 192, 194, 197, 199, 200], 'Problem_157_output_709': [0.75, 2, 4, 8, 9, 11, 13, 14, 15, 16, 17, 19, 20, 21, 22, 23, 24, 25, 26, 28, 29, 30, 31, 33, 34, 38, 39, 43, 44, 45, 47, 49, 50, 51, 52, 53, 57, 60, 61, 62, 63, 64, 66, 68, 69, 70, 71, 72, 73, 75, 78, 79, 80, 81, 82, 83, 84, 85, 86, 87, 89, 90, 91, 92, 93, 94, 95, 96, 97, 98, 101, 102, 106, 107, 108, 109, 110, 111, 112, 115, 116, 117, 118, 119, 120, 121, 123, 124, 125, 127, 129, 130, 131, 133, 134, 135, 136, 137, 138, 139, 141, 142, 143, 144, 145, 146, 147, 148, 149, 150, 152, 153, 154, 155, 156, 158, 160, 161, 162, 163, 164, 165, 166, 167, 169, 170, 171, 172, 174, 175, 176, 178, 179, 180, 181, 182, 183, 185, 186, 187, 188, 189, 190, 191, 192, 193, 194, 195, 196, 197, 198], 'Problem_36_output_198': [0.33499999999999996, 1, 5, 7, 8, 12, 13, 15, 16, 17, 18, 19, 20, 26, 27, 28, 29, 30, 31, 32, 34, 35, 36, 37, 38, 39, 40, 42, 45, 49, 50, 51, 58, 61, 69, 85, 113, 117, 122, 128, 129, 130, 134, 135, 137, 139, 140, 141, 142, 144, 146, 148, 151, 152, 158, 164, 166, 177, 179, 181, 183, 186, 187, 190, 195, 196, 198, 199], 'Problem_110_output_567': [0.0050000000000000044, 106], 'Problem_48_output_183': [0.08499999999999996, 28, 33, 41, 44, 45, 46, 71, 88, 113, 115, 117, 118, 120, 164, 170, 182, 184], 'Problem_158_output_823': [1.0, 1, 2, 3, 4, 5, 6, 7, 8, 9, 10, 11, 12, 13, 14, 15, 16, 17, 18, 19, 20, 21, 22, 23, 24, 25, 26, 27, 28, 29, 30, 31, 32, 33, 34, 35, 36, 37, 38, 39, 40, 41, 42, 43, 44, 45, 46, 47, 48, 49, 50, 51, 52, 53, 54, 55, 56, 57, 58, 59, 60, 61, 62, 63, 64, 65, 66, 67, 68, 69, 70, 71, 72, 73, 74, 75, 76, 77, 78, 79, 80, 81, 82, 83, 84, 85, 86, 87, 88, 89, 90, 91, 92, 93, 94, 95, 96, 97, 98, 99, 100, 101, 102, 103, 104, 105, 106, 107, 108, 109, 110, 111, 112, 113, 114, 115, 116, 117, 118, 119, 120, 121, 122, 123, 124, 125, 126, 127, 128, 129, 130, 131, 132, 133, 134, 135, 136, 137, 138, 139, 140, 141, 142, 143, 144, 145, 146, 147, 148, 149, 150, 151, 152, 153, 154, 155, 156, 157, 158, 159, 160, 161, 162, 163, 164, 165, 166, 167, 168, 169, 170, 171, 172, 173, 174, 175, 176, 177, 178, 179, 180, 181, 182, 183, 184, 185, 186, 187, 188, 189, 190, 191, 192, 193, 194, 195, 196, 197, 198, 199, 200], 'Problem_20_output_92': [0.0], 'Problem_160_output_739': [0.405, 4, 5, 18, 19, 24, 26, 28, 35, 40, 44, 45, 47, 48, 55, 56, 57, 58, 67, 68, 72, 73, 75, 77, 78, 83, 84, 85, 88, 89, 90, 91, 92, 93, 94, 95, 103, 104, 106, 107, 108, 109, 111, 116, 117, 122, 128, 130, 133, 135, 139, 140, 141, 142, 146, 148, 149, 151, 152, 153, 154, 155, 157, 160, 165, 166, 168, 173, 175, 176, 177, 178, 179, 182, 184, 185, 186, 187, 188, 189, 194, 198], 'Problem_61_output_261': [0.0], 'Problem_72_output_379': [1.0, 1, 2, 3, 4, 5, 6, 7, 8, 9, 10, 11, 12, 13, 14, 15, 16, 17, 18, 19, 20, 21, 22, 23, 24, 25, 26, 27, 28, 29, 30, 31, 32, 33, 34, 35, 36, 37, 38, 39, 40, 41, 42, 43, 44, 45, 46, 47, 48, 49, 50, 51, 52, 53, 54, 55, 56, 57, 58, 59, 60, 61, 62, 63, 64, 65, 66, 67, 68, 69, 70, 71, 72, 73, 74, 75, 76, 77, 78, 79, 80, 81, 82, 83, 84, 85, 86, 87, 88, 89, 90, 91, 92, 93, 94, 95, 96, 97, 98, 99, 100, 101, 102, 103, 104, 105, 106, 107, 108, 109, 110, 111, 112, 113, 114, 115, 116, 117, 118, 119, 120, 121, 122, 123, 124, 125, 126, 127, 128, 129, 130, 131, 132, 133, 134, 135, 136, 137, 138, 139, 140, 141, 142, 143, 144, 145, 146, 147, 148, 149, 150, 151, 152, 153, 154, 155, 156, 157, 158, 159, 160, 161, 162, 163, 164, 165, 166, 167, 168, 169, 170, 171, 172, 173, 174, 175, 176, 177, 178, 179, 180, 181, 182, 183, 184, 185, 186, 187, 188, 189, 190, 191, 192, 193, 194, 195, 196, 197, 198, 199, 200], 'Problem_50_output_286': [0.995, 1, 3, 4, 5, 6, 7, 8, 9, 10, 11, 12, 13, 14, 15, 16, 17, 18, 19, 20, 21, 22, 23, 24, 25, 26, 27, 28, 29, 30, 31, 32, 33, 34, 35, 36, 37, 38, 39, 40, 41, 42, 43, 44, 45, 46, 47, 48, 49, 50, 51, 52, 53, 54, 55, 56, 57, 58, 59, 60, 61, 62, 63, 64, 65, 66, 67, 68, 69, 70, 71, 72, 73, 74, 75, 76, 77, 78, 79, 80, 81, 82, 83, 84, 85, 86, 87, 88, 89, 90, 91, 92, 93, 94, 95, 96, 97, 98, 99, 100, 101, 102, 103, 104, 105, 106, 107, 108, 109, 110, 111, 112, 113, 114, 115, 116, 117, 118, 119, 120, 121, 122, 123, 124, 125, 126, 127, 128, 129, 130, 131, 132, 133, 134, 135, 136, 137, 138, 139, 140, 141, 142, 143, 144, 145, 146, 147, 148, 149, 150, 151, 152, 153, 154, 155, 156, 157, 158, 159, 160, 161, 162, 163, 164, 165, 166, 167, 168, 169, 170, 171, 172, 173, 174, 175, 176, 177, 178, 179, 180, 181, 182, 183, 184, 185, 186, 187, 188, 189, 190, 191, 192, 193, 194, 195, 196, 197, 198, 199, 200], 'Problem_158_output_814': [0.515, 1, 2, 3, 5, 6, 7, 8, 9, 10, 12, 13, 17, 18, 19, 21, 23, 24, 25, 26, 27, 28, 30, 31, 32, 33, 34, 35, 37, 38, 39, 41, 51, 53, 54, 56, 66, 67, 69, 76, 81, 84, 85, 87, 88, 89, 90, 91, 92, 93, 94, 97, 100, 105, 107, 108, 109, 111, 113, 121, 122, 124, 125, 127, 128, 129, 130, 134, 135, 136, 137, 138, 140, 141, 142, 143, 144, 145, 146, 149, 151, 152, 153, 154, 164, 166, 167, 168, 171, 172, 173, 176, 177, 178, 182, 183, 184, 185, 195, 196, 197, 198, 199, 200], 'Problem_159_output_837': [0.030000000000000027, 33, 58, 79, 103, 106, 187], 'Problem_26_output_121': [0.5549999999999999, 1, 3, 4, 5, 6, 8, 9, 10, 12, 13, 14, 16, 17, 18, 20, 21, 22, 25, 26, 29, 30, 31, 33, 34, 35, 37, 38, 39, 41, 42, 43, 44, 45, 46, 47, 48, 49, 50, 51, 52, 53, 54, 55, 56, 58, 60, 62, 64, 106, 107, 108, 109, 110, 111, 112, 113, 114, 115, 116, 117, 118, 120, 122, 123, 124, 125, 127, 129, 130, 131, 133, 134, 136, 137, 138, 140, 142, 144, 145, 146, 149, 152, 153, 154, 155, 156, 157, 158, 159, 160, 162, 163, 164, 165, 166, 167, 168, 169, 170, 171, 172, 173, 174, 175, 176, 177, 179, 180, 181, 183, 185], 'Problem_63_output_350': [0.32499999999999996, 2, 4, 5, 6, 8, 9, 10, 12, 13, 15, 16, 17, 19, 20, 21, 22, 23, 24, 25, 26, 27, 28, 29, 32, 39, 40, 41, 46, 48, 54, 55, 56, 60, 64, 95, 99, 101, 104, 105, 112, 113, 115, 117, 123, 125, 126, 127, 130, 133, 134, 139, 140, 145, 149, 151, 179, 181, 183, 184, 189, 190, 191, 193, 197, 200], 'Problem_160_output_741': [1.0, 1, 2, 3, 4, 5, 6, 7, 8, 9, 10, 11, 12, 13, 14, 15, 16, 17, 18, 19, 20, 21, 22, 23, 24, 25, 26, 27, 28, 29, 30, 31, 32, 33, 34, 35, 36, 37, 38, 39, 40, 41, 42, 43, 44, 45, 46, 47, 48, 49, 50, 51, 52, 53, 54, 55, 56, 57, 58, 59, 60, 61, 62, 63, 64, 65, 66, 67, 68, 69, 70, 71, 72, 73, 74, 75, 76, 77, 78, 79, 80, 81, 82, 83, 84, 85, 86, 87, 88, 89, 90, 91, 92, 93, 94, 95, 96, 97, 98, 99, 100, 101, 102, 103, 104, 105, 106, 107, 108, 109, 110, 111, 112, 113, 114, 115, 116, 117, 118, 119, 120, 121, 122, 123, 124, 125, 126, 127, 128, 129, 130, 131, 132, 133, 134, 135, 136, 137, 138, 139, 140, 141, 142, 143, 144, 145, 146, 147, 148, 149, 150, 151, 152, 153, 154, 155, 156, 157, 158, 159, 160, 161, 162, 163, 164, 165, 166, 167, 168, 169, 170, 171, 172, 173, 174, 175, 176, 177, 178, 179, 180, 181, 182, 183, 184, 185, 186, 187, 188, 189, 190, 191, 192, 193, 194, 195, 196, 197, 198, 199, 200], 'Problem_11_output_35': [0.0], 'Problem_108_output_561': [0.365, 1, 12, 15, 17, 19, 21, 22, 24, 30, 32, 33, 35, 37, 42, 43, 46, 49, 51, 52, 63, 64, 67, 68, 69, 74, 75, 76, 78, 82, 85, 87, 88, 90, 91, 101, 103, 104, 105, 108, 109, 111, 114, 117, 127, 128, 129, 134, 135, 141, 144, 145, 146, 151, 152, 156, 157, 159, 160, 167, 168, 170, 171, 179, 180, 182, 183, 190, 191, 193, 194, 196, 198, 200], 'Problem_147_output_707': [1.0, 1, 2, 3, 4, 5, 6, 7, 8, 9, 10, 11, 12, 13, 14, 15, 16, 17, 18, 19, 20, 21, 22, 23, 24, 25, 26, 27, 28, 29, 30, 31, 32, 33, 34, 35, 36, 37, 38, 39, 40, 41, 42, 43, 44, 45, 46, 47, 48, 49, 50, 51, 52, 53, 54, 55, 56, 57, 58, 59, 60, 61, 62, 63, 64, 65, 66, 67, 68, 69, 70, 71, 72, 73, 74, 75, 76, 77, 78, 79, 80, 81, 82, 83, 84, 85, 86, 87, 88, 89, 90, 91, 92, 93, 94, 95, 96, 97, 98, 99, 100, 101, 102, 103, 104, 105, 106, 107, 108, 109, 110, 111, 112, 113, 114, 115, 116, 117, 118, 119, 120, 121, 122, 123, 124, 125, 126, 127, 128, 129, 130, 131, 132, 133, 134, 135, 136, 137, 138, 139, 140, 141, 142, 143, 144, 145, 146, 147, 148, 149, 150, 151, 152, 153, 154, 155, 156, 157, 158, 159, 160, 161, 162, 163, 164, 165, 166, 167, 168, 169, 170, 171, 172, 173, 174, 175, 176, 177, 178, 179, 180, 181, 182, 183, 184, 185, 186, 187, 188, 189, 190, 191, 192, 193, 194, 195, 196, 197, 198, 199, 200], 'Problem_134_output_639': [0.915, 1, 2, 3, 4, 5, 6, 7, 8, 9, 10, 11, 12, 13, 14, 15, 16, 17, 19, 20, 21, 22, 23, 24, 25, 26, 28, 31, 32, 33, 34, 35, 36, 37, 38, 40, 41, 42, 44, 45, 46, 48, 49, 50, 51, 52, 54, 55, 56, 57, 58, 60, 61, 63, 64, 65, 66, 67, 69, 72, 73, 74, 75, 76, 78, 79, 80, 81, 82, 83, 84, 85, 86, 87, 88, 89, 90, 91, 93, 94, 96, 97, 98, 99, 100, 101, 102, 103, 104, 105, 106, 107, 108, 109, 110, 111, 112, 113, 114, 115, 116, 117, 118, 119, 120, 121, 122, 123, 124, 125, 126, 127, 128, 129, 130, 131, 132, 133, 134, 135, 136, 137, 138, 139, 140, 141, 142, 143, 144, 145, 146, 147, 149, 150, 151, 152, 153, 154, 155, 156, 157, 158, 159, 160, 161, 162, 163, 164, 165, 166, 167, 168, 169, 170, 171, 172, 173, 174, 175, 176, 177, 178, 179, 180, 181, 182, 183, 184, 185, 186, 187, 188, 189, 190, 191, 192, 193, 194, 195, 196, 197, 198, 199, 200], 'Problem_99_output_510': [0.17000000000000004, 2, 4, 6, 8, 31, 33, 35, 37, 39, 63, 65, 67, 69, 71, 94, 96, 98, 100, 102, 122, 124, 126, 128, 130, 149, 151, 152, 154, 156, 173, 175, 177, 179, 181], 'Problem_158_output_727': [0.96, 1, 2, 3, 4, 5, 6, 7, 8, 9, 10, 11, 12, 13, 14, 15, 16, 17, 18, 19, 20, 21, 22, 24, 25, 26, 27, 28, 29, 30, 31, 32, 33, 34, 35, 36, 37, 38, 39, 40, 41, 42, 43, 44, 45, 46, 47, 48, 49, 50, 51, 52, 53, 54, 55, 56, 57, 58, 59, 60, 61, 62, 63, 64, 65, 66, 67, 68, 69, 70, 71, 72, 73, 74, 75, 76, 77, 78, 79, 80, 81, 82, 83, 84, 85, 86, 88, 89, 90, 91, 92, 93, 94, 95, 96, 97, 98, 99, 100, 101, 102, 103, 104, 105, 106, 107, 108, 109, 110, 111, 112, 113, 114, 115, 116, 117, 118, 119, 120, 121, 122, 123, 124, 125, 126, 127, 128, 129, 130, 131, 132, 133, 135, 136, 137, 138, 139, 141, 142, 143, 144, 145, 146, 147, 148, 149, 150, 151, 152, 153, 154, 155, 156, 157, 158, 159, 160, 161, 162, 163, 164, 165, 166, 167, 168, 170, 171, 172, 173, 174, 175, 177, 178, 179, 180, 181, 182, 183, 184, 185, 186, 187, 188, 189, 190, 191, 192, 193, 194, 195, 197, 198, 200], 'Problem_84_output_443': [0.03500000000000003, 37, 42, 71, 89, 103, 186, 196], 'Problem_7_output_15': [1.0, 1, 2, 3, 4, 5, 6, 7, 8, 9, 10, 11, 12, 13, 14, 15, 16, 17, 18, 19, 20, 21, 22, 23, 24, 25, 26, 27, 28, 29, 30, 31, 32, 33, 34, 35, 36, 37, 38, 39, 40, 41, 42, 43, 44, 45, 46, 47, 48, 49, 50, 51, 52, 53, 54, 55, 56, 57, 58, 59, 60, 61, 62, 63, 64, 65, 66, 67, 68, 69, 70, 71, 72, 73, 74, 75, 76, 77, 78, 79, 80, 81, 82, 83, 84, 85, 86, 87, 88, 89, 90, 91, 92, 93, 94, 95, 96, 97, 98, 99, 100, 101, 102, 103, 104, 105, 106, 107, 108, 109, 110, 111, 112, 113, 114, 115, 116, 117, 118, 119, 120, 121, 122, 123, 124, 125, 126, 127, 128, 129, 130, 131, 132, 133, 134, 135, 136, 137, 138, 139, 140, 141, 142, 143, 144, 145, 146, 147, 148, 149, 150, 151, 152, 153, 154, 155, 156, 157, 158, 159, 160, 161, 162, 163, 164, 165, 166, 167, 168, 169, 170, 171, 172, 173, 174, 175, 176, 177, 178, 179, 180, 181, 182, 183, 184, 185, 186, 187, 188, 189, 190, 191, 192, 193, 194, 195, 196, 197, 198, 199, 200], 'Problem_57_output_317': [0.0], 'Problem_99_output_509': [1.0, 1, 2, 3, 4, 5, 6, 7, 8, 9, 10, 11, 12, 13, 14, 15, 16, 17, 18, 19, 20, 21, 22, 23, 24, 25, 26, 27, 28, 29, 30, 31, 32, 33, 34, 35, 36, 37, 38, 39, 40, 41, 42, 43, 44, 45, 46, 47, 48, 49, 50, 51, 52, 53, 54, 55, 56, 57, 58, 59, 60, 61, 62, 63, 64, 65, 66, 67, 68, 69, 70, 71, 72, 73, 74, 75, 76, 77, 78, 79, 80, 81, 82, 83, 84, 85, 86, 87, 88, 89, 90, 91, 92, 93, 94, 95, 96, 97, 98, 99, 100, 101, 102, 103, 104, 105, 106, 107, 108, 109, 110, 111, 112, 113, 114, 115, 116, 117, 118, 119, 120, 121, 122, 123, 124, 125, 126, 127, 128, 129, 130, 131, 132, 133, 134, 135, 136, 137, 138, 139, 140, 141, 142, 143, 144, 145, 146, 147, 148, 149, 150, 151, 152, 153, 154, 155, 156, 157, 158, 159, 160, 161, 162, 163, 164, 165, 166, 167, 168, 169, 170, 171, 172, 173, 174, 175, 176, 177, 178, 179, 180, 181, 182, 183, 184, 185, 186, 187, 188, 189, 190, 191, 192, 193, 194, 195, 196, 197, 198, 199, 200], 'Problem_96_output_499': [0.915, 1, 2, 3, 4, 5, 6, 7, 8, 9, 10, 11, 12, 13, 14, 15, 16, 17, 18, 19, 20, 21, 22, 23, 24, 25, 26, 27, 28, 29, 30, 33, 34, 35, 36, 37, 38, 39, 40, 41, 42, 43, 44, 45, 46, 47, 48, 49, 50, 51, 52, 53, 54, 55, 56, 57, 58, 60, 61, 62, 63, 64, 65, 66, 67, 68, 69, 70, 75, 76, 77, 78, 79, 80, 81, 82, 83, 84, 85, 86, 87, 89, 90, 91, 92, 93, 94, 95, 96, 97, 98, 100, 101, 102, 103, 104, 105, 106, 108, 109, 110, 111, 112, 113, 114, 115, 116, 117, 118, 119, 120, 121, 122, 123, 124, 125, 126, 127, 128, 129, 130, 131, 132, 133, 135, 136, 137, 138, 139, 141, 142, 143, 144, 145, 146, 147, 149, 150, 151, 153, 154, 155, 156, 157, 158, 159, 160, 161, 162, 163, 164, 165, 167, 168, 169, 170, 171, 172, 173, 174, 175, 176, 177, 178, 179, 180, 181, 182, 183, 184, 185, 187, 189, 190, 191, 192, 193, 194, 195, 196, 197, 198, 199, 200], 'Problem_118_output_599': [0.25, 4, 5, 17, 20, 21, 27, 29, 32, 33, 35, 42, 46, 52, 53, 54, 55, 58, 59, 60, 61, 73, 76, 80, 91, 97, 99, 103, 106, 110, 123, 127, 130, 133, 134, 143, 144, 147, 160, 161, 169, 172, 178, 179, 180, 183, 184, 187, 188, 189, 197], 'Problem_158_output_822': [0.0], 'Problem_94_output_488': [0.020000000000000018, 47, 68, 157, 184], 'Problem_42_output_237': [0.8888888888888888, 1, 2, 3, 4, 5, 6, 7, 8, 9, 12, 13, 14, 15, 16, 17, 18, 19, 20, 21, 22, 23, 24, 25, 26, 27, 28, 29, 30, 31, 32, 35, 36, 38, 39, 40, 41, 42, 43, 44, 45, 46, 47, 48, 49, 51, 52, 53, 54, 55, 56, 58, 59, 60, 61, 62, 63, 64, 65, 66, 67, 69, 70, 71, 72, 73, 74, 75, 76, 78, 79, 80, 81], 'Problem_152_output_783': [0.603448275862069, 1, 2, 4, 5, 8, 9, 10, 11, 12, 13, 14, 15, 16, 18, 19, 20, 21, 22, 25, 26, 28, 31, 32, 33, 34, 35, 36, 37, 38, 39, 41, 42, 44, 48, 49, 50, 51, 52, 53, 55, 56, 57, 59, 60, 61, 62, 64, 67, 68, 69, 70, 71, 72, 73, 74, 75, 76, 78, 79, 80, 81, 82, 84, 85, 86, 87, 91, 96, 98, 99, 100, 107, 108, 111, 112, 114, 115, 120, 124, 126, 127, 131, 134, 136, 138, 140, 141, 143, 144, 145, 147, 151, 152, 153, 154, 156, 158, 159, 164, 165, 167, 171, 172, 173, 174], 'Problem_13_output_45': [1.0, 1, 2, 3, 4, 5, 6, 7, 8, 9, 10, 11, 12, 13, 14, 15, 16, 17, 18, 19, 20, 21, 22, 23, 24, 25, 26, 27, 28, 29, 30, 31, 32, 33, 34, 35, 36, 37, 38, 39, 40, 41, 42, 43, 44, 45, 46, 47, 48, 49, 50, 51, 52, 53, 54, 55, 56, 57, 58, 59, 60, 61, 62, 63, 64, 65, 66, 67, 68, 69, 70, 71, 72, 73, 74, 75, 76, 77, 78, 79, 80, 81, 82, 83, 84, 85, 86, 87, 88, 89, 90, 91, 92, 93, 94, 95, 96, 97, 98, 99, 100, 101, 102, 103, 104, 105, 106, 107, 108, 109, 110, 111, 112, 113, 114, 115, 116, 117, 118, 119, 120, 121, 122, 123, 124, 125, 126, 127, 128, 129, 130, 131, 132, 133, 134, 135, 136, 137, 138, 139, 140, 141, 142, 143, 144, 145, 146, 147, 148, 149, 150, 151, 152, 153, 154, 155, 156, 157, 158, 159, 160, 161, 162, 163, 164, 165, 166, 167, 168, 169, 170, 171, 172, 173, 174, 175, 176, 177, 178, 179, 180, 181, 182, 183, 184, 185, 186, 187, 188, 189, 190, 191, 192, 193, 194, 195, 196, 197, 198, 199, 200], 'Problem_62_output_273': [0.0], 'Problem_19_output_84': [0.0], 'Problem_65_output_354': [1.0, 1, 2, 3, 4, 5, 6, 7, 8, 9, 10, 11, 12, 13, 14, 15, 16, 17, 18, 19, 20, 21, 22, 23, 24, 25, 26, 27, 28, 29, 30, 31, 32, 33, 34, 35, 36, 37, 38, 39, 40, 41, 42, 43, 44, 45, 46, 47, 48, 49, 50, 51, 52, 53, 54, 55, 56, 57, 58, 59, 60, 61, 62, 63, 64, 65, 66, 67, 68, 69, 70, 71, 72, 73, 74, 75, 76, 77, 78, 79, 80, 81, 82, 83, 84, 85, 86, 87, 88, 89, 90, 91, 92, 93, 94, 95, 96, 97, 98, 99, 100, 101, 102, 103, 104, 105, 106, 107, 108, 109, 110, 111, 112, 113, 114, 115, 116, 117, 118, 119, 120, 121, 122, 123, 124, 125, 126, 127, 128, 129, 130, 131, 132, 133, 134, 135, 136, 137, 138, 139, 140, 141, 142, 143, 144, 145, 146, 147, 148, 149, 150, 151, 152, 153, 154, 155, 156, 157, 158, 159, 160, 161, 162, 163, 164, 165, 166, 167, 168, 169, 170, 171, 172, 173, 174, 175, 176, 177, 178, 179, 180, 181, 182, 183, 184, 185, 186, 187, 188, 189, 190, 191, 192, 193, 194, 195, 196, 197, 198, 199, 200], 'Problem_30_output_134': [0.0], 'Problem_72_output_380': [1.0, 1, 2, 3, 4, 5, 6, 7, 8, 9, 10, 11, 12, 13, 14, 15, 16, 17, 18, 19, 20, 21, 22, 23, 24, 25, 26, 27, 28, 29, 30, 31, 32, 33, 34, 35, 36, 37, 38, 39, 40, 41, 42, 43, 44, 45, 46, 47, 48, 49, 50, 51, 52, 53, 54, 55, 56, 57, 58, 59, 60, 61, 62, 63, 64, 65, 66, 67, 68, 69, 70, 71, 72, 73, 74, 75, 76, 77, 78, 79, 80, 81, 82, 83, 84, 85, 86, 87, 88, 89, 90, 91, 92, 93, 94, 95, 96, 97, 98, 99, 100, 101, 102, 103, 104, 105, 106, 107, 108, 109, 110, 111, 112, 113, 114, 115, 116, 117, 118, 119, 120, 121, 122, 123, 124, 125, 126, 127, 128, 129, 130, 131, 132, 133, 134, 135, 136, 137, 138, 139, 140, 141, 142, 143, 144, 145, 146, 147, 148, 149, 150, 151, 152, 153, 154, 155, 156, 157, 158, 159, 160, 161, 162, 163, 164, 165, 166, 167, 168, 169, 170, 171, 172, 173, 174, 175, 176, 177, 178, 179, 180, 181, 182, 183, 184, 185, 186, 187, 188, 189, 190, 191, 192, 193, 194, 195, 196, 197, 198, 199, 200], 'Problem_78_output_416': [0.405, 1, 3, 4, 7, 10, 13, 15, 16, 17, 20, 21, 22, 23, 24, 25, 26, 27, 30, 31, 32, 33, 35, 36, 37, 38, 39, 40, 43, 47, 48, 49, 50, 52, 53, 56, 61, 64, 70, 71, 72, 78, 80, 82, 83, 87, 89, 91, 95, 97, 101, 103, 108, 111, 112, 115, 116, 119, 120, 121, 123, 125, 127, 129, 132, 134, 141, 143, 145, 148, 150, 157, 160, 161, 164, 167, 172, 180, 182, 184, 190, 193], 'Problem_160_output_746': [0.31499999999999995, 2, 3, 4, 5, 6, 10, 11, 13, 14, 15, 16, 17, 20, 21, 22, 23, 24, 25, 26, 27, 28, 30, 31, 32, 33, 34, 35, 36, 37, 38, 39, 40, 42, 43, 44, 45, 46, 47, 49, 50, 51, 52, 53, 54, 55, 56, 57, 58, 59, 60, 61, 62, 64, 66, 67, 68, 69, 70, 71, 72, 73, 74, 75], 'Problem_27_output_122': [0.22499999999999998, 2, 6, 12, 13, 22, 25, 31, 36, 42, 47, 51, 55, 59, 64, 68, 70, 71, 82, 85, 88, 89, 91, 92, 94, 100, 106, 116, 120, 124, 128, 131, 133, 135, 136, 138, 139, 149, 155, 158, 164, 177, 179, 186, 189, 197], 'Problem_62_output_272': [0.0], 'Problem_60_output_333': [0.0], 'Problem_37_output_207': [0.0], 'Problem_0_output_1': [0.0], 'Problem_17_output_75': [0.0], 'Problem_153_output_791': [0.995, 1, 2, 3, 4, 5, 6, 7, 8, 9, 10, 11, 12, 13, 14, 15, 16, 17, 18, 19, 20, 21, 22, 23, 24, 25, 26, 27, 28, 29, 30, 31, 32, 33, 34, 35, 36, 37, 38, 39, 40, 41, 42, 43, 44, 45, 46, 47, 48, 49, 50, 51, 52, 53, 54, 55, 56, 57, 58, 59, 60, 61, 62, 63, 64, 65, 66, 67, 69, 70, 71, 72, 73, 74, 75, 76, 77, 78, 79, 80, 81, 82, 83, 84, 85, 86, 87, 88, 89, 90, 91, 92, 93, 94, 95, 96, 97, 98, 99, 100, 101, 102, 103, 104, 105, 106, 107, 108, 109, 110, 111, 112, 113, 114, 115, 116, 117, 118, 119, 120, 121, 122, 123, 124, 125, 126, 127, 128, 129, 130, 131, 132, 133, 134, 135, 136, 137, 138, 139, 140, 141, 142, 143, 144, 145, 146, 147, 148, 149, 150, 151, 152, 153, 154, 155, 156, 157, 158, 159, 160, 161, 162, 163, 164, 165, 166, 167, 168, 169, 170, 171, 172, 173, 174, 175, 176, 177, 178, 179, 180, 181, 182, 183, 184, 185, 186, 187, 188, 189, 190, 191, 192, 193, 194, 195, 196, 197, 198, 199, 200], 'Problem_144_output_690': [1.0, 1, 2, 3, 4, 5, 6, 7, 8, 9, 10, 11, 12, 13, 14, 15, 16, 17, 18, 19, 20, 21, 22, 23, 24, 25, 26, 27, 28, 29, 30, 31, 32, 33, 34, 35, 36, 37, 38, 39, 40, 41, 42, 43, 44, 45, 46, 47, 48, 49, 50, 51, 52, 53, 54, 55, 56, 57, 58, 59, 60, 61, 62, 63, 64, 65, 66, 67, 68, 69, 70, 71, 72, 73, 74, 75, 76, 77, 78, 79, 80, 81, 82, 83, 84, 85, 86, 87, 88, 89, 90, 91, 92, 93, 94, 95, 96, 97, 98, 99, 100, 101, 102, 103, 104, 105, 106, 107, 108, 109, 110, 111, 112, 113, 114, 115, 116, 117, 118, 119, 120, 121, 122, 123, 124, 125, 126, 127, 128, 129, 130, 131, 132, 133, 134, 135, 136, 137, 138, 139, 140, 141, 142, 143, 144, 145, 146, 147, 148, 149, 150, 151, 152, 153, 154, 155, 156, 157, 158, 159, 160, 161, 162, 163, 164, 165, 166, 167, 168, 169, 170, 171, 172, 173, 174, 175, 176, 177, 178, 179, 180, 181, 182, 183, 184, 185, 186, 187, 188, 189, 190, 191, 192, 193, 194, 195, 196, 197, 198, 199, 200], 'Problem_23_output_115': [0.16500000000000004, 11, 12, 18, 26, 37, 39, 41, 42, 43, 48, 58, 61, 70, 71, 72, 76, 80, 85, 91, 97, 101, 106, 107, 108, 110, 111, 112, 113, 116, 139, 150, 174, 178], 'Problem_13_output_43': [0.96, 1, 2, 3, 4, 5, 6, 7, 8, 9, 11, 12, 13, 14, 16, 17, 18, 19, 20, 21, 22, 23, 24, 25, 26, 27, 28, 29, 30, 31, 32, 33, 34, 35, 36, 37, 38, 39, 40, 41, 42, 43, 44, 45, 46, 47, 48, 49, 50, 51, 52, 53, 54, 55, 56, 57, 58, 59, 60, 61, 62, 63, 64, 65, 66, 67, 68, 69, 70, 71, 72, 73, 74, 75, 76, 77, 78, 79, 80, 81, 82, 83, 84, 85, 86, 87, 88, 89, 90, 91, 92, 93, 95, 96, 97, 98, 99, 100, 101, 102, 104, 105, 106, 107, 108, 110, 111, 112, 113, 114, 115, 116, 117, 118, 120, 121, 122, 123, 124, 125, 126, 127, 128, 129, 130, 131, 132, 133, 134, 135, 136, 137, 138, 139, 140, 141, 142, 143, 144, 145, 146, 147, 148, 149, 150, 151, 152, 153, 154, 155, 156, 157, 158, 159, 160, 161, 162, 163, 164, 165, 166, 167, 168, 169, 170, 171, 172, 173, 174, 175, 176, 177, 178, 179, 180, 181, 182, 184, 185, 187, 188, 189, 190, 191, 192, 193, 194, 195, 196, 197, 198, 199, 200], 'Problem_117_output_595': [0.375, 1, 2, 8, 9, 13, 17, 19, 24, 30, 33, 37, 39, 43, 52, 60, 61, 62, 65, 67, 69, 76, 80, 88, 90, 92, 93, 94, 95, 96, 97, 100, 102, 103, 108, 109, 110, 113, 114, 115, 117, 119, 120, 121, 123, 124, 125, 127, 128, 130, 131, 133, 134, 136, 138, 139, 141, 147, 150, 156, 159, 160, 167, 171, 173, 177, 178, 179, 181, 186, 188, 190, 192, 195, 196, 199], 'Problem_157_output_813': [0.985, 2, 3, 4, 5, 6, 7, 8, 9, 10, 11, 12, 13, 14, 15, 16, 17, 18, 19, 20, 21, 22, 23, 24, 25, 26, 27, 28, 29, 30, 31, 32, 33, 34, 35, 36, 37, 38, 39, 40, 41, 42, 43, 44, 45, 46, 47, 48, 49, 50, 51, 52, 53, 54, 55, 56, 57, 58, 59, 60, 61, 62, 63, 64, 65, 66, 67, 68, 69, 70, 71, 72, 73, 74, 75, 76, 77, 78, 79, 80, 81, 82, 83, 84, 85, 86, 87, 88, 89, 90, 91, 92, 93, 94, 95, 96, 97, 98, 99, 100, 101, 102, 103, 104, 105, 106, 107, 108, 109, 110, 111, 112, 113, 114, 115, 116, 117, 118, 119, 120, 121, 122, 123, 124, 125, 126, 127, 128, 129, 130, 131, 132, 133, 134, 135, 136, 137, 138, 139, 140, 141, 142, 143, 144, 145, 146, 147, 148, 149, 150, 151, 152, 153, 154, 155, 156, 157, 158, 159, 160, 161, 162, 163, 164, 165, 166, 167, 168, 169, 170, 171, 172, 173, 174, 175, 176, 177, 178, 179, 180, 181, 182, 183, 184, 185, 186, 187, 188, 189, 190, 191, 192, 193, 194, 195, 196, 197, 198], 'Problem_60_output_336': [0.825, 2, 3, 4, 5, 6, 7, 8, 9, 10, 11, 12, 13, 14, 15, 16, 17, 18, 19, 20, 21, 22, 23, 24, 25, 26, 27, 28, 29, 30, 32, 33, 34, 35, 37, 38, 39, 40, 41, 43, 44, 45, 46, 48, 49, 50, 51, 53, 54, 55, 56, 57, 58, 59, 60, 61, 62, 63, 67, 68, 69, 70, 71, 73, 74, 75, 76, 77, 78, 79, 81, 82, 83, 85, 86, 87, 88, 90, 91, 92, 93, 94, 95, 96, 97, 101, 102, 103, 104, 106, 107, 108, 109, 110, 111, 112, 113, 114, 115, 117, 118, 119, 120, 124, 125, 126, 127, 129, 130, 131, 132, 133, 134, 135, 136, 137, 139, 140, 144, 145, 146, 147, 149, 150, 151, 152, 153, 154, 155, 156, 157, 158, 159, 160, 161, 165, 167, 168, 170, 171, 172, 173, 174, 175, 176, 177, 178, 179, 180, 181, 184, 185, 186, 187, 188, 189, 190, 191, 192, 193, 194, 195, 197, 198, 199, 200], 'Problem_146_output_703': [0.0], 'Problem_82_output_433': [0.0], 'Problem_116_output_594': [0.0], 'Problem_17_output_67': [0.0], 'Problem_158_output_833': [0.0], 'Problem_0_output_0': [0.20999999999999996, 1, 2, 4, 6, 7, 8, 9, 10, 11, 13, 14, 17, 18, 31, 33, 35, 48, 56, 70, 83, 86, 87, 95, 101, 103, 104, 109, 110, 114, 120, 123, 144, 145, 146, 147, 159, 160, 168, 170, 171, 185, 198], 'Problem_62_output_343': [0.74, 1, 2, 4, 5, 6, 8, 10, 11, 12, 15, 16, 21, 24, 26, 29, 30, 31, 34, 35, 36, 37, 38, 39, 40, 41, 42, 43, 45, 46, 47, 48, 49, 51, 52, 53, 56, 57, 60, 62, 63, 64, 65, 66, 67, 68, 69, 70, 71, 72, 74, 75, 77, 78, 80, 82, 83, 84, 85, 86, 87, 88, 89, 90, 91, 92, 93, 94, 95, 96, 97, 98, 99, 100, 101, 102, 103, 104, 105, 106, 107, 108, 109, 110, 112, 114, 115, 116, 117, 119, 120, 121, 123, 125, 126, 127, 128, 129, 131, 134, 137, 138, 139, 140, 141, 142, 143, 144, 145, 147, 150, 152, 153, 154, 155, 156, 157, 158, 159, 160, 161, 162, 163, 164, 166, 167, 168, 169, 171, 172, 173, 174, 175, 176, 177, 178, 180, 181, 182, 183, 184, 185, 186, 187, 188, 189, 190, 191, 199], 'Problem_37_output_206': [0.6, 2, 3, 4, 5, 6, 7, 8, 9, 10, 11, 13, 15, 16, 17, 18, 19, 20, 23, 24, 25, 26, 27, 29, 32, 34, 35, 37, 39, 40, 41, 43, 44, 45, 46, 48, 49, 50, 51, 53, 55, 56, 57, 60, 61, 62, 66, 67, 71, 72, 76, 77, 79, 80, 82, 83, 85, 88, 93, 94, 98, 99, 100, 103, 104, 105, 108, 109, 110, 112, 113, 115, 116, 118, 120, 125, 126, 127, 129, 133, 136, 139, 140, 141, 143, 145, 147, 148, 150, 152, 154, 155, 157, 159, 162, 163, 164, 165, 167, 169, 170, 173, 174, 175, 176, 177, 179, 180, 182, 183, 184, 185, 187, 189, 190, 191, 193, 194, 196, 197, 199]}\n"
     ]
    }
   ],
   "source": [
    "import  json\n",
    "\n",
    "with open('output_logical_error_rate.json', 'r') as f:\n",
    "    data = json.load(f)\n",
    "print(data)"
   ]
  },
  {
   "cell_type": "code",
   "execution_count": 24,
   "metadata": {},
   "outputs": [
    {
     "name": "stdout",
     "output_type": "stream",
     "text": [
      "perfect_code 199\n",
      "Error_code 166\n",
      "Unstable_code 429\n",
      "total sum 794\n",
      "compile_error 61\n",
      "runtime_error 12\n",
      "test_case_error - 6?\n"
     ]
    }
   ],
   "source": [
    "perfect_code = 0\n",
    "Error_code = 0\n",
    "Unstable_code = 0\n",
    "\n",
    "unstable_ratio = []\n",
    "Error_file = []\n",
    "\n",
    "for key, value in data.items():\n",
    "    if value[0] == 0.0:\n",
    "        perfect_code += 1\n",
    "    elif value[0] == 1.0:\n",
    "        Error_code += 1\n",
    "        Error_file.append(key)\n",
    "    else:\n",
    "        Unstable_code += 1\n",
    "        unstable_ratio.append(value[0])\n",
    "\n",
    "print(f'perfect_code {perfect_code}')\n",
    "print(f'Error_code {Error_code}')\n",
    "print(f'Unstable_code {Unstable_code}')\n",
    "print(f'total sum {perfect_code + Error_code + Unstable_code}')\n",
    "print(f'compile_error {len(error_list)}')\n",
    "print(f'runtime_error {len(time_out_list)}')"
   ]
  },
  {
   "cell_type": "code",
   "execution_count": 20,
   "metadata": {},
   "outputs": [
    {
     "name": "stdout",
     "output_type": "stream",
     "text": [
      "Error Code ['Problem_144_gold_690', 'Problem_46_gold_170', 'Problem_31_gold_140', 'Problem_39_gold_220', 'Problem_13_gold_54', 'Problem_104_gold_534', 'Problem_130_gold_625', 'Problem_158_gold_816', 'Problem_27_gold_130', 'Problem_154_gold_792', 'Problem_16_gold_66', 'Problem_31_gold_141', 'Problem_52_gold_292', 'Problem_39_gold_217', 'Problem_72_gold_379', 'Problem_72_gold_380', 'Problem_37_gold_205', 'Problem_158_gold_713', 'Problem_39_gold_221', 'Problem_39_gold_218', 'Problem_79_gold_418', 'Problem_155_gold_800', 'Problem_16_gold_65', 'Problem_13_gold_39', 'Problem_72_gold_381', 'Problem_94_gold_487', 'Problem_72_gold_378', 'Problem_152_gold_778', 'Problem_88_gold_465', 'Problem_13_gold_53', 'Problem_154_gold_793', 'Problem_128_gold_620', 'Problem_39_gold_214', 'Problem_39_gold_216', 'Problem_152_gold_782', 'Problem_13_gold_45', 'Problem_13_gold_49', 'Problem_130_gold_623', 'Problem_104_gold_535', 'Problem_16_gold_64', 'Problem_106_gold_550', 'Problem_27_gold_123', 'Problem_158_gold_721', 'Problem_39_gold_215', 'Problem_130_gold_624', 'Problem_133_gold_635', 'Problem_46_gold_247', 'Problem_37_gold_208', 'Problem_139_gold_663', 'Problem_79_gold_357', 'Problem_16_gold_63', 'Problem_158_gold_824']\n",
      "['104', '104', '106', '128', '13', '13', '13', '13', '13', '130', '130', '130', '133', '139', '144', '152', '152', '154', '154', '155', '158', '158', '158', '158', '16', '16', '16', '16', '27', '27', '31', '31', '37', '37', '39', '39', '39', '39', '39', '39', '39', '46', '46', '52', '72', '72', '72', '72', '79', '79', '88', '94']\n"
     ]
    }
   ],
   "source": [
    "print(f'Error Code {Error_file}')\n",
    "Error_Program_count = []\n",
    "for error in Error_file:\n",
    "    Error_Program_count.append(error.split('_')[1]) \n",
    "Error_Program_count.sort()\n",
    "print(Error_Program_count)"
   ]
  },
  {
   "cell_type": "code",
   "execution_count": 22,
   "metadata": {},
   "outputs": [
    {
     "name": "stdout",
     "output_type": "stream",
     "text": [
      "[0.0050000000000000044, 0.0050000000000000044, 0.0050000000000000044, 0.0050000000000000044, 0.0050000000000000044, 0.0050000000000000044, 0.0050000000000000044, 0.0050000000000000044, 0.0050000000000000044, 0.015000000000000013, 0.025000000000000022, 0.025000000000000022, 0.025000000000000022, 0.030000000000000027, 0.030000000000000027, 0.030000000000000027, 0.030000000000000027, 0.030000000000000027, 0.030000000000000027, 0.030000000000000027, 0.03500000000000003, 0.03500000000000003, 0.040000000000000036, 0.04081632653061229, 0.04500000000000004, 0.050000000000000044, 0.050000000000000044, 0.05500000000000005, 0.06000000000000005, 0.06000000000000005, 0.07499999999999996, 0.07499999999999996, 0.09499999999999997, 0.09999999999999998, 0.11499999999999999, 0.125, 0.14, 0.14, 0.14, 0.15000000000000002, 0.17000000000000004, 0.17500000000000004, 0.17500000000000004, 0.18000000000000005, 0.1853932584269663, 0.1853932584269663, 0.18999999999999995, 0.19499999999999995, 0.20999999999999996, 0.20999999999999996, 0.21999999999999997, 0.28, 0.29000000000000004, 0.30000000000000004, 0.31000000000000005, 0.355, 0.355, 0.375, 0.375, 0.39, 0.41000000000000003, 0.41000000000000003, 0.43000000000000005, 0.43000000000000005, 0.43999999999999995, 0.45999999999999996, 0.505, 0.52, 0.52, 0.5549999999999999, 0.585, 0.5919540229885057, 0.5919540229885057, 0.605, 0.605, 0.615, 0.615, 0.62, 0.62, 0.6206896551724138, 0.625, 0.625, 0.625, 0.635, 0.64, 0.64, 0.645, 0.645, 0.655, 0.675, 0.7150000000000001, 0.7150000000000001, 0.735, 0.745, 0.755, 0.78, 0.78, 0.78, 0.78, 0.79, 0.8049999999999999, 0.825, 0.825, 0.83, 0.85, 0.85, 0.85, 0.85, 0.88, 0.88, 0.895, 0.895, 0.915, 0.915, 0.94, 0.95, 0.955, 0.955, 0.965, 0.965, 0.98, 0.98, 0.99, 0.99, 0.99, 0.995, 0.995, 0.995, 0.995, 0.995, 0.995]\n"
     ]
    }
   ],
   "source": [
    "unstable_ratio.sort()\n",
    "print(unstable_ratio)"
   ]
  },
  {
   "cell_type": "code",
   "execution_count": null,
   "metadata": {},
   "outputs": [],
   "source": []
  }
 ],
 "metadata": {
  "kernelspec": {
   "display_name": "coderepair",
   "language": "python",
   "name": "python3"
  },
  "language_info": {
   "codemirror_mode": {
    "name": "ipython",
    "version": 3
   },
   "file_extension": ".py",
   "mimetype": "text/x-python",
   "name": "python",
   "nbconvert_exporter": "python",
   "pygments_lexer": "ipython3",
   "version": "3.9.18"
  }
 },
 "nbformat": 4,
 "nbformat_minor": 2
}
