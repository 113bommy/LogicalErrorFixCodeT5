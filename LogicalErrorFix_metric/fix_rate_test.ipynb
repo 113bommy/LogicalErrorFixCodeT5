{
 "cells": [
  {
   "cell_type": "code",
   "execution_count": 40,
   "metadata": {},
   "outputs": [],
   "source": [
    "import os\n",
    "import json\n",
    "\n",
    "with open('source_logical_error_rate.json', 'r') as f:\n",
    "    source_data = json.load(f)\n",
    "\n",
    "with open('output_logical_error_rate.json', 'r') as f1:\n",
    "    output_data = json.load(f1)"
   ]
  },
  {
   "cell_type": "code",
   "execution_count": 60,
   "metadata": {},
   "outputs": [],
   "source": [
    "import numpy as np\n",
    "\n",
    "PerfectSourceList = []\n",
    "NoneChangeList = []\n",
    "EnhanceList = []\n",
    "WorseList = []\n",
    "CompileErrorList = []\n",
    "\n",
    "for source_key, source_value in source_data.items():\n",
    "    source_problem = int(source_key.split(\"_\")[1])\n",
    "    source_index = int(source_key.split(\"_\")[3])\n",
    "    # print(f'{source_problem} {source_index}')\n",
    "    source_error_rate = source_value[0]\n",
    "    if source_error_rate == 0.0:\n",
    "        PerfectSourceList.append([source_problem, source_index])\n",
    "        continue\n",
    "    \n",
    "    for index, output in enumerate(output_data.items()):\n",
    "        output_key, output_value = output\n",
    "        output_problem = int(output_key.split(\"_\")[1])\n",
    "        output_index = int(output_key.split(\"_\")[3])\n",
    "        # print(f'{output_problem} {output_index}')\n",
    "        output_error_rate = output_value[0]\n",
    "\n",
    "        if (source_problem == output_problem) & (source_index == output_index):\n",
    "            if(output_error_rate == source_error_rate):\n",
    "                NoneChangeList.append([source_problem, output_index])\n",
    "            elif (output_error_rate < source_error_rate):\n",
    "                EnhanceList.append([source_problem, output_index, output_error_rate, source_error_rate])\n",
    "            else:\n",
    "                WorseList.append([source_problem, output_index, output_error_rate, source_error_rate])\n",
    "            break\n",
    "\n",
    "        if index == len(output_data) - 1:\n",
    "            CompileErrorList.append([source_problem, output_index])"
   ]
  },
  {
   "cell_type": "code",
   "execution_count": 62,
   "metadata": {},
   "outputs": [
    {
     "name": "stdout",
     "output_type": "stream",
     "text": [
      "202\n",
      "324\n",
      "125\n",
      "152\n",
      "45\n"
     ]
    }
   ],
   "source": [
    "print(len(PerfectSourceList))\n",
    "print(len(NoneChangeList))\n",
    "print(len(EnhanceList))\n",
    "print(len(WorseList))\n",
    "print(len(CompileErrorList))"
   ]
  },
  {
   "cell_type": "code",
   "execution_count": 53,
   "metadata": {},
   "outputs": [
    {
     "name": "stdout",
     "output_type": "stream",
     "text": [
      "848\n",
      "794\n"
     ]
    }
   ],
   "source": [
    "print(len(source_data))\n",
    "print(len(output_data))"
   ]
  },
  {
   "cell_type": "code",
   "execution_count": 63,
   "metadata": {},
   "outputs": [
    {
     "name": "stdout",
     "output_type": "stream",
     "text": [
      "Fix ratio 0.19349845201238391\n"
     ]
    }
   ],
   "source": [
    "print(f\"Fix ratio {len(EnhanceList)/(len(source_data) - len(PerfectSourceList))}\")"
   ]
  },
  {
   "cell_type": "code",
   "execution_count": 58,
   "metadata": {},
   "outputs": [
    {
     "name": "stdout",
     "output_type": "stream",
     "text": [
      "[[0, 1, 0.0, 0.010000000000000009], [102, 530, 0.0, 0.44999999999999996], [105, 537, 0.0, 0.995], [106, 543, 0.0, 1.0], [106, 548, 0.0, 1.0], [108, 562, 0.010000000000000009, 0.35], [10, 29, 0.0, 0.0050000000000000044], [115, 591, 0.0, 0.0050000000000000044], [117, 595, 0.375, 0.39], [117, 598, 0.37, 0.39], [119, 600, 0.945, 1.0], [119, 601, 0.62, 0.745], [119, 603, 0.65, 0.665], [131, 627, 0.625, 0.72], [133, 635, 0.0, 1.0], [136, 645, 0.0, 0.0050000000000000044], [139, 663, 0.975, 1.0], [139, 668, 0.0, 0.96], [139, 669, 0.0, 0.96], [139, 671, 0.0, 0.96], [139, 672, 0.0, 0.96], [139, 673, 0.0, 0.985], [13, 40, 0.0, 0.28], [13, 41, 0.0, 1.0], [13, 42, 0.0, 1.0], [13, 44, 0.0, 1.0], [13, 46, 0.0, 1.0], [13, 52, 0.0, 0.28], [13, 55, 0.0, 0.28], [141, 678, 0.0, 0.015000000000000013], [141, 680, 0.0, 0.595], [148, 761, 0.07499999999999996, 0.09499999999999997], [155, 798, 0.0, 0.8064516129032258], [157, 811, 0.0, 0.995], [158, 713, 0.45499999999999996, 1.0], [158, 816, 0.45499999999999996, 1.0], [159, 733, 0.030000000000000027, 0.040000000000000036], [159, 735, 0.03500000000000003, 0.04500000000000004], [15, 58, 0.06499999999999995, 0.09999999999999998], [15, 60, 0.16000000000000003, 0.18999999999999995], [15, 61, 0.0, 0.18999999999999995], [160, 737, 0.0, 0.025000000000000022], [160, 738, 0.0, 0.48], [160, 744, 0.0, 0.605], [160, 745, 0.0, 0.025000000000000022], [160, 746, 0.31499999999999995, 0.635], [160, 747, 0.0, 0.48], [160, 840, 0.0, 0.025000000000000022], [160, 841, 0.0, 0.48], [160, 847, 0.0, 0.605], [160, 848, 0.0, 0.025000000000000022], [160, 849, 0.31499999999999995, 0.635], [160, 850, 0.0, 0.48], [161, 750, 0.0, 1.0], [161, 853, 0.0, 1.0], [162, 752, 0.0, 0.14], [162, 854, 0.0, 0.14], [163, 755, 0.0, 0.72], [163, 857, 0.0, 0.72], [164, 757, 0.0, 0.050561797752809], [164, 859, 0.0, 0.050561797752809], [17, 72, 0.0, 0.375], [19, 84, 0.0, 0.22499999999999998], [1, 4, 0.030000000000000027, 1.0], [1, 5, 0.575, 1.0], [1, 6, 0.43999999999999995, 1.0], [1, 8, 0.29000000000000004, 1.0], [26, 120, 0.0, 0.5549999999999999], [28, 131, 0.99, 1.0], [30, 138, 0.0, 0.6599999999999999], [37, 207, 0.0, 0.99], [40, 148, 0.0, 1.0], [40, 227, 0.0, 1.0], [42, 159, 0.8888888888888888, 0.9012345679012346], [42, 237, 0.8888888888888888, 0.9012345679012346], [45, 166, 0.0, 0.32999999999999996], [45, 167, 0.0, 0.81], [45, 244, 0.0, 0.81], [46, 173, 0.0, 0.37], [46, 250, 0.0, 0.37], [47, 177, 0.010000000000000009, 0.015000000000000013], [48, 178, 0.0, 0.08499999999999996], [48, 179, 0.0, 0.725], [48, 180, 0.0, 1.0], [48, 183, 0.08499999999999996, 0.46499999999999997], [48, 254, 0.0, 0.08499999999999996], [48, 255, 0.0, 0.725], [48, 256, 0.0, 1.0], [48, 259, 0.08499999999999996, 0.46499999999999997], [53, 295, 0.0, 0.10499999999999998], [53, 298, 0.745, 0.75], [55, 304, 0.0, 0.7551020408163265], [55, 305, 0.061224489795918324, 0.7551020408163265], [57, 316, 0.0, 0.17000000000000004], [57, 317, 0.0, 0.030000000000000027], [57, 319, 0.0, 0.030000000000000027], [57, 320, 0.0, 0.29000000000000004], [58, 321, 0.0, 0.025000000000000022], [58, 323, 0.0, 0.815], [58, 324, 0.375, 1.0], [62, 270, 0.13, 0.625], [62, 272, 0.0, 0.020000000000000018], [62, 273, 0.0, 0.615], [62, 346, 0.13, 0.625], [62, 348, 0.0, 0.020000000000000018], [62, 349, 0.0, 0.615], [67, 362, 0.895, 0.955], [67, 363, 0.955, 0.965], [6, 13, 0.0, 1.0], [75, 386, 0.0050000000000000044, 0.03500000000000003], [75, 387, 0.0, 0.06999999999999995], [75, 393, 0.0, 0.10999999999999999], [76, 395, 0.0, 0.015000000000000013], [76, 400, 0.05500000000000005, 0.06000000000000005], [77, 404, 0.0, 1.0], [78, 407, 0.665, 1.0], [78, 409, 0.625, 0.995], [79, 358, 0.03500000000000003, 0.06000000000000005], [79, 419, 0.03500000000000003, 0.06000000000000005], [94, 484, 0.0, 0.020000000000000018], [94, 485, 0.0, 0.03500000000000003], [98, 430, 0.0, 0.475], [98, 507, 0.0, 0.475], [9, 22, 0.010000000000000009, 0.94], [9, 24, 0.0, 0.125]]\n"
     ]
    }
   ],
   "source": [
    "print(EnhanceList)"
   ]
  },
  {
   "cell_type": "code",
   "execution_count": 64,
   "metadata": {},
   "outputs": [
    {
     "name": "stdout",
     "output_type": "stream",
     "text": [
      "Perfect Fix Ratio 0.0015479876160990713\n",
      "Semi Fix Ratio 0.19195046439628483\n"
     ]
    }
   ],
   "source": [
    "Perfect_Fix = []\n",
    "Semi_Fix = []\n",
    "for data in EnhanceList:\n",
    "    if data[0] == 0.0:\n",
    "        Perfect_Fix.append(data[0:1])\n",
    "    else:\n",
    "        Semi_Fix.append(data[0:1])\n",
    "\n",
    "print(f'Perfect Fix Ratio {len(Perfect_Fix)/(len(source_data) - len(PerfectSourceList))}')\n",
    "print(f'Semi Fix Ratio {len(Semi_Fix)/(len(source_data) - len(PerfectSourceList))}')"
   ]
  },
  {
   "cell_type": "code",
   "execution_count": null,
   "metadata": {},
   "outputs": [],
   "source": []
  }
 ],
 "metadata": {
  "kernelspec": {
   "display_name": "codet5",
   "language": "python",
   "name": "python3"
  },
  "language_info": {
   "codemirror_mode": {
    "name": "ipython",
    "version": 3
   },
   "file_extension": ".py",
   "mimetype": "text/x-python",
   "name": "python",
   "nbconvert_exporter": "python",
   "pygments_lexer": "ipython3",
   "version": "3.9.18"
  }
 },
 "nbformat": 4,
 "nbformat_minor": 2
}
